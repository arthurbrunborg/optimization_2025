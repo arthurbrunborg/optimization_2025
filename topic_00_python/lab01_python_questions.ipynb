{
 "cells": [
  {
   "cell_type": "markdown",
   "id": "a8336e39",
   "metadata": {},
   "source": [
    "# Python basics\n",
    "\n",
    "## Introduction to optimization and operations research.\n",
    "\n",
    "Michel Bierlaire\n"
   ]
  },
  {
   "cell_type": "code",
   "execution_count": null,
   "id": "bbf63d4d",
   "metadata": {},
   "outputs": [],
   "source": [
    "\n",
    "import numpy as np\n",
    "from IPython.core.display_functions import display\n"
   ]
  },
  {
   "cell_type": "markdown",
   "id": "168363e3",
   "metadata": {},
   "source": [
    "# Introduction to Python features"
   ]
  },
  {
   "cell_type": "markdown",
   "id": "64fe69d9",
   "metadata": {},
   "source": [
    "In this notebook, you are asked to perform some exercises to start manipulating Python syntax.\n",
    "Replace the `...` by your code."
   ]
  },
  {
   "cell_type": "markdown",
   "id": "61818764",
   "metadata": {},
   "source": [
    "## Exercise 1: Temperature Conversion"
   ]
  },
  {
   "cell_type": "markdown",
   "id": "3b50cef3",
   "metadata": {},
   "source": [
    "Define a float variable `temp_celsius` as 100 (boiling point of water),\n",
    "and convert it to Fahrenheit using the formula:\n",
    "F = (9/5) * C + 32"
   ]
  },
  {
   "cell_type": "code",
   "execution_count": null,
   "id": "a40a028b",
   "metadata": {},
   "outputs": [],
   "source": [
    "temp_celsius: float = 100\n",
    "...\n",
    "print(f'Temperature in Fahrenheit: {temp_fahrenheit}')\n"
   ]
  },
  {
   "cell_type": "markdown",
   "id": "dff10305",
   "metadata": {},
   "source": [
    "## Exercise 2: Material Densities"
   ]
  },
  {
   "cell_type": "markdown",
   "id": "c6ffba01",
   "metadata": {},
   "source": [
    "Store the densities (in kg/m³) of concrete, steel, and glass in a list."
   ]
  },
  {
   "cell_type": "code",
   "execution_count": null,
   "id": "c0e9e540",
   "metadata": {},
   "outputs": [],
   "source": [
    "...\n",
    "print('Material densities (kg/m³):', densities)\n"
   ]
  },
  {
   "cell_type": "markdown",
   "id": "2b47f839",
   "metadata": {},
   "source": [
    "Add the density of granite to the list, then print it."
   ]
  },
  {
   "cell_type": "code",
   "execution_count": null,
   "id": "4da9d8a5",
   "metadata": {},
   "outputs": [],
   "source": [
    "...\n",
    "print('Material densities (kg/m³):', densities)\n"
   ]
  },
  {
   "cell_type": "markdown",
   "id": "d838896c",
   "metadata": {},
   "source": [
    "## Exercise 3: 2D Coordinate"
   ]
  },
  {
   "cell_type": "markdown",
   "id": "79cbe178",
   "metadata": {},
   "source": [
    "Define a 2D point as a tuple of floats.\n",
    "Try modifying a value to verify that tuples are immutable. As it should raise an exception, catch it and treat it."
   ]
  },
  {
   "cell_type": "code",
   "execution_count": null,
   "id": "e6844092",
   "metadata": {},
   "outputs": [],
   "source": [
    "point: tuple[float, float] = (1.0, 2.0)\n",
    "\n",
    "point[0] = 3\n",
    "\n",
    "\n",
    "print('2D point:', point)\n"
   ]
  },
  {
   "cell_type": "markdown",
   "id": "1c684006",
   "metadata": {},
   "source": [
    "## Exercise 4: Material Densities revisited"
   ]
  },
  {
   "cell_type": "markdown",
   "id": "56cd8f1b",
   "metadata": {},
   "source": [
    "Create a dictionary to store the densities (in kg/m³) of concrete, steel, glass, and granite.\n",
    "The name of each material must be associated with its density."
   ]
  },
  {
   "cell_type": "code",
   "execution_count": null,
   "id": "2341c263",
   "metadata": {},
   "outputs": [],
   "source": [
    "...\n",
    "\n",
    "\n",
    "\n",
    "\n",
    "\n",
    "print('Material densities', densities)\n"
   ]
  },
  {
   "cell_type": "markdown",
   "id": "e98da5b2",
   "metadata": {},
   "source": [
    "Loop on the items in the dictionary:"
   ]
  },
  {
   "cell_type": "code",
   "execution_count": null,
   "id": "c731da38",
   "metadata": {},
   "outputs": [],
   "source": [
    "for material, density in densities.items():\n",
    "    print(f'The density of {material} is {density}')\n"
   ]
  },
  {
   "cell_type": "markdown",
   "id": "c3dc78f8",
   "metadata": {},
   "source": [
    "## Exercise 5: Compute Factorials"
   ]
  },
  {
   "cell_type": "markdown",
   "id": "4c8e9955",
   "metadata": {},
   "source": [
    "Print the factorial of numbers from 1 to 5 using a for loop."
   ]
  },
  {
   "cell_type": "code",
   "execution_count": null,
   "id": "34ec4bae",
   "metadata": {},
   "outputs": [],
   "source": [
    "factorial: int = 1\n",
    "...\n",
    "\n",
    "\n"
   ]
  },
  {
   "cell_type": "markdown",
   "id": "12e7b3a2",
   "metadata": {},
   "source": [
    "## Exercise 6: Stress Calculation"
   ]
  },
  {
   "cell_type": "markdown",
   "id": "86b3c380",
   "metadata": {},
   "source": [
    "Given a force and a cross-sectional area, calculate the mechanical stress\n",
    "as the ratio between the force and the area"
   ]
  },
  {
   "cell_type": "code",
   "execution_count": null,
   "id": "772e0aee",
   "metadata": {},
   "outputs": [],
   "source": [
    "force: float = 150000.0  # in newtons\n",
    "area: float = 0.0005  # in m²\n",
    "...\n",
    "...\n",
    "...\n",
    "...\n",
    "...\n"
   ]
  },
  {
   "cell_type": "markdown",
   "id": "ba173163",
   "metadata": {},
   "source": [
    "## Exercise 7: Kinetic Energy Calculator"
   ]
  },
  {
   "cell_type": "markdown",
   "id": "310de841",
   "metadata": {},
   "source": [
    "Write a function to compute potential energy E_p = m * g * h"
   ]
  },
  {
   "cell_type": "code",
   "execution_count": null,
   "id": "f14fe6a2",
   "metadata": {},
   "outputs": [],
   "source": [
    " def potential_energy...\n",
    "\n",
    "\n",
    "\n",
    "\n",
    "\n",
    "print('Potential energy:', potential_energy(1000, 3), 'J')\n"
   ]
  },
  {
   "cell_type": "markdown",
   "id": "948cafae",
   "metadata": {},
   "source": [
    "## Exercise 8: Save Sensor Data"
   ]
  },
  {
   "cell_type": "markdown",
   "id": "7be60ed9",
   "metadata": {},
   "source": [
    "Suppose you are working with a sensor that records the displacement of an object at regular time intervals.\n",
    "Your task is to store these displacement values in a file so they can be saved for later use, and then read the\n",
    "values back from the file into your program.\n",
    "\n",
    "Workflow:\n",
    "\n",
    "1.\tYou collect a list of displacement values from the sensor (e.g., [0.5, 1.0, 2.5]).\n",
    "2.\tYou write this list to a file (so the data is stored permanently).\n",
    "3.\tLater, you read the file and reconstruct the list in Python to continue your analysis.\n",
    "4.  You verify that the reconstructed list is the same as the original one."
   ]
  },
  {
   "cell_type": "markdown",
   "id": "a7a85959",
   "metadata": {},
   "source": [
    "Step 1: Simulate some displacement data collected by a sensor"
   ]
  },
  {
   "cell_type": "code",
   "execution_count": null,
   "id": "e9bd975c",
   "metadata": {},
   "outputs": [],
   "source": [
    "displacements = [0.0, 1.2, 2.5, 3.7, 5.0]\n"
   ]
  },
  {
   "cell_type": "markdown",
   "id": "ef2b9adf",
   "metadata": {},
   "source": [
    "Step 2: Save the data to a text file"
   ]
  },
  {
   "cell_type": "code",
   "execution_count": null,
   "id": "9802e61c",
   "metadata": {},
   "outputs": [],
   "source": [
    "filename = \"displacements.txt\"\n",
    "...\n",
    "\n",
    "\n",
    "\n",
    "print(f\"Data saved to {filename}\")\n"
   ]
  },
  {
   "cell_type": "markdown",
   "id": "41646140",
   "metadata": {},
   "source": [
    "Step 3: Read the data back from the file"
   ]
  },
  {
   "cell_type": "code",
   "execution_count": null,
   "id": "e43d52d7",
   "metadata": {},
   "outputs": [],
   "source": [
    "loaded_displacements = []\n",
    "...\n",
    "\n",
    "\n",
    "\n",
    "print(\"Data loaded from file:\", loaded_displacements)\n"
   ]
  },
  {
   "cell_type": "markdown",
   "id": "8dedfb3c",
   "metadata": {},
   "source": [
    "Step 4: Verify the two lists are identical"
   ]
  },
  {
   "cell_type": "code",
   "execution_count": null,
   "id": "5a521938",
   "metadata": {},
   "outputs": [],
   "source": [
    "print(\"Check:\", displacements == loaded_displacements)\n"
   ]
  },
  {
   "cell_type": "markdown",
   "id": "c53b8948",
   "metadata": {},
   "source": [
    "## Exercise 9: Conductance Calculation"
   ]
  },
  {
   "cell_type": "markdown",
   "id": "06a5f4f0",
   "metadata": {},
   "source": [
    "Compute conductance G = 1 / R and handle division by zero."
   ]
  },
  {
   "cell_type": "code",
   "execution_count": null,
   "id": "70ef6b99",
   "metadata": {},
   "outputs": [],
   "source": [
    "R: float = 0.0\n",
    "\n",
    "G = ...\n",
    "\n",
    "\n"
   ]
  },
  {
   "cell_type": "markdown",
   "id": "fd8b54e3",
   "metadata": {},
   "source": [
    "## Exercise 10: Displacement Vector"
   ]
  },
  {
   "cell_type": "markdown",
   "id": "23328de3",
   "metadata": {},
   "source": [
    "Define a 3D vector and compute its norm. Consult the online documentation."
   ]
  },
  {
   "cell_type": "code",
   "execution_count": null,
   "id": "6a4ec72e",
   "metadata": {},
   "outputs": [],
   "source": [
    "d: np.ndarray = np.array([3.0, 4.0, 12.0])\n",
    "magnitude: float = ...\n",
    "print('Displacement vector magnitude:', magnitude)\n"
   ]
  },
  {
   "cell_type": "markdown",
   "id": "68a5bed8",
   "metadata": {},
   "source": [
    "## Exercise 11: Rotation Matrix"
   ]
  },
  {
   "cell_type": "markdown",
   "id": "224145c8",
   "metadata": {},
   "source": [
    "\n",
    "\n",
    "Define a 2×2 stress transformation matrix and apply it to a stress vector.\n",
    "In mechanics, a stress matrix (or stress tensor) represents the state of internal forces per unit area within a material.\n",
    "For a 2D case, it typically consists of normal stresses (σ_xx, σ_yy) and shear stress (σ_xy).\n",
    "This exercise simplifies the problem to a vector of two stress components and applies a transformation matrix that\n",
    "averages the original stress components based on the rotation angle θ.\n",
    "\n",
    "The transformation matrix used here corresponds to:\n",
    "\n",
    "T = \\begin{bmatrix}\n",
    "\\cos^2\\theta & \\sin^2\\theta \\\\\n",
    "\\sin^2\\theta & \\cos^2\\theta\n",
    "\\end{bmatrix}\n",
    "\n",
    "This matrix symmetrically rotates the components of stress along the principal directions."
   ]
  },
  {
   "cell_type": "code",
   "execution_count": null,
   "id": "b8d3a411",
   "metadata": {},
   "outputs": [],
   "source": [
    "theta: float = np.pi / 4\n",
    "...\n",
    "\n",
    "\n",
    "\n",
    "\n",
    "\n",
    "stress_vector: np.ndarray = np.array([100.0, 50.0])\n",
    "...\n",
    "print('Transformed stress vector:', transformed)\n"
   ]
  },
  {
   "cell_type": "markdown",
   "id": "6dd4f0cf",
   "metadata": {},
   "source": [
    "## Exercise 12: Solve Linear System"
   ]
  },
  {
   "cell_type": "markdown",
   "id": "0ca4407c",
   "metadata": {},
   "source": [
    "Solve the system: $2x_1 + x_2 = 3$, $x_1 + 3x_2 = 5$"
   ]
  },
  {
   "cell_type": "code",
   "execution_count": null,
   "id": "31f312ca",
   "metadata": {},
   "outputs": [],
   "source": [
    "A: np.ndarray = ...\n",
    "b: np.ndarray = ...\n",
    "solution: np.ndarray = ...\n",
    "print('x_1, x_2:', solution)\n"
   ]
  },
  {
   "cell_type": "markdown",
   "id": "60976402",
   "metadata": {},
   "source": [
    "## Exercise 13: Determinant and Area"
   ]
  },
  {
   "cell_type": "markdown",
   "id": "a877be2f",
   "metadata": {},
   "source": [
    "Use the determinant to compute area of a triangular surface."
   ]
  },
  {
   "cell_type": "code",
   "execution_count": null,
   "id": "a65ac2ae",
   "metadata": {},
   "outputs": [],
   "source": [
    "triangle: np.ndarray = np.array([[0, 0], [4, 0], [2, 3]])"
   ]
  },
  {
   "cell_type": "markdown",
   "id": "760bcc97",
   "metadata": {},
   "source": [
    "Compute vectors from the last vertex of the triangle to the other two, effectively using it as the origin."
   ]
  },
  {
   "cell_type": "code",
   "execution_count": null,
   "id": "f5c9eb26",
   "metadata": {},
   "outputs": [],
   "source": [
    " base_matrix: np.ndarray = ...\n",
    "\n",
    "\n",
    "print(f'Base matrix:\\n{base_matrix}')\n",
    "area: float = 0.5 * abs(np.linalg.det(base_matrix))  ###area = ...\n",
    "print('Area of triangle:', area)"
   ]
  }
 ],
 "metadata": {},
 "nbformat": 4,
 "nbformat_minor": 5
}
