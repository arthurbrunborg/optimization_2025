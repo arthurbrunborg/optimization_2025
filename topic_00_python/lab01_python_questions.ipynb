{
 "cells": [
  {
   "cell_type": "markdown",
   "id": "a8336e39",
   "metadata": {},
   "source": [
    "# Python basics\n",
    "\n",
    "## Introduction to optimization and operations research.\n",
    "\n",
    "Michel Bierlaire\n"
   ]
  },
  {
   "cell_type": "code",
   "execution_count": 2,
   "id": "bbf63d4d",
   "metadata": {},
   "outputs": [],
   "source": [
    "\n",
    "import numpy as np\n",
    "from IPython.core.display_functions import display\n"
   ]
  },
  {
   "cell_type": "markdown",
   "id": "168363e3",
   "metadata": {},
   "source": [
    "# Introduction to Python features"
   ]
  },
  {
   "cell_type": "markdown",
   "id": "64fe69d9",
   "metadata": {},
   "source": [
    "In this notebook, you are asked to perform some exercises to start manipulating Python syntax.\n",
    "Replace the `...` by your code."
   ]
  },
  {
   "cell_type": "markdown",
   "id": "61818764",
   "metadata": {},
   "source": [
    "## Exercise 1: Temperature Conversion"
   ]
  },
  {
   "cell_type": "markdown",
   "id": "3b50cef3",
   "metadata": {},
   "source": [
    "Define a float variable `temp_celsius` as 100 (boiling point of water),\n",
    "and convert it to Fahrenheit using the formula:\n",
    "F = (9/5) * C + 32"
   ]
  },
  {
   "cell_type": "code",
   "execution_count": 3,
   "id": "a40a028b",
   "metadata": {},
   "outputs": [
    {
     "name": "stdout",
     "output_type": "stream",
     "text": [
      "Temperature in Fahrenheit: 212.0\n"
     ]
    }
   ],
   "source": [
    "temp_celsius: float = 100\n",
    "...\n",
    "temp_celsius = 100\n",
    "temp_fahrenheit = (9/5) * temp_celsius + 32\n",
    "print(f'Temperature in Fahrenheit: {temp_fahrenheit}')\n"
   ]
  },
  {
   "cell_type": "markdown",
   "id": "dff10305",
   "metadata": {},
   "source": [
    "## Exercise 2: Material Densities"
   ]
  },
  {
   "cell_type": "markdown",
   "id": "c6ffba01",
   "metadata": {},
   "source": [
    "Store the densities (in kg/m³) of concrete, steel, and glass in a list."
   ]
  },
  {
   "cell_type": "code",
   "execution_count": 4,
   "id": "c0e9e540",
   "metadata": {},
   "outputs": [
    {
     "name": "stdout",
     "output_type": "stream",
     "text": [
      "Material densities (kg/m³): ['concrete', 'steel', 'glass']\n"
     ]
    }
   ],
   "source": [
    "...\n",
    "densities = [\"concrete\", \"steel\", \"glass\"]\n",
    "print('Material densities (kg/m³):', densities)\n"
   ]
  },
  {
   "cell_type": "markdown",
   "id": "2b47f839",
   "metadata": {},
   "source": [
    "Add the density of granite to the list, then print it."
   ]
  },
  {
   "cell_type": "code",
   "execution_count": 5,
   "id": "4da9d8a5",
   "metadata": {},
   "outputs": [
    {
     "name": "stdout",
     "output_type": "stream",
     "text": [
      "Material densities (kg/m³): ['concrete', 'steel', 'glass', 'granite']\n"
     ]
    }
   ],
   "source": [
    "...\n",
    "densities.append(\"granite\")\n",
    "print('Material densities (kg/m³):', densities)\n"
   ]
  },
  {
   "cell_type": "markdown",
   "id": "d838896c",
   "metadata": {},
   "source": [
    "## Exercise 3: 2D Coordinate"
   ]
  },
  {
   "cell_type": "markdown",
   "id": "79cbe178",
   "metadata": {},
   "source": [
    "Define a 2D point as a tuple of floats.\n",
    "Try modifying a value to verify that tuples are immutable. As it should raise an exception, catch it and treat it."
   ]
  },
  {
   "cell_type": "code",
   "execution_count": 6,
   "id": "e6844092",
   "metadata": {},
   "outputs": [
    {
     "name": "stdout",
     "output_type": "stream",
     "text": [
      "2D point: (1.0, 2.0)\n"
     ]
    }
   ],
   "source": [
    "point: tuple[float, float] = (1.0, 2.0)\n",
    "\n",
    "try:\n",
    "    point[0] = 3\n",
    "except:\n",
    "    pass\n",
    "\n",
    "print('2D point:', point)\n"
   ]
  },
  {
   "cell_type": "markdown",
   "id": "1c684006",
   "metadata": {},
   "source": [
    "## Exercise 4: Material Densities revisited"
   ]
  },
  {
   "cell_type": "markdown",
   "id": "56cd8f1b",
   "metadata": {},
   "source": [
    "Create a dictionary to store the densities (in kg/m³) of concrete, steel, glass, and granite.\n",
    "The name of each material must be associated with its density."
   ]
  },
  {
   "cell_type": "code",
   "execution_count": 7,
   "id": "2341c263",
   "metadata": {},
   "outputs": [
    {
     "name": "stdout",
     "output_type": "stream",
     "text": [
      "Material densities {'concrete': 2500, 'steel': 7850, 'glass': 2530, 'granite': 2800}\n"
     ]
    }
   ],
   "source": [
    "...\n",
    "densities = {}\n",
    "\n",
    "densities['concrete'] = 2500\n",
    "densities['steel'] = 7850\n",
    "densities['glass'] = 2530\n",
    "densities['granite'] = 2800\n",
    "\n",
    "print('Material densities', densities)\n"
   ]
  },
  {
   "cell_type": "markdown",
   "id": "e98da5b2",
   "metadata": {},
   "source": [
    "Loop on the items in the dictionary:"
   ]
  },
  {
   "cell_type": "code",
   "execution_count": 8,
   "id": "c731da38",
   "metadata": {},
   "outputs": [
    {
     "name": "stdout",
     "output_type": "stream",
     "text": [
      "The density of concrete is 2500\n",
      "The density of steel is 7850\n",
      "The density of glass is 2530\n",
      "The density of granite is 2800\n"
     ]
    }
   ],
   "source": [
    "for material, density in densities.items():\n",
    "    print(f'The density of {material} is {density}')\n"
   ]
  },
  {
   "cell_type": "markdown",
   "id": "c3dc78f8",
   "metadata": {},
   "source": [
    "## Exercise 5: Compute Factorials"
   ]
  },
  {
   "cell_type": "markdown",
   "id": "4c8e9955",
   "metadata": {},
   "source": [
    "Print the factorial of numbers from 1 to 5 using a for loop."
   ]
  },
  {
   "cell_type": "code",
   "execution_count": 9,
   "id": "34ec4bae",
   "metadata": {},
   "outputs": [
    {
     "name": "stdout",
     "output_type": "stream",
     "text": [
      "The factorial of 2 is 1\n",
      "The factorial of 3 is 2\n",
      "The factorial of 4 is 6\n",
      "The factorial of 5 is 24\n",
      "The factorial of 6 is 120\n"
     ]
    }
   ],
   "source": [
    "factorial: int = 1\n",
    "...\n",
    "for i in range(1,6):\n",
    "    fac = 1\n",
    "    for j in range(1,i+1):\n",
    "        fac*= j\n",
    "    print(f'The factorial of {i+1} is {fac}')\n"
   ]
  },
  {
   "cell_type": "markdown",
   "id": "12e7b3a2",
   "metadata": {},
   "source": [
    "## Exercise 6: Stress Calculation"
   ]
  },
  {
   "cell_type": "markdown",
   "id": "86b3c380",
   "metadata": {},
   "source": [
    "Given a force and a cross-sectional area, calculate the mechanical stress\n",
    "as the ratio between the force and the area"
   ]
  },
  {
   "cell_type": "code",
   "execution_count": 10,
   "id": "772e0aee",
   "metadata": {},
   "outputs": [
    {
     "name": "stdout",
     "output_type": "stream",
     "text": [
      "The mechanical stress is 300000000.0\n"
     ]
    }
   ],
   "source": [
    "force: float = 150000.0  # in newtons\n",
    "area: float = 0.0005  # in m²\n",
    "...\n",
    "mechanical_stress = force/area\n",
    "print(f\"The mechanical stress is {mechanical_stress}\")"
   ]
  },
  {
   "cell_type": "markdown",
   "id": "ba173163",
   "metadata": {},
   "source": [
    "## Exercise 7: Kinetic Energy Calculator"
   ]
  },
  {
   "cell_type": "markdown",
   "id": "310de841",
   "metadata": {},
   "source": [
    "Write a function to compute potential energy E_p = m * g * h"
   ]
  },
  {
   "cell_type": "code",
   "execution_count": 11,
   "id": "f14fe6a2",
   "metadata": {},
   "outputs": [
    {
     "name": "stdout",
     "output_type": "stream",
     "text": [
      "Potential energy: 29430.0 J\n"
     ]
    }
   ],
   "source": [
    "def potential_energy(m, h):\n",
    "    energy = m * 9.81 * h\n",
    "    return energy\n",
    "\n",
    "print('Potential energy:', potential_energy(1000, 3), 'J')\n"
   ]
  },
  {
   "cell_type": "markdown",
   "id": "948cafae",
   "metadata": {},
   "source": [
    "## Exercise 8: Save Sensor Data"
   ]
  },
  {
   "cell_type": "markdown",
   "id": "7be60ed9",
   "metadata": {},
   "source": [
    "Suppose you are working with a sensor that records the displacement of an object at regular time intervals.\n",
    "Your task is to store these displacement values in a file so they can be saved for later use, and then read the\n",
    "values back from the file into your program.\n",
    "\n",
    "Workflow:\n",
    "\n",
    "1.\tYou collect a list of displacement values from the sensor (e.g., [0.5, 1.0, 2.5]).\n",
    "2.\tYou write this list to a file (so the data is stored permanently).\n",
    "3.\tLater, you read the file and reconstruct the list in Python to continue your analysis.\n",
    "4.  You verify that the reconstructed list is the same as the original one."
   ]
  },
  {
   "cell_type": "markdown",
   "id": "a7a85959",
   "metadata": {},
   "source": [
    "Step 1: Simulate some displacement data collected by a sensor"
   ]
  },
  {
   "cell_type": "code",
   "execution_count": 51,
   "id": "e9bd975c",
   "metadata": {},
   "outputs": [],
   "source": [
    "displacements = [0.0, 1.2, 2.5, 3.7, 5.0]\n"
   ]
  },
  {
   "cell_type": "markdown",
   "id": "ef2b9adf",
   "metadata": {},
   "source": [
    "Step 2: Save the data to a text file"
   ]
  },
  {
   "cell_type": "code",
   "execution_count": 67,
   "id": "9802e61c",
   "metadata": {},
   "outputs": [
    {
     "name": "stdout",
     "output_type": "stream",
     "text": [
      "Data saved to displacements.txt\n"
     ]
    }
   ],
   "source": [
    "filename = \"displacements.txt\"\n",
    "\n",
    "with open(filename, 'w') as f:\n",
    "    for displacement in displacements:\n",
    "        f.write(str(displacement)+\"\\n\")\n",
    "\n",
    "print(f\"Data saved to {filename}\")\n"
   ]
  },
  {
   "cell_type": "markdown",
   "id": "41646140",
   "metadata": {},
   "source": [
    "Step 3: Read the data back from the file"
   ]
  },
  {
   "cell_type": "code",
   "execution_count": 68,
   "id": "e43d52d7",
   "metadata": {},
   "outputs": [
    {
     "name": "stdout",
     "output_type": "stream",
     "text": [
      "Data loaded from file: [0.0, 1.2, 2.5, 3.7, 5.0]\n"
     ]
    }
   ],
   "source": [
    "loaded_displacements = []\n",
    "...\n",
    "with open(filename, \"r\") as f:\n",
    "    for line in f.readlines():\n",
    "        loaded_displacements.append(float(line))\n",
    "\n",
    "print(\"Data loaded from file:\", loaded_displacements)\n"
   ]
  },
  {
   "cell_type": "markdown",
   "id": "8dedfb3c",
   "metadata": {},
   "source": [
    "Step 4: Verify the two lists are identical"
   ]
  },
  {
   "cell_type": "code",
   "execution_count": 69,
   "id": "5a521938",
   "metadata": {},
   "outputs": [
    {
     "name": "stdout",
     "output_type": "stream",
     "text": [
      "Check: True\n"
     ]
    }
   ],
   "source": [
    "print(\"Check:\", displacements == loaded_displacements)\n"
   ]
  },
  {
   "cell_type": "markdown",
   "id": "c53b8948",
   "metadata": {},
   "source": [
    "## Exercise 9: Conductance Calculation"
   ]
  },
  {
   "cell_type": "markdown",
   "id": "06a5f4f0",
   "metadata": {},
   "source": [
    "Compute conductance G = 1 / R and handle division by zero."
   ]
  },
  {
   "cell_type": "code",
   "execution_count": 70,
   "id": "70ef6b99",
   "metadata": {},
   "outputs": [
    {
     "name": "stdout",
     "output_type": "stream",
     "text": [
      "You can't divide by 0.\n"
     ]
    }
   ],
   "source": [
    "R: float = 0.0\n",
    "\n",
    "if R != 0:\n",
    "    G = 1/R\n",
    "    print(f\"G: {G}\")\n",
    "else:\n",
    "    print(\"You can't divide by 0.\")\n",
    "\n"
   ]
  },
  {
   "cell_type": "markdown",
   "id": "fd8b54e3",
   "metadata": {},
   "source": [
    "## Exercise 10: Displacement Vector"
   ]
  },
  {
   "cell_type": "markdown",
   "id": "23328de3",
   "metadata": {},
   "source": [
    "Define a 3D vector and compute its norm. Consult the online documentation."
   ]
  },
  {
   "cell_type": "code",
   "execution_count": 71,
   "id": "6a4ec72e",
   "metadata": {},
   "outputs": [
    {
     "name": "stdout",
     "output_type": "stream",
     "text": [
      "Displacement vector magnitude: 3\n"
     ]
    }
   ],
   "source": [
    "d: np.ndarray = np.array([3.0, 4.0, 12.0])\n",
    "magnitude: float = len(d)\n",
    "print('Displacement vector magnitude:', magnitude)\n"
   ]
  },
  {
   "cell_type": "markdown",
   "id": "68a5bed8",
   "metadata": {},
   "source": [
    "## Exercise 11: Rotation Matrix"
   ]
  },
  {
   "cell_type": "markdown",
   "id": "224145c8",
   "metadata": {},
   "source": [
    "\n",
    "\n",
    "Define a 2×2 stress transformation matrix and apply it to a stress vector.\n",
    "In mechanics, a stress matrix (or stress tensor) represents the state of internal forces per unit area within a material.\n",
    "For a 2D case, it typically consists of normal stresses (σ_xx, σ_yy) and shear stress (σ_xy).\n",
    "This exercise simplifies the problem to a vector of two stress components and applies a transformation matrix that\n",
    "averages the original stress components based on the rotation angle θ.\n",
    "\n",
    "The transformation matrix used here corresponds to:\n",
    "\n",
    "T = \\begin{bmatrix}\n",
    "\\cos^2\\theta & \\sin^2\\theta \\\\\n",
    "\\sin^2\\theta & \\cos^2\\theta\n",
    "\\end{bmatrix}\n",
    "\n",
    "This matrix symmetrically rotates the components of stress along the principal directions."
   ]
  },
  {
   "cell_type": "code",
   "execution_count": null,
   "id": "b8d3a411",
   "metadata": {},
   "outputs": [
    {
     "ename": "NameError",
     "evalue": "name 'transformed' is not defined",
     "output_type": "error",
     "traceback": [
      "\u001b[31m---------------------------------------------------------------------------\u001b[39m",
      "\u001b[31mNameError\u001b[39m                                 Traceback (most recent call last)",
      "\u001b[36mCell\u001b[39m\u001b[36m \u001b[39m\u001b[32mIn[72]\u001b[39m\u001b[32m, line 10\u001b[39m\n\u001b[32m      1\u001b[39m theta: \u001b[38;5;28mfloat\u001b[39m = np.pi / \u001b[32m4\u001b[39m\n\u001b[32m      8\u001b[39m stress_vector: np.ndarray = np.array([\u001b[32m100.0\u001b[39m, \u001b[32m50.0\u001b[39m])\n\u001b[32m---> \u001b[39m\u001b[32m10\u001b[39m \u001b[38;5;28mprint\u001b[39m(\u001b[33m'\u001b[39m\u001b[33mTransformed stress vector:\u001b[39m\u001b[33m'\u001b[39m, \u001b[43mtransformed\u001b[49m)\n",
      "\u001b[31mNameError\u001b[39m: name 'transformed' is not defined"
     ]
    }
   ],
   "source": [
    "theta: float = np.pi / 4\n",
    "\n",
    "\n",
    "\n",
    "\n",
    "\n",
    "stress_vector: np.ndarray = np.array([100.0, 50.0])\n",
    "\n",
    "T =\n",
    "\n",
    "print('Transformed stress vector:', transformed)\n"
   ]
  },
  {
   "cell_type": "markdown",
   "id": "6dd4f0cf",
   "metadata": {},
   "source": [
    "## Exercise 12: Solve Linear System"
   ]
  },
  {
   "cell_type": "markdown",
   "id": "0ca4407c",
   "metadata": {},
   "source": [
    "Solve the system: $2x_1 + x_2 = 3$, $x_1 + 3x_2 = 5$"
   ]
  },
  {
   "cell_type": "code",
   "execution_count": null,
   "id": "31f312ca",
   "metadata": {},
   "outputs": [],
   "source": [
    "A: np.ndarray = ...\n",
    "b: np.ndarray = ...\n",
    "solution: np.ndarray = ...\n",
    "print('x_1, x_2:', solution)\n"
   ]
  },
  {
   "cell_type": "markdown",
   "id": "60976402",
   "metadata": {},
   "source": [
    "## Exercise 13: Determinant and Area"
   ]
  },
  {
   "cell_type": "markdown",
   "id": "a877be2f",
   "metadata": {},
   "source": [
    "Use the determinant to compute area of a triangular surface."
   ]
  },
  {
   "cell_type": "code",
   "execution_count": null,
   "id": "a65ac2ae",
   "metadata": {},
   "outputs": [],
   "source": [
    "triangle: np.ndarray = np.array([[0, 0], [4, 0], [2, 3]])"
   ]
  },
  {
   "cell_type": "markdown",
   "id": "760bcc97",
   "metadata": {},
   "source": [
    "Compute vectors from the last vertex of the triangle to the other two, effectively using it as the origin."
   ]
  },
  {
   "cell_type": "code",
   "execution_count": null,
   "id": "f5c9eb26",
   "metadata": {},
   "outputs": [],
   "source": [
    " base_matrix: np.ndarray = ...\n",
    "\n",
    "\n",
    "print(f'Base matrix:\\n{base_matrix}')\n",
    "area: float = 0.5 * abs(np.linalg.det(base_matrix))  ###area = ...\n",
    "print('Area of triangle:', area)"
   ]
  }
 ],
 "metadata": {
  "kernelspec": {
   "display_name": ".venv",
   "language": "python",
   "name": "python3"
  },
  "language_info": {
   "codemirror_mode": {
    "name": "ipython",
    "version": 3
   },
   "file_extension": ".py",
   "mimetype": "text/x-python",
   "name": "python",
   "nbconvert_exporter": "python",
   "pygments_lexer": "ipython3",
   "version": "3.13.7"
  }
 },
 "nbformat": 4,
 "nbformat_minor": 5
}
