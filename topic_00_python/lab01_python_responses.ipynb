{
 "cells": [
  {
   "cell_type": "markdown",
   "id": "a35f49d5",
   "metadata": {},
   "source": [
    "# Python basics\n",
    "\n",
    "## Introduction to optimization and operations research.\n",
    "\n",
    "Michel Bierlaire\n"
   ]
  },
  {
   "cell_type": "code",
   "execution_count": null,
   "id": "6a2be391",
   "metadata": {},
   "outputs": [],
   "source": [
    "\n",
    "import numpy as np\n",
    "from IPython.core.display_functions import display\n"
   ]
  },
  {
   "cell_type": "markdown",
   "id": "dd79277f",
   "metadata": {},
   "source": [
    "# Introduction to Python features"
   ]
  },
  {
   "cell_type": "markdown",
   "id": "556cf3fa",
   "metadata": {},
   "source": [
    "In this notebook, you are asked to perform some exercises to start manipulating Python syntax.\n",
    "Replace the `...` by your code."
   ]
  },
  {
   "cell_type": "markdown",
   "id": "5a3fd7d9",
   "metadata": {},
   "source": [
    "## Exercise 1: Temperature Conversion"
   ]
  },
  {
   "cell_type": "markdown",
   "id": "e3987e9e",
   "metadata": {},
   "source": [
    "Define a float variable `temp_celsius` as 100 (boiling point of water),\n",
    "and convert it to Fahrenheit using the formula:\n",
    "F = (9/5) * C + 32"
   ]
  },
  {
   "cell_type": "code",
   "execution_count": null,
   "id": "b0aed719",
   "metadata": {},
   "outputs": [],
   "source": [
    "temp_celsius: float = 100\n",
    "temp_fahrenheit: float = (9 / 5) * temp_celsius + 32\n",
    "print(f'Temperature in Fahrenheit: {temp_fahrenheit}')\n"
   ]
  },
  {
   "cell_type": "markdown",
   "id": "2c5b65a1",
   "metadata": {},
   "source": [
    "## Exercise 2: Material Densities"
   ]
  },
  {
   "cell_type": "markdown",
   "id": "7c13ea2d",
   "metadata": {},
   "source": [
    "Store the densities (in kg/m³) of concrete, steel, and glass in a list."
   ]
  },
  {
   "cell_type": "code",
   "execution_count": null,
   "id": "36880345",
   "metadata": {},
   "outputs": [],
   "source": [
    "densities: list[float] = [2400, 7850, 2500]\n",
    "print('Material densities (kg/m³):', densities)\n"
   ]
  },
  {
   "cell_type": "markdown",
   "id": "b3568034",
   "metadata": {},
   "source": [
    "Add the density of granite to the list, then print it."
   ]
  },
  {
   "cell_type": "code",
   "execution_count": null,
   "id": "63ae2eea",
   "metadata": {},
   "outputs": [],
   "source": [
    "densities.append(2750)\n",
    "print('Material densities (kg/m³):', densities)\n"
   ]
  },
  {
   "cell_type": "markdown",
   "id": "f28ae996",
   "metadata": {},
   "source": [
    "## Exercise 3: 2D Coordinate"
   ]
  },
  {
   "cell_type": "markdown",
   "id": "e09b6cba",
   "metadata": {},
   "source": [
    "Define a 2D point as a tuple of floats.\n",
    "Try modifying a value to verify that tuples are immutable. As it should raise an exception, catch it and treat it."
   ]
  },
  {
   "cell_type": "code",
   "execution_count": null,
   "id": "9ebd4095",
   "metadata": {},
   "outputs": [],
   "source": [
    "point: tuple[float, float] = (1.0, 2.0)\n",
    "try:\n",
    "    point[0] = 3\n",
    "except TypeError as e:\n",
    "    print(f'An exception as been triggered: {e}')\n",
    "print('2D point:', point)\n"
   ]
  },
  {
   "cell_type": "markdown",
   "id": "09ad958a",
   "metadata": {},
   "source": [
    "## Exercise 4: Material Densities revisited"
   ]
  },
  {
   "cell_type": "markdown",
   "id": "920680cf",
   "metadata": {},
   "source": [
    "Create a dictionary to store the densities (in kg/m³) of concrete, steel, glass, and granite.\n",
    "The name of each material must be associated with its density."
   ]
  },
  {
   "cell_type": "code",
   "execution_count": null,
   "id": "1bfb9ba7",
   "metadata": {},
   "outputs": [],
   "source": [
    "densities: dict[str, float] = {\n",
    "    'concrete': 2400,\n",
    "    'steel': 7850,\n",
    "    'glass': 2500,\n",
    "    'granite': 2750,\n",
    "}\n",
    "print('Material densities', densities)\n"
   ]
  },
  {
   "cell_type": "markdown",
   "id": "5dfd95ab",
   "metadata": {},
   "source": [
    "Loop on the items in the dictionary:"
   ]
  },
  {
   "cell_type": "code",
   "execution_count": null,
   "id": "c98e5adf",
   "metadata": {},
   "outputs": [],
   "source": [
    "for material, density in densities.items():\n",
    "    print(f'The density of {material} is {density}')\n"
   ]
  },
  {
   "cell_type": "markdown",
   "id": "2a9bb3bd",
   "metadata": {},
   "source": [
    "## Exercise 5: Compute Factorials"
   ]
  },
  {
   "cell_type": "markdown",
   "id": "97b02a8c",
   "metadata": {},
   "source": [
    "Print the factorial of numbers from 1 to 5 using a for loop."
   ]
  },
  {
   "cell_type": "code",
   "execution_count": null,
   "id": "70d1f2a3",
   "metadata": {},
   "outputs": [],
   "source": [
    "factorial: int = 1\n",
    "for n in range(1, 6):\n",
    "    factorial *= n\n",
    "    print(f'{n}! = {factorial}')\n"
   ]
  },
  {
   "cell_type": "markdown",
   "id": "3d67af81",
   "metadata": {},
   "source": [
    "## Exercise 6: Stress Calculation"
   ]
  },
  {
   "cell_type": "markdown",
   "id": "798e70d7",
   "metadata": {},
   "source": [
    "Given a force and a cross-sectional area, calculate the mechanical stress\n",
    "as the ratio between the force and the area"
   ]
  },
  {
   "cell_type": "code",
   "execution_count": null,
   "id": "f3ad93ba",
   "metadata": {},
   "outputs": [],
   "source": [
    "force: float = 150000.0  # in newtons\n",
    "area: float = 0.0005  # in m²\n",
    "stress: float = force / area\n",
    "if stress > 250e6:\n",
    "    print('Warning: Stress exceeds yield strength of steel!')\n",
    "else:\n",
    "    print(f'Stress: {stress/1e6:.2f} MPa')\n"
   ]
  },
  {
   "cell_type": "markdown",
   "id": "3f9a2a46",
   "metadata": {},
   "source": [
    "## Exercise 7: Kinetic Energy Calculator"
   ]
  },
  {
   "cell_type": "markdown",
   "id": "e9dcc424",
   "metadata": {},
   "source": [
    "Write a function to compute potential energy E_p = m * g * h"
   ]
  },
  {
   "cell_type": "code",
   "execution_count": null,
   "id": "ff0ffd68",
   "metadata": {},
   "outputs": [],
   "source": [
    "def potential_energy(\n",
    "    mass: float, height: float, g: float = 9.81\n",
    ") -> float:\n",
    "    return mass * g * height\n",
    "\n",
    "\n",
    "print('Potential energy:', potential_energy(1000, 3), 'J')\n"
   ]
  },
  {
   "cell_type": "markdown",
   "id": "f673b8b5",
   "metadata": {},
   "source": [
    "## Exercise 8: Save Sensor Data"
   ]
  },
  {
   "cell_type": "markdown",
   "id": "d75bacf1",
   "metadata": {},
   "source": [
    "Suppose you are working with a sensor that records the displacement of an object at regular time intervals.\n",
    "Your task is to store these displacement values in a file so they can be saved for later use, and then read the\n",
    "values back from the file into your program.\n",
    "\n",
    "Workflow:\n",
    "\n",
    "1.\tYou collect a list of displacement values from the sensor (e.g., [0.5, 1.0, 2.5]).\n",
    "2.\tYou write this list to a file (so the data is stored permanently).\n",
    "3.\tLater, you read the file and reconstruct the list in Python to continue your analysis.\n",
    "4.  You verify that the reconstructed list is the same as the original one."
   ]
  },
  {
   "cell_type": "markdown",
   "id": "9d520f4b",
   "metadata": {},
   "source": [
    "Step 1: Simulate some displacement data collected by a sensor"
   ]
  },
  {
   "cell_type": "code",
   "execution_count": null,
   "id": "198938a8",
   "metadata": {},
   "outputs": [],
   "source": [
    "displacements = [0.0, 1.2, 2.5, 3.7, 5.0]\n"
   ]
  },
  {
   "cell_type": "markdown",
   "id": "1e65dfb2",
   "metadata": {},
   "source": [
    "Step 2: Save the data to a text file"
   ]
  },
  {
   "cell_type": "code",
   "execution_count": null,
   "id": "c6471b24",
   "metadata": {},
   "outputs": [],
   "source": [
    "filename = \"displacements.txt\"\n",
    "with open(filename, \"w\") as f:\n",
    "    for value in displacements:\n",
    "        f.write(f\"{value}\\n\")\n",
    "\n",
    "print(f\"Data saved to {filename}\")\n"
   ]
  },
  {
   "cell_type": "markdown",
   "id": "cc3bb81d",
   "metadata": {},
   "source": [
    "Step 3: Read the data back from the file"
   ]
  },
  {
   "cell_type": "code",
   "execution_count": null,
   "id": "006c0a70",
   "metadata": {},
   "outputs": [],
   "source": [
    "loaded_displacements = []\n",
    "with open(filename, \"r\") as f:\n",
    "    for line in f:\n",
    "        loaded_displacements.append(float(line.strip()))\n",
    "\n",
    "print(\"Data loaded from file:\", loaded_displacements)\n"
   ]
  },
  {
   "cell_type": "markdown",
   "id": "8db0e29f",
   "metadata": {},
   "source": [
    "Step 4: Verify the two lists are identical"
   ]
  },
  {
   "cell_type": "code",
   "execution_count": null,
   "id": "8e8849a7",
   "metadata": {},
   "outputs": [],
   "source": [
    "print(\"Check:\", displacements == loaded_displacements)\n"
   ]
  },
  {
   "cell_type": "markdown",
   "id": "f3700666",
   "metadata": {},
   "source": [
    "## Exercise 9: Conductance Calculation"
   ]
  },
  {
   "cell_type": "markdown",
   "id": "16fac997",
   "metadata": {},
   "source": [
    "Compute conductance G = 1 / R and handle division by zero."
   ]
  },
  {
   "cell_type": "code",
   "execution_count": null,
   "id": "3357d279",
   "metadata": {},
   "outputs": [],
   "source": [
    "R: float = 0.0\n",
    "try:\n",
    "    G = 1 / R\n",
    "except ZeroDivisionError:\n",
    "    print('Conductance undefined: resistance cannot be zero.')\n"
   ]
  },
  {
   "cell_type": "markdown",
   "id": "4f2f88e7",
   "metadata": {},
   "source": [
    "## Exercise 10: Displacement Vector"
   ]
  },
  {
   "cell_type": "markdown",
   "id": "6e73b58a",
   "metadata": {},
   "source": [
    "Define a 3D vector and compute its norm. Consult the online documentation."
   ]
  },
  {
   "cell_type": "code",
   "execution_count": null,
   "id": "580c101c",
   "metadata": {},
   "outputs": [],
   "source": [
    "d: np.ndarray = np.array([3.0, 4.0, 12.0])\n",
    "magnitude: float = np.linalg.norm(d)\n",
    "print('Displacement vector magnitude:', magnitude)\n"
   ]
  },
  {
   "cell_type": "markdown",
   "id": "8db6c933",
   "metadata": {},
   "source": [
    "## Exercise 11: Rotation Matrix"
   ]
  },
  {
   "cell_type": "markdown",
   "id": "8ed2dd81",
   "metadata": {},
   "source": [
    "\n",
    "\n",
    "Define a 2×2 stress transformation matrix and apply it to a stress vector.\n",
    "In mechanics, a stress matrix (or stress tensor) represents the state of internal forces per unit area within a material.\n",
    "For a 2D case, it typically consists of normal stresses (σ_xx, σ_yy) and shear stress (σ_xy).\n",
    "This exercise simplifies the problem to a vector of two stress components and applies a transformation matrix that\n",
    "averages the original stress components based on the rotation angle θ.\n",
    "\n",
    "The transformation matrix used here corresponds to:\n",
    "\n",
    "T = \\begin{bmatrix}\n",
    "\\cos^2\\theta & \\sin^2\\theta \\\\\n",
    "\\sin^2\\theta & \\cos^2\\theta\n",
    "\\end{bmatrix}\n",
    "\n",
    "This matrix symmetrically rotates the components of stress along the principal directions."
   ]
  },
  {
   "cell_type": "code",
   "execution_count": null,
   "id": "1edd891b",
   "metadata": {},
   "outputs": [],
   "source": [
    "theta: float = np.pi / 4\n",
    "T: np.ndarray = np.array(\n",
    "    [\n",
    "        [np.cos(theta) ** 2, np.sin(theta) ** 2],\n",
    "        [np.sin(theta) ** 2, np.cos(theta) ** 2],\n",
    "    ]\n",
    ")\n",
    "stress_vector: np.ndarray = np.array([100.0, 50.0])\n",
    "transformed: np.ndarray = T @ stress_vector\n",
    "print('Transformed stress vector:', transformed)\n"
   ]
  },
  {
   "cell_type": "markdown",
   "id": "6fe09ec5",
   "metadata": {},
   "source": [
    "## Exercise 12: Solve Linear System"
   ]
  },
  {
   "cell_type": "markdown",
   "id": "fa6fc53c",
   "metadata": {},
   "source": [
    "Solve the system: $2x_1 + x_2 = 3$, $x_1 + 3x_2 = 5$"
   ]
  },
  {
   "cell_type": "code",
   "execution_count": null,
   "id": "416b42b9",
   "metadata": {},
   "outputs": [],
   "source": [
    "A: np.ndarray = np.array([[2, 1], [1, 3]])\n",
    "b: np.ndarray = np.array([3, 5])\n",
    "solution: np.ndarray = np.linalg.solve(A, b)\n",
    "print('x_1, x_2:', solution)\n"
   ]
  },
  {
   "cell_type": "markdown",
   "id": "9db8eb92",
   "metadata": {},
   "source": [
    "## Exercise 13: Determinant and Area"
   ]
  },
  {
   "cell_type": "markdown",
   "id": "256c6440",
   "metadata": {},
   "source": [
    "Use the determinant to compute area of a triangular surface."
   ]
  },
  {
   "cell_type": "code",
   "execution_count": null,
   "id": "9af14217",
   "metadata": {},
   "outputs": [],
   "source": [
    "triangle: np.ndarray = np.array([[0, 0], [4, 0], [2, 3]])"
   ]
  },
  {
   "cell_type": "markdown",
   "id": "fc315838",
   "metadata": {},
   "source": [
    "Compute vectors from the last vertex of the triangle to the other two, effectively using it as the origin."
   ]
  },
  {
   "cell_type": "code",
   "execution_count": null,
   "id": "861d5a48",
   "metadata": {},
   "outputs": [],
   "source": [
    "base_matrix: np.ndarray = (\n",
    "    triangle[:-1] - triangle[-1]\n",
    ")\n",
    "print(f'Base matrix:\\n{base_matrix}')\n",
    "area: float = 0.5 * abs(np.linalg.det(base_matrix))  ###area = ...\n",
    "print('Area of triangle:', area)"
   ]
  }
 ],
 "metadata": {},
 "nbformat": 4,
 "nbformat_minor": 5
}
