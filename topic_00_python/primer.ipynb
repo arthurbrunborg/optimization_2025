{
 "cells": [
  {
   "cell_type": "markdown",
   "id": "49b9857a",
   "metadata": {},
   "source": [
    "# Python basics\n",
    "\n",
    "## Introduction to optimization and operations research.\n",
    "\n",
    "Michel Bierlaire\n"
   ]
  },
  {
   "cell_type": "code",
   "execution_count": null,
   "id": "09b0c54a",
   "metadata": {},
   "outputs": [],
   "source": [
    "\n",
    "import numpy as np\n",
    "from IPython.core.display_functions import display\n"
   ]
  },
  {
   "cell_type": "markdown",
   "id": "f2f2b0cf",
   "metadata": {},
   "source": [
    "# Introduction to Python features"
   ]
  },
  {
   "cell_type": "markdown",
   "id": "98afac4a",
   "metadata": {},
   "source": [
    "Python is a widely used high-level programming language known for its readability, simplicity, and versatility.\n",
    "It is used across many domains, including data analysis, artificial intelligence, web development, and scientific\n",
    "computing. In this course, Python serves as a practical tool to formulate and solve optimization problems. While\n",
    "Python is a programming language, it has been designed to be accessible even to those without a background in\n",
    "computer science. You do not need to be a programmer to follow the course or complete the exercises."
   ]
  },
  {
   "cell_type": "markdown",
   "id": "c71a7791",
   "metadata": {},
   "source": [
    "The use of AI agents such as ChatGPT can be helpful — for example, to assist with writing or debugging small\n",
    "pieces of code — but it is absolutely not required. The course is structured to guide you through the relevant\n",
    "features of Python step by step, and no prior programming experience is assumed. Some basic elements of Python are\n",
    "introduced below. If you are curious to learn more, you will also find a wealth of tutorials and documentation\n",
    "freely available online."
   ]
  },
  {
   "cell_type": "markdown",
   "id": "1ee31793",
   "metadata": {},
   "source": [
    "This notebook provides introductory examples of Python to help you understand basic programming concepts.\n",
    "It is intended as a reference and learning resource — you are not expected to modify this file.\n",
    "Use it to explore how Python works and to support your understanding of the course material."
   ]
  },
  {
   "cell_type": "markdown",
   "id": "bc4a4087",
   "metadata": {},
   "source": [
    "Python allows you to define variables of various types depending on the kind of data you need to store.\n",
    "The most common types are:\n",
    "- Integer: whole numbers (e.g., 1, 2, 100)\n",
    "- Float: numbers with decimals (e.g., 3.14, 2.0)\n",
    "- String: sequences of characters used for text (e.g., 'hello')\n",
    "- Boolean: logical values representing True or False\n",
    "Below is an example showing how to define and display each of these variable types."
   ]
  },
  {
   "cell_type": "code",
   "execution_count": null,
   "id": "14fd11bc",
   "metadata": {},
   "outputs": [],
   "source": [
    "print('\\n### Variables and Data Types ###')\n",
    "integer_var = 10  # Integer\n",
    "float_var = 3.14  # Floating point number\n",
    "string_var = 'Welcome to the optimization course'  # String\n",
    "boolean_var = True  # Boolean\n",
    "print('Integer:', integer_var)\n",
    "print('Float:', float_var)\n",
    "print('String:', string_var)\n",
    "print('Boolean:', boolean_var)\n"
   ]
  },
  {
   "cell_type": "markdown",
   "id": "d58bb995",
   "metadata": {},
   "source": [
    "In Python, variables can hold values of any type, and the type can change during program execution.\n",
    "However, it's possible (and good practice) to add *type annotations* to indicate what kind of data is expected.\n",
    "For example, writing `integer_var: int = 10` tells readers and tools that `integer_var` is intended to hold an integer.\n",
    "These annotations improve code readability and make it easier to catch type-related mistakes using tools like linters or IDEs.\n",
    "Note: type annotations are not enforced at runtime — they are mainly for documentation and development support."
   ]
  },
  {
   "cell_type": "code",
   "execution_count": null,
   "id": "3fa4cd3c",
   "metadata": {},
   "outputs": [],
   "source": [
    "integer_var: int = 10\n",
    "float_var: float = 3.14\n",
    "string_var: str = 'Welcome to the optimization course'\n",
    "boolean_var: bool = True\n"
   ]
  },
  {
   "cell_type": "markdown",
   "id": "3206f6f7",
   "metadata": {},
   "source": [
    "\n",
    "Python supports several types of data structures that allow you to organize and store data in useful ways.\n",
    "One commonly used structure is the `list`, which is a collection of items ordered by position (i.e., indexed).\n",
    "Lists are useful when you want to keep track of multiple related values, like a sequence of names or numbers.\n",
    "In Python, lists are *mutable*, which means you can change them after they are created:\n",
    "you can add new elements, remove elements, or change the values of existing elements."
   ]
  },
  {
   "cell_type": "code",
   "execution_count": null,
   "id": "80762e13",
   "metadata": {},
   "outputs": [],
   "source": [
    "print('\\n### Lists ###')\n",
    "mathematicians = ['Euler', 'Newton', 'Bernoulli']\n",
    "print('Mathematicians list :', mathematicians)\n",
    "print(\n",
    "    'First mathematician:', mathematicians[0]\n",
    ")  # Access first element. Numbering starts at 0.\n",
    "print('Last mathematician:', mathematicians[-1])  # Access last element.\n",
    "mathematicians.append('Dantzig')  # Add an element\n",
    "print('Updated list:', mathematicians)\n"
   ]
  },
  {
   "cell_type": "markdown",
   "id": "b72b77cc",
   "metadata": {},
   "source": [
    "Python provides a feature called \"slicing\" to extract portions of a list.\n",
    "The slicing syntax is: list[start:stop]\n",
    "This creates a new list that includes elements starting from index 'start' and up to, but not including, index 'stop'.\n",
    "For example, list[1:4] will give you the elements at index 1, 2, and 3.\n",
    "If you omit 'start', it begins from the start of the list; if you omit 'stop', it goes until the end.\n",
    "Python also supports negative indices:\n",
    "- Index -1 refers to the last element\n",
    "- Index -2 refers to the second-to-last, and so on.\n",
    "This is useful for working with the tail of a list or extracting ranges relative to the end."
   ]
  },
  {
   "cell_type": "code",
   "execution_count": null,
   "id": "19965c92",
   "metadata": {},
   "outputs": [],
   "source": [
    "sublist = mathematicians[1:-1]\n",
    "print(f'Extracted range: {sublist}')\n"
   ]
  },
  {
   "cell_type": "markdown",
   "id": "23de7ef8",
   "metadata": {},
   "source": [
    "Tuples are ordered collections of items, similar to lists.\n",
    "However, unlike lists, tuples are *immutable*, which means that their contents\n",
    "cannot be changed once the tuple is created. You cannot add, remove, or modify\n",
    "any element in a tuple.\n",
    "\n",
    "Tuples are useful when you want to store a fixed set of values that should\n",
    "not be altered by the program — for example, a coordinate pair (x, y), where\n",
    "the values represent a specific point in space and must remain constant.\n",
    "This immutability helps prevent unintended changes to the data."
   ]
  },
  {
   "cell_type": "code",
   "execution_count": null,
   "id": "6227d5cc",
   "metadata": {},
   "outputs": [],
   "source": [
    "print('\\n### Tuples ###')\n",
    "coordinates = (10, 20)\n",
    "print('Coordinates:', coordinates)\n"
   ]
  },
  {
   "cell_type": "markdown",
   "id": "370fd133",
   "metadata": {},
   "source": [
    "Dictionaries are a built-in data structure in Python that store information as key-value pairs.\n",
    "Each key must be unique, and is used to access the corresponding value.\n",
    "Dictionaries are enclosed in curly braces {}, with keys and values separated by colons.\n",
    "For example: {'name': 'Alice', 'age': 20} is a dictionary with two entries.\n",
    "You can access values by using their keys, like `dictionary['name']` returns 'Alice'.\n",
    "Dictionaries are mutable: you can add, modify, or delete entries after the dictionary is created.\n",
    "This makes them very useful for representing structured data, such as properties of an object\n",
    "(e.g., a student with a name, age, and grade)."
   ]
  },
  {
   "cell_type": "code",
   "execution_count": null,
   "id": "15c9c1bc",
   "metadata": {},
   "outputs": [],
   "source": [
    "print('\\n### Dictionaries ###')\n",
    "student = {'name': 'Alice', 'age': 20, 'grade': 5.75}\n",
    "print('Student Dictionary:', student)\n",
    "print('Student name:', student['name'])\n"
   ]
  },
  {
   "cell_type": "markdown",
   "id": "5529d55b",
   "metadata": {},
   "source": [
    "Conditional statements allow a Python program to perform different actions depending on whether certain conditions are true or false.\n",
    "The most common conditional structure starts with `if`, which checks whether a condition is true.\n",
    "If the condition is true, the indented block of code that follows will be executed.\n",
    "If the `if` condition is false, you can test another condition using `elif` (short for \"else if\").\n",
    "If none of the `if` or `elif` conditions are met, an `else` block can be used to execute a default action.\n",
    "This allows the program to make decisions and respond appropriately to different input values or situations.\n",
    "Indentation (spacing at the beginning of a line) is very important in Python: it defines which code belongs to which block."
   ]
  },
  {
   "cell_type": "code",
   "execution_count": null,
   "id": "6058e9d5",
   "metadata": {},
   "outputs": [],
   "source": [
    "print('\\n### Conditionals ###')\n",
    "num = 7\n",
    "if num > 5:\n",
    "    print('The number is greater than 5')\n",
    "elif num == 5:\n",
    "    print('The number is 5')\n",
    "else:\n",
    "    print('The number is less than 5')\n"
   ]
  },
  {
   "cell_type": "markdown",
   "id": "69c567c6",
   "metadata": {},
   "source": [
    "Loops in Python are a fundamental programming tool that let you repeat a block of code multiple times without writing it out manually.\n",
    "There are two main types of loops: `for` loops and `while` loops.\n",
    "\n",
    "A `for` loop is used when you want to iterate over a sequence of values — such as a list, a string, or a range of numbers.\n",
    "It automatically assigns each item in the sequence to a variable, and executes the loop body once for each item.\n",
    "\n",
    "In the example below, we use `range(5)`, which generates a sequence of numbers from 0 to 4 (inclusive of 0, exclusive of 5),\n",
    "and `i` will take on each of these values in turn. The `print` statement inside the loop will be executed five times,\n",
    "once for each value of `i`."
   ]
  },
  {
   "cell_type": "code",
   "execution_count": null,
   "id": "5c5b9aec",
   "metadata": {},
   "outputs": [],
   "source": [
    "print('\\n### Loops ###')\n",
    "print('For loop example:')\n",
    "for i in range(5):  # Loop from 0 to 4\n",
    "    print('Iteration:', i)\n"
   ]
  },
  {
   "cell_type": "markdown",
   "id": "8973e4a7",
   "metadata": {},
   "source": [
    "\n",
    "A `while` loop in Python repeatedly executes a block of code as long as a specified condition remains true.\n",
    "The loop checks the condition before each iteration, and if it is still true, it runs the code block again.\n",
    "This is useful when the number of iterations is not known in advance, and you want to keep looping until some event or condition occurs.\n",
    "In the example below, the loop runs as long as `x > 0`. Inside the loop, `x` is decremented by 1 at each step.\n",
    "This ensures that eventually the condition `x > 0` becomes false, and the loop stops.\n",
    "Be cautious: if the condition never becomes false (for example, if `x` is never decreased), the loop will run forever — this is called an infinite loop."
   ]
  },
  {
   "cell_type": "code",
   "execution_count": null,
   "id": "ba970c01",
   "metadata": {},
   "outputs": [],
   "source": [
    "print('While loop example:')\n",
    "x = 3\n",
    "while x > 0:\n",
    "    print('Countdown:', x)\n",
    "    x -= 1\n",
    "\n"
   ]
  },
  {
   "cell_type": "markdown",
   "id": "6433ede2",
   "metadata": {},
   "source": [
    "\n",
    "Functions in Python allow you to define a reusable block of code that performs a specific task.\n",
    "They are useful for organizing your code, avoiding repetition, and improving clarity.\n",
    "A function can take one or more *parameters* as input, and can optionally return a result.\n",
    "\n",
    "In the example below, the function is named `greet`, and it takes a single input `name` which is expected to be a string.\n",
    "The function returns a string formatted with a greeting message.\n",
    "\n",
    "The type hints (`name: str` and `-> str`) are optional: they indicate that the input should be a string,\n",
    "and the function will return a string. These hints are helpful for people reading the code and for tools\n",
    "that check your code for potential issues."
   ]
  },
  {
   "cell_type": "code",
   "execution_count": null,
   "id": "40c4050c",
   "metadata": {},
   "outputs": [],
   "source": [
    "def greet(name: str) -> str:\n",
    "    '''Returns a greeting message for the given name.'''\n",
    "    return f'Hello, {name}!'\n",
    "\n",
    "\n",
    "print(greet('Alice'))\n"
   ]
  },
  {
   "cell_type": "markdown",
   "id": "a866e706",
   "metadata": {},
   "source": [
    "\n",
    "Writing to a file:\n",
    "In Python, you can write text to a file using the built-in `open()` function.\n",
    "The 'with' statement ensures the file is automatically closed after the writing is done,\n",
    "which is a best practice to avoid leaving files open accidentally.\n",
    "Opening a file in write mode ('w') will:\n",
    "- create the file if it does not exist,\n",
    "- or overwrite its contents if it already exists.\n",
    "In this example, we open the file named 'example.txt' and write three lines into it."
   ]
  },
  {
   "cell_type": "code",
   "execution_count": null,
   "id": "676c8251",
   "metadata": {},
   "outputs": [],
   "source": [
    "filename = 'example.txt'\n",
    "\n",
    "with open(filename, 'w') as file:\n",
    "    file.write('This is a simple text file.\\n')\n",
    "    file.write('Python makes file handling easy!\\n')\n",
    "    print('Another line written using print()', file=file)\n"
   ]
  },
  {
   "cell_type": "markdown",
   "id": "842fc4b3",
   "metadata": {},
   "source": [
    "Reading from a file:\n",
    "To read the contents of a file, we open it using the built-in `open()` function with mode 'r', which stands for \"read\".\n",
    "The 'with' statement is used to manage the file context: it ensures that the file is automatically closed after reading,\n",
    "even if an error occurs. This is good practice and prevents file-handling issues.\n",
    "The `read()` method reads the entire contents of the file as a single string.\n",
    "If the file contains multiple lines, they will be separated by newline characters (`\\n`) in the string."
   ]
  },
  {
   "cell_type": "code",
   "execution_count": null,
   "id": "769ca41c",
   "metadata": {},
   "outputs": [],
   "source": [
    "with open(filename, 'r') as file:\n",
    "    content = file.read()\n",
    "    print('File Content:\\n', content)\n"
   ]
  },
  {
   "cell_type": "markdown",
   "id": "c94594b6",
   "metadata": {},
   "source": [
    "\n",
    "Exception Handling in Python:\n",
    "\n",
    "When you write a program, it's common to encounter situations where errors may occur — for example,\n",
    "trying to divide a number by zero, opening a file that doesn't exist, or converting text to a number.\n",
    "Python provides a way to handle such situations gracefully using *exception handling*.\n",
    "\n",
    "A `try` block contains code that might raise an error during execution.\n",
    "If an error (called an \"exception\") occurs, Python stops executing the `try` block and looks for an `except` block\n",
    "that matches the type of error. If a matching `except` block is found, its code runs instead of crashing the program.\n",
    "\n",
    "An optional `finally` block contains code that always runs, no matter what — whether an exception occurred or not.\n",
    "This is useful for cleanup tasks like closing a file or releasing a resource.\n",
    "\n",
    "In the example below, we attempt to divide by zero, which raises a `ZeroDivisionError`.\n",
    "Instead of crashing, the program catches the exception and prints a helpful message."
   ]
  },
  {
   "cell_type": "code",
   "execution_count": null,
   "id": "3da69b07",
   "metadata": {},
   "outputs": [],
   "source": [
    "try:\n",
    "    result = 10 / 0  # This will raise a ZeroDivisionError\n",
    "except ZeroDivisionError:\n",
    "    print('Cannot divide by zero!')\n",
    "finally:\n",
    "    print('Execution completed.')\n",
    "\n"
   ]
  },
  {
   "cell_type": "markdown",
   "id": "cc76b6ce",
   "metadata": {},
   "source": [
    "# f-Strings in Python"
   ]
  },
  {
   "cell_type": "markdown",
   "id": "ea3adad7",
   "metadata": {},
   "source": [
    "f-strings, short for \"formatted string literals,\" are a convenient and readable way to include variables or expressions directly within strings.\n",
    "You simply prefix the string with the letter `f`, and then place expressions inside curly braces `{}`.\n",
    "Python will evaluate those expressions and insert their values into the resulting string."
   ]
  },
  {
   "cell_type": "markdown",
   "id": "46ae4c48",
   "metadata": {},
   "source": [
    "## Basic usage"
   ]
  },
  {
   "cell_type": "code",
   "execution_count": null,
   "id": "7dbea47a",
   "metadata": {},
   "outputs": [],
   "source": [
    "name: str = 'Ada'\n",
    "age: int = 36\n",
    "print(f'{name} is {age} years old.')\n"
   ]
  },
  {
   "cell_type": "markdown",
   "id": "c73094d2",
   "metadata": {},
   "source": [
    "## Arithmetic expressions inside f-strings\n",
    "f-strings (formatted string literals) let you include not just variables,\n",
    "but also expressions directly inside the curly braces {}.\n",
    "For example, you can perform arithmetic like addition or multiplication\n",
    "right inside the string, which makes the code more concise and readable.\n",
    "The expression will be evaluated and its result will be inserted into the string output."
   ]
  },
  {
   "cell_type": "code",
   "execution_count": null,
   "id": "1191885a",
   "metadata": {},
   "outputs": [],
   "source": [
    "a: int = 3\n",
    "b: int = 4\n",
    "print(f'The sum of {a} and {b} is {a + b}.')\n"
   ]
  },
  {
   "cell_type": "markdown",
   "id": "d7233601",
   "metadata": {},
   "source": [
    "## Floating-point formatting\n",
    "When printing floating-point numbers (like decimals), it’s often useful to control how many digits appear after the decimal point.\n",
    "This can make the output cleaner and more readable, especially when displaying results like prices, measurements, or percentages.\n",
    "In an f-string, you can specify the number of decimal places using the format `{value:.nf}` where `n` is the number of digits.\n",
    "For example, `{pi:.2f}` rounds the value of pi to 2 decimal places (e.g., 3.14)."
   ]
  },
  {
   "cell_type": "code",
   "execution_count": null,
   "id": "61a2fdeb",
   "metadata": {},
   "outputs": [],
   "source": [
    "pi: float = 3.1415926535\n",
    "print(\n",
    "    f'The value of pi rounded to 2 decimals is {pi:.2f}.'\n",
    ")  # .2f formats float with 2 decimals\n"
   ]
  },
  {
   "cell_type": "markdown",
   "id": "e3902f2c",
   "metadata": {},
   "source": [
    "## Padding and alignment\n",
    "When printing multiple values in a table-like format, it's helpful to align the text within fixed-width fields.\n",
    "This makes the output easier to read and compare.\n",
    "You can specify alignment using formatting codes inside an f-string:\n",
    "- `<` left-aligns the text in the field\n",
    "- `^` centers the text\n",
    "- `>` right-aligns the text\n",
    "The number after the symbol indicates the width of the field (e.g., 10 characters wide).\n",
    "In the example below, each word is aligned inside a 10-character wide field,\n",
    "and the output is visually enclosed in vertical bars to highlight the alignment."
   ]
  },
  {
   "cell_type": "code",
   "execution_count": null,
   "id": "99f9a7f1",
   "metadata": {},
   "outputs": [],
   "source": [
    "print(f'|{\"left\":<10}|{\"center\":^10}|{\"right\":>10}|')\n"
   ]
  },
  {
   "cell_type": "markdown",
   "id": "ce736457",
   "metadata": {},
   "source": [
    "## Number formatting\n",
    "When working with large numbers, it's helpful to make them easier to read by adding separators.\n",
    "Python's f-string formatting supports this with the `:,` format specifier, which adds commas (or locale-specific separators)\n",
    "to separate groups of digits in large numbers. This is especially useful for printing values like population sizes,\n",
    "financial figures, or any other quantity with many digits."
   ]
  },
  {
   "cell_type": "code",
   "execution_count": null,
   "id": "37073ae4",
   "metadata": {},
   "outputs": [],
   "source": [
    "large_number: int = 1_000_000\n",
    "print(f'Population [without formatting]: {large_number}')\n",
    "print(\n",
    "    f'Population [with formatting]: {large_number:,}'\n",
    ")  # adds commas to format as 1,000,000 instead of 1000000\n",
    "\n"
   ]
  },
  {
   "cell_type": "markdown",
   "id": "b79c82d5",
   "metadata": {},
   "source": [
    "## Using expressions and function calls\n",
    "f-strings not only allow you to include variables directly in strings,\n",
    "but you can also include expressions or function calls.\n",
    "For example, if you define a function that computes the square of a number,\n",
    "you can call that function inside an f-string to display the result dynamically.\n",
    "This is very useful for creating formatted messages that reflect the outcome of calculations."
   ]
  },
  {
   "cell_type": "code",
   "execution_count": null,
   "id": "11388eb3",
   "metadata": {},
   "outputs": [],
   "source": [
    "def square(x: int) -> int:\n",
    "    return x * x\n",
    "\n",
    "\n",
    "n: int = 5\n",
    "print(f'The square of {n} is {square(n)}.')\n",
    "\n"
   ]
  },
  {
   "cell_type": "markdown",
   "id": "0a48df23",
   "metadata": {},
   "source": [
    "## Using dictionaries with f-strings\n",
    "You can use dictionary values directly inside f-strings by referring to them using their keys.\n",
    "This is especially helpful when formatting output from structured data stored in dictionaries.\n",
    "Make sure to use double quotes for the key (e.g., info[\"mass\"]) inside the curly braces.\n",
    "In the example below, we extract and format the values for mass and velocity from a dictionary."
   ]
  },
  {
   "cell_type": "code",
   "execution_count": null,
   "id": "78d490aa",
   "metadata": {},
   "outputs": [],
   "source": [
    "info: dict[str, float] = {'mass': 70.5, 'velocity': 3.2}\n",
    "print(f'Mass: {info[\"mass\"]} kg, Velocity: {info[\"velocity\"]} m/s')\n"
   ]
  },
  {
   "cell_type": "markdown",
   "id": "811c1e35",
   "metadata": {},
   "source": [
    "# NumPy Tutorial: Vectors, Matrices, and Operations"
   ]
  },
  {
   "cell_type": "markdown",
   "id": "bfc2d3a6",
   "metadata": {},
   "source": [
    "NumPy is a powerful and widely used library in Python for performing numerical computations efficiently.\n",
    "It is especially useful for working with large arrays and matrices of numerical data, and includes many functions\n",
    "for linear algebra, statistics, and more. NumPy arrays behave differently from regular Python lists:\n",
    "they are more efficient in terms of memory and speed, and allow element-wise operations and broadcasting,\n",
    "which makes many mathematical operations easier to write and understand."
   ]
  },
  {
   "cell_type": "markdown",
   "id": "de1a9716",
   "metadata": {},
   "source": [
    "In this section, we will introduce basic concepts of NumPy, including how to create vectors and matrices,\n",
    "how to perform simple operations with them, and how to use some of the linear algebra tools provided by the library.\n",
    "If you are new to programming or numerical computing, don’t worry — we’ll proceed step by step with examples."
   ]
  },
  {
   "cell_type": "markdown",
   "id": "d4c76369",
   "metadata": {},
   "source": [
    "## Vectors"
   ]
  },
  {
   "cell_type": "markdown",
   "id": "fbf91e17",
   "metadata": {},
   "source": [
    "In Python, a vector is often represented using a 1-dimensional NumPy array.\n",
    "NumPy is a powerful library for numerical computations that makes it easy to handle vectors and matrices.\n",
    "To create a vector, we use the function np.array() and pass in a list of numbers.\n",
    "Each element in the list becomes a component of the vector.\n",
    "Once the vector is created, we can print it, perform mathematical operations, or access individual elements."
   ]
  },
  {
   "cell_type": "code",
   "execution_count": null,
   "id": "201010e6",
   "metadata": {},
   "outputs": [],
   "source": [
    "vector: np.ndarray = np.array([1, 2, 3])\n",
    "print('Vector:', vector)\n"
   ]
  },
  {
   "cell_type": "markdown",
   "id": "508c4a9b",
   "metadata": {},
   "source": [
    "You can access individual elements of a NumPy array using indices, just like with Python lists.\n",
    "Indexing starts at 0, so the first element has index 0, the second has index 1, and so on.\n",
    "For example, vector[1] accesses the second element of the array (which is 2 in this case)."
   ]
  },
  {
   "cell_type": "code",
   "execution_count": null,
   "id": "f9e348f4",
   "metadata": {},
   "outputs": [],
   "source": [
    "print('Second element:', vector[1])\n"
   ]
  },
  {
   "cell_type": "markdown",
   "id": "c829d892",
   "metadata": {},
   "source": [
    "## Matrices"
   ]
  },
  {
   "cell_type": "markdown",
   "id": "8276d493",
   "metadata": {},
   "source": [
    "A matrix is a two-dimensional (2D) array, which means it is made up of rows and columns.\n",
    "In NumPy, you can represent a matrix as an array of arrays — where each inner array represents a row.\n",
    "It is important that all rows have the same number of elements; otherwise, NumPy will not treat it as a proper 2D array.\n",
    "Matrices are useful for representing linear systems, geometric transformations, and many other applications in optimization and engineering.\n",
    "Below is an example of a 2×2 matrix, with two rows and two columns."
   ]
  },
  {
   "cell_type": "code",
   "execution_count": null,
   "id": "cd1870e1",
   "metadata": {},
   "outputs": [],
   "source": [
    "matrix: np.ndarray = np.array([[1, 2], [3, 4]])\n",
    "print('Matrix:\\n', matrix)\n"
   ]
  },
  {
   "cell_type": "markdown",
   "id": "fb61ca14",
   "metadata": {},
   "source": [
    "NumPy provides simple functions to generate specific types of matrices that are frequently used in mathematics and optimization.\n",
    "These include matrices filled with zeros or ones, and the identity matrix.\n",
    "Such matrices are useful when initializing algorithms, setting up systems of equations, or testing matrix operations.\n",
    "A matrix full of zeros."
   ]
  },
  {
   "cell_type": "code",
   "execution_count": null,
   "id": "11cff3f1",
   "metadata": {},
   "outputs": [],
   "source": [
    "all_zeros: np.ndarray = np.zeros([3, 2])\n",
    "print('Zeros:\\n', all_zeros)\n"
   ]
  },
  {
   "cell_type": "markdown",
   "id": "c18781dc",
   "metadata": {},
   "source": [
    "A matrix full of ones."
   ]
  },
  {
   "cell_type": "code",
   "execution_count": null,
   "id": "a43e59e0",
   "metadata": {},
   "outputs": [],
   "source": [
    "all_ones: np.ndarray = np.ones([2, 3])\n",
    "print('Ones:\\n', all_ones)\n"
   ]
  },
  {
   "cell_type": "markdown",
   "id": "b72d96d8",
   "metadata": {},
   "source": [
    "The identity matrix is a square matrix with 1s on the diagonal and 0s elsewhere.\n",
    "It acts like the number 1 in matrix multiplication: multiplying a matrix by the identity matrix leaves it unchanged.\n",
    "The function is called `eye` because the identity matrix is often denoted by the letter \"I\" in mathematics."
   ]
  },
  {
   "cell_type": "code",
   "execution_count": null,
   "id": "8f420675",
   "metadata": {},
   "outputs": [],
   "source": [
    "identity: np.ndarray = np.eye(4)\n",
    "print('Identity matrix:\\n', identity)\n"
   ]
  },
  {
   "cell_type": "markdown",
   "id": "2d9fa5b4",
   "metadata": {},
   "source": [
    "The transpose of a matrix is an operation that flips it over its diagonal,\n",
    "turning its rows into columns and columns into rows.\n",
    "For example, if a matrix has shape (2, 3), the transposed matrix will have shape (3, 2).\n",
    "This is a common operation in linear algebra, especially when switching between row and column vectors.\n",
    "In NumPy, you can get the transpose of a matrix using the `.T` attribute."
   ]
  },
  {
   "cell_type": "code",
   "execution_count": null,
   "id": "5f79c18e",
   "metadata": {},
   "outputs": [],
   "source": [
    "print('Transposed matrix:\\n', matrix.T)\n"
   ]
  },
  {
   "cell_type": "markdown",
   "id": "3bd1b91f",
   "metadata": {},
   "source": [
    "You can access elements in a 2D NumPy array using the syntax [row_index, column_index].\n",
    "Indexing starts at 0, so matrix[1, 0] refers to the element in the second row and first column.\n",
    "This is different from traditional mathematical notation where indices often start at 1."
   ]
  },
  {
   "cell_type": "code",
   "execution_count": null,
   "id": "34c8383a",
   "metadata": {},
   "outputs": [],
   "source": [
    "print('Element at row 2, column 1:', matrix[1, 0])\n"
   ]
  },
  {
   "cell_type": "markdown",
   "id": "788995ff",
   "metadata": {},
   "source": [
    "## Matrix Multiplication\n",
    "\n",
    "Matrix multiplication is a fundamental operation in linear algebra, and NumPy makes it easy to perform.\n",
    "You can multiply two 2D arrays (matrices) using either the `@` operator or the function `np.dot()`.\n",
    "This operation follows the standard rules of linear algebra: the number of columns in the first matrix\n",
    "must match the number of rows in the second matrix.\n",
    "\n",
    "In the example below:\n",
    "- Matrix A is a 2x2 matrix with elements [[1, 2], [3, 4]]\n",
    "- Matrix B is another 2x2 matrix with elements [[5, 6], [7, 8]]\n",
    "The product A @ B will result in a new 2x2 matrix where each element is computed as the dot product\n",
    "of a row from A and a column from B."
   ]
  },
  {
   "cell_type": "code",
   "execution_count": null,
   "id": "2919279f",
   "metadata": {},
   "outputs": [],
   "source": [
    "A: np.ndarray = np.array([[1, 2], [3, 4]])\n",
    "B: np.ndarray = np.array([[5, 6], [7, 8]])\n",
    "product: np.ndarray = A @ B  # or np.dot(A, B)\n",
    "print('Matrix Product A @ B:\\n', product)\n",
    "\n",
    "A: np.ndarray = np.array([[2, 1], [1, 3]])\n",
    "b: np.ndarray = np.array([8, 13])\n",
    "x: np.ndarray = np.linalg.solve(A, b)\n",
    "print('Solution of the system Ax = b:', x)\n"
   ]
  },
  {
   "cell_type": "markdown",
   "id": "8e14a06b",
   "metadata": {},
   "source": [
    "## Solving linear systems"
   ]
  },
  {
   "cell_type": "markdown",
   "id": "10a32fa2",
   "metadata": {},
   "source": [
    "In many optimization and engineering problems, we encounter systems of linear equations of the form Ax = b,\n",
    "where A is a matrix of coefficients, x is a vector of unknowns, and b is a vector of constants (right-hand side).\n",
    "Solving such a system means finding the values of x that satisfy all the equations simultaneously.\n",
    "\n",
    "NumPy provides a convenient function `np.linalg.solve(A, b)` that does exactly this:\n",
    "it takes a square matrix A and a vector b, and returns the solution vector x.\n",
    "Note: This method works only if A is square (same number of rows and columns) and non-singular (i.e., has an inverse)."
   ]
  },
  {
   "cell_type": "code",
   "execution_count": null,
   "id": "948a7a71",
   "metadata": {},
   "outputs": [],
   "source": [
    "A: np.ndarray = np.array([[2, 1], [1, 3]])\n",
    "b: np.ndarray = np.array([8, 13])\n",
    "x: np.ndarray = np.linalg.solve(A, b)\n",
    "print('Solution of the system Ax = b:', x)\n"
   ]
  },
  {
   "cell_type": "markdown",
   "id": "4ed711d6",
   "metadata": {},
   "source": [
    "## Determinant Calculation"
   ]
  },
  {
   "cell_type": "markdown",
   "id": "fbdc1ed1",
   "metadata": {},
   "source": [
    "The determinant is a scalar value that can be computed from a square matrix.\n",
    "It provides important information about the matrix, such as whether it is invertible.\n",
    "In optimization and linear algebra, a non-zero determinant indicates that the matrix\n",
    "has full rank and a unique solution exists for the system Ax = b.\n",
    "\n",
    "NumPy provides the function np.linalg.det() to compute the determinant of a square matrix.\n",
    "Below, we compute the determinant of matrix A and display the result."
   ]
  },
  {
   "cell_type": "code",
   "execution_count": null,
   "id": "ac4c33de",
   "metadata": {},
   "outputs": [],
   "source": [
    "det_A: float = np.linalg.det(A)\n",
    "print('Determinant of matrix A:', det_A)\n",
    "\n",
    "A: np.ndarray = np.array([[1, -1, 0, 1], [0, 0, 1, -1], [1, -1, 1, 0]])\n",
    "rank = np.linalg.matrix_rank(A)\n",
    "print('Rank of A: ', rank)\n"
   ]
  },
  {
   "cell_type": "markdown",
   "id": "ec1c6214",
   "metadata": {},
   "source": [
    "The rank of a matrix tells us how many linearly independent rows or columns it has.\n",
    "In optimization, it is used to detect redundant constraints — constraints that do not affect the feasible region\n",
    "because they are linear combinations of others.\n",
    "NumPy provides the function `np.linalg.matrix_rank()` to compute this."
   ]
  },
  {
   "cell_type": "code",
   "execution_count": null,
   "id": "00152f2d",
   "metadata": {},
   "outputs": [],
   "source": [
    "A: np.ndarray = np.array([[1, -1, 0, 1], [0, 0, 1, -1], [1, -1, 1, 0]])\n",
    "print('Rank of A: ', rank)\n"
   ]
  },
  {
   "cell_type": "markdown",
   "id": "f03cd312",
   "metadata": {},
   "source": [
    "Consult the online NumPy documentation for additional features and examples:\n",
    "https://numpy.org/doc/\n",
    "This website provides detailed explanations and usage examples for NumPy functions,\n",
    "which are very helpful if you want to explore more advanced operations or clarify how specific functions work."
   ]
  },
  {
   "cell_type": "markdown",
   "id": "73fc2495",
   "metadata": {},
   "source": [
    "# Importing modules and packages in Python\n",
    "\n",
    "In Python, functionality is organized in *modules* (single `.py` files) and *packages* (folders\n",
    "containing modules, usually with an `__init__.py`). You \"bring\" code into your script using\n",
    "the `import` statement. Below are the most common patterns you'll use in this course."
   ]
  },
  {
   "cell_type": "markdown",
   "id": "a4dcf4d1",
   "metadata": {},
   "source": [
    "## Import a whole module\n",
    "\n",
    "You access names with the module prefix, which avoids name clashes and keeps code readable."
   ]
  },
  {
   "cell_type": "code",
   "execution_count": null,
   "id": "b218f3bb",
   "metadata": {},
   "outputs": [],
   "source": [
    "import math\n",
    "print('cos(0) using math module:', math.cos(0))\n"
   ]
  },
  {
   "cell_type": "markdown",
   "id": "cc47e28d",
   "metadata": {},
   "source": [
    "## Import with an alias (a short nickname)\n",
    "\n",
    "Common for widely used libraries (e.g., numpy as np, pandas as pd)."
   ]
  },
  {
   "cell_type": "code",
   "execution_count": null,
   "id": "80480233",
   "metadata": {},
   "outputs": [],
   "source": [
    "import math as m\n",
    "print('cos(0) using alias m:', m.cos(0))\n"
   ]
  },
  {
   "cell_type": "markdown",
   "id": "a57e5b6f",
   "metadata": {},
   "source": [
    "## Import selected names from a module\n",
    "\n",
    "This puts the names directly in your namespace (no prefix when calling them)."
   ]
  },
  {
   "cell_type": "code",
   "execution_count": null,
   "id": "0d1cc0e0",
   "metadata": {},
   "outputs": [],
   "source": [
    "from math import sqrt, pi\n",
    "print('sqrt(9) without prefix:', sqrt(9))\n",
    "print('pi without prefix:', pi)\n"
   ]
  },
  {
   "cell_type": "markdown",
   "id": "7ded8433",
   "metadata": {},
   "source": [
    "## Import submodules or names from a *package*\n",
    "\n",
    "You can import the whole submodule or only\n",
    "certain names from it. The examples below are wrapped in try/except so this\n",
    "notebook remains runnable even if the package is not installed yet."
   ]
  },
  {
   "cell_type": "code",
   "execution_count": null,
   "id": "3688db89",
   "metadata": {},
   "outputs": [],
   "source": [
    "try:\n",
    "    # Import the submodule with an alias\n",
    "    import teaching_optimization.linear_constraints as lc\n",
    "    # Use a function via the alias (replace with real arguments when you have data)\n",
    "    print('Submodule imported as lc. Available names example:', hasattr(lc, 'StandardForm'))\n",
    "except ModuleNotFoundError:\n",
    "    print('Package teaching_optimization not found. Install or ensure it is on PYTHONPATH.')\n",
    "\n",
    "try:\n",
    "    # Import specific names directly from the submodule\n",
    "    from teaching_optimization.linear_constraints import (\n",
    "        draw_polyhedron_standard_form,\n",
    "        LabeledPoint,\n",
    "        BoundingBox,\n",
    "        StandardForm,\n",
    "    )\n",
    "    print('Specific names imported from teaching_optimization.linear_constraints.')\n",
    "except ModuleNotFoundError:\n",
    "    print('Cannot import names from teaching_optimization.linear_constraints (package not available).')\n"
   ]
  },
  {
   "cell_type": "markdown",
   "id": "00880a4c",
   "metadata": {},
   "source": [
    "## Where does Python look for modules? (the import search path)\n",
    "\n",
    "Python searches in: the current working directory, installed site-packages, and the\n",
    "directories listed in sys.path. You can inspect or extend it at runtime."
   ]
  },
  {
   "cell_type": "code",
   "execution_count": null,
   "id": "2ea9da8a",
   "metadata": {},
   "outputs": [],
   "source": [
    "import sys\n",
    "print('Number of entries in sys.path:', len(sys.path))\n"
   ]
  },
  {
   "cell_type": "markdown",
   "id": "6eab7f1c",
   "metadata": {},
   "source": [
    "## Installing third-party packages\n",
    "\n",
    "Packages that do not come with Python must be installed (once) in your environment:\n",
    "pip install teaching-optimization\n",
    "or inside a notebook cell:  %pip install teaching-optimization\n",
    "Make sure you are in the correct virtual environment so that the import will succeed."
   ]
  },
  {
   "cell_type": "markdown",
   "id": "cb8e24d4",
   "metadata": {},
   "source": [
    "## Summary:\n",
    "\n",
    "- Use `import package.module as alias` for whole modules you call often.\n",
    "- Use `from package.module import Name1, Name2` when you need only a few items [recommended].\n",
    "- Keep imports at the top of your files, and use aliases consistently.\n",
    "- If an import fails, check your virtual environment and installation (pip install ...)."
   ]
  },
  {
   "cell_type": "markdown",
   "id": "2b91fc63",
   "metadata": {},
   "source": [
    "# Getting documentation (help) for modules, packages, and functions\n",
    "\n",
    "Python provides built‑in ways to access documentation and discover what a module contains.\n",
    "This is very handy during the labs when you are unsure about a function's arguments\n",
    "or want to know what is available inside a package like `teaching_optimization`."
   ]
  },
  {
   "cell_type": "markdown",
   "id": "fcd424a5",
   "metadata": {},
   "source": [
    "## Built-in help for standard modules\n",
    "\n",
    "You can use the `help`function to receive information about a module, a package or a function."
   ]
  },
  {
   "cell_type": "code",
   "execution_count": null,
   "id": "deea87da",
   "metadata": {},
   "outputs": [],
   "source": [
    "help(math)\n"
   ]
  },
  {
   "cell_type": "code",
   "execution_count": null,
   "id": "adfaaa8c",
   "metadata": {},
   "outputs": [],
   "source": [
    "help(math.cos)\n"
   ]
  },
  {
   "cell_type": "markdown",
   "id": "27704cb4",
   "metadata": {},
   "source": [
    "## Inspect what a module exposes with `dir()`\n"
   ]
  },
  {
   "cell_type": "code",
   "execution_count": null,
   "id": "4a61bbdc",
   "metadata": {},
   "outputs": [],
   "source": [
    "list_of_functions = list(dir(math))\n"
   ]
  },
  {
   "cell_type": "markdown",
   "id": "ef8f969b",
   "metadata": {},
   "source": [
    "We print the first 10 functions"
   ]
  },
  {
   "cell_type": "code",
   "execution_count": null,
   "id": "3fb6393b",
   "metadata": {},
   "outputs": [],
   "source": [
    "print(list_of_functions[:10])\n"
   ]
  },
  {
   "cell_type": "markdown",
   "id": "137abf4e",
   "metadata": {},
   "source": [
    "In general, names that begin with a single underscore (_) or double underscores (__)\n",
    "are considered \"internal\" to the module. They are mainly used by Python itself\n",
    "or by developers for special purposes, and are not intended for everyday use.\n",
    "When exploring a module with help() or dir(), you can usually ignore these entries\n",
    "and focus on the functions, classes, and variables without leading underscores."
   ]
  },
  {
   "cell_type": "code",
   "execution_count": null,
   "id": "f39dad64",
   "metadata": {},
   "outputs": [],
   "source": [
    "print('Some names exported by math:', [name for name in list_of_functions if not name.startswith('_')][:10], '...')\n"
   ]
  },
  {
   "cell_type": "markdown",
   "id": "099ca109",
   "metadata": {},
   "source": [
    "## Tips\n",
    "\n",
    "- In a notebook, you can type:  `help(object)`  or  `object?`  to open documentation.\n",
    "- Use `dir(object)` to list attributes and functions."
   ]
  }
 ],
 "metadata": {},
 "nbformat": 4,
 "nbformat_minor": 5
}
