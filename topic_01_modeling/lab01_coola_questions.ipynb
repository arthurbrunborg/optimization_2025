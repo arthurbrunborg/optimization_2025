{
 "cells": [
  {
   "cell_type": "markdown",
   "id": "39334bc6",
   "metadata": {},
   "source": [
    "# Coola-Coola\n",
    "\n",
    "## Introduction to optimization and operations research.\n",
    "\n",
    "Michel Bierlaire\n"
   ]
  },
  {
   "cell_type": "markdown",
   "id": "3169d2f5",
   "metadata": {},
   "source": [
    "The objective of this first set of exercises is to demonstrate how to use an optimization algorithm in Python.\n",
    "Rather than treating such algorithms as \"black boxes,\" it is important to critically evaluate the solutions\n",
    "they produce. You should assess whether the results make sense, and if not, investigate the cause and refine the\n",
    "model or approach accordingly."
   ]
  },
  {
   "cell_type": "markdown",
   "id": "4b2090be",
   "metadata": {},
   "source": [
    "The company Coola-Coola Ltd. wants to design a can of soda of volume\n",
    "0.33 liters. They need to set the dimensions (in centimeters) of this\n",
    "can to use the minimum amount of aluminium, knowing that the form of the can is a\n",
    "perfect cylinder, and the thickness of the aluminium is the same\n",
    "everywhere. Write the problem as an optimization problem. Then, write a Python code to solve it, using the\n",
    "[scipy.minimize](https://docs.scipy.org/doc/scipy/reference/generated/scipy.optimize.minimize.html) function."
   ]
  },
  {
   "cell_type": "markdown",
   "id": "f661c664",
   "metadata": {},
   "source": [
    "Make sure to read the documentation first:\n",
    "[click here](https://docs.scipy.org/doc/scipy/reference/generated/scipy.optimize.minimize.html)"
   ]
  },
  {
   "cell_type": "markdown",
   "id": "9186bc16",
   "metadata": {},
   "source": [
    "# Formulation of the optimization problem"
   ]
  },
  {
   "cell_type": "markdown",
   "id": "bb49aae7",
   "metadata": {},
   "source": [
    "Before proceeding with the implementation, formulate the problem as a constrained optimization problem, where the\n",
    "constraint is written as $$g(x)=0.$$ No need to implement anything yet."
   ]
  },
  {
   "cell_type": "markdown",
   "id": "168f3e44",
   "metadata": {},
   "source": [
    "## What are the decision variables?"
   ]
  },
  {
   "cell_type": "markdown",
   "id": "523c4b8a",
   "metadata": {},
   "source": [
    "..."
   ]
  },
  {
   "cell_type": "markdown",
   "id": "d15c8a46",
   "metadata": {},
   "source": [
    "## What is the objective function?"
   ]
  },
  {
   "cell_type": "markdown",
   "id": "49f98c17",
   "metadata": {},
   "source": [
    "..."
   ]
  },
  {
   "cell_type": "markdown",
   "id": "22a0a3de",
   "metadata": {},
   "source": [
    "# Calculating the solution"
   ]
  },
  {
   "cell_type": "markdown",
   "id": "fa3db65a",
   "metadata": {},
   "source": [
    "Now, we start the Python implementation to solve the optimization problem using `scipy.optimize.minimize`.\n",
    "\n",
    "Refer to the documentation for the minimize function:\n",
    "https://docs.scipy.org/doc/scipy/reference/generated/scipy.optimize.minimize.html"
   ]
  },
  {
   "cell_type": "markdown",
   "id": "28bcd987",
   "metadata": {},
   "source": [
    "Import necessary packages."
   ]
  },
  {
   "cell_type": "code",
   "execution_count": null,
   "id": "c238363f",
   "metadata": {},
   "outputs": [],
   "source": [
    "import numpy as np\n",
    "from scipy.optimize import minimize\n",
    "\n"
   ]
  },
  {
   "cell_type": "markdown",
   "id": "e4f7e362",
   "metadata": {},
   "source": [
    "We first define a function calculating the surface."
   ]
  },
  {
   "cell_type": "code",
   "execution_count": null,
   "id": "8b1e0555",
   "metadata": {},
   "outputs": [],
   "source": [
    "def surface(radius: float, height: float) -> float:\n",
    "    return ...\n",
    "\n"
   ]
  },
  {
   "cell_type": "markdown",
   "id": "90a906eb",
   "metadata": {},
   "source": [
    "We then define a function calculating the volume, that is $\\pi r^2 h$."
   ]
  },
  {
   "cell_type": "code",
   "execution_count": null,
   "id": "a052a390",
   "metadata": {},
   "outputs": [],
   "source": [
    "def volume(radius: float, height: float) -> float:\n",
    "    return ...\n",
    "\n"
   ]
  },
  {
   "cell_type": "markdown",
   "id": "48dfabf9",
   "metadata": {},
   "source": [
    "Prepare the input for the optimization algorithm."
   ]
  },
  {
   "cell_type": "code",
   "execution_count": null,
   "id": "d311ae01",
   "metadata": {},
   "outputs": [],
   "source": [
    "def objective_function(x: list[float]) -> float:\n",
    "    \"\"\"point[0]: radius, point[1]: height\"\"\"\n",
    "    return ...\n",
    "\n",
    "\n",
    "def constraint(x: list[float]) -> float:\n",
    "    \"\"\"x[0]: radius, x[1]: height\n",
    "\n",
    "    \"\"\"\n",
    "    return ...\n",
    "\n",
    "\n"
   ]
  },
  {
   "cell_type": "markdown",
   "id": "8542a584",
   "metadata": {},
   "source": [
    "Lower bounds: 0. No upper bounds."
   ]
  },
  {
   "cell_type": "code",
   "execution_count": null,
   "id": "94641305",
   "metadata": {},
   "outputs": [],
   "source": [
    "bounds = ...\n",
    "\n"
   ]
  },
  {
   "cell_type": "markdown",
   "id": "b1005c27",
   "metadata": {},
   "source": [
    "## Starting point.\n",
    "\n",
    "The choice of a starting point is a key aspect in optimization. Selecting a good one is often not straightforward,\n",
    "and different algorithms treat starting points in different ways. If the initial guess is infeasible, many solvers\n",
    "will attempt to adjust it to a feasible point, but success is not always guaranteed. In addition, the quality and\n",
    "even the location of the final solution may strongly depend on the chosen starting point. In this and the following\n",
    "exercises, we encourage you to try out different initial guesses and observe how they influence the results."
   ]
  },
  {
   "cell_type": "code",
   "execution_count": null,
   "id": "a80f234e",
   "metadata": {},
   "outputs": [],
   "source": [
    "\n",
    "x0 = ...\n"
   ]
  },
  {
   "cell_type": "markdown",
   "id": "f504f8e4",
   "metadata": {},
   "source": [
    "Run the algorithm. Check the documentation of the minimize function of `scipy`."
   ]
  },
  {
   "cell_type": "code",
   "execution_count": null,
   "id": "51e5255e",
   "metadata": {},
   "outputs": [],
   "source": [
    "optimization_result = ...\n",
    "\n",
    "\n",
    "\n",
    "\n",
    "\n",
    "\n"
   ]
  },
  {
   "cell_type": "markdown",
   "id": "07bb9c52",
   "metadata": {},
   "source": [
    "Print the raw results."
   ]
  },
  {
   "cell_type": "code",
   "execution_count": null,
   "id": "6ba794fe",
   "metadata": {},
   "outputs": [],
   "source": [
    "print(optimization_result)\n"
   ]
  },
  {
   "cell_type": "markdown",
   "id": "9ad1abd3",
   "metadata": {},
   "source": [
    "Print the solution with 3 significant digits. We expect:\n",
    "\n",
    "- Optimal radius: 3.74 cm.\n",
    "- Optimal height: 7.49 cm.\n",
    "- Surface: 264 cm2."
   ]
  },
  {
   "cell_type": "code",
   "execution_count": null,
   "id": "5900fe4d",
   "metadata": {},
   "outputs": [],
   "source": [
    "print(f'Optimal radius: {optimization_result.x[0]:.3g} cm.')\n",
    "print(f'Optimal height: {optimization_result.x[1]:.3g} cm.')\n",
    "print(f'Surface: {optimization_result.fun:.3g} cm2.')"
   ]
  }
 ],
 "metadata": {},
 "nbformat": 4,
 "nbformat_minor": 5
}
