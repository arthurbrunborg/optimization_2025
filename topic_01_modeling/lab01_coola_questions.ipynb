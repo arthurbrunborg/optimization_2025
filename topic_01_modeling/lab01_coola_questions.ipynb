{
 "cells": [
  {
   "cell_type": "markdown",
   "id": "16b2d120",
   "metadata": {},
   "source": [
    "# Coola-Coola\n",
    "\n",
    "## Introduction to optimization and operations research.\n",
    "\n",
    "Michel Bierlaire\n"
   ]
  },
  {
   "cell_type": "markdown",
   "id": "06fa5417",
   "metadata": {},
   "source": [
    "The objective of this first set of exercises is to demonstrate how to use an optimization algorithm in Python.\n",
    "Rather than treating such algorithms as \"black boxes,\" it is important to critically evaluate the solutions\n",
    "they produce. You should assess whether the results make sense, and if not, investigate the cause and refine the\n",
    "model or approach accordingly."
   ]
  },
  {
   "cell_type": "markdown",
   "id": "afce18f2",
   "metadata": {},
   "source": [
    "The company Coola-Coola Ltd. wants to design a can of soda of volume\n",
    "0.33 liters. They need to set the dimensions (in centimeters) of this\n",
    "can to use the minimum amount of aluminium, knowing that the form of the can is a\n",
    "perfect cylinder, and the thickness of the aluminium is the same\n",
    "everywhere. Write the problem as an optimization problem. Then, write a Python code to solve it, using the\n",
    "[scipy.minimize](https://docs.scipy.org/doc/scipy/reference/generated/scipy.optimize.minimize.html) function."
   ]
  },
  {
   "cell_type": "markdown",
   "id": "8252bff2",
   "metadata": {},
   "source": [
    "Make sure to read the documentation first:\n",
    "[click here](https://docs.scipy.org/doc/scipy/reference/generated/scipy.optimize.minimize.html)"
   ]
  },
  {
   "cell_type": "markdown",
   "id": "3f444e29",
   "metadata": {},
   "source": [
    "# Formulation of the optimization problem"
   ]
  },
  {
   "cell_type": "markdown",
   "id": "cf542b6e",
   "metadata": {},
   "source": [
    "Before proceeding with the implementation, formulate the problem as a constrained optimization problem, where the\n",
    "constraint is written as $$g(x)=0.$$ No need to implement anything yet."
   ]
  },
  {
   "cell_type": "markdown",
   "id": "bd6ffba0",
   "metadata": {},
   "source": [
    "## What are the decision variables?"
   ]
  },
  {
   "cell_type": "markdown",
   "id": "f2bb8fa6",
   "metadata": {},
   "source": [
    "r and h"
   ]
  },
  {
   "cell_type": "markdown",
   "id": "9565d602",
   "metadata": {},
   "source": [
    "## What is the objective function?"
   ]
  },
  {
   "cell_type": "markdown",
   "id": "4ca748c9",
   "metadata": {},
   "source": [
    "2*pi*r^2+2*pi*r*h = 2*pi*r(r+h)"
   ]
  },
  {
   "cell_type": "markdown",
   "id": "521e3cdf",
   "metadata": {},
   "source": [
    "# Calculating the solution"
   ]
  },
  {
   "cell_type": "markdown",
   "id": "ae675cf6",
   "metadata": {},
   "source": [
    "Now, we start the Python implementation to solve the optimization problem using `scipy.optimize.minimize`.\n",
    "\n",
    "Refer to the documentation for the minimize function:\n",
    "https://docs.scipy.org/doc/scipy/reference/generated/scipy.optimize.minimize.html"
   ]
  },
  {
   "cell_type": "markdown",
   "id": "d6693c58",
   "metadata": {},
   "source": [
    "Import necessary packages."
   ]
  },
  {
   "cell_type": "code",
   "execution_count": 25,
   "id": "e00ffab3",
   "metadata": {},
   "outputs": [],
   "source": [
    "import numpy as np\n",
    "from scipy.optimize import minimize\n"
   ]
  },
  {
   "cell_type": "markdown",
   "id": "7999ca4a",
   "metadata": {},
   "source": [
    "We first define a function calculating the surface."
   ]
  },
  {
   "cell_type": "code",
   "execution_count": 32,
   "id": "58372fa2",
   "metadata": {},
   "outputs": [],
   "source": [
    "def surface(radius: float, height: float) -> float:\n",
    "    return 2*np.pi*radius*(radius+height)\n"
   ]
  },
  {
   "cell_type": "markdown",
   "id": "6e5fa7ae",
   "metadata": {},
   "source": [
    "We then define a function calculating the volume, that is $\\pi r^2 h$."
   ]
  },
  {
   "cell_type": "code",
   "execution_count": 27,
   "id": "5276b657",
   "metadata": {},
   "outputs": [],
   "source": [
    "def volume(radius: float, height: float) -> float:\n",
    "    return np.pi*radius**2*height\n",
    "\n"
   ]
  },
  {
   "cell_type": "markdown",
   "id": "8eea7466",
   "metadata": {},
   "source": [
    "Prepare the input for the optimization algorithm."
   ]
  },
  {
   "cell_type": "code",
   "execution_count": null,
   "id": "752ffb72",
   "metadata": {},
   "outputs": [],
   "source": [
    "def objective_function(x: list[float]) -> float:\n",
    "    \"\"\"point[0]: radius, point[1]: height\"\"\"\n",
    "    return surface(x[0], x[1])\n",
    "\n",
    "\n",
    "def constraint(x: list[float]) -> float:\n",
    "    \"\"\"x[0]: radius, x[1]: height\n",
    "    \"\"\"\n",
    "    volume = 330\n",
    "    \n",
    "\n",
    "\n"
   ]
  },
  {
   "cell_type": "markdown",
   "id": "15312ea3",
   "metadata": {},
   "source": [
    "Lower bounds: 0. No upper bounds."
   ]
  },
  {
   "cell_type": "code",
   "execution_count": 29,
   "id": "c9f3900a",
   "metadata": {},
   "outputs": [],
   "source": [
    "bounds = 0\n",
    "\n"
   ]
  },
  {
   "cell_type": "markdown",
   "id": "c67e4a8b",
   "metadata": {},
   "source": [
    "## Starting point.\n",
    "\n",
    "The choice of a starting point is a key aspect in optimization. Selecting a good one is often not straightforward,\n",
    "and different algorithms treat starting points in different ways. If the initial guess is infeasible, many solvers\n",
    "will attempt to adjust it to a feasible point, but success is not always guaranteed. In addition, the quality and\n",
    "even the location of the final solution may strongly depend on the chosen starting point. In this and the following\n",
    "exercises, we encourage you to try out different initial guesses and observe how they influence the results."
   ]
  },
  {
   "cell_type": "code",
   "execution_count": 30,
   "id": "3f6d57e5",
   "metadata": {},
   "outputs": [],
   "source": [
    "\n",
    "x0 = [1, 1]\n"
   ]
  },
  {
   "cell_type": "markdown",
   "id": "a0d04036",
   "metadata": {},
   "source": [
    "Run the algorithm. Check the documentation of the minimize function of `scipy`."
   ]
  },
  {
   "cell_type": "code",
   "execution_count": 31,
   "id": "dae8185a",
   "metadata": {},
   "outputs": [
    {
     "ename": "TypeError",
     "evalue": "'function' object is not iterable",
     "output_type": "error",
     "traceback": [
      "\u001b[31m---------------------------------------------------------------------------\u001b[39m",
      "\u001b[31mTypeError\u001b[39m                                 Traceback (most recent call last)",
      "\u001b[36mCell\u001b[39m\u001b[36m \u001b[39m\u001b[32mIn[31]\u001b[39m\u001b[32m, line 1\u001b[39m\n\u001b[32m----> \u001b[39m\u001b[32m1\u001b[39m optimization_result = \u001b[43mminimize\u001b[49m\u001b[43m(\u001b[49m\u001b[43mobjective_function\u001b[49m\u001b[43m,\u001b[49m\u001b[43m \u001b[49m\u001b[43mx0\u001b[49m\u001b[43m,\u001b[49m\u001b[43m \u001b[49m\u001b[43mbounds\u001b[49m\u001b[43m=\u001b[49m\u001b[43mbounds\u001b[49m\u001b[43m,\u001b[49m\u001b[43m \u001b[49m\u001b[43mconstraints\u001b[49m\u001b[43m=\u001b[49m\u001b[43mconstraint\u001b[49m\u001b[43m)\u001b[49m\n",
      "\u001b[36mFile \u001b[39m\u001b[32m~/dev/EPFL/.venv/lib/python3.13/site-packages/scipy/optimize/_minimize.py:699\u001b[39m, in \u001b[36mminimize\u001b[39m\u001b[34m(fun, x0, args, method, jac, hess, hessp, bounds, constraints, tol, callback, options)\u001b[39m\n\u001b[32m    691\u001b[39m \u001b[38;5;28;01mif\u001b[39;00m meth == \u001b[33m'\u001b[39m\u001b[33m_custom\u001b[39m\u001b[33m'\u001b[39m:\n\u001b[32m    692\u001b[39m     \u001b[38;5;66;03m# custom method called before bounds and constraints are 'standardised'\u001b[39;00m\n\u001b[32m    693\u001b[39m     \u001b[38;5;66;03m# custom method should be able to accept whatever bounds/constraints\u001b[39;00m\n\u001b[32m    694\u001b[39m     \u001b[38;5;66;03m# are provided to it.\u001b[39;00m\n\u001b[32m    695\u001b[39m     \u001b[38;5;28;01mreturn\u001b[39;00m method(fun, x0, args=args, jac=jac, hess=hess, hessp=hessp,\n\u001b[32m    696\u001b[39m                   bounds=bounds, constraints=constraints,\n\u001b[32m    697\u001b[39m                   callback=callback, **options)\n\u001b[32m--> \u001b[39m\u001b[32m699\u001b[39m constraints = \u001b[43mstandardize_constraints\u001b[49m\u001b[43m(\u001b[49m\u001b[43mconstraints\u001b[49m\u001b[43m,\u001b[49m\u001b[43m \u001b[49m\u001b[43mx0\u001b[49m\u001b[43m,\u001b[49m\u001b[43m \u001b[49m\u001b[43mmeth\u001b[49m\u001b[43m)\u001b[49m\n\u001b[32m    701\u001b[39m remove_vars = \u001b[38;5;28;01mFalse\u001b[39;00m\n\u001b[32m    702\u001b[39m \u001b[38;5;28;01mif\u001b[39;00m bounds \u001b[38;5;129;01mis\u001b[39;00m \u001b[38;5;129;01mnot\u001b[39;00m \u001b[38;5;28;01mNone\u001b[39;00m:\n\u001b[32m    703\u001b[39m     \u001b[38;5;66;03m# convert to new-style bounds so we only have to consider one case\u001b[39;00m\n",
      "\u001b[36mFile \u001b[39m\u001b[32m~/dev/EPFL/.venv/lib/python3.13/site-packages/scipy/optimize/_minimize.py:1143\u001b[39m, in \u001b[36mstandardize_constraints\u001b[39m\u001b[34m(constraints, x0, meth)\u001b[39m\n\u001b[32m   1141\u001b[39m     constraints = [constraints]\n\u001b[32m   1142\u001b[39m \u001b[38;5;28;01melse\u001b[39;00m:\n\u001b[32m-> \u001b[39m\u001b[32m1143\u001b[39m     constraints = \u001b[38;5;28;43mlist\u001b[39;49m\u001b[43m(\u001b[49m\u001b[43mconstraints\u001b[49m\u001b[43m)\u001b[49m  \u001b[38;5;66;03m# ensure it's a mutable sequence\u001b[39;00m\n\u001b[32m   1145\u001b[39m \u001b[38;5;28;01mif\u001b[39;00m meth \u001b[38;5;129;01min\u001b[39;00m [\u001b[33m'\u001b[39m\u001b[33mtrust-constr\u001b[39m\u001b[33m'\u001b[39m, \u001b[33m'\u001b[39m\u001b[33mcobyqa\u001b[39m\u001b[33m'\u001b[39m, \u001b[33m'\u001b[39m\u001b[33mnew\u001b[39m\u001b[33m'\u001b[39m, \u001b[33m'\u001b[39m\u001b[33mcobyla\u001b[39m\u001b[33m'\u001b[39m]:\n\u001b[32m   1146\u001b[39m     \u001b[38;5;28;01mfor\u001b[39;00m i, con \u001b[38;5;129;01min\u001b[39;00m \u001b[38;5;28menumerate\u001b[39m(constraints):\n",
      "\u001b[31mTypeError\u001b[39m: 'function' object is not iterable"
     ]
    }
   ],
   "source": [
    "optimization_result = minimize(objective_function, x0, bounds=bounds, constraints=constraint)\n",
    "\n",
    "\n",
    "\n",
    "\n",
    "\n",
    "\n"
   ]
  },
  {
   "cell_type": "markdown",
   "id": "f79daee4",
   "metadata": {},
   "source": [
    "Print the raw results."
   ]
  },
  {
   "cell_type": "code",
   "execution_count": null,
   "id": "78dd7d76",
   "metadata": {},
   "outputs": [],
   "source": [
    "print(optimization_result)\n"
   ]
  },
  {
   "cell_type": "markdown",
   "id": "ef3dce8e",
   "metadata": {},
   "source": [
    "Print the solution with 3 significant digits. We expect:\n",
    "\n",
    "- Optimal radius: 3.74 cm.\n",
    "- Optimal height: 7.49 cm.\n",
    "- Surface: 264 cm2."
   ]
  },
  {
   "cell_type": "code",
   "execution_count": null,
   "id": "acf5f7c6",
   "metadata": {},
   "outputs": [],
   "source": [
    "print(f'Optimal radius: {optimization_result.x[0]:.3g} cm.')\n",
    "print(f'Optimal height: {optimization_result.x[1]:.3g} cm.')\n",
    "print(f'Surface: {optimization_result.fun:.3g} cm2.')\n"
   ]
  },
  {
   "cell_type": "markdown",
   "id": "fdd20eef",
   "metadata": {},
   "source": [
    "At first sight, solving an optimization exercise may look straightforward,\n",
    "but in practice it can be trickier than expected.\n",
    "\n",
    "- Depending on the starting point, the algorithm may converge to a local\n",
    "minimum instead of the global one.\n",
    "- Numerical issues due to finite precision arithmetic on computers can\n",
    "affect convergence and accuracy.\n",
    "- If the starting point is infeasible (i.e., it violates some constraints),\n",
    "certain algorithms may not be able to find a feasible solution at all.\n",
    "- Importantly, it is generally impossible to anticipate the outcome\n",
    "(success, failure, or type of solution found) based only on the chosen\n",
    "starting point.\n",
    "\n",
    "To better understand these challenges, try running the same code with\n",
    "different starting points and compare the results."
   ]
  },
  {
   "cell_type": "code",
   "execution_count": null,
   "id": "7e10f124",
   "metadata": {},
   "outputs": [],
   "source": [
    "x0 = [0, 0]\n",
    "x0 = [2, 2]\n",
    "x0 = [3, 3]\n",
    "x0 = [3, 2]"
   ]
  }
 ],
 "metadata": {
  "kernelspec": {
   "display_name": ".venv (3.13.7)",
   "language": "python",
   "name": "python3"
  },
  "language_info": {
   "codemirror_mode": {
    "name": "ipython",
    "version": 3
   },
   "file_extension": ".py",
   "mimetype": "text/x-python",
   "name": "python",
   "nbconvert_exporter": "python",
   "pygments_lexer": "ipython3",
   "version": "3.13.7"
  }
 },
 "nbformat": 4,
 "nbformat_minor": 5
}
