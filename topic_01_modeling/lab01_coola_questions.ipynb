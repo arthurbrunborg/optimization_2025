{
 "cells": [
  {
   "cell_type": "markdown",
   "id": "16b2d120",
   "metadata": {},
   "source": [
    "# Coola-Coola\n",
    "\n",
    "## Introduction to optimization and operations research.\n",
    "\n",
    "Michel Bierlaire\n"
   ]
  },
  {
   "cell_type": "markdown",
   "id": "06fa5417",
   "metadata": {},
   "source": [
    "The objective of this first set of exercises is to demonstrate how to use an optimization algorithm in Python.\n",
    "Rather than treating such algorithms as \"black boxes,\" it is important to critically evaluate the solutions\n",
    "they produce. You should assess whether the results make sense, and if not, investigate the cause and refine the\n",
    "model or approach accordingly."
   ]
  },
  {
   "cell_type": "markdown",
   "id": "afce18f2",
   "metadata": {},
   "source": [
    "The company Coola-Coola Ltd. wants to design a can of soda of volume\n",
    "0.33 liters. They need to set the dimensions (in centimeters) of this\n",
    "can to use the minimum amount of aluminium, knowing that the form of the can is a\n",
    "perfect cylinder, and the thickness of the aluminium is the same\n",
    "everywhere. Write the problem as an optimization problem. Then, write a Python code to solve it, using the\n",
    "[scipy.minimize](https://docs.scipy.org/doc/scipy/reference/generated/scipy.optimize.minimize.html) function."
   ]
  },
  {
   "cell_type": "markdown",
   "id": "8252bff2",
   "metadata": {},
   "source": [
    "Make sure to read the documentation first:\n",
    "[click here](https://docs.scipy.org/doc/scipy/reference/generated/scipy.optimize.minimize.html)"
   ]
  },
  {
   "cell_type": "markdown",
   "id": "3f444e29",
   "metadata": {},
   "source": [
    "# Formulation of the optimization problem"
   ]
  },
  {
   "cell_type": "markdown",
   "id": "cf542b6e",
   "metadata": {},
   "source": [
    "Before proceeding with the implementation, formulate the problem as a constrained optimization problem, where the\n",
    "constraint is written as $$g(x)=0.$$ No need to implement anything yet."
   ]
  },
  {
   "cell_type": "markdown",
   "id": "bd6ffba0",
   "metadata": {},
   "source": [
    "## What are the decision variables?"
   ]
  },
  {
   "cell_type": "markdown",
   "id": "f2bb8fa6",
   "metadata": {},
   "source": [
    "..."
   ]
  },
  {
   "cell_type": "markdown",
   "id": "9565d602",
   "metadata": {},
   "source": [
    "## What is the objective function?"
   ]
  },
  {
   "cell_type": "markdown",
   "id": "4ca748c9",
   "metadata": {},
   "source": [
    "..."
   ]
  },
  {
   "cell_type": "markdown",
   "id": "521e3cdf",
   "metadata": {},
   "source": [
    "# Calculating the solution"
   ]
  },
  {
   "cell_type": "markdown",
   "id": "ae675cf6",
   "metadata": {},
   "source": [
    "Now, we start the Python implementation to solve the optimization problem using `scipy.optimize.minimize`.\n",
    "\n",
    "Refer to the documentation for the minimize function:\n",
    "https://docs.scipy.org/doc/scipy/reference/generated/scipy.optimize.minimize.html"
   ]
  },
  {
   "cell_type": "markdown",
   "id": "d6693c58",
   "metadata": {},
   "source": [
    "Import necessary packages."
   ]
  },
  {
   "cell_type": "code",
   "execution_count": null,
   "id": "e00ffab3",
   "metadata": {},
   "outputs": [],
   "source": [
    "import numpy as np\n",
    "from scipy.optimize import minimize\n",
    "\n"
   ]
  },
  {
   "cell_type": "markdown",
   "id": "7999ca4a",
   "metadata": {},
   "source": [
    "We first define a function calculating the surface."
   ]
  },
  {
   "cell_type": "code",
   "execution_count": null,
   "id": "58372fa2",
   "metadata": {},
   "outputs": [],
   "source": [
    "def surface(radius: float, height: float) -> float:\n",
    "    return ...\n",
    "\n"
   ]
  },
  {
   "cell_type": "markdown",
   "id": "6e5fa7ae",
   "metadata": {},
   "source": [
    "We then define a function calculating the volume, that is $\\pi r^2 h$."
   ]
  },
  {
   "cell_type": "code",
   "execution_count": null,
   "id": "5276b657",
   "metadata": {},
   "outputs": [],
   "source": [
    "def volume(radius: float, height: float) -> float:\n",
    "    return ...\n",
    "\n"
   ]
  },
  {
   "cell_type": "markdown",
   "id": "8eea7466",
   "metadata": {},
   "source": [
    "Prepare the input for the optimization algorithm."
   ]
  },
  {
   "cell_type": "code",
   "execution_count": null,
   "id": "752ffb72",
   "metadata": {},
   "outputs": [],
   "source": [
    "def objective_function(x: list[float]) -> float:\n",
    "    \"\"\"point[0]: radius, point[1]: height\"\"\"\n",
    "    return ...\n",
    "\n",
    "\n",
    "def constraint(x: list[float]) -> float:\n",
    "    \"\"\"x[0]: radius, x[1]: height\n",
    "\n",
    "    \"\"\"\n",
    "    return ...\n",
    "\n",
    "\n"
   ]
  },
  {
   "cell_type": "markdown",
   "id": "15312ea3",
   "metadata": {},
   "source": [
    "Lower bounds: 0. No upper bounds."
   ]
  },
  {
   "cell_type": "code",
   "execution_count": null,
   "id": "c9f3900a",
   "metadata": {},
   "outputs": [],
   "source": [
    "bounds = ...\n",
    "\n"
   ]
  },
  {
   "cell_type": "markdown",
   "id": "c67e4a8b",
   "metadata": {},
   "source": [
    "## Starting point.\n",
    "\n",
    "The choice of a starting point is a key aspect in optimization. Selecting a good one is often not straightforward,\n",
    "and different algorithms treat starting points in different ways. If the initial guess is infeasible, many solvers\n",
    "will attempt to adjust it to a feasible point, but success is not always guaranteed. In addition, the quality and\n",
    "even the location of the final solution may strongly depend on the chosen starting point. In this and the following\n",
    "exercises, we encourage you to try out different initial guesses and observe how they influence the results."
   ]
  },
  {
   "cell_type": "code",
   "execution_count": null,
   "id": "3f6d57e5",
   "metadata": {},
   "outputs": [],
   "source": [
    "\n",
    "x0 = [1, 1]\n"
   ]
  },
  {
   "cell_type": "markdown",
   "id": "a0d04036",
   "metadata": {},
   "source": [
    "Run the algorithm. Check the documentation of the minimize function of `scipy`."
   ]
  },
  {
   "cell_type": "code",
   "execution_count": null,
   "id": "dae8185a",
   "metadata": {},
   "outputs": [],
   "source": [
    "optimization_result = ...\n",
    "\n",
    "\n",
    "\n",
    "\n",
    "\n",
    "\n"
   ]
  },
  {
   "cell_type": "markdown",
   "id": "f79daee4",
   "metadata": {},
   "source": [
    "Print the raw results."
   ]
  },
  {
   "cell_type": "code",
   "execution_count": null,
   "id": "78dd7d76",
   "metadata": {},
   "outputs": [],
   "source": [
    "print(optimization_result)\n"
   ]
  },
  {
   "cell_type": "markdown",
   "id": "ef3dce8e",
   "metadata": {},
   "source": [
    "Print the solution with 3 significant digits. We expect:\n",
    "\n",
    "- Optimal radius: 3.74 cm.\n",
    "- Optimal height: 7.49 cm.\n",
    "- Surface: 264 cm2."
   ]
  },
  {
   "cell_type": "code",
   "execution_count": null,
   "id": "acf5f7c6",
   "metadata": {},
   "outputs": [],
   "source": [
    "print(f'Optimal radius: {optimization_result.x[0]:.3g} cm.')\n",
    "print(f'Optimal height: {optimization_result.x[1]:.3g} cm.')\n",
    "print(f'Surface: {optimization_result.fun:.3g} cm2.')\n"
   ]
  },
  {
   "cell_type": "markdown",
   "id": "fdd20eef",
   "metadata": {},
   "source": [
    "At first sight, solving an optimization exercise may look straightforward,\n",
    "but in practice it can be trickier than expected.\n",
    "\n",
    "- Depending on the starting point, the algorithm may converge to a local\n",
    "minimum instead of the global one.\n",
    "- Numerical issues due to finite precision arithmetic on computers can\n",
    "affect convergence and accuracy.\n",
    "- If the starting point is infeasible (i.e., it violates some constraints),\n",
    "certain algorithms may not be able to find a feasible solution at all.\n",
    "- Importantly, it is generally impossible to anticipate the outcome\n",
    "(success, failure, or type of solution found) based only on the chosen\n",
    "starting point.\n",
    "\n",
    "To better understand these challenges, try running the same code with\n",
    "different starting points and compare the results."
   ]
  },
  {
   "cell_type": "code",
   "execution_count": null,
   "id": "7e10f124",
   "metadata": {},
   "outputs": [],
   "source": [
    "x0 = [0, 0]\n",
    "x0 = [2, 2]\n",
    "x0 = [3, 3]\n",
    "x0 = [3, 2]"
   ]
  }
 ],
 "metadata": {},
 "nbformat": 4,
 "nbformat_minor": 5
}
