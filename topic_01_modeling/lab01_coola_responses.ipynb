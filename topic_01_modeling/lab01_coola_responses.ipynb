{
 "cells": [
  {
   "cell_type": "markdown",
   "id": "04fa64ef",
   "metadata": {},
   "source": [
    "# Coola-Coola\n",
    "\n",
    "## Introduction to optimization and operations research.\n",
    "\n",
    "Michel Bierlaire\n"
   ]
  },
  {
   "cell_type": "markdown",
   "id": "dd26378a",
   "metadata": {},
   "source": [
    "The objective of this first set of exercises is to demonstrate how to use an optimization algorithm in Python.\n",
    "Rather than treating such algorithms as \"black boxes,\" it is important to critically evaluate the solutions\n",
    "they produce. You should assess whether the results make sense, and if not, investigate the cause and refine the\n",
    "model or approach accordingly."
   ]
  },
  {
   "cell_type": "markdown",
   "id": "6b8aae91",
   "metadata": {},
   "source": [
    "The company Coola-Coola Ltd. wants to design a can of soda of volume\n",
    "0.33 liters. They need to set the dimensions (in centimeters) of this\n",
    "can to use the minimum amount of aluminium, knowing that the form of the can is a\n",
    "perfect cylinder, and the thickness of the aluminium is the same\n",
    "everywhere. Write the problem as an optimization problem. Then, write a Python code to solve it, using the\n",
    "[scipy.minimize](https://docs.scipy.org/doc/scipy/reference/generated/scipy.optimize.minimize.html) function."
   ]
  },
  {
   "cell_type": "markdown",
   "id": "7ddb191e",
   "metadata": {},
   "source": [
    "Make sure to read the documentation first:\n",
    "[click here](https://docs.scipy.org/doc/scipy/reference/generated/scipy.optimize.minimize.html)"
   ]
  },
  {
   "cell_type": "markdown",
   "id": "774fd7af",
   "metadata": {},
   "source": [
    "# Formulation of the optimization problem"
   ]
  },
  {
   "cell_type": "markdown",
   "id": "5d966192",
   "metadata": {},
   "source": [
    "Before proceeding with the implementation, formulate the problem as a constrained optimization problem, where the\n",
    "constraint is written as $$g(x)=0.$$ No need to implement anything yet."
   ]
  },
  {
   "cell_type": "markdown",
   "id": "623fa67d",
   "metadata": {},
   "source": [
    "## What are the decision variables?"
   ]
  },
  {
   "cell_type": "markdown",
   "id": "4e9c98b4",
   "metadata": {},
   "source": [
    "There are two decision variables: the radius ($r$) and the height ($h$) of the cylinder."
   ]
  },
  {
   "cell_type": "markdown",
   "id": "279fb85a",
   "metadata": {},
   "source": [
    "## What is the objective function?"
   ]
  },
  {
   "cell_type": "markdown",
   "id": "7a94a21a",
   "metadata": {},
   "source": [
    "The objective is to minimize the surface area of the cylinder. It is composed of\n",
    "- the side of the cylinder, that is a rectangle of width $2 \\pi r$ and height $h$: $2 \\pi rh$,\n",
    "- the top of the cylinder, that is a circle or radius $r$: $\\pi r^2$,\n",
    "- the bottom of the cylinder, that has the same surface as the top: $\\pi r^2$.\n",
    "Therefore, the total surface is $$2 \\pi r (h + r)$$.\n",
    "\n",
    "The constraint imposes that the volume of the cylinder must be 330 cm³. The volume of the can is $\\pi r²h$, so that\n",
    "the constraint is $\\pi r²h = 330$. In order to write it as $g(x)=0$, we define $$g(r, h) = \\pi r²h - 330.$$"
   ]
  },
  {
   "cell_type": "markdown",
   "id": "d606bcfc",
   "metadata": {},
   "source": [
    "Finally, do not forget to impose the decision variables to be non negative: $r \\geq 0$, $h \\geq 0$."
   ]
  },
  {
   "cell_type": "markdown",
   "id": "778d796b",
   "metadata": {},
   "source": [
    "Therefore, the optimization problem is written\n",
    "$$ \\min_{r, h} 2 \\pi r (h + r)$$\n",
    "subject to\n",
    "$$ \\pi r²h - 330 = 0,$$\n",
    "$$ r \\geq 0,$$\n",
    "$$ h \\geq 0.$$"
   ]
  },
  {
   "cell_type": "markdown",
   "id": "5f8451eb",
   "metadata": {},
   "source": [
    "# Calculating the solution"
   ]
  },
  {
   "cell_type": "markdown",
   "id": "a2f4cf5e",
   "metadata": {},
   "source": [
    "Now, we start the Python implementation to solve the optimization problem using `scipy.optimize.minimize`.\n",
    "\n",
    "Refer to the documentation for the minimize function:\n",
    "https://docs.scipy.org/doc/scipy/reference/generated/scipy.optimize.minimize.html"
   ]
  },
  {
   "cell_type": "markdown",
   "id": "8a883fc2",
   "metadata": {},
   "source": [
    "Import necessary packages."
   ]
  },
  {
   "cell_type": "code",
   "execution_count": null,
   "id": "a78c37bd",
   "metadata": {},
   "outputs": [],
   "source": [
    "import numpy as np\n",
    "from scipy.optimize import minimize\n",
    "\n"
   ]
  },
  {
   "cell_type": "markdown",
   "id": "3785ffa2",
   "metadata": {},
   "source": [
    "We first define a function calculating the surface."
   ]
  },
  {
   "cell_type": "code",
   "execution_count": null,
   "id": "e8ad5ddc",
   "metadata": {},
   "outputs": [],
   "source": [
    "def surface(radius: float, height: float) -> float:\n",
    "    return 2 * np.pi * radius * (radius + height)\n",
    "\n"
   ]
  },
  {
   "cell_type": "markdown",
   "id": "1cc97211",
   "metadata": {},
   "source": [
    "We then define a function calculating the volume, that is $\\pi r^2 h$."
   ]
  },
  {
   "cell_type": "code",
   "execution_count": null,
   "id": "0c2c16ba",
   "metadata": {},
   "outputs": [],
   "source": [
    "def volume(radius: float, height: float) -> float:\n",
    "    return np.pi * radius * radius * height\n",
    "\n"
   ]
  },
  {
   "cell_type": "markdown",
   "id": "6da0658f",
   "metadata": {},
   "source": [
    "Prepare the input for the optimization algorithm."
   ]
  },
  {
   "cell_type": "code",
   "execution_count": null,
   "id": "dfff483f",
   "metadata": {},
   "outputs": [],
   "source": [
    "def objective_function(x: list[float]) -> float:\n",
    "    \"\"\"point[0]: radius, point[1]: height\"\"\"\n",
    "    return surface(radius=x[0], height=x[1])\n",
    "\n",
    "\n",
    "def constraint(x: list[float]) -> float:\n",
    "    \"\"\"x[0]: radius, x[1]: height\n",
    "    volume = 330\n",
    "    \"\"\"\n",
    "    the_volume = 330\n",
    "    return volume(radius=x[0], height=x[1]) - the_volume\n",
    "\n"
   ]
  },
  {
   "cell_type": "markdown",
   "id": "9294f15d",
   "metadata": {},
   "source": [
    "Lower bounds: 0. No upper bounds."
   ]
  },
  {
   "cell_type": "code",
   "execution_count": null,
   "id": "2d79a712",
   "metadata": {},
   "outputs": [],
   "source": [
    "bounds = [(0, None), (0, None)]\n",
    "\n"
   ]
  },
  {
   "cell_type": "markdown",
   "id": "a20d9cd0",
   "metadata": {},
   "source": [
    "## Starting point.\n",
    "\n",
    "The choice of a starting point is a key aspect in optimization. Selecting a good one is often not straightforward,\n",
    "and different algorithms treat starting points in different ways. If the initial guess is infeasible, many solvers\n",
    "will attempt to adjust it to a feasible point, but success is not always guaranteed. In addition, the quality and\n",
    "even the location of the final solution may strongly depend on the chosen starting point. In this and the following\n",
    "exercises, we encourage you to try out different initial guesses and observe how they influence the results."
   ]
  },
  {
   "cell_type": "code",
   "execution_count": null,
   "id": "22793202",
   "metadata": {},
   "outputs": [],
   "source": [
    "\n",
    "x0 = [1.0, 1.0]\n"
   ]
  },
  {
   "cell_type": "markdown",
   "id": "dedfd9b3",
   "metadata": {},
   "source": [
    "Run the algorithm. Check the documentation of the minimize function of `scipy`."
   ]
  },
  {
   "cell_type": "code",
   "execution_count": null,
   "id": "04de81cf",
   "metadata": {},
   "outputs": [],
   "source": [
    "optimization_result = minimize(\n",
    "    fun=objective_function,\n",
    "    x0=np.array(x0),\n",
    "    constraints={'type': 'eq', 'fun': constraint},\n",
    "    bounds=bounds,\n",
    ")\n",
    "\n"
   ]
  },
  {
   "cell_type": "markdown",
   "id": "cf978673",
   "metadata": {},
   "source": [
    "Print the raw results. Note that 'success' is set to True."
   ]
  },
  {
   "cell_type": "code",
   "execution_count": null,
   "id": "132bc2fc",
   "metadata": {},
   "outputs": [],
   "source": [
    "print(optimization_result)\n"
   ]
  },
  {
   "cell_type": "markdown",
   "id": "fc3d7f8f",
   "metadata": {},
   "source": [
    "Print the solution with 3 significant digits. We expect:\n",
    "\n",
    "- Optimal radius: 3.74 cm.\n",
    "- Optimal height: 7.49 cm.\n",
    "- Surface: 264 cm2."
   ]
  },
  {
   "cell_type": "code",
   "execution_count": null,
   "id": "85379be1",
   "metadata": {},
   "outputs": [],
   "source": [
    "print(f'Optimal radius: {optimization_result.x[0]:.3g} cm.')\n",
    "print(f'Optimal height: {optimization_result.x[1]:.3g} cm.')\n",
    "print(f'Surface: {optimization_result.fun:.3g} cm2.')"
   ]
  }
 ],
 "metadata": {},
 "nbformat": 4,
 "nbformat_minor": 5
}
