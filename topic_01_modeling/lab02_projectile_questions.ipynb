{
 "cells": [
  {
   "cell_type": "markdown",
   "id": "e5ba8d32",
   "metadata": {},
   "source": [
    "# Projectile\n",
    "\n",
    "Introduction to optimization and operations research\n",
    "Michel Bierlaire\n"
   ]
  },
  {
   "cell_type": "code",
   "execution_count": null,
   "id": "5e97203f",
   "metadata": {},
   "outputs": [],
   "source": [
    "\n",
    "from matplotlib import pyplot as plt\n"
   ]
  },
  {
   "cell_type": "markdown",
   "id": "8f20c97a",
   "metadata": {},
   "source": [
    "A projectile is launched vertically with an initial speed of 50 meters per second, assuming no air resistance.\n",
    "We want to determine how long it takes to reach its maximum altitude and what that altitude is.\n",
    "Use the[scipy.minimize](https://docs.scipy.org/doc/scipy/reference/generated/scipy.optimize.minimize.html)\n",
    "function to solve this problem by finding the time that maximizes the height."
   ]
  },
  {
   "cell_type": "markdown",
   "id": "cde09a80",
   "metadata": {},
   "source": [
    "Import necessary packages."
   ]
  },
  {
   "cell_type": "code",
   "execution_count": null,
   "id": "f97cc9fa",
   "metadata": {},
   "outputs": [],
   "source": [
    "from scipy.optimize import minimize\n",
    "\n",
    "from teaching_optimization.plot_function import plot_function\n",
    "\n"
   ]
  },
  {
   "cell_type": "markdown",
   "id": "1baffb55",
   "metadata": {},
   "source": [
    "First implement the calculation of the altitude of the projectile using the formula for uniformly accelerated\n",
    "movement:  $$f(t) = x_o + v_0 t -\\frac{g}{2} t^2,$$\n",
    "where $x_0$ is the initial altitude, $v_0$ the initial speed, and $g$ the acceleration due\n",
    "to gravity."
   ]
  },
  {
   "cell_type": "markdown",
   "id": "7eebe1ec",
   "metadata": {},
   "source": [
    "Define a constant."
   ]
  },
  {
   "cell_type": "code",
   "execution_count": null,
   "id": "0e5af36e",
   "metadata": {},
   "outputs": [],
   "source": [
    "GRAVITY = 9.81\n",
    "\n"
   ]
  },
  {
   "cell_type": "markdown",
   "id": "5c89242a",
   "metadata": {},
   "source": [
    "Write a function to calculate the height of the projectile, using the formula."
   ]
  },
  {
   "cell_type": "code",
   "execution_count": null,
   "id": "6b28a699",
   "metadata": {},
   "outputs": [],
   "source": [
    "def height(time: float, initial_altitude: float, initial_speed: float) -> float:\n",
    "    \"\"\"\n",
    "    Calculate the height of the projectile, using the formula.\n",
    "\n",
    "    :param time: time at which we need the height.\n",
    "    :param initial_altitude: initial altitude x_0.\n",
    "    :param initial_speed: initial speed v_0.\n",
    "    :return: height.\n",
    "    \"\"\"\n",
    "    return ...\n",
    "\n",
    "\n",
    "\n"
   ]
  },
  {
   "cell_type": "markdown",
   "id": "fe3fe63a",
   "metadata": {},
   "source": [
    "Define the objective function. The \"decision\" variable is the time."
   ]
  },
  {
   "cell_type": "code",
   "execution_count": null,
   "id": "e4b17d94",
   "metadata": {},
   "outputs": [],
   "source": [
    "def objective_function(point: float) -> float:\n",
    "    \"\"\"Objective function of the optimization problem.\n",
    "\n",
    "\n",
    "    :param point: decision variable.\n",
    "    \"\"\"\n",
    "    return ...\n",
    "\n",
    "\n",
    "\n"
   ]
  },
  {
   "cell_type": "markdown",
   "id": "f1fb56d7",
   "metadata": {},
   "source": [
    "Plot the objective function."
   ]
  },
  {
   "cell_type": "code",
   "execution_count": null,
   "id": "21b8a435",
   "metadata": {},
   "outputs": [],
   "source": [
    "plot_function(\n",
    "    my_function=objective_function,\n",
    "    label='Negative altitude',\n",
    "    x_label='Time (sec.)',\n",
    "    y_label='Altitude with opposite sign (m.)',\n",
    "    x_min=0,\n",
    "    x_max=12,\n",
    "    y_min=-150,\n",
    "    y_max=0,\n",
    ")\n",
    "plt.show()\n"
   ]
  },
  {
   "cell_type": "markdown",
   "id": "0cb2ca25",
   "metadata": {},
   "source": [
    "Initial solution"
   ]
  },
  {
   "cell_type": "code",
   "execution_count": null,
   "id": "58b826bd",
   "metadata": {},
   "outputs": [],
   "source": [
    "x0 = ...\n"
   ]
  },
  {
   "cell_type": "markdown",
   "id": "8f001f45",
   "metadata": {},
   "source": [
    "Run the algorithm."
   ]
  },
  {
   "cell_type": "code",
   "execution_count": null,
   "id": "f1153735",
   "metadata": {},
   "outputs": [],
   "source": [
    "optimization_result = ...\n",
    "\n",
    "\n"
   ]
  },
  {
   "cell_type": "markdown",
   "id": "f93328e1",
   "metadata": {},
   "source": [
    "Print the raw results. Note that 'success' is set to True."
   ]
  },
  {
   "cell_type": "code",
   "execution_count": null,
   "id": "97e6db37",
   "metadata": {},
   "outputs": [],
   "source": [
    "print(optimization_result)\n"
   ]
  },
  {
   "cell_type": "markdown",
   "id": "a218cd54",
   "metadata": {},
   "source": [
    "Print the solution with 3 significant digits. We expect:\n",
    "\n",
    "- Elapsed time:     5.1 sec.\n",
    "- Altitude reached: 127 m."
   ]
  },
  {
   "cell_type": "code",
   "execution_count": null,
   "id": "5eca4cb8",
   "metadata": {},
   "outputs": [],
   "source": [
    "print(f'Elapsed time:     {optimization_result.x[0]:.3g} sec.')\n",
    "print(f'Altitude reached: {-optimization_result.fun:.3g} m.')"
   ]
  }
 ],
 "metadata": {},
 "nbformat": 4,
 "nbformat_minor": 5
}
