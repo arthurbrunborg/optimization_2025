{
 "cells": [
  {
   "cell_type": "markdown",
   "id": "5d4e1d1b",
   "metadata": {},
   "source": [
    "# Projectile\n",
    "\n",
    "Introduction to optimization and operations research\n",
    "Michel Bierlaire\n"
   ]
  },
  {
   "cell_type": "code",
   "execution_count": null,
   "id": "300988a3",
   "metadata": {},
   "outputs": [],
   "source": [
    "\n",
    "from matplotlib import pyplot as plt\n"
   ]
  },
  {
   "cell_type": "markdown",
   "id": "71eb1bff",
   "metadata": {},
   "source": [
    "A projectile is launched vertically with an initial speed of 50 meters per second, assuming no air resistance.\n",
    "We want to determine how long it takes to reach its maximum altitude and what that altitude is.\n",
    "Use the[scipy.minimize](https://docs.scipy.org/doc/scipy/reference/generated/scipy.optimize.minimize.html)\n",
    "function to solve this problem by finding the time that maximizes the height."
   ]
  },
  {
   "cell_type": "markdown",
   "id": "9890db16",
   "metadata": {},
   "source": [
    "Import necessary packages."
   ]
  },
  {
   "cell_type": "code",
   "execution_count": null,
   "id": "3b45d99c",
   "metadata": {},
   "outputs": [],
   "source": [
    "from scipy.optimize import minimize\n",
    "\n",
    "from teaching_optimization.plot_function import plot_function\n",
    "\n"
   ]
  },
  {
   "cell_type": "markdown",
   "id": "082e068a",
   "metadata": {},
   "source": [
    "First implement the calculation of the altitude of the projectile using the formula for uniformly accelerated\n",
    "movement:  $$f(t) = x_o + v_0 t -\\frac{g}{2} t^2,$$\n",
    "where $x_0$ is the initial altitude, $v_0$ the initial speed, and $g$ the acceleration due\n",
    "to gravity."
   ]
  },
  {
   "cell_type": "markdown",
   "id": "46ded661",
   "metadata": {},
   "source": [
    "Define a constant."
   ]
  },
  {
   "cell_type": "code",
   "execution_count": null,
   "id": "94f63a5e",
   "metadata": {},
   "outputs": [],
   "source": [
    "GRAVITY = 9.81\n",
    "\n"
   ]
  },
  {
   "cell_type": "markdown",
   "id": "a72168d4",
   "metadata": {},
   "source": [
    "Write a function to calculate the height of the projectile, using the formula."
   ]
  },
  {
   "cell_type": "code",
   "execution_count": null,
   "id": "b1e277e7",
   "metadata": {},
   "outputs": [],
   "source": [
    "def height(time: float, initial_altitude: float, initial_speed: float) -> float:\n",
    "    \"\"\"\n",
    "    Calculate the height of the projectile, using the formula.\n",
    "\n",
    "    :param time: time at which we need the height.\n",
    "    :param initial_altitude: initial altitude x_0.\n",
    "    :param initial_speed: initial speed v_0.\n",
    "    :return: height.\n",
    "    \"\"\"\n",
    "    return (\n",
    "        initial_altitude + initial_speed * time - GRAVITY * time * time / 2\n",
    "    )\n",
    "\n"
   ]
  },
  {
   "cell_type": "markdown",
   "id": "ad60c6c9",
   "metadata": {},
   "source": [
    "Define the objective function. The \"decision\" variable is the time."
   ]
  },
  {
   "cell_type": "code",
   "execution_count": null,
   "id": "384dc8e9",
   "metadata": {},
   "outputs": [],
   "source": [
    "def objective_function(point: float) -> float:\n",
    "    \"\"\"Objective function of the optimization problem.\n",
    "    We change the sign of the objective function to transform a maximization problem into a minimization problem.\n",
    "\n",
    "    :param point: decision variable.\n",
    "    \"\"\"\n",
    "    return -height(\n",
    "        time=point, initial_altitude=0, initial_speed=50\n",
    "    )\n",
    "\n"
   ]
  },
  {
   "cell_type": "markdown",
   "id": "c463d82b",
   "metadata": {},
   "source": [
    "Plot the objective function."
   ]
  },
  {
   "cell_type": "code",
   "execution_count": null,
   "id": "1a2fd0e2",
   "metadata": {},
   "outputs": [],
   "source": [
    "plot_function(\n",
    "    my_function=objective_function,\n",
    "    label='Negative altitude',\n",
    "    x_label='Time (sec.)',\n",
    "    y_label='Altitude with opposite sign (m.)',\n",
    "    x_min=0,\n",
    "    x_max=12,\n",
    "    y_min=-150,\n",
    "    y_max=0,\n",
    ")\n",
    "plt.show()\n"
   ]
  },
  {
   "cell_type": "markdown",
   "id": "8a1b93fa",
   "metadata": {},
   "source": [
    "Initial solution"
   ]
  },
  {
   "cell_type": "code",
   "execution_count": null,
   "id": "cbb1e551",
   "metadata": {},
   "outputs": [],
   "source": [
    "x0 = 0.0\n"
   ]
  },
  {
   "cell_type": "markdown",
   "id": "219c3268",
   "metadata": {},
   "source": [
    "Run the algorithm."
   ]
  },
  {
   "cell_type": "code",
   "execution_count": null,
   "id": "9940c86d",
   "metadata": {},
   "outputs": [],
   "source": [
    "optimization_result = minimize(\n",
    "    fun=objective_function, x0=x0\n",
    ")\n"
   ]
  },
  {
   "cell_type": "markdown",
   "id": "6e50990f",
   "metadata": {},
   "source": [
    "Print the raw results. Note that 'success' is set to True."
   ]
  },
  {
   "cell_type": "code",
   "execution_count": null,
   "id": "de31a3db",
   "metadata": {},
   "outputs": [],
   "source": [
    "print(optimization_result)\n"
   ]
  },
  {
   "cell_type": "markdown",
   "id": "b776d412",
   "metadata": {},
   "source": [
    "Print the solution with 3 significant digits. We expect:\n",
    "\n",
    "- Elapsed time:     5.1 sec.\n",
    "- Altitude reached: 127 m."
   ]
  },
  {
   "cell_type": "code",
   "execution_count": null,
   "id": "06cd6f06",
   "metadata": {},
   "outputs": [],
   "source": [
    "print(f'Elapsed time:     {optimization_result.x[0]:.3g} sec.')\n",
    "print(f'Altitude reached: {-optimization_result.fun:.3g} m.')"
   ]
  }
 ],
 "metadata": {},
 "nbformat": 4,
 "nbformat_minor": 5
}
