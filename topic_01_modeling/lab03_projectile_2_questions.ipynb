{
 "cells": [
  {
   "cell_type": "markdown",
   "id": "8457e6fd",
   "metadata": {},
   "source": [
    "# Projectile\n",
    "## Second exercise\n",
    "\n",
    "## Introduction to optimization and operations research.\n",
    "\n",
    "Michel Bierlaire\n"
   ]
  },
  {
   "cell_type": "markdown",
   "id": "2ef7e71b",
   "metadata": {},
   "source": [
    "A projectile is launched vertically at a rate of 50 meters per second in the absence of wind. After how long will it\n",
    "reach again the ground, that is, its **lowest** altitude?"
   ]
  },
  {
   "cell_type": "markdown",
   "id": "c8453a2e",
   "metadata": {},
   "source": [
    "Import necessary packages."
   ]
  },
  {
   "cell_type": "code",
   "execution_count": null,
   "id": "2c917be6",
   "metadata": {},
   "outputs": [],
   "source": [
    "from scipy.optimize import minimize, OptimizeResult\n",
    "\n",
    "from teaching_optimization.plot_function import plot_function\n",
    "\n"
   ]
  },
  {
   "cell_type": "markdown",
   "id": "7ef54e60",
   "metadata": {},
   "source": [
    "First implement the calculation of the altitude of the projectile using the formula for uniformly accelerated\n",
    "movement:  $$f(t) = x_0 + v_0 t -\\frac{g}{2} t^2,$$\n",
    "where $x_0$ is the initial altitude, $v_0$ the initial speed, and $g$ the acceleration due\n",
    "to gravity."
   ]
  },
  {
   "cell_type": "markdown",
   "id": "6b5cb64f",
   "metadata": {},
   "source": [
    "Define a constant."
   ]
  },
  {
   "cell_type": "code",
   "execution_count": null,
   "id": "42e41c4a",
   "metadata": {},
   "outputs": [],
   "source": [
    "GRAVITY = 9.81\n",
    "\n"
   ]
  },
  {
   "cell_type": "markdown",
   "id": "e9c3c483",
   "metadata": {},
   "source": [
    "Write a function to calculate the height of the projectile, using the formula."
   ]
  },
  {
   "cell_type": "code",
   "execution_count": null,
   "id": "080c68aa",
   "metadata": {},
   "outputs": [],
   "source": [
    "def height(time: float, initial_altitude: float, initial_speed: float) -> float:\n",
    "    \"\"\"\n",
    "    Calculate the height of the projectile, using the formula.\n",
    "\n",
    "    :param time: time at which we need the height.\n",
    "    :param initial_altitude: initial altitude x_0.\n",
    "    :param initial_speed: initial speed v_0.\n",
    "    :return: height.\n",
    "    \"\"\"\n",
    "    return initial_altitude + initial_speed * time - GRAVITY * time * time / 2\n",
    "\n"
   ]
  },
  {
   "cell_type": "markdown",
   "id": "5b82a36d",
   "metadata": {},
   "source": [
    "Define the objective function. The \"decision\" variable is the time."
   ]
  },
  {
   "cell_type": "code",
   "execution_count": null,
   "id": "4696f2bc",
   "metadata": {},
   "outputs": [],
   "source": [
    "def objective_function(x: float) -> float:\n",
    "    \"\"\"Objective function of the optimization problem.\n",
    "    Here, the \"decision\" variable is the time. Here, we do not change the sign of\n",
    "    the objective function as we need to solve a minimization problem.\n",
    "    \"\"\"\n",
    "    return height(time=x, initial_altitude=0, initial_speed=50)\n",
    "\n"
   ]
  },
  {
   "cell_type": "markdown",
   "id": "7d0a7cd9",
   "metadata": {},
   "source": [
    "Plot the objective function. Make a visual guess of the solution."
   ]
  },
  {
   "cell_type": "code",
   "execution_count": null,
   "id": "8d1d4286",
   "metadata": {},
   "outputs": [],
   "source": [
    "plot_function(\n",
    "    my_function=objective_function,\n",
    "    label='Altitude',\n",
    "    x_label='Time (sec.)',\n",
    "    y_label='Altitude (m.)',\n",
    "    x_min=0,\n",
    "    x_max=12,\n",
    "    y_min=0,\n",
    "    y_max=150,\n",
    ")\n",
    "\n",
    "\n"
   ]
  },
  {
   "cell_type": "markdown",
   "id": "ba8c569d",
   "metadata": {},
   "source": [
    "Initial solution."
   ]
  },
  {
   "cell_type": "code",
   "execution_count": null,
   "id": "ee5da160",
   "metadata": {},
   "outputs": [],
   "source": [
    "x0 = 0.0\n"
   ]
  },
  {
   "cell_type": "markdown",
   "id": "0ef01882",
   "metadata": {},
   "source": [
    "Run the algorithm."
   ]
  },
  {
   "cell_type": "code",
   "execution_count": null,
   "id": "21f11251",
   "metadata": {},
   "outputs": [],
   "source": [
    "the_result = minimize(fun=objective_function, x0=x0)\n",
    "\n"
   ]
  },
  {
   "cell_type": "markdown",
   "id": "8eeb84af",
   "metadata": {},
   "source": [
    "Function that prints the results."
   ]
  },
  {
   "cell_type": "code",
   "execution_count": null,
   "id": "33baab07",
   "metadata": {},
   "outputs": [],
   "source": [
    "def print_results(optimization_result: OptimizeResult) -> None:\n",
    "    # Print the raw results.\n",
    "    print(optimization_result)\n",
    "    print()\n",
    "    # Print the solution with 3 significant digits.\n",
    "    print(f'Elapsed time:     {optimization_result.x[0]:.3g} sec.')\n",
    "    print(f'Altitude reached: {optimization_result.fun:.3g} m.')\n",
    "\n"
   ]
  },
  {
   "cell_type": "markdown",
   "id": "29933d91",
   "metadata": {},
   "source": [
    "Expected results:\n",
    "\n",
    "- Elapsed time:     10.2 sec.\n",
    "- Altitude reached: 0 m."
   ]
  },
  {
   "cell_type": "code",
   "execution_count": null,
   "id": "7e739952",
   "metadata": {},
   "outputs": [],
   "source": [
    "print_results(optimization_result=the_result)\n"
   ]
  },
  {
   "cell_type": "markdown",
   "id": "23a9e8c2",
   "metadata": {},
   "source": [
    "Note that `success` is set to `False`. In any case, those results do not make sense. What is going on?"
   ]
  },
  {
   "cell_type": "markdown",
   "id": "5dade206",
   "metadata": {},
   "source": [
    "Try to fix the problem by:\n",
    "\n",
    "- defining constraints,\n",
    "- changing the starting point."
   ]
  },
  {
   "cell_type": "markdown",
   "id": "07054e24",
   "metadata": {},
   "source": [
    "# Tips\n",
    "\n",
    "It is important to be critical of the solution provided by the algorithm.\n",
    "Optimization software always produces *a result*, but that does not guarantee that it is the correct or useful one.\n",
    "For example:\n",
    "\n",
    "- The mathematical model itself may be incomplete or missing important constraints, leading to unrealistic answers.\n",
    "- The algorithm may stop at a *local minimum*, which looks optimal in a small region but is not the best possible solution overall.\n",
    "- Numerical issues can also affect the reported values, especially when the result is \"close\" to what is expected.\n",
    "\n",
    "This is why it is essential to combine the algorithm’s output with your own critical judgment:\n",
    "always check whether the result makes sense in the real-world context of the problem."
   ]
  }
 ],
 "metadata": {},
 "nbformat": 4,
 "nbformat_minor": 5
}
