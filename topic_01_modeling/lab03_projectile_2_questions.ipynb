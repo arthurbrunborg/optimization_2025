{
 "cells": [
  {
   "cell_type": "markdown",
   "id": "5f3c44dd",
   "metadata": {},
   "source": [
    "# Projectile\n",
    "## Second exercise\n",
    "\n",
    "## Introduction to optimization and operations research.\n",
    "\n",
    "Michel Bierlaire\n"
   ]
  },
  {
   "cell_type": "markdown",
   "id": "f775f02d",
   "metadata": {},
   "source": [
    "A projectile is launched vertically at a rate of 50 meters per second in the absence of wind. After how long will it\n",
    "reach again the ground, that is, its **lowest** altitude?"
   ]
  },
  {
   "cell_type": "markdown",
   "id": "9a14c786",
   "metadata": {},
   "source": [
    "Import necessary packages."
   ]
  },
  {
   "cell_type": "code",
   "execution_count": null,
   "id": "4f91356d",
   "metadata": {},
   "outputs": [],
   "source": [
    "from scipy.optimize import minimize, OptimizeResult\n",
    "\n",
    "from teaching_optimization.plot_function import plot_function\n",
    "\n"
   ]
  },
  {
   "cell_type": "markdown",
   "id": "0d62efe2",
   "metadata": {},
   "source": [
    "First implement the calculation of the altitude of the projectile using the formula for uniformly accelerated\n",
    "movement:  $$f(t) = x_0 + v_0 t -\\frac{g}{2} t^2,$$\n",
    "where $x_0$ is the initial altitude, $v_0$ the initial speed, and $g$ the acceleration due\n",
    "to gravity."
   ]
  },
  {
   "cell_type": "markdown",
   "id": "4a967d35",
   "metadata": {},
   "source": [
    "Define a constant."
   ]
  },
  {
   "cell_type": "code",
   "execution_count": null,
   "id": "30c35357",
   "metadata": {},
   "outputs": [],
   "source": [
    "GRAVITY = 9.81\n",
    "\n"
   ]
  },
  {
   "cell_type": "markdown",
   "id": "a8b40855",
   "metadata": {},
   "source": [
    "Write a function to calculate the height of the projectile, using the formula."
   ]
  },
  {
   "cell_type": "code",
   "execution_count": null,
   "id": "9006cd07",
   "metadata": {},
   "outputs": [],
   "source": [
    "def height(time: float, initial_altitude: float, initial_speed: float) -> float:\n",
    "    \"\"\"\n",
    "    Calculate the height of the projectile, using the formula.\n",
    "\n",
    "    :param time: time at which we need the height.\n",
    "    :param initial_altitude: initial altitude x_0.\n",
    "    :param initial_speed: initial speed v_0.\n",
    "    :return: height.\n",
    "    \"\"\"\n",
    "    return initial_altitude + initial_speed * time - GRAVITY * time * time / 2\n",
    "\n"
   ]
  },
  {
   "cell_type": "markdown",
   "id": "c4cf9273",
   "metadata": {},
   "source": [
    "Define the objective function. The \"decision\" variable is the time."
   ]
  },
  {
   "cell_type": "code",
   "execution_count": null,
   "id": "1e5cb0ff",
   "metadata": {},
   "outputs": [],
   "source": [
    "def objective_function(x: float) -> float:\n",
    "    \"\"\"Objective function of the optimization problem.\n",
    "    Here, the \"decision\" variable is the time. Here, we do not change the sign of\n",
    "    the objective function as we need to solve a minimization problem.\n",
    "    \"\"\"\n",
    "    return height(time=x, initial_altitude=0, initial_speed=50)\n",
    "\n"
   ]
  },
  {
   "cell_type": "markdown",
   "id": "b86e60a3",
   "metadata": {},
   "source": [
    "Plot the objective function. Make a visual guess of the solution."
   ]
  },
  {
   "cell_type": "code",
   "execution_count": null,
   "id": "82f9f13c",
   "metadata": {},
   "outputs": [],
   "source": [
    "plot_function(\n",
    "    my_function=objective_function,\n",
    "    label='Altitude',\n",
    "    x_label='Time (sec.)',\n",
    "    y_label='Altitude (m.)',\n",
    "    x_min=0,\n",
    "    x_max=12,\n",
    "    y_min=0,\n",
    "    y_max=150,\n",
    ")\n",
    "\n",
    "\n"
   ]
  },
  {
   "cell_type": "markdown",
   "id": "d58f520d",
   "metadata": {},
   "source": [
    "Initial solution."
   ]
  },
  {
   "cell_type": "code",
   "execution_count": null,
   "id": "1869516b",
   "metadata": {},
   "outputs": [],
   "source": [
    "x0 = 0.0\n"
   ]
  },
  {
   "cell_type": "markdown",
   "id": "2b8ceed7",
   "metadata": {},
   "source": [
    "Run the algorithm."
   ]
  },
  {
   "cell_type": "code",
   "execution_count": null,
   "id": "980d2ae7",
   "metadata": {},
   "outputs": [],
   "source": [
    "the_result = minimize(fun=objective_function, x0=x0)\n",
    "\n"
   ]
  },
  {
   "cell_type": "markdown",
   "id": "ee8ed74d",
   "metadata": {},
   "source": [
    "Function that prints the results."
   ]
  },
  {
   "cell_type": "code",
   "execution_count": null,
   "id": "c19f2e56",
   "metadata": {},
   "outputs": [],
   "source": [
    "def print_results(optimization_result: OptimizeResult) -> None:\n",
    "    # Print the raw results.\n",
    "    print(optimization_result)\n",
    "    print()\n",
    "    # Print the solution with 3 significant digits.\n",
    "    print(f'Elapsed time:     {optimization_result.x[0]:.3g} sec.')\n",
    "    print(f'Altitude reached: {optimization_result.fun:.3g} m.')\n",
    "\n"
   ]
  },
  {
   "cell_type": "markdown",
   "id": "3d249ed9",
   "metadata": {},
   "source": [
    "Expected results:\n",
    "\n",
    "- Elapsed time:     10.2 sec.\n",
    "- Altitude reached: 0 m."
   ]
  },
  {
   "cell_type": "code",
   "execution_count": null,
   "id": "00e38a34",
   "metadata": {},
   "outputs": [],
   "source": [
    "print_results(optimization_result=the_result)\n"
   ]
  },
  {
   "cell_type": "markdown",
   "id": "bd204cbc",
   "metadata": {},
   "source": [
    "Note that `success` is set to `False`. In any case, those results do not make sense. What is going on?"
   ]
  },
  {
   "cell_type": "markdown",
   "id": "7ff50335",
   "metadata": {},
   "source": [
    "Try to fix the problem by:\n",
    "\n",
    "- defining constraints,\n",
    "- changing the starting point."
   ]
  },
  {
   "cell_type": "markdown",
   "id": "607baf1f",
   "metadata": {},
   "source": [
    "# Tips\n",
    "\n",
    "It is important to be critical of the solution provided by the algorithm.\n",
    "Optimization software always produces *a result*, but that does not guarantee that it is the correct or useful one.\n",
    "For example:\n",
    "\n",
    "- The mathematical model itself may be incomplete or missing important constraints, leading to unrealistic answers.\n",
    "- The algorithm may stop at a *local minimum*, which looks optimal in a small region but is not the best possible solution overall.\n",
    "- Numerical issues can also affect the reported values, especially when the result is \"close\" to what is expected.\n",
    "\n",
    "This is why it is essential to combine the algorithm’s output with your own critical judgment:\n",
    "always check whether the result makes sense in the real-world context of the problem."
   ]
  }
 ],
 "metadata": {},
 "nbformat": 4,
 "nbformat_minor": 5
}
