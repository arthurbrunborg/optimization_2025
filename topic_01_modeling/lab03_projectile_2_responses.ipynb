{
 "cells": [
  {
   "cell_type": "markdown",
   "id": "5948f9fc",
   "metadata": {},
   "source": [
    "# Projectile\n",
    "## Second exercise\n",
    "\n",
    "## Introduction to optimization and operations research.\n",
    "\n",
    "Michel Bierlaire\n"
   ]
  },
  {
   "cell_type": "markdown",
   "id": "7d136ade",
   "metadata": {},
   "source": [
    "A projectile is launched vertically at a rate of 50 meters per second in the absence of wind. After how long will it\n",
    "reach again the ground, that is, its **lowest** altitude?"
   ]
  },
  {
   "cell_type": "markdown",
   "id": "cb7b25a4",
   "metadata": {},
   "source": [
    "Import necessary packages."
   ]
  },
  {
   "cell_type": "code",
   "execution_count": null,
   "id": "f7428dfd",
   "metadata": {},
   "outputs": [],
   "source": [
    "from scipy.optimize import minimize, OptimizeResult\n",
    "\n",
    "from teaching_optimization.plot_function import plot_function\n",
    "\n"
   ]
  },
  {
   "cell_type": "markdown",
   "id": "08a74c63",
   "metadata": {},
   "source": [
    "First implement the calculation of the altitude of the projectile using the formula for uniformly accelerated\n",
    "movement:  $$f(t) = x_0 + v_0 t -\\frac{g}{2} t^2,$$\n",
    "where $x_0$ is the initial altitude, $v_0$ the initial speed, and $g$ the acceleration due\n",
    "to gravity."
   ]
  },
  {
   "cell_type": "markdown",
   "id": "8be4787a",
   "metadata": {},
   "source": [
    "Define a constant."
   ]
  },
  {
   "cell_type": "code",
   "execution_count": null,
   "id": "d65c369a",
   "metadata": {},
   "outputs": [],
   "source": [
    "GRAVITY = 9.81\n",
    "\n"
   ]
  },
  {
   "cell_type": "markdown",
   "id": "127e90e7",
   "metadata": {},
   "source": [
    "Write a function to calculate the height of the projectile, using the formula."
   ]
  },
  {
   "cell_type": "code",
   "execution_count": null,
   "id": "fcd674fb",
   "metadata": {},
   "outputs": [],
   "source": [
    "def height(time: float, initial_altitude: float, initial_speed: float) -> float:\n",
    "    \"\"\"\n",
    "    Calculate the height of the projectile, using the formula.\n",
    "\n",
    "    :param time: time at which we need the height.\n",
    "    :param initial_altitude: initial altitude x_0.\n",
    "    :param initial_speed: initial speed v_0.\n",
    "    :return: height.\n",
    "    \"\"\"\n",
    "    return initial_altitude + initial_speed * time - GRAVITY * time * time / 2\n",
    "\n"
   ]
  },
  {
   "cell_type": "markdown",
   "id": "3578e0d1",
   "metadata": {},
   "source": [
    "Define the objective function. The \"decision\" variable is the time."
   ]
  },
  {
   "cell_type": "code",
   "execution_count": null,
   "id": "facaffd0",
   "metadata": {},
   "outputs": [],
   "source": [
    "def objective_function(x: float) -> float:\n",
    "    \"\"\"Objective function of the optimization problem.\n",
    "    Here, the \"decision\" variable is the time. Here, we do not change the sign of\n",
    "    the objective function as we need to solve a minimization problem.\n",
    "    \"\"\"\n",
    "    return height(time=x, initial_altitude=0, initial_speed=50)\n",
    "\n"
   ]
  },
  {
   "cell_type": "markdown",
   "id": "a6470bc1",
   "metadata": {},
   "source": [
    "Plot the objective function. Make a visual guess of the solution."
   ]
  },
  {
   "cell_type": "code",
   "execution_count": null,
   "id": "b4bc8b59",
   "metadata": {},
   "outputs": [],
   "source": [
    "plot_function(\n",
    "    my_function=objective_function,\n",
    "    label='Altitude',\n",
    "    x_label='Time (sec.)',\n",
    "    y_label='Altitude (m.)',\n",
    "    x_min=0,\n",
    "    x_max=12,\n",
    "    y_min=0,\n",
    "    y_max=150,\n",
    ")\n"
   ]
  },
  {
   "cell_type": "markdown",
   "id": "fa84593e",
   "metadata": {},
   "source": [
    "According to the plot, the solution we are looking for should be something slightly larger than 10 sec."
   ]
  },
  {
   "cell_type": "markdown",
   "id": "689fce91",
   "metadata": {},
   "source": [
    "Initial solution."
   ]
  },
  {
   "cell_type": "code",
   "execution_count": null,
   "id": "fea75c56",
   "metadata": {},
   "outputs": [],
   "source": [
    "x0 = 0.0\n"
   ]
  },
  {
   "cell_type": "markdown",
   "id": "c149a3d9",
   "metadata": {},
   "source": [
    "Run the algorithm."
   ]
  },
  {
   "cell_type": "code",
   "execution_count": null,
   "id": "9050ea1d",
   "metadata": {},
   "outputs": [],
   "source": [
    "the_result = minimize(fun=objective_function, x0=x0)\n",
    "\n"
   ]
  },
  {
   "cell_type": "markdown",
   "id": "739b8097",
   "metadata": {},
   "source": [
    "Function that prints the results."
   ]
  },
  {
   "cell_type": "code",
   "execution_count": null,
   "id": "9bf79b22",
   "metadata": {},
   "outputs": [],
   "source": [
    "def print_results(optimization_result: OptimizeResult) -> None:\n",
    "    # Print the raw results.\n",
    "    print(optimization_result)\n",
    "    print()\n",
    "    # Print the solution with 3 significant digits.\n",
    "    print(f'Elapsed time:     {optimization_result.x[0]:.3g} sec.')\n",
    "    print(f'Altitude reached: {optimization_result.fun:.3g} m.')\n",
    "\n"
   ]
  },
  {
   "cell_type": "markdown",
   "id": "9403e3e5",
   "metadata": {},
   "source": [
    "Expected results:\n",
    "\n",
    "- Elapsed time:     10.2 sec.\n",
    "- Altitude reached: 0 m."
   ]
  },
  {
   "cell_type": "code",
   "execution_count": null,
   "id": "a57834f9",
   "metadata": {},
   "outputs": [],
   "source": [
    "print_results(optimization_result=the_result)\n"
   ]
  },
  {
   "cell_type": "markdown",
   "id": "715b2c0d",
   "metadata": {},
   "source": [
    "Note that `success` is set to `False`. In any case, those results do not make sense. What is going on?"
   ]
  },
  {
   "cell_type": "markdown",
   "id": "fee636d0",
   "metadata": {},
   "source": [
    "Try to fix the problem by:\n",
    "\n",
    "- defining constraints,\n",
    "- changing the starting point."
   ]
  },
  {
   "cell_type": "markdown",
   "id": "910ffefe",
   "metadata": {},
   "source": [
    "Actually, the above optimization problem is **unbounded** and no solution exists. Our formulation is incomplete.\n",
    "Time can only go forward, and therefore must be non-negative.\n",
    "And altitude cannot be negative either. This has to be mentioned to the algorithm."
   ]
  },
  {
   "cell_type": "markdown",
   "id": "6534ee77",
   "metadata": {},
   "source": [
    "First, we impose a lower bound on the variable."
   ]
  },
  {
   "cell_type": "code",
   "execution_count": null,
   "id": "1fb7e838",
   "metadata": {},
   "outputs": [],
   "source": [
    "bounds = [(0, None)]\n",
    "\n"
   ]
  },
  {
   "cell_type": "markdown",
   "id": "b9931fa1",
   "metadata": {},
   "source": [
    "\n",
    "Second, we introduce a constraint on the altitude. In ``scipy``, inequality constraints are coded\n",
    "as $c(x) \\geq 0$. In our case, $c(x)$ represents the altitude."
   ]
  },
  {
   "cell_type": "code",
   "execution_count": null,
   "id": "d142d871",
   "metadata": {},
   "outputs": [],
   "source": [
    "def inequality_constraint(x: float) -> float:\n",
    "    \"\"\"Altitude of the projectile\"\"\"\n",
    "    return height(time=x, initial_altitude=0, initial_speed=50)\n",
    "\n"
   ]
  },
  {
   "cell_type": "markdown",
   "id": "aa217eab",
   "metadata": {},
   "source": [
    "\n",
    "\n",
    "Run the algorithm."
   ]
  },
  {
   "cell_type": "code",
   "execution_count": null,
   "id": "c0edb117",
   "metadata": {},
   "outputs": [],
   "source": [
    "x0 = 0\n",
    "the_result = minimize(\n",
    "    fun=objective_function,\n",
    "    x0=x0,\n",
    "    constraints={'type': 'ineq', 'fun': inequality_constraint},\n",
    "    bounds=bounds,\n",
    ")"
   ]
  },
  {
   "cell_type": "markdown",
   "id": "fa974d34",
   "metadata": {},
   "source": [
    "\n",
    "Note that 'success' is set to True."
   ]
  },
  {
   "cell_type": "code",
   "execution_count": null,
   "id": "7a7cae86",
   "metadata": {},
   "outputs": [],
   "source": [
    "print_results(optimization_result=the_result)"
   ]
  },
  {
   "cell_type": "markdown",
   "id": "95c8753e",
   "metadata": {},
   "source": [
    "\n",
    "The algorithm has returned a solution which is now correct. But this is not the one that we needed.\n",
    "We know from the previous exercise that the projectile reaches its highest altitude after 5.1 sec. Therefore, we can\n",
    "impose, without loss of generality, that the time should be at least 1 sec."
   ]
  },
  {
   "cell_type": "code",
   "execution_count": null,
   "id": "c9672872",
   "metadata": {},
   "outputs": [],
   "source": [
    "x0 = 0\n",
    "bounds = [(1, None)]\n",
    "the_result = minimize(\n",
    "    fun=objective_function,\n",
    "    x0=x0,\n",
    "    constraints={'type': 'ineq', 'fun': inequality_constraint},\n",
    "    bounds=bounds,\n",
    ")"
   ]
  },
  {
   "cell_type": "markdown",
   "id": "bf0080aa",
   "metadata": {},
   "source": [
    "\n",
    "Note that 'success' is set to True."
   ]
  },
  {
   "cell_type": "code",
   "execution_count": null,
   "id": "7ed71d85",
   "metadata": {},
   "outputs": [],
   "source": [
    "print_results(optimization_result=the_result)"
   ]
  },
  {
   "cell_type": "markdown",
   "id": "2abe7e87",
   "metadata": {},
   "source": [
    "\n",
    "This is again incorrect. According to the plot, the solution should be something larger than 10 sec.\n",
    "The problem is that the algorithm has been blocked in a local optimum. In order to escape from it, we change the\n",
    "starting point,"
   ]
  },
  {
   "cell_type": "code",
   "execution_count": null,
   "id": "a15306e9",
   "metadata": {},
   "outputs": [],
   "source": [
    "x0 = 6.0\n",
    "bounds = [(1, None)]\n",
    "the_result = minimize(\n",
    "    fun=objective_function,\n",
    "    x0=x0,\n",
    "    constraints={'type': 'ineq', 'fun': inequality_constraint},\n",
    "    bounds=bounds,\n",
    ")"
   ]
  },
  {
   "cell_type": "markdown",
   "id": "cb4e4407",
   "metadata": {},
   "source": [
    "\n",
    "Note that 'success' is set to True."
   ]
  },
  {
   "cell_type": "code",
   "execution_count": null,
   "id": "1754c485",
   "metadata": {},
   "outputs": [],
   "source": [
    "print_results(optimization_result=the_result)"
   ]
  },
  {
   "cell_type": "markdown",
   "id": "4e7cbcf1",
   "metadata": {},
   "source": [
    "\n",
    "This is the expected result. Note that the altitude is not exactly zero, but a number very close to zero.\n",
    "Such *numerical features* are happening often in optimization."
   ]
  },
  {
   "cell_type": "markdown",
   "id": "67002e8a",
   "metadata": {},
   "source": [
    "# Tips\n",
    "\n",
    "It is important to be critical of the solution provided by the algorithm.\n",
    "Optimization software always produces *a result*, but that does not guarantee that it is the correct or useful one.\n",
    "For example:\n",
    "\n",
    "- The mathematical model itself may be incomplete or missing important constraints, leading to unrealistic answers.\n",
    "- The algorithm may stop at a *local minimum*, which looks optimal in a small region but is not the best possible solution overall.\n",
    "- Numerical issues can also affect the reported values, especially when the result is \"close\" to what is expected.\n",
    "\n",
    "This is why it is essential to combine the algorithm’s output with your own critical judgment:\n",
    "always check whether the result makes sense in the real-world context of the problem."
   ]
  }
 ],
 "metadata": {},
 "nbformat": 4,
 "nbformat_minor": 5
}
