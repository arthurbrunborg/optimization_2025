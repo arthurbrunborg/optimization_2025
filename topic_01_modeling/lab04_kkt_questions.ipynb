{
 "cells": [
  {
   "cell_type": "markdown",
   "id": "f03c6803",
   "metadata": {},
   "source": [
    "# Karush-Kuhn-Tucker\n",
    "\n",
    "## Introduction to optimization and operations research.\n",
    "\n",
    "Michel Bierlaire\n"
   ]
  },
  {
   "cell_type": "markdown",
   "id": "04771dc5",
   "metadata": {},
   "source": [
    "In this lab, you will practice applying the **Karush-Kuhn-Tucker (KKT) conditions**, a cornerstone of constrained optimization.\n",
    "The goal is twofold: first, to understand how to reformulate a simple optimization problem into the standard form\n",
    "and check whether a candidate solution satisfies the KKT conditions; second, to implement basic Python functions\n",
    "that compute the objective, constraints, and Lagrangian, and use them to test feasibility and consistency.\n",
    "These exercises are designed to bridge the gap between theory and practice: you will start with a paper-and-pencil\n",
    "verification before moving on to a small coding task that reinforces the concepts."
   ]
  },
  {
   "cell_type": "markdown",
   "id": "3dece865",
   "metadata": {},
   "source": [
    "Consider the constrained optimization problem:\n",
    "$$\n",
    "\\min_{x\\in \\mathbb{R}} x^2,\n",
    "$$\n",
    "subject to\n",
    "$$\n",
    "1 \\leq x \\leq 4.\n",
    "$$"
   ]
  },
  {
   "cell_type": "markdown",
   "id": "c2cca273",
   "metadata": {},
   "source": [
    "We want to show that $x^*=1$ verifies the first-order Karush-Kuhn-Tucker (KKT) optimality conditions.\n",
    "\n",
    "**Hint**: write first the problem in the general form used in the lecture:\n",
    "$$\n",
    "\\min_{x \\in \\mathbb{R}^n} f(x)\n",
    "$$\n",
    "subject to\n",
    "\\begin{align*}\n",
    "h(x) &= 0, \\;\\;  h:\\mathbb{R}^n \\to \\mathbb{R}^m, m \\geq 0, \\\\\n",
    "g(x) &\\leq 0, \\;\\; g:\\mathbb{R}^n \\to \\mathbb{R}^p, p \\geq 0. \\\\\n",
    "\\end{align*}"
   ]
  },
  {
   "cell_type": "markdown",
   "id": "0fd909ff",
   "metadata": {},
   "source": [
    "The first exercise consists in\n",
    "\n",
    "- writing the problem in the general form above,\n",
    "- show that $x^*=1$ verifies the KKT optimality conditions.\n",
    "\n",
    "It does not require any coding."
   ]
  },
  {
   "cell_type": "markdown",
   "id": "ee52927b",
   "metadata": {},
   "source": [
    "For the second exercise, consider the problem written in the general form above, and the Lagrange multipliers\n",
    "involved in the KKT conditions.\n",
    "Write functions that calculate the value of the objective function, the constraints and the Lagrangian.\n",
    "Write also a function that verifies if a point is feasible, that is, if it verifies the constraints."
   ]
  },
  {
   "cell_type": "markdown",
   "id": "d35176fe",
   "metadata": {},
   "source": [
    "Now, test those functions on the following values, and verify that it does not contradict the optimality of $x^*=1$.\n",
    "- $x = 0$,\n",
    "- $x = 1$,\n",
    "- $x = 3$."
   ]
  },
  {
   "cell_type": "markdown",
   "id": "837f5418",
   "metadata": {},
   "source": [
    "Objective function"
   ]
  },
  {
   "cell_type": "code",
   "execution_count": null,
   "id": "f9d5260f",
   "metadata": {},
   "outputs": [],
   "source": [
    "def objective(x: float) -> float:\n",
    "    \"\"\"Objective function\"\"\"\n",
    "    return ...\n",
    "\n"
   ]
  },
  {
   "cell_type": "markdown",
   "id": "9611b005",
   "metadata": {},
   "source": [
    "First constraint"
   ]
  },
  {
   "cell_type": "code",
   "execution_count": null,
   "id": "d703a3c3",
   "metadata": {},
   "outputs": [],
   "source": [
    "def first_constraint(x: float) -> float:\n",
    "    \"\"\"First constraint\"\"\"\n",
    "    return ...\n",
    "\n"
   ]
  },
  {
   "cell_type": "markdown",
   "id": "c476eb6a",
   "metadata": {},
   "source": [
    "Second constraint"
   ]
  },
  {
   "cell_type": "code",
   "execution_count": null,
   "id": "8da79ccf",
   "metadata": {},
   "outputs": [],
   "source": [
    "def second_constraint(x: float) -> float:\n",
    "    \"\"\"Second constraint\"\"\"\n",
    "    return ...\n",
    "\n"
   ]
  },
  {
   "cell_type": "markdown",
   "id": "95d67f8d",
   "metadata": {},
   "source": [
    "Feasibility check"
   ]
  },
  {
   "cell_type": "code",
   "execution_count": null,
   "id": "926a0153",
   "metadata": {},
   "outputs": [],
   "source": [
    "def is_feasible(x: float) -> float:\n",
    "    \"\"\"Check feasibility\"\"\"\n",
    "    return ...\n",
    "\n"
   ]
  },
  {
   "cell_type": "markdown",
   "id": "2620d2b2",
   "metadata": {},
   "source": [
    "Lagrangian"
   ]
  },
  {
   "cell_type": "code",
   "execution_count": null,
   "id": "f271c6e1",
   "metadata": {},
   "outputs": [],
   "source": [
    "def lagrangian(x: float, mu_1: float, mu_2: float) -> float:\n",
    "    \"\"\"Calculates the lagrangian of the problem\"\"\"\n",
    "    return ...\n",
    "\n",
    "\n",
    "\n"
   ]
  },
  {
   "cell_type": "code",
   "execution_count": null,
   "id": "b2399d8c",
   "metadata": {},
   "outputs": [],
   "source": [
    "mu_1 = ...\n",
    "mu_2 = ...\n"
   ]
  },
  {
   "cell_type": "code",
   "execution_count": null,
   "id": "3c1e8e56",
   "metadata": {},
   "outputs": [],
   "source": [
    "x = 0\n"
   ]
  },
  {
   "cell_type": "markdown",
   "id": "15692c83",
   "metadata": {},
   "source": [
    "Expected answer: f(0) = 0"
   ]
  },
  {
   "cell_type": "code",
   "execution_count": null,
   "id": "00deb11d",
   "metadata": {},
   "outputs": [],
   "source": [
    "print(f'f({x}) = {objective(x)}')\n"
   ]
  },
  {
   "cell_type": "markdown",
   "id": "4cffab61",
   "metadata": {},
   "source": [
    "Expected answer: g1(0) = 1"
   ]
  },
  {
   "cell_type": "code",
   "execution_count": null,
   "id": "2ef4d187",
   "metadata": {},
   "outputs": [],
   "source": [
    "print(f'g1({x}) = {first_constraint(x)}')\n"
   ]
  },
  {
   "cell_type": "markdown",
   "id": "b7504e3e",
   "metadata": {},
   "source": [
    "Expected answer: g2(0) = -4"
   ]
  },
  {
   "cell_type": "code",
   "execution_count": null,
   "id": "67849469",
   "metadata": {},
   "outputs": [],
   "source": [
    "print(f'g2({x}) = {second_constraint(x)}')\n"
   ]
  },
  {
   "cell_type": "markdown",
   "id": "646dd96c",
   "metadata": {},
   "source": [
    "Expected answer: Is 0 feasible? False"
   ]
  },
  {
   "cell_type": "code",
   "execution_count": null,
   "id": "04bb014f",
   "metadata": {},
   "outputs": [],
   "source": [
    "print(f'Is {x} feasible? {is_feasible(x)}')\n"
   ]
  },
  {
   "cell_type": "markdown",
   "id": "d0b744c3",
   "metadata": {},
   "source": [
    "Expected answer: L(0, 2, 0) = 2"
   ]
  },
  {
   "cell_type": "code",
   "execution_count": null,
   "id": "dca48434",
   "metadata": {},
   "outputs": [],
   "source": [
    "print(f'L({x}, {mu_1}, {mu_2}) = {lagrangian(x, mu_1, mu_2)}')\n"
   ]
  },
  {
   "cell_type": "code",
   "execution_count": null,
   "id": "cdf94ea2",
   "metadata": {},
   "outputs": [],
   "source": [
    "x = 1\n"
   ]
  },
  {
   "cell_type": "markdown",
   "id": "8a8fc922",
   "metadata": {},
   "source": [
    "Expected answer: f(1) = 1"
   ]
  },
  {
   "cell_type": "code",
   "execution_count": null,
   "id": "f965c77e",
   "metadata": {},
   "outputs": [],
   "source": [
    "print(f'f({x}) = {objective(x)}')\n"
   ]
  },
  {
   "cell_type": "markdown",
   "id": "b4a13890",
   "metadata": {},
   "source": [
    "Expected answer: c1(1) = 0"
   ]
  },
  {
   "cell_type": "code",
   "execution_count": null,
   "id": "f73c5e85",
   "metadata": {},
   "outputs": [],
   "source": [
    "print(f'c1({x}) = {first_constraint(x)}')\n"
   ]
  },
  {
   "cell_type": "markdown",
   "id": "c167211a",
   "metadata": {},
   "source": [
    "Expected answer: c2(1) = -3"
   ]
  },
  {
   "cell_type": "code",
   "execution_count": null,
   "id": "21e9517a",
   "metadata": {},
   "outputs": [],
   "source": [
    "print(f'c2({x}) = {second_constraint(x)}')\n"
   ]
  },
  {
   "cell_type": "markdown",
   "id": "75269e71",
   "metadata": {},
   "source": [
    "Expected answer: Is 1 feasible? True"
   ]
  },
  {
   "cell_type": "code",
   "execution_count": null,
   "id": "14b1f6dc",
   "metadata": {},
   "outputs": [],
   "source": [
    "print(f'Is {x} feasible? {is_feasible(x)}')\n"
   ]
  },
  {
   "cell_type": "markdown",
   "id": "6817b607",
   "metadata": {},
   "source": [
    "Expected answer: L(1, 2, 0) = 1"
   ]
  },
  {
   "cell_type": "code",
   "execution_count": null,
   "id": "56fc3d7b",
   "metadata": {},
   "outputs": [],
   "source": [
    "print(f'L({x}, {mu_1}, {mu_2}) = {lagrangian(x, mu_1, mu_2)}')\n",
    "\n",
    "\n",
    "\n",
    "\n"
   ]
  },
  {
   "cell_type": "code",
   "execution_count": null,
   "id": "669ab71d",
   "metadata": {},
   "outputs": [],
   "source": [
    "x = 3\n"
   ]
  },
  {
   "cell_type": "markdown",
   "id": "60e541a1",
   "metadata": {},
   "source": [
    "Expected answer: f(3) = 9"
   ]
  },
  {
   "cell_type": "code",
   "execution_count": null,
   "id": "50b998e9",
   "metadata": {},
   "outputs": [],
   "source": [
    "print(f'f({x}) = {objective(x)}')\n"
   ]
  },
  {
   "cell_type": "markdown",
   "id": "4d56ac37",
   "metadata": {},
   "source": [
    "Expected answer: c1(3) = -2"
   ]
  },
  {
   "cell_type": "code",
   "execution_count": null,
   "id": "4eb221b2",
   "metadata": {},
   "outputs": [],
   "source": [
    "print(f'c1({x}) = {first_constraint(x)}')\n"
   ]
  },
  {
   "cell_type": "markdown",
   "id": "76b6035e",
   "metadata": {},
   "source": [
    "Expected answer: c2(3) = -1"
   ]
  },
  {
   "cell_type": "code",
   "execution_count": null,
   "id": "909b72eb",
   "metadata": {},
   "outputs": [],
   "source": [
    "print(f'c2({x}) = {second_constraint(x)}')\n"
   ]
  },
  {
   "cell_type": "markdown",
   "id": "103539bd",
   "metadata": {},
   "source": [
    "Expected answer: Is 3 feasible? True"
   ]
  },
  {
   "cell_type": "code",
   "execution_count": null,
   "id": "a292bc20",
   "metadata": {},
   "outputs": [],
   "source": [
    "print(f'Is {x} feasible? {is_feasible(x)}')\n"
   ]
  },
  {
   "cell_type": "markdown",
   "id": "60c755c5",
   "metadata": {},
   "source": [
    "Expected answer: L(3, 2, 0) = 5"
   ]
  },
  {
   "cell_type": "code",
   "execution_count": null,
   "id": "80ae2d44",
   "metadata": {},
   "outputs": [],
   "source": [
    "print(f'L({x}, {mu_1}, {mu_2}) = {lagrangian(x, mu_1, mu_2)}')\n",
    "\n",
    "\n"
   ]
  }
 ],
 "metadata": {},
 "nbformat": 4,
 "nbformat_minor": 5
}
