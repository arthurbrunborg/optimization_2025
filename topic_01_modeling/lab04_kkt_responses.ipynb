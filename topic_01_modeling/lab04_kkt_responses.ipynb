{
 "cells": [
  {
   "cell_type": "markdown",
   "id": "29581573",
   "metadata": {},
   "source": [
    "# Karush-Kuhn-Tucker\n",
    "\n",
    "## Introduction to optimization and operations research.\n",
    "\n",
    "Michel Bierlaire\n"
   ]
  },
  {
   "cell_type": "markdown",
   "id": "c4cd8d21",
   "metadata": {},
   "source": [
    "In this lab, you will practice applying the **Karush-Kuhn-Tucker (KKT) conditions**, a cornerstone of constrained optimization.\n",
    "The goal is twofold: first, to understand how to reformulate a simple optimization problem into the standard form\n",
    "and check whether a candidate solution satisfies the KKT conditions; second, to implement basic Python functions\n",
    "that compute the objective, constraints, and Lagrangian, and use them to test feasibility and consistency.\n",
    "These exercises are designed to bridge the gap between theory and practice: you will start with a paper-and-pencil\n",
    "verification before moving on to a small coding task that reinforces the concepts."
   ]
  },
  {
   "cell_type": "markdown",
   "id": "41782515",
   "metadata": {},
   "source": [
    "Consider the constrained optimization problem:\n",
    "$$\n",
    "\\min_{x\\in \\mathbb{R}} x^2,\n",
    "$$\n",
    "subject to\n",
    "$$\n",
    "1 \\leq x \\leq 4.\n",
    "$$"
   ]
  },
  {
   "cell_type": "markdown",
   "id": "16d393e5",
   "metadata": {},
   "source": [
    "We want to show that $x^*=1$ verifies the first-order Karush-Kuhn-Tucker (KKT) optimality conditions.\n",
    "\n",
    "**Hint**: write first the problem in the general form used in the lecture:\n",
    "$$\n",
    "\\min_{x \\in \\mathbb{R}^n} f(x)\n",
    "$$\n",
    "subject to\n",
    "\\begin{align*}\n",
    "h(x) &= 0, \\;\\;  h:\\mathbb{R}^n \\to \\mathbb{R}^m, m \\geq 0, \\\\\n",
    "g(x) &\\leq 0, \\;\\; g:\\mathbb{R}^n \\to \\mathbb{R}^p, p \\geq 0. \\\\\n",
    "\\end{align*}"
   ]
  },
  {
   "cell_type": "markdown",
   "id": "e271f1c1",
   "metadata": {},
   "source": [
    "The first exercise consists in\n",
    "\n",
    "- writing the problem in the general form above,\n",
    "- show that $x^*=1$ verifies the KKT optimality conditions.\n",
    "\n",
    "It does not require any coding."
   ]
  },
  {
   "cell_type": "markdown",
   "id": "f66eed3d",
   "metadata": {},
   "source": [
    "We first write the optimization problem in the general form. As there is only one variable, $n=1$.\n",
    "As there is no equality constraint, $m=0$. As there are two inequality constraints, $p=2$.\n",
    "$$\n",
    "\\min_{x \\in \\mathbb{R}} x^2\n",
    "$$\n",
    "subject to\n",
    "\\begin{align*}\n",
    "1-x & \\leq 0, \\\\\n",
    "x -4 & \\leq 0.\n",
    "\\end{align*}"
   ]
  },
  {
   "cell_type": "markdown",
   "id": "d377f719",
   "metadata": {},
   "source": [
    "We associate a Lagrange multiplier with each constraint, and write the Lagrangian:\n",
    "$$\n",
    "L(x, \\mu_1, \\mu_2) = x^2 + \\mu_1(1-x) + \\mu_2(x-4).\n",
    "$$\n",
    "We first verify the conditions  $g_i(x^*) \\mu^*_i = 0$, where $x^*=1$. For $i=1$, we have\n",
    "$$\n",
    "(1-x^*) \\mu^*_1 = (1-1) \\mu^*_1 = 0,\n",
    "$$\n",
    "irrespectively of the value of $\\mu^*_1$. Indeed, the first constraint is *active* at $x^*$. For $i=2$, we have\n",
    "$$\n",
    "(x^*-4) \\mu^*_2 = -3 \\mu^*_2 = 0,\n",
    "$$\n",
    "that establishes that $\\mu^*_2=0$. Indeed, the second constraint is *not active* at $x^*$.\n",
    "The derivative of the Lagrangian must be equal to zero.\n",
    "$$\n",
    "\\frac{\\partial L}{\\partial x}(x^*, \\mu^*_1, \\mu^*_2) = 2 x^* - \\mu_1^* + \\mu_2^* = 2 - \\mu_1^* = 0.\n",
    "$$\n",
    "Therefore, $\\mu_1^* = 2$, which is non negative, so that the first-order necessary conditions are verified."
   ]
  },
  {
   "cell_type": "markdown",
   "id": "25866bc8",
   "metadata": {},
   "source": [
    "For the second exercise, consider the problem written in the general form above, and the Lagrange multipliers\n",
    "involved in the KKT conditions.\n",
    "Write functions that calculate the value of the objective function, the constraints and the Lagrangian.\n",
    "Write also a function that verifies if a point is feasible, that is, if it verifies the constraints."
   ]
  },
  {
   "cell_type": "markdown",
   "id": "f869f9f2",
   "metadata": {},
   "source": [
    "Now, test those functions on the following values, and verify that it does not contradict the optimality of $x^*=1$.\n",
    "- $x = 0$,\n",
    "- $x = 1$,\n",
    "- $x = 3$."
   ]
  },
  {
   "cell_type": "markdown",
   "id": "db59c4dd",
   "metadata": {},
   "source": [
    "Objective function"
   ]
  },
  {
   "cell_type": "code",
   "execution_count": null,
   "id": "bc619dcf",
   "metadata": {},
   "outputs": [],
   "source": [
    "def objective(x: float) -> float:\n",
    "    \"\"\"Objective function\"\"\"\n",
    "    return x * x\n",
    "\n"
   ]
  },
  {
   "cell_type": "markdown",
   "id": "3c59e7ca",
   "metadata": {},
   "source": [
    "First constraint"
   ]
  },
  {
   "cell_type": "code",
   "execution_count": null,
   "id": "6962a09d",
   "metadata": {},
   "outputs": [],
   "source": [
    "def first_constraint(x: float) -> float:\n",
    "    \"\"\"First constraint\"\"\"\n",
    "    return 1 - x\n",
    "\n"
   ]
  },
  {
   "cell_type": "markdown",
   "id": "cdd3cfb1",
   "metadata": {},
   "source": [
    "Second constraint"
   ]
  },
  {
   "cell_type": "code",
   "execution_count": null,
   "id": "ccaa42f1",
   "metadata": {},
   "outputs": [],
   "source": [
    "def second_constraint(x: float) -> float:\n",
    "    \"\"\"Second constraint\"\"\"\n",
    "    return x - 4\n",
    "\n"
   ]
  },
  {
   "cell_type": "markdown",
   "id": "25fa3f9e",
   "metadata": {},
   "source": [
    "Feasibility check"
   ]
  },
  {
   "cell_type": "code",
   "execution_count": null,
   "id": "883b96c4",
   "metadata": {},
   "outputs": [],
   "source": [
    "def is_feasible(x: float) -> float:\n",
    "    \"\"\"Check feasibility\"\"\"\n",
    "    return first_constraint(x) <= 0 and second_constraint(x) <= 0\n",
    "\n"
   ]
  },
  {
   "cell_type": "markdown",
   "id": "921080d9",
   "metadata": {},
   "source": [
    "Lagrangian"
   ]
  },
  {
   "cell_type": "code",
   "execution_count": null,
   "id": "2f251ea3",
   "metadata": {},
   "outputs": [],
   "source": [
    "def lagrangian(x: float, mu_1: float, mu_2: float) -> float:\n",
    "    \"\"\"Calculates the lagrangian of the problem\"\"\"\n",
    "    return (\n",
    "        objective(x) + mu_1 * first_constraint(x) + mu_2 * second_constraint(x)\n",
    "    )\n",
    "\n"
   ]
  },
  {
   "cell_type": "code",
   "execution_count": null,
   "id": "53d5ab1f",
   "metadata": {},
   "outputs": [],
   "source": [
    "mu_1 = 2\n",
    "mu_2 = 0\n"
   ]
  },
  {
   "cell_type": "code",
   "execution_count": null,
   "id": "0e0f470a",
   "metadata": {},
   "outputs": [],
   "source": [
    "x = 0\n"
   ]
  },
  {
   "cell_type": "markdown",
   "id": "26391e9b",
   "metadata": {},
   "source": [
    "Expected answer: f(0) = 0"
   ]
  },
  {
   "cell_type": "code",
   "execution_count": null,
   "id": "8fad83fc",
   "metadata": {},
   "outputs": [],
   "source": [
    "print(f'f({x}) = {objective(x)}')\n"
   ]
  },
  {
   "cell_type": "markdown",
   "id": "3174aa00",
   "metadata": {},
   "source": [
    "Expected answer: g1(0) = 1"
   ]
  },
  {
   "cell_type": "code",
   "execution_count": null,
   "id": "be8bca08",
   "metadata": {},
   "outputs": [],
   "source": [
    "print(f'g1({x}) = {first_constraint(x)}')\n"
   ]
  },
  {
   "cell_type": "markdown",
   "id": "5b316420",
   "metadata": {},
   "source": [
    "Expected answer: g2(0) = -4"
   ]
  },
  {
   "cell_type": "code",
   "execution_count": null,
   "id": "81e1d9f5",
   "metadata": {},
   "outputs": [],
   "source": [
    "print(f'g2({x}) = {second_constraint(x)}')\n"
   ]
  },
  {
   "cell_type": "markdown",
   "id": "e04d2a70",
   "metadata": {},
   "source": [
    "Expected answer: Is 0 feasible? False"
   ]
  },
  {
   "cell_type": "code",
   "execution_count": null,
   "id": "0b613e05",
   "metadata": {},
   "outputs": [],
   "source": [
    "print(f'Is {x} feasible? {is_feasible(x)}')\n"
   ]
  },
  {
   "cell_type": "markdown",
   "id": "29e9b3dd",
   "metadata": {},
   "source": [
    "Expected answer: L(0, 2, 0) = 2"
   ]
  },
  {
   "cell_type": "code",
   "execution_count": null,
   "id": "bb0996ad",
   "metadata": {},
   "outputs": [],
   "source": [
    "print(f'L({x}, {mu_1}, {mu_2}) = {lagrangian(x, mu_1, mu_2)}')\n"
   ]
  },
  {
   "cell_type": "code",
   "execution_count": null,
   "id": "b2e0153b",
   "metadata": {},
   "outputs": [],
   "source": [
    "x = 1\n"
   ]
  },
  {
   "cell_type": "markdown",
   "id": "cd4b8340",
   "metadata": {},
   "source": [
    "Expected answer: f(1) = 1"
   ]
  },
  {
   "cell_type": "code",
   "execution_count": null,
   "id": "a7411355",
   "metadata": {},
   "outputs": [],
   "source": [
    "print(f'f({x}) = {objective(x)}')\n"
   ]
  },
  {
   "cell_type": "markdown",
   "id": "ca805234",
   "metadata": {},
   "source": [
    "Expected answer: c1(1) = 0"
   ]
  },
  {
   "cell_type": "code",
   "execution_count": null,
   "id": "08d754a6",
   "metadata": {},
   "outputs": [],
   "source": [
    "print(f'c1({x}) = {first_constraint(x)}')\n"
   ]
  },
  {
   "cell_type": "markdown",
   "id": "d317e895",
   "metadata": {},
   "source": [
    "Expected answer: c2(1) = -3"
   ]
  },
  {
   "cell_type": "code",
   "execution_count": null,
   "id": "18197f3d",
   "metadata": {},
   "outputs": [],
   "source": [
    "print(f'c2({x}) = {second_constraint(x)}')\n"
   ]
  },
  {
   "cell_type": "markdown",
   "id": "d0c924f4",
   "metadata": {},
   "source": [
    "Expected answer: Is 1 feasible? True"
   ]
  },
  {
   "cell_type": "code",
   "execution_count": null,
   "id": "fe2a11a4",
   "metadata": {},
   "outputs": [],
   "source": [
    "print(f'Is {x} feasible? {is_feasible(x)}')\n"
   ]
  },
  {
   "cell_type": "markdown",
   "id": "dbeb6e0c",
   "metadata": {},
   "source": [
    "Expected answer: L(1, 2, 0) = 1"
   ]
  },
  {
   "cell_type": "code",
   "execution_count": null,
   "id": "74098fe9",
   "metadata": {},
   "outputs": [],
   "source": [
    "print(f'L({x}, {mu_1}, {mu_2}) = {lagrangian(x, mu_1, mu_2)}')\n"
   ]
  },
  {
   "cell_type": "markdown",
   "id": "c4099eb0",
   "metadata": {},
   "source": [
    "Compared to $x=0$, the value $x=1$ has a larger value for the objective function. But, as $x=0$ is\n",
    "not feasible, this does not contradict the optimality of $x=1$. When we compare the values of the\n",
    "Lagrangian, it is lower at $x=1$ than at $x=0$, consistently with the KKT theorem."
   ]
  },
  {
   "cell_type": "code",
   "execution_count": null,
   "id": "8733088c",
   "metadata": {},
   "outputs": [],
   "source": [
    "x = 3\n"
   ]
  },
  {
   "cell_type": "markdown",
   "id": "fb344724",
   "metadata": {},
   "source": [
    "Expected answer: f(3) = 9"
   ]
  },
  {
   "cell_type": "code",
   "execution_count": null,
   "id": "4a762308",
   "metadata": {},
   "outputs": [],
   "source": [
    "print(f'f({x}) = {objective(x)}')\n"
   ]
  },
  {
   "cell_type": "markdown",
   "id": "f46bacd4",
   "metadata": {},
   "source": [
    "Expected answer: c1(3) = -2"
   ]
  },
  {
   "cell_type": "code",
   "execution_count": null,
   "id": "32fa1dbe",
   "metadata": {},
   "outputs": [],
   "source": [
    "print(f'c1({x}) = {first_constraint(x)}')\n"
   ]
  },
  {
   "cell_type": "markdown",
   "id": "d8f27d3d",
   "metadata": {},
   "source": [
    "Expected answer: c2(3) = -1"
   ]
  },
  {
   "cell_type": "code",
   "execution_count": null,
   "id": "639dccb6",
   "metadata": {},
   "outputs": [],
   "source": [
    "print(f'c2({x}) = {second_constraint(x)}')\n"
   ]
  },
  {
   "cell_type": "markdown",
   "id": "a460aa09",
   "metadata": {},
   "source": [
    "Expected answer: Is 3 feasible? True"
   ]
  },
  {
   "cell_type": "code",
   "execution_count": null,
   "id": "a154a127",
   "metadata": {},
   "outputs": [],
   "source": [
    "print(f'Is {x} feasible? {is_feasible(x)}')\n"
   ]
  },
  {
   "cell_type": "markdown",
   "id": "d01bac5c",
   "metadata": {},
   "source": [
    "Expected answer: L(3, 2, 0) = 5"
   ]
  },
  {
   "cell_type": "code",
   "execution_count": null,
   "id": "0e30463b",
   "metadata": {},
   "outputs": [],
   "source": [
    "print(f'L({x}, {mu_1}, {mu_2}) = {lagrangian(x, mu_1, mu_2)}')\n"
   ]
  },
  {
   "cell_type": "markdown",
   "id": "e232015b",
   "metadata": {},
   "source": [
    "Compared to $x=1$, $x=3$ (which is feasible) has a larger value both for the objective function and\n",
    "the Lagrangian."
   ]
  }
 ],
 "metadata": {},
 "nbformat": 4,
 "nbformat_minor": 5
}
