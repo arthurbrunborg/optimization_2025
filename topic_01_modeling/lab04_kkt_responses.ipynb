{
 "cells": [
  {
   "cell_type": "markdown",
   "id": "c6b1a4a7",
   "metadata": {},
   "source": [
    "# Karush-Kuhn-Tucker\n",
    "\n",
    "## Introduction to optimization and operations research.\n",
    "\n",
    "Michel Bierlaire\n"
   ]
  },
  {
   "cell_type": "markdown",
   "id": "bd400d87",
   "metadata": {},
   "source": [
    "In this lab, you will practice applying the **Karush-Kuhn-Tucker (KKT) conditions**, a cornerstone of constrained optimization.\n",
    "The goal is twofold: first, to understand how to reformulate a simple optimization problem into the standard form\n",
    "and check whether a candidate solution satisfies the KKT conditions; second, to implement basic Python functions\n",
    "that compute the objective, constraints, and Lagrangian, and use them to test feasibility and consistency.\n",
    "These exercises are designed to bridge the gap between theory and practice: you will start with a paper-and-pencil\n",
    "verification before moving on to a small coding task that reinforces the concepts."
   ]
  },
  {
   "cell_type": "markdown",
   "id": "27a47ac6",
   "metadata": {},
   "source": [
    "Consider the constrained optimization problem:\n",
    "$$\n",
    "\\min_{x\\in \\mathbb{R}} x^2,\n",
    "$$\n",
    "subject to\n",
    "$$\n",
    "1 \\leq x \\leq 4.\n",
    "$$"
   ]
  },
  {
   "cell_type": "markdown",
   "id": "f47c1939",
   "metadata": {},
   "source": [
    "We want to show that $x^*=1$ verifies the first-order Karush-Kuhn-Tucker (KKT) optimality conditions.\n",
    "\n",
    "**Hint**: write first the problem in the general form used in the lecture:\n",
    "$$\n",
    "\\min_{x \\in \\mathbb{R}^n} f(x)\n",
    "$$\n",
    "subject to\n",
    "\\begin{align*}\n",
    "h(x) &= 0, \\;\\;  h:\\mathbb{R}^n \\to \\mathbb{R}^m, m \\geq 0, \\\\\n",
    "g(x) &\\leq 0, \\;\\; g:\\mathbb{R}^n \\to \\mathbb{R}^p, p \\geq 0. \\\\\n",
    "\\end{align*}"
   ]
  },
  {
   "cell_type": "markdown",
   "id": "8dcbfda7",
   "metadata": {},
   "source": [
    "The first exercise consists in\n",
    "\n",
    "- writing the problem in the general form above,\n",
    "- show that $x^*=1$ verifies the KKT optimality conditions.\n",
    "\n",
    "It does not require any coding."
   ]
  },
  {
   "cell_type": "markdown",
   "id": "549ed6aa",
   "metadata": {},
   "source": [
    "We first write the optimization problem in the general form. As there is only one variable, $n=1$.\n",
    "As there is no equality constraint, $m=0$. As there are two inequality constraints, $p=2$.\n",
    "$$\n",
    "\\min_{x \\in \\mathbb{R}} x^2\n",
    "$$\n",
    "subject to\n",
    "\\begin{align*}\n",
    "1-x & \\leq 0, \\\\\n",
    "x -4 & \\leq 0.\n",
    "\\end{align*}"
   ]
  },
  {
   "cell_type": "markdown",
   "id": "8070bef0",
   "metadata": {},
   "source": [
    "We associate a Lagrange multiplier with each constraint, and write the Lagrangian:\n",
    "$$\n",
    "L(x, \\mu_1, \\mu_2) = x^2 + \\mu_1(1-x) + \\mu_2(x-4).\n",
    "$$\n",
    "We first verify the conditions  $g_i(x^*) \\mu^*_i = 0$, where $x^*=1$. For $i=1$, we have\n",
    "$$\n",
    "(1-x^*) \\mu^*_1 = (1-1) \\mu^*_1 = 0,\n",
    "$$\n",
    "irrespectively of the value of $\\mu^*_1$. Indeed, the first constraint is *active* at $x^*$. For $i=2$, we have\n",
    "$$\n",
    "(x^*-4) \\mu^*_2 = -3 \\mu^*_2 = 0,\n",
    "$$\n",
    "that establishes that $\\mu^*_2=0$. Indeed, the second constraint is *not active* at $x^*$.\n",
    "The derivative of the Lagrangian must be equal to zero.\n",
    "$$\n",
    "\\frac{\\partial L}{\\partial x}(x^*, \\mu^*_1, \\mu^*_2) = 2 x^* - \\mu_1^* + \\mu_2^* = 2 - \\mu_1^* = 0.\n",
    "$$\n",
    "Therefore, $\\mu_1^* = 2$, which is non negative, so that the first-order necessary conditions are verified."
   ]
  },
  {
   "cell_type": "markdown",
   "id": "890cd43c",
   "metadata": {},
   "source": [
    "For the second exercise, consider the problem written in the general form above, and the Lagrange multipliers\n",
    "involved in the KKT conditions.\n",
    "Write functions that calculate the value of the objective function, the constraints and the Lagrangian.\n",
    "Write also a function that verifies if a point is feasible, that is, if it verifies the constraints."
   ]
  },
  {
   "cell_type": "markdown",
   "id": "d0d9b88d",
   "metadata": {},
   "source": [
    "Now, test those functions on the following values, and verify that it does not contradict the optimality of $x^*=1$.\n",
    "- $x = 0$,\n",
    "- $x = 1$,\n",
    "- $x = 3$."
   ]
  },
  {
   "cell_type": "markdown",
   "id": "6ece3358",
   "metadata": {},
   "source": [
    "Objective function"
   ]
  },
  {
   "cell_type": "code",
   "execution_count": null,
   "id": "3e90cdfb",
   "metadata": {},
   "outputs": [],
   "source": [
    "def objective(x: float) -> float:\n",
    "    \"\"\"Objective function\"\"\"\n",
    "    return x * x\n",
    "\n"
   ]
  },
  {
   "cell_type": "markdown",
   "id": "d2b622c0",
   "metadata": {},
   "source": [
    "First constraint"
   ]
  },
  {
   "cell_type": "code",
   "execution_count": null,
   "id": "abd299e8",
   "metadata": {},
   "outputs": [],
   "source": [
    "def first_constraint(x: float) -> float:\n",
    "    \"\"\"First constraint\"\"\"\n",
    "    return 1 - x\n",
    "\n"
   ]
  },
  {
   "cell_type": "markdown",
   "id": "206a6bac",
   "metadata": {},
   "source": [
    "Second constraint"
   ]
  },
  {
   "cell_type": "code",
   "execution_count": null,
   "id": "829119f4",
   "metadata": {},
   "outputs": [],
   "source": [
    "def second_constraint(x: float) -> float:\n",
    "    \"\"\"Second constraint\"\"\"\n",
    "    return x - 4\n",
    "\n"
   ]
  },
  {
   "cell_type": "markdown",
   "id": "1955426c",
   "metadata": {},
   "source": [
    "Feasibility check"
   ]
  },
  {
   "cell_type": "code",
   "execution_count": null,
   "id": "e4b6de7f",
   "metadata": {},
   "outputs": [],
   "source": [
    "def is_feasible(x: float) -> float:\n",
    "    \"\"\"Check feasibility\"\"\"\n",
    "    return first_constraint(x) <= 0 and second_constraint(x) <= 0\n",
    "\n"
   ]
  },
  {
   "cell_type": "markdown",
   "id": "e84bb9e2",
   "metadata": {},
   "source": [
    "Lagrangian"
   ]
  },
  {
   "cell_type": "code",
   "execution_count": null,
   "id": "991f8436",
   "metadata": {},
   "outputs": [],
   "source": [
    "def lagrangian(x: float, mu_1: float, mu_2: float) -> float:\n",
    "    \"\"\"Calculates the lagrangian of the problem\"\"\"\n",
    "    return (\n",
    "        objective(x) + mu_1 * first_constraint(x) + mu_2 * second_constraint(x)\n",
    "    )\n",
    "\n"
   ]
  },
  {
   "cell_type": "code",
   "execution_count": null,
   "id": "035684d8",
   "metadata": {},
   "outputs": [],
   "source": [
    "mu_1 = 2\n",
    "mu_2 = 0\n"
   ]
  },
  {
   "cell_type": "code",
   "execution_count": null,
   "id": "7a7096c4",
   "metadata": {},
   "outputs": [],
   "source": [
    "x = 0\n"
   ]
  },
  {
   "cell_type": "markdown",
   "id": "56de1262",
   "metadata": {},
   "source": [
    "Expected answer: f(0) = 0"
   ]
  },
  {
   "cell_type": "code",
   "execution_count": null,
   "id": "e04d48f9",
   "metadata": {},
   "outputs": [],
   "source": [
    "print(f'f({x}) = {objective(x)}')\n"
   ]
  },
  {
   "cell_type": "markdown",
   "id": "494b5ba7",
   "metadata": {},
   "source": [
    "Expected answer: g1(0) = 1"
   ]
  },
  {
   "cell_type": "code",
   "execution_count": null,
   "id": "176edb9b",
   "metadata": {},
   "outputs": [],
   "source": [
    "print(f'g1({x}) = {first_constraint(x)}')\n"
   ]
  },
  {
   "cell_type": "markdown",
   "id": "17034b88",
   "metadata": {},
   "source": [
    "Expected answer: g2(0) = -4"
   ]
  },
  {
   "cell_type": "code",
   "execution_count": null,
   "id": "ba461225",
   "metadata": {},
   "outputs": [],
   "source": [
    "print(f'g2({x}) = {second_constraint(x)}')\n"
   ]
  },
  {
   "cell_type": "markdown",
   "id": "3a1e46fa",
   "metadata": {},
   "source": [
    "Expected answer: Is 0 feasible? False"
   ]
  },
  {
   "cell_type": "code",
   "execution_count": null,
   "id": "2a178091",
   "metadata": {},
   "outputs": [],
   "source": [
    "print(f'Is {x} feasible? {is_feasible(x)}')\n"
   ]
  },
  {
   "cell_type": "markdown",
   "id": "9d70c231",
   "metadata": {},
   "source": [
    "Expected answer: L(0, 2, 0) = 2"
   ]
  },
  {
   "cell_type": "code",
   "execution_count": null,
   "id": "3f5bc78c",
   "metadata": {},
   "outputs": [],
   "source": [
    "print(f'L({x}, {mu_1}, {mu_2}) = {lagrangian(x, mu_1, mu_2)}')\n"
   ]
  },
  {
   "cell_type": "code",
   "execution_count": null,
   "id": "162e5ce4",
   "metadata": {},
   "outputs": [],
   "source": [
    "x = 1\n"
   ]
  },
  {
   "cell_type": "markdown",
   "id": "28f97d8d",
   "metadata": {},
   "source": [
    "Expected answer: f(1) = 1"
   ]
  },
  {
   "cell_type": "code",
   "execution_count": null,
   "id": "160e34ca",
   "metadata": {},
   "outputs": [],
   "source": [
    "print(f'f({x}) = {objective(x)}')\n"
   ]
  },
  {
   "cell_type": "markdown",
   "id": "8132520f",
   "metadata": {},
   "source": [
    "Expected answer: c1(1) = 0"
   ]
  },
  {
   "cell_type": "code",
   "execution_count": null,
   "id": "a1f3646b",
   "metadata": {},
   "outputs": [],
   "source": [
    "print(f'c1({x}) = {first_constraint(x)}')\n"
   ]
  },
  {
   "cell_type": "markdown",
   "id": "e30d26d1",
   "metadata": {},
   "source": [
    "Expected answer: c2(1) = -3"
   ]
  },
  {
   "cell_type": "code",
   "execution_count": null,
   "id": "85d64c4c",
   "metadata": {},
   "outputs": [],
   "source": [
    "print(f'c2({x}) = {second_constraint(x)}')\n"
   ]
  },
  {
   "cell_type": "markdown",
   "id": "b72fcba9",
   "metadata": {},
   "source": [
    "Expected answer: Is 1 feasible? True"
   ]
  },
  {
   "cell_type": "code",
   "execution_count": null,
   "id": "057dd553",
   "metadata": {},
   "outputs": [],
   "source": [
    "print(f'Is {x} feasible? {is_feasible(x)}')\n"
   ]
  },
  {
   "cell_type": "markdown",
   "id": "67240548",
   "metadata": {},
   "source": [
    "Expected answer: L(1, 2, 0) = 1"
   ]
  },
  {
   "cell_type": "code",
   "execution_count": null,
   "id": "238a9cab",
   "metadata": {},
   "outputs": [],
   "source": [
    "print(f'L({x}, {mu_1}, {mu_2}) = {lagrangian(x, mu_1, mu_2)}')\n"
   ]
  },
  {
   "cell_type": "markdown",
   "id": "fe8f68ce",
   "metadata": {},
   "source": [
    "Compared to $x=0$, the value $x=1$ has a larger value for the objective function. But, as $x=0$ is\n",
    "not feasible, this does not contradict the optimality of $x=1$. When we compare the values of the\n",
    "Lagrangian, it is lower at $x=1$ than at $x=0$, consistently with the KKT theorem."
   ]
  },
  {
   "cell_type": "code",
   "execution_count": null,
   "id": "528a41c3",
   "metadata": {},
   "outputs": [],
   "source": [
    "x = 3\n"
   ]
  },
  {
   "cell_type": "markdown",
   "id": "7b3b1698",
   "metadata": {},
   "source": [
    "Expected answer: f(3) = 9"
   ]
  },
  {
   "cell_type": "code",
   "execution_count": null,
   "id": "f18f69e4",
   "metadata": {},
   "outputs": [],
   "source": [
    "print(f'f({x}) = {objective(x)}')\n"
   ]
  },
  {
   "cell_type": "markdown",
   "id": "c107bc5c",
   "metadata": {},
   "source": [
    "Expected answer: c1(3) = -2"
   ]
  },
  {
   "cell_type": "code",
   "execution_count": null,
   "id": "0ef9f6dc",
   "metadata": {},
   "outputs": [],
   "source": [
    "print(f'c1({x}) = {first_constraint(x)}')\n"
   ]
  },
  {
   "cell_type": "markdown",
   "id": "2c499c2d",
   "metadata": {},
   "source": [
    "Expected answer: c2(3) = -1"
   ]
  },
  {
   "cell_type": "code",
   "execution_count": null,
   "id": "6462f16f",
   "metadata": {},
   "outputs": [],
   "source": [
    "print(f'c2({x}) = {second_constraint(x)}')\n"
   ]
  },
  {
   "cell_type": "markdown",
   "id": "6e7c79e7",
   "metadata": {},
   "source": [
    "Expected answer: Is 3 feasible? True"
   ]
  },
  {
   "cell_type": "code",
   "execution_count": null,
   "id": "5f49001f",
   "metadata": {},
   "outputs": [],
   "source": [
    "print(f'Is {x} feasible? {is_feasible(x)}')\n"
   ]
  },
  {
   "cell_type": "markdown",
   "id": "24d03e3f",
   "metadata": {},
   "source": [
    "Expected answer: L(3, 2, 0) = 5"
   ]
  },
  {
   "cell_type": "code",
   "execution_count": null,
   "id": "67017303",
   "metadata": {},
   "outputs": [],
   "source": [
    "print(f'L({x}, {mu_1}, {mu_2}) = {lagrangian(x, mu_1, mu_2)}')\n"
   ]
  },
  {
   "cell_type": "markdown",
   "id": "3434c3f6",
   "metadata": {},
   "source": [
    "Compared to $x=1$, $x=3$ (which is feasible) has a larger value both for the objective function and\n",
    "the Lagrangian."
   ]
  }
 ],
 "metadata": {},
 "nbformat": 4,
 "nbformat_minor": 5
}
