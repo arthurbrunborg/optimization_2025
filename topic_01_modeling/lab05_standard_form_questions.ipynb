{
 "cells": [
  {
   "cell_type": "markdown",
   "id": "aeac74e4",
   "metadata": {},
   "source": [
    "# Standard form\n",
    "\n",
    "## Introduction to optimization and operations research.\n",
    "\n",
    "Michel Bierlaire\n"
   ]
  },
  {
   "cell_type": "code",
   "execution_count": null,
   "id": "a048a355",
   "metadata": {},
   "outputs": [],
   "source": [
    "\n",
    "import numpy as np\n",
    "\n"
   ]
  },
  {
   "cell_type": "markdown",
   "id": "b8366667",
   "metadata": {},
   "source": [
    "In this lab, you will practice rewriting a linear optimization problem into the\n",
    "**standard form** required by many algorithms (e.g., the simplex method) and solvers. You will convert a\n",
    "maximization objective into minimization, turn inequalities into equalities using slack variables,\n",
    "handle variable bounds by introducing appropriate substitutions, and express free or non‑positive variables\n",
    "with non‑negative components. Finally, you will assemble the data in matrix form \\(A\\), \\(b\\), and \\(c\\) and\n",
    "verify their dimensions. The goal is to make explicit every transformation step so you can check correctness\n",
    "and build intuition for why standard form is a convenient canonical representation."
   ]
  },
  {
   "cell_type": "markdown",
   "id": "6d7d16b0",
   "metadata": {},
   "source": [
    "In linear optimization, a problem in standard form is"
   ]
  },
  {
   "cell_type": "markdown",
   "id": "4f6f2d5e",
   "metadata": {},
   "source": [
    "- a minimization problem,\n",
    "- where each constraint $j$ is an equality constraint of the form\n",
    "$$\n",
    "\\sum_i a_{ij} x_i =  b_j,\n",
    "$$\n",
    "- all variables are non negative."
   ]
  },
  {
   "cell_type": "markdown",
   "id": "8a63eb2d",
   "metadata": {},
   "source": [
    "It is written as:\n",
    "$$\n",
    "\\min_{x \\in \\mathbb{R}^n} c^T x\n",
    "$$\n",
    "subject to\n",
    "\\begin{align*}\n",
    "Ax &= b, \\\\\n",
    "x &\\geq 0,\n",
    "\\end{align*}\n",
    "where $A \\in \\mathbb{R}^{m \\times n}$, $b \\in \\mathbb{R}^m$, and $c \\in \\mathbb{R}^n$. Equivalently,\n",
    "$$\n",
    "\\min_{x \\in \\mathbb{R}^n} \\sum_{i=1}^n c_i x_i\n",
    "$$\n",
    "subject to\n",
    "\\begin{align*}\n",
    "\\sum_{i=1}^n a_{ij} x_i &= b_j, & j=1, \\ldots, m, \\\\\n",
    "x_i &\\geq 0, & i = 1, \\ldots, n.\n",
    "\\end{align*}\n",
    "\n",
    "\n",
    "Write the following problem in standard form :\n",
    "$$\n",
    "\\max_{x \\in \\mathbb{R}^4} -2x_1 + 5x_2 - 7x_3 + 4x_4\n",
    "$$\n",
    "subject to\n",
    "\\begin{align*}\n",
    "2x_1 + 4x_2 - 6x_3 & \\geq 7,\\\\\n",
    "8x_1 - 5x_3 + 3x_4 & \\leq 8,\\\\\n",
    "-2x_2 - 5x_3 + 4x_4 & \\leq -6,\\\\\n",
    "1 \\leq x_1&\\leq 4,\\\\\n",
    "x_2 & \\geq -3,\\\\\n",
    "x_3 &\\in \\mathbb{R},\\\\\n",
    "x_4 &\\leq 0.\n",
    "\\end{align*}"
   ]
  },
  {
   "cell_type": "markdown",
   "id": "a68789e3",
   "metadata": {},
   "source": [
    "Store in a `numpy array` the data of the problem, that is, the matrix $A$, and the vectors $b$ and $c$.\n",
    "What are the values of $m$ and $n$? Verify the shapes of the arrays."
   ]
  },
  {
   "cell_type": "markdown",
   "id": "dd995259",
   "metadata": {},
   "source": [
    "The dimensions of the problem in standard form are:"
   ]
  },
  {
   "cell_type": "markdown",
   "id": "0274254a",
   "metadata": {},
   "source": [
    "Number of variables:"
   ]
  },
  {
   "cell_type": "code",
   "execution_count": null,
   "id": "b75fe79a",
   "metadata": {},
   "outputs": [],
   "source": [
    "n = ...\n"
   ]
  },
  {
   "cell_type": "markdown",
   "id": "80317c25",
   "metadata": {},
   "source": [
    "Number of constraints:"
   ]
  },
  {
   "cell_type": "code",
   "execution_count": null,
   "id": "d4309139",
   "metadata": {},
   "outputs": [],
   "source": [
    "m = ...\n",
    "\n"
   ]
  },
  {
   "cell_type": "markdown",
   "id": "7e774d63",
   "metadata": {},
   "source": [
    "Matrix $A$"
   ]
  },
  {
   "cell_type": "code",
   "execution_count": null,
   "id": "b3f18570",
   "metadata": {},
   "outputs": [],
   "source": [
    "\n",
    "\n",
    "\n",
    "\n",
    "\n",
    "\n",
    "\n",
    "\n",
    "\n",
    "\n",
    "\n",
    "A = ...\n",
    "\n",
    "\n",
    "\n",
    "\n",
    "\n",
    "\n",
    "\n"
   ]
  },
  {
   "cell_type": "markdown",
   "id": "f74ab68b",
   "metadata": {},
   "source": [
    "Dimensions of the matrix"
   ]
  },
  {
   "cell_type": "code",
   "execution_count": null,
   "id": "6c1e791a",
   "metadata": {},
   "outputs": [],
   "source": [
    "number_of_rows = A.shape[0]\n",
    "print(f'Number of rows: {number_of_rows}')\n",
    "number_of_columns = A.shape[1]\n",
    "print(f'Number of columns: {number_of_columns}')\n"
   ]
  },
  {
   "cell_type": "markdown",
   "id": "bfad1eb0",
   "metadata": {},
   "source": [
    "The number of rows should be m"
   ]
  },
  {
   "cell_type": "code",
   "execution_count": null,
   "id": "b204ed4b",
   "metadata": {},
   "outputs": [],
   "source": [
    "assert number_of_rows == m\n"
   ]
  },
  {
   "cell_type": "markdown",
   "id": "eae4dc6d",
   "metadata": {},
   "source": [
    "The number of columns should be n"
   ]
  },
  {
   "cell_type": "code",
   "execution_count": null,
   "id": "57c1d86e",
   "metadata": {},
   "outputs": [],
   "source": [
    "assert number_of_columns == n\n"
   ]
  },
  {
   "cell_type": "markdown",
   "id": "5376284d",
   "metadata": {},
   "source": [
    "Vector $c$."
   ]
  },
  {
   "cell_type": "code",
   "execution_count": null,
   "id": "baca3dea",
   "metadata": {},
   "outputs": [],
   "source": [
    "\n",
    "\n",
    "\n",
    "\n",
    "\n",
    "\n",
    "c = ...\n"
   ]
  },
  {
   "cell_type": "markdown",
   "id": "2080fa21",
   "metadata": {},
   "source": [
    "Verify the length of the array."
   ]
  },
  {
   "cell_type": "code",
   "execution_count": null,
   "id": "1030eaa4",
   "metadata": {},
   "outputs": [],
   "source": [
    "assert len(c) == n\n"
   ]
  },
  {
   "cell_type": "markdown",
   "id": "d0061e7f",
   "metadata": {},
   "source": [
    "Vector $b$"
   ]
  },
  {
   "cell_type": "code",
   "execution_count": null,
   "id": "b4066212",
   "metadata": {},
   "outputs": [],
   "source": [
    "\n",
    "\n",
    "b = ...\n"
   ]
  },
  {
   "cell_type": "markdown",
   "id": "2601c432",
   "metadata": {},
   "source": [
    "Verify the length of the array."
   ]
  },
  {
   "cell_type": "code",
   "execution_count": null,
   "id": "16537a8b",
   "metadata": {},
   "outputs": [],
   "source": [
    "assert len(b) == m"
   ]
  }
 ],
 "metadata": {},
 "nbformat": 4,
 "nbformat_minor": 5
}
