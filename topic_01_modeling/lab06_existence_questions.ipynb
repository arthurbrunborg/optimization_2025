{
 "cells": [
  {
   "cell_type": "markdown",
   "id": "c64ebba5",
   "metadata": {},
   "source": [
    "# Existence\n",
    "\n",
    "## Introduction to optimization and operations research.\n",
    "\n",
    "Michel Bierlaire\n"
   ]
  },
  {
   "cell_type": "markdown",
   "id": "364e3b5e",
   "metadata": {},
   "source": [
    "In this exercise, you will explore the existence of solutions in\n",
    "very simple optimization problems. The goal is not to perform\n",
    "calculations, but to carefully reason about when a problem\n",
    "actually has a solution. Sometimes the feasible set may be empty,\n",
    "sometimes the objective may go to infinity, and in other cases a\n",
    "well-defined optimum exists. Thinking about these cases will help\n",
    "you build intuition about the importance of feasibility, boundedness,\n",
    "and compactness in optimization."
   ]
  },
  {
   "cell_type": "markdown",
   "id": "a72ce349",
   "metadata": {},
   "source": [
    "Consider the function $f:\\mathbb{R} \\to \\mathbb{R}$ defined as\n",
    "$$\n",
    "f(x) = ax + b,\n",
    "$$\n",
    "where $a$, $b \\in \\mathbb{R}$ are parameters.\n",
    "\n",
    "For each of the following optimization problems, discuss the existence\n",
    "of an optimal solution as a function of the parameters $a$ and $b$."
   ]
  },
  {
   "cell_type": "markdown",
   "id": "ef0cb829",
   "metadata": {},
   "source": [
    "$$\n",
    "\\min_{x \\in \\mathbb{R}} ax + b.\n",
    "$$"
   ]
  },
  {
   "cell_type": "markdown",
   "id": "5757a6b9",
   "metadata": {},
   "source": [
    "$$\n",
    "\\min_{x \\in \\mathbb{R}} ax + b\n",
    "$$\n",
    "subject to\n",
    "$$\n",
    "x + 2 = 1.\n",
    "$$"
   ]
  },
  {
   "cell_type": "markdown",
   "id": "596c51dd",
   "metadata": {},
   "source": [
    "$$\n",
    "\\min_{x \\in \\mathbb{R}} ax + b\n",
    "$$\n",
    "subject to\n",
    "$$\n",
    "x \\leq 0.\n",
    "$$"
   ]
  },
  {
   "cell_type": "markdown",
   "id": "881ca74a",
   "metadata": {},
   "source": [
    "$$\n",
    "\\min_{x \\in \\mathbb{R}} ax + b\n",
    "$$\n",
    "subject to\n",
    "$$\n",
    "x^2 \\leq 1.\n",
    "$$"
   ]
  }
 ],
 "metadata": {},
 "nbformat": 4,
 "nbformat_minor": 5
}
