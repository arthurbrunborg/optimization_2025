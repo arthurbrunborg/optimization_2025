{
 "cells": [
  {
   "cell_type": "markdown",
   "id": "0a3bc91b",
   "metadata": {},
   "source": [
    "# Existence\n",
    "\n",
    "## Introduction to optimization and operations research.\n",
    "\n",
    "Michel Bierlaire\n"
   ]
  },
  {
   "cell_type": "markdown",
   "id": "c6e28ae0",
   "metadata": {},
   "source": [
    "In this exercise, you will explore the existence of solutions in\n",
    "very simple optimization problems. The goal is not to perform\n",
    "calculations, but to carefully reason about when a problem\n",
    "actually has a solution. Sometimes the feasible set may be empty,\n",
    "sometimes the objective may go to infinity, and in other cases a\n",
    "well-defined optimum exists. Thinking about these cases will help\n",
    "you build intuition about the importance of feasibility, boundedness,\n",
    "and compactness in optimization."
   ]
  },
  {
   "cell_type": "markdown",
   "id": "85a4a52f",
   "metadata": {},
   "source": [
    "Consider the function $f:\\mathbb{R} \\to \\mathbb{R}$ defined as\n",
    "$$\n",
    "f(x) = ax + b,\n",
    "$$\n",
    "where $a$, $b \\in \\mathbb{R}$ are parameters.\n",
    "\n",
    "For each of the following optimization problems, discuss the existence\n",
    "of an optimal solution as a function of the parameters $a$ and $b$."
   ]
  },
  {
   "cell_type": "markdown",
   "id": "7ba51388",
   "metadata": {},
   "source": [
    "$$\n",
    "\\min_{x \\in \\mathbb{R}} ax + b.\n",
    "$$"
   ]
  },
  {
   "cell_type": "markdown",
   "id": "d238771b",
   "metadata": {},
   "source": [
    "If $a\\neq 0$, the problem is not bounded from below, and the problem\n",
    "has no infimum, and no optimum.\n",
    "The problem is bounded from below  if $a=0$. In that case, the\n",
    "infimum is equal to $b$:\n",
    "$$\n",
    "\\text{If } a=0,\\; \\inf_{x\\in\\mathbb{R}} f(x) = b.\n",
    "$$\n",
    "For any $x\\in\\mathbb{R}$, we have $f(x)=b$. Therefore, any $x\\in\\mathbb{R}$ is a\n",
    "global optimum of the problem."
   ]
  },
  {
   "cell_type": "markdown",
   "id": "38d90810",
   "metadata": {},
   "source": [
    "$$\n",
    "\\min_{x \\in \\mathbb{R}} ax + b\n",
    "$$\n",
    "subject to\n",
    "$$\n",
    "x + 2 = 1.\n",
    "$$"
   ]
  },
  {
   "cell_type": "markdown",
   "id": "f448fc2c",
   "metadata": {},
   "source": [
    "The only feasible point is $x=-1$, for any value of $a$ and $b$. It is also the optimum."
   ]
  },
  {
   "cell_type": "markdown",
   "id": "a35a5404",
   "metadata": {},
   "source": [
    "$$\n",
    "\\min_{x \\in \\mathbb{R}} ax + b\n",
    "$$\n",
    "subject to\n",
    "$$\n",
    "x \\leq 0.\n",
    "$$"
   ]
  },
  {
   "cell_type": "markdown",
   "id": "e7e1cd64",
   "metadata": {},
   "source": [
    "- If $a > 0$, the problem is unbounded. Indeed, decreasing the value of\n",
    "$x$ also decreases the value of the objective function.\n",
    "- If $a = 0$, the function is constant, and any feasible $x$ is\n",
    "optimum (see the discussion of the previous case).\n",
    "- If $a < 0$, $b$ is the best lower bound, that is the infimum. As\n",
    "$f(0)=b$, $x=0$ is the optimum solution."
   ]
  },
  {
   "cell_type": "markdown",
   "id": "c7abc2f1",
   "metadata": {},
   "source": [
    "$$\n",
    "\\min_{x \\in \\mathbb{R}} ax + b\n",
    "$$\n",
    "subject to\n",
    "$$\n",
    "x^2 \\leq 1.\n",
    "$$"
   ]
  },
  {
   "cell_type": "markdown",
   "id": "dd1bf11c",
   "metadata": {},
   "source": [
    "The constraint $x^2 \\leq 1$ is equivalent to impose that $-1 \\leq x\n",
    "\\leq 1$. In this case the feasible set is compact, and Weierstrass\n",
    "theorem guarantees the existence of a minimum."
   ]
  },
  {
   "cell_type": "markdown",
   "id": "8ee7c13e",
   "metadata": {},
   "source": [
    "- If $a=0$,  the function is constant, and any feasible $x$ is\n",
    "optimum (see the discussion above).\n",
    "- If $a > 0$, the infimum is $b-a$, and the optimum solution is $x=-1$.\n",
    "- If $a < 0$, the infimum is $b+a$, and the optimum solution is $x=1$."
   ]
  }
 ],
 "metadata": {},
 "nbformat": 4,
 "nbformat_minor": 5
}
