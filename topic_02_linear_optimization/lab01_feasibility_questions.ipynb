{
 "cells": [
  {
   "cell_type": "markdown",
   "id": "260cccd9",
   "metadata": {},
   "source": [
    "# Feasibility\n",
    "\n",
    "## Introduction to optimization and operations research\n",
    "\n",
    "Michel Bierlaire\n"
   ]
  },
  {
   "cell_type": "code",
   "execution_count": null,
   "id": "09cac7ef",
   "metadata": {},
   "outputs": [],
   "source": [
    "\n",
    "import numpy as np\n",
    "from teaching_optimization.linear_constraints import (\n",
    "    AllConstraints,\n",
    "    draw_polyhedron_canonical_form,\n",
    "    LabeledPoint,\n",
    ")\n"
   ]
  },
  {
   "cell_type": "markdown",
   "id": "12b539fd",
   "metadata": {},
   "source": [
    "In this  exercise, you will learn how to represent a simple feasible region\n",
    "using inequalities, how to express it in matrix form, and how to check whether\n",
    "a given point satisfies these constraints. These are fundamental skills in\n",
    "optimization, as many algorithms start from verifying feasibility before\n",
    "attempting to optimize an objective. By practicing with simple 2D examples, you\n",
    "build intuition that will help you with more complex problems later.\n",
    "\n",
    "In $\\mathbb{R}^2$, we are interested in points in the non-negative orthant such that the sum of their\n",
    "coordinates is lesser or equal to 1. They form a polyhedron\n",
    "\n",
    "$$\\{x \\in \\mathbb{R}^2 | Ax \\leq b\\}.$$\n"
   ]
  },
  {
   "cell_type": "markdown",
   "id": "ec9036c1",
   "metadata": {},
   "source": [
    "# Question 1.\n",
    "What are the matrix $A$ and the vector $b$ for this case?\n",
    "\n",
    "\n",
    "\n",
    "\n",
    "\n",
    "\n",
    "\n",
    "\n",
    "\n",
    "\n",
    "\n",
    "\n",
    "\n",
    "\n",
    "\n",
    "\n",
    "\n",
    "\n",
    "\n",
    "\n",
    "\n"
   ]
  },
  {
   "cell_type": "code",
   "execution_count": null,
   "id": "5537cbc5",
   "metadata": {},
   "outputs": [],
   "source": [
    "\n",
    "\n",
    "A = np.array(...)\n",
    "b = np.array(...)\n"
   ]
  },
  {
   "cell_type": "markdown",
   "id": "8db23278",
   "metadata": {},
   "source": [
    "We create the polyhedron object."
   ]
  },
  {
   "cell_type": "code",
   "execution_count": null,
   "id": "4b1b3213",
   "metadata": {},
   "outputs": [],
   "source": [
    "polyhedron = AllConstraints.from_canonical_form(matrix=A, vector=b)\n",
    "print(polyhedron)\n"
   ]
  },
  {
   "cell_type": "markdown",
   "id": "090289fb",
   "metadata": {},
   "source": [
    "Plot the polyhedron"
   ]
  },
  {
   "cell_type": "code",
   "execution_count": null,
   "id": "99c19372",
   "metadata": {},
   "outputs": [],
   "source": [
    "draw_polyhedron_canonical_form(\n",
    "    matrix_a=A,\n",
    "    vector_b=b,\n",
    ")\n"
   ]
  },
  {
   "cell_type": "markdown",
   "id": "383456af",
   "metadata": {},
   "source": [
    "# Question 2.\n",
    "Write a Python function that establishes if a point is feasible or not.\n",
    "We recommend to consider the `numpy` function\n",
    "[`all`](https://numpy.org/doc/stable/reference/generated/numpy.all.html)"
   ]
  },
  {
   "cell_type": "code",
   "execution_count": null,
   "id": "ea5619d9",
   "metadata": {},
   "outputs": [],
   "source": [
    "\n",
    "\n",
    "def check_feasibility_for_x(\n",
    "    matrix_a: np.ndarray, vector_b: np.ndarray, vector_x: np.ndarray\n",
    ") -> bool:\n",
    "    \"\"\"Verifies if point belongs to the the_polyhedron defined by matrix_a and vector_b\n",
    "\n",
    "    :param matrix_a: matrix of the the_polyhedron.\n",
    "    :param vector_b: right hand side of the the_polyhedron.\n",
    "    :param vector_x: vector to check.\n",
    "    :return: True if feasible. False otherwise.\n",
    "    \"\"\"\n",
    "    n_variables = len(vector_x)\n",
    "    n_constraints = len(vector_b)\n",
    "    n_rows, n_columns = matrix_a.shape\n",
    "    if n_rows != n_constraints:\n",
    "        error_msg = (\n",
    "            f'Incompatible dimensions. {n_rows} rows for the matrix, '\n",
    "            f'{n_constraints} element for the right hand side'\n",
    "        )\n",
    "        raise ValueError(error_msg)\n",
    "    if n_columns != n_variables:\n",
    "        error_msg = (\n",
    "            f'Incompatible dimensions. {n_columns} columns for the matrix, '\n",
    "            f'{n_variables} rows for vector_x'\n",
    "        )\n",
    "        raise ValueError(error_msg)\n",
    "    return ...\n",
    "\n"
   ]
  },
  {
   "cell_type": "markdown",
   "id": "082f83ca",
   "metadata": {},
   "source": [
    "# Question 3.\n",
    "Test it on the following points:"
   ]
  },
  {
   "cell_type": "markdown",
   "id": "14e44b09",
   "metadata": {},
   "source": [
    "## Point 1\n",
    "$$\\left( \\begin{array}{r} 0 \\\\ 0 \\end{array} \\right).$$\n",
    "Expected output: True"
   ]
  },
  {
   "cell_type": "code",
   "execution_count": null,
   "id": "7a6e93c6",
   "metadata": {},
   "outputs": [],
   "source": [
    "\n",
    "x = np.array([0, 0])\n",
    "print(check_feasibility_for_x(matrix_a=A, vector_b=b, vector_x=x))\n",
    "\n"
   ]
  },
  {
   "cell_type": "markdown",
   "id": "a5680c4e",
   "metadata": {},
   "source": [
    "Plot the polyhedron"
   ]
  },
  {
   "cell_type": "code",
   "execution_count": null,
   "id": "f2f4398d",
   "metadata": {},
   "outputs": [],
   "source": [
    "draw_polyhedron_canonical_form(\n",
    "    matrix_a=A, vector_b=b, points=[LabeledPoint(coordinates=x)]\n",
    ")\n",
    "\n"
   ]
  },
  {
   "cell_type": "markdown",
   "id": "8e38e65b",
   "metadata": {},
   "source": [
    "## Point 2\n",
    "$$\\left( \\begin{array}{r} -1 \\\\ 0.5 \\end{array} \\right).$$\n",
    "Expected output: False"
   ]
  },
  {
   "cell_type": "code",
   "execution_count": null,
   "id": "3a5be696",
   "metadata": {},
   "outputs": [],
   "source": [
    "\n",
    "x = np.array([-1, 0.5])\n",
    "print(check_feasibility_for_x(matrix_a=A, vector_b=b, vector_x=x))\n"
   ]
  },
  {
   "cell_type": "markdown",
   "id": "b8955ddb",
   "metadata": {},
   "source": [
    "Plot the polyhedron"
   ]
  },
  {
   "cell_type": "code",
   "execution_count": null,
   "id": "63787409",
   "metadata": {},
   "outputs": [],
   "source": [
    "draw_polyhedron_canonical_form(\n",
    "    matrix_a=A, vector_b=b, points=[LabeledPoint(coordinates=x)]\n",
    ")\n"
   ]
  },
  {
   "cell_type": "markdown",
   "id": "f545fa82",
   "metadata": {},
   "source": [
    "## Point 3\n",
    "$$\\left( \\begin{array}{r} 0 \\\\ -0.5 \\end{array} \\right).$$\n",
    "Expected output: False"
   ]
  },
  {
   "cell_type": "code",
   "execution_count": null,
   "id": "6178023a",
   "metadata": {},
   "outputs": [],
   "source": [
    "\n",
    "x = np.array([0, -0.5])\n",
    "print(check_feasibility_for_x(matrix_a=A, vector_b=b, vector_x=x))\n"
   ]
  },
  {
   "cell_type": "markdown",
   "id": "3b30e8e6",
   "metadata": {},
   "source": [
    "Plot the polyhedron"
   ]
  },
  {
   "cell_type": "code",
   "execution_count": null,
   "id": "71d69f01",
   "metadata": {},
   "outputs": [],
   "source": [
    "draw_polyhedron_canonical_form(\n",
    "    matrix_a=A, vector_b=b, points=[LabeledPoint(coordinates=x)]\n",
    ")\n"
   ]
  },
  {
   "cell_type": "markdown",
   "id": "7d360751",
   "metadata": {},
   "source": [
    "## Point 4\n",
    "$$\\left( \\begin{array}{r} 0.6 \\\\ 0.5 \\end{array} \\right).$$\n",
    "Expected output: False"
   ]
  },
  {
   "cell_type": "code",
   "execution_count": null,
   "id": "6910bf91",
   "metadata": {},
   "outputs": [],
   "source": [
    "\n",
    "x = np.array([0.6, 0.5])\n",
    "print(check_feasibility_for_x(matrix_a=A, vector_b=b, vector_x=x))\n"
   ]
  },
  {
   "cell_type": "markdown",
   "id": "25052d18",
   "metadata": {},
   "source": [
    "Plot the polyhedron"
   ]
  },
  {
   "cell_type": "code",
   "execution_count": null,
   "id": "f23afe47",
   "metadata": {},
   "outputs": [],
   "source": [
    "draw_polyhedron_canonical_form(\n",
    "    matrix_a=A, vector_b=b, points=[LabeledPoint(coordinates=x)]\n",
    ")\n"
   ]
  },
  {
   "cell_type": "markdown",
   "id": "03901883",
   "metadata": {},
   "source": [
    "## Point 5\n",
    "$$\\left( \\begin{array}{r} 0.4 \\\\ 0.6 \\end{array} \\right).$$\n",
    "Expected output: True"
   ]
  },
  {
   "cell_type": "code",
   "execution_count": null,
   "id": "6d218eff",
   "metadata": {},
   "outputs": [],
   "source": [
    "x = np.array([0.4, 0.6])\n",
    "print(check_feasibility_for_x(matrix_a=A, vector_b=b, vector_x=x))\n"
   ]
  },
  {
   "cell_type": "markdown",
   "id": "2f79d549",
   "metadata": {},
   "source": [
    "Plot the polyhedron"
   ]
  },
  {
   "cell_type": "code",
   "execution_count": null,
   "id": "0def0967",
   "metadata": {},
   "outputs": [],
   "source": [
    "draw_polyhedron_canonical_form(\n",
    "    matrix_a=A, vector_b=b, points=[LabeledPoint(coordinates=x)]\n",
    ")"
   ]
  }
 ],
 "metadata": {},
 "nbformat": 4,
 "nbformat_minor": 5
}
