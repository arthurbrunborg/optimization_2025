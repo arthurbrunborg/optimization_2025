{
 "cells": [
  {
   "cell_type": "markdown",
   "id": "c94d43fc",
   "metadata": {},
   "source": [
    "# Feasibility\n",
    "\n",
    "## Introduction to optimization and operations research\n",
    "\n",
    "Michel Bierlaire\n"
   ]
  },
  {
   "cell_type": "code",
   "execution_count": null,
   "id": "c5ec7e9f",
   "metadata": {},
   "outputs": [],
   "source": [
    "\n",
    "import numpy as np\n",
    "from teaching_optimization.linear_constraints import (\n",
    "    AllConstraints,\n",
    "    draw_polyhedron_canonical_form,\n",
    "    LabeledPoint,\n",
    ")\n"
   ]
  },
  {
   "cell_type": "markdown",
   "id": "225710d8",
   "metadata": {},
   "source": [
    "In this  exercise, you will learn how to represent a simple feasible region\n",
    "using inequalities, how to express it in matrix form, and how to check whether\n",
    "a given point satisfies these constraints. These are fundamental skills in\n",
    "optimization, as many algorithms start from verifying feasibility before\n",
    "attempting to optimize an objective. By practicing with simple 2D examples, you\n",
    "build intuition that will help you with more complex problems later.\n",
    "\n",
    "In $\\mathbb{R}^2$, we are interested in points in the non-negative orthant such that the sum of their\n",
    "coordinates is lesser or equal to 1. They form a polyhedron\n",
    "\n",
    "$$\\{x \\in \\mathbb{R}^2 | Ax \\leq b\\}.$$\n"
   ]
  },
  {
   "cell_type": "markdown",
   "id": "d21e63e6",
   "metadata": {},
   "source": [
    "# Question 1.\n",
    "What are the matrix $A$ and the vector $b$ for this case?\n",
    "\n",
    "## Solution:\n",
    "Feasible points must verify the following constraints:\n",
    "\n",
    "$$\\begin{align}\n",
    "x_1 &\\geq 0, \\\\\n",
    "x_2 &\\geq 0, \\\\\n",
    "x_1 +x_2&\\leq 1, \\\\\n",
    "\\end{align}$$\n",
    "\n",
    "or, equivalently,\n",
    "\n",
    "$$\\begin{align}\n",
    "-x_1 &\\leq 0, \\\\\n",
    "-x_2 &\\leq 0, \\\\\n",
    "x_1 +x_2&\\leq 1, \\\\\n",
    "\\end{align}$$\n",
    "\n",
    "Therefore, we have\n",
    "\n",
    "$$A = \\left(\\begin{array}{rr} -1 & 0 \\\\ 0 & -1 \\\\ 1 & 1\\end{array}\\right),\n",
    "b = \\left(\\begin{array}{r} 0 \\\\ 0  \\\\ 1\\end{array}\\right).$$"
   ]
  },
  {
   "cell_type": "code",
   "execution_count": null,
   "id": "2dab9207",
   "metadata": {},
   "outputs": [],
   "source": [
    "\n",
    "\n",
    "A = np.array([[-1, 0], [0, -1], [1, 1]])\n",
    "b = np.array([0, 0, 1])\n"
   ]
  },
  {
   "cell_type": "markdown",
   "id": "48296608",
   "metadata": {},
   "source": [
    "We create the polyhedron object."
   ]
  },
  {
   "cell_type": "code",
   "execution_count": null,
   "id": "5b287b2c",
   "metadata": {},
   "outputs": [],
   "source": [
    "polyhedron = AllConstraints.from_canonical_form(matrix=A, vector=b)\n",
    "print(polyhedron)\n"
   ]
  },
  {
   "cell_type": "markdown",
   "id": "3d71b5a3",
   "metadata": {},
   "source": [
    "Plot the polyhedron"
   ]
  },
  {
   "cell_type": "code",
   "execution_count": null,
   "id": "b95bd4ab",
   "metadata": {},
   "outputs": [],
   "source": [
    "draw_polyhedron_canonical_form(\n",
    "    matrix_a=A,\n",
    "    vector_b=b,\n",
    ")\n"
   ]
  },
  {
   "cell_type": "markdown",
   "id": "286f528a",
   "metadata": {},
   "source": [
    "# Question 2.\n",
    "Write a Python function that establishes if a point is feasible or not.\n",
    "We recommend to consider the `numpy` function\n",
    "[`all`](https://numpy.org/doc/stable/reference/generated/numpy.all.html)"
   ]
  },
  {
   "cell_type": "code",
   "execution_count": null,
   "id": "e8da255f",
   "metadata": {},
   "outputs": [],
   "source": [
    "\n",
    "\n",
    "def check_feasibility_for_x(\n",
    "    matrix_a: np.ndarray, vector_b: np.ndarray, vector_x: np.ndarray\n",
    ") -> bool:\n",
    "    \"\"\"Verifies if point belongs to the the_polyhedron defined by matrix_a and vector_b\n",
    "\n",
    "    :param matrix_a: matrix of the the_polyhedron.\n",
    "    :param vector_b: right hand side of the the_polyhedron.\n",
    "    :param vector_x: vector to check.\n",
    "    :return: True if feasible. False otherwise.\n",
    "    \"\"\"\n",
    "    n_variables = len(vector_x)\n",
    "    n_constraints = len(vector_b)\n",
    "    n_rows, n_columns = matrix_a.shape\n",
    "    if n_rows != n_constraints:\n",
    "        error_msg = (\n",
    "            f'Incompatible dimensions. {n_rows} rows for the matrix, '\n",
    "            f'{n_constraints} element for the right hand side'\n",
    "        )\n",
    "        raise ValueError(error_msg)\n",
    "    if n_columns != n_variables:\n",
    "        error_msg = (\n",
    "            f'Incompatible dimensions. {n_columns} columns for the matrix, '\n",
    "            f'{n_variables} rows for vector_x'\n",
    "        )\n",
    "        raise ValueError(error_msg)\n",
    "    return np.all(matrix_a @ vector_x <= vector_b)\n",
    "\n"
   ]
  },
  {
   "cell_type": "markdown",
   "id": "876337d4",
   "metadata": {},
   "source": [
    "# Question 3.\n",
    "Test it on the following points:"
   ]
  },
  {
   "cell_type": "markdown",
   "id": "98f3442b",
   "metadata": {},
   "source": [
    "## Point 1\n",
    "$$\\left( \\begin{array}{r} 0 \\\\ 0 \\end{array} \\right).$$\n",
    "Expected output: True"
   ]
  },
  {
   "cell_type": "code",
   "execution_count": null,
   "id": "afa03fbc",
   "metadata": {},
   "outputs": [],
   "source": [
    "\n",
    "x = np.array([0, 0])\n",
    "print(check_feasibility_for_x(matrix_a=A, vector_b=b, vector_x=x))\n",
    "\n"
   ]
  },
  {
   "cell_type": "markdown",
   "id": "9572c205",
   "metadata": {},
   "source": [
    "Plot the polyhedron"
   ]
  },
  {
   "cell_type": "code",
   "execution_count": null,
   "id": "b19f495d",
   "metadata": {},
   "outputs": [],
   "source": [
    "draw_polyhedron_canonical_form(\n",
    "    matrix_a=A, vector_b=b, points=[LabeledPoint(coordinates=x)]\n",
    ")\n",
    "\n"
   ]
  },
  {
   "cell_type": "markdown",
   "id": "974c169b",
   "metadata": {},
   "source": [
    "## Point 2\n",
    "$$\\left( \\begin{array}{r} -1 \\\\ 0.5 \\end{array} \\right).$$\n",
    "Expected output: False"
   ]
  },
  {
   "cell_type": "code",
   "execution_count": null,
   "id": "3facc04e",
   "metadata": {},
   "outputs": [],
   "source": [
    "\n",
    "x = np.array([-1, 0.5])\n",
    "print(check_feasibility_for_x(matrix_a=A, vector_b=b, vector_x=x))\n"
   ]
  },
  {
   "cell_type": "markdown",
   "id": "c4afa95e",
   "metadata": {},
   "source": [
    "Plot the polyhedron"
   ]
  },
  {
   "cell_type": "code",
   "execution_count": null,
   "id": "772a57bc",
   "metadata": {},
   "outputs": [],
   "source": [
    "draw_polyhedron_canonical_form(\n",
    "    matrix_a=A, vector_b=b, points=[LabeledPoint(coordinates=x)]\n",
    ")\n"
   ]
  },
  {
   "cell_type": "markdown",
   "id": "49d13590",
   "metadata": {},
   "source": [
    "## Point 3\n",
    "$$\\left( \\begin{array}{r} 0 \\\\ -0.5 \\end{array} \\right).$$\n",
    "Expected output: False"
   ]
  },
  {
   "cell_type": "code",
   "execution_count": null,
   "id": "dbaaf383",
   "metadata": {},
   "outputs": [],
   "source": [
    "\n",
    "x = np.array([0, -0.5])\n",
    "print(check_feasibility_for_x(matrix_a=A, vector_b=b, vector_x=x))\n"
   ]
  },
  {
   "cell_type": "markdown",
   "id": "13355550",
   "metadata": {},
   "source": [
    "Plot the polyhedron"
   ]
  },
  {
   "cell_type": "code",
   "execution_count": null,
   "id": "227e410e",
   "metadata": {},
   "outputs": [],
   "source": [
    "draw_polyhedron_canonical_form(\n",
    "    matrix_a=A, vector_b=b, points=[LabeledPoint(coordinates=x)]\n",
    ")\n"
   ]
  },
  {
   "cell_type": "markdown",
   "id": "71acb1c2",
   "metadata": {},
   "source": [
    "## Point 4\n",
    "$$\\left( \\begin{array}{r} 0.6 \\\\ 0.5 \\end{array} \\right).$$\n",
    "Expected output: False"
   ]
  },
  {
   "cell_type": "code",
   "execution_count": null,
   "id": "4cb76a07",
   "metadata": {},
   "outputs": [],
   "source": [
    "\n",
    "x = np.array([0.6, 0.5])\n",
    "print(check_feasibility_for_x(matrix_a=A, vector_b=b, vector_x=x))\n"
   ]
  },
  {
   "cell_type": "markdown",
   "id": "446a45ba",
   "metadata": {},
   "source": [
    "Plot the polyhedron"
   ]
  },
  {
   "cell_type": "code",
   "execution_count": null,
   "id": "3634b675",
   "metadata": {},
   "outputs": [],
   "source": [
    "draw_polyhedron_canonical_form(\n",
    "    matrix_a=A, vector_b=b, points=[LabeledPoint(coordinates=x)]\n",
    ")\n"
   ]
  },
  {
   "cell_type": "markdown",
   "id": "519bdc50",
   "metadata": {},
   "source": [
    "## Point 5\n",
    "$$\\left( \\begin{array}{r} 0.4 \\\\ 0.6 \\end{array} \\right).$$\n",
    "Expected output: True"
   ]
  },
  {
   "cell_type": "code",
   "execution_count": null,
   "id": "fd827189",
   "metadata": {},
   "outputs": [],
   "source": [
    "x = np.array([0.4, 0.6])\n",
    "print(check_feasibility_for_x(matrix_a=A, vector_b=b, vector_x=x))\n"
   ]
  },
  {
   "cell_type": "markdown",
   "id": "284c69ec",
   "metadata": {},
   "source": [
    "Plot the polyhedron"
   ]
  },
  {
   "cell_type": "code",
   "execution_count": null,
   "id": "0377fa7e",
   "metadata": {},
   "outputs": [],
   "source": [
    "draw_polyhedron_canonical_form(\n",
    "    matrix_a=A, vector_b=b, points=[LabeledPoint(coordinates=x)]\n",
    ")"
   ]
  }
 ],
 "metadata": {},
 "nbformat": 4,
 "nbformat_minor": 5
}
