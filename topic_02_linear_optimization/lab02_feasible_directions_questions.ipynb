{
 "cells": [
  {
   "cell_type": "markdown",
   "id": "d007d881",
   "metadata": {},
   "source": [
    "# Feasible directions\n",
    "\n",
    "## Introduction to optimization and operations research.\n",
    "\n",
    "Michel Bierlaire\n"
   ]
  },
  {
   "cell_type": "markdown",
   "id": "b0fbfa10",
   "metadata": {},
   "source": [
    "In this lab, you will practice identifying **feasible directions** at a point of a polyhedron.\n",
    "You will translate between canonical and standard forms, compute slack variables, build directions\n",
    "in standard form, and verify the two key tests for feasibility: (i) A d = 0 and (ii) nonnegativity\n",
    "on components corresponding to variables at their lower bounds. The aim is to connect geometric\n",
    "intuition (\"moving inside the feasible set\") with the algebraic conditions used by the simplex and\n",
    "related methods. By working through 2D examples and plots, you will see how feasibility depends on\n",
    "the current point, the active constraints, and the chosen direction."
   ]
  },
  {
   "cell_type": "code",
   "execution_count": null,
   "id": "a5fc10c6",
   "metadata": {},
   "outputs": [],
   "source": [
    "\n",
    "import numpy as np\n",
    "from teaching_optimization.linear_constraints import (\n",
    "    AllConstraints,\n",
    "    StandardCanonicalForms,\n",
    "    draw_polyhedron_canonical_form,\n",
    "    LabeledDirection,\n",
    ")\n"
   ]
  },
  {
   "cell_type": "markdown",
   "id": "246b1e19",
   "metadata": {},
   "source": [
    "In this lab, you will practice identifying **feasible directions** at a point of a polyhedron.\n",
    "You will translate between canonical and standard forms, compute slack variables, build directions\n",
    "in standard form, and verify the two key tests for feasibility: (i) A d = 0 and (ii) nonnegativity\n",
    "on components corresponding to variables at their lower bounds. The aim is to connect geometric\n",
    "intuition (\"moving inside the feasible set\") with the algebraic conditions used by the simplex and\n",
    "related methods. By working through 2D examples and plots, you will see how feasibility depends on\n",
    "the current point, the active constraints, and the chosen direction."
   ]
  },
  {
   "cell_type": "markdown",
   "id": "b1319746",
   "metadata": {},
   "source": [
    "Consider the polyhedron defined as follows:\n",
    "$$\n",
    "\\mathcal{P} = \\{x \\in \\mathbb{R}^2 \\mid -x_0 + x_1 \\leq 2, x_0 + x_1 \\leq 4, x_0 \\geq 0, x_1 \\geq 0\\}.\n",
    "$$\n",
    "\n",
    "Determine whether a given directions $\\tilde{d} \\in \\mathbb{R}^2$  is feasible for the given feasible points\n",
    "$\\tilde{x}$ of $\\mathcal{P}$.\n",
    "\n",
    "**Hints**:\n",
    "\n",
    "1. If the polyhedron is written in standard form, a direction $d$ is feasible if the\n",
    "following conditions are verified:\n",
    "\n",
    "- $Ad = 0$, and\n",
    "- $d_i \\geq 0$ when $x_i = 0$.\n",
    "2. To obtain a vector $x$ in standard form, you must calculate the values of the slack variables.\n",
    "3. To obtain a _direction_ $d$ in standard form, you need to consider $y = x + d$. If $x^s$ and $y^s$ arex\n",
    "the corresponding vectors in standard form (including the slack variables), the direction in standard form is\n",
    "$$d^s = y^s - x^s.$$\n"
   ]
  },
  {
   "cell_type": "markdown",
   "id": "7915bb9e",
   "metadata": {},
   "source": [
    "Constraints of the canonical form (for the plot)"
   ]
  },
  {
   "cell_type": "markdown",
   "id": "503da335",
   "metadata": {},
   "source": [
    "$$\\begin{array}{rrrr}\n",
    "-x_0 &+ x_1 &<=& 2, \\\\\n",
    "+x_0 &+ x_1 &<=& 4, \\\\\n",
    "-x_0 &      &<=& 0, \\\\\n",
    "& -x_1 &<=& 0.\n",
    "\\end{array}$$"
   ]
  },
  {
   "cell_type": "code",
   "execution_count": null,
   "id": "fecfd854",
   "metadata": {},
   "outputs": [],
   "source": [
    "\n",
    "canonical_a = np.array([[-1, 1], [1, 1], [-1, 0], [0, -1]])\n",
    "canonical_b = np.array([2, 4, 0, 0])\n"
   ]
  },
  {
   "cell_type": "markdown",
   "id": "364e59f6",
   "metadata": {},
   "source": [
    "Create a polyhedron object for plotting"
   ]
  },
  {
   "cell_type": "code",
   "execution_count": null,
   "id": "6a34210c",
   "metadata": {},
   "outputs": [],
   "source": [
    "polyhedron = AllConstraints.from_canonical_form(matrix=canonical_a, vector=canonical_b)\n",
    "print(polyhedron)\n"
   ]
  },
  {
   "cell_type": "markdown",
   "id": "24646c91",
   "metadata": {},
   "source": [
    "Create an object managing the standard and canonical forms."
   ]
  },
  {
   "cell_type": "code",
   "execution_count": null,
   "id": "23cbaccc",
   "metadata": {},
   "outputs": [],
   "source": [
    "polyhedron_forms = StandardCanonicalForms(constraints=polyhedron)\n"
   ]
  },
  {
   "cell_type": "markdown",
   "id": "2adc9886",
   "metadata": {},
   "source": [
    "Canonical form"
   ]
  },
  {
   "cell_type": "code",
   "execution_count": null,
   "id": "390b260e",
   "metadata": {},
   "outputs": [],
   "source": [
    "print(polyhedron_forms.canonical_form)\n"
   ]
  },
  {
   "cell_type": "markdown",
   "id": "3431d175",
   "metadata": {},
   "source": [
    "Plot the polyhedron"
   ]
  },
  {
   "cell_type": "code",
   "execution_count": null,
   "id": "215a7e61",
   "metadata": {},
   "outputs": [],
   "source": [
    "draw_polyhedron_canonical_form(matrix_a=canonical_a, vector_b=canonical_b)\n"
   ]
  },
  {
   "cell_type": "code",
   "execution_count": null,
   "id": "da2bff84",
   "metadata": {},
   "outputs": [],
   "source": [
    "print(polyhedron_forms.standard_form)\n"
   ]
  },
  {
   "cell_type": "markdown",
   "id": "b6211eae",
   "metadata": {},
   "source": [
    "Input the standard form data"
   ]
  },
  {
   "cell_type": "code",
   "execution_count": null,
   "id": "140f55d0",
   "metadata": {},
   "outputs": [],
   "source": [
    "standard_a = np.array(...)\n",
    "\n",
    "\n",
    "standard_b = np.array(...)\n",
    "\n"
   ]
  },
  {
   "cell_type": "markdown",
   "id": "a4ea4c55",
   "metadata": {},
   "source": [
    "Function checking the feasibility of the direction with the standard form."
   ]
  },
  {
   "cell_type": "code",
   "execution_count": null,
   "id": "db70726f",
   "metadata": {},
   "outputs": [],
   "source": [
    "def is_direction_feasible_standard(\n",
    "    standard_matrix: np.ndarray,\n",
    "    vector_x: np.ndarray,\n",
    "    direction: np.ndarray,\n",
    "):\n",
    "    \"\"\"Function checking the feasibility of the direction with the standard form.\n",
    "\n",
    "    :param standard_matrix: matrix of the standard form representation.\n",
    "    :param vector_x: point where to start the direction.\n",
    "    :param direction: direction to follow.\n",
    "    \"\"\"\n",
    "    # Verify the dimensions\n",
    "    n_rows, n_columns = standard_matrix.shape\n",
    "    if len(vector_x) != n_columns:\n",
    "        error_msg = f'Incompatible dimension of vector_x: {len(vector_x)} instead of {n_columns}.'\n",
    "        raise ValueError(error_msg)\n",
    "    if len(direction) != n_columns:\n",
    "        error_msg = f'Incompatible dimension of direction: {len(direction)} instead of {n_columns}.'\n",
    "        raise ValueError(error_msg)\n",
    "\n",
    "\n",
    "\n",
    "\n",
    "\n",
    "\n",
    "\n",
    "\n",
    "\n",
    "    return ...\n",
    "\n"
   ]
  },
  {
   "cell_type": "markdown",
   "id": "fcd46328",
   "metadata": {},
   "source": [
    "We now apply the function on various examples. Note that the data is provided for the canonical form,\n",
    "and must be transformed first."
   ]
  },
  {
   "cell_type": "markdown",
   "id": "46526bf2",
   "metadata": {},
   "source": [
    "# Question 1\n",
    "\n",
    "$\\tilde{x}_a = \\left(\\begin{array}{r} 0 \\\\ 2 \\end{array}\\right)$,\n",
    "$\\tilde{d}_a = \\left(\\begin{array}{r} 1 \\\\ 0 \\end{array}\\right);$"
   ]
  },
  {
   "cell_type": "code",
   "execution_count": null,
   "id": "6a2dbc88",
   "metadata": {},
   "outputs": [],
   "source": [
    "\n",
    "canonical_x_a = np.array([0, 2])\n",
    "canonical_d_a = np.array([1, 0])\n"
   ]
  },
  {
   "cell_type": "markdown",
   "id": "afbcdca4",
   "metadata": {},
   "source": [
    "Provide the values of the vector in standard form."
   ]
  },
  {
   "cell_type": "code",
   "execution_count": null,
   "id": "125291bf",
   "metadata": {},
   "outputs": [],
   "source": [
    "standard_x_a = np.array(...)\n"
   ]
  },
  {
   "cell_type": "markdown",
   "id": "c16a4001",
   "metadata": {},
   "source": [
    "Provide the values of the direction in standard form."
   ]
  },
  {
   "cell_type": "code",
   "execution_count": null,
   "id": "8a968b03",
   "metadata": {},
   "outputs": [],
   "source": [
    "standard_direction_a = np.array(...)\n",
    "\n",
    "\n"
   ]
  },
  {
   "cell_type": "markdown",
   "id": "af75381e",
   "metadata": {},
   "source": [
    "Check feasibility. Expected output: True."
   ]
  },
  {
   "cell_type": "code",
   "execution_count": null,
   "id": "821bb36e",
   "metadata": {},
   "outputs": [],
   "source": [
    "print(\n",
    "    is_direction_feasible_standard(\n",
    "        standard_matrix=standard_a,\n",
    "        vector_x=standard_x_a,\n",
    "        direction=standard_direction_a,\n",
    "    )\n",
    ")\n"
   ]
  },
  {
   "cell_type": "markdown",
   "id": "e0ba0d1c",
   "metadata": {},
   "source": [
    "Plot the polyhedron"
   ]
  },
  {
   "cell_type": "code",
   "execution_count": null,
   "id": "b0abd9cf",
   "metadata": {},
   "outputs": [],
   "source": [
    "draw_polyhedron_canonical_form(\n",
    "    matrix_a=canonical_a,\n",
    "    vector_b=canonical_b,\n",
    "    directions=[\n",
    "        LabeledDirection(start=canonical_x_a, direction=canonical_d_a, label='d_a')\n",
    "    ],\n",
    ")\n"
   ]
  },
  {
   "cell_type": "markdown",
   "id": "3234de9d",
   "metadata": {},
   "source": [
    "# Question 2\n",
    "$\\tilde{x}_b = \\left(\\begin{array}{r} 0 \\\\ 2 \\end{array}\\right)$,\n",
    "$\\tilde{d}_b = \\left(\\begin{array}{r} -1 \\\\ 0 \\end{array}\\right);$"
   ]
  },
  {
   "cell_type": "code",
   "execution_count": null,
   "id": "ff57bd91",
   "metadata": {},
   "outputs": [],
   "source": [
    "\n",
    "canonical_x_b = np.array([0, 2])\n",
    "canonical_d_b = np.array([-1, 0])\n"
   ]
  },
  {
   "cell_type": "code",
   "execution_count": null,
   "id": "9e6db1af",
   "metadata": {},
   "outputs": [],
   "source": [
    "\n",
    "standard_x_b = np.array(...)\n",
    "standard_direction_b = np.array(...)\n",
    "\n",
    "\n"
   ]
  },
  {
   "cell_type": "markdown",
   "id": "c4efb48e",
   "metadata": {},
   "source": [
    "Check feasibility. Expected output: False."
   ]
  },
  {
   "cell_type": "code",
   "execution_count": null,
   "id": "88722366",
   "metadata": {},
   "outputs": [],
   "source": [
    "print(\n",
    "    is_direction_feasible_standard(\n",
    "        standard_matrix=standard_a,\n",
    "        vector_x=standard_x_b,\n",
    "        direction=standard_direction_b,\n",
    "    )\n",
    ")\n"
   ]
  },
  {
   "cell_type": "markdown",
   "id": "b5034e05",
   "metadata": {},
   "source": [
    "Plot the polyhedron"
   ]
  },
  {
   "cell_type": "code",
   "execution_count": null,
   "id": "864d5863",
   "metadata": {},
   "outputs": [],
   "source": [
    "draw_polyhedron_canonical_form(\n",
    "    matrix_a=canonical_a,\n",
    "    vector_b=canonical_b,\n",
    "    directions=[\n",
    "        LabeledDirection(start=canonical_x_b, direction=canonical_d_b, label='d_b')\n",
    "    ],\n",
    ")\n"
   ]
  },
  {
   "cell_type": "markdown",
   "id": "c573e55c",
   "metadata": {},
   "source": [
    "# Question 3"
   ]
  },
  {
   "cell_type": "markdown",
   "id": "f4fac840",
   "metadata": {},
   "source": [
    "$\\tilde{x}_c = \\left(\\begin{array}{r} 2 \\\\ 2 \\end{array}\\right)$,\n",
    "$\\tilde{d}_c = \\left(\\begin{array}{r} 0 \\\\ 2 \\end{array}\\right);$"
   ]
  },
  {
   "cell_type": "code",
   "execution_count": null,
   "id": "d58d0e9f",
   "metadata": {},
   "outputs": [],
   "source": [
    "\n",
    "canonical_x_c = np.array([2, 2])\n",
    "canonical_d_c = np.array([0, 2])\n"
   ]
  },
  {
   "cell_type": "code",
   "execution_count": null,
   "id": "60ce5347",
   "metadata": {},
   "outputs": [],
   "source": [
    "\n",
    "standard_x_c = np.array(...)\n",
    "standard_direction_c = np.array(...)\n",
    "\n",
    "\n"
   ]
  },
  {
   "cell_type": "markdown",
   "id": "acd47056",
   "metadata": {},
   "source": [
    "Check feasibility. Expected output: False."
   ]
  },
  {
   "cell_type": "code",
   "execution_count": null,
   "id": "d09bbb5a",
   "metadata": {},
   "outputs": [],
   "source": [
    "print(\n",
    "    is_direction_feasible_standard(\n",
    "        standard_matrix=standard_a,\n",
    "        vector_x=standard_x_c,\n",
    "        direction=standard_direction_c,\n",
    "    )\n",
    ")\n"
   ]
  },
  {
   "cell_type": "markdown",
   "id": "b9ceb5d1",
   "metadata": {},
   "source": [
    "Plot the polyhedron"
   ]
  },
  {
   "cell_type": "code",
   "execution_count": null,
   "id": "e468359f",
   "metadata": {},
   "outputs": [],
   "source": [
    "draw_polyhedron_canonical_form(\n",
    "    matrix_a=canonical_a,\n",
    "    vector_b=canonical_b,\n",
    "    directions=[\n",
    "        LabeledDirection(start=canonical_x_c, direction=canonical_d_c, label='d_c')\n",
    "    ],\n",
    ")\n",
    "\n"
   ]
  },
  {
   "cell_type": "markdown",
   "id": "34145ffa",
   "metadata": {},
   "source": [
    "# Question 4\n",
    "$\\tilde{x}_d = \\left(\\begin{array}{r} 3 \\\\ 0 \\end{array}\\right)$,\n",
    "$\\tilde{d}_d = \\left(\\begin{array}{r} 0 \\\\ 2 \\end{array}\\right).$"
   ]
  },
  {
   "cell_type": "code",
   "execution_count": null,
   "id": "4313836a",
   "metadata": {},
   "outputs": [],
   "source": [
    "\n",
    "canonical_x_d = np.array([3, 0])\n",
    "canonical_d_d = np.array([0, 2])\n"
   ]
  },
  {
   "cell_type": "code",
   "execution_count": null,
   "id": "608aaaf6",
   "metadata": {},
   "outputs": [],
   "source": [
    "\n",
    "standard_x_d = np.array(...)\n",
    "standard_direction_d = np.array(...)\n",
    "\n",
    "\n"
   ]
  },
  {
   "cell_type": "markdown",
   "id": "bafb838e",
   "metadata": {},
   "source": [
    "Check feasibility. Expected output: True."
   ]
  },
  {
   "cell_type": "code",
   "execution_count": null,
   "id": "1f711e9d",
   "metadata": {},
   "outputs": [],
   "source": [
    "print(\n",
    "    is_direction_feasible_standard(\n",
    "        standard_matrix=standard_a,\n",
    "        vector_x=standard_x_d,\n",
    "        direction=standard_direction_d,\n",
    "    )\n",
    ")\n"
   ]
  },
  {
   "cell_type": "markdown",
   "id": "1eec13f0",
   "metadata": {},
   "source": [
    "Plot the polyhedron"
   ]
  },
  {
   "cell_type": "code",
   "execution_count": null,
   "id": "80ded350",
   "metadata": {},
   "outputs": [],
   "source": [
    "draw_polyhedron_canonical_form(\n",
    "    matrix_a=canonical_a,\n",
    "    vector_b=canonical_b,\n",
    "    directions=[\n",
    "        LabeledDirection(start=canonical_x_d, direction=canonical_d_d, label='d_d')\n",
    "    ],\n",
    ")"
   ]
  }
 ],
 "metadata": {},
 "nbformat": 4,
 "nbformat_minor": 5
}
