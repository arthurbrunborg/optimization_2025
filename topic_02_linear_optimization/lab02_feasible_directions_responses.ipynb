{
 "cells": [
  {
   "cell_type": "markdown",
   "id": "1daa6f11",
   "metadata": {},
   "source": [
    "# Feasible directions\n",
    "\n",
    "## Introduction to optimization and operations research.\n",
    "\n",
    "Michel Bierlaire\n"
   ]
  },
  {
   "cell_type": "markdown",
   "id": "fdc831c9",
   "metadata": {},
   "source": [
    "In this lab, you will practice identifying **feasible directions** at a point of a polyhedron.\n",
    "You will translate between canonical and standard forms, compute slack variables, build directions\n",
    "in standard form, and verify the two key tests for feasibility: (i) A d = 0 and (ii) nonnegativity\n",
    "on components corresponding to variables at their lower bounds. The aim is to connect geometric\n",
    "intuition (\"moving inside the feasible set\") with the algebraic conditions used by the simplex and\n",
    "related methods. By working through 2D examples and plots, you will see how feasibility depends on\n",
    "the current point, the active constraints, and the chosen direction."
   ]
  },
  {
   "cell_type": "code",
   "execution_count": null,
   "id": "3d4ead56",
   "metadata": {},
   "outputs": [],
   "source": [
    "\n",
    "import numpy as np\n",
    "from teaching_optimization.linear_constraints import (\n",
    "    AllConstraints,\n",
    "    StandardCanonicalForms,\n",
    "    draw_polyhedron_canonical_form,\n",
    "    LabeledDirection,\n",
    ")\n"
   ]
  },
  {
   "cell_type": "markdown",
   "id": "f4ac9db1",
   "metadata": {},
   "source": [
    "In this lab, you will practice identifying **feasible directions** at a point of a polyhedron.\n",
    "You will translate between canonical and standard forms, compute slack variables, build directions\n",
    "in standard form, and verify the two key tests for feasibility: (i) A d = 0 and (ii) nonnegativity\n",
    "on components corresponding to variables at their lower bounds. The aim is to connect geometric\n",
    "intuition (\"moving inside the feasible set\") with the algebraic conditions used by the simplex and\n",
    "related methods. By working through 2D examples and plots, you will see how feasibility depends on\n",
    "the current point, the active constraints, and the chosen direction."
   ]
  },
  {
   "cell_type": "markdown",
   "id": "cb4b60f6",
   "metadata": {},
   "source": [
    "Consider the polyhedron defined as follows:\n",
    "$$\n",
    "\\mathcal{P} = \\{x \\in \\mathbb{R}^2 \\mid -x_0 + x_1 \\leq 2, x_0 + x_1 \\leq 4, x_0 \\geq 0, x_1 \\geq 0\\}.\n",
    "$$\n",
    "\n",
    "Determine whether a given directions $\\tilde{d} \\in \\mathbb{R}^2$  is feasible for the given feasible points\n",
    "$\\tilde{x}$ of $\\mathcal{P}$.\n",
    "\n",
    "**Hints**:\n",
    "\n",
    "1. If the polyhedron is written in standard form, a direction $d$ is feasible if the\n",
    "following conditions are verified:\n",
    "\n",
    "- $Ad = 0$, and\n",
    "- $d_i \\geq 0$ when $x_i = 0$.\n",
    "2. To obtain a vector $x$ in standard form, you must calculate the values of the slack variables.\n",
    "3. To obtain a _direction_ $d$ in standard form, you need to consider $y = x + d$. If $x^s$ and $y^s$ arex\n",
    "the corresponding vectors in standard form (including the slack variables), the direction in standard form is\n",
    "$$d^s = y^s - x^s.$$\n"
   ]
  },
  {
   "cell_type": "markdown",
   "id": "3b444105",
   "metadata": {},
   "source": [
    "Constraints of the canonical form (for the plot)"
   ]
  },
  {
   "cell_type": "markdown",
   "id": "515dcfad",
   "metadata": {},
   "source": [
    "$$\\begin{array}{rrrr}\n",
    "-x_0 &+ x_1 &<=& 2, \\\\\n",
    "+x_0 &+ x_1 &<=& 4, \\\\\n",
    "-x_0 &      &<=& 0, \\\\\n",
    "& -x_1 &<=& 0.\n",
    "\\end{array}$$"
   ]
  },
  {
   "cell_type": "code",
   "execution_count": null,
   "id": "a96112e4",
   "metadata": {},
   "outputs": [],
   "source": [
    "\n",
    "canonical_a = np.array([[-1, 1], [1, 1], [-1, 0], [0, -1]])\n",
    "canonical_b = np.array([2, 4, 0, 0])\n"
   ]
  },
  {
   "cell_type": "markdown",
   "id": "9e37addf",
   "metadata": {},
   "source": [
    "Create a polyhedron object for plotting"
   ]
  },
  {
   "cell_type": "code",
   "execution_count": null,
   "id": "bc4b11ca",
   "metadata": {},
   "outputs": [],
   "source": [
    "polyhedron = AllConstraints.from_canonical_form(matrix=canonical_a, vector=canonical_b)\n",
    "print(polyhedron)\n"
   ]
  },
  {
   "cell_type": "markdown",
   "id": "fba7a142",
   "metadata": {},
   "source": [
    "Create an object managing the standard and canonical forms."
   ]
  },
  {
   "cell_type": "code",
   "execution_count": null,
   "id": "fd12b66f",
   "metadata": {},
   "outputs": [],
   "source": [
    "polyhedron_forms = StandardCanonicalForms(constraints=polyhedron)\n"
   ]
  },
  {
   "cell_type": "markdown",
   "id": "1b79a725",
   "metadata": {},
   "source": [
    "Canonical form"
   ]
  },
  {
   "cell_type": "code",
   "execution_count": null,
   "id": "09782af2",
   "metadata": {},
   "outputs": [],
   "source": [
    "print(polyhedron_forms.canonical_form)\n"
   ]
  },
  {
   "cell_type": "markdown",
   "id": "d47af7df",
   "metadata": {},
   "source": [
    "Plot the polyhedron"
   ]
  },
  {
   "cell_type": "code",
   "execution_count": null,
   "id": "af56434d",
   "metadata": {},
   "outputs": [],
   "source": [
    "draw_polyhedron_canonical_form(matrix_a=canonical_a, vector_b=canonical_b)\n"
   ]
  },
  {
   "cell_type": "markdown",
   "id": "7bb87205",
   "metadata": {},
   "source": [
    "\n",
    "Constraints of the standard form:\n",
    "$$\\begin{array}{rrrrrr}\n",
    "- x_0  & + x_1  & + s_0  &        &=& 2, \\\\\n",
    "+ x_0  & + x_1  &        & + s_1  &=& 4, \\\\\n",
    "+ x_0  &        &        &        &>=& 0, \\\\\n",
    "& + x_1  &        &        &>=& 0, \\\\\n",
    "&        & + s_0  &        &>=& 0, \\\\\n",
    "&        &        &+ s_1   &>=& 0.\n",
    "\\end{array}$$\n"
   ]
  },
  {
   "cell_type": "code",
   "execution_count": null,
   "id": "059164ca",
   "metadata": {},
   "outputs": [],
   "source": [
    "print(polyhedron_forms.standard_form)\n"
   ]
  },
  {
   "cell_type": "markdown",
   "id": "d2976baa",
   "metadata": {},
   "source": [
    "Input the standard form data"
   ]
  },
  {
   "cell_type": "code",
   "execution_count": null,
   "id": "e6041f1c",
   "metadata": {},
   "outputs": [],
   "source": [
    "standard_a = np.array(\n",
    "    [[-1.0, 1.0, 1.0, 0.0], [1.0, 1.0, 0.0, 1.0]]\n",
    ")\n",
    "standard_b = np.array([2, 4])\n",
    "\n"
   ]
  },
  {
   "cell_type": "markdown",
   "id": "72430650",
   "metadata": {},
   "source": [
    "Function checking the feasibility of the direction with the standard form."
   ]
  },
  {
   "cell_type": "code",
   "execution_count": null,
   "id": "581b8196",
   "metadata": {},
   "outputs": [],
   "source": [
    "def is_direction_feasible_standard(\n",
    "    standard_matrix: np.ndarray,\n",
    "    vector_x: np.ndarray,\n",
    "    direction: np.ndarray,\n",
    "):\n",
    "    \"\"\"Function checking the feasibility of the direction with the standard form.\n",
    "\n",
    "    :param standard_matrix: matrix of the standard form representation.\n",
    "    :param vector_x: point where to start the direction.\n",
    "    :param direction: direction to follow.\n",
    "    \"\"\"\n",
    "    # Verify the dimensions\n",
    "    n_rows, n_columns = standard_matrix.shape\n",
    "    if len(vector_x) != n_columns:\n",
    "        error_msg = f'Incompatible dimension of vector_x: {len(vector_x)} instead of {n_columns}.'\n",
    "        raise ValueError(error_msg)\n",
    "    if len(direction) != n_columns:\n",
    "        error_msg = f'Incompatible dimension of direction: {len(direction)} instead of {n_columns}.'\n",
    "        raise ValueError(error_msg)\n",
    "\n",
    "    # Verify first that the direction is in the kernel of the matrix.\n",
    "    if not np.allclose(standard_matrix @ direction, np.zeros(n_rows)):\n",
    "        return False\n",
    "\n",
    "    # Identify the entries of point that are zero\n",
    "    zero_mask = vector_x == 0.0\n",
    "\n",
    "    # Verify that the corresponding entries of the direction are non-negative.\n",
    "    return np.all(direction[zero_mask] >= 0)\n",
    "\n"
   ]
  },
  {
   "cell_type": "markdown",
   "id": "7c61d9f4",
   "metadata": {},
   "source": [
    "We now apply the function on various examples. Note that the data is provided for the canonical form,\n",
    "and must be transformed first."
   ]
  },
  {
   "cell_type": "markdown",
   "id": "9f9ad422",
   "metadata": {},
   "source": [
    "# Question 1\n",
    "\n",
    "$\\tilde{x}_a = \\left(\\begin{array}{r} 0 \\\\ 2 \\end{array}\\right)$,\n",
    "$\\tilde{d}_a = \\left(\\begin{array}{r} 1 \\\\ 0 \\end{array}\\right);$"
   ]
  },
  {
   "cell_type": "code",
   "execution_count": null,
   "id": "cd5e66c7",
   "metadata": {},
   "outputs": [],
   "source": [
    "\n",
    "canonical_x_a = np.array([0, 2])\n",
    "canonical_d_a = np.array([1, 0])\n"
   ]
  },
  {
   "cell_type": "markdown",
   "id": "f42d91e0",
   "metadata": {},
   "source": [
    "\n",
    "After calculating the slack variables, we obtain the vector in standard form,\n",
    "$\\tilde{x}^s_a = \\left(\\begin{array}{r} 0 \\\\ 2 \\\\ 0 \\\\ 2\\end{array}\\right)$.\n",
    "We do the same for the vector $\\tilde{x}_a+\\tilde{d}_a = \\left(\\begin{array}{r} 1\\\\ 2 \\end{array}\\right)$.\n",
    "In standard form, it is $\\left(\\begin{array}{r} 1\\\\ 2 \\\\ 1 \\\\ 1 \\end{array}\\right)$.\n",
    "Therefore, the direction in standard form is\n",
    "$\\left(\\begin{array}{r} 1\\\\ 2 \\\\ 1 \\\\ 1 \\end{array}\\right)-\n",
    "\\left(\\begin{array}{r} 0 \\\\ 2 \\\\ 0 \\\\ 2\\end{array}\\right) =\n",
    "\\left(\\begin{array}{r} 1\\\\ 0 \\\\ 1 \\\\ -1 \\end{array}\\right)$.\n"
   ]
  },
  {
   "cell_type": "markdown",
   "id": "4274c736",
   "metadata": {},
   "source": [
    "Provide the values of the vector in standard form."
   ]
  },
  {
   "cell_type": "code",
   "execution_count": null,
   "id": "6d13e7fe",
   "metadata": {},
   "outputs": [],
   "source": [
    "standard_x_a = np.array([0.0, 2.0, 0.0, 2.0])\n"
   ]
  },
  {
   "cell_type": "markdown",
   "id": "e1165a55",
   "metadata": {},
   "source": [
    "Provide the values of the direction in standard form."
   ]
  },
  {
   "cell_type": "code",
   "execution_count": null,
   "id": "001e800f",
   "metadata": {},
   "outputs": [],
   "source": [
    "standard_direction_a = np.array(\n",
    "    [1.0, 0.0, 1.0, -1.0]\n",
    ")\n"
   ]
  },
  {
   "cell_type": "markdown",
   "id": "70470f72",
   "metadata": {},
   "source": [
    "Check feasibility. Expected output: True."
   ]
  },
  {
   "cell_type": "code",
   "execution_count": null,
   "id": "75f8ffbc",
   "metadata": {},
   "outputs": [],
   "source": [
    "print(\n",
    "    is_direction_feasible_standard(\n",
    "        standard_matrix=standard_a,\n",
    "        vector_x=standard_x_a,\n",
    "        direction=standard_direction_a,\n",
    "    )\n",
    ")\n"
   ]
  },
  {
   "cell_type": "markdown",
   "id": "5b71db2c",
   "metadata": {},
   "source": [
    "Plot the polyhedron"
   ]
  },
  {
   "cell_type": "code",
   "execution_count": null,
   "id": "ecfe64ea",
   "metadata": {},
   "outputs": [],
   "source": [
    "draw_polyhedron_canonical_form(\n",
    "    matrix_a=canonical_a,\n",
    "    vector_b=canonical_b,\n",
    "    directions=[\n",
    "        LabeledDirection(start=canonical_x_a, direction=canonical_d_a, label='d_a')\n",
    "    ],\n",
    ")\n"
   ]
  },
  {
   "cell_type": "markdown",
   "id": "899fd3f0",
   "metadata": {},
   "source": [
    "# Question 2\n",
    "$\\tilde{x}_b = \\left(\\begin{array}{r} 0 \\\\ 2 \\end{array}\\right)$,\n",
    "$\\tilde{d}_b = \\left(\\begin{array}{r} -1 \\\\ 0 \\end{array}\\right);$"
   ]
  },
  {
   "cell_type": "code",
   "execution_count": null,
   "id": "3b251565",
   "metadata": {},
   "outputs": [],
   "source": [
    "\n",
    "canonical_x_b = np.array([0, 2])\n",
    "canonical_d_b = np.array([-1, 0])\n"
   ]
  },
  {
   "cell_type": "markdown",
   "id": "9ce36014",
   "metadata": {},
   "source": [
    "\n",
    "After calculating the slack variables, we obtain the vector in standard form,\n",
    "$\\tilde{x}^s_b = \\left(\\begin{array}{r} 0 \\\\ 2 \\\\ 0 \\\\ 2\\end{array}\\right)$.\n",
    "We do the same for the vector $\\tilde{x}_b+\\tilde{d}_b = \\left(\\begin{array}{r} -1\\\\ 2 \\end{array}\\right)$.\n",
    "In standard form, it is $\\left(\\begin{array}{r} -1\\\\ 2 \\\\ -1 \\\\ 3 \\end{array}\\right)$.\n",
    "Therefore, the direction in standard form is\n",
    "$\\left(\\begin{array}{r} -1\\\\ 2 \\\\ -1 \\\\ 3 \\end{array}\\right)-\n",
    "\\left(\\begin{array}{r} 0 \\\\ 2 \\\\ 0 \\\\ 2\\end{array}\\right) =\n",
    "\\left(\\begin{array}{r} -1\\\\ 0 \\\\ -1 \\\\ 1 \\end{array}\\right)$.\n"
   ]
  },
  {
   "cell_type": "code",
   "execution_count": null,
   "id": "9769e8a0",
   "metadata": {},
   "outputs": [],
   "source": [
    "\n",
    "standard_x_b = np.array([0.0, 2.0, 0.0, 2.0])\n",
    "standard_direction_b = np.array(\n",
    "    [-1.0, 0.0, -1.0, 1.0]\n",
    ")\n"
   ]
  },
  {
   "cell_type": "markdown",
   "id": "d4f67b20",
   "metadata": {},
   "source": [
    "Check feasibility. Expected output: False."
   ]
  },
  {
   "cell_type": "code",
   "execution_count": null,
   "id": "ab959366",
   "metadata": {},
   "outputs": [],
   "source": [
    "print(\n",
    "    is_direction_feasible_standard(\n",
    "        standard_matrix=standard_a,\n",
    "        vector_x=standard_x_b,\n",
    "        direction=standard_direction_b,\n",
    "    )\n",
    ")\n"
   ]
  },
  {
   "cell_type": "markdown",
   "id": "3df79f2a",
   "metadata": {},
   "source": [
    "Plot the polyhedron"
   ]
  },
  {
   "cell_type": "code",
   "execution_count": null,
   "id": "f5d26a62",
   "metadata": {},
   "outputs": [],
   "source": [
    "draw_polyhedron_canonical_form(\n",
    "    matrix_a=canonical_a,\n",
    "    vector_b=canonical_b,\n",
    "    directions=[\n",
    "        LabeledDirection(start=canonical_x_b, direction=canonical_d_b, label='d_b')\n",
    "    ],\n",
    ")\n"
   ]
  },
  {
   "cell_type": "markdown",
   "id": "31e37d5f",
   "metadata": {},
   "source": [
    "# Question 3"
   ]
  },
  {
   "cell_type": "markdown",
   "id": "2346dc7d",
   "metadata": {},
   "source": [
    "$\\tilde{x}_c = \\left(\\begin{array}{r} 2 \\\\ 2 \\end{array}\\right)$,\n",
    "$\\tilde{d}_c = \\left(\\begin{array}{r} 0 \\\\ 2 \\end{array}\\right);$"
   ]
  },
  {
   "cell_type": "code",
   "execution_count": null,
   "id": "993fd7f3",
   "metadata": {},
   "outputs": [],
   "source": [
    "\n",
    "canonical_x_c = np.array([2, 2])\n",
    "canonical_d_c = np.array([0, 2])\n"
   ]
  },
  {
   "cell_type": "markdown",
   "id": "7a09035c",
   "metadata": {},
   "source": [
    "\n",
    "After calculating the slack variables, we obtain the vector in standard form,\n",
    "$\\tilde{x}^s_c = \\left(\\begin{array}{r} 2 \\\\ 2 \\\\ 2 \\\\ 0\\end{array}\\right)$.\n",
    "We do the same for the vector $\\tilde{x}_c+\\tilde{d}_c = \\left(\\begin{array}{r} 2\\\\ 4 \\end{array}\\right)$.\n",
    "In standard form, it is $\\left(\\begin{array}{r} 2\\\\ 4 \\\\ 0 \\\\ -2 \\end{array}\\right)$.\n",
    "Therefore, the direction in standard form is\n",
    "$\\left(\\begin{array}{r} 2\\\\ 4 \\\\ 0 \\\\ -2 \\end{array}\\right)-\n",
    "\\left(\\begin{array}{r} 2 \\\\ 2 \\\\ 2 \\\\ 0\\end{array}\\right) =\n",
    "\\left(\\begin{array}{r} 0\\\\ 2 \\\\ -2 \\\\ -2 \\end{array}\\right)$.\n"
   ]
  },
  {
   "cell_type": "code",
   "execution_count": null,
   "id": "dec01da7",
   "metadata": {},
   "outputs": [],
   "source": [
    "\n",
    "standard_x_c = np.array([2.0, 2.0, 2.0, 0.0])\n",
    "standard_direction_c = np.array(\n",
    "    [0.0, 2.0, -2.0, -2.0]\n",
    ")\n"
   ]
  },
  {
   "cell_type": "markdown",
   "id": "477c1288",
   "metadata": {},
   "source": [
    "Check feasibility. Expected output: False."
   ]
  },
  {
   "cell_type": "code",
   "execution_count": null,
   "id": "5a617d7b",
   "metadata": {},
   "outputs": [],
   "source": [
    "print(\n",
    "    is_direction_feasible_standard(\n",
    "        standard_matrix=standard_a,\n",
    "        vector_x=standard_x_c,\n",
    "        direction=standard_direction_c,\n",
    "    )\n",
    ")\n"
   ]
  },
  {
   "cell_type": "markdown",
   "id": "adf1ba83",
   "metadata": {},
   "source": [
    "Plot the polyhedron"
   ]
  },
  {
   "cell_type": "code",
   "execution_count": null,
   "id": "1dd2d557",
   "metadata": {},
   "outputs": [],
   "source": [
    "draw_polyhedron_canonical_form(\n",
    "    matrix_a=canonical_a,\n",
    "    vector_b=canonical_b,\n",
    "    directions=[\n",
    "        LabeledDirection(start=canonical_x_c, direction=canonical_d_c, label='d_c')\n",
    "    ],\n",
    ")\n",
    "\n"
   ]
  },
  {
   "cell_type": "markdown",
   "id": "eda5c090",
   "metadata": {},
   "source": [
    "# Question 4\n",
    "$\\tilde{x}_d = \\left(\\begin{array}{r} 3 \\\\ 0 \\end{array}\\right)$,\n",
    "$\\tilde{d}_d = \\left(\\begin{array}{r} 0 \\\\ 2 \\end{array}\\right).$"
   ]
  },
  {
   "cell_type": "code",
   "execution_count": null,
   "id": "90a8053c",
   "metadata": {},
   "outputs": [],
   "source": [
    "\n",
    "canonical_x_d = np.array([3, 0])\n",
    "canonical_d_d = np.array([0, 2])\n"
   ]
  },
  {
   "cell_type": "markdown",
   "id": "9b25c6a8",
   "metadata": {},
   "source": [
    "\n",
    "After calculating the slack variables, we obtain the vector in standard form,\n",
    "$\\tilde{x}^s_d = \\left(\\begin{array}{r} 3 \\\\ 0 \\\\ 5 \\\\ 1\\end{array}\\right)$.\n",
    "\n"
   ]
  },
  {
   "cell_type": "code",
   "execution_count": null,
   "id": "2783cd30",
   "metadata": {},
   "outputs": [],
   "source": [
    "\n",
    "standard_x_d = np.array([3.0, 0.0, 5.0, 1.0])\n",
    "standard_direction_d = np.array(\n",
    "    [0.0, 2.0, -2.0, -2.0]\n",
    ")\n"
   ]
  },
  {
   "cell_type": "markdown",
   "id": "3e5637a2",
   "metadata": {},
   "source": [
    "Check feasibility. Expected output: True."
   ]
  },
  {
   "cell_type": "code",
   "execution_count": null,
   "id": "0f3056b1",
   "metadata": {},
   "outputs": [],
   "source": [
    "print(\n",
    "    is_direction_feasible_standard(\n",
    "        standard_matrix=standard_a,\n",
    "        vector_x=standard_x_d,\n",
    "        direction=standard_direction_d,\n",
    "    )\n",
    ")\n"
   ]
  },
  {
   "cell_type": "markdown",
   "id": "30d8c986",
   "metadata": {},
   "source": [
    "Plot the polyhedron"
   ]
  },
  {
   "cell_type": "code",
   "execution_count": null,
   "id": "88e573dc",
   "metadata": {},
   "outputs": [],
   "source": [
    "draw_polyhedron_canonical_form(\n",
    "    matrix_a=canonical_a,\n",
    "    vector_b=canonical_b,\n",
    "    directions=[\n",
    "        LabeledDirection(start=canonical_x_d, direction=canonical_d_d, label='d_d')\n",
    "    ],\n",
    ")"
   ]
  }
 ],
 "metadata": {},
 "nbformat": 4,
 "nbformat_minor": 5
}
