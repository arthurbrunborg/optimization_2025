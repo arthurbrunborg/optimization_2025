{
 "cells": [
  {
   "cell_type": "markdown",
   "id": "ad91c981",
   "metadata": {},
   "source": [
    "# Basic solutions\n",
    "\n",
    "## Introduction to optimization and operations research\n",
    "\n",
    "Michel Bierlaire\n"
   ]
  },
  {
   "cell_type": "code",
   "execution_count": null,
   "id": "37a3256b",
   "metadata": {},
   "outputs": [],
   "source": [
    "\n",
    "from itertools import combinations\n",
    "from typing import Iterable\n",
    "\n",
    "import numpy as np\n",
    "from teaching_optimization.linear_constraints import (\n",
    "    draw_polyhedron_standard_form,\n",
    "    LabeledPoint,\n",
    "    BoundingBox,\n",
    "    StandardForm,\n",
    ")\n"
   ]
  },
  {
   "cell_type": "markdown",
   "id": "261c3b23",
   "metadata": {},
   "source": [
    "In this lab, you will learn how **basic and nonbasic variables** determine a point of a polyhedron,\n",
    "and how specific choices of a basis correspond to its **vertices**. Step by step, you will extract a\n",
    "basic matrix, solve for the basic variables (Bx_B = b), check **feasibility** (x_B ≥ 0) and\n",
    "**degeneracy** (some basic variables equal to 0), and rebuild the full vector by placing basic and\n",
    "nonbasic components appropriately. By enumerating possible bases and plotting the results, you will\n",
    "see which basic solutions are infeasible, which are feasible, and which correspond to the **same\n",
    "vertex** (degenerate cases). This hands-on process builds geometric intuition for later algorithms\n",
    "like the simplex method, where moving from one basis to another is equivalent to moving from one\n",
    "vertex of the feasible region to a neighboring one."
   ]
  },
  {
   "cell_type": "markdown",
   "id": "d3114d54",
   "metadata": {},
   "source": [
    "We will proceed step by step and will implement the following functions:\n",
    "\n",
    "- a function that extracts and returns a basic matrix from the given constraint matrix,\n",
    "- a function that calculates the basic variables by solving the system $B x_B = b$,\n",
    "- a function that checks if the basic variables $x_B$ are feasible,\n",
    "- a function that builds the vector in the full space,\n",
    "- a function that calls all the previous ones to obtain a basic solution,\n",
    "- a function that checks if the basic solution is degenerate.\n",
    "\n",
    "We will apply it to identify the vertices of the following polyhedrons.\n",
    "\n",
    "## Polyhedron 1\n",
    "$$P = \\left\\{\n",
    "\\begin{pmatrix}\n",
    "x_1\\\\\n",
    "x_2\n",
    "\\end{pmatrix} \\in \\mathbb{R}^2\n",
    "| x_1+x_2  \\geq 1,\n",
    "x_1+x_2  \\leq 2,\n",
    "x_1  \\geq 0,\n",
    "x_2  \\geq 0. \\right\\}.$$"
   ]
  },
  {
   "cell_type": "markdown",
   "id": "1296d017",
   "metadata": {},
   "source": [
    "## Polyhedron 2\n",
    "$$P = \\left\\{\n",
    "\\begin{pmatrix}\n",
    "x_1\\\\\n",
    "x_2\n",
    "\\end{pmatrix}\\in \\mathbb{R}^2\n",
    "| x_1 + x_2 \\leq 1, 3 x_1 + 10 x_2 \\leq 15, x_1 \\geq 0, x_2 \\geq 0 \\right\\}.$$"
   ]
  },
  {
   "cell_type": "markdown",
   "id": "654724af",
   "metadata": {},
   "source": [
    "## Polyhedron 3\n",
    "$$ P = \\left\\{\n",
    "\\begin{pmatrix}\n",
    "x_1\\\\\n",
    "x_2\n",
    "\\end{pmatrix} \\in \\mathbb{R}^2\n",
    "| x_1+x_2 \\leq 1,\n",
    "-x_1+2x_2 \\leq 2, x_1 \\geq 0, x_2 \\geq 0 \\right\\}.$$"
   ]
  },
  {
   "cell_type": "markdown",
   "id": "ea42b5ca",
   "metadata": {},
   "source": [
    "Prepare first polyhedron 1 so that we can use it for testing each function. It must first be written in standard form."
   ]
  },
  {
   "cell_type": "markdown",
   "id": "e135f974",
   "metadata": {},
   "source": [
    "Provide the values of the matrix of the problem in standard form."
   ]
  },
  {
   "cell_type": "code",
   "execution_count": null,
   "id": "d8636992",
   "metadata": {},
   "outputs": [],
   "source": [
    "standard_a = ...\n",
    "print(standard_a)\n"
   ]
  },
  {
   "cell_type": "code",
   "execution_count": null,
   "id": "6a34533b",
   "metadata": {},
   "outputs": [],
   "source": [
    "n_constraints, n_variables = standard_a.shape\n",
    "print(f'{n_variables} variables, {n_constraints} constraints.')\n"
   ]
  },
  {
   "cell_type": "markdown",
   "id": "c963add9",
   "metadata": {},
   "source": [
    "Provide the values of the right-hand side of the problem in standard form."
   ]
  },
  {
   "cell_type": "code",
   "execution_count": null,
   "id": "5e1233cf",
   "metadata": {},
   "outputs": [],
   "source": [
    "standard_b = ...\n",
    "print(standard_b)\n"
   ]
  },
  {
   "cell_type": "markdown",
   "id": "000dafd5",
   "metadata": {},
   "source": [
    "Draw the polyhedron."
   ]
  },
  {
   "cell_type": "code",
   "execution_count": null,
   "id": "1ae7b58e",
   "metadata": {},
   "outputs": [],
   "source": [
    "draw_polyhedron_standard_form(matrix_a=standard_a, vector_b=standard_b)\n",
    "\n"
   ]
  },
  {
   "cell_type": "markdown",
   "id": "04612451",
   "metadata": {},
   "source": [
    "## Function that extracts and returns a basic matrix from the given constraint matrix\n",
    "Complete it by replacing the ...."
   ]
  },
  {
   "cell_type": "code",
   "execution_count": null,
   "id": "03e0f2e6",
   "metadata": {},
   "outputs": [],
   "source": [
    "def extract_basic_matrix(\n",
    "    constraint_matrix: np.ndarray, basic_indices: list[int]\n",
    ") -> np.ndarray:\n",
    "    \"\"\"\n",
    "    Extracts and returns a basic matrix from the given constraint matrix\n",
    "    using the specified basic indices.\n",
    "\n",
    "    :param constraint_matrix: A numpy ndarray representing the constraint matrix.\n",
    "    :param basic_indices: A list of integers representing the column indices to form the basis.\n",
    "    :return: A numpy ndarray representing the basic matrix.\n",
    "    \"\"\"\n",
    "    n_rows, n_columns = constraint_matrix.shape\n",
    "    # Verify that the number of indices matches the number of rows in the matrix.\n",
    "    if len(basic_indices) != n_rows:\n",
    "        raise ValueError(\n",
    "            f'The number of basic indices [{len(basic_indices)}] must match the number of '\n",
    "            f'rows in the matrix [{n_rows}].'\n",
    "        )\n",
    "\n",
    "    # Verify each index is a valid column index of the matrix.\n",
    "    max_index = n_columns - 1\n",
    "    if not all(0 <= index <= max_index for index in basic_indices):\n",
    "        raise ValueError(\n",
    "            'One or more indices are out of the valid column index range of the matrix.'\n",
    "        )\n",
    "\n",
    "    # Extract the columns corresponding to the indices, in the provided order.\n",
    "    basis = ...\n",
    "\n",
    "    # Return the resulting square matrix.\n",
    "    return basis\n",
    "\n"
   ]
  },
  {
   "cell_type": "markdown",
   "id": "2c413259",
   "metadata": {},
   "source": [
    "Test the function on the example. Remember that, in Python, the numbering starts at 0."
   ]
  },
  {
   "cell_type": "code",
   "execution_count": null,
   "id": "84a0f9c4",
   "metadata": {},
   "outputs": [],
   "source": [
    "print(standard_a)\n",
    "\n",
    "basic_indices_1 = [0, 1]"
   ]
  },
  {
   "cell_type": "markdown",
   "id": "4271fc98",
   "metadata": {},
   "source": [
    "Expected result: $$\\begin{pmatrix} -1 & -1 \\\\ 1 & 1 \\end{pmatrix}.$$"
   ]
  },
  {
   "cell_type": "code",
   "execution_count": null,
   "id": "fecabe2a",
   "metadata": {},
   "outputs": [],
   "source": [
    "\n",
    "basic_matrix_1 = extract_basic_matrix(\n",
    "    constraint_matrix=standard_a, basic_indices=basic_indices_1\n",
    ")\n",
    "print(basic_matrix_1)\n"
   ]
  },
  {
   "cell_type": "markdown",
   "id": "dbf5f6e4",
   "metadata": {},
   "source": [
    "Test the function with a different set of indices. Note the order..."
   ]
  },
  {
   "cell_type": "code",
   "execution_count": null,
   "id": "1d712afb",
   "metadata": {},
   "outputs": [],
   "source": [
    "basic_indices_2 = [3, 2]"
   ]
  },
  {
   "cell_type": "markdown",
   "id": "b1f02099",
   "metadata": {},
   "source": [
    "Expected result: $$\\begin{pmatrix} 0 & 1 \\\\ 1 & 0 \\end{pmatrix}.$$"
   ]
  },
  {
   "cell_type": "code",
   "execution_count": null,
   "id": "8ed870e8",
   "metadata": {},
   "outputs": [],
   "source": [
    "\n",
    "basic_matrix_2 = extract_basic_matrix(\n",
    "    constraint_matrix=standard_a, basic_indices=basic_indices_2\n",
    ")\n",
    "print(basic_matrix_2)\n",
    "\n"
   ]
  },
  {
   "cell_type": "markdown",
   "id": "efbd0db8",
   "metadata": {},
   "source": [
    "## Function that calculates the basic variables by solving the system $B x_B = b$.\n",
    "Complete it by replacing the ...."
   ]
  },
  {
   "cell_type": "code",
   "execution_count": null,
   "id": "1a1b3e6b",
   "metadata": {},
   "outputs": [],
   "source": [
    "def calculate_basic_variables(\n",
    "    basic_matrix: np.ndarray, right_hand_side: np.ndarray\n",
    ") -> np.ndarray | None:\n",
    "    \"\"\"\n",
    "    Solves the system $B x_B = b$.\n",
    "\n",
    "    :param basic_matrix: matrix $B$.\n",
    "    :param right_hand_side: vector $b$.\n",
    "    :return: if the system has a solution, returns $x_B$. If not, returns None.\n",
    "    \"\"\"\n",
    "    # Check if the basic matrix is square\n",
    "    n_rows, n_columns = basic_matrix.shape\n",
    "    if n_rows != n_columns:\n",
    "        raise ValueError(\n",
    "            f'The basic matrix must be square, and not {n_rows} x {n_columns}.'\n",
    "        )\n",
    "\n",
    "    # Check if the length of the right-hand side matches the dimensions of the matrix\n",
    "    if n_rows != len(right_hand_side):\n",
    "        raise ValueError(\n",
    "            f'The length of the right-hand side [{len(right_hand_side)}] must match '\n",
    "            f'the dimensions of the matrix [{n_rows}].'\n",
    "        )\n",
    "\n",
    "    # Solve the system B x_B = b, if possible, using `np.linalg.solve`.\n",
    "\n",
    "    ...\n",
    "\n",
    "\n",
    "\n",
    "\n",
    "\n",
    "\n"
   ]
  },
  {
   "cell_type": "markdown",
   "id": "2532a17a",
   "metadata": {},
   "source": [
    "Test the function. Expected result: None."
   ]
  },
  {
   "cell_type": "code",
   "execution_count": null,
   "id": "59a5495b",
   "metadata": {},
   "outputs": [],
   "source": [
    "basic_variables_1 = calculate_basic_variables(\n",
    "    basic_matrix=basic_matrix_1, right_hand_side=standard_b\n",
    ")\n",
    "print(basic_variables_1)\n",
    "\n",
    "\n",
    "\n",
    "\n",
    "\n",
    "\n",
    "\n",
    "\n"
   ]
  },
  {
   "cell_type": "markdown",
   "id": "acbfff35",
   "metadata": {},
   "source": [
    "Test again the function. Expected result: $$\\left(\\begin{array}{c}2 \\\\ -1 \\end{array}\\right).$$"
   ]
  },
  {
   "cell_type": "code",
   "execution_count": null,
   "id": "509afd8f",
   "metadata": {},
   "outputs": [],
   "source": [
    "basic_variables_2 = calculate_basic_variables(\n",
    "    basic_matrix=basic_matrix_2, right_hand_side=standard_b\n",
    ")\n",
    "print(basic_variables_2)\n",
    "\n"
   ]
  },
  {
   "cell_type": "markdown",
   "id": "f8c7669b",
   "metadata": {},
   "source": [
    "## Function that checks if the basic variables $x_B$ are feasible.\n",
    "Complete it by replacing the ...."
   ]
  },
  {
   "cell_type": "code",
   "execution_count": null,
   "id": "ef72e887",
   "metadata": {},
   "outputs": [],
   "source": [
    "def check_feasibility(basic_variables: np.ndarray) -> bool:\n",
    "    \"\"\"\n",
    "    Check if the basic variables $x_B$ are feasible.\n",
    "\n",
    "    :param basic_variables: basic variables $x_B$.\n",
    "    :return: True if feasible. False otherwise,\n",
    "    \"\"\"\n",
    "    is_feasible: bool = ...\n",
    "    return is_feasible\n",
    "\n"
   ]
  },
  {
   "cell_type": "markdown",
   "id": "3390eaf5",
   "metadata": {},
   "source": [
    "Test the function. Expected result: False"
   ]
  },
  {
   "cell_type": "code",
   "execution_count": null,
   "id": "12eee342",
   "metadata": {},
   "outputs": [],
   "source": [
    "is_basis_2_feasible = check_feasibility(basic_variables=basic_variables_2)\n",
    "print(is_basis_2_feasible)\n",
    "\n"
   ]
  },
  {
   "cell_type": "markdown",
   "id": "c5ebf229",
   "metadata": {},
   "source": [
    "## Function that checks if the basic variables $x_B$ are degenerate.\n",
    "Complete it by replacing the ...."
   ]
  },
  {
   "cell_type": "code",
   "execution_count": null,
   "id": "18468e32",
   "metadata": {},
   "outputs": [],
   "source": [
    "def check_degeneracy(basic_variables: np.ndarray) -> bool:\n",
    "    \"\"\"\n",
    "    Check if the basic variables $x_B$ are degenerate.\n",
    "\n",
    "    :param basic_variables: basic variables $x_B$.\n",
    "    :return: True if degenerate. False otherwise,\n",
    "    \"\"\"\n",
    "    is_degenerate: bool = ...\n",
    "\n",
    "\n",
    "    return is_degenerate\n",
    "\n"
   ]
  },
  {
   "cell_type": "markdown",
   "id": "36c7e428",
   "metadata": {},
   "source": [
    "Test the function. Expected result: False"
   ]
  },
  {
   "cell_type": "code",
   "execution_count": null,
   "id": "0fc0be26",
   "metadata": {},
   "outputs": [],
   "source": [
    "is_basis_2_degenerate = check_degeneracy(basic_variables=basic_variables_2)\n",
    "print(is_basis_2_degenerate)\n",
    "\n"
   ]
  },
  {
   "cell_type": "markdown",
   "id": "4c6e0c78",
   "metadata": {},
   "source": [
    "## Function that builds the vector in the full space.\n",
    "In a space of dimension $n$, we have a vector $x_B$ of basic variables of dimension $m \\leq n$, identified\n",
    "by their indices. This function builds the vector in dimension $n$ where all non basic variables are zero.\n",
    "Complete it by replacing the ...."
   ]
  },
  {
   "cell_type": "code",
   "execution_count": null,
   "id": "4693270f",
   "metadata": {},
   "outputs": [],
   "source": [
    "def build_solution(\n",
    "    number_of_variables: int, basic_variables: np.ndarray, basic_indices: Iterable[int]\n",
    ") -> np.ndarray:\n",
    "    \"\"\"\n",
    "    Builds the vector in dimension n where all non basic variables are zero.\n",
    "\n",
    "    :param number_of_variables: dimension n.\n",
    "    :param basic_variables: vector of basic variables.\n",
    "    :param basic_indices: indices of basic variables in the space of dimension n.\n",
    "    :return: complete solution.\n",
    "    \"\"\"\n",
    "    # Check that the number of basic variables is less or equal to n\n",
    "    basic_indices = list(basic_indices)\n",
    "    if len(basic_variables) > number_of_variables:\n",
    "        raise ValueError(\n",
    "            f'The number of basic variables [{len(basic_variables)}] must be less than or equal '\n",
    "            f'to the dimension [{number_of_variables}].'\n",
    "        )\n",
    "\n",
    "    # Check that the two vectors have the same dimension\n",
    "    if len(basic_variables) != len(basic_indices):\n",
    "        raise ValueError(\n",
    "            f'The dimensions of the basic variables [{len(basic_variables)}] and their '\n",
    "            f'indices [{len(basic_indices)}] must match.'\n",
    "        )\n",
    "\n",
    "    # Check that all indices are valid\n",
    "    if not all(0 <= index < number_of_variables for index in basic_indices):\n",
    "        raise ValueError('All indices must be valid, that is between 0 and n-1.')\n",
    "\n",
    "\n",
    "    complete_solution = ...\n",
    "\n",
    "\n",
    "    complete_solution[basic_indices] = basic_variables\n",
    "\n",
    "    return complete_solution\n",
    "\n"
   ]
  },
  {
   "cell_type": "markdown",
   "id": "1022d9e7",
   "metadata": {},
   "source": [
    "Test the function. Expected result: $$\\left(\\begin{array}{c}0 \\\\ 0  \\\\ -1 \\\\ 2 \\end{array}\\right).$$"
   ]
  },
  {
   "cell_type": "code",
   "execution_count": null,
   "id": "2f94ecbc",
   "metadata": {},
   "outputs": [],
   "source": [
    "\n",
    "solution_2 = build_solution(\n",
    "    number_of_variables=n_variables,\n",
    "    basic_variables=basic_variables_2,\n",
    "    basic_indices=basic_indices_2,\n",
    ")\n",
    "print(solution_2)\n",
    "\n"
   ]
  },
  {
   "cell_type": "markdown",
   "id": "d4ea2ccc",
   "metadata": {},
   "source": [
    "## Function that calls all the previous ones to obtain a basic solution.\n",
    "Nothing to be completed."
   ]
  },
  {
   "cell_type": "code",
   "execution_count": null,
   "id": "7970d952",
   "metadata": {},
   "outputs": [],
   "source": [
    "def calculate_basic_solution(\n",
    "    constraint_matrix: np.ndarray, right_hand_side: np.ndarray, basic_indices: list[int]\n",
    ") -> tuple[np.ndarray | None, bool, bool]:\n",
    "    \"\"\"\n",
    "    Consider a polyhedron in standard form characterized by the $m \\times n$ matrix $A$ and the vector $b$.\n",
    "    Given the list of indices of basic variables, calculate the basic solution in standard form, and check feasibility.\n",
    "\n",
    "    :param constraint_matrix: matrix $A$.\n",
    "    :param right_hand_side: vector $b$.\n",
    "    :param basic_indices: list of indices of basic variables.\n",
    "    :return: the basic vector (or None if it does not exist),  its feasibility status, and its degeneracy status.\n",
    "    \"\"\"\n",
    "    n_rows, n_columns = constraint_matrix.shape\n",
    "\n",
    "    # Check the matrix is m x n such that n >= m\n",
    "    if n_columns < n_rows:\n",
    "        raise ValueError(\n",
    "            f'Validation failed: The number of columns [{n_columns}] must be greater than or '\n",
    "            f'equal to the number of rows [{n_rows}].'\n",
    "        )\n",
    "\n",
    "    # Check the vector has m elements\n",
    "    if len(right_hand_side) != n_rows:\n",
    "        raise ValueError(\n",
    "            f'The rhs must have the same number of elements as there are rows in the '\n",
    "            f'matrix [{len(right_hand_side)} != {n_rows}].'\n",
    "        )\n",
    "\n",
    "    # Check the list of indices\n",
    "    if len(basic_indices) != n_rows:\n",
    "        raise ValueError(\n",
    "            f'The list of indices must be of the same length as there are rows in the '\n",
    "            f'matrix [{len(basic_indices)} != {n_rows}].'\n",
    "        )\n",
    "\n",
    "    # Check all indices are between 0 and n-1\n",
    "    if not all(0 <= index < n_columns for index in basic_indices):\n",
    "        raise ValueError(\n",
    "            f'Validation failed: All indices must be between 0 and {n_columns-1}.'\n",
    "        )\n",
    "\n",
    "    # Extract the basic matrix\n",
    "    the_basic_matrix: np.ndarray = extract_basic_matrix(\n",
    "        constraint_matrix=constraint_matrix, basic_indices=basic_indices\n",
    "    )\n",
    "\n",
    "    # Calculate the basic variables\n",
    "    the_basic_variables: np.ndarray | None = calculate_basic_variables(\n",
    "        basic_matrix=the_basic_matrix, right_hand_side=right_hand_side\n",
    "    )\n",
    "\n",
    "    # Check if the basic solution exists.\n",
    "    if the_basic_variables is None:\n",
    "        # The is no basic solution.\n",
    "        return None, False, False\n",
    "\n",
    "    feasibility: bool = check_feasibility(basic_variables=the_basic_variables)\n",
    "    degeneracy: bool = check_degeneracy(basic_variables=the_basic_variables)\n",
    "\n",
    "    the_basic_solution: np.ndarray = build_solution(\n",
    "        number_of_variables=n_columns,\n",
    "        basic_variables=the_basic_variables,\n",
    "        basic_indices=basic_indices,\n",
    "    )\n",
    "\n",
    "    return the_basic_solution, feasibility, degeneracy\n",
    "\n"
   ]
  },
  {
   "cell_type": "markdown",
   "id": "ed7796b8",
   "metadata": {},
   "source": [
    "We test the function on all possible bases."
   ]
  },
  {
   "cell_type": "markdown",
   "id": "7b1b211d",
   "metadata": {},
   "source": [
    "We need to consider all combinations of basic variables."
   ]
  },
  {
   "cell_type": "code",
   "execution_count": null,
   "id": "72e101fd",
   "metadata": {},
   "outputs": [],
   "source": [
    "all_bases: list[int] = list(combinations(range(n_variables), n_constraints))\n",
    "print(f'There are {len(all_bases)} potential bases.')\n",
    "\n"
   ]
  },
  {
   "cell_type": "markdown",
   "id": "642eb6bf",
   "metadata": {},
   "source": [
    "To avoid repeating the code, we define a function that performs the analysis and the reporting for a given\n",
    "list of indices."
   ]
  },
  {
   "cell_type": "code",
   "execution_count": null,
   "id": "c7d040e2",
   "metadata": {},
   "outputs": [],
   "source": [
    "def print_info(basic_indices: Iterable[int] | int) -> np.ndarray:\n",
    "    \"\"\"Print the information related to the list of indices.\n",
    "\n",
    "    :param basic_indices: list of basic indices.\n",
    "    :return: the basic solution\n",
    "    \"\"\"\n",
    "    basic_solution, feasible, degenerate = calculate_basic_solution(\n",
    "        constraint_matrix=standard_a,\n",
    "        right_hand_side=standard_b,\n",
    "        basic_indices=list(basic_indices),\n",
    "    )\n",
    "    print(f' *** Basic indices: {basic_indices}')\n",
    "    if basic_solution is None:\n",
    "        print('No basic solution')\n",
    "    else:\n",
    "        feasible_text = '[feasible]' if feasible else '[non feasible]'\n",
    "        degenerate_text = '[degenerate]' if degenerate else '[not degenerate]'\n",
    "        print(f'Basic solution: {basic_solution} {feasible_text} {degenerate_text}')\n",
    "    return basic_solution\n",
    "\n"
   ]
  },
  {
   "cell_type": "markdown",
   "id": "f03b10b7",
   "metadata": {},
   "source": [
    "## For each potential base below, verify that the outcome of the function is correct."
   ]
  },
  {
   "cell_type": "markdown",
   "id": "c8a0e55d",
   "metadata": {},
   "source": [
    "### Potential base number 0"
   ]
  },
  {
   "cell_type": "code",
   "execution_count": null,
   "id": "e8772b7b",
   "metadata": {},
   "outputs": [],
   "source": [
    "basic_indices_0 = all_bases[0]\n",
    "basic_solution_0 = print_info(basic_indices_0)\n"
   ]
  },
  {
   "cell_type": "markdown",
   "id": "cb18068e",
   "metadata": {},
   "source": [
    "Plot the vertex"
   ]
  },
  {
   "cell_type": "code",
   "execution_count": null,
   "id": "d9b403df",
   "metadata": {},
   "outputs": [],
   "source": [
    "if basic_solution_0 is not None:\n",
    "    draw_polyhedron_standard_form(\n",
    "        matrix_a=standard_a,\n",
    "        vector_b=standard_b,\n",
    "        points=[LabeledPoint(coordinates=basic_solution_0)],\n",
    "    )\n"
   ]
  },
  {
   "cell_type": "markdown",
   "id": "ea23193b",
   "metadata": {},
   "source": [
    "### Potential base number 1"
   ]
  },
  {
   "cell_type": "code",
   "execution_count": null,
   "id": "12b3ab8b",
   "metadata": {},
   "outputs": [],
   "source": [
    "basic_indices_1 = all_bases[1]\n",
    "basic_solution_1 = print_info(basic_indices_1)\n"
   ]
  },
  {
   "cell_type": "markdown",
   "id": "996f73b2",
   "metadata": {},
   "source": [
    "Plot the vertex"
   ]
  },
  {
   "cell_type": "code",
   "execution_count": null,
   "id": "29e4c215",
   "metadata": {},
   "outputs": [],
   "source": [
    "if basic_solution_1 is not None:\n",
    "    draw_polyhedron_standard_form(\n",
    "        matrix_a=standard_a,\n",
    "        vector_b=standard_b,\n",
    "        points=[LabeledPoint(coordinates=basic_solution_1)],\n",
    "    )\n"
   ]
  },
  {
   "cell_type": "markdown",
   "id": "39bed595",
   "metadata": {},
   "source": [
    "### Potential base number 2"
   ]
  },
  {
   "cell_type": "code",
   "execution_count": null,
   "id": "446dab20",
   "metadata": {},
   "outputs": [],
   "source": [
    "basic_indices_2 = all_bases[2]\n",
    "basic_solution_2 = print_info(basic_indices_2)\n"
   ]
  },
  {
   "cell_type": "markdown",
   "id": "53b2fba7",
   "metadata": {},
   "source": [
    "Plot the vertex"
   ]
  },
  {
   "cell_type": "code",
   "execution_count": null,
   "id": "ad459ce3",
   "metadata": {},
   "outputs": [],
   "source": [
    "if basic_solution_2 is not None:\n",
    "    draw_polyhedron_standard_form(\n",
    "        matrix_a=standard_a,\n",
    "        vector_b=standard_b,\n",
    "        points=[LabeledPoint(coordinates=basic_solution_2)],\n",
    "    )"
   ]
  },
  {
   "cell_type": "markdown",
   "id": "4c35bb64",
   "metadata": {},
   "source": [
    "### Potential base number 3"
   ]
  },
  {
   "cell_type": "code",
   "execution_count": null,
   "id": "80298d4a",
   "metadata": {},
   "outputs": [],
   "source": [
    "basic_indices_3 = all_bases[3]\n",
    "basic_solution_3 = print_info(basic_indices_3)\n"
   ]
  },
  {
   "cell_type": "markdown",
   "id": "618efad3",
   "metadata": {},
   "source": [
    "Plot the vertex"
   ]
  },
  {
   "cell_type": "code",
   "execution_count": null,
   "id": "9dc3c68b",
   "metadata": {},
   "outputs": [],
   "source": [
    "if basic_solution_3 is not None:\n",
    "    draw_polyhedron_standard_form(\n",
    "        matrix_a=standard_a,\n",
    "        vector_b=standard_b,\n",
    "        points=[LabeledPoint(coordinates=basic_solution_3)],\n",
    "    )"
   ]
  },
  {
   "cell_type": "markdown",
   "id": "e28ca4e8",
   "metadata": {},
   "source": [
    "### Potential base number 4"
   ]
  },
  {
   "cell_type": "code",
   "execution_count": null,
   "id": "267c923c",
   "metadata": {},
   "outputs": [],
   "source": [
    "basic_indices_4 = all_bases[4]\n",
    "basic_solution_4 = print_info(basic_indices_4)\n"
   ]
  },
  {
   "cell_type": "markdown",
   "id": "328a92cb",
   "metadata": {},
   "source": [
    "Plot the vertex"
   ]
  },
  {
   "cell_type": "code",
   "execution_count": null,
   "id": "e2e2438d",
   "metadata": {},
   "outputs": [],
   "source": [
    "if basic_solution_4 is not None:\n",
    "    draw_polyhedron_standard_form(\n",
    "        matrix_a=standard_a,\n",
    "        vector_b=standard_b,\n",
    "        points=[LabeledPoint(coordinates=basic_solution_4)],\n",
    "    )"
   ]
  },
  {
   "cell_type": "markdown",
   "id": "b8db53bf",
   "metadata": {},
   "source": [
    "### Potential base number 5"
   ]
  },
  {
   "cell_type": "code",
   "execution_count": null,
   "id": "701dc01c",
   "metadata": {},
   "outputs": [],
   "source": [
    "basic_indices_5 = all_bases[5]\n",
    "basic_solution_5 = print_info(basic_indices_5)\n"
   ]
  },
  {
   "cell_type": "markdown",
   "id": "a9251e83",
   "metadata": {},
   "source": [
    "Plot the vertex"
   ]
  },
  {
   "cell_type": "code",
   "execution_count": null,
   "id": "23a623ea",
   "metadata": {},
   "outputs": [],
   "source": [
    "if basic_solution_5 is not None:\n",
    "    draw_polyhedron_standard_form(\n",
    "        matrix_a=standard_a,\n",
    "        vector_b=standard_b,\n",
    "        points=[LabeledPoint(coordinates=basic_solution_5)],\n",
    "    )\n",
    "\n",
    "\n",
    "\n"
   ]
  },
  {
   "cell_type": "markdown",
   "id": "63a0bd37",
   "metadata": {},
   "source": [
    "## Polyhedron 2\n",
    "$$P = \\left\\{\n",
    "\\begin{pmatrix}\n",
    "x_1\\\\\n",
    "x_2\n",
    "\\end{pmatrix}\\in \\mathbb{R}^2\n",
    "| x_1 + x_2 \\leq 1, 3 x_1 + 10 x_2 \\leq 15, x_1 \\geq 0, x_2 \\geq 0 \\right\\}.$$"
   ]
  },
  {
   "cell_type": "markdown",
   "id": "71c80d76",
   "metadata": {},
   "source": [
    "Data in standard form."
   ]
  },
  {
   "cell_type": "code",
   "execution_count": null,
   "id": "d3ab3637",
   "metadata": {},
   "outputs": [],
   "source": [
    "standard_a = ...\n",
    "standard_b = ...\n"
   ]
  },
  {
   "cell_type": "code",
   "execution_count": null,
   "id": "c9f7fa4e",
   "metadata": {},
   "outputs": [],
   "source": [
    "n_constraints, n_variables = standard_a.shape\n",
    "print(f'{n_variables} variables, {n_constraints} constraints.')\n"
   ]
  },
  {
   "cell_type": "markdown",
   "id": "b58737c7",
   "metadata": {},
   "source": [
    "Draw the polyhedron. We specify the bounding box in order to display all bases, even the unfeasible ones."
   ]
  },
  {
   "cell_type": "code",
   "execution_count": null,
   "id": "f66dc071",
   "metadata": {},
   "outputs": [],
   "source": [
    "bounding_box = BoundingBox(x_min=-1.5, x_max=5.5, y_min=-0.5, y_max=2)\n",
    "draw_polyhedron_standard_form(\n",
    "    matrix_a=standard_a, vector_b=standard_b, bounding_box=bounding_box\n",
    ")"
   ]
  },
  {
   "cell_type": "markdown",
   "id": "4e0e38f0",
   "metadata": {},
   "source": [
    "We test the function on all possible bases."
   ]
  },
  {
   "cell_type": "markdown",
   "id": "4fcd73ee",
   "metadata": {},
   "source": [
    "We need to consider all combinations of basic variables."
   ]
  },
  {
   "cell_type": "code",
   "execution_count": null,
   "id": "1f1ffc70",
   "metadata": {},
   "outputs": [],
   "source": [
    "all_bases = list(combinations(range(n_variables), n_constraints))\n",
    "print(f'There are {len(all_bases)} potential bases.')\n"
   ]
  },
  {
   "cell_type": "markdown",
   "id": "63e34295",
   "metadata": {},
   "source": [
    "## For each potential base below, verify that the outcome of the function is correct."
   ]
  },
  {
   "cell_type": "markdown",
   "id": "06c4be78",
   "metadata": {},
   "source": [
    "### Potential base number 0"
   ]
  },
  {
   "cell_type": "code",
   "execution_count": null,
   "id": "e3ef6087",
   "metadata": {},
   "outputs": [],
   "source": [
    "basic_indices_0 = all_bases[0]\n",
    "basic_solution_0 = print_info(basic_indices_0)\n"
   ]
  },
  {
   "cell_type": "markdown",
   "id": "bc22dbc0",
   "metadata": {},
   "source": [
    "Plot the vertex"
   ]
  },
  {
   "cell_type": "code",
   "execution_count": null,
   "id": "d5c243c2",
   "metadata": {},
   "outputs": [],
   "source": [
    "if basic_solution_0 is not None:\n",
    "    draw_polyhedron_standard_form(\n",
    "        matrix_a=standard_a,\n",
    "        vector_b=standard_b,\n",
    "        bounding_box=bounding_box,\n",
    "        points=[LabeledPoint(coordinates=basic_solution_0)],\n",
    "    )\n"
   ]
  },
  {
   "cell_type": "markdown",
   "id": "f17177c3",
   "metadata": {},
   "source": [
    "### Potential base number 1"
   ]
  },
  {
   "cell_type": "code",
   "execution_count": null,
   "id": "30844578",
   "metadata": {},
   "outputs": [],
   "source": [
    "basic_indices_1 = all_bases[1]\n",
    "basic_solution_1 = print_info(basic_indices_1)\n"
   ]
  },
  {
   "cell_type": "markdown",
   "id": "3c79abcf",
   "metadata": {},
   "source": [
    "Plot the vertex"
   ]
  },
  {
   "cell_type": "code",
   "execution_count": null,
   "id": "2c7fc540",
   "metadata": {},
   "outputs": [],
   "source": [
    "if basic_solution_1 is not None:\n",
    "    draw_polyhedron_standard_form(\n",
    "        matrix_a=standard_a,\n",
    "        vector_b=standard_b,\n",
    "        bounding_box=bounding_box,\n",
    "        points=[LabeledPoint(coordinates=basic_solution_1)],\n",
    "    )\n"
   ]
  },
  {
   "cell_type": "markdown",
   "id": "f531548b",
   "metadata": {},
   "source": [
    "### Potential base number 2"
   ]
  },
  {
   "cell_type": "code",
   "execution_count": null,
   "id": "a9125e76",
   "metadata": {},
   "outputs": [],
   "source": [
    "basic_indices_2 = all_bases[2]\n",
    "basic_solution_2 = print_info(basic_indices_2)\n"
   ]
  },
  {
   "cell_type": "markdown",
   "id": "1df21757",
   "metadata": {},
   "source": [
    "Plot the vertex"
   ]
  },
  {
   "cell_type": "code",
   "execution_count": null,
   "id": "2ea20248",
   "metadata": {},
   "outputs": [],
   "source": [
    "if basic_solution_2 is not None:\n",
    "    draw_polyhedron_standard_form(\n",
    "        matrix_a=standard_a,\n",
    "        vector_b=standard_b,\n",
    "        bounding_box=bounding_box,\n",
    "        points=[LabeledPoint(coordinates=basic_solution_2)],\n",
    "    )"
   ]
  },
  {
   "cell_type": "markdown",
   "id": "e07af9ce",
   "metadata": {},
   "source": [
    "### Potential base number 3"
   ]
  },
  {
   "cell_type": "code",
   "execution_count": null,
   "id": "2c7bd3c2",
   "metadata": {},
   "outputs": [],
   "source": [
    "basic_indices_3 = all_bases[3]\n",
    "basic_solution_3 = print_info(basic_indices_3)\n"
   ]
  },
  {
   "cell_type": "markdown",
   "id": "fa99572d",
   "metadata": {},
   "source": [
    "Plot the vertex"
   ]
  },
  {
   "cell_type": "code",
   "execution_count": null,
   "id": "95a8d377",
   "metadata": {},
   "outputs": [],
   "source": [
    "if basic_solution_3 is not None:\n",
    "    draw_polyhedron_standard_form(\n",
    "        matrix_a=standard_a,\n",
    "        vector_b=standard_b,\n",
    "        bounding_box=bounding_box,\n",
    "        points=[LabeledPoint(coordinates=basic_solution_3)],\n",
    "    )"
   ]
  },
  {
   "cell_type": "markdown",
   "id": "649d8bea",
   "metadata": {},
   "source": [
    "### Potential base number 4"
   ]
  },
  {
   "cell_type": "code",
   "execution_count": null,
   "id": "b03fb102",
   "metadata": {},
   "outputs": [],
   "source": [
    "basic_indices_4 = all_bases[4]\n",
    "basic_solution_4 = print_info(basic_indices_4)\n"
   ]
  },
  {
   "cell_type": "markdown",
   "id": "ecf0134d",
   "metadata": {},
   "source": [
    "Plot the vertex"
   ]
  },
  {
   "cell_type": "code",
   "execution_count": null,
   "id": "40650f7b",
   "metadata": {},
   "outputs": [],
   "source": [
    "if basic_solution_4 is not None:\n",
    "    draw_polyhedron_standard_form(\n",
    "        matrix_a=standard_a,\n",
    "        vector_b=standard_b,\n",
    "        bounding_box=bounding_box,\n",
    "        points=[LabeledPoint(coordinates=basic_solution_4)],\n",
    "    )"
   ]
  },
  {
   "cell_type": "markdown",
   "id": "ae291c89",
   "metadata": {},
   "source": [
    "### Potential base number 5"
   ]
  },
  {
   "cell_type": "code",
   "execution_count": null,
   "id": "89e5c899",
   "metadata": {},
   "outputs": [],
   "source": [
    "basic_indices_5 = all_bases[5]\n",
    "basic_solution_5 = print_info(basic_indices_5)\n"
   ]
  },
  {
   "cell_type": "markdown",
   "id": "74a2ece5",
   "metadata": {},
   "source": [
    "Plot the vertex"
   ]
  },
  {
   "cell_type": "code",
   "execution_count": null,
   "id": "7e2cc648",
   "metadata": {},
   "outputs": [],
   "source": [
    "if basic_solution_5 is not None:\n",
    "    draw_polyhedron_standard_form(\n",
    "        matrix_a=standard_a,\n",
    "        vector_b=standard_b,\n",
    "        bounding_box=bounding_box,\n",
    "        points=[LabeledPoint(coordinates=basic_solution_5)],\n",
    "    )\n",
    "\n",
    "\n"
   ]
  },
  {
   "cell_type": "markdown",
   "id": "d3e7b0f3",
   "metadata": {},
   "source": [
    "## Polyhedron 3\n",
    "$$ P = \\left\\{\n",
    "\\begin{pmatrix}\n",
    "x_1\\\\\n",
    "x_2\n",
    "\\end{pmatrix} \\in \\mathbb{R}^2\n",
    "| x_1+x_2 \\leq 1,\n",
    "-x_1+2x_2 \\leq 2, x_1 \\geq 0, x_2 \\geq 0 \\right\\}.$$"
   ]
  },
  {
   "cell_type": "markdown",
   "id": "df16cbc5",
   "metadata": {},
   "source": [
    "Data in standard form."
   ]
  },
  {
   "cell_type": "code",
   "execution_count": null,
   "id": "801ed3af",
   "metadata": {},
   "outputs": [],
   "source": [
    "standard_a = ...\n",
    "standard_b = ...\n"
   ]
  },
  {
   "cell_type": "code",
   "execution_count": null,
   "id": "779de31b",
   "metadata": {},
   "outputs": [],
   "source": [
    "n_constraints, n_variables = standard_a.shape\n",
    "print(f'{n_variables} variables, {n_constraints} constraints.')\n"
   ]
  },
  {
   "cell_type": "markdown",
   "id": "060786ec",
   "metadata": {},
   "source": [
    "Draw the polyhedron. We specify the bounding box in order to display all bases, even the unfeasible ones."
   ]
  },
  {
   "cell_type": "code",
   "execution_count": null,
   "id": "c9af2491",
   "metadata": {},
   "outputs": [],
   "source": [
    "bounding_box = BoundingBox(x_min=-2.5, x_max=1.5, y_min=-0.5, y_max=1.5)\n",
    "draw_polyhedron_standard_form(\n",
    "    matrix_a=standard_a, vector_b=standard_b, bounding_box=bounding_box\n",
    ")"
   ]
  },
  {
   "cell_type": "markdown",
   "id": "d9b895d7",
   "metadata": {},
   "source": [
    "We test the function on all possible bases."
   ]
  },
  {
   "cell_type": "markdown",
   "id": "667d73b4",
   "metadata": {},
   "source": [
    "We need to consider all combinations of basic variables."
   ]
  },
  {
   "cell_type": "code",
   "execution_count": null,
   "id": "ab2ce95e",
   "metadata": {},
   "outputs": [],
   "source": [
    "all_bases = list(combinations(range(n_variables), n_constraints))\n",
    "print(f'There are {len(all_bases)} potential bases.')\n"
   ]
  },
  {
   "cell_type": "markdown",
   "id": "5a835e45",
   "metadata": {},
   "source": [
    "## For each potential base below, verify that the outcome of the function is correct."
   ]
  },
  {
   "cell_type": "markdown",
   "id": "4799e7b6",
   "metadata": {},
   "source": [
    "### Potential base number 0"
   ]
  },
  {
   "cell_type": "code",
   "execution_count": null,
   "id": "b3c736f3",
   "metadata": {},
   "outputs": [],
   "source": [
    "basic_indices_0 = all_bases[0]\n",
    "basic_solution_0 = print_info(basic_indices_0)\n"
   ]
  },
  {
   "cell_type": "markdown",
   "id": "c2518408",
   "metadata": {},
   "source": [
    "Plot the vertex"
   ]
  },
  {
   "cell_type": "code",
   "execution_count": null,
   "id": "fc00efb0",
   "metadata": {},
   "outputs": [],
   "source": [
    "if basic_solution_0 is not None:\n",
    "    draw_polyhedron_standard_form(\n",
    "        matrix_a=standard_a,\n",
    "        vector_b=standard_b,\n",
    "        bounding_box=bounding_box,\n",
    "        points=[LabeledPoint(coordinates=basic_solution_0)],\n",
    "    )\n"
   ]
  },
  {
   "cell_type": "markdown",
   "id": "9cf595d8",
   "metadata": {},
   "source": [
    "### Potential base number 1"
   ]
  },
  {
   "cell_type": "code",
   "execution_count": null,
   "id": "fb9f6613",
   "metadata": {},
   "outputs": [],
   "source": [
    "basic_indices_1 = all_bases[1]\n",
    "basic_solution_1 = print_info(basic_indices_1)\n"
   ]
  },
  {
   "cell_type": "markdown",
   "id": "1a040480",
   "metadata": {},
   "source": [
    "Plot the vertex"
   ]
  },
  {
   "cell_type": "code",
   "execution_count": null,
   "id": "59292262",
   "metadata": {},
   "outputs": [],
   "source": [
    "if basic_solution_1 is not None:\n",
    "    draw_polyhedron_standard_form(\n",
    "        matrix_a=standard_a,\n",
    "        vector_b=standard_b,\n",
    "        bounding_box=bounding_box,\n",
    "        points=[LabeledPoint(coordinates=basic_solution_1)],\n",
    "    )\n"
   ]
  },
  {
   "cell_type": "markdown",
   "id": "e3240e9e",
   "metadata": {},
   "source": [
    "### Potential base number 2"
   ]
  },
  {
   "cell_type": "code",
   "execution_count": null,
   "id": "a9ce8150",
   "metadata": {},
   "outputs": [],
   "source": [
    "basic_indices_2 = all_bases[2]\n",
    "basic_solution_2 = print_info(basic_indices_2)\n"
   ]
  },
  {
   "cell_type": "markdown",
   "id": "f589a985",
   "metadata": {},
   "source": [
    "Plot the vertex"
   ]
  },
  {
   "cell_type": "code",
   "execution_count": null,
   "id": "27c9b6fb",
   "metadata": {},
   "outputs": [],
   "source": [
    "if basic_solution_2 is not None:\n",
    "    draw_polyhedron_standard_form(\n",
    "        matrix_a=standard_a,\n",
    "        vector_b=standard_b,\n",
    "        bounding_box=bounding_box,\n",
    "        points=[LabeledPoint(coordinates=basic_solution_2)],\n",
    "    )"
   ]
  },
  {
   "cell_type": "markdown",
   "id": "a506fe2c",
   "metadata": {},
   "source": [
    "### Potential base number 3"
   ]
  },
  {
   "cell_type": "code",
   "execution_count": null,
   "id": "8bd76bf8",
   "metadata": {},
   "outputs": [],
   "source": [
    "basic_indices_3 = all_bases[3]\n",
    "basic_solution_3 = print_info(basic_indices_3)\n"
   ]
  },
  {
   "cell_type": "markdown",
   "id": "78b3fc45",
   "metadata": {},
   "source": [
    "Plot the vertex"
   ]
  },
  {
   "cell_type": "code",
   "execution_count": null,
   "id": "c2a557e5",
   "metadata": {},
   "outputs": [],
   "source": [
    "if basic_solution_3 is not None:\n",
    "    draw_polyhedron_standard_form(\n",
    "        matrix_a=standard_a,\n",
    "        vector_b=standard_b,\n",
    "        bounding_box=bounding_box,\n",
    "        points=[LabeledPoint(coordinates=basic_solution_3)],\n",
    "    )"
   ]
  },
  {
   "cell_type": "markdown",
   "id": "c4e03d97",
   "metadata": {},
   "source": [
    "### Potential base number 4"
   ]
  },
  {
   "cell_type": "code",
   "execution_count": null,
   "id": "6063edc0",
   "metadata": {},
   "outputs": [],
   "source": [
    "basic_indices_4 = all_bases[4]\n",
    "basic_solution_4 = print_info(basic_indices_4)\n"
   ]
  },
  {
   "cell_type": "markdown",
   "id": "a56168b9",
   "metadata": {},
   "source": [
    "Plot the vertex"
   ]
  },
  {
   "cell_type": "code",
   "execution_count": null,
   "id": "de175941",
   "metadata": {},
   "outputs": [],
   "source": [
    "if basic_solution_4 is not None:\n",
    "    draw_polyhedron_standard_form(\n",
    "        matrix_a=standard_a,\n",
    "        vector_b=standard_b,\n",
    "        bounding_box=bounding_box,\n",
    "        points=[LabeledPoint(coordinates=basic_solution_4)],\n",
    "    )"
   ]
  },
  {
   "cell_type": "markdown",
   "id": "d6a7638d",
   "metadata": {},
   "source": [
    "### Potential base number 5"
   ]
  },
  {
   "cell_type": "code",
   "execution_count": null,
   "id": "e10453cc",
   "metadata": {},
   "outputs": [],
   "source": [
    "basic_indices_5 = all_bases[5]\n",
    "basic_solution_5 = print_info(basic_indices_5)\n"
   ]
  },
  {
   "cell_type": "markdown",
   "id": "9a7003eb",
   "metadata": {},
   "source": [
    "Plot the vertex"
   ]
  },
  {
   "cell_type": "code",
   "execution_count": null,
   "id": "fed02da5",
   "metadata": {},
   "outputs": [],
   "source": [
    "if basic_solution_5 is not None:\n",
    "    draw_polyhedron_standard_form(\n",
    "        matrix_a=standard_a,\n",
    "        vector_b=standard_b,\n",
    "        bounding_box=bounding_box,\n",
    "        points=[LabeledPoint(coordinates=basic_solution_5)],\n",
    "    )\n",
    "\n",
    "\n",
    "\n",
    "\n"
   ]
  }
 ],
 "metadata": {},
 "nbformat": 4,
 "nbformat_minor": 5
}
