{
 "cells": [
  {
   "cell_type": "markdown",
   "id": "2e57d8a5",
   "metadata": {},
   "source": [
    "# Basic directions\n",
    "\n",
    "## Introduction to optimization and operations research\n",
    "\n",
    "Michel Bierlaire\n"
   ]
  },
  {
   "cell_type": "code",
   "execution_count": null,
   "id": "c0310365",
   "metadata": {},
   "outputs": [],
   "source": [
    "\n",
    "import numpy as np\n",
    "from teaching_optimization.linear_constraints import (\n",
    "    draw_polyhedron_standard_form,\n",
    "    StandardForm,\n",
    "    LabeledDirection,\n",
    ")\n"
   ]
  },
  {
   "cell_type": "markdown",
   "id": "6981c368",
   "metadata": {},
   "source": [
    "In this lab, you will explore **basic directions**: the directions obtained when a non-basic variable\n",
    "is increased by one unit and the basic variables are adjusted to keep Ax = b satisfied (solving B d_B = −A_i).\n",
    "You will learn how to build the full direction vector from its basic part, visualize it on simple polyhedra,\n",
    "and decide whether a basic direction is **feasible** (i.e., keeps you inside the feasible region) or not.\n",
    "This is the geometric move used by the **simplex method** to travel from one basic feasible solution\n",
    "to a neighboring one; understanding these directions clarifies why simplex pivots work and when they fail\n",
    "(e.g., infeasible or zero-length moves due to degeneracy). Work through the examples to connect the algebra\n",
    "(basis matrix, indices, and linear solves) with the geometry (edges and vertices of the polyhedron).\n",
    "\n",
    "\n",
    "We will implement the following functions:\n",
    "\n",
    "- a function that calculates the basic part of the direction by solving the system $B d_B = -A_i$,\n",
    "- a function that builds the direction in the full space,\n",
    "- a function that calls all the previous ones to obtain a basic direction.\n",
    "\n",
    "We will apply it to identify the vertices of the following polyhedrons.\n",
    "\n",
    "## Polyhedron 1\n",
    "$$P = \\left\\{\n",
    "\\begin{pmatrix}\n",
    "x_1\\\\\n",
    "x_2\n",
    "\\end{pmatrix} \\in \\mathbb{R}^2\n",
    "| x_1+x_2  \\geq 1,\n",
    "x_1+x_2  \\leq 2,\n",
    "x_1  \\geq 0,\n",
    "x_2  \\geq 0. \\right\\}.$$"
   ]
  },
  {
   "cell_type": "markdown",
   "id": "c3771892",
   "metadata": {},
   "source": [
    "## Polyhedron 2\n",
    "$$ P = \\left\\{\n",
    "\\begin{pmatrix}\n",
    "x_1\\\\\n",
    "x_2\n",
    "\\end{pmatrix} \\in \\mathbb{R}^2\n",
    "| x_1+x_2 \\leq 1,\n",
    "-x_1+2x_2 \\leq 2, x_1 \\geq 0, x_2 \\geq 0 \\right\\}.$$"
   ]
  },
  {
   "cell_type": "markdown",
   "id": "5e48b2b4",
   "metadata": {},
   "source": [
    "Prepare first polyhedron 1 so that we can use it for testing each function. It must first be written in standard form."
   ]
  },
  {
   "cell_type": "markdown",
   "id": "e0dba1a9",
   "metadata": {},
   "source": [
    "Provide the values of the matrix of the problem in standard form."
   ]
  },
  {
   "cell_type": "code",
   "execution_count": null,
   "id": "63d24980",
   "metadata": {},
   "outputs": [],
   "source": [
    "standard_a = ...\n",
    "print(standard_a)\n"
   ]
  },
  {
   "cell_type": "code",
   "execution_count": null,
   "id": "6dcd95e9",
   "metadata": {},
   "outputs": [],
   "source": [
    "n_constraints, n_variables = standard_a.shape\n",
    "print(f'{n_variables} variables, {n_constraints} constraints.')\n"
   ]
  },
  {
   "cell_type": "markdown",
   "id": "8e68303e",
   "metadata": {},
   "source": [
    "Provide the values of the right-hand side of the problem in standard form."
   ]
  },
  {
   "cell_type": "code",
   "execution_count": null,
   "id": "01948cb3",
   "metadata": {},
   "outputs": [],
   "source": [
    "standard_b = ...\n",
    "print(standard_b)\n"
   ]
  },
  {
   "cell_type": "markdown",
   "id": "85171bb1",
   "metadata": {},
   "source": [
    "We select a feasible basic solution. We create the `StandardForm` object to have easy access to the feasible\n",
    "basic solution."
   ]
  },
  {
   "cell_type": "code",
   "execution_count": null,
   "id": "6aede102",
   "metadata": {},
   "outputs": [],
   "source": [
    "the_basic_indices = [1, 2]\n",
    "the_standard_form = StandardForm(matrix=standard_a, vector=standard_b)\n",
    "the_standard_form.basic_indices = the_basic_indices\n"
   ]
  },
  {
   "cell_type": "markdown",
   "id": "873d511d",
   "metadata": {},
   "source": [
    "Draw the polyhedron."
   ]
  },
  {
   "cell_type": "code",
   "execution_count": null,
   "id": "9a22b79f",
   "metadata": {},
   "outputs": [],
   "source": [
    "draw_polyhedron_standard_form(matrix_a=standard_a, vector_b=standard_b)\n"
   ]
  },
  {
   "cell_type": "markdown",
   "id": "58861ff8",
   "metadata": {},
   "source": [
    "## Function that calculates the basic part of the direction by solving the system $B d_B = -A_i$.\n",
    "Complete it by replacing the ...."
   ]
  },
  {
   "cell_type": "code",
   "execution_count": null,
   "id": "7ad37cf6",
   "metadata": {},
   "outputs": [],
   "source": [
    "\n",
    "\n",
    "def basic_part_basic_direction(\n",
    "    constraint_matrix: np.ndarray, basic_indices: list[int], non_basic_index: int\n",
    ") -> np.ndarray | None:\n",
    "    \"\"\"\n",
    "    Function that calculates the basic part of the direction\n",
    "    :param constraint_matrix: A numpy ndarray representing the constraint matrix.\n",
    "    :param basic_indices: A list of integers representing the column indices to form the basis.\n",
    "    :param non_basic_index: index of the non-basic variable associated with the basic direction.\n",
    "    :return:\n",
    "    \"\"\"\n",
    "    n_rows, n_columns = constraint_matrix.shape\n",
    "    # Verify that the number of indices matches the number of rows in the matrix.\n",
    "    if len(basic_indices) != n_rows:\n",
    "        raise ValueError(\n",
    "            f'The number of basic indices [{len(basic_indices)}] must match the number of '\n",
    "            f'rows in the matrix [{n_rows}].'\n",
    "        )\n",
    "\n",
    "    # Verify each index is a valid column index of the matrix.\n",
    "    max_index = n_columns - 1\n",
    "    if not all(0 <= index <= max_index for index in basic_indices + [non_basic_index]):\n",
    "        raise ValueError(\n",
    "            'One or more indices are out of the valid column index range of the matrix.'\n",
    "        )\n",
    "\n",
    "    # Verify that the non-basic index is not in the basic list.\n",
    "    if non_basic_index in basic_indices:\n",
    "        raise ValueError(\n",
    "            f'Non basic index {non_basic_index} also appears in the list of basic indices.'\n",
    "        )\n",
    "\n",
    "    # Extract the columns corresponding to the basic indices, in the provided order.\n",
    "    basic_matrix = ...\n",
    "\n",
    "    # Extract the column corresponding to the non-basic variable\n",
    "    non_basic_column = ...\n",
    "\n",
    "\n",
    "\n",
    "    # Solve the linear system and return the solution, if it exists.\n",
    "    ...\n",
    "\n",
    "\n",
    "\n",
    "\n",
    "\n",
    "\n"
   ]
  },
  {
   "cell_type": "markdown",
   "id": "567e7b72",
   "metadata": {},
   "source": [
    "Test the function.  Expected result: $$\\left(\\begin{array}{c}-1 \\\\ 0  \\end{array}\\right).$$"
   ]
  },
  {
   "cell_type": "code",
   "execution_count": null,
   "id": "04a29746",
   "metadata": {},
   "outputs": [],
   "source": [
    "non_basic_index_1 = 0\n",
    "basic_part_1 = basic_part_basic_direction(\n",
    "    constraint_matrix=standard_a,\n",
    "    basic_indices=the_basic_indices,\n",
    "    non_basic_index=non_basic_index_1,\n",
    ")\n",
    "print(f'Basic part of d_{non_basic_index_1} = {basic_part_1}.')\n"
   ]
  },
  {
   "cell_type": "markdown",
   "id": "22d9b279",
   "metadata": {},
   "source": [
    "Test again the function.  Expected result: $$\\left(\\begin{array}{c}-1 \\\\ -1  \\end{array}\\right).$$"
   ]
  },
  {
   "cell_type": "code",
   "execution_count": null,
   "id": "d18467d3",
   "metadata": {},
   "outputs": [],
   "source": [
    "non_basic_index_2 = 3\n",
    "basic_part_2 = basic_part_basic_direction(\n",
    "    constraint_matrix=standard_a,\n",
    "    basic_indices=the_basic_indices,\n",
    "    non_basic_index=non_basic_index_2,\n",
    ")\n",
    "print(f'Basic part of d_{non_basic_index_2} = {basic_part_2}.')\n",
    "\n"
   ]
  },
  {
   "cell_type": "markdown",
   "id": "85d6b679",
   "metadata": {},
   "source": [
    "## Function that builds the direction in the full space,\n",
    "In a space of dimension $n$, we have a vector $d_B$ of dimension $m \\leq n$, identified\n",
    "by their indices. This function builds the vector in dimension $n$ where all non-basic entries are zero,\n",
    "except one which is one.\n",
    "Complete it by replacing the ...."
   ]
  },
  {
   "cell_type": "code",
   "execution_count": null,
   "id": "86ef53f1",
   "metadata": {},
   "outputs": [],
   "source": [
    "def build_basic_direction(\n",
    "    number_of_variables: int,\n",
    "    basic_part: np.ndarray,\n",
    "    basic_indices: list[int],\n",
    "    non_basic_index: int,\n",
    ") -> np.ndarray:\n",
    "    \"\"\"\n",
    "    Builds the vector in dimension n where all non-basic entries are zero, except one.\n",
    "\n",
    "    :param number_of_variables: dimension n.\n",
    "    :param basic_part: vector with the basic part of the direction.\n",
    "    :param basic_indices: indices of basic variables in the space of dimension n.\n",
    "    :param non_basic_index: index of the non-basic variable.\n",
    "    :return: complete basic direction.\n",
    "    \"\"\"\n",
    "    # Check that the number of basic variables is less or equal to n\n",
    "    if len(basic_part) > number_of_variables:\n",
    "        raise ValueError(\n",
    "            f'The number of basic variables [{len(basic_part)}] must be less than or equal '\n",
    "            f'to the dimension [{number_of_variables}].'\n",
    "        )\n",
    "\n",
    "    # Check that the two vectors have the same dimension\n",
    "    if len(basic_part) != len(basic_indices):\n",
    "        raise ValueError(\n",
    "            f'The dimensions of the basic variables [{len(basic_part)}] and their '\n",
    "            f'indices [{len(basic_indices)}] must match.'\n",
    "        )\n",
    "\n",
    "    # Check that all indices are valid\n",
    "    if not all(\n",
    "        0 <= index < number_of_variables for index in basic_indices + [non_basic_index]\n",
    "    ):\n",
    "        raise ValueError('All indices must be valid, that is between 0 and n-1.')\n",
    "\n",
    "\n",
    "    complete_solution = ...\n",
    "\n",
    "\n",
    "\n",
    "\n",
    "\n",
    "\n",
    "\n",
    "    return complete_solution\n",
    "\n"
   ]
  },
  {
   "cell_type": "markdown",
   "id": "b7206dda",
   "metadata": {},
   "source": [
    "Test the function.  Expected result: $$\\left(\\begin{array}{c}1 \\\\ -1 \\\\ 0\\\\ 0  \\end{array}\\right).$$"
   ]
  },
  {
   "cell_type": "code",
   "execution_count": null,
   "id": "f62b6816",
   "metadata": {},
   "outputs": [],
   "source": [
    "full_direction_1 = build_basic_direction(\n",
    "    number_of_variables=n_variables,\n",
    "    basic_part=basic_part_1,\n",
    "    basic_indices=the_basic_indices,\n",
    "    non_basic_index=non_basic_index_1,\n",
    ")\n",
    "print(f'Basic direction d_{non_basic_index_1} = {full_direction_1}.')\n"
   ]
  },
  {
   "cell_type": "markdown",
   "id": "33ab5bcc",
   "metadata": {},
   "source": [
    "We draw the polyhedron and the direction."
   ]
  },
  {
   "cell_type": "code",
   "execution_count": null,
   "id": "0576d92b",
   "metadata": {},
   "outputs": [],
   "source": [
    "draw_polyhedron_standard_form(\n",
    "    matrix_a=standard_a,\n",
    "    vector_b=standard_b,\n",
    "    directions=[\n",
    "        LabeledDirection(\n",
    "            start=the_standard_form.basic_solution,\n",
    "            direction=full_direction_1,\n",
    "            width=0.05,\n",
    "        )\n",
    "    ],\n",
    ")\n"
   ]
  },
  {
   "cell_type": "markdown",
   "id": "28c71590",
   "metadata": {},
   "source": [
    "Test again the function.  Expected result: $$\\left(\\begin{array}{c}0 \\\\ -1 \\\\ -1\\\\ 1  \\end{array}\\right).$$"
   ]
  },
  {
   "cell_type": "code",
   "execution_count": null,
   "id": "1d71e60d",
   "metadata": {},
   "outputs": [],
   "source": [
    "full_direction_2 = build_basic_direction(\n",
    "    number_of_variables=n_variables,\n",
    "    basic_part=basic_part_2,\n",
    "    basic_indices=the_basic_indices,\n",
    "    non_basic_index=non_basic_index_2,\n",
    ")\n",
    "print(f'Basic direction d_{non_basic_index_2} = {full_direction_2}.')\n"
   ]
  },
  {
   "cell_type": "markdown",
   "id": "040f7c7d",
   "metadata": {},
   "source": [
    "We draw the polyhedron and the direction."
   ]
  },
  {
   "cell_type": "code",
   "execution_count": null,
   "id": "28116a57",
   "metadata": {},
   "outputs": [],
   "source": [
    "\n",
    "draw_polyhedron_standard_form(\n",
    "    matrix_a=standard_a,\n",
    "    vector_b=standard_b,\n",
    "    directions=[\n",
    "        LabeledDirection(\n",
    "            start=the_standard_form.basic_solution,\n",
    "            direction=full_direction_2,\n",
    "            width=0.05,\n",
    "        )\n",
    "    ],\n",
    ")\n",
    "\n"
   ]
  },
  {
   "cell_type": "markdown",
   "id": "cc06510a",
   "metadata": {},
   "source": [
    "## Function that calls all the previous ones to obtain a basic direction.\n",
    "Nothing needs to be done.The implementation is complete."
   ]
  },
  {
   "cell_type": "code",
   "execution_count": null,
   "id": "85ed1788",
   "metadata": {},
   "outputs": [],
   "source": [
    "def basic_direction(\n",
    "    constraint_matrix: np.ndarray, basic_indices: list[int], non_basic_index: int\n",
    ") -> np.ndarray | None:\n",
    "    \"\"\"\n",
    "\n",
    "    :param constraint_matrix: A numpy ndarray representing the constraint matrix.\n",
    "    :param basic_indices: A list of integers representing the column indices to form the basis.\n",
    "    :param non_basic_index: index of the non-basic variable.\n",
    "    :return: the basic direction.\n",
    "    \"\"\"\n",
    "    n_constraints, n_variables = constraint_matrix.shape\n",
    "    basic_part = basic_part_basic_direction(\n",
    "        constraint_matrix=constraint_matrix,\n",
    "        basic_indices=basic_indices,\n",
    "        non_basic_index=non_basic_index,\n",
    "    )\n",
    "    if basic_part is None:\n",
    "        print('Impossible to calculate the basic direction. Basic matrix is singular')\n",
    "        return None\n",
    "\n",
    "    full_direction = build_basic_direction(\n",
    "        number_of_variables=n_variables,\n",
    "        basic_part=basic_part,\n",
    "        basic_indices=basic_indices,\n",
    "        non_basic_index=non_basic_index,\n",
    "    )\n",
    "    return full_direction\n",
    "\n"
   ]
  },
  {
   "cell_type": "markdown",
   "id": "e1bb266f",
   "metadata": {},
   "source": [
    "We test it on the same polyhedron, with a different basis."
   ]
  },
  {
   "cell_type": "code",
   "execution_count": null,
   "id": "88c090f6",
   "metadata": {},
   "outputs": [],
   "source": [
    "the_basic_indices = [1, 3]\n",
    "the_standard_form.basic_indices = the_basic_indices\n"
   ]
  },
  {
   "cell_type": "markdown",
   "id": "07ded402",
   "metadata": {},
   "source": [
    "We select the non basic variable."
   ]
  },
  {
   "cell_type": "code",
   "execution_count": null,
   "id": "cafd5be4",
   "metadata": {},
   "outputs": [],
   "source": [
    "non_basic_index_1 = 0\n",
    "full_direction_1 = basic_direction(\n",
    "    constraint_matrix=standard_a,\n",
    "    basic_indices=the_basic_indices,\n",
    "    non_basic_index=non_basic_index_1,\n",
    ")\n",
    "print(full_direction_1)\n"
   ]
  },
  {
   "cell_type": "markdown",
   "id": "01be9296",
   "metadata": {},
   "source": [
    "We draw the polyhedron and the direction."
   ]
  },
  {
   "cell_type": "code",
   "execution_count": null,
   "id": "3d0aa76f",
   "metadata": {},
   "outputs": [],
   "source": [
    "\n",
    "draw_polyhedron_standard_form(\n",
    "    matrix_a=standard_a,\n",
    "    vector_b=standard_b,\n",
    "    directions=[\n",
    "        LabeledDirection(\n",
    "            start=the_standard_form.basic_solution,\n",
    "            direction=full_direction_1,\n",
    "            width=0.05,\n",
    "        )\n",
    "    ],\n",
    ")\n"
   ]
  },
  {
   "cell_type": "markdown",
   "id": "1d174401",
   "metadata": {},
   "source": [
    "We select another non basic variable."
   ]
  },
  {
   "cell_type": "code",
   "execution_count": null,
   "id": "cfcdf797",
   "metadata": {},
   "outputs": [],
   "source": [
    "non_basic_index_2 = 2\n",
    "full_direction_2 = basic_direction(\n",
    "    constraint_matrix=standard_a,\n",
    "    basic_indices=the_basic_indices,\n",
    "    non_basic_index=non_basic_index_2,\n",
    ")\n",
    "print(full_direction_2)\n"
   ]
  },
  {
   "cell_type": "markdown",
   "id": "e3f8b3e4",
   "metadata": {},
   "source": [
    "We draw the polyhedron and the direction."
   ]
  },
  {
   "cell_type": "code",
   "execution_count": null,
   "id": "34443c17",
   "metadata": {},
   "outputs": [],
   "source": [
    "\n",
    "draw_polyhedron_standard_form(\n",
    "    matrix_a=standard_a,\n",
    "    vector_b=standard_b,\n",
    "    directions=[\n",
    "        LabeledDirection(\n",
    "            start=the_standard_form.basic_solution,\n",
    "            direction=full_direction_2,\n",
    "            width=0.05,\n",
    "        )\n",
    "    ],\n",
    ")\n"
   ]
  },
  {
   "cell_type": "markdown",
   "id": "c6517e06",
   "metadata": {},
   "source": [
    "## Polyhedron 2\n",
    "We now investigate the second polyhedron.\n",
    "$$ P = \\left\\{\n",
    "\\begin{pmatrix}\n",
    "x_1\\\\\n",
    "x_2\n",
    "\\end{pmatrix} \\in \\mathbb{R}^2\n",
    "| x_1+x_2 \\leq 1,\n",
    "-x_1+2x_2 \\leq 2, x_1 \\geq 0, x_2 \\geq 0 \\right\\}.$$"
   ]
  },
  {
   "cell_type": "markdown",
   "id": "d8a2a987",
   "metadata": {},
   "source": [
    "Data in standard form."
   ]
  },
  {
   "cell_type": "code",
   "execution_count": null,
   "id": "8b746f05",
   "metadata": {},
   "outputs": [],
   "source": [
    "standard_a = ...\n",
    "standard_b = ...\n"
   ]
  },
  {
   "cell_type": "code",
   "execution_count": null,
   "id": "a93b43d3",
   "metadata": {},
   "outputs": [],
   "source": [
    "n_constraints, n_variables = standard_a.shape\n",
    "print(f'{n_variables} variables, {n_constraints} constraints.')\n"
   ]
  },
  {
   "cell_type": "markdown",
   "id": "838bdfbe",
   "metadata": {},
   "source": [
    "Draw the polyhedron."
   ]
  },
  {
   "cell_type": "code",
   "execution_count": null,
   "id": "586ced5a",
   "metadata": {},
   "outputs": [],
   "source": [
    "draw_polyhedron_standard_form(matrix_a=standard_a, vector_b=standard_b)\n"
   ]
  },
  {
   "cell_type": "markdown",
   "id": "e8fa4dc3",
   "metadata": {},
   "source": [
    "We select a basis."
   ]
  },
  {
   "cell_type": "code",
   "execution_count": null,
   "id": "8c5f3edf",
   "metadata": {},
   "outputs": [],
   "source": [
    "the_basic_indices = [0, 1]\n",
    "the_standard_form = StandardForm(matrix=standard_a, vector=standard_b)\n",
    "the_standard_form.basic_indices = the_basic_indices\n"
   ]
  },
  {
   "cell_type": "markdown",
   "id": "e5eb2681",
   "metadata": {},
   "source": [
    "Calculate the basic direction corresponding to non basic variable 2."
   ]
  },
  {
   "cell_type": "code",
   "execution_count": null,
   "id": "0e97a3a4",
   "metadata": {},
   "outputs": [],
   "source": [
    "non_basic_index_2 = 2\n",
    "basic_direction_2 = basic_direction(\n",
    "    constraint_matrix=standard_a,\n",
    "    basic_indices=the_basic_indices,\n",
    "    non_basic_index=non_basic_index_2,\n",
    ")\n"
   ]
  },
  {
   "cell_type": "code",
   "execution_count": null,
   "id": "a8c2edb0",
   "metadata": {},
   "outputs": [],
   "source": [
    "print(f'Feasible basic solution: {the_standard_form.basic_solution}')\n",
    "print(f'Basic direction:         {basic_direction_2}')\n"
   ]
  },
  {
   "cell_type": "markdown",
   "id": "6c7ccac4",
   "metadata": {},
   "source": [
    "If we move along the direction with a step $\\alpha$, we obtain the point"
   ]
  },
  {
   "cell_type": "code",
   "execution_count": null,
   "id": "2b22da3f",
   "metadata": {},
   "outputs": [],
   "source": [
    "new_point = [\n",
    "    f'{x:.3g} + {d:.3g} alpha'\n",
    "    for x, d in zip(the_standard_form.basic_solution, basic_direction_2)\n",
    "]\n",
    "print(f'New point = [{\", \".join(new_point)}]')\n"
   ]
  },
  {
   "cell_type": "markdown",
   "id": "b71f4203",
   "metadata": {},
   "source": [
    "Note that, for any positive value of $\\alpha$, the first coordinate is negative, and the point is infeasible.\n",
    "Therefore, the basic direction is infeasible.\n",
    "If we draw the polyhedron. We observe that the basic direction is indeed infeasible. It may happen\n",
    "if the basic solution is degenerate, like in this example."
   ]
  },
  {
   "cell_type": "code",
   "execution_count": null,
   "id": "c734e34c",
   "metadata": {},
   "outputs": [],
   "source": [
    "draw_polyhedron_standard_form(\n",
    "    matrix_a=standard_a,\n",
    "    vector_b=standard_b,\n",
    "    directions=[\n",
    "        LabeledDirection(\n",
    "            start=the_standard_form.basic_solution,\n",
    "            direction=basic_direction_2,\n",
    "            width=0.05,\n",
    "        )\n",
    "    ],\n",
    ")\n"
   ]
  },
  {
   "cell_type": "markdown",
   "id": "fe4be3d2",
   "metadata": {},
   "source": [
    "Calculate the basic direction corresponding to non basic variable 3."
   ]
  },
  {
   "cell_type": "code",
   "execution_count": null,
   "id": "2b372193",
   "metadata": {},
   "outputs": [],
   "source": [
    "non_basic_index_3 = 3\n",
    "basic_direction_3 = basic_direction(\n",
    "    constraint_matrix=standard_a,\n",
    "    basic_indices=the_basic_indices,\n",
    "    non_basic_index=non_basic_index_3,\n",
    ")\n"
   ]
  },
  {
   "cell_type": "code",
   "execution_count": null,
   "id": "ec60d120",
   "metadata": {},
   "outputs": [],
   "source": [
    "print(f'Feasible basic solution: {the_standard_form.basic_solution}')\n",
    "print(f'Basic direction:         {basic_direction_3}')\n"
   ]
  },
  {
   "cell_type": "markdown",
   "id": "967621ed",
   "metadata": {},
   "source": [
    "If we move along the direction with a step $\\alpha$, we obtain the point"
   ]
  },
  {
   "cell_type": "code",
   "execution_count": null,
   "id": "e8c99e11",
   "metadata": {},
   "outputs": [],
   "source": [
    "new_point = [\n",
    "    f'{x:.3g} + {d:.3g} alpha'\n",
    "    for x, d in zip(the_standard_form.basic_solution, basic_direction_3)\n",
    "]\n",
    "print(f'New point = [{\", \".join(new_point)}]')\n"
   ]
  },
  {
   "cell_type": "markdown",
   "id": "1329cfdb",
   "metadata": {},
   "source": [
    "Draw the polyhedron. We observe that this basic direction is feasible."
   ]
  },
  {
   "cell_type": "code",
   "execution_count": null,
   "id": "cfbbe9f9",
   "metadata": {},
   "outputs": [],
   "source": [
    "draw_polyhedron_standard_form(\n",
    "    matrix_a=standard_a,\n",
    "    vector_b=standard_b,\n",
    "    directions=[\n",
    "        LabeledDirection(\n",
    "            start=the_standard_form.basic_solution,\n",
    "            direction=basic_direction_3,\n",
    "            width=0.05,\n",
    "        )\n",
    "    ],\n",
    ")\n"
   ]
  }
 ],
 "metadata": {},
 "nbformat": 4,
 "nbformat_minor": 5
}
