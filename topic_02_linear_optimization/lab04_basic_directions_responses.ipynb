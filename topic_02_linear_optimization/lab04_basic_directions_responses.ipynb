{
 "cells": [
  {
   "cell_type": "markdown",
   "id": "182b2139",
   "metadata": {},
   "source": [
    "# Basic directions\n",
    "\n",
    "## Introduction to optimization and operations research\n",
    "\n",
    "Michel Bierlaire\n"
   ]
  },
  {
   "cell_type": "code",
   "execution_count": null,
   "id": "4b9dca25",
   "metadata": {},
   "outputs": [],
   "source": [
    "\n",
    "import numpy as np\n",
    "from teaching_optimization.linear_constraints import (\n",
    "    draw_polyhedron_standard_form,\n",
    "    StandardForm,\n",
    "    LabeledDirection,\n",
    ")\n"
   ]
  },
  {
   "cell_type": "markdown",
   "id": "bc5d5af7",
   "metadata": {},
   "source": [
    "In this lab, you will explore **basic directions**: the directions obtained when a non-basic variable\n",
    "is increased by one unit and the basic variables are adjusted to keep Ax = b satisfied (solving B d_B = −A_i).\n",
    "You will learn how to build the full direction vector from its basic part, visualize it on simple polyhedra,\n",
    "and decide whether a basic direction is **feasible** (i.e., keeps you inside the feasible region) or not.\n",
    "This is the geometric move used by the **simplex method** to travel from one basic feasible solution\n",
    "to a neighboring one; understanding these directions clarifies why simplex pivots work and when they fail\n",
    "(e.g., infeasible or zero-length moves due to degeneracy). Work through the examples to connect the algebra\n",
    "(basis matrix, indices, and linear solves) with the geometry (edges and vertices of the polyhedron).\n",
    "\n",
    "\n",
    "We will implement the following functions:\n",
    "\n",
    "- a function that calculates the basic part of the direction by solving the system $B d_B = -A_i$,\n",
    "- a function that builds the direction in the full space,\n",
    "- a function that calls all the previous ones to obtain a basic direction.\n",
    "\n",
    "We will apply it to identify the vertices of the following polyhedrons.\n",
    "\n",
    "## Polyhedron 1\n",
    "$$P = \\left\\{\n",
    "\\begin{pmatrix}\n",
    "x_1\\\\\n",
    "x_2\n",
    "\\end{pmatrix} \\in \\mathbb{R}^2\n",
    "| x_1+x_2  \\geq 1,\n",
    "x_1+x_2  \\leq 2,\n",
    "x_1  \\geq 0,\n",
    "x_2  \\geq 0. \\right\\}.$$"
   ]
  },
  {
   "cell_type": "markdown",
   "id": "e267d16a",
   "metadata": {},
   "source": [
    "## Polyhedron 2\n",
    "$$ P = \\left\\{\n",
    "\\begin{pmatrix}\n",
    "x_1\\\\\n",
    "x_2\n",
    "\\end{pmatrix} \\in \\mathbb{R}^2\n",
    "| x_1+x_2 \\leq 1,\n",
    "-x_1+2x_2 \\leq 2, x_1 \\geq 0, x_2 \\geq 0 \\right\\}.$$"
   ]
  },
  {
   "cell_type": "markdown",
   "id": "f7f17059",
   "metadata": {},
   "source": [
    "Prepare first polyhedron 1 so that we can use it for testing each function. It must first be written in standard form."
   ]
  },
  {
   "cell_type": "markdown",
   "id": "6cbe283a",
   "metadata": {},
   "source": [
    "The polyhedron can be written in standard form by introducing non\n",
    "negative slack variables, and rewriting the constraints in the form of equality constraints:\n",
    "\n",
    "\\begin{align*}\n",
    "-x_1-x_2+x_3 & =-1,\\\\\n",
    "x_1+x_2+x_4 &=2,\\\\\n",
    "x_1,x_2,x_3,x_4 & \\geq 0.\n",
    "\\end{align*}\n",
    "\n",
    "The equality constraints in matrix form are\n",
    "$$\n",
    "Ax= b,\n",
    "\\text{ where }\n",
    "A \\in \\mathbb{R}^{2\\times 4},\\; b \\in \\mathbb{R}^2,\\; x \\in \\mathbb{R}^4,\n",
    "$$\n",
    "$$\n",
    "A =\n",
    "\\begin{pmatrix*}[r]\n",
    "-1&-1&1&0\\\\\n",
    "1&1&0&1\n",
    "\\end{pmatrix*},\\;\n",
    "b =\n",
    "\\begin{pmatrix*}[r]\n",
    "-1\\\\\n",
    "2\n",
    "\\end{pmatrix*}.\n",
    "$$"
   ]
  },
  {
   "cell_type": "markdown",
   "id": "6299f2d6",
   "metadata": {},
   "source": [
    "Provide the values of the matrix of the problem in standard form."
   ]
  },
  {
   "cell_type": "code",
   "execution_count": null,
   "id": "e8e650fe",
   "metadata": {},
   "outputs": [],
   "source": [
    "standard_a = np.array([[-1, -1, 1, 0], [1, 1, 0, 1]])\n",
    "print(standard_a)\n"
   ]
  },
  {
   "cell_type": "code",
   "execution_count": null,
   "id": "cd29bdd5",
   "metadata": {},
   "outputs": [],
   "source": [
    "n_constraints, n_variables = standard_a.shape\n",
    "print(f'{n_variables} variables, {n_constraints} constraints.')\n"
   ]
  },
  {
   "cell_type": "markdown",
   "id": "cbdbafad",
   "metadata": {},
   "source": [
    "Provide the values of the right-hand side of the problem in standard form."
   ]
  },
  {
   "cell_type": "code",
   "execution_count": null,
   "id": "1ede7f44",
   "metadata": {},
   "outputs": [],
   "source": [
    "standard_b = np.array([-1, 2])\n",
    "print(standard_b)\n"
   ]
  },
  {
   "cell_type": "markdown",
   "id": "819ffa8f",
   "metadata": {},
   "source": [
    "We select a feasible basic solution. We create the `StandardForm` object to have easy access to the feasible\n",
    "basic solution."
   ]
  },
  {
   "cell_type": "code",
   "execution_count": null,
   "id": "0f4f40ec",
   "metadata": {},
   "outputs": [],
   "source": [
    "the_basic_indices = [1, 2]\n",
    "the_standard_form = StandardForm(matrix=standard_a, vector=standard_b)\n",
    "the_standard_form.basic_indices = the_basic_indices\n"
   ]
  },
  {
   "cell_type": "markdown",
   "id": "46f3881b",
   "metadata": {},
   "source": [
    "Draw the polyhedron."
   ]
  },
  {
   "cell_type": "code",
   "execution_count": null,
   "id": "26e67a06",
   "metadata": {},
   "outputs": [],
   "source": [
    "draw_polyhedron_standard_form(matrix_a=standard_a, vector_b=standard_b)\n"
   ]
  },
  {
   "cell_type": "markdown",
   "id": "b0cebb5b",
   "metadata": {},
   "source": [
    "## Function that calculates the basic part of the direction by solving the system $B d_B = -A_i$.\n",
    "Complete it by replacing the ...."
   ]
  },
  {
   "cell_type": "code",
   "execution_count": null,
   "id": "38d4987f",
   "metadata": {},
   "outputs": [],
   "source": [
    "\n",
    "\n",
    "def basic_part_basic_direction(\n",
    "    constraint_matrix: np.ndarray, basic_indices: list[int], non_basic_index: int\n",
    ") -> np.ndarray | None:\n",
    "    \"\"\"\n",
    "    Function that calculates the basic part of the direction\n",
    "    :param constraint_matrix: A numpy ndarray representing the constraint matrix.\n",
    "    :param basic_indices: A list of integers representing the column indices to form the basis.\n",
    "    :param non_basic_index: index of the non-basic variable associated with the basic direction.\n",
    "    :return:\n",
    "    \"\"\"\n",
    "    n_rows, n_columns = constraint_matrix.shape\n",
    "    # Verify that the number of indices matches the number of rows in the matrix.\n",
    "    if len(basic_indices) != n_rows:\n",
    "        raise ValueError(\n",
    "            f'The number of basic indices [{len(basic_indices)}] must match the number of '\n",
    "            f'rows in the matrix [{n_rows}].'\n",
    "        )\n",
    "\n",
    "    # Verify each index is a valid column index of the matrix.\n",
    "    max_index = n_columns - 1\n",
    "    if not all(0 <= index <= max_index for index in basic_indices + [non_basic_index]):\n",
    "        raise ValueError(\n",
    "            'One or more indices are out of the valid column index range of the matrix.'\n",
    "        )\n",
    "\n",
    "    # Verify that the non-basic index is not in the basic list.\n",
    "    if non_basic_index in basic_indices:\n",
    "        raise ValueError(\n",
    "            f'Non basic index {non_basic_index} also appears in the list of basic indices.'\n",
    "        )\n",
    "\n",
    "    # Extract the columns corresponding to the basic indices, in the provided order.\n",
    "    basic_matrix = constraint_matrix[:, basic_indices]\n",
    "\n",
    "    # Extract the column corresponding to the non-basic variable\n",
    "    non_basic_column = constraint_matrix[\n",
    "        :, non_basic_index\n",
    "    ]\n",
    "\n",
    "    # Solve the linear system and return the solution, if it exists.\n",
    "    try:\n",
    "        the_basic_direction = np.linalg.solve(basic_matrix, -non_basic_column)\n",
    "        return the_basic_direction\n",
    "    except np.linalg.LinAlgError:\n",
    "        # The system does not have a solution\n",
    "        return None\n",
    "\n"
   ]
  },
  {
   "cell_type": "markdown",
   "id": "ba9d1c3f",
   "metadata": {},
   "source": [
    "Test the function.  Expected result: $$\\left(\\begin{array}{c}-1 \\\\ 0  \\end{array}\\right).$$"
   ]
  },
  {
   "cell_type": "code",
   "execution_count": null,
   "id": "a5cef26b",
   "metadata": {},
   "outputs": [],
   "source": [
    "non_basic_index_1 = 0\n",
    "basic_part_1 = basic_part_basic_direction(\n",
    "    constraint_matrix=standard_a,\n",
    "    basic_indices=the_basic_indices,\n",
    "    non_basic_index=non_basic_index_1,\n",
    ")\n",
    "print(f'Basic part of d_{non_basic_index_1} = {basic_part_1}.')\n"
   ]
  },
  {
   "cell_type": "markdown",
   "id": "ede1f2a3",
   "metadata": {},
   "source": [
    "Test again the function.  Expected result: $$\\left(\\begin{array}{c}-1 \\\\ -1  \\end{array}\\right).$$"
   ]
  },
  {
   "cell_type": "code",
   "execution_count": null,
   "id": "901affed",
   "metadata": {},
   "outputs": [],
   "source": [
    "non_basic_index_2 = 3\n",
    "basic_part_2 = basic_part_basic_direction(\n",
    "    constraint_matrix=standard_a,\n",
    "    basic_indices=the_basic_indices,\n",
    "    non_basic_index=non_basic_index_2,\n",
    ")\n",
    "print(f'Basic part of d_{non_basic_index_2} = {basic_part_2}.')\n",
    "\n"
   ]
  },
  {
   "cell_type": "markdown",
   "id": "310d0a10",
   "metadata": {},
   "source": [
    "## Function that builds the direction in the full space,\n",
    "In a space of dimension $n$, we have a vector $d_B$ of dimension $m \\leq n$, identified\n",
    "by their indices. This function builds the vector in dimension $n$ where all non-basic entries are zero,\n",
    "except one which is one.\n",
    "Complete it by replacing the ...."
   ]
  },
  {
   "cell_type": "code",
   "execution_count": null,
   "id": "4c2af52f",
   "metadata": {},
   "outputs": [],
   "source": [
    "def build_basic_direction(\n",
    "    number_of_variables: int,\n",
    "    basic_part: np.ndarray,\n",
    "    basic_indices: list[int],\n",
    "    non_basic_index: int,\n",
    ") -> np.ndarray:\n",
    "    \"\"\"\n",
    "    Builds the vector in dimension n where all non-basic entries are zero, except one.\n",
    "\n",
    "    :param number_of_variables: dimension n.\n",
    "    :param basic_part: vector with the basic part of the direction.\n",
    "    :param basic_indices: indices of basic variables in the space of dimension n.\n",
    "    :param non_basic_index: index of the non-basic variable.\n",
    "    :return: complete basic direction.\n",
    "    \"\"\"\n",
    "    # Check that the number of basic variables is less or equal to n\n",
    "    if len(basic_part) > number_of_variables:\n",
    "        raise ValueError(\n",
    "            f'The number of basic variables [{len(basic_part)}] must be less than or equal '\n",
    "            f'to the dimension [{number_of_variables}].'\n",
    "        )\n",
    "\n",
    "    # Check that the two vectors have the same dimension\n",
    "    if len(basic_part) != len(basic_indices):\n",
    "        raise ValueError(\n",
    "            f'The dimensions of the basic variables [{len(basic_part)}] and their '\n",
    "            f'indices [{len(basic_indices)}] must match.'\n",
    "        )\n",
    "\n",
    "    # Check that all indices are valid\n",
    "    if not all(\n",
    "        0 <= index < number_of_variables for index in basic_indices + [non_basic_index]\n",
    "    ):\n",
    "        raise ValueError('All indices must be valid, that is between 0 and n-1.')\n",
    "\n",
    "    # Initialize the complete solution vector with zeros\n",
    "    complete_solution = np.zeros(number_of_variables)\n",
    "\n",
    "    # Assign the values of basic variables to their corresponding positions\n",
    "    for variable, index in zip(basic_part, basic_indices):\n",
    "        complete_solution[index] = variable\n",
    "\n",
    "    # Set the entry corresponding to the non-basic variable to 1.\n",
    "    complete_solution[non_basic_index] = 1.0\n",
    "    return complete_solution\n",
    "\n"
   ]
  },
  {
   "cell_type": "markdown",
   "id": "c23fc7f7",
   "metadata": {},
   "source": [
    "Test the function.  Expected result: $$\\left(\\begin{array}{c}1 \\\\ -1 \\\\ 0\\\\ 0  \\end{array}\\right).$$"
   ]
  },
  {
   "cell_type": "code",
   "execution_count": null,
   "id": "feee3a60",
   "metadata": {},
   "outputs": [],
   "source": [
    "full_direction_1 = build_basic_direction(\n",
    "    number_of_variables=n_variables,\n",
    "    basic_part=basic_part_1,\n",
    "    basic_indices=the_basic_indices,\n",
    "    non_basic_index=non_basic_index_1,\n",
    ")\n",
    "print(f'Basic direction d_{non_basic_index_1} = {full_direction_1}.')\n"
   ]
  },
  {
   "cell_type": "markdown",
   "id": "a8bf854c",
   "metadata": {},
   "source": [
    "We draw the polyhedron and the direction."
   ]
  },
  {
   "cell_type": "code",
   "execution_count": null,
   "id": "785d30b4",
   "metadata": {},
   "outputs": [],
   "source": [
    "draw_polyhedron_standard_form(\n",
    "    matrix_a=standard_a,\n",
    "    vector_b=standard_b,\n",
    "    directions=[\n",
    "        LabeledDirection(\n",
    "            start=the_standard_form.basic_solution,\n",
    "            direction=full_direction_1,\n",
    "            width=0.05,\n",
    "        )\n",
    "    ],\n",
    ")\n"
   ]
  },
  {
   "cell_type": "markdown",
   "id": "9fc537cf",
   "metadata": {},
   "source": [
    "Test again the function.  Expected result: $$\\left(\\begin{array}{c}0 \\\\ -1 \\\\ -1\\\\ 1  \\end{array}\\right).$$"
   ]
  },
  {
   "cell_type": "code",
   "execution_count": null,
   "id": "199f57d3",
   "metadata": {},
   "outputs": [],
   "source": [
    "full_direction_2 = build_basic_direction(\n",
    "    number_of_variables=n_variables,\n",
    "    basic_part=basic_part_2,\n",
    "    basic_indices=the_basic_indices,\n",
    "    non_basic_index=non_basic_index_2,\n",
    ")\n",
    "print(f'Basic direction d_{non_basic_index_2} = {full_direction_2}.')\n"
   ]
  },
  {
   "cell_type": "markdown",
   "id": "b90f84fc",
   "metadata": {},
   "source": [
    "We draw the polyhedron and the direction."
   ]
  },
  {
   "cell_type": "code",
   "execution_count": null,
   "id": "fa16f323",
   "metadata": {},
   "outputs": [],
   "source": [
    "\n",
    "draw_polyhedron_standard_form(\n",
    "    matrix_a=standard_a,\n",
    "    vector_b=standard_b,\n",
    "    directions=[\n",
    "        LabeledDirection(\n",
    "            start=the_standard_form.basic_solution,\n",
    "            direction=full_direction_2,\n",
    "            width=0.05,\n",
    "        )\n",
    "    ],\n",
    ")\n",
    "\n"
   ]
  },
  {
   "cell_type": "markdown",
   "id": "3883bd82",
   "metadata": {},
   "source": [
    "## Function that calls all the previous ones to obtain a basic direction.\n",
    "Nothing needs to be done.The implementation is complete."
   ]
  },
  {
   "cell_type": "code",
   "execution_count": null,
   "id": "77c1e194",
   "metadata": {},
   "outputs": [],
   "source": [
    "def basic_direction(\n",
    "    constraint_matrix: np.ndarray, basic_indices: list[int], non_basic_index: int\n",
    ") -> np.ndarray | None:\n",
    "    \"\"\"\n",
    "\n",
    "    :param constraint_matrix: A numpy ndarray representing the constraint matrix.\n",
    "    :param basic_indices: A list of integers representing the column indices to form the basis.\n",
    "    :param non_basic_index: index of the non-basic variable.\n",
    "    :return: the basic direction.\n",
    "    \"\"\"\n",
    "    n_constraints, n_variables = constraint_matrix.shape\n",
    "    basic_part = basic_part_basic_direction(\n",
    "        constraint_matrix=constraint_matrix,\n",
    "        basic_indices=basic_indices,\n",
    "        non_basic_index=non_basic_index,\n",
    "    )\n",
    "    if basic_part is None:\n",
    "        print('Impossible to calculate the basic direction. Basic matrix is singular')\n",
    "        return None\n",
    "\n",
    "    full_direction = build_basic_direction(\n",
    "        number_of_variables=n_variables,\n",
    "        basic_part=basic_part,\n",
    "        basic_indices=basic_indices,\n",
    "        non_basic_index=non_basic_index,\n",
    "    )\n",
    "    return full_direction\n",
    "\n"
   ]
  },
  {
   "cell_type": "markdown",
   "id": "b6058bc4",
   "metadata": {},
   "source": [
    "We test it on the same polyhedron, with a different basis."
   ]
  },
  {
   "cell_type": "code",
   "execution_count": null,
   "id": "d9f29cc8",
   "metadata": {},
   "outputs": [],
   "source": [
    "the_basic_indices = [1, 3]\n",
    "the_standard_form.basic_indices = the_basic_indices\n"
   ]
  },
  {
   "cell_type": "markdown",
   "id": "dbcc7091",
   "metadata": {},
   "source": [
    "We select the non basic variable."
   ]
  },
  {
   "cell_type": "code",
   "execution_count": null,
   "id": "0db06049",
   "metadata": {},
   "outputs": [],
   "source": [
    "non_basic_index_1 = 0\n",
    "full_direction_1 = basic_direction(\n",
    "    constraint_matrix=standard_a,\n",
    "    basic_indices=the_basic_indices,\n",
    "    non_basic_index=non_basic_index_1,\n",
    ")\n",
    "print(full_direction_1)\n"
   ]
  },
  {
   "cell_type": "markdown",
   "id": "3796ef69",
   "metadata": {},
   "source": [
    "We draw the polyhedron and the direction."
   ]
  },
  {
   "cell_type": "code",
   "execution_count": null,
   "id": "23aa5a0a",
   "metadata": {},
   "outputs": [],
   "source": [
    "\n",
    "draw_polyhedron_standard_form(\n",
    "    matrix_a=standard_a,\n",
    "    vector_b=standard_b,\n",
    "    directions=[\n",
    "        LabeledDirection(\n",
    "            start=the_standard_form.basic_solution,\n",
    "            direction=full_direction_1,\n",
    "            width=0.05,\n",
    "        )\n",
    "    ],\n",
    ")\n"
   ]
  },
  {
   "cell_type": "markdown",
   "id": "c44846e2",
   "metadata": {},
   "source": [
    "We select another non basic variable."
   ]
  },
  {
   "cell_type": "code",
   "execution_count": null,
   "id": "75485f80",
   "metadata": {},
   "outputs": [],
   "source": [
    "non_basic_index_2 = 2\n",
    "full_direction_2 = basic_direction(\n",
    "    constraint_matrix=standard_a,\n",
    "    basic_indices=the_basic_indices,\n",
    "    non_basic_index=non_basic_index_2,\n",
    ")\n",
    "print(full_direction_2)\n"
   ]
  },
  {
   "cell_type": "markdown",
   "id": "25a18b81",
   "metadata": {},
   "source": [
    "We draw the polyhedron and the direction."
   ]
  },
  {
   "cell_type": "code",
   "execution_count": null,
   "id": "6c013067",
   "metadata": {},
   "outputs": [],
   "source": [
    "\n",
    "draw_polyhedron_standard_form(\n",
    "    matrix_a=standard_a,\n",
    "    vector_b=standard_b,\n",
    "    directions=[\n",
    "        LabeledDirection(\n",
    "            start=the_standard_form.basic_solution,\n",
    "            direction=full_direction_2,\n",
    "            width=0.05,\n",
    "        )\n",
    "    ],\n",
    ")\n"
   ]
  },
  {
   "cell_type": "markdown",
   "id": "c699d3a3",
   "metadata": {},
   "source": [
    "## Polyhedron 2\n",
    "We now investigate the second polyhedron.\n",
    "$$ P = \\left\\{\n",
    "\\begin{pmatrix}\n",
    "x_1\\\\\n",
    "x_2\n",
    "\\end{pmatrix} \\in \\mathbb{R}^2\n",
    "| x_1+x_2 \\leq 1,\n",
    "-x_1+2x_2 \\leq 2, x_1 \\geq 0, x_2 \\geq 0 \\right\\}.$$"
   ]
  },
  {
   "cell_type": "markdown",
   "id": "859bba9d",
   "metadata": {},
   "source": [
    "Data in standard form."
   ]
  },
  {
   "cell_type": "code",
   "execution_count": null,
   "id": "5d77b448",
   "metadata": {},
   "outputs": [],
   "source": [
    "standard_a = np.array([[1, 1, 1, 0], [-1, 2, 0, 1]])\n",
    "standard_b = np.array([1, 2])\n"
   ]
  },
  {
   "cell_type": "code",
   "execution_count": null,
   "id": "b323b6a3",
   "metadata": {},
   "outputs": [],
   "source": [
    "n_constraints, n_variables = standard_a.shape\n",
    "print(f'{n_variables} variables, {n_constraints} constraints.')\n"
   ]
  },
  {
   "cell_type": "markdown",
   "id": "87c05656",
   "metadata": {},
   "source": [
    "Draw the polyhedron."
   ]
  },
  {
   "cell_type": "code",
   "execution_count": null,
   "id": "7c604c3b",
   "metadata": {},
   "outputs": [],
   "source": [
    "draw_polyhedron_standard_form(matrix_a=standard_a, vector_b=standard_b)\n"
   ]
  },
  {
   "cell_type": "markdown",
   "id": "cf4baba0",
   "metadata": {},
   "source": [
    "We select a basis."
   ]
  },
  {
   "cell_type": "code",
   "execution_count": null,
   "id": "a88fd507",
   "metadata": {},
   "outputs": [],
   "source": [
    "the_basic_indices = [0, 1]\n",
    "the_standard_form = StandardForm(matrix=standard_a, vector=standard_b)\n",
    "the_standard_form.basic_indices = the_basic_indices\n"
   ]
  },
  {
   "cell_type": "markdown",
   "id": "3889a851",
   "metadata": {},
   "source": [
    "Calculate the basic direction corresponding to non basic variable 2."
   ]
  },
  {
   "cell_type": "code",
   "execution_count": null,
   "id": "27439c64",
   "metadata": {},
   "outputs": [],
   "source": [
    "non_basic_index_2 = 2\n",
    "basic_direction_2 = basic_direction(\n",
    "    constraint_matrix=standard_a,\n",
    "    basic_indices=the_basic_indices,\n",
    "    non_basic_index=non_basic_index_2,\n",
    ")\n"
   ]
  },
  {
   "cell_type": "code",
   "execution_count": null,
   "id": "a35b7a99",
   "metadata": {},
   "outputs": [],
   "source": [
    "print(f'Feasible basic solution: {the_standard_form.basic_solution}')\n",
    "print(f'Basic direction:         {basic_direction_2}')\n"
   ]
  },
  {
   "cell_type": "markdown",
   "id": "edbb5201",
   "metadata": {},
   "source": [
    "If we move along the direction with a step $\\alpha$, we obtain the point"
   ]
  },
  {
   "cell_type": "code",
   "execution_count": null,
   "id": "c9f5f87f",
   "metadata": {},
   "outputs": [],
   "source": [
    "new_point = [\n",
    "    f'{x:.3g} + {d:.3g} alpha'\n",
    "    for x, d in zip(the_standard_form.basic_solution, basic_direction_2)\n",
    "]\n",
    "print(f'New point = [{\", \".join(new_point)}]')\n"
   ]
  },
  {
   "cell_type": "markdown",
   "id": "8a48215a",
   "metadata": {},
   "source": [
    "Note that, for any positive value of $\\alpha$, the first coordinate is negative, and the point is infeasible.\n",
    "Therefore, the basic direction is infeasible.\n",
    "If we draw the polyhedron. We observe that the basic direction is indeed infeasible. It may happen\n",
    "if the basic solution is degenerate, like in this example."
   ]
  },
  {
   "cell_type": "code",
   "execution_count": null,
   "id": "801b1e7a",
   "metadata": {},
   "outputs": [],
   "source": [
    "draw_polyhedron_standard_form(\n",
    "    matrix_a=standard_a,\n",
    "    vector_b=standard_b,\n",
    "    directions=[\n",
    "        LabeledDirection(\n",
    "            start=the_standard_form.basic_solution,\n",
    "            direction=basic_direction_2,\n",
    "            width=0.05,\n",
    "        )\n",
    "    ],\n",
    ")\n"
   ]
  },
  {
   "cell_type": "markdown",
   "id": "3992709f",
   "metadata": {},
   "source": [
    "Calculate the basic direction corresponding to non basic variable 3."
   ]
  },
  {
   "cell_type": "code",
   "execution_count": null,
   "id": "b9c42a48",
   "metadata": {},
   "outputs": [],
   "source": [
    "non_basic_index_3 = 3\n",
    "basic_direction_3 = basic_direction(\n",
    "    constraint_matrix=standard_a,\n",
    "    basic_indices=the_basic_indices,\n",
    "    non_basic_index=non_basic_index_3,\n",
    ")\n"
   ]
  },
  {
   "cell_type": "code",
   "execution_count": null,
   "id": "e626dda6",
   "metadata": {},
   "outputs": [],
   "source": [
    "print(f'Feasible basic solution: {the_standard_form.basic_solution}')\n",
    "print(f'Basic direction:         {basic_direction_3}')\n"
   ]
  },
  {
   "cell_type": "markdown",
   "id": "a4b845d5",
   "metadata": {},
   "source": [
    "If we move along the direction with a step $\\alpha$, we obtain the point"
   ]
  },
  {
   "cell_type": "code",
   "execution_count": null,
   "id": "a35656c0",
   "metadata": {},
   "outputs": [],
   "source": [
    "new_point = [\n",
    "    f'{x:.3g} + {d:.3g} alpha'\n",
    "    for x, d in zip(the_standard_form.basic_solution, basic_direction_3)\n",
    "]\n",
    "print(f'New point = [{\", \".join(new_point)}]')\n"
   ]
  },
  {
   "cell_type": "markdown",
   "id": "db9a3afe",
   "metadata": {},
   "source": [
    "Draw the polyhedron. We observe that this basic direction is feasible."
   ]
  },
  {
   "cell_type": "code",
   "execution_count": null,
   "id": "462d0cc6",
   "metadata": {},
   "outputs": [],
   "source": [
    "draw_polyhedron_standard_form(\n",
    "    matrix_a=standard_a,\n",
    "    vector_b=standard_b,\n",
    "    directions=[\n",
    "        LabeledDirection(\n",
    "            start=the_standard_form.basic_solution,\n",
    "            direction=basic_direction_3,\n",
    "            width=0.05,\n",
    "        )\n",
    "    ],\n",
    ")\n"
   ]
  },
  {
   "cell_type": "markdown",
   "id": "5337ffb1",
   "metadata": {},
   "source": [
    "# Future usage.\n",
    "These functions are implemented in the package, so that they can be reused in the future. Here is the syntax."
   ]
  },
  {
   "cell_type": "markdown",
   "id": "71890345",
   "metadata": {},
   "source": [
    "First, we create an object using the data:"
   ]
  },
  {
   "cell_type": "code",
   "execution_count": null,
   "id": "210c8e6f",
   "metadata": {},
   "outputs": [],
   "source": [
    "the_standard_form = StandardForm(matrix=standard_a, vector=standard_b)\n"
   ]
  },
  {
   "cell_type": "markdown",
   "id": "96eeee78",
   "metadata": {},
   "source": [
    "Then, we set the basic indices."
   ]
  },
  {
   "cell_type": "code",
   "execution_count": null,
   "id": "26d02f6d",
   "metadata": {},
   "outputs": [],
   "source": [
    "the_basic_indices = [0, 1]\n",
    "the_standard_form.basic_indices = the_basic_indices\n"
   ]
  },
  {
   "cell_type": "markdown",
   "id": "76555d47",
   "metadata": {},
   "source": [
    "The basic solution is available as:"
   ]
  },
  {
   "cell_type": "code",
   "execution_count": null,
   "id": "27981c4d",
   "metadata": {},
   "outputs": [],
   "source": [
    "basic_solution = the_standard_form.basic_solution\n",
    "print(basic_solution)\n"
   ]
  },
  {
   "cell_type": "markdown",
   "id": "f276fbb8",
   "metadata": {},
   "source": [
    "And the basic directions can be obtained as follows:"
   ]
  },
  {
   "cell_type": "code",
   "execution_count": null,
   "id": "a934c2b7",
   "metadata": {},
   "outputs": [],
   "source": [
    "basic_direction_2 = the_standard_form.basic_direction(non_basic_index=2)\n",
    "print(basic_direction_2)\n"
   ]
  },
  {
   "cell_type": "code",
   "execution_count": null,
   "id": "52645145",
   "metadata": {},
   "outputs": [],
   "source": [
    "basic_direction_3 = the_standard_form.basic_direction(non_basic_index=3)\n",
    "print(basic_direction_3)"
   ]
  }
 ],
 "metadata": {},
 "nbformat": 4,
 "nbformat_minor": 5
}
