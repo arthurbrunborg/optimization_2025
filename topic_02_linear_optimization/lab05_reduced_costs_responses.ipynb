{
 "cells": [
  {
   "cell_type": "markdown",
   "id": "0533889a",
   "metadata": {},
   "source": [
    "# Reduced costs\n",
    "\n",
    "## Introduction to optimization and operations research\n",
    "\n",
    "Michel Bierlaire\n"
   ]
  },
  {
   "cell_type": "code",
   "execution_count": null,
   "id": "5cfdf686",
   "metadata": {},
   "outputs": [],
   "source": [
    "\n",
    "import numpy as np\n",
    "from teaching_optimization.linear_constraints import StandardForm\n",
    "from teaching_optimization.linear_optimization import LinearOptimization\n"
   ]
  },
  {
   "cell_type": "markdown",
   "id": "c86c8eee",
   "metadata": {},
   "source": [
    "In this lab, you will practice computing **reduced costs** and interpreting what they mean for optimality.\n",
    "You will take a given basis, build the associated basic direction for each nonbasic variable, and use it to\n",
    "calculate the reduced cost (c̄_p = c_p + c_B^T d_B). Reduced costs tell you whether introducing a variable\n",
    "can improve the objective (negative for minimization, positive for maximization) and which variable should\n",
    "enter the basis in the simplex method. You will also verify that basic variables have zero reduced cost and\n",
    "connect these calculations to the simplex optimality test. The goal is to turn the algebra (B^{-1}A_p and c_B)\n",
    "into intuition about **which move** the algorithm will take and **why** it leads toward the optimum.\n",
    "\n",
    "\n",
    "Consider the optimization problem\n",
    "$$\n",
    "\\min x_0\n",
    "$$\n",
    "subject to\n",
    "\\begin{align*}\n",
    "x_0+x_1+x_2 & =1,\\\\\n",
    "-x_0+2x_1+x_3 &=2,\\\\\n",
    "x_0,x_1,x_2,x_3 & \\geq 0.\n",
    "\\end{align*}\n",
    "Consider the basis where the  variables\n",
    "$x_0$ and $x_1$ are in the basis, and calculate all reduced costs for\n",
    "that basis. Remember that the reduced cost associated with a non basic variable $x_p$ is defined as\n",
    "$$\n",
    "\\bar{c}_p = c_p - c_B^T B^{-1} A_p,\n",
    "$$\n",
    "where $c_B$ are the entries of the vector $c$ corresponding to the basic variables, and $A_p$ is the $p$th\n",
    "column of $A$."
   ]
  },
  {
   "cell_type": "markdown",
   "id": "df11a204",
   "metadata": {},
   "source": [
    "It is actually convenient to write it as\n",
    "$$\n",
    "\\bar{c}_p = c_p + c_B^T d_B,\n",
    "$$\n",
    "where\n",
    "$$\n",
    "d_B =  - B^{-1} A_p,\n",
    "$$\n",
    "is the basic part of the basic direction."
   ]
  },
  {
   "cell_type": "markdown",
   "id": "ed202efb",
   "metadata": {},
   "source": [
    "Data of the problem"
   ]
  },
  {
   "cell_type": "code",
   "execution_count": null,
   "id": "03056482",
   "metadata": {},
   "outputs": [],
   "source": [
    "standard_a = np.array([[1, 1, 1, 0], [-1, 2, 0, 1]])\n",
    "standard_b = np.array([1, 2])\n",
    "the_objective = np.array([1, 0, 0, 0])\n"
   ]
  },
  {
   "cell_type": "markdown",
   "id": "326d8c5b",
   "metadata": {},
   "source": [
    "We use the object dealing with the constraints in standard form."
   ]
  },
  {
   "cell_type": "code",
   "execution_count": null,
   "id": "ec47c479",
   "metadata": {},
   "outputs": [],
   "source": [
    "the_constraints = StandardForm(matrix=standard_a, vector=standard_b)\n",
    "help(the_constraints)\n",
    "\n"
   ]
  },
  {
   "cell_type": "markdown",
   "id": "7ed0fc73",
   "metadata": {},
   "source": [
    "Function calculating the reduced costs. Replace the ...."
   ]
  },
  {
   "cell_type": "code",
   "execution_count": null,
   "id": "80881a88",
   "metadata": {},
   "outputs": [],
   "source": [
    "def reduced_cost(\n",
    "    constraints: StandardForm,\n",
    "    objective: np.ndarray,\n",
    "    basic_indices: list[int],\n",
    "    variable_index: int,\n",
    ") -> float:\n",
    "    \"\"\"Calculation of the reduced costs\n",
    "\n",
    "    :param constraints: object capturing the constraints\n",
    "    :param objective: vector of coefficients of the objective function.\n",
    "    :param basic_indices: list of indices of basic variables.\n",
    "    :param variable_index: index of the variable for which we calculate the reduced cost.\n",
    "    :return: value of the reduced cost.\n",
    "    \"\"\"\n",
    "    constraints.basic_indices = basic_indices\n",
    "\n",
    "    # The value of the reduced cost of basic variables is always the same.\n",
    "    if variable_index in basic_indices:\n",
    "        return 0\n",
    "\n",
    "    # Obtain the basic part of the basic direction.\n",
    "    direction = constraints.basic_part_basic_direction(\n",
    "        non_basic_index=variable_index\n",
    "    )\n",
    "\n",
    "    # Extract the basic components of the cost vector.\n",
    "    basic_costs = objective[basic_indices]\n",
    "\n",
    "    # Calculate the reduced costs\n",
    "    return objective[variable_index] + np.inner(\n",
    "        direction, basic_costs\n",
    "    )\n",
    "\n"
   ]
  },
  {
   "cell_type": "markdown",
   "id": "ebb121c4",
   "metadata": {},
   "source": [
    "We apply it to solve the exercise above."
   ]
  },
  {
   "cell_type": "code",
   "execution_count": null,
   "id": "fadaa002",
   "metadata": {},
   "outputs": [],
   "source": [
    "\n",
    "basic_indices = [0, 1]\n"
   ]
  },
  {
   "cell_type": "markdown",
   "id": "ec82e2b5",
   "metadata": {},
   "source": [
    "We calculate the reduced costs for each variable."
   ]
  },
  {
   "cell_type": "code",
   "execution_count": null,
   "id": "7584974f",
   "metadata": {},
   "outputs": [],
   "source": [
    "reduced_costs = [\n",
    "    reduced_cost(\n",
    "        constraints=the_constraints,\n",
    "        objective=the_objective,\n",
    "        basic_indices=basic_indices,\n",
    "        variable_index=index,\n",
    "    )\n",
    "    for index in range(the_constraints.n_variables)\n",
    "]\n"
   ]
  },
  {
   "cell_type": "markdown",
   "id": "737e82b8",
   "metadata": {},
   "source": [
    "Variable 0. Expected result: 0"
   ]
  },
  {
   "cell_type": "code",
   "execution_count": null,
   "id": "ec91d33d",
   "metadata": {},
   "outputs": [],
   "source": [
    "print(reduced_costs[0])\n"
   ]
  },
  {
   "cell_type": "markdown",
   "id": "9c4c2129",
   "metadata": {},
   "source": [
    "Variable 1. Expected result: 0"
   ]
  },
  {
   "cell_type": "code",
   "execution_count": null,
   "id": "237e7f42",
   "metadata": {},
   "outputs": [],
   "source": [
    "print(reduced_costs[1])\n"
   ]
  },
  {
   "cell_type": "markdown",
   "id": "4ea22aec",
   "metadata": {},
   "source": [
    "Variable 2. Expected result: -2/3"
   ]
  },
  {
   "cell_type": "code",
   "execution_count": null,
   "id": "6dd243f0",
   "metadata": {},
   "outputs": [],
   "source": [
    "print(reduced_costs[2])\n"
   ]
  },
  {
   "cell_type": "markdown",
   "id": "ac2d749b",
   "metadata": {},
   "source": [
    "Variable 3. Expected result: 1/3"
   ]
  },
  {
   "cell_type": "code",
   "execution_count": null,
   "id": "f5e8e754",
   "metadata": {},
   "outputs": [],
   "source": [
    "print(reduced_costs[3])\n"
   ]
  },
  {
   "cell_type": "markdown",
   "id": "751339a2",
   "metadata": {},
   "source": [
    "# Future usage.\n",
    "These functions are implemented in the package, so that they can be reused in the future. Here is the syntax."
   ]
  },
  {
   "cell_type": "code",
   "execution_count": null,
   "id": "31fde875",
   "metadata": {},
   "outputs": [],
   "source": [
    "the_optimization_problem = LinearOptimization(\n",
    "    objective=the_objective, constraint_matrix=standard_a, right_hand_side=standard_b\n",
    ")\n",
    "\n",
    "the_optimization_problem.basic_indices = [0, 1]\n",
    "reduced_costs = [\n",
    "    the_optimization_problem.reduced_cost(variable_index=index)\n",
    "    for index in range(the_optimization_problem.n_variables)\n",
    "]\n",
    "print(reduced_costs)"
   ]
  }
 ],
 "metadata": {},
 "nbformat": 4,
 "nbformat_minor": 5
}
