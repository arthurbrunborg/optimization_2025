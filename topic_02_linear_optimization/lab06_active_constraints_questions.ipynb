{
 "cells": [
  {
   "cell_type": "markdown",
   "id": "23612a8e",
   "metadata": {},
   "source": [
    "# Active constraints\n",
    "\n",
    "## Introduction to optimization and operations research.\n",
    "\n",
    "Michel Bierlaire\n"
   ]
  },
  {
   "cell_type": "code",
   "execution_count": null,
   "id": "ccf10eab",
   "metadata": {},
   "outputs": [],
   "source": [
    "\n",
    "import numpy as np\n"
   ]
  },
  {
   "cell_type": "markdown",
   "id": "5cf62b6c",
   "metadata": {},
   "source": [
    "In this lab, you will practice checking **feasibility** of points and identifying **active constraints**\n",
    "for a small linear optimization problem. You will implement simple tests for each inequality and use them\n",
    "to determine whether a candidate point lies in the feasible set and which constraints hold with equality.\n",
    "Understanding activity is essential for geometry (which edges/vertices you are on) and for theory (KKT\n",
    "conditions, complementary slackness), and it explains why algorithms like the simplex method pivot along\n",
    "active constraints. Work carefully through the examples to build intuition about how feasibility and\n",
    "constraint activity interact to shape the feasible region and the optimal solution."
   ]
  },
  {
   "cell_type": "markdown",
   "id": "028db012",
   "metadata": {},
   "source": [
    "Consider the following linear optimization problem:\n",
    "\\begin{align*}\n",
    "& \\min_{x \\in \\mathbb{R}^2} 2 x_1 + x_2 \\\\\n",
    "\\text{subject to} & \\\\\n",
    "& x_1 + x_2 \\geq 3, \\\\\n",
    "& x_1 + 2 x_2 \\leq 6, \\\\\n",
    "& x_1 \\geq 1, \\\\\n",
    "& x_2 \\geq 1.\n",
    "\\end{align*}\n"
   ]
  },
  {
   "cell_type": "markdown",
   "id": "8c77f097",
   "metadata": {},
   "source": [
    "For each constraint, implement a function that checks if it is verified by a point $x=(x_1, x_2)$, and another one\n",
    "that verifies if it is active at a pont $x$."
   ]
  },
  {
   "cell_type": "markdown",
   "id": "829adc8c",
   "metadata": {},
   "source": [
    "Remember that, in Python, the arrays are numbered starting from 0 and not 1"
   ]
  },
  {
   "cell_type": "markdown",
   "id": "05a65d7e",
   "metadata": {},
   "source": [
    "First constraint"
   ]
  },
  {
   "cell_type": "markdown",
   "id": "19ffa3d8",
   "metadata": {},
   "source": [
    "Feasible?"
   ]
  },
  {
   "cell_type": "code",
   "execution_count": null,
   "id": "c6428faa",
   "metadata": {},
   "outputs": [],
   "source": [
    "def is_c1_feasible(x: np.array) -> bool:\n",
    "    \"\"\"Check of the first constraint is feasible\"\"\"\n",
    "    x_1 = x[0]\n",
    "    x_2 = x[1]\n",
    "    return ...\n",
    "\n"
   ]
  },
  {
   "cell_type": "markdown",
   "id": "791449e5",
   "metadata": {},
   "source": [
    "Active?"
   ]
  },
  {
   "cell_type": "code",
   "execution_count": null,
   "id": "f3d752e5",
   "metadata": {},
   "outputs": [],
   "source": [
    "def is_c1_active(x: np.array) -> bool:\n",
    "    \"\"\"Check of the first constraint is feasible\"\"\"\n",
    "    x_1 = x[0]\n",
    "    x_2 = x[1]\n",
    "    return ...\n",
    "\n"
   ]
  },
  {
   "cell_type": "markdown",
   "id": "d631fc86",
   "metadata": {},
   "source": [
    "Second constraint"
   ]
  },
  {
   "cell_type": "markdown",
   "id": "e8a9e283",
   "metadata": {},
   "source": [
    "Feasible?"
   ]
  },
  {
   "cell_type": "code",
   "execution_count": null,
   "id": "d20e305f",
   "metadata": {},
   "outputs": [],
   "source": [
    "def is_c2_feasible(x: np.array) -> bool:\n",
    "    \"\"\"Check of the first constraint is feasible\"\"\"\n",
    "    x_1 = x[0]\n",
    "    x_2 = x[1]\n",
    "    return ...\n",
    "\n"
   ]
  },
  {
   "cell_type": "markdown",
   "id": "2fe28bb3",
   "metadata": {},
   "source": [
    "Active?"
   ]
  },
  {
   "cell_type": "code",
   "execution_count": null,
   "id": "5f880250",
   "metadata": {},
   "outputs": [],
   "source": [
    "def is_c2_active(x: np.array) -> bool:\n",
    "    \"\"\"Check of the first constraint is feasible\"\"\"\n",
    "    x_1 = x[0]\n",
    "    x_2 = x[1]\n",
    "     return ...\n",
    "\n"
   ]
  },
  {
   "cell_type": "markdown",
   "id": "3a75b464",
   "metadata": {},
   "source": [
    "Third constraint"
   ]
  },
  {
   "cell_type": "markdown",
   "id": "36ac86fa",
   "metadata": {},
   "source": [
    "Feasible?"
   ]
  },
  {
   "cell_type": "code",
   "execution_count": null,
   "id": "61c6291e",
   "metadata": {},
   "outputs": [],
   "source": [
    "def is_c3_feasible(x: np.array) -> bool:\n",
    "    \"\"\"Check of the first constraint is feasible\"\"\"\n",
    "    x_1 = x[0]\n",
    "    return ...\n",
    "\n"
   ]
  },
  {
   "cell_type": "markdown",
   "id": "ea0d7fc4",
   "metadata": {},
   "source": [
    "Active?"
   ]
  },
  {
   "cell_type": "code",
   "execution_count": null,
   "id": "6a1de801",
   "metadata": {},
   "outputs": [],
   "source": [
    "def is_c3_active(x: np.array) -> bool:\n",
    "    \"\"\"Check of the first constraint is feasible\"\"\"\n",
    "    x_1 = x[0]\n",
    "    return ...\n",
    "\n"
   ]
  },
  {
   "cell_type": "markdown",
   "id": "a873584b",
   "metadata": {},
   "source": [
    "Fourth constraint"
   ]
  },
  {
   "cell_type": "markdown",
   "id": "ba82963d",
   "metadata": {},
   "source": [
    "Feasible?"
   ]
  },
  {
   "cell_type": "code",
   "execution_count": null,
   "id": "004cb0cf",
   "metadata": {},
   "outputs": [],
   "source": [
    "def is_c4_feasible(x: np.array) -> bool:\n",
    "    \"\"\"Check of the first constraint is feasible\"\"\"\n",
    "    x_2 = x[1]\n",
    "    return ...\n",
    "\n"
   ]
  },
  {
   "cell_type": "markdown",
   "id": "d7e32584",
   "metadata": {},
   "source": [
    "Active?"
   ]
  },
  {
   "cell_type": "code",
   "execution_count": null,
   "id": "0e20a850",
   "metadata": {},
   "outputs": [],
   "source": [
    "def is_c4_active(x: np.array) -> bool:\n",
    "    \"\"\"Check of the first constraint is feasible\"\"\"\n",
    "    x_2 = x[1]\n",
    "    return ...\n",
    "\n"
   ]
  },
  {
   "cell_type": "markdown",
   "id": "9748f714",
   "metadata": {},
   "source": [
    "Use the functions defined above to answer the following questions."
   ]
  },
  {
   "cell_type": "markdown",
   "id": "78ce086a",
   "metadata": {},
   "source": [
    "Does the solution $x_1^* = 1$, $x_2^* = 2$ verify all the constraints of the problem?"
   ]
  },
  {
   "cell_type": "code",
   "execution_count": null,
   "id": "001455be",
   "metadata": {},
   "outputs": [],
   "source": [
    "\n",
    "is_feasible = ...\n",
    "\n",
    "\n",
    "\n",
    "\n",
    "\n"
   ]
  },
  {
   "cell_type": "markdown",
   "id": "c6198f7e",
   "metadata": {},
   "source": [
    "Solution: True"
   ]
  },
  {
   "cell_type": "code",
   "execution_count": null,
   "id": "cd86595c",
   "metadata": {},
   "outputs": [],
   "source": [
    "print(f'Is the solution feasible? {is_feasible}')\n"
   ]
  },
  {
   "cell_type": "markdown",
   "id": "140891fd",
   "metadata": {},
   "source": [
    "Which constraints are active at $(x_1^*, x_2^*)$?"
   ]
  },
  {
   "cell_type": "markdown",
   "id": "3179fad6",
   "metadata": {},
   "source": [
    "Solution: True"
   ]
  },
  {
   "cell_type": "code",
   "execution_count": null,
   "id": "aeb20fe7",
   "metadata": {},
   "outputs": [],
   "source": [
    "c1_active = ...\n",
    "print(f'Is constraint c1 active? {c1_active}')\n"
   ]
  },
  {
   "cell_type": "markdown",
   "id": "34cde92f",
   "metadata": {},
   "source": [
    "Solution: False"
   ]
  },
  {
   "cell_type": "code",
   "execution_count": null,
   "id": "2e8219b1",
   "metadata": {},
   "outputs": [],
   "source": [
    "c2_active = ...\n",
    "print(f'Is constraint c2 active? {c2_active}')\n"
   ]
  },
  {
   "cell_type": "markdown",
   "id": "32c9c60a",
   "metadata": {},
   "source": [
    "Solution: True"
   ]
  },
  {
   "cell_type": "code",
   "execution_count": null,
   "id": "689135b0",
   "metadata": {},
   "outputs": [],
   "source": [
    "c3_active = ...\n",
    "print(f'Is constraint c3 active? {c3_active}')\n"
   ]
  },
  {
   "cell_type": "markdown",
   "id": "57afa8b2",
   "metadata": {},
   "source": [
    "Solution: False"
   ]
  },
  {
   "cell_type": "code",
   "execution_count": null,
   "id": "0057502d",
   "metadata": {},
   "outputs": [],
   "source": [
    "c4_active = ...\n",
    "print(f'Is constraint c4 active? {c4_active}')\n"
   ]
  },
  {
   "cell_type": "markdown",
   "id": "993294cd",
   "metadata": {},
   "source": [
    "Answer the same questions with $x_1^* = 2$, $x_2^* = 1.5$."
   ]
  },
  {
   "cell_type": "code",
   "execution_count": null,
   "id": "68daae70",
   "metadata": {},
   "outputs": [],
   "source": [
    "\n",
    "\n",
    "is_feasible = ...\n",
    "\n",
    "\n",
    "\n",
    "\n",
    "\n"
   ]
  },
  {
   "cell_type": "markdown",
   "id": "2799d836",
   "metadata": {},
   "source": [
    "Solution: True"
   ]
  },
  {
   "cell_type": "code",
   "execution_count": null,
   "id": "ea3535ef",
   "metadata": {},
   "outputs": [],
   "source": [
    "print(f'Is the solution feasible? {is_feasible}')\n"
   ]
  },
  {
   "cell_type": "markdown",
   "id": "7ddfb20a",
   "metadata": {},
   "source": [
    "Which constraints are active at $(x_1^*, x_2^*)$?"
   ]
  },
  {
   "cell_type": "markdown",
   "id": "b454d3a7",
   "metadata": {},
   "source": [
    "Solution:_ False"
   ]
  },
  {
   "cell_type": "code",
   "execution_count": null,
   "id": "3a83107a",
   "metadata": {},
   "outputs": [],
   "source": [
    "c1_active = ...\n",
    "print(f'Is constraint c1 active? {c1_active}')\n"
   ]
  },
  {
   "cell_type": "markdown",
   "id": "c50092a1",
   "metadata": {},
   "source": [
    "Solution: False"
   ]
  },
  {
   "cell_type": "code",
   "execution_count": null,
   "id": "204d52a2",
   "metadata": {},
   "outputs": [],
   "source": [
    "c2_active = ...\n",
    "print(f'Is constraint c2 active? {c2_active}')\n"
   ]
  },
  {
   "cell_type": "markdown",
   "id": "4999cc4f",
   "metadata": {},
   "source": [
    "Solution: False"
   ]
  },
  {
   "cell_type": "code",
   "execution_count": null,
   "id": "afc6fa85",
   "metadata": {},
   "outputs": [],
   "source": [
    "c3_active = ...\n",
    "print(f'Is constraint c3 active? {c3_active}')\n"
   ]
  },
  {
   "cell_type": "markdown",
   "id": "3154ccb7",
   "metadata": {},
   "source": [
    "Solution: False"
   ]
  },
  {
   "cell_type": "code",
   "execution_count": null,
   "id": "689a70d7",
   "metadata": {},
   "outputs": [],
   "source": [
    "c4_active = ...\n",
    "print(f'Is constraint c4 active? {c4_active}')\n",
    "\n"
   ]
  },
  {
   "cell_type": "markdown",
   "id": "9f9813a5",
   "metadata": {},
   "source": [
    "Answer the same questions with $x_1^* = 1$, $x_2^* = 1$."
   ]
  },
  {
   "cell_type": "code",
   "execution_count": null,
   "id": "92ca95e4",
   "metadata": {},
   "outputs": [],
   "source": [
    "\n",
    "is_feasible = ...\n",
    "\n",
    "\n",
    "\n",
    "\n",
    "\n"
   ]
  },
  {
   "cell_type": "markdown",
   "id": "c2f439c1",
   "metadata": {},
   "source": [
    "Solution: False"
   ]
  },
  {
   "cell_type": "code",
   "execution_count": null,
   "id": "1b805f06",
   "metadata": {},
   "outputs": [],
   "source": [
    "print(f'Is the solution feasible? {is_feasible}')\n"
   ]
  },
  {
   "cell_type": "markdown",
   "id": "0ff7678c",
   "metadata": {},
   "source": [
    "Which constraints are active at $(x_1^*, x_2^*)$?"
   ]
  },
  {
   "cell_type": "markdown",
   "id": "6abfc2ff",
   "metadata": {},
   "source": [
    "Solution: False"
   ]
  },
  {
   "cell_type": "code",
   "execution_count": null,
   "id": "be311c41",
   "metadata": {},
   "outputs": [],
   "source": [
    "c1_active = ...\n",
    "print(f'Is constraint c1 active? {c1_active}')\n"
   ]
  },
  {
   "cell_type": "markdown",
   "id": "556984a2",
   "metadata": {},
   "source": [
    "Solution: False"
   ]
  },
  {
   "cell_type": "code",
   "execution_count": null,
   "id": "5b17656d",
   "metadata": {},
   "outputs": [],
   "source": [
    "c2_active = ...\n",
    "print(f'Is constraint c2 active? {c2_active}')\n"
   ]
  },
  {
   "cell_type": "markdown",
   "id": "2778a2fd",
   "metadata": {},
   "source": [
    "Solution: True"
   ]
  },
  {
   "cell_type": "code",
   "execution_count": null,
   "id": "2d2694f3",
   "metadata": {},
   "outputs": [],
   "source": [
    "c3_active = ...\n",
    "print(f'Is constraint c3 active? {c3_active}')\n"
   ]
  },
  {
   "cell_type": "markdown",
   "id": "b7833a5d",
   "metadata": {},
   "source": [
    "Solution: True"
   ]
  },
  {
   "cell_type": "code",
   "execution_count": null,
   "id": "d8259c56",
   "metadata": {},
   "outputs": [],
   "source": [
    "c4_active = ...\n",
    "print(f'Is constraint c4 active? {c4_active}')"
   ]
  }
 ],
 "metadata": {},
 "nbformat": 4,
 "nbformat_minor": 5
}
