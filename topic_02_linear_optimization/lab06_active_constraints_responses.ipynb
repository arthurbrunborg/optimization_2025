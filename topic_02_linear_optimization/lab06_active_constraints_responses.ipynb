{
 "cells": [
  {
   "cell_type": "markdown",
   "id": "7ac12a15",
   "metadata": {},
   "source": [
    "# Active constraints\n",
    "\n",
    "## Introduction to optimization and operations research.\n",
    "\n",
    "Michel Bierlaire\n"
   ]
  },
  {
   "cell_type": "code",
   "execution_count": null,
   "id": "dd99eac8",
   "metadata": {},
   "outputs": [],
   "source": [
    "\n",
    "import numpy as np\n"
   ]
  },
  {
   "cell_type": "markdown",
   "id": "b04c5403",
   "metadata": {},
   "source": [
    "In this lab, you will practice checking **feasibility** of points and identifying **active constraints**\n",
    "for a small linear optimization problem. You will implement simple tests for each inequality and use them\n",
    "to determine whether a candidate point lies in the feasible set and which constraints hold with equality.\n",
    "Understanding activity is essential for geometry (which edges/vertices you are on) and for theory (KKT\n",
    "conditions, complementary slackness), and it explains why algorithms like the simplex method pivot along\n",
    "active constraints. Work carefully through the examples to build intuition about how feasibility and\n",
    "constraint activity interact to shape the feasible region and the optimal solution."
   ]
  },
  {
   "cell_type": "markdown",
   "id": "182024a0",
   "metadata": {},
   "source": [
    "Consider the following linear optimization problem:\n",
    "\\begin{align*}\n",
    "& \\min_{x \\in \\mathbb{R}^2} 2 x_1 + x_2 \\\\\n",
    "\\text{subject to} & \\\\\n",
    "& x_1 + x_2 \\geq 3, \\\\\n",
    "& x_1 + 2 x_2 \\leq 6, \\\\\n",
    "& x_1 \\geq 1, \\\\\n",
    "& x_2 \\geq 1.\n",
    "\\end{align*}\n"
   ]
  },
  {
   "cell_type": "markdown",
   "id": "3bc8e7cf",
   "metadata": {},
   "source": [
    "For each constraint, implement a function that checks if it is verified by a point $x=(x_1, x_2)$, and another one\n",
    "that verifies if it is active at a pont $x$."
   ]
  },
  {
   "cell_type": "markdown",
   "id": "63851ef0",
   "metadata": {},
   "source": [
    "Remember that, in Python, the arrays are numbered starting from 0 and not 1"
   ]
  },
  {
   "cell_type": "markdown",
   "id": "488276a8",
   "metadata": {},
   "source": [
    "First constraint"
   ]
  },
  {
   "cell_type": "markdown",
   "id": "29f71556",
   "metadata": {},
   "source": [
    "Feasible?"
   ]
  },
  {
   "cell_type": "code",
   "execution_count": null,
   "id": "d30f9f0f",
   "metadata": {},
   "outputs": [],
   "source": [
    "def is_c1_feasible(x: np.array) -> bool:\n",
    "    \"\"\"Check of the first constraint is feasible\"\"\"\n",
    "    x_1 = x[0]\n",
    "    x_2 = x[1]\n",
    "    return x_1 + x_2 >= 3\n",
    "\n"
   ]
  },
  {
   "cell_type": "markdown",
   "id": "7a4b7c09",
   "metadata": {},
   "source": [
    "Active?"
   ]
  },
  {
   "cell_type": "code",
   "execution_count": null,
   "id": "20b933b0",
   "metadata": {},
   "outputs": [],
   "source": [
    "def is_c1_active(x: np.array) -> bool:\n",
    "    \"\"\"Check of the first constraint is feasible\"\"\"\n",
    "    x_1 = x[0]\n",
    "    x_2 = x[1]\n",
    "    return x_1 + x_2 == 3\n",
    "\n"
   ]
  },
  {
   "cell_type": "markdown",
   "id": "bfc6edef",
   "metadata": {},
   "source": [
    "Second constraint"
   ]
  },
  {
   "cell_type": "markdown",
   "id": "9be53edc",
   "metadata": {},
   "source": [
    "Feasible?"
   ]
  },
  {
   "cell_type": "code",
   "execution_count": null,
   "id": "e7edab99",
   "metadata": {},
   "outputs": [],
   "source": [
    "def is_c2_feasible(x: np.array) -> bool:\n",
    "    \"\"\"Check of the first constraint is feasible\"\"\"\n",
    "    x_1 = x[0]\n",
    "    x_2 = x[1]\n",
    "    return x_1 + 2 * x_2 <= 6\n",
    "\n"
   ]
  },
  {
   "cell_type": "markdown",
   "id": "0248eb7a",
   "metadata": {},
   "source": [
    "Active?"
   ]
  },
  {
   "cell_type": "code",
   "execution_count": null,
   "id": "4957e29d",
   "metadata": {},
   "outputs": [],
   "source": [
    "def is_c2_active(x: np.array) -> bool:\n",
    "    \"\"\"Check of the first constraint is feasible\"\"\"\n",
    "    x_1 = x[0]\n",
    "    x_2 = x[1]\n",
    "    return x_1 + 2 * x_2 == 6\n",
    "\n"
   ]
  },
  {
   "cell_type": "markdown",
   "id": "3d496cac",
   "metadata": {},
   "source": [
    "Third constraint"
   ]
  },
  {
   "cell_type": "markdown",
   "id": "a1f6c523",
   "metadata": {},
   "source": [
    "Feasible?"
   ]
  },
  {
   "cell_type": "code",
   "execution_count": null,
   "id": "d3311fab",
   "metadata": {},
   "outputs": [],
   "source": [
    "def is_c3_feasible(x: np.array) -> bool:\n",
    "    \"\"\"Check of the first constraint is feasible\"\"\"\n",
    "    x_1 = x[0]\n",
    "    return x_1 >= 1\n",
    "\n"
   ]
  },
  {
   "cell_type": "markdown",
   "id": "8a5fd96a",
   "metadata": {},
   "source": [
    "Active?"
   ]
  },
  {
   "cell_type": "code",
   "execution_count": null,
   "id": "d6a471ba",
   "metadata": {},
   "outputs": [],
   "source": [
    "def is_c3_active(x: np.array) -> bool:\n",
    "    \"\"\"Check of the first constraint is feasible\"\"\"\n",
    "    x_1 = x[0]\n",
    "    return x_1 == 1\n",
    "\n"
   ]
  },
  {
   "cell_type": "markdown",
   "id": "1b48bd2f",
   "metadata": {},
   "source": [
    "Fourth constraint"
   ]
  },
  {
   "cell_type": "markdown",
   "id": "ac63ae52",
   "metadata": {},
   "source": [
    "Feasible?"
   ]
  },
  {
   "cell_type": "code",
   "execution_count": null,
   "id": "91b24ab7",
   "metadata": {},
   "outputs": [],
   "source": [
    "def is_c4_feasible(x: np.array) -> bool:\n",
    "    \"\"\"Check of the first constraint is feasible\"\"\"\n",
    "    x_2 = x[1]\n",
    "    return x_2 >= 1\n",
    "\n"
   ]
  },
  {
   "cell_type": "markdown",
   "id": "e3348d85",
   "metadata": {},
   "source": [
    "Active?"
   ]
  },
  {
   "cell_type": "code",
   "execution_count": null,
   "id": "0fdcb75d",
   "metadata": {},
   "outputs": [],
   "source": [
    "def is_c4_active(x: np.array) -> bool:\n",
    "    \"\"\"Check of the first constraint is feasible\"\"\"\n",
    "    x_2 = x[1]\n",
    "    return x_2 == 1\n",
    "\n"
   ]
  },
  {
   "cell_type": "markdown",
   "id": "85bc16e1",
   "metadata": {},
   "source": [
    "Use the functions defined above to answer the following questions."
   ]
  },
  {
   "cell_type": "markdown",
   "id": "514f5151",
   "metadata": {},
   "source": [
    "Does the solution $x_1^* = 1$, $x_2^* = 2$ verify all the constraints of the problem?"
   ]
  },
  {
   "cell_type": "code",
   "execution_count": null,
   "id": "48ef21af",
   "metadata": {},
   "outputs": [],
   "source": [
    "x_star = np.array([1, 2])\n",
    "is_feasible = (\n",
    "    is_c1_feasible(x_star)\n",
    "    and is_c2_feasible(x_star)\n",
    "    and is_c3_feasible(x_star)\n",
    "    and is_c4_feasible(x_star)\n",
    ")\n"
   ]
  },
  {
   "cell_type": "markdown",
   "id": "798c097b",
   "metadata": {},
   "source": [
    "Solution: True"
   ]
  },
  {
   "cell_type": "code",
   "execution_count": null,
   "id": "73041070",
   "metadata": {},
   "outputs": [],
   "source": [
    "print(f'Is the solution feasible? {is_feasible}')\n"
   ]
  },
  {
   "cell_type": "markdown",
   "id": "ee75cac3",
   "metadata": {},
   "source": [
    "Which constraints are active at $(x_1^*, x_2^*)$?"
   ]
  },
  {
   "cell_type": "markdown",
   "id": "c238b645",
   "metadata": {},
   "source": [
    "Solution: True"
   ]
  },
  {
   "cell_type": "code",
   "execution_count": null,
   "id": "f069194f",
   "metadata": {},
   "outputs": [],
   "source": [
    "c1_active = is_c1_active(x_star)\n",
    "print(f'Is constraint c1 active? {c1_active}')\n"
   ]
  },
  {
   "cell_type": "markdown",
   "id": "4b1e513d",
   "metadata": {},
   "source": [
    "Solution: False"
   ]
  },
  {
   "cell_type": "code",
   "execution_count": null,
   "id": "102a0972",
   "metadata": {},
   "outputs": [],
   "source": [
    "c2_active = is_c2_active(x_star)\n",
    "print(f'Is constraint c2 active? {c2_active}')\n"
   ]
  },
  {
   "cell_type": "markdown",
   "id": "2247a307",
   "metadata": {},
   "source": [
    "Solution: True"
   ]
  },
  {
   "cell_type": "code",
   "execution_count": null,
   "id": "73e7840d",
   "metadata": {},
   "outputs": [],
   "source": [
    "c3_active = is_c3_active(x_star)\n",
    "print(f'Is constraint c3 active? {c3_active}')\n"
   ]
  },
  {
   "cell_type": "markdown",
   "id": "13beac15",
   "metadata": {},
   "source": [
    "Solution: False"
   ]
  },
  {
   "cell_type": "code",
   "execution_count": null,
   "id": "5aad81e4",
   "metadata": {},
   "outputs": [],
   "source": [
    "c4_active = is_c4_active(x_star)\n",
    "print(f'Is constraint c4 active? {c4_active}')\n"
   ]
  },
  {
   "cell_type": "markdown",
   "id": "4b81e81f",
   "metadata": {},
   "source": [
    "Answer the same questions with $x_1^* = 2$, $x_2^* = 1.5$."
   ]
  },
  {
   "cell_type": "code",
   "execution_count": null,
   "id": "8f17a619",
   "metadata": {},
   "outputs": [],
   "source": [
    "\n",
    "x_star = np.array([2, 1.5])\n",
    "is_feasible = (\n",
    "    is_c1_feasible(x_star)\n",
    "    and is_c2_feasible(x_star)\n",
    "    and is_c3_feasible(x_star)\n",
    "    and is_c4_feasible(x_star)\n",
    ")\n"
   ]
  },
  {
   "cell_type": "markdown",
   "id": "8d28096e",
   "metadata": {},
   "source": [
    "Solution: True"
   ]
  },
  {
   "cell_type": "code",
   "execution_count": null,
   "id": "26466232",
   "metadata": {},
   "outputs": [],
   "source": [
    "print(f'Is the solution feasible? {is_feasible}')\n"
   ]
  },
  {
   "cell_type": "markdown",
   "id": "e386cf61",
   "metadata": {},
   "source": [
    "Which constraints are active at $(x_1^*, x_2^*)$?"
   ]
  },
  {
   "cell_type": "markdown",
   "id": "26b02280",
   "metadata": {},
   "source": [
    "Solution:_ False"
   ]
  },
  {
   "cell_type": "code",
   "execution_count": null,
   "id": "f7b468d5",
   "metadata": {},
   "outputs": [],
   "source": [
    "c1_active = is_c1_active(x_star)\n",
    "print(f'Is constraint c1 active? {c1_active}')\n"
   ]
  },
  {
   "cell_type": "markdown",
   "id": "e41ba17e",
   "metadata": {},
   "source": [
    "Solution: False"
   ]
  },
  {
   "cell_type": "code",
   "execution_count": null,
   "id": "7be2be66",
   "metadata": {},
   "outputs": [],
   "source": [
    "c2_active = is_c2_active(x_star)\n",
    "print(f'Is constraint c2 active? {c2_active}')\n"
   ]
  },
  {
   "cell_type": "markdown",
   "id": "004852f1",
   "metadata": {},
   "source": [
    "Solution: False"
   ]
  },
  {
   "cell_type": "code",
   "execution_count": null,
   "id": "ad13a9c7",
   "metadata": {},
   "outputs": [],
   "source": [
    "c3_active = is_c3_active(x_star)\n",
    "print(f'Is constraint c3 active? {c3_active}')\n"
   ]
  },
  {
   "cell_type": "markdown",
   "id": "59090fd9",
   "metadata": {},
   "source": [
    "Solution: False"
   ]
  },
  {
   "cell_type": "code",
   "execution_count": null,
   "id": "acb5f29c",
   "metadata": {},
   "outputs": [],
   "source": [
    "c4_active = is_c4_active(x_star)\n",
    "print(f'Is constraint c4 active? {c4_active}')\n",
    "\n"
   ]
  },
  {
   "cell_type": "markdown",
   "id": "7b7768e8",
   "metadata": {},
   "source": [
    "Answer the same questions with $x_1^* = 1$, $x_2^* = 1$."
   ]
  },
  {
   "cell_type": "code",
   "execution_count": null,
   "id": "182674ce",
   "metadata": {},
   "outputs": [],
   "source": [
    "x_star = np.array([1, 1])\n",
    "is_feasible = (\n",
    "    is_c1_feasible(x_star)\n",
    "    and is_c2_feasible(x_star)\n",
    "    and is_c3_feasible(x_star)\n",
    "    and is_c4_feasible(x_star)\n",
    ")\n"
   ]
  },
  {
   "cell_type": "markdown",
   "id": "ff5518a9",
   "metadata": {},
   "source": [
    "Solution: False"
   ]
  },
  {
   "cell_type": "code",
   "execution_count": null,
   "id": "d73be3d0",
   "metadata": {},
   "outputs": [],
   "source": [
    "print(f'Is the solution feasible? {is_feasible}')\n"
   ]
  },
  {
   "cell_type": "markdown",
   "id": "0f131719",
   "metadata": {},
   "source": [
    "Which constraints are active at $(x_1^*, x_2^*)$?"
   ]
  },
  {
   "cell_type": "markdown",
   "id": "29f4bd26",
   "metadata": {},
   "source": [
    "Solution: False"
   ]
  },
  {
   "cell_type": "code",
   "execution_count": null,
   "id": "f8841290",
   "metadata": {},
   "outputs": [],
   "source": [
    "c1_active = is_c1_active(x_star)\n",
    "print(f'Is constraint c1 active? {c1_active}')\n"
   ]
  },
  {
   "cell_type": "markdown",
   "id": "22483241",
   "metadata": {},
   "source": [
    "Solution: False"
   ]
  },
  {
   "cell_type": "code",
   "execution_count": null,
   "id": "31ac836d",
   "metadata": {},
   "outputs": [],
   "source": [
    "c2_active = is_c2_active(x_star)\n",
    "print(f'Is constraint c2 active? {c2_active}')\n"
   ]
  },
  {
   "cell_type": "markdown",
   "id": "13386beb",
   "metadata": {},
   "source": [
    "Solution: True"
   ]
  },
  {
   "cell_type": "code",
   "execution_count": null,
   "id": "b3a1899e",
   "metadata": {},
   "outputs": [],
   "source": [
    "c3_active = is_c3_active(x_star)\n",
    "print(f'Is constraint c3 active? {c3_active}')\n"
   ]
  },
  {
   "cell_type": "markdown",
   "id": "5c54091a",
   "metadata": {},
   "source": [
    "Solution: True"
   ]
  },
  {
   "cell_type": "code",
   "execution_count": null,
   "id": "cf754e3b",
   "metadata": {},
   "outputs": [],
   "source": [
    "c4_active = is_c4_active(x_star)\n",
    "print(f'Is constraint c4 active? {c4_active}')"
   ]
  }
 ],
 "metadata": {},
 "nbformat": 4,
 "nbformat_minor": 5
}
