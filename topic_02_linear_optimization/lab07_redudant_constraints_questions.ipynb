{
 "cells": [
  {
   "cell_type": "markdown",
   "id": "18b306b2",
   "metadata": {},
   "source": [
    "# Redundant constraints\n",
    "\n",
    "## Introduction to optimization and operations research\n",
    "\n",
    "Michel Bierlaire\n"
   ]
  },
  {
   "cell_type": "code",
   "execution_count": null,
   "id": "414dbfb9",
   "metadata": {},
   "outputs": [],
   "source": [
    "\n",
    "import numpy as np\n"
   ]
  },
  {
   "cell_type": "markdown",
   "id": "04c8684a",
   "metadata": {},
   "source": [
    "In this lab, you will analyze small systems of linear equations to decide whether they are\n",
    "compatible (no solution vs. at least one), whether the solution is unique or infinite, and\n",
    "whether some constraints are **redundant** (can be removed without changing the solution set).\n",
    "You will use practical tools such as the rank of the coefficient matrix, tentative solutions\n",
    "via the Moore–Penrose pseudoinverse, and simple consistency checks (A x ≈ b).\n",
    "The motivation is twofold: (1) recognizing redundancy simplifies models and improves numerical\n",
    "stability; (2) understanding uniqueness vs. multiplicity of solutions clarifies how constraints\n",
    "shape feasible sets—insight that is essential before moving on to optimization algorithms."
   ]
  },
  {
   "cell_type": "markdown",
   "id": "1cc9e76c",
   "metadata": {},
   "source": [
    "For each of the following systems, find out how many solutions they have.\n",
    "Check also if there are redundant equations that can be removed."
   ]
  },
  {
   "cell_type": "markdown",
   "id": "1ec67cbe",
   "metadata": {},
   "source": [
    "We write a function that analyzes a system. Replace the ..."
   ]
  },
  {
   "cell_type": "code",
   "execution_count": null,
   "id": "6e4a1041",
   "metadata": {},
   "outputs": [],
   "source": [
    "def system_analysis(A: np.array, b: np.array) -> None:\n",
    "    \"\"\"Analyze the linear system\"\"\"\n",
    "    print('Analysis of the linear system')\n",
    "    print(f'A =\\n{A},\\nb = {b}')\n",
    "    number_of_rows = ...\n",
    "    print(f'Number of rows: {number_of_rows}')\n",
    "\n",
    "    if len(b) != number_of_rows:\n",
    "        error_msg = f'Inconsistent sizes: A has {number_of_rows} rows, and b has {len(b)} entries.'\n",
    "        raise ValueError(error_msg)\n",
    "\n",
    "    # We check if the system is compatible\n",
    "\n",
    "    # Compute the Moore-Penrose pseudo-inverse of A\n",
    "    A_pseudo_inv = np.linalg.pinv(A)\n",
    "\n",
    "    # We compute a tentative solution x\n",
    "    x = A_pseudo_inv @ b\n",
    "\n",
    "    # We check if this solution verifies the system\n",
    "    if not np.allclose(A @ x, b):\n",
    "        print('The system is incompatible')\n",
    "        return\n",
    "\n",
    "    print(f'Compatible system: x = {x}')\n",
    "\n",
    "    # Compute the rank of matrix A\n",
    "    rank_A = ...\n",
    "    print(f'Rank of the matrix: {rank_A}')\n",
    "\n",
    "    if ...:\n",
    "        print('The system has a unique solution.')\n",
    "    else:\n",
    "        number_of_redundant_constraints = (\n",
    "            number_of_rows - rank_A\n",
    "        number_of_redundant_constraints = ...\n",
    "        print(\n",
    "            f'The system has infinitely many solutions. Redundant constraint(s): {number_of_redundant_constraints}'\n",
    "        )\n",
    "\n"
   ]
  },
  {
   "cell_type": "markdown",
   "id": "14f0568c",
   "metadata": {},
   "source": [
    "# Question 1\n",
    "\\begin{align*}\n",
    "x_1+2x_2+3x_3 & = 0,\\\\\n",
    "4x_1+5x_2+6x_3 & = 0,\\\\\n",
    "7x_1+8x_2& =0.\n",
    "\\end{align*}"
   ]
  },
  {
   "cell_type": "code",
   "execution_count": null,
   "id": "ce29cc38",
   "metadata": {},
   "outputs": [],
   "source": [
    "A = ...\n",
    "b = ...\n",
    "system_analysis(A, b)\n"
   ]
  },
  {
   "cell_type": "markdown",
   "id": "8b9ecd7c",
   "metadata": {},
   "source": [
    "# Question 2\n",
    "\\begin{align*}\n",
    "x_1+2x_2+3x_3 & = 0,\\\\\n",
    "4x_1+5x_2+6x_3 & = 0,\\\\\n",
    "7x_1+8x_2+9x_3 & =0.\n",
    "\\end{align*}"
   ]
  },
  {
   "cell_type": "code",
   "execution_count": null,
   "id": "c2ce7310",
   "metadata": {},
   "outputs": [],
   "source": [
    "A = ...\n",
    "b = ...\n",
    "system_analysis(A, b)\n"
   ]
  },
  {
   "cell_type": "markdown",
   "id": "5d92ef84",
   "metadata": {},
   "source": [
    "# Question 3\n",
    "\n",
    "\\begin{align*}\n",
    "x_1+2x_2+3x_3 & = 0,\\\\\n",
    "2x_1+4x_2+6x_3 & =0,\\\\\n",
    "5x_1+10x_2+15x_3 & =0.\n",
    "\\end{align*}"
   ]
  },
  {
   "cell_type": "code",
   "execution_count": null,
   "id": "39480a80",
   "metadata": {},
   "outputs": [],
   "source": [
    "A = ...\n",
    "b = ...\n",
    "system_analysis(A, b)\n"
   ]
  },
  {
   "cell_type": "markdown",
   "id": "9f032cf8",
   "metadata": {},
   "source": [
    "# Question 4\n",
    "\n",
    "\\begin{align*}\n",
    "x_1 + x_2 + x_3 &= 1,\\\\\n",
    "x_1 - x_2 + x_4 &= 1, \\\\\n",
    "x_1 -5x_2 -2x_3 +3x_4 &= 1.\n",
    "\\end{align*}"
   ]
  },
  {
   "cell_type": "code",
   "execution_count": null,
   "id": "c12376bf",
   "metadata": {},
   "outputs": [],
   "source": [
    "A = ...\n",
    "b = ...\n",
    "system_analysis(A, b)\n"
   ]
  },
  {
   "cell_type": "markdown",
   "id": "540a1f12",
   "metadata": {},
   "source": [
    "# Question 5\n",
    "\n",
    "\\begin{align*}\n",
    "x_1 + 2x_2 + 3 x_3 + 4x_4&=3,\\\\\n",
    "2 x_1 + 4 x_2 + 6 x_3 + 8 x_4&=4,\\\\\n",
    "-x_1 + 3x_3-2x_4&=5.\n",
    "\\end{align*}"
   ]
  },
  {
   "cell_type": "code",
   "execution_count": null,
   "id": "e4203739",
   "metadata": {},
   "outputs": [],
   "source": [
    "A = ...\n",
    "b = ...\n",
    "system_analysis(A, b)"
   ]
  }
 ],
 "metadata": {},
 "nbformat": 4,
 "nbformat_minor": 5
}
