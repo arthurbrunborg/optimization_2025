{
 "cells": [
  {
   "cell_type": "markdown",
   "id": "d587d3a8",
   "metadata": {},
   "source": [
    "# Vertex enumeration\n",
    "\n",
    "## Introduction to optimization and operations research\n",
    "\n",
    "Michel Bierlaire\n"
   ]
  },
  {
   "cell_type": "code",
   "execution_count": null,
   "id": "2f3171f2",
   "metadata": {},
   "outputs": [],
   "source": [
    "\n",
    "from itertools import combinations\n",
    "\n",
    "import numpy as np\n",
    "import pandas as pd\n",
    "from teaching_optimization.linear_constraints import (\n",
    "    draw_polyhedron_standard_form,\n",
    "    LabeledPoint,\n",
    ")\n",
    "from teaching_optimization.linear_optimization import LinearOptimization\n"
   ]
  },
  {
   "cell_type": "markdown",
   "id": "dd3bc956",
   "metadata": {},
   "source": [
    "In this lab, you will solve a small linear program by **vertex enumeration**.\n",
    "You will list all candidate vertices by choosing basic indices, compute each **basic solution**,\n",
    "test **feasibility**, and evaluate the **objective value** to identify the optimum.\n",
    "This hands-on approach builds geometric intuition: vertices correspond to intersections of active\n",
    "constraints, and the optimal solution must lie at one of these points for linear problems.\n",
    "You will use the provided `LinearOptimization` class and `itertools.combinations` to automate the\n",
    "enumeration, and plot the polyhedron (and level lines) to visualize why the best vertex is optimal.\n",
    "Understanding this brute-force baseline will prepare you for more efficient methods like the **simplex**."
   ]
  },
  {
   "cell_type": "markdown",
   "id": "6435571a",
   "metadata": {},
   "source": [
    "Consider the following optimization problem:\n",
    "$$\n",
    "\\min_{x \\in \\mathbb{R}^2} 3x_1 + x_2\n",
    "$$\n",
    "subject to\n",
    "\\begin{align*}\n",
    "2x_1+2x_2 & \\geq 1,\\\\\n",
    "x_1+x_2 & \\leq 2,\\\\\n",
    "x_1 & \\geq 0,\\\\\n",
    "x_2 & \\geq 0.\n",
    "\\end{align*}\n",
    "\n",
    "We want to find the optimal solution using vertex enumeration.\n",
    "Hint: use the `LinearOptimization` class."
   ]
  },
  {
   "cell_type": "code",
   "execution_count": null,
   "id": "b00621f0",
   "metadata": {},
   "outputs": [],
   "source": [
    "help(LinearOptimization)\n"
   ]
  },
  {
   "cell_type": "markdown",
   "id": "9521ef19",
   "metadata": {},
   "source": [
    "Here are examples of usage."
   ]
  },
  {
   "cell_type": "markdown",
   "id": "052f9a43",
   "metadata": {},
   "source": [
    "Constructor"
   ]
  },
  {
   "cell_type": "code",
   "execution_count": null,
   "id": "4cee2440",
   "metadata": {},
   "outputs": [],
   "source": [
    "matrix_a = np.array([[1, 2, 3], [4, 5, 6]])\n",
    "vector_b = np.array([7, 8])\n",
    "vector_c = np.array([9, 10, 11])\n",
    "example_linear_optimization = LinearOptimization(\n",
    "    objective=vector_c, constraint_matrix=matrix_a, right_hand_side=vector_b\n",
    ")\n",
    "print(\n",
    "    f'{example_linear_optimization.n_variables} variables, {example_linear_optimization.n_constraints} constraints.'\n",
    ")\n"
   ]
  },
  {
   "cell_type": "markdown",
   "id": "fd4007b7",
   "metadata": {},
   "source": [
    "Specify the basic indices"
   ]
  },
  {
   "cell_type": "code",
   "execution_count": null,
   "id": "700262d7",
   "metadata": {},
   "outputs": [],
   "source": [
    "example_linear_optimization.basic_indices = [0, 1]\n"
   ]
  },
  {
   "cell_type": "markdown",
   "id": "f87d7d36",
   "metadata": {},
   "source": [
    "Obtain the basic solution"
   ]
  },
  {
   "cell_type": "code",
   "execution_count": null,
   "id": "04d05616",
   "metadata": {},
   "outputs": [],
   "source": [
    "print(example_linear_optimization.basic_solution)\n"
   ]
  },
  {
   "cell_type": "markdown",
   "id": "5165a115",
   "metadata": {},
   "source": [
    "Check if it is feasible."
   ]
  },
  {
   "cell_type": "code",
   "execution_count": null,
   "id": "df0dc74e",
   "metadata": {},
   "outputs": [],
   "source": [
    "print(example_linear_optimization.is_basic_solution_feasible)\n"
   ]
  },
  {
   "cell_type": "markdown",
   "id": "a0ea06a8",
   "metadata": {},
   "source": [
    "Obtain the value of the objective function at the vertex"
   ]
  },
  {
   "cell_type": "code",
   "execution_count": null,
   "id": "68a9b3e1",
   "metadata": {},
   "outputs": [],
   "source": [
    "print(example_linear_optimization.value_objective_at_vertex)\n"
   ]
  },
  {
   "cell_type": "markdown",
   "id": "1f893de9",
   "metadata": {},
   "source": [
    "You will also need the function `combinations` from `itertools`."
   ]
  },
  {
   "cell_type": "code",
   "execution_count": null,
   "id": "69494d5e",
   "metadata": {},
   "outputs": [],
   "source": [
    "help(combinations)\n"
   ]
  },
  {
   "cell_type": "markdown",
   "id": "ae4b2dd4",
   "metadata": {},
   "source": [
    "First, specify the data in standard form."
   ]
  },
  {
   "cell_type": "code",
   "execution_count": null,
   "id": "c0ba5410",
   "metadata": {},
   "outputs": [],
   "source": [
    "standard_a = ...\n",
    "standard_b = ...\n",
    "objective = ...\n"
   ]
  },
  {
   "cell_type": "markdown",
   "id": "bfaf04dc",
   "metadata": {},
   "source": [
    "Create the LinearOptimization object"
   ]
  },
  {
   "cell_type": "code",
   "execution_count": null,
   "id": "51c21e62",
   "metadata": {},
   "outputs": [],
   "source": [
    "the_linear_optimization = LinearOptimization(\n",
    "    objective=the_objective, constraint_matrix=standard_a, right_hand_side=standard_b\n",
    ")\n"
   ]
  },
  {
   "cell_type": "markdown",
   "id": "9f5b43cd",
   "metadata": {},
   "source": [
    "Draw the polyhedron"
   ]
  },
  {
   "cell_type": "code",
   "execution_count": null,
   "id": "e8e86889",
   "metadata": {},
   "outputs": [],
   "source": [
    "draw_polyhedron_standard_form(matrix_a=standard_a, vector_b=standard_b)\n"
   ]
  },
  {
   "cell_type": "markdown",
   "id": "39feebd1",
   "metadata": {},
   "source": [
    "Loop over all feasible basic solutions and remember the best one."
   ]
  },
  {
   "cell_type": "code",
   "execution_count": null,
   "id": "2ed72be4",
   "metadata": {},
   "outputs": [],
   "source": [
    "\n",
    "\n",
    "best_solution = None\n",
    "best_value = np.inf\n",
    "\n",
    "\n"
   ]
  },
  {
   "cell_type": "markdown",
   "id": "c2bc1cee",
   "metadata": {},
   "source": [
    "Loop over all possible combinations of basic indices."
   ]
  },
  {
   "cell_type": "code",
   "execution_count": null,
   "id": "4956e97f",
   "metadata": {},
   "outputs": [],
   "source": [
    "for basic_indices in combinations(\n",
    " ...\n",
    "\n",
    "):\n",
    "    ...\n",
    "\n",
    "\n",
    "\n",
    "\n",
    "\n",
    "\n",
    "\n",
    "\n",
    "\n",
    "\n",
    "\n",
    "\n",
    "\n",
    "\n",
    "\n",
    "\n",
    "\n",
    "\n",
    "\n",
    "\n"
   ]
  },
  {
   "cell_type": "markdown",
   "id": "b8d29655",
   "metadata": {},
   "source": [
    "Optimal solution:"
   ]
  },
  {
   "cell_type": "code",
   "execution_count": null,
   "id": "0a32c49f",
   "metadata": {},
   "outputs": [],
   "source": [
    "print(f'Optimal solution: {best_solution}')\n"
   ]
  },
  {
   "cell_type": "markdown",
   "id": "710480bf",
   "metadata": {},
   "source": [
    "Optimal value:"
   ]
  },
  {
   "cell_type": "code",
   "execution_count": null,
   "id": "252033dd",
   "metadata": {},
   "outputs": [],
   "source": [
    "print(f'Optimal value: {best_value}')\n"
   ]
  },
  {
   "cell_type": "markdown",
   "id": "519b1b33",
   "metadata": {},
   "source": [
    "Draw the optimal solution"
   ]
  },
  {
   "cell_type": "code",
   "execution_count": null,
   "id": "83decfb6",
   "metadata": {},
   "outputs": [],
   "source": [
    "draw_polyhedron_standard_form(\n",
    "    matrix_a=standard_a,\n",
    "    vector_b=standard_b,\n",
    "    objective_coefficients=the_objective,\n",
    "    level_lines=[-0.5, 0.5, 1.5, 2.5],\n",
    "    points=[LabeledPoint(coordinates=best_solution, label='Optimum')],\n",
    ")"
   ]
  }
 ],
 "metadata": {},
 "nbformat": 4,
 "nbformat_minor": 5
}
