{
 "cells": [
  {
   "cell_type": "markdown",
   "id": "626619c4",
   "metadata": {},
   "source": [
    "# Vertex enumeration\n",
    "\n",
    "## Introduction to optimization and operations research\n",
    "\n",
    "Michel Bierlaire\n"
   ]
  },
  {
   "cell_type": "code",
   "execution_count": null,
   "id": "82a367fe",
   "metadata": {},
   "outputs": [],
   "source": [
    "\n",
    "from itertools import combinations\n",
    "\n",
    "import numpy as np\n",
    "import pandas as pd\n",
    "from teaching_optimization.linear_constraints import (\n",
    "    draw_polyhedron_standard_form,\n",
    "    LabeledPoint,\n",
    ")\n",
    "from teaching_optimization.linear_optimization import LinearOptimization\n"
   ]
  },
  {
   "cell_type": "markdown",
   "id": "60e8ac92",
   "metadata": {},
   "source": [
    "In this lab, you will solve a small linear program by **vertex enumeration**.\n",
    "You will list all candidate vertices by choosing basic indices, compute each **basic solution**,\n",
    "test **feasibility**, and evaluate the **objective value** to identify the optimum.\n",
    "This hands-on approach builds geometric intuition: vertices correspond to intersections of active\n",
    "constraints, and the optimal solution must lie at one of these points for linear problems.\n",
    "You will use the provided `LinearOptimization` class and `itertools.combinations` to automate the\n",
    "enumeration, and plot the polyhedron (and level lines) to visualize why the best vertex is optimal.\n",
    "Understanding this brute-force baseline will prepare you for more efficient methods like the **simplex**."
   ]
  },
  {
   "cell_type": "markdown",
   "id": "0fcc8de3",
   "metadata": {},
   "source": [
    "Consider the following optimization problem:\n",
    "$$\n",
    "\\min_{x \\in \\mathbb{R}^2} 3x_1 + x_2\n",
    "$$\n",
    "subject to\n",
    "\\begin{align*}\n",
    "2x_1+2x_2 & \\geq 1,\\\\\n",
    "x_1+x_2 & \\leq 2,\\\\\n",
    "x_1 & \\geq 0,\\\\\n",
    "x_2 & \\geq 0.\n",
    "\\end{align*}\n",
    "\n",
    "We want to find the optimal solution using vertex enumeration.\n",
    "Hint: use the `LinearOptimization` class."
   ]
  },
  {
   "cell_type": "code",
   "execution_count": null,
   "id": "4c2e2899",
   "metadata": {},
   "outputs": [],
   "source": [
    "help(LinearOptimization)\n"
   ]
  },
  {
   "cell_type": "markdown",
   "id": "f43e8692",
   "metadata": {},
   "source": [
    "Here are examples of usage."
   ]
  },
  {
   "cell_type": "markdown",
   "id": "617d210e",
   "metadata": {},
   "source": [
    "Constructor"
   ]
  },
  {
   "cell_type": "code",
   "execution_count": null,
   "id": "4ac1e5d0",
   "metadata": {},
   "outputs": [],
   "source": [
    "matrix_a = np.array([[1, 2, 3], [4, 5, 6]])\n",
    "vector_b = np.array([7, 8])\n",
    "vector_c = np.array([9, 10, 11])\n",
    "example_linear_optimization = LinearOptimization(\n",
    "    objective=vector_c, constraint_matrix=matrix_a, right_hand_side=vector_b\n",
    ")\n",
    "print(\n",
    "    f'{example_linear_optimization.n_variables} variables, {example_linear_optimization.n_constraints} constraints.'\n",
    ")\n"
   ]
  },
  {
   "cell_type": "markdown",
   "id": "3ebe0625",
   "metadata": {},
   "source": [
    "Specify the basic indices"
   ]
  },
  {
   "cell_type": "code",
   "execution_count": null,
   "id": "edf944e7",
   "metadata": {},
   "outputs": [],
   "source": [
    "example_linear_optimization.basic_indices = [0, 1]\n"
   ]
  },
  {
   "cell_type": "markdown",
   "id": "11198ce2",
   "metadata": {},
   "source": [
    "Obtain the basic solution"
   ]
  },
  {
   "cell_type": "code",
   "execution_count": null,
   "id": "75b8be8b",
   "metadata": {},
   "outputs": [],
   "source": [
    "print(example_linear_optimization.basic_solution)\n"
   ]
  },
  {
   "cell_type": "markdown",
   "id": "4eef13d6",
   "metadata": {},
   "source": [
    "Check if it is feasible."
   ]
  },
  {
   "cell_type": "code",
   "execution_count": null,
   "id": "754bb470",
   "metadata": {},
   "outputs": [],
   "source": [
    "print(example_linear_optimization.is_basic_solution_feasible)\n"
   ]
  },
  {
   "cell_type": "markdown",
   "id": "8e843f58",
   "metadata": {},
   "source": [
    "Obtain the value of the objective function at the vertex"
   ]
  },
  {
   "cell_type": "code",
   "execution_count": null,
   "id": "18b5c4e2",
   "metadata": {},
   "outputs": [],
   "source": [
    "print(example_linear_optimization.value_objective_at_vertex)\n"
   ]
  },
  {
   "cell_type": "markdown",
   "id": "e6a2faa7",
   "metadata": {},
   "source": [
    "You will also need the function `combinations` from `itertools`."
   ]
  },
  {
   "cell_type": "code",
   "execution_count": null,
   "id": "6a207779",
   "metadata": {},
   "outputs": [],
   "source": [
    "help(combinations)\n"
   ]
  },
  {
   "cell_type": "markdown",
   "id": "c4bbaa96",
   "metadata": {},
   "source": [
    "First, specify the data in standard form."
   ]
  },
  {
   "cell_type": "code",
   "execution_count": null,
   "id": "4ffaa95e",
   "metadata": {},
   "outputs": [],
   "source": [
    "standard_a = np.array([[-2, -2, 1, 0], [1, 1, 0, 1]])\n",
    "standard_b = np.array([-1, 2])\n",
    "the_objective = np.array([3, 1, 0, 0])\n"
   ]
  },
  {
   "cell_type": "markdown",
   "id": "1c6a47f7",
   "metadata": {},
   "source": [
    "Create the LinearOptimization object"
   ]
  },
  {
   "cell_type": "code",
   "execution_count": null,
   "id": "446ae667",
   "metadata": {},
   "outputs": [],
   "source": [
    "the_linear_optimization = LinearOptimization(\n",
    "    objective=the_objective, constraint_matrix=standard_a, right_hand_side=standard_b\n",
    ")\n"
   ]
  },
  {
   "cell_type": "markdown",
   "id": "bad73e3f",
   "metadata": {},
   "source": [
    "Draw the polyhedron"
   ]
  },
  {
   "cell_type": "code",
   "execution_count": null,
   "id": "f8174f63",
   "metadata": {},
   "outputs": [],
   "source": [
    "draw_polyhedron_standard_form(matrix_a=standard_a, vector_b=standard_b)\n"
   ]
  },
  {
   "cell_type": "markdown",
   "id": "54b67876",
   "metadata": {},
   "source": [
    "Loop over all feasible basic solutions and remember the best one.\n",
    "For reporting, we store the output in a string matrix."
   ]
  },
  {
   "cell_type": "code",
   "execution_count": null,
   "id": "814875b1",
   "metadata": {},
   "outputs": [],
   "source": [
    "\n",
    "best_solution = None\n",
    "best_value = np.inf\n",
    "report = []\n",
    "headers = ['Basic indices', 'Vertex', 'Value', 'Feasible', 'Best value']\n"
   ]
  },
  {
   "cell_type": "markdown",
   "id": "b0bbfd21",
   "metadata": {},
   "source": [
    "Loop over all possible combinations of basic indices."
   ]
  },
  {
   "cell_type": "code",
   "execution_count": null,
   "id": "7b8427a6",
   "metadata": {},
   "outputs": [],
   "source": [
    "for basic_indices in combinations(\n",
    "    range(the_linear_optimization.n_variables),\n",
    "    the_linear_optimization.n_constraints,\n",
    "):\n",
    "    row = [f'{basic_indices}']\n",
    "    the_linear_optimization.basic_indices = basic_indices\n",
    "    if the_linear_optimization.basic_solution is None:\n",
    "        row += ['Not a vertex']\n",
    "    else:\n",
    "        row += [f'{the_linear_optimization.basic_solution}']\n",
    "    value: float = the_linear_optimization.value_objective_at_vertex\n",
    "    row += [f'{value}']\n",
    "    if the_linear_optimization.is_basic_solution_feasible:\n",
    "        row += ['Yes']\n",
    "        if value < best_value:\n",
    "            best_value = value\n",
    "            best_solution = the_linear_optimization.basic_solution\n",
    "    else:\n",
    "        row += ['No']\n",
    "    row += [f'{best_value}']\n",
    "    report.append(row)\n"
   ]
  },
  {
   "cell_type": "markdown",
   "id": "55c28e68",
   "metadata": {},
   "source": [
    "We print the results using Pandas"
   ]
  },
  {
   "cell_type": "code",
   "execution_count": null,
   "id": "b2ee9dd2",
   "metadata": {},
   "outputs": [],
   "source": [
    "df = pd.DataFrame(report, columns=headers)\n",
    "df\n"
   ]
  },
  {
   "cell_type": "markdown",
   "id": "2891703d",
   "metadata": {},
   "source": [
    "Optimal solution:"
   ]
  },
  {
   "cell_type": "code",
   "execution_count": null,
   "id": "bc892d3a",
   "metadata": {},
   "outputs": [],
   "source": [
    "print(f'Optimal solution: {best_solution}')\n"
   ]
  },
  {
   "cell_type": "markdown",
   "id": "e55a13bf",
   "metadata": {},
   "source": [
    "Optimal value:"
   ]
  },
  {
   "cell_type": "code",
   "execution_count": null,
   "id": "4a6a9f4d",
   "metadata": {},
   "outputs": [],
   "source": [
    "print(f'Optimal value: {best_value}')\n"
   ]
  },
  {
   "cell_type": "markdown",
   "id": "68b1045b",
   "metadata": {},
   "source": [
    "Draw the optimal solution"
   ]
  },
  {
   "cell_type": "code",
   "execution_count": null,
   "id": "428074d5",
   "metadata": {},
   "outputs": [],
   "source": [
    "draw_polyhedron_standard_form(\n",
    "    matrix_a=standard_a,\n",
    "    vector_b=standard_b,\n",
    "    objective_coefficients=the_objective,\n",
    "    level_lines=[-0.5, 0.5, 1.5, 2.5],\n",
    "    points=[LabeledPoint(coordinates=best_solution, label='Optimum')],\n",
    ")"
   ]
  }
 ],
 "metadata": {},
 "nbformat": 4,
 "nbformat_minor": 5
}
