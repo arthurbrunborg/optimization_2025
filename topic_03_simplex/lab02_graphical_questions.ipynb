{
 "cells": [
  {
   "cell_type": "markdown",
   "id": "08792028",
   "metadata": {},
   "source": [
    "# Graphical method\n",
    "\n",
    "## Introduction to optimization and operations research\n",
    "\n",
    "Michel Bierlaire\n"
   ]
  },
  {
   "cell_type": "code",
   "execution_count": null,
   "id": "1ad23138",
   "metadata": {},
   "outputs": [],
   "source": [
    "\n",
    "from itertools import combinations\n",
    "\n",
    "import numpy as np\n",
    "from teaching_optimization.linear_constraints import (\n",
    "    draw_polyhedron_standard_form,\n",
    "    LabeledPoint,\n",
    ")\n",
    "from teaching_optimization.linear_optimization import LinearOptimization\n"
   ]
  },
  {
   "cell_type": "markdown",
   "id": "605d15c2",
   "metadata": {},
   "source": [
    "In this lab, you will solve a 2-variable linear optimization problem using the **graphical method**.\n",
    "You will draw the feasible region from the constraints, plot **level lines** of the objective,\n",
    "and locate **optimal vertices** by inspecting where a level line last touches the polyhedron.\n",
    "The goal is to build geometric intuition for why linear problems attain optima at vertices,\n",
    "how to read **active constraints** and **basic indices** from a picture, and how **multiple\n",
    "optimal solutions** can occur when the objective is parallel to an edge. This visual approach\n",
    "prepares you for algebraic methods (enumeration and simplex) by connecting pictures, bases,\n",
    "and feasible basic solutions."
   ]
  },
  {
   "cell_type": "markdown",
   "id": "3530c92b",
   "metadata": {},
   "source": [
    "Consider the optimization problem $$\\min_{x \\in \\mathbb{R}^2} -x_1-\\frac{3}{2} x_2$$ subject to\n",
    "\\begin{align*}\n",
    "-x_1+2x_2 & \\geq 2,\\\\\n",
    "2x_1+3x_2 & \\leq 7,\\\\\n",
    "x_1,x_2 & \\geq 0.\n",
    "\\end{align*}\n",
    "\n",
    "- Find an optimal vertex using the graphical method.\n",
    "- Identify the corresponding basic indices.\n",
    "- Provides the feasible basic solution."
   ]
  },
  {
   "cell_type": "code",
   "execution_count": null,
   "id": "b33a94e2",
   "metadata": {},
   "outputs": [],
   "source": [
    "standard_a = ...\n",
    "standard_b = ...\n",
    "standard_c = ...\n"
   ]
  },
  {
   "cell_type": "markdown",
   "id": "5d617710",
   "metadata": {},
   "source": [
    "We prepare the optimization problem."
   ]
  },
  {
   "cell_type": "code",
   "execution_count": null,
   "id": "a600c0f8",
   "metadata": {},
   "outputs": [],
   "source": [
    "the_optimization_problem = LinearOptimization(\n",
    "    objective=standard_c, constraint_matrix=standard_a, right_hand_side=standard_b\n",
    ")\n"
   ]
  },
  {
   "cell_type": "markdown",
   "id": "101c361d",
   "metadata": {},
   "source": [
    "We plot the polyhedron as well as some level lines."
   ]
  },
  {
   "cell_type": "code",
   "execution_count": null,
   "id": "53478fee",
   "metadata": {},
   "outputs": [],
   "source": [
    "draw_polyhedron_standard_form(\n",
    "    matrix_a=standard_a,\n",
    "    vector_b=standard_b,\n",
    "    objective_coefficients=standard_c,\n",
    "    level_lines=[-2.5, -3, -3.5, -4],\n",
    ")\n",
    "\n",
    "\n",
    "\n",
    "\n",
    "\n",
    "\n",
    "\n",
    "\n",
    "\n",
    "\n"
   ]
  },
  {
   "cell_type": "code",
   "execution_count": null,
   "id": "45fb9ebe",
   "metadata": {},
   "outputs": [],
   "source": [
    " We identify an optimal vertex:\n",
    "basic_indices_optimal_vertex = ...\n",
    "the_optimization_problem.basic_indices = basic_indices_optimal_vertex\n",
    "optimal_vertex = the_optimization_problem.basic_solution\n"
   ]
  },
  {
   "cell_type": "markdown",
   "id": "75f4b258",
   "metadata": {},
   "source": [
    "We plot the polyhedron and the optimal vertex."
   ]
  },
  {
   "cell_type": "code",
   "execution_count": null,
   "id": "3812f3b5",
   "metadata": {},
   "outputs": [],
   "source": [
    "draw_polyhedron_standard_form(\n",
    "    matrix_a=standard_a,\n",
    "    vector_b=standard_b,\n",
    "    objective_coefficients=standard_c,\n",
    "    level_lines=[-2.5, -3, -3.5, -4],\n",
    "    points=[LabeledPoint(coordinates=optimal_vertex)],\n",
    ")\n",
    "\n",
    "\n",
    "\n",
    "\n",
    "\n",
    "\n",
    "\n",
    "\n",
    "\n",
    "\n",
    "\n",
    "\n",
    "\n",
    "\n",
    "\n",
    "\n",
    "\n"
   ]
  }
 ],
 "metadata": {},
 "nbformat": 4,
 "nbformat_minor": 5
}
