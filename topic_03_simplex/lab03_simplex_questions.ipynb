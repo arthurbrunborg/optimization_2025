{
 "cells": [
  {
   "cell_type": "markdown",
   "id": "dad42aa2",
   "metadata": {},
   "source": [
    "# Simplex algorithm\n",
    "\n",
    "## Introduction to optimization and operations research\n",
    "\n",
    "Michel Bierlaire\n"
   ]
  },
  {
   "cell_type": "code",
   "execution_count": null,
   "id": "6a19377a",
   "metadata": {},
   "outputs": [],
   "source": [
    "\n",
    "from enum import Enum, auto\n",
    "\n",
    "import numpy as np\n",
    "\n",
    "from teaching_optimization.linear_optimization import LinearOptimization\n",
    "from teaching_optimization.linear_constraints import (\n",
    "    draw_polyhedron_standard_form,\n",
    "    LabeledPoint,\n",
    ")\n"
   ]
  },
  {
   "cell_type": "markdown",
   "id": "3ea832d3",
   "metadata": {},
   "source": [
    "In this lab, you will **implement the simplex algorithm** step by step and see how it moves\n",
    "from one basic feasible solution to another along the edges of the feasible polyhedron.\n",
    "You will choose an entering variable using reduced costs, compute the basic direction,\n",
    "find the maximum feasible step (leaving variable), and update the basis—repeating until\n",
    "optimality, unboundedness, or infeasibility is detected. The goal is to connect the algebra\n",
    "(bases, reduced costs, pivoting) with the geometry (vertices, edges, level lines) so that\n",
    "each iteration of simplex becomes intuitive and its stopping conditions make sense."
   ]
  },
  {
   "cell_type": "markdown",
   "id": "a0d21c04",
   "metadata": {},
   "source": [
    "Consider the following linear optimization problem\n",
    "$$\n",
    "\\max 4x_1 - 3x_2\n",
    "$$\n",
    "subject to\n",
    "\\begin{align*}\n",
    "2x_1  +  x_2 &\\leq  6,\\\\\n",
    "x_1 - x_2    &\\leq  2,\\\\\n",
    "x_{1}  ,  x_{2}  &\\geq  0. \\\\\n",
    "\\end{align*}\n",
    "\n",
    "The objective of this exercise is to implement the simplex algorithm to find the optimal solution.\n",
    "Verify that the point (0, 0) is a basic feasible solution. If so, start the algorithm from this point.\n"
   ]
  },
  {
   "cell_type": "markdown",
   "id": "63a9baa3",
   "metadata": {},
   "source": [
    "First,  write the problem in standard form."
   ]
  },
  {
   "cell_type": "code",
   "execution_count": null,
   "id": "8eb84009",
   "metadata": {},
   "outputs": [],
   "source": [
    "standard_a = ...\n",
    "standard_b = ...\n",
    "standard_c = ...\n"
   ]
  },
  {
   "cell_type": "markdown",
   "id": "c38f1d38",
   "metadata": {},
   "source": [
    "Initialize the optimization problem."
   ]
  },
  {
   "cell_type": "code",
   "execution_count": null,
   "id": "3bad387e",
   "metadata": {},
   "outputs": [],
   "source": [
    "the_problem = LinearOptimization(\n",
    "    objective=standard_c, constraint_matrix=standard_a, right_hand_side=standard_b\n",
    ")\n"
   ]
  },
  {
   "cell_type": "markdown",
   "id": "ad8dd375",
   "metadata": {},
   "source": [
    "Read the documentation."
   ]
  },
  {
   "cell_type": "code",
   "execution_count": null,
   "id": "796cb32e",
   "metadata": {},
   "outputs": [],
   "source": [
    "help(LinearOptimization)\n"
   ]
  },
  {
   "cell_type": "markdown",
   "id": "ae34e2d9",
   "metadata": {},
   "source": [
    "Starting point. Specify the indices of the basic variables that correspond to the point (0, 0)."
   ]
  },
  {
   "cell_type": "code",
   "execution_count": null,
   "id": "c10759a8",
   "metadata": {},
   "outputs": [],
   "source": [
    "\n",
    "\n",
    "the_basic_indices = ...\n",
    "print(f'Basic variables: {the_basic_indices}')\n"
   ]
  },
  {
   "cell_type": "markdown",
   "id": "fc6a66c2",
   "metadata": {},
   "source": [
    "Check that it is feasible."
   ]
  },
  {
   "cell_type": "code",
   "execution_count": null,
   "id": "a304d416",
   "metadata": {},
   "outputs": [],
   "source": [
    "the_problem.basic_indices = the_basic_indices\n",
    "the_basic_solution = the_problem.basic_solution\n",
    "if the_basic_solution is not None:\n",
    "    print(f'Starting point: {the_basic_solution}')\n",
    "else:\n",
    "    raise ValueError('Invalid starting basis')\n",
    "if the_problem.is_basic_solution_feasible:\n",
    "    print(f'Starting point is feasible')\n",
    "else:\n",
    "    raise ValueError('Infeasible starting basic solution')\n",
    "\n"
   ]
  },
  {
   "cell_type": "markdown",
   "id": "16835603",
   "metadata": {},
   "source": [
    "Write a function that identifies a non-basic index to enter the basis"
   ]
  },
  {
   "cell_type": "code",
   "execution_count": null,
   "id": "3c6366f6",
   "metadata": {},
   "outputs": [],
   "source": [
    "def index_entering_basis(\n",
    "    optimization_problem: LinearOptimization, basic_indices: list[int]\n",
    ") -> int | None:\n",
    "    \"\"\"\n",
    "    Function that identifies a non-basic index to enter the basis, or detect optimality\n",
    "    :param optimization_problem: object representing the problem.\n",
    "    :param basic_indices: current list of basic indices.\n",
    "    :return: a non-basic index corresponding to a negative reduced cost, or None if optimal.\n",
    "    \"\"\"\n",
    "    optimization_problem.basic_indices = basic_indices\n",
    "    for non_basic_index in optimization_problem.non_basic_indices:\n",
    "        reduced_cost = ...\n",
    "\n",
    "\n",
    "\n",
    "\n",
    "\n",
    "\n",
    "\n",
    "\n",
    "\n"
   ]
  },
  {
   "cell_type": "markdown",
   "id": "d60ef72e",
   "metadata": {},
   "source": [
    "We test the function. Expected result: Entering variable: 0"
   ]
  },
  {
   "cell_type": "code",
   "execution_count": null,
   "id": "c87c891f",
   "metadata": {},
   "outputs": [],
   "source": [
    "the_entering_index = index_entering_basis(\n",
    "    optimization_problem=the_problem, basic_indices=the_basic_indices\n",
    ")\n",
    "print(f'Entering variable: {the_entering_index}')\n"
   ]
  },
  {
   "cell_type": "markdown",
   "id": "bf71d27d",
   "metadata": {},
   "source": [
    "Verify the reduced cost for this variable. It must be negative."
   ]
  },
  {
   "cell_type": "code",
   "execution_count": null,
   "id": "0bdc1ce0",
   "metadata": {},
   "outputs": [],
   "source": [
    "print(f'Reduced cost: {the_problem.reduced_cost(variable_index=the_entering_index)}')\n",
    "\n"
   ]
  },
  {
   "cell_type": "markdown",
   "id": "3b9ee24d",
   "metadata": {},
   "source": [
    "Write a function that calculates the longest step along a direction."
   ]
  },
  {
   "cell_type": "code",
   "execution_count": null,
   "id": "3ec662cd",
   "metadata": {},
   "outputs": [],
   "source": [
    "def longest_step(\n",
    "    current_point: np.ndarray, direction: np.ndarray\n",
    ") -> tuple[float, int | None]:\n",
    "    \"\"\"\n",
    "    Function that calculates the longest step along a direction so that all entries stay non-negative.\n",
    "    :param current_point: current point.\n",
    "    :param direction: direction.\n",
    "    :return: the step, as well as the index of one variable that becomes zero, or None of the direction is unbounded.\n",
    "    \"\"\"\n",
    "    ...\n",
    "\n",
    "\n",
    "\n",
    "\n",
    "\n",
    "\n",
    "\n",
    "    return min_value, min_index\n",
    "\n"
   ]
  },
  {
   "cell_type": "markdown",
   "id": "f41602cf",
   "metadata": {},
   "source": [
    "We test the function. Expected result: Longest step: 1.0. Activated constraint: 2."
   ]
  },
  {
   "cell_type": "code",
   "execution_count": null,
   "id": "51c69b91",
   "metadata": {},
   "outputs": [],
   "source": [
    "the_point = np.array([3, 2, 1])\n",
    "the_direction = np.array([-1, 1, -1])\n",
    "the_alpha, the_index = longest_step(current_point=the_point, direction=the_direction)\n",
    "print(f'Longest step: {the_alpha}. Activated constraint: {the_index}')\n"
   ]
  },
  {
   "cell_type": "markdown",
   "id": "f335c643",
   "metadata": {},
   "source": [
    "We test again with an unbounded direction. Expected result: Longest step: inf. Activated constraint: None."
   ]
  },
  {
   "cell_type": "code",
   "execution_count": null,
   "id": "d19327c4",
   "metadata": {},
   "outputs": [],
   "source": [
    "the_point = np.array([3, 2, 1])\n",
    "the_direction = np.array([1, 1, 1])\n",
    "the_alpha, the_index = longest_step(current_point=the_point, direction=the_direction)\n",
    "print(f'Longest step: {the_alpha}. Activated constraint: {the_index}')\n",
    "\n"
   ]
  },
  {
   "cell_type": "markdown",
   "id": "745cdb32",
   "metadata": {},
   "source": [
    "Write a function that identifies a basic index to leave the basis."
   ]
  },
  {
   "cell_type": "code",
   "execution_count": null,
   "id": "21f8079f",
   "metadata": {},
   "outputs": [],
   "source": [
    "def index_leaving_basis(\n",
    "    optimization_problem: LinearOptimization,\n",
    "    basic_indices: list[int],\n",
    "    index_entering: int,\n",
    ") -> int | None:\n",
    "    \"\"\"function that identifies a basic index to leave the basis, or identify an unbounded problem.\n",
    "\n",
    "    :param optimization_problem: object representing the problem.\n",
    "    :param basic_indices: current list of basic indices.\n",
    "    :param index_entering: non-basic index entering the basis\n",
    "    :return: index of the variable leaving the basis, or None if unbounded\n",
    "    \"\"\"\n",
    "    optimization_problem.basic_indices = basic_indices\n",
    "    basic_part_basic_solution = (\n",
    "        optimization_problem.basic_part_basic_solution\n",
    "    ...\n",
    "\n",
    "\n",
    "\n",
    "\n",
    "\n",
    "\n",
    "\n",
    "\n",
    "\n",
    "\n",
    "    if index is None:\n",
    "        # The problem is unbounded along the direction.\n",
    "        return None\n",
    "    return basic_indices[index]\n",
    "\n"
   ]
  },
  {
   "cell_type": "markdown",
   "id": "2952a106",
   "metadata": {},
   "source": [
    "We test the function. Expected result: Exiting variable: 3."
   ]
  },
  {
   "cell_type": "code",
   "execution_count": null,
   "id": "d96ce2fa",
   "metadata": {},
   "outputs": [],
   "source": [
    "the_exiting_index = index_leaving_basis(\n",
    "    optimization_problem=the_problem,\n",
    "    basic_indices=the_basic_indices,\n",
    "    index_entering=the_entering_index,\n",
    ")\n",
    "\n",
    "print(f'Exiting variable: {the_exiting_index}')\n",
    "\n"
   ]
  },
  {
   "cell_type": "markdown",
   "id": "9d4e76b8",
   "metadata": {},
   "source": [
    "We define a list of possible interruptions of the algorithm"
   ]
  },
  {
   "cell_type": "code",
   "execution_count": null,
   "id": "029f5bd7",
   "metadata": {},
   "outputs": [],
   "source": [
    "class CauseInterruptionIterations(Enum):\n",
    "    OPTIMAL = auto()\n",
    "    UNBOUNDED = auto()\n",
    "    INFEASIBLE = auto()\n",
    "\n",
    "    def __str__(self) -> str:\n",
    "        messages = {\n",
    "            self.OPTIMAL: 'Optimal basis found.',\n",
    "            self.UNBOUNDED: 'Optimization problem is unbounded.',\n",
    "            self.INFEASIBLE: 'Optimization problem is infeasible.',\n",
    "        }\n",
    "        return messages[self]\n",
    "\n"
   ]
  },
  {
   "cell_type": "markdown",
   "id": "11dd9727",
   "metadata": {},
   "source": [
    "Write a function that performs one iteration of the simplex algorithm."
   ]
  },
  {
   "cell_type": "code",
   "execution_count": null,
   "id": "4e0c4a3f",
   "metadata": {},
   "outputs": [],
   "source": [
    "def simplex_iteration(\n",
    "    optimization_problem: LinearOptimization, basic_indices: list[int]\n",
    ") -> tuple[list[int] | None, CauseInterruptionIterations | None]:\n",
    "    \"\"\"\n",
    "    Performs one iteration of the simplex algorithm.\n",
    "    :param optimization_problem: object representing the problem.\n",
    "    :param basic_indices: current list of basic indices.\n",
    "    :return: new list of basic indices, if successful. If None, a message explaining the reason.\n",
    "    \"\"\"\n",
    "\n",
    "\n",
    "\n",
    "    if ...:\n",
    "        # Optimal solution found.\n",
    "        return None, CauseInterruptionIterations.OPTIMAL\n",
    "\n",
    "\n",
    "\n",
    "\n",
    "\n",
    "\n",
    "    if ...:\n",
    "        # Problem is unbounded.\n",
    "        return None, CauseInterruptionIterations.UNBOUNDED\n",
    "\n",
    "\n",
    "\n",
    "\n",
    "    return new_basic_indices, None\n",
    "\n"
   ]
  },
  {
   "cell_type": "markdown",
   "id": "4dd82683",
   "metadata": {},
   "source": [
    "We apply the functions on the example above.\n",
    "Starting basic indices: 2 and 3."
   ]
  },
  {
   "cell_type": "code",
   "execution_count": null,
   "id": "ecda4e0c",
   "metadata": {},
   "outputs": [],
   "source": [
    "the_basic_indices = [2, 3]\n",
    "print(f'Basic variables: {the_basic_indices}')\n",
    "the_problem.basic_indices = the_basic_indices\n",
    "the_basic_solution = the_problem.basic_solution\n"
   ]
  },
  {
   "cell_type": "markdown",
   "id": "f891deee",
   "metadata": {},
   "source": [
    "Draw the polyhedron and the current solution."
   ]
  },
  {
   "cell_type": "code",
   "execution_count": null,
   "id": "8a7b8430",
   "metadata": {},
   "outputs": [],
   "source": [
    "draw_polyhedron_standard_form(\n",
    "    matrix_a=standard_a,\n",
    "    vector_b=standard_b,\n",
    "    points=[LabeledPoint(coordinates=the_basic_solution, label='It. 0', shift=0.1)],\n",
    ")\n"
   ]
  },
  {
   "cell_type": "markdown",
   "id": "6e50417b",
   "metadata": {},
   "source": [
    "First iteration"
   ]
  },
  {
   "cell_type": "code",
   "execution_count": null,
   "id": "a9879f34",
   "metadata": {},
   "outputs": [],
   "source": [
    "basic_indices_1, interruption = simplex_iteration(\n",
    "    optimization_problem=the_problem, basic_indices=the_basic_indices\n",
    ")\n",
    "if basic_indices_1 is None:\n",
    "    print(interruption)\n",
    "\n",
    "print(f'Basic variables: {basic_indices_1}')\n",
    "the_problem.basic_indices = basic_indices_1\n"
   ]
  },
  {
   "cell_type": "markdown",
   "id": "a1829651",
   "metadata": {},
   "source": [
    "Draw the polyhedron and the current solution."
   ]
  },
  {
   "cell_type": "code",
   "execution_count": null,
   "id": "09b5bfe5",
   "metadata": {},
   "outputs": [],
   "source": [
    "draw_polyhedron_standard_form(\n",
    "    matrix_a=standard_a,\n",
    "    vector_b=standard_b,\n",
    "    points=[\n",
    "        LabeledPoint(coordinates=the_problem.basic_solution, label='It. 1', shift=0.1)\n",
    "    ],\n",
    ")\n"
   ]
  },
  {
   "cell_type": "markdown",
   "id": "e686fa3d",
   "metadata": {},
   "source": [
    "Second iteration"
   ]
  },
  {
   "cell_type": "code",
   "execution_count": null,
   "id": "ff472e9d",
   "metadata": {},
   "outputs": [],
   "source": [
    "basic_indices_2, interruption = simplex_iteration(\n",
    "    optimization_problem=the_problem, basic_indices=basic_indices_1\n",
    ")\n",
    "if basic_indices_2 is None:\n",
    "    print(interruption)\n",
    "\n",
    "print(f'Basic variables: {basic_indices_2}')\n",
    "the_problem.basic_indices = basic_indices_2\n"
   ]
  },
  {
   "cell_type": "markdown",
   "id": "8552be08",
   "metadata": {},
   "source": [
    "Draw the polyhedron and the current solution."
   ]
  },
  {
   "cell_type": "code",
   "execution_count": null,
   "id": "c6405219",
   "metadata": {},
   "outputs": [],
   "source": [
    "draw_polyhedron_standard_form(\n",
    "    matrix_a=standard_a,\n",
    "    vector_b=standard_b,\n",
    "    points=[\n",
    "        LabeledPoint(coordinates=the_problem.basic_solution, label='It. 2', shift=0.1)\n",
    "    ],\n",
    ")\n"
   ]
  },
  {
   "cell_type": "markdown",
   "id": "00081eaa",
   "metadata": {},
   "source": [
    "Third iteration"
   ]
  },
  {
   "cell_type": "code",
   "execution_count": null,
   "id": "6e68e84e",
   "metadata": {},
   "outputs": [],
   "source": [
    "basic_indices_3, interruption = simplex_iteration(\n",
    "    optimization_problem=the_problem, basic_indices=basic_indices_2\n",
    ")\n",
    "if basic_indices_3 is None:\n",
    "    print(interruption)\n"
   ]
  },
  {
   "cell_type": "markdown",
   "id": "bd25b0a9",
   "metadata": {},
   "source": [
    "Draw the polyhedron and the current solution."
   ]
  },
  {
   "cell_type": "code",
   "execution_count": null,
   "id": "0962b89e",
   "metadata": {},
   "outputs": [],
   "source": [
    "draw_polyhedron_standard_form(\n",
    "    matrix_a=standard_a,\n",
    "    vector_b=standard_b,\n",
    "    objective_coefficients=standard_c,\n",
    "    level_lines=[-26.0 / 3.0, 0, 26.0 / 3.0],\n",
    "    points=[\n",
    "        LabeledPoint(coordinates=the_problem.basic_solution, label='Optimum', shift=0.1)\n",
    "    ],\n",
    ")"
   ]
  }
 ],
 "metadata": {},
 "nbformat": 4,
 "nbformat_minor": 5
}
