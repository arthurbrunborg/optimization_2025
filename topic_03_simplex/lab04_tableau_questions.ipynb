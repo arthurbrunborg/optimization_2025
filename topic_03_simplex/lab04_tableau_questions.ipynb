{
 "cells": [
  {
   "cell_type": "markdown",
   "id": "879a7309",
   "metadata": {},
   "source": [
    "# Simplex tableau\n",
    "\n",
    "## Introduction to optimization and operations research\n",
    "\n",
    "Michel Bierlaire\n"
   ]
  },
  {
   "cell_type": "code",
   "execution_count": null,
   "id": "9035594a",
   "metadata": {},
   "outputs": [],
   "source": [
    "\n",
    "from dataclasses import dataclass\n",
    "\n",
    "import numpy as np\n",
    "from numpy.linalg import LinAlgError\n",
    "\n",
    "\n"
   ]
  },
  {
   "cell_type": "markdown",
   "id": "abf92a8e",
   "metadata": {},
   "source": [
    "In this lab, you will learn how to **read and use a simplex tableau**.\n",
    "You will identify the **basic variables** and their rows, rebuild the tableau from its\n",
    "definition (B^{-1}A, B^{-1}b, reduced costs, negative objective), and recover the **basic feasible\n",
    "solution** and its objective value. You will compute **reduced costs** for nonbasic variables,\n",
    "derive the corresponding **basic directions**, and verify that reduced costs match the\n",
    "**directional derivatives** along those directions. The goal is to connect the algebra of the\n",
    "tableau to the geometry of linear optimization problems so that each entry in the tableau has a clear,\n",
    "practical meaning for optimality tests and pivot choices."
   ]
  },
  {
   "cell_type": "markdown",
   "id": "1b42002b",
   "metadata": {},
   "source": [
    "Consider the optimization problem in standard form characterized by the\n",
    "following data:\n",
    "$$\n",
    "A=\n",
    "\\begin{pmatrix*}\n",
    "1&-1&1&0\\\\\n",
    "1&1&0&1\n",
    "\\end{pmatrix*}\n",
    ";\n",
    "b=\n",
    "\\begin{pmatrix*}\n",
    "2\\\\\n",
    "6\n",
    "\\end{pmatrix*}\n",
    ";\n",
    "c=\n",
    "\\begin{pmatrix*}\n",
    "-2\\\\\n",
    "-1\\\\\n",
    "0\\\\\n",
    "0\n",
    "\\end{pmatrix*}.\n",
    "$$\n",
    "Consider as well the following tableau:\n",
    "$$\n",
    "\\begin{array}{|c c c c | c |}\n",
    "\\hline\n",
    "x_0& x_1& x_2& x_3 & \\\\\n",
    "\\hline\n",
    "1&-1&1&0  &2\\\\\n",
    "0&2&-1&1  &4 \\\\\n",
    "\\hline\n",
    "0&-3&2&0  &4 \\\\\n",
    "\\hline\n",
    "\\end{array}\n",
    "$$\n"
   ]
  },
  {
   "cell_type": "markdown",
   "id": "d3af8892",
   "metadata": {},
   "source": [
    "1. What are the basic variables associated with this tableau?\n",
    "1. What are the variables corresponding to the each row of the\n",
    "tableau?\n",
    "1. What is the basic matrix $B$?\n",
    "1. Verify that the tableau is valid, in the sense that it corresponds to its definition.\n",
    "1. What is the vertex $x$ corresponding to this tableau?\n",
    "1. What is the value of the objective function at that vertex?\n",
    "1. What are the reduced costs of the non basic variables?\n",
    "1. What are the basic directions?\n",
    "1. Verify that the values of the reduced costs in the tableau are\n",
    "consistent with the basic directions."
   ]
  },
  {
   "cell_type": "markdown",
   "id": "443c67d5",
   "metadata": {},
   "source": [
    "Prepare the data"
   ]
  },
  {
   "cell_type": "code",
   "execution_count": null,
   "id": "49aa5eeb",
   "metadata": {},
   "outputs": [],
   "source": [
    "standard_a = ...\n",
    "standard_b = ...\n",
    "standard_c = ...\n"
   ]
  },
  {
   "cell_type": "code",
   "execution_count": null,
   "id": "9db08638",
   "metadata": {},
   "outputs": [],
   "source": [
    "the_tableau = ...\n",
    "\n",
    "\n",
    "print(the_tableau)\n",
    "\n"
   ]
  },
  {
   "cell_type": "markdown",
   "id": "cfa7c599",
   "metadata": {},
   "source": [
    "We define a data structure that stores the row and column of an element of the matrix"
   ]
  },
  {
   "cell_type": "code",
   "execution_count": null,
   "id": "1383f4b0",
   "metadata": {},
   "outputs": [],
   "source": [
    "@dataclass\n",
    "class RowColumn:\n",
    "    row: int\n",
    "    column: int\n",
    "\n"
   ]
  },
  {
   "cell_type": "markdown",
   "id": "fb48a2d3",
   "metadata": {},
   "source": [
    "We create an element as follows:"
   ]
  },
  {
   "cell_type": "code",
   "execution_count": null,
   "id": "b3693534",
   "metadata": {},
   "outputs": [],
   "source": [
    "element = RowColumn(row=3, column=5)\n",
    "print(element)\n"
   ]
  },
  {
   "cell_type": "markdown",
   "id": "b42004c6",
   "metadata": {},
   "source": [
    "We can access the attributes as follows:"
   ]
  },
  {
   "cell_type": "code",
   "execution_count": null,
   "id": "611fe915",
   "metadata": {},
   "outputs": [],
   "source": [
    "print(f'Row: {element.row}')\n",
    "print(f'Column: {element.column}')\n",
    "\n"
   ]
  },
  {
   "cell_type": "markdown",
   "id": "e1ce0311",
   "metadata": {},
   "source": [
    "We start by writing a function that identifies the column associated with the basic variables. They are the columns\n",
    "of the identity matrix. And the location of the only non zero element (1) identifies the corresponding row.\n",
    "\n",
    "Fill in the ..."
   ]
  },
  {
   "cell_type": "code",
   "execution_count": null,
   "id": "3081d9ed",
   "metadata": {},
   "outputs": [],
   "source": [
    "def identify_basic_variables(tableau: np.ndarray) -> list[RowColumn]:\n",
    "    \"\"\"Function that identifies the column associated with the basic variables.\n",
    "\n",
    "    :param tableau: simplex tableau\n",
    "    :return: a list reporting the position of the 1's in the tableau corresponding to the basic variable.\n",
    "    \"\"\"\n",
    "    n_rows, n_columns = tableau.shape\n",
    "    # We need to identify where the columns of the identify matrix are, and where the ones in those columns are\n",
    "    # located.\n",
    "    ones = []\n",
    "    for col_index in range(n_columns):\n",
    "        column = tableau[:, col_index]\n",
    "        # Check if there's exactly one entry with 1 and the rest are 0\n",
    "        if ...:\n",
    "\n",
    "\n",
    "            # Find the index of the 1\n",
    "            row_index = ...\n",
    "\n",
    "\n",
    "            ones.append(RowColumn(row_index, col_index))\n",
    "    return ones\n",
    "\n"
   ]
  },
  {
   "cell_type": "markdown",
   "id": "6bf9ad9c",
   "metadata": {},
   "source": [
    "Test the function."
   ]
  },
  {
   "cell_type": "code",
   "execution_count": null,
   "id": "4ea57350",
   "metadata": {},
   "outputs": [],
   "source": [
    "the_basic_variables = identify_basic_variables(the_tableau)\n",
    "the_basic_indices = [element.column for element in the_basic_variables]\n",
    "for element in the_basic_variables:\n",
    "    print(\n",
    "        f'Variable {element.column} is in the basis and corresponds to row {element.row}'\n",
    "    )\n"
   ]
  },
  {
   "cell_type": "markdown",
   "id": "35f2df65",
   "metadata": {},
   "source": [
    "The basic matrix is therefore:"
   ]
  },
  {
   "cell_type": "code",
   "execution_count": null,
   "id": "ffa7c9c1",
   "metadata": {},
   "outputs": [],
   "source": [
    "the_basic_matrix = standard_a[:, the_basic_indices]\n",
    "print(f'Basic matrix:\\n{the_basic_matrix}')\n",
    "\n"
   ]
  },
  {
   "cell_type": "markdown",
   "id": "61364bad",
   "metadata": {},
   "source": [
    "We write a function that builds the tableau using its definition:\n",
    "\n",
    "- Upper-left part: $B^{-1}A$.\n",
    "- Upper-right part: $B^{-1}b$.\n",
    "- Lower-left: $c^T - c_B^TB^{-1}A$.\n",
    "- Lower-right: $-c_B^TB^{-1}b$.\n",
    "\n",
    "Fill in the ..."
   ]
  },
  {
   "cell_type": "code",
   "execution_count": null,
   "id": "acb9f529",
   "metadata": {},
   "outputs": [],
   "source": [
    "def build_tableau(\n",
    "    matrix: np.ndarray,\n",
    "    right_hand_side: np.ndarray,\n",
    "    objective: np.ndarray,\n",
    "    basic_indices: list[int],\n",
    ") -> np.ndarray | None:\n",
    "    \"\"\"Function that builds the tableau using its definition\n",
    "\n",
    "    :param matrix: constraint matrix (standard form)\n",
    "    :param right_hand_side: right hand side\n",
    "    :param objective: coefficients of the objective function\n",
    "    :return: simplex tableau\n",
    "    \"\"\"\n",
    "    n_constraints, n_variables = matrix.shape\n",
    "\n",
    "    if len(right_hand_side) != n_constraints:\n",
    "        error_msg = (\n",
    "            f'Inconsistent dimensions {len(right_hand_side)} and {n_constraints}'\n",
    "        )\n",
    "        raise ValueError(error_msg)\n",
    "\n",
    "    if len(objective) != n_variables:\n",
    "        error_msg = f'Inconsistent dimensions {len(objective)} and {n_variables}'\n",
    "        raise ValueError(error_msg)\n",
    "\n",
    "    if len(basic_indices) != n_constraints:\n",
    "        error_msg = f'Inconsistent dimensions {len(basic_indices)} and {n_constraints}'\n",
    "        raise ValueError(error_msg)\n",
    "\n",
    "    wrong_indices = [\n",
    "        index for index in basic_indices if index < 0 or index >= n_variables\n",
    "    ]\n",
    "    if wrong_indices:\n",
    "        error_msg = f'Wrong basic indices: {wrong_indices}'\n",
    "        raise ValueError(error_msg)\n",
    "\n",
    "    basic_matrix = ...\n",
    "    basic_costs = ...\n",
    "\n",
    "    upper_left = ...\n",
    "\n",
    "\n",
    "\n",
    "\n",
    "    upper_right = ...\n",
    "\n",
    "\n",
    "    lower_left = ...\n",
    "    lower_right = ...\n",
    "    tableau = np.empty((n_constraints + 1, n_variables + 1))\n",
    "    tableau[:n_constraints, :n_variables] = upper_left\n",
    "    tableau[:n_constraints, n_variables] = upper_right\n",
    "    tableau[n_constraints, :n_variables] = lower_left\n",
    "    tableau[n_constraints, n_variables] = lower_right\n",
    "    return tableau\n",
    "\n"
   ]
  },
  {
   "cell_type": "markdown",
   "id": "517337e5",
   "metadata": {},
   "source": [
    "We test the function."
   ]
  },
  {
   "cell_type": "code",
   "execution_count": null,
   "id": "37b08d2c",
   "metadata": {},
   "outputs": [],
   "source": [
    "built_tableau = build_tableau(\n",
    "    matrix=standard_a,\n",
    "    right_hand_side=standard_b,\n",
    "    objective=standard_c,\n",
    "    basic_indices=the_basic_indices,\n",
    ")\n",
    "print('The tableau built from its definition is:')\n",
    "print(built_tableau)\n",
    "print('It must correspond to the tableau provided as input.')\n",
    "print(the_tableau)\n",
    "\n"
   ]
  },
  {
   "cell_type": "markdown",
   "id": "584c0c11",
   "metadata": {},
   "source": [
    "We now write a function that constructs the feasible basic solution corresponding to the tableau.\n",
    "Fill in the ..."
   ]
  },
  {
   "cell_type": "code",
   "execution_count": null,
   "id": "7bb766c2",
   "metadata": {},
   "outputs": [],
   "source": [
    "def feasible_basic_solution(tableau: np.ndarray) -> np.ndarray:\n",
    "    \"\"\"Function that constructs the feasible basic solution corresponding to the tableau.\n",
    "\n",
    "    :param tableau: simplex tableau\n",
    "    :return: feasible basic solution\n",
    "    \"\"\"\n",
    "    n_rows, n_columns = tableau.shape\n",
    "    n_variables = n_columns - 1\n",
    "    basic_variables = identify_basic_variables(tableau)\n",
    "    result = ...\n",
    "\n",
    "\n",
    "    return result\n",
    "\n"
   ]
  },
  {
   "cell_type": "markdown",
   "id": "423c1c0f",
   "metadata": {},
   "source": [
    "Test the function"
   ]
  },
  {
   "cell_type": "code",
   "execution_count": null,
   "id": "c0e35f2c",
   "metadata": {},
   "outputs": [],
   "source": [
    "the_feasible_basic_solution = feasible_basic_solution(tableau=the_tableau)\n",
    "print(f'Solution: {the_feasible_basic_solution}')\n",
    "\n"
   ]
  },
  {
   "cell_type": "markdown",
   "id": "4c8abf32",
   "metadata": {},
   "source": [
    "Write a function that returns the value of the objective function at the vertex.\n",
    "Fill in the ...."
   ]
  },
  {
   "cell_type": "code",
   "execution_count": null,
   "id": "91cd05e8",
   "metadata": {},
   "outputs": [],
   "source": [
    "def value_objective_function(tableau: np.ndarray) -> float:\n",
    "    \"\"\"\n",
    "    It is simply the opposite of the lower right cell of the tableau.\n",
    "    \"\"\"\n",
    "    return ...\n",
    "\n"
   ]
  },
  {
   "cell_type": "markdown",
   "id": "69fcca1b",
   "metadata": {},
   "source": [
    "Test the function."
   ]
  },
  {
   "cell_type": "code",
   "execution_count": null,
   "id": "d6a064b8",
   "metadata": {},
   "outputs": [],
   "source": [
    "the_objective_value = value_objective_function(tableau=the_tableau)\n",
    "print(f'Value of the objective function: {the_objective_value}')\n",
    "\n"
   ]
  },
  {
   "cell_type": "markdown",
   "id": "227388dd",
   "metadata": {},
   "source": [
    "Write a function that calculates the reduced costs of the non basic variables.\n",
    "Fill in the ...."
   ]
  },
  {
   "cell_type": "code",
   "execution_count": null,
   "id": "f6567e54",
   "metadata": {},
   "outputs": [],
   "source": [
    "def reduced_costs(tableau: np.ndarray) -> dict[int, float]:\n",
    "    \"\"\"\n",
    "    Function that calculates the reduced costs of the non basic variables.\n",
    "    :param tableau: the simplex tableau\n",
    "    :return: a dict mapping the indices of the non basic variables and the reduced costs.\n",
    "    \"\"\"\n",
    "    n_rows, n_columns = tableau.shape\n",
    "    n_variables = n_columns - 1\n",
    "    basic_variables = identify_basic_variables(tableau)\n",
    "    non_basic_variables = list(\n",
    "        set(range(n_variables)) - set([element.column for element in basic_variables])\n",
    "    )\n",
    "    result = ...\n",
    "\n",
    "\n",
    "    return result\n",
    "\n"
   ]
  },
  {
   "cell_type": "markdown",
   "id": "f6c9e840",
   "metadata": {},
   "source": [
    "Test the function"
   ]
  },
  {
   "cell_type": "code",
   "execution_count": null,
   "id": "fb6604da",
   "metadata": {},
   "outputs": [],
   "source": [
    "the_reduced_costs = reduced_costs(tableau=the_tableau)\n",
    "print(f'Reduced costs: {the_reduced_costs}')\n",
    "\n"
   ]
  },
  {
   "cell_type": "markdown",
   "id": "859bcc83",
   "metadata": {},
   "source": [
    "Write a function that builds the basic directions.\n",
    "Fill in the ..."
   ]
  },
  {
   "cell_type": "code",
   "execution_count": null,
   "id": "b19bb788",
   "metadata": {},
   "outputs": [],
   "source": [
    "def extract_basic_directions(tableau: np.ndarray) -> dict[int, np.ndarray]:\n",
    "    \"\"\"\n",
    "    Each column of non basic variable corresponds to the opposite of the basic part of the basic directions.\n",
    "    :param tableau: simplex tableau.\n",
    "    :return: dict mapping the non basic variables with the basic directions.\n",
    "    \"\"\"\n",
    "    n_rows, n_columns = tableau.shape\n",
    "    n_variables = n_columns - 1\n",
    "    basic_variables = identify_basic_variables(tableau)\n",
    "    non_basic_variables = list(\n",
    "        set(range(n_variables)) - set([element.column for element in basic_variables])\n",
    "    )\n",
    "    result = ...\n",
    "\n",
    "\n",
    "\n",
    "\n",
    "\n",
    "\n",
    "\n",
    "    return result\n",
    "\n"
   ]
  },
  {
   "cell_type": "markdown",
   "id": "7abd51e3",
   "metadata": {},
   "source": [
    "Test the function"
   ]
  },
  {
   "cell_type": "code",
   "execution_count": null,
   "id": "08146cdb",
   "metadata": {},
   "outputs": [],
   "source": [
    "the_basic_directions = extract_basic_directions(tableau=the_tableau)\n",
    "print(f'Basic directions: {the_basic_directions}')\n"
   ]
  },
  {
   "cell_type": "markdown",
   "id": "2a202b6e",
   "metadata": {},
   "source": [
    "Finally, we need to verify that the values of the reduced costs in the tableau are\n",
    "consistent with the basic directions. It means that the reduced costs are the directional derivatives of the\n",
    "function in the direction of the basic directions.\n",
    "Fill in the ...."
   ]
  },
  {
   "cell_type": "code",
   "execution_count": null,
   "id": "98aeb5bb",
   "metadata": {},
   "outputs": [],
   "source": [
    "\n",
    "for index, basic_direction in the_basic_directions.items():\n",
    "    reduced_cost = the_reduced_costs[index]\n",
    "    directional_derivative = ...\n",
    "\n",
    "\n",
    "    print(\n",
    "        f'Non basic variable {index}: reduced cost: {reduced_cost}, directional derivative: {directional_derivative}'\n",
    "    )"
   ]
  }
 ],
 "metadata": {},
 "nbformat": 4,
 "nbformat_minor": 5
}
