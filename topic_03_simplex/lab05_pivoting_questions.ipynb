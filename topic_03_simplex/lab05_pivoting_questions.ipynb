{
 "cells": [
  {
   "cell_type": "markdown",
   "id": "52df52a8",
   "metadata": {},
   "source": [
    "# Pivoting the simplex tableau\n",
    "\n",
    "## Introduction to optimization and operations research\n",
    "\n",
    "Michel Bierlaire\n"
   ]
  },
  {
   "cell_type": "code",
   "execution_count": null,
   "id": "0c140147",
   "metadata": {},
   "outputs": [],
   "source": [
    "\n",
    "import numpy as np\n",
    "\n"
   ]
  },
  {
   "cell_type": "markdown",
   "id": "3d8657a9",
   "metadata": {},
   "source": [
    "In this lab, you will practice **pivoting the simplex tableau** step by step.\n",
    "You will identify the entering and leaving variables, compute the pivot value,\n",
    "perform elementary row operations to create an identity column in the pivot\n",
    "position, and verify that feasibility and the objective row update are consistent.\n",
    "The goal is to understand how a basis change moves the solution to a neighboring\n",
    "vertex of the feasible region of a **linear optimization problem**, and why this\n",
    "operation is the core update in the simplex method.\n",
    "Work carefully through the examples to connect the algebra (row ops, multipliers)\n",
    "with the geometry (active constraints)."
   ]
  },
  {
   "cell_type": "markdown",
   "id": "362e93aa",
   "metadata": {},
   "source": [
    "Try doing each step by hand before coding it.\n",
    "This really helps in two ways:\n",
    "\n",
    "1. You’ll understand the method much more clearly.\n",
    "2. You can double-check that your code gives the right answer."
   ]
  },
  {
   "cell_type": "markdown",
   "id": "ec04886d",
   "metadata": {},
   "source": [
    "Consider the following simplex tableau."
   ]
  },
  {
   "cell_type": "code",
   "execution_count": null,
   "id": "2d9951fd",
   "metadata": {},
   "outputs": [],
   "source": [
    "the_tableau = np.array(\n",
    "    [\n",
    "        [0, 1.5, 1, 1, -0.5, 0, 10],\n",
    "        [1, 0.5, 1, 0, 0.5, 0, 10],\n",
    "        [0, 1, -1, 0, -1, 1, 0],\n",
    "        [0, -7, -2, 0, 5, 0, 100],\n",
    "    ]\n",
    ")\n",
    "print(the_tableau)\n"
   ]
  },
  {
   "cell_type": "markdown",
   "id": "fe05ea18",
   "metadata": {},
   "source": [
    "We want to pivot the tableau around the following pivot."
   ]
  },
  {
   "cell_type": "code",
   "execution_count": null,
   "id": "24e34ff8",
   "metadata": {},
   "outputs": [],
   "source": [
    "the_pivot_row: int = 2\n",
    "the_pivot_column: int = 1\n"
   ]
  },
  {
   "cell_type": "markdown",
   "id": "c4be3823",
   "metadata": {},
   "source": [
    "What is the variable that enters the basis?\n"
   ]
  },
  {
   "cell_type": "markdown",
   "id": "a488933a",
   "metadata": {},
   "source": [
    "What is the variable that leaves the basis?\n"
   ]
  },
  {
   "cell_type": "markdown",
   "id": "a3e292f9",
   "metadata": {},
   "source": [
    "What is the value of the pivot?"
   ]
  },
  {
   "cell_type": "code",
   "execution_count": null,
   "id": "de4f6d72",
   "metadata": {},
   "outputs": [],
   "source": [
    "the_pivot_value = ...\n",
    "\n",
    "\n",
    "print(the_pivot_value)\n"
   ]
  },
  {
   "cell_type": "markdown",
   "id": "b0ee0a87",
   "metadata": {},
   "source": [
    "What is the row of the pivot?"
   ]
  },
  {
   "cell_type": "code",
   "execution_count": null,
   "id": "b2b267a6",
   "metadata": {},
   "outputs": [],
   "source": [
    "the_row_of_the_pivot =  ...\n",
    "\n",
    "\n",
    "print(the_row_of_the_pivot)\n"
   ]
  },
  {
   "cell_type": "markdown",
   "id": "6b6f319e",
   "metadata": {},
   "source": [
    "We want to apply the elementary row operation on row 0, so that the element at the column of the pivot becomes zero."
   ]
  },
  {
   "cell_type": "code",
   "execution_count": null,
   "id": "cd87f69f",
   "metadata": {},
   "outputs": [],
   "source": [
    "the_processing_row = 0\n",
    "the_current_value = ...\n",
    "\n",
    "\n",
    "print(f'Current value @ row 0, pivot column: {the_current_value}')\n"
   ]
  },
  {
   "cell_type": "markdown",
   "id": "ada7e6b5",
   "metadata": {},
   "source": [
    "We need to add a multiple of the pivot row to row 0."
   ]
  },
  {
   "cell_type": "code",
   "execution_count": null,
   "id": "d901ba91",
   "metadata": {},
   "outputs": [],
   "source": [
    "the_multiplier = -the_current_value / the_pivot_value\n",
    "the_tableau[the_processing_row, :] += the_multiplier * the_row_of_the_pivot\n"
   ]
  },
  {
   "cell_type": "markdown",
   "id": "70d127e9",
   "metadata": {},
   "source": [
    "New row after operation"
   ]
  },
  {
   "cell_type": "code",
   "execution_count": null,
   "id": "4bceadf1",
   "metadata": {},
   "outputs": [],
   "source": [
    "print(the_tableau[the_processing_row, :])\n",
    "\n"
   ]
  },
  {
   "cell_type": "markdown",
   "id": "fd0e7309",
   "metadata": {},
   "source": [
    "We now automatize the process for all rows.\n",
    "\n",
    "Fill the ..."
   ]
  },
  {
   "cell_type": "code",
   "execution_count": null,
   "id": "b8ae8604",
   "metadata": {},
   "outputs": [],
   "source": [
    "def pivoting(tableau: np.ndarray, pivot_row: int, pivot_column: int) -> np.ndarray:\n",
    "    \"\"\"Pivot the simplex tableau\n",
    "\n",
    "    :param tableau: original tableau.\n",
    "    :param pivot_row: index of the row of the pivot.\n",
    "    :param pivot_column: index of the column of the pivot.\n",
    "    :return: pivoted tableau.\n",
    "    \"\"\"\n",
    "    n_rows, n_columns = tableau.shape\n",
    "    if pivot_row < 0 or pivot_row >= n_rows:\n",
    "        error_msg = f'Row index {pivot_row} out of range [0, {n_rows-1}]'\n",
    "        raise ValueError(error_msg)\n",
    "    if pivot_column < 0 or pivot_column >= n_columns:\n",
    "        error_msg = f'Column index {pivot_column} out of range [0, {n_columns-1}]'\n",
    "        raise ValueError(error_msg)\n",
    "\n",
    "    pivot_value = ...\n",
    "    # Verify that the value is not close to zero\n",
    "    if np.isclose(pivot_value, 0.0):\n",
    "        error_msg = f'Pivot is numerically too close to zero: {pivot_value}'\n",
    "        raise ValueError(error_msg)\n",
    "\n",
    "    row_of_the_pivot = ...\n",
    "\n",
    "    # We treat first all rows except the row of the pivot.\n",
    "    for row in range(n_rows):\n",
    "        if row != pivot_row:\n",
    "            current_value = ...\n",
    "\n",
    "\n",
    "            multiplier = ...\n",
    "            tableau[row, :] += ...\n",
    "\n",
    "\n",
    "    # Finally, we treat the row of the pivot.\n",
    "    tableau[pivot_row, :] /= ...\n",
    "    return tableau\n",
    "\n"
   ]
  },
  {
   "cell_type": "markdown",
   "id": "bd8eb898",
   "metadata": {},
   "source": [
    "Test the function"
   ]
  },
  {
   "cell_type": "code",
   "execution_count": null,
   "id": "ea07938e",
   "metadata": {},
   "outputs": [],
   "source": [
    "pivoted_tableau = pivoting(\n",
    "    tableau=the_tableau, pivot_row=the_pivot_row, pivot_column=the_pivot_column\n",
    ")\n",
    "print(pivoted_tableau)\n"
   ]
  },
  {
   "cell_type": "markdown",
   "id": "7603d9ca",
   "metadata": {},
   "source": [
    "The column of the pivot should be a column of the identity matrix, where 1 is at the row of the pivot."
   ]
  },
  {
   "cell_type": "code",
   "execution_count": null,
   "id": "a9b51535",
   "metadata": {},
   "outputs": [],
   "source": [
    "print(f'Column of the pivot after pivoting: {pivoted_tableau[:, the_pivot_column]}')\n",
    "print(\n",
    "    f'New value at the position of the pivot: {pivoted_tableau[the_pivot_row, the_pivot_column]}'\n",
    ")\n"
   ]
  },
  {
   "cell_type": "markdown",
   "id": "1a72bf8b",
   "metadata": {},
   "source": [
    "Let's pivot the tableau again."
   ]
  },
  {
   "cell_type": "code",
   "execution_count": null,
   "id": "610fb4d5",
   "metadata": {},
   "outputs": [],
   "source": [
    "the_pivot_row: int = 0\n",
    "the_pivot_column: int = 2\n"
   ]
  },
  {
   "cell_type": "markdown",
   "id": "542d75d9",
   "metadata": {},
   "source": [
    "What is the variable that enters the basis?\n"
   ]
  },
  {
   "cell_type": "markdown",
   "id": "60c846a0",
   "metadata": {},
   "source": [
    "What is the variable that leaves the basis?\n"
   ]
  },
  {
   "cell_type": "markdown",
   "id": "e5f37be5",
   "metadata": {},
   "source": [
    "What is the value of the pivot?"
   ]
  },
  {
   "cell_type": "code",
   "execution_count": null,
   "id": "68a92812",
   "metadata": {},
   "outputs": [],
   "source": [
    "the_pivot_value = ...\n",
    "\n",
    "\n",
    "print(the_pivot_value)\n"
   ]
  },
  {
   "cell_type": "markdown",
   "id": "3c585752",
   "metadata": {},
   "source": [
    "What is the row of the pivot?"
   ]
  },
  {
   "cell_type": "code",
   "execution_count": null,
   "id": "0f78de29",
   "metadata": {},
   "outputs": [],
   "source": [
    "the_row_of_the_pivot =  ...\n",
    "\n",
    "\n",
    "print(the_row_of_the_pivot)\n"
   ]
  },
  {
   "cell_type": "markdown",
   "id": "59ee0140",
   "metadata": {},
   "source": [
    "We apply the function again"
   ]
  },
  {
   "cell_type": "code",
   "execution_count": null,
   "id": "2feb3e93",
   "metadata": {},
   "outputs": [],
   "source": [
    "re_pivoted_tableau = pivoting(\n",
    "    tableau=pivoted_tableau, pivot_row=the_pivot_row, pivot_column=the_pivot_column\n",
    ")\n",
    "print(re_pivoted_tableau)"
   ]
  }
 ],
 "metadata": {},
 "nbformat": 4,
 "nbformat_minor": 5
}
