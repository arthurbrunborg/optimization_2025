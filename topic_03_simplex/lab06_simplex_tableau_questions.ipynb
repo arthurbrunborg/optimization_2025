{
 "cells": [
  {
   "cell_type": "markdown",
   "id": "36026f45",
   "metadata": {},
   "source": [
    "# Simplex tableau algorithm\n",
    "\n",
    "## Introduction to optimization and operations research\n",
    "\n",
    "Michel Bierlaire\n"
   ]
  },
  {
   "cell_type": "code",
   "execution_count": null,
   "id": "a4e6d0b2",
   "metadata": {},
   "outputs": [],
   "source": [
    "\n",
    "import sys\n",
    "from enum import Enum, auto\n",
    "\n",
    "import numpy as np\n",
    "from teaching_optimization.tableau import SimplexTableau, RowColumn\n"
   ]
  },
  {
   "cell_type": "markdown",
   "id": "98539706",
   "metadata": {},
   "source": [
    "In this lab, you will implement the **simplex tableau algorithm** to solve a small\n",
    "linear optimization problem. You will pick an entering variable from the reduced costs,\n",
    "determine the leaving variable with the ratio test, and perform a pivot to update the\n",
    "tableau—repeating these steps until optimality or unboundedness is detected.\n",
    "The goal is to connect the algebra of the tableau (reduced costs, basic directions,\n",
    "feasibility checks) with the geometry of moving from one vertex of the feasible region\n",
    "to a neighboring one. By working through these iterations, you will see why the tableau\n",
    "encodes all the information needed to decide the next move and certify optimality."
   ]
  },
  {
   "cell_type": "markdown",
   "id": "6fa05596",
   "metadata": {},
   "source": [
    "Consider the following linear optimization problem\n",
    "$$\n",
    "\\max 4x_0 - 3x_1\n",
    "$$\n",
    "subject to\n",
    "\\begin{align*}\n",
    "2x_0  +  x_1 &\\leq  6,\\\\\n",
    "x_0 - x_1    &\\leq  2,\\\\\n",
    "x_{0}  ,  x_{1}  &\\geq  0. \\\\\n",
    "\\end{align*}\n",
    "\n",
    "The objective of this exercise is to implement the simplex tableau algorithm to find the optimal solution.\n"
   ]
  },
  {
   "cell_type": "markdown",
   "id": "e42d457a",
   "metadata": {},
   "source": [
    "First,  we write the problem in standard form:\n",
    "$$\n",
    "\\min - 4x_0 +3x_1\n",
    "$$\n",
    "subject to\n",
    "\\begin{align*}\n",
    "2x_0  +  x_1 + x_2 & =  6,\\\\\n",
    "x_0 - x_1 + x_3    & =  2,\\\\\n",
    "x_{0}  ,  x_{1}, x_2, x_3  &\\geq  0.\n",
    "\\end{align*}"
   ]
  },
  {
   "cell_type": "code",
   "execution_count": null,
   "id": "b079989f",
   "metadata": {},
   "outputs": [],
   "source": [
    "standard_a = np.array([[2, 1, 1, 0], [1, -1, 0, 1]])\n",
    "standard_b = np.array([6, 2])\n",
    "standard_c = np.array([-4, 3, 0, 0])\n"
   ]
  },
  {
   "cell_type": "markdown",
   "id": "ba853764",
   "metadata": {},
   "source": [
    "As the right hand side is non negative, we choose the slack variables as basic variables, so that the basic\n",
    "matrix is the identity matrix. The first tableau contains the data of the problem:\n",
    "\n",
    "$$ \\begin{array}{c|c} A & b \\\\ \\hline c^T & 0 \\end{array}$$"
   ]
  },
  {
   "cell_type": "code",
   "execution_count": null,
   "id": "33caec24",
   "metadata": {},
   "outputs": [],
   "source": [
    "\n",
    "\n",
    "\n",
    "\n",
    "\n",
    "\n",
    "\n",
    "initial_tableau: np.ndarray = ...\n"
   ]
  },
  {
   "cell_type": "code",
   "execution_count": null,
   "id": "5a4d30aa",
   "metadata": {},
   "outputs": [],
   "source": [
    "the_tableau = SimplexTableau(initial_tableau)\n"
   ]
  },
  {
   "cell_type": "markdown",
   "id": "c9bac7e3",
   "metadata": {},
   "source": [
    "First tableau"
   ]
  },
  {
   "cell_type": "code",
   "execution_count": null,
   "id": "9db62f81",
   "metadata": {},
   "outputs": [],
   "source": [
    "print(the_tableau)\n"
   ]
  },
  {
   "cell_type": "markdown",
   "id": "f69e8a56",
   "metadata": {},
   "source": [
    "Details"
   ]
  },
  {
   "cell_type": "code",
   "execution_count": null,
   "id": "b1af4cbf",
   "metadata": {},
   "outputs": [],
   "source": [
    "print(the_tableau.report())\n",
    "\n"
   ]
  },
  {
   "cell_type": "markdown",
   "id": "ff4527c7",
   "metadata": {},
   "source": [
    "Write a function that identifies a non-basic variable to enter the basis. Complete the ..."
   ]
  },
  {
   "cell_type": "code",
   "execution_count": null,
   "id": "6eee1f5a",
   "metadata": {},
   "outputs": [],
   "source": [
    "def column_entering_basis(simplex_tableau: SimplexTableau) -> int | None:\n",
    "    \"\"\"\n",
    "    Function that identifies a non-basic index to enter the basis, or detect optimality\n",
    "    :param simplex simplex_tableau: object representing the tableau.\n",
    "    :return: a non-basic index corresponding to a negative reduced cost, or None if optimal.\n",
    "    \"\"\"\n",
    "    # the_tableau.tableau contains the numpy array with the entries of the tableau.\n",
    "\n",
    "\n",
    "\n",
    "\n",
    "\n",
    "\n",
    "\n",
    "\n",
    "\n",
    "\n",
    "\n",
    "\n",
    "    index = ...\n",
    "\n",
    "\n",
    "\n",
    "\n",
    "    return index\n",
    "\n"
   ]
  },
  {
   "cell_type": "markdown",
   "id": "439ba2f2",
   "metadata": {},
   "source": [
    "We test the function. Expected result: Entering variable: 0"
   ]
  },
  {
   "cell_type": "code",
   "execution_count": null,
   "id": "53d3e4d3",
   "metadata": {},
   "outputs": [],
   "source": [
    "the_entering_column = column_entering_basis(simplex_tableau=the_tableau)\n",
    "print(f'Entering column: {the_entering_column}')\n"
   ]
  },
  {
   "cell_type": "markdown",
   "id": "0eda9001",
   "metadata": {},
   "source": [
    "Verify the reduced cost for this variable. It must be negative."
   ]
  },
  {
   "cell_type": "code",
   "execution_count": null,
   "id": "6cbda38f",
   "metadata": {},
   "outputs": [],
   "source": [
    "print(f'Reduced cost: {the_tableau.tableau[-1, the_entering_column]}')\n",
    "\n"
   ]
  },
  {
   "cell_type": "markdown",
   "id": "4cb17814",
   "metadata": {},
   "source": [
    "Write a function that identifies a basic index to leave the basis."
   ]
  },
  {
   "cell_type": "code",
   "execution_count": null,
   "id": "7b94ea03",
   "metadata": {},
   "outputs": [],
   "source": [
    "def row_leaving_basis(\n",
    "    simplex_tableau: SimplexTableau,\n",
    "    column_entering: int,\n",
    ") -> int | None:\n",
    "    \"\"\"function that identifies a row corresponding to the basic variable leaving the basis, or identify an unbounded\n",
    "        problem.\n",
    "\n",
    "    :param simplex simplex_tableau: object representing the tableau.\n",
    "    :param column_entering: non-basic index entering the basis\n",
    "    :return: index of the variable leaving the basis, or None if unbounded\n",
    "    \"\"\"\n",
    "    # First, identify the rows with positive entries.\n",
    "    positive_row_indices = ...\n",
    "\n",
    "\n",
    "\n",
    "\n",
    "\n",
    "    # If there is no such entry, the problem is unbounded.\n",
    "    if positive_row_indices.size == 0:\n",
    "        return None\n",
    "\n",
    "    # Calculate the vector of alphas\n",
    "    vector_of_alphas = ...\n",
    "\n",
    "\n",
    "\n",
    "\n",
    "    # Find the index of the smallest alpha in vector_of_alphas\n",
    "    min_alpha_index = ...\n",
    "\n",
    "    # Map the local index of the smallest alpha to the global index in the_tableau.\n",
    "    row_index = ...\n",
    "\n",
    "    return row_index\n",
    "\n"
   ]
  },
  {
   "cell_type": "markdown",
   "id": "7e8c5add",
   "metadata": {},
   "source": [
    "We test the function. Expected result: Exiting row: 1 (corresponding to variable $x_3$)."
   ]
  },
  {
   "cell_type": "code",
   "execution_count": null,
   "id": "f457026d",
   "metadata": {},
   "outputs": [],
   "source": [
    "the_exiting_row = row_leaving_basis(\n",
    "    simplex_tableau=the_tableau,\n",
    "    column_entering=the_entering_column,\n",
    ")\n",
    "\n",
    "print(f'Exiting row: {the_exiting_row}')\n",
    "\n"
   ]
  },
  {
   "cell_type": "markdown",
   "id": "be80d3f7",
   "metadata": {},
   "source": [
    "We define a list of possible interruptions of the algorithm"
   ]
  },
  {
   "cell_type": "code",
   "execution_count": null,
   "id": "1f8ca829",
   "metadata": {},
   "outputs": [],
   "source": [
    "class CauseInterruptionIterations(Enum):\n",
    "    OPTIMAL = auto()\n",
    "    UNBOUNDED = auto()\n",
    "    INFEASIBLE = auto()\n",
    "\n",
    "    def __str__(self) -> str:\n",
    "        messages = {\n",
    "            self.OPTIMAL: 'Optimal basis found.',\n",
    "            self.UNBOUNDED: 'Optimization problem is unbounded.',\n",
    "            self.INFEASIBLE: 'Optimization problem is infeasible.',\n",
    "        }\n",
    "        return messages[self]\n",
    "\n"
   ]
  },
  {
   "cell_type": "markdown",
   "id": "c81d7325",
   "metadata": {},
   "source": [
    "Write a function that performs one iteration of the simplex algorithm."
   ]
  },
  {
   "cell_type": "code",
   "execution_count": null,
   "id": "735e7fdb",
   "metadata": {},
   "outputs": [],
   "source": [
    "def simplex_iteration(\n",
    "    simplex_tableau: SimplexTableau,\n",
    ") -> tuple[SimplexTableau | None, CauseInterruptionIterations | None]:\n",
    "    \"\"\"\n",
    "    Performs one iteration of the simplex algorithm.\n",
    "    :param simplex_tableau: object representing the first tableau.\n",
    "    :return: the new tableau, if successful. If None, a message explaining the reason.\n",
    "    \"\"\"\n",
    "    entering_column = column_entering_basis(simplex_tableau=simplex_tableau)\n",
    "    if entering_column is None:\n",
    "        # Optimal solution found.\n",
    "        return None, CauseInterruptionIterations.OPTIMAL\n",
    "\n",
    "    exiting_row = row_leaving_basis(\n",
    "        simplex_tableau=simplex_tableau,\n",
    "        column_entering=entering_column,\n",
    "    )\n",
    "    if exiting_row is None:\n",
    "        # Problem is unbounded.\n",
    "        return None, CauseInterruptionIterations.UNBOUNDED\n",
    "\n",
    "    pivot = RowColumn(row=exiting_row, column=entering_column)\n",
    "    simplex_tableau.pivoting(pivot=pivot)\n",
    "    return simplex_tableau, None\n",
    "\n"
   ]
  },
  {
   "cell_type": "markdown",
   "id": "b28291c9",
   "metadata": {},
   "source": [
    "First iteration"
   ]
  },
  {
   "cell_type": "code",
   "execution_count": null,
   "id": "913f2d64",
   "metadata": {},
   "outputs": [],
   "source": [
    "tableau_1, interruption = simplex_iteration(\n",
    "    simplex_tableau=the_tableau,\n",
    ")\n",
    "if tableau_1 is None:\n",
    "    print(interruption)\n"
   ]
  },
  {
   "cell_type": "markdown",
   "id": "60c1dfdf",
   "metadata": {},
   "source": [
    "New tableau"
   ]
  },
  {
   "cell_type": "code",
   "execution_count": null,
   "id": "2be45fba",
   "metadata": {},
   "outputs": [],
   "source": [
    "print(tableau_1)\n"
   ]
  },
  {
   "cell_type": "markdown",
   "id": "86ece187",
   "metadata": {},
   "source": [
    "Details"
   ]
  },
  {
   "cell_type": "code",
   "execution_count": null,
   "id": "e968f448",
   "metadata": {},
   "outputs": [],
   "source": [
    "print(tableau_1.report())\n"
   ]
  },
  {
   "cell_type": "markdown",
   "id": "27118613",
   "metadata": {},
   "source": [
    "Second iteration"
   ]
  },
  {
   "cell_type": "code",
   "execution_count": null,
   "id": "883ce4fa",
   "metadata": {},
   "outputs": [],
   "source": [
    "tableau_2, interruption = simplex_iteration(simplex_tableau=tableau_1)\n",
    "if tableau_2 is None:\n",
    "    print(interruption)\n"
   ]
  },
  {
   "cell_type": "markdown",
   "id": "c92fdc6d",
   "metadata": {},
   "source": [
    "New tableau"
   ]
  },
  {
   "cell_type": "code",
   "execution_count": null,
   "id": "5c9fd17c",
   "metadata": {},
   "outputs": [],
   "source": [
    "print(tableau_2)\n"
   ]
  },
  {
   "cell_type": "markdown",
   "id": "ac90ca41",
   "metadata": {},
   "source": [
    "Details"
   ]
  },
  {
   "cell_type": "code",
   "execution_count": null,
   "id": "d77f02d6",
   "metadata": {},
   "outputs": [],
   "source": [
    "print(tableau_2.report())\n"
   ]
  },
  {
   "cell_type": "markdown",
   "id": "b72a28f2",
   "metadata": {},
   "source": [
    "Third iteration"
   ]
  },
  {
   "cell_type": "code",
   "execution_count": null,
   "id": "30e79f96",
   "metadata": {},
   "outputs": [],
   "source": [
    "tableau_3, interruption = simplex_iteration(simplex_tableau=tableau_2)\n",
    "if tableau_3 is None:\n",
    "    print(interruption)"
   ]
  }
 ],
 "metadata": {},
 "nbformat": 4,
 "nbformat_minor": 5
}
