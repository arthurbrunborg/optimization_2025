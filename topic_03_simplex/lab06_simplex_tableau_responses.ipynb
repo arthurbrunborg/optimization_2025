{
 "cells": [
  {
   "cell_type": "markdown",
   "id": "4813e6f2",
   "metadata": {},
   "source": [
    "# Simplex tableau algorithm\n",
    "\n",
    "## Introduction to optimization and operations research\n",
    "\n",
    "Michel Bierlaire\n"
   ]
  },
  {
   "cell_type": "code",
   "execution_count": null,
   "id": "739b0201",
   "metadata": {},
   "outputs": [],
   "source": [
    "\n",
    "import sys\n",
    "from enum import Enum, auto\n",
    "\n",
    "import numpy as np\n",
    "from teaching_optimization.tableau import SimplexTableau, RowColumn\n"
   ]
  },
  {
   "cell_type": "markdown",
   "id": "fd883669",
   "metadata": {},
   "source": [
    "In this lab, you will implement the **simplex tableau algorithm** to solve a small\n",
    "linear optimization problem. You will pick an entering variable from the reduced costs,\n",
    "determine the leaving variable with the ratio test, and perform a pivot to update the\n",
    "tableau—repeating these steps until optimality or unboundedness is detected.\n",
    "The goal is to connect the algebra of the tableau (reduced costs, basic directions,\n",
    "feasibility checks) with the geometry of moving from one vertex of the feasible region\n",
    "to a neighboring one. By working through these iterations, you will see why the tableau\n",
    "encodes all the information needed to decide the next move and certify optimality."
   ]
  },
  {
   "cell_type": "markdown",
   "id": "262fbb4f",
   "metadata": {},
   "source": [
    "Consider the following linear optimization problem\n",
    "$$\n",
    "\\max 4x_0 - 3x_1\n",
    "$$\n",
    "subject to\n",
    "\\begin{align*}\n",
    "2x_0  +  x_1 &\\leq  6,\\\\\n",
    "x_0 - x_1    &\\leq  2,\\\\\n",
    "x_{0}  ,  x_{1}  &\\geq  0. \\\\\n",
    "\\end{align*}\n",
    "\n",
    "The objective of this exercise is to implement the simplex tableau algorithm to find the optimal solution.\n"
   ]
  },
  {
   "cell_type": "markdown",
   "id": "abca4162",
   "metadata": {},
   "source": [
    "First,  we write the problem in standard form:\n",
    "$$\n",
    "\\min - 4x_0 +3x_1\n",
    "$$\n",
    "subject to\n",
    "\\begin{align*}\n",
    "2x_0  +  x_1 + x_2 & =  6,\\\\\n",
    "x_0 - x_1 + x_3    & =  2,\\\\\n",
    "x_{0}  ,  x_{1}, x_2, x_3  &\\geq  0.\n",
    "\\end{align*}"
   ]
  },
  {
   "cell_type": "code",
   "execution_count": null,
   "id": "2d2ce3c1",
   "metadata": {},
   "outputs": [],
   "source": [
    "standard_a = np.array([[2, 1, 1, 0], [1, -1, 0, 1]])\n",
    "standard_b = np.array([6, 2])\n",
    "standard_c = np.array([-4, 3, 0, 0])\n"
   ]
  },
  {
   "cell_type": "markdown",
   "id": "4d71b31d",
   "metadata": {},
   "source": [
    "As the right hand side is non negative, we choose the slack variables as basic variables, so that the basic\n",
    "matrix is the identity matrix. The first tableau contains the data of the problem:\n",
    "\n",
    "$$ \\begin{array}{c|c} A & b \\\\ \\hline c^T & 0 \\end{array}$$"
   ]
  },
  {
   "cell_type": "markdown",
   "id": "b9f1fbbe",
   "metadata": {},
   "source": [
    "We merge A and b horizontally"
   ]
  },
  {
   "cell_type": "code",
   "execution_count": null,
   "id": "0acf76d9",
   "metadata": {},
   "outputs": [],
   "source": [
    "Ab = np.column_stack((standard_a, standard_b))\n"
   ]
  },
  {
   "cell_type": "markdown",
   "id": "74c87a4d",
   "metadata": {},
   "source": [
    "Then we add the last row"
   ]
  },
  {
   "cell_type": "code",
   "execution_count": null,
   "id": "02cf9163",
   "metadata": {},
   "outputs": [],
   "source": [
    "initial_tableau = np.vstack(\n",
    "    (Ab, np.append(standard_c, 0))\n",
    ")\n"
   ]
  },
  {
   "cell_type": "code",
   "execution_count": null,
   "id": "75dd0e73",
   "metadata": {},
   "outputs": [],
   "source": [
    "the_tableau = SimplexTableau(initial_tableau)\n"
   ]
  },
  {
   "cell_type": "markdown",
   "id": "d0b4e050",
   "metadata": {},
   "source": [
    "First tableau"
   ]
  },
  {
   "cell_type": "code",
   "execution_count": null,
   "id": "201e3aa9",
   "metadata": {},
   "outputs": [],
   "source": [
    "print(the_tableau)\n"
   ]
  },
  {
   "cell_type": "markdown",
   "id": "cfdbda04",
   "metadata": {},
   "source": [
    "Details"
   ]
  },
  {
   "cell_type": "code",
   "execution_count": null,
   "id": "17b682e8",
   "metadata": {},
   "outputs": [],
   "source": [
    "print(the_tableau.report())\n",
    "\n"
   ]
  },
  {
   "cell_type": "markdown",
   "id": "bdd8ddef",
   "metadata": {},
   "source": [
    "Write a function that identifies a non-basic variable to enter the basis. Complete the ..."
   ]
  },
  {
   "cell_type": "code",
   "execution_count": null,
   "id": "853b320c",
   "metadata": {},
   "outputs": [],
   "source": [
    "def column_entering_basis(simplex_tableau: SimplexTableau) -> int | None:\n",
    "    \"\"\"\n",
    "    Function that identifies a non-basic index to enter the basis, or detect optimality\n",
    "    :param simplex simplex_tableau: object representing the tableau.\n",
    "    :return: a non-basic index corresponding to a negative reduced cost, or None if optimal.\n",
    "    \"\"\"\n",
    "    # the_tableau.tableau contains the numpy array with the entries of the tableau.\n",
    "    # This can be done in one line using the following logic in numpy.\n",
    "    #\n",
    "    # - the_tableau.tableau[-1]: This selects the last row of the array.\n",
    "    # - the_tableau.tableau[-1] < 0: This creates a boolean array where each element is True if the corresponding\n",
    "    #   element in the last row of A is negative, and False otherwise.\n",
    "    # - np.where(the_tableau.tableau[-1] < 0)[0]: np.where returns the indices of the elements that are True.\n",
    "    #   The [0] extracts the first array of indices since np.where can potentially return a tuple\n",
    "    #   of arrays if used on a multi-dimensional array.\n",
    "    # - the second [0]: This selects the first index from the array of indices, which corresponds to\n",
    "    #   the left-most negative value.\n",
    "    # - if np.any(the_tableau.tableau[-1] < 0) else None: The if condition checks if there is any negative element\n",
    "    #   in the last row. If not, it returns None.\n",
    "    index = (\n",
    "        np.where(simplex_tableau.tableau[-1] < 0)[0][0]\n",
    "        if np.any(simplex_tableau.tableau[-1] < 0)\n",
    "        else None\n",
    "    )\n",
    "    return index\n",
    "\n"
   ]
  },
  {
   "cell_type": "markdown",
   "id": "f5dc1a90",
   "metadata": {},
   "source": [
    "We test the function. Expected result: Entering variable: 0"
   ]
  },
  {
   "cell_type": "code",
   "execution_count": null,
   "id": "88b91c52",
   "metadata": {},
   "outputs": [],
   "source": [
    "the_entering_column = column_entering_basis(simplex_tableau=the_tableau)\n",
    "print(f'Entering column: {the_entering_column}')\n"
   ]
  },
  {
   "cell_type": "markdown",
   "id": "1e0cd537",
   "metadata": {},
   "source": [
    "Verify the reduced cost for this variable. It must be negative."
   ]
  },
  {
   "cell_type": "code",
   "execution_count": null,
   "id": "21d75241",
   "metadata": {},
   "outputs": [],
   "source": [
    "print(f'Reduced cost: {the_tableau.tableau[-1, the_entering_column]}')\n",
    "\n"
   ]
  },
  {
   "cell_type": "markdown",
   "id": "a1decd38",
   "metadata": {},
   "source": [
    "Write a function that identifies a basic index to leave the basis."
   ]
  },
  {
   "cell_type": "code",
   "execution_count": null,
   "id": "5adba52c",
   "metadata": {},
   "outputs": [],
   "source": [
    "def row_leaving_basis(\n",
    "    simplex_tableau: SimplexTableau,\n",
    "    column_entering: int,\n",
    ") -> int | None:\n",
    "    \"\"\"function that identifies a row corresponding to the basic variable leaving the basis, or identify an unbounded\n",
    "        problem.\n",
    "\n",
    "    :param simplex simplex_tableau: object representing the tableau.\n",
    "    :param column_entering: non-basic index entering the basis\n",
    "    :return: index of the variable leaving the basis, or None if unbounded\n",
    "    \"\"\"\n",
    "    # First, identify the rows with positive entries.\n",
    "    positive_row_indices = np.where(\n",
    "        simplex_tableau.tableau[:, column_entering] > 0\n",
    "    )[\n",
    "        0\n",
    "    ]\n",
    "\n",
    "    # If there is no such entry, the problem is unbounded.\n",
    "    if positive_row_indices.size == 0:\n",
    "        return None\n",
    "\n",
    "    # Calculate the vector of alphas\n",
    "    vector_of_alphas = (\n",
    "        simplex_tableau.tableau[positive_row_indices, -1]\n",
    "        / simplex_tableau.tableau[positive_row_indices, column_entering]\n",
    "    )\n",
    "\n",
    "    # Find the index of the smallest alpha in vector_of_alphas\n",
    "    min_alpha_index = np.argmin(vector_of_alphas)\n",
    "\n",
    "    # Map the local index of the smallest alpha to the global index in the_tableau.\n",
    "    row_index = int(positive_row_indices[min_alpha_index])\n",
    "\n",
    "    return row_index\n",
    "\n"
   ]
  },
  {
   "cell_type": "markdown",
   "id": "870e326b",
   "metadata": {},
   "source": [
    "We test the function. Expected result: Exiting row: 1 (corresponding to variable $x_3$)."
   ]
  },
  {
   "cell_type": "code",
   "execution_count": null,
   "id": "9b90d313",
   "metadata": {},
   "outputs": [],
   "source": [
    "the_exiting_row = row_leaving_basis(\n",
    "    simplex_tableau=the_tableau,\n",
    "    column_entering=the_entering_column,\n",
    ")\n",
    "\n",
    "print(f'Exiting row: {the_exiting_row}')\n",
    "\n"
   ]
  },
  {
   "cell_type": "markdown",
   "id": "755f9c1d",
   "metadata": {},
   "source": [
    "We define a list of possible interruptions of the algorithm"
   ]
  },
  {
   "cell_type": "code",
   "execution_count": null,
   "id": "405f9051",
   "metadata": {},
   "outputs": [],
   "source": [
    "class CauseInterruptionIterations(Enum):\n",
    "    OPTIMAL = auto()\n",
    "    UNBOUNDED = auto()\n",
    "    INFEASIBLE = auto()\n",
    "\n",
    "    def __str__(self) -> str:\n",
    "        messages = {\n",
    "            self.OPTIMAL: 'Optimal basis found.',\n",
    "            self.UNBOUNDED: 'Optimization problem is unbounded.',\n",
    "            self.INFEASIBLE: 'Optimization problem is infeasible.',\n",
    "        }\n",
    "        return messages[self]\n",
    "\n"
   ]
  },
  {
   "cell_type": "markdown",
   "id": "c8523f6f",
   "metadata": {},
   "source": [
    "Write a function that performs one iteration of the simplex algorithm."
   ]
  },
  {
   "cell_type": "code",
   "execution_count": null,
   "id": "a1746e37",
   "metadata": {},
   "outputs": [],
   "source": [
    "def simplex_iteration(\n",
    "    simplex_tableau: SimplexTableau,\n",
    ") -> tuple[SimplexTableau | None, CauseInterruptionIterations | None]:\n",
    "    \"\"\"\n",
    "    Performs one iteration of the simplex algorithm.\n",
    "    :param simplex_tableau: object representing the first tableau.\n",
    "    :return: the new tableau, if successful. If None, a message explaining the reason.\n",
    "    \"\"\"\n",
    "    entering_column = column_entering_basis(simplex_tableau=simplex_tableau)\n",
    "    if entering_column is None:\n",
    "        # Optimal solution found.\n",
    "        return None, CauseInterruptionIterations.OPTIMAL\n",
    "\n",
    "    exiting_row = row_leaving_basis(\n",
    "        simplex_tableau=simplex_tableau,\n",
    "        column_entering=entering_column,\n",
    "    )\n",
    "    if exiting_row is None:\n",
    "        # Problem is unbounded.\n",
    "        return None, CauseInterruptionIterations.UNBOUNDED\n",
    "\n",
    "    pivot = RowColumn(row=exiting_row, column=entering_column)\n",
    "    simplex_tableau.pivoting(pivot=pivot)\n",
    "    return simplex_tableau, None\n",
    "\n"
   ]
  },
  {
   "cell_type": "markdown",
   "id": "c2ef5e79",
   "metadata": {},
   "source": [
    "First iteration"
   ]
  },
  {
   "cell_type": "code",
   "execution_count": null,
   "id": "2e04edda",
   "metadata": {},
   "outputs": [],
   "source": [
    "tableau_1, interruption = simplex_iteration(\n",
    "    simplex_tableau=the_tableau,\n",
    ")\n",
    "if tableau_1 is None:\n",
    "    print(interruption)\n"
   ]
  },
  {
   "cell_type": "markdown",
   "id": "da92da43",
   "metadata": {},
   "source": [
    "New tableau"
   ]
  },
  {
   "cell_type": "code",
   "execution_count": null,
   "id": "c372c192",
   "metadata": {},
   "outputs": [],
   "source": [
    "print(tableau_1)\n"
   ]
  },
  {
   "cell_type": "markdown",
   "id": "d6ed5493",
   "metadata": {},
   "source": [
    "Details"
   ]
  },
  {
   "cell_type": "code",
   "execution_count": null,
   "id": "6d87a716",
   "metadata": {},
   "outputs": [],
   "source": [
    "print(tableau_1.report())\n"
   ]
  },
  {
   "cell_type": "markdown",
   "id": "14949750",
   "metadata": {},
   "source": [
    "Second iteration"
   ]
  },
  {
   "cell_type": "code",
   "execution_count": null,
   "id": "f89d43d8",
   "metadata": {},
   "outputs": [],
   "source": [
    "tableau_2, interruption = simplex_iteration(simplex_tableau=tableau_1)\n",
    "if tableau_2 is None:\n",
    "    print(interruption)\n"
   ]
  },
  {
   "cell_type": "markdown",
   "id": "bd582ceb",
   "metadata": {},
   "source": [
    "New tableau"
   ]
  },
  {
   "cell_type": "code",
   "execution_count": null,
   "id": "135d50e3",
   "metadata": {},
   "outputs": [],
   "source": [
    "print(tableau_2)\n"
   ]
  },
  {
   "cell_type": "markdown",
   "id": "b79bf606",
   "metadata": {},
   "source": [
    "Details"
   ]
  },
  {
   "cell_type": "code",
   "execution_count": null,
   "id": "75c1e58f",
   "metadata": {},
   "outputs": [],
   "source": [
    "print(tableau_2.report())\n"
   ]
  },
  {
   "cell_type": "markdown",
   "id": "4be026a8",
   "metadata": {},
   "source": [
    "Third iteration"
   ]
  },
  {
   "cell_type": "code",
   "execution_count": null,
   "id": "4af8a917",
   "metadata": {},
   "outputs": [],
   "source": [
    "tableau_3, interruption = simplex_iteration(simplex_tableau=tableau_2)\n",
    "if tableau_3 is None:\n",
    "    print(interruption)"
   ]
  }
 ],
 "metadata": {},
 "nbformat": 4,
 "nbformat_minor": 5
}
