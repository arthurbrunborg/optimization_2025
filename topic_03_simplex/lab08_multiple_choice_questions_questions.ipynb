{
 "cells": [
  {
   "cell_type": "markdown",
   "id": "e34d0774",
   "metadata": {},
   "source": [
    "# Simplex tableau: multiple choice questions\n",
    "\n",
    "## Introduction to optimization and operations research\n",
    "\n",
    "Michel Bierlaire\n"
   ]
  },
  {
   "cell_type": "markdown",
   "id": "d5144b7e",
   "metadata": {},
   "source": [
    "In this lab, you will answer multiple-choice questions about the **simplex tableau**\n",
    "to consolidate core ideas of the simplex method. You will read a tableau, identify\n",
    "the **basis** and the values of **basic variables**, interpret **reduced costs**,\n",
    "check **feasibility**, **optimality**, and detect cases such as **degeneracy**,\n",
    "**unboundedness**, or the need for **Phase I** with auxiliary variables. The goal\n",
    "is to strengthen your intuition for how a simplex tableau encodes every piece of\n",
    "information needed to move between vertices of the feasible region of a **linear\n",
    "optimization problem**, decide the next pivot, and certify optimality."
   ]
  },
  {
   "cell_type": "markdown",
   "id": "247a6ce8",
   "metadata": {},
   "source": [
    "This exercise does not require to code in Python."
   ]
  },
  {
   "cell_type": "markdown",
   "id": "bc6960f4",
   "metadata": {},
   "source": [
    "# Question 1\n",
    "Consider the optimization problem in standard form characterized\n",
    "by the following data:\n",
    "$$\n",
    "A = \\left( \\begin{array}{rrrr}\n",
    "1 & -1 & 1 & 0 \\\\ 1 & 1 & 0 & 1\n",
    "\\end{array}\n",
    "\\right), \\; b=\\left( \\begin{array}{c} 2 \\\\ 6 \\end{array}\\right), \\; c = \\left( \\begin{array}{c}-2 \\\\ -1 \\\\ 0 \\\\ 0\\end{array}\\right),\n",
    "$$\n",
    "and the following simplex tableau representing a basic solution of the problem:"
   ]
  },
  {
   "cell_type": "markdown",
   "id": "ec787ed0",
   "metadata": {},
   "source": [
    "| $x_1$ | $x_2$ | $x_3$ | $x_4$  |    |\n",
    "|------:|------:|------:|-------:|---:|\n",
    "| 1     |  -1   |  1    |   0    | 2  |\n",
    "| 0     |   2   | -1    |   1    | 4  |\n",
    "| ---   | ---   | ---   |  ---   | ---|\n",
    "| 0     | -3    |  2    | 0      |  4 |"
   ]
  },
  {
   "cell_type": "markdown",
   "id": "9e637607",
   "metadata": {},
   "source": [
    "\n",
    "What is the basic matrix $B$?"
   ]
  },
  {
   "cell_type": "markdown",
   "id": "64796dee",
   "metadata": {},
   "source": [
    "- $B_1=\\left( \\begin{array}{rr} -1 & 1 \\\\ 2 & -1 \\end{array}\\right)$.\n",
    "- $B_2=\\left( \\begin{array}{rr} 1  & 0 \\\\ 1 & 1 \\end{array}\\right)$.\n",
    "- $B_3=\\left( \\begin{array}{rr} -1 & 1 \\\\ 1 & 0 \\end{array}\\right)$.\n",
    "- $B_4=\\left( \\begin{array}{rr} 1 & 0 \\\\ 0 & 1 \\end{array}\\right)$."
   ]
  },
  {
   "cell_type": "markdown",
   "id": "b0f85293",
   "metadata": {},
   "source": [
    "# Question 2\n",
    "Consider the following simplex tableau representing a feasible\n",
    "basic solution of a linear minimization problem:"
   ]
  },
  {
   "cell_type": "markdown",
   "id": "a4783abe",
   "metadata": {},
   "source": [
    "| $x_1$ | $x_2$ | $x_3$ | $x_4$ | $x_5$ |   |\n",
    "|------:|------:|------:|------:|------:|---|\n",
    "|   1   |   0   |  -2   |  -1   |   0   |  2 |\n",
    "|   0   |   1   |   1   |   1   |   0   |  1 |\n",
    "|   0   |   0   |  -3   |  -2   |   1   |  0 |\n",
    "|-------|-------|-------|-------|-------|---|\n",
    "|   0   |   0   |   7   |   3   |   0   | -9 |"
   ]
  },
  {
   "cell_type": "markdown",
   "id": "9b891f82",
   "metadata": {},
   "source": [
    "Which of the following statements is true?"
   ]
  },
  {
   "cell_type": "markdown",
   "id": "0c29cdfa",
   "metadata": {},
   "source": [
    "1. The problem is unbounded.\n",
    "2. The feasible basic solution is degenerate.\n",
    "3. The feasible basic solution is not optimal.\n",
    "4. There are two basic variables and three non basic variables."
   ]
  },
  {
   "cell_type": "markdown",
   "id": "cefeea2f",
   "metadata": {},
   "source": [
    "# Question 3\n",
    "The following tableau represents a basic solution for phase I of the\n",
    "simplex algorithm. $a_1$ and $a_2$ are the auxiliary variables\n",
    "associated with the two constraints of the linear optimization\n",
    "problem."
   ]
  },
  {
   "cell_type": "markdown",
   "id": "dd95394f",
   "metadata": {},
   "source": [
    "| $x_1$  | $x_2$ | $x_3$ | $x_4$  | $a_1$ | $a_2$ |   |\n",
    "|-------:|------:|------:|-------:|------:|------:|--:|\n",
    "| 2/3    | 1     | 0     | 1/3    | 0     | 1/3   | 6 |\n",
    "| -1/3   | 0     | 1     | 1/3    | -1    | 1/3   | 2 |\n",
    "|--------|-------|-------|--------|-------|-------|---|\n",
    "| 0      | 0     | 0     | 0      | 1     | 1     | 0 |"
   ]
  },
  {
   "cell_type": "markdown",
   "id": "108215aa",
   "metadata": {},
   "source": [
    "One of the following statements is true. Identify that statement.\n",
    "\n",
    "1. The variable $a_1$ is a basic variable.\n",
    "2. There is a feasible solution for the original problem and there are no auxiliary variables in the basis.\n",
    "3. The variable $x_1$ must enter the basis in the next iteration of the algorithm.\n",
    "4. The corresponding solution is optimal for the auxiliary problem, but the original problem is infeasible."
   ]
  },
  {
   "cell_type": "markdown",
   "id": "3eeac00f",
   "metadata": {},
   "source": [
    "# Question 4\n",
    "Consider the following valid simplex tableau:"
   ]
  },
  {
   "cell_type": "markdown",
   "id": "609cd899",
   "metadata": {},
   "source": [
    "| $x_1$   | $x_2$   | $x_3$       | $x_4$   | $x_5$       |   |\n",
    "|--------:|--------:|------------:|--------:|------------:|--:|\n",
    "| 1       | -7      | $\\delta$    | 0       | $\\alpha$    | 10 |\n",
    "| 0       | 32      | -3          | 1       | 0           | $\\gamma$ |\n",
    "| $\\beta$ | -6      | 1           | 0       | $\\varepsilon$| 10 |\n",
    "|---------|---------|-------------|---------|-------------|---|\n",
    "| 0       | $\\lambda$| 4          | $\\theta$| $\\zeta$     | $\\pi$ |"
   ]
  },
  {
   "cell_type": "markdown",
   "id": "bd58d208",
   "metadata": {},
   "source": [
    "In the tableau, $\\alpha$, $\\beta$, $\\gamma$, $\\delta$, $\\varepsilon$, $\\zeta$, $\\theta$, $\\lambda$ and $\\pi$\n",
    "are parameters.\n",
    "The objective function of the minimization problem is $c^T x$, where\n",
    "$c^T = \\begin{pmatrix} \\mu & \\rho & 0 & 0 & 0 \\end{pmatrix}$. $\\mu$ and $\\rho$ are also parameters."
   ]
  },
  {
   "cell_type": "markdown",
   "id": "110b238c",
   "metadata": {},
   "source": [
    "One of the following statements is false. Which one?"
   ]
  },
  {
   "cell_type": "markdown",
   "id": "dd43dcc9",
   "metadata": {},
   "source": [
    "1. We must have $\\beta = 0$, $\\alpha = 0$ and $\\varepsilon = 1$.\n",
    "2.  The parameter $\\gamma$ must be non negative.\n",
    "3.  $\\pi=10 \\mu$.\n",
    "4. If the tableau is not optimal, then $x_2$ enters the basis in the next iteration."
   ]
  }
 ],
 "metadata": {},
 "nbformat": 4,
 "nbformat_minor": 5
}
