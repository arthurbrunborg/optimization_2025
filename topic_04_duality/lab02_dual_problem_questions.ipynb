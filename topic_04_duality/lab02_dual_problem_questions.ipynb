{
 "cells": [
  {
   "cell_type": "markdown",
   "id": "39d71e74",
   "metadata": {},
   "source": [
    "# Dual problem\n",
    "\n",
    "## Introduction to optimization and operations research\n",
    "\n",
    "Michel Bierlaire\n"
   ]
  },
  {
   "cell_type": "markdown",
   "id": "24bb20ec",
   "metadata": {},
   "source": [
    "In this lab, you will practice formulating the **dual** of a small linear optimization problem.\n",
    "You will write the **Lagrangian**, derive the **dual function**, and construct the **dual problem**. The motivation is to see how\n",
    "dual variables (multipliers) encode the economic meaning of constraints and how **weak/strong duality**\n",
    "provide certificates: dual feasible solutions bound the primal objective, and matching optimal values\n",
    "certify optimality."
   ]
  },
  {
   "cell_type": "markdown",
   "id": "23876267",
   "metadata": {},
   "source": [
    "This exercise does not require coding in Python."
   ]
  },
  {
   "cell_type": "markdown",
   "id": "3564be16",
   "metadata": {},
   "source": [
    "Consider the optimization problem\n",
    "$$\\min_{x \\in \\mathbb{R}^2} x_1^2 + x_2^2$$\n",
    "subject to\n",
    "$$x_1=1.$$"
   ]
  },
  {
   "cell_type": "markdown",
   "id": "c87203dd",
   "metadata": {},
   "source": [
    "- What is the optimal solution of this problem?"
   ]
  },
  {
   "cell_type": "markdown",
   "id": "db46f07e",
   "metadata": {},
   "source": [
    "- Write the Lagrangian of this problem."
   ]
  },
  {
   "cell_type": "markdown",
   "id": "cfec2e29",
   "metadata": {},
   "source": [
    "- Write the dual function."
   ]
  },
  {
   "cell_type": "markdown",
   "id": "d03cb8bb",
   "metadata": {},
   "source": [
    "- Write and solve the dual problem."
   ]
  }
 ],
 "metadata": {},
 "nbformat": 4,
 "nbformat_minor": 5
}
