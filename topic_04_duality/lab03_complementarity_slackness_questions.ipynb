{
 "cells": [
  {
   "cell_type": "markdown",
   "id": "4c3856b4",
   "metadata": {},
   "source": [
    "# Complementarity slackness\n",
    "\n",
    "## Introduction to optimization and operations research\n",
    "\n",
    "Michel Bierlaire\n"
   ]
  },
  {
   "cell_type": "code",
   "execution_count": null,
   "id": "236e7472",
   "metadata": {},
   "outputs": [],
   "source": [
    "\n",
    "import numpy as np\n",
    "from teaching_optimization.linear_constraints import (\n",
    "    AllConstraints,\n",
    "    draw_polyhedron_canonical_form,\n",
    "    StandardCanonicalForms,\n",
    ")\n",
    "from teaching_optimization.simplex_tableau import SimplexAlgorithmTableau\n",
    "from teaching_optimization.tableau import SimplexTableau\n"
   ]
  },
  {
   "cell_type": "markdown",
   "id": "91218893",
   "metadata": {},
   "source": [
    "In this lab, you will use **complementarity slackness** to link a primal linear optimization problem\n",
    "to its dual, identify **active constraints**, and recover the optimal dual variables without running\n",
    "a solver. You will (i) solve the primal, (ii) test which constraints are active at the optimum,\n",
    "(iii) set the corresponding dual variables/constraints using complementarity slackness, and\n",
    "(iv) verify the result by formulating and solving the dual. The goal is to build intuition for how\n",
    "primal and dual solutions certify each other and why activity patterns at the\n",
    "optimal primal solution determine the dual optimum."
   ]
  },
  {
   "cell_type": "markdown",
   "id": "4eac13b0",
   "metadata": {},
   "source": [
    "Consider the optimization problem $$\\min_{x \\in\\mathbb{R}^2} -3x_1 - 4x_2$$ subject to\n",
    "\\begin{align*}\n",
    "-x_1+x_2 & \\leq 2,\\\\\n",
    "3x_1-2x_2 & \\leq 5,\\\\\n",
    "x_1+x_2 & \\leq 4,\\\\\n",
    "x_1,x_2 & \\geq 0.\n",
    "\\end{align*}"
   ]
  },
  {
   "cell_type": "code",
   "execution_count": null,
   "id": "d005ff73",
   "metadata": {},
   "outputs": [],
   "source": [
    "\n",
    "A_canonical = np.array([[-1, 1], [3, -2], [1, 1], [-1, 0], [0, -1]])\n",
    "b_canonical = np.array([2, 5, 4, 0, 0])\n",
    "polyhedron = AllConstraints.from_canonical_form(matrix=A_canonical, vector=b_canonical)\n",
    "print(polyhedron)\n"
   ]
  },
  {
   "cell_type": "markdown",
   "id": "6dd12d49",
   "metadata": {},
   "source": [
    "Plot the polyhedron"
   ]
  },
  {
   "cell_type": "code",
   "execution_count": null,
   "id": "61a82d2e",
   "metadata": {},
   "outputs": [],
   "source": [
    "draw_polyhedron_canonical_form(\n",
    "    matrix_a=A_canonical,\n",
    "    vector_b=b_canonical,\n",
    ")\n"
   ]
  },
  {
   "cell_type": "markdown",
   "id": "6192ec17",
   "metadata": {},
   "source": [
    "Transform the constraints in standard form"
   ]
  },
  {
   "cell_type": "code",
   "execution_count": null,
   "id": "36d791f2",
   "metadata": {},
   "outputs": [],
   "source": [
    "standard_canonical = StandardCanonicalForms(constraints=polyhedron)\n"
   ]
  },
  {
   "cell_type": "markdown",
   "id": "64825f34",
   "metadata": {},
   "source": [
    "Solve the problem with the simplex algorithm"
   ]
  },
  {
   "cell_type": "code",
   "execution_count": null,
   "id": "defd7fa6",
   "metadata": {},
   "outputs": [],
   "source": [
    "objective = np.array([-3, -4, 0, 0, 0])\n",
    "the_algorithm = SimplexAlgorithmTableau(\n",
    "    objective=objective,\n",
    "    constraint_matrix=standard_canonical.standard_matrix,\n",
    "    right_hand_side=standard_canonical.standard_vector,\n",
    ")\n"
   ]
  },
  {
   "cell_type": "markdown",
   "id": "ff236350",
   "metadata": {},
   "source": [
    "Solving the problem"
   ]
  },
  {
   "cell_type": "code",
   "execution_count": null,
   "id": "9995ad67",
   "metadata": {},
   "outputs": [],
   "source": [
    "optimal_tableau: SimplexTableau = the_algorithm.solve()\n"
   ]
  },
  {
   "cell_type": "markdown",
   "id": "6af73807",
   "metadata": {},
   "source": [
    "Optimal solution"
   ]
  },
  {
   "cell_type": "code",
   "execution_count": null,
   "id": "2d98aebb",
   "metadata": {},
   "outputs": [],
   "source": [
    "print(optimal_tableau.feasible_basic_solution)\n",
    "x_1 = optimal_tableau.feasible_basic_solution[0]\n",
    "print(f'x_1 = {x_1:.3g}')\n",
    "x_2 = optimal_tableau.feasible_basic_solution[1]\n",
    "print(f'x_2 = {x_2:.3g}')\n"
   ]
  },
  {
   "cell_type": "markdown",
   "id": "c2e6ca42",
   "metadata": {},
   "source": [
    "Note that, for numerical reasons, the actual value of $x_1$ stored in the computer is not exactly 1:"
   ]
  },
  {
   "cell_type": "code",
   "execution_count": null,
   "id": "2acbb431",
   "metadata": {},
   "outputs": [],
   "source": [
    "print(x_1)\n"
   ]
  },
  {
   "cell_type": "markdown",
   "id": "a4d71dd8",
   "metadata": {},
   "source": [
    "Optimal value"
   ]
  },
  {
   "cell_type": "code",
   "execution_count": null,
   "id": "9544e636",
   "metadata": {},
   "outputs": [],
   "source": [
    "print(f'{optimal_tableau.value_objective_function:.3g}')\n"
   ]
  },
  {
   "cell_type": "markdown",
   "id": "2b184fcd",
   "metadata": {},
   "source": [
    "Identify the active constraints at the optimal solution. Warning: for the numerical reasons mentioned above,\n",
    "never check if two float numbers are equal. Instead, use the numpy function `isclose`."
   ]
  },
  {
   "cell_type": "code",
   "execution_count": null,
   "id": "beb1cdbe",
   "metadata": {},
   "outputs": [],
   "source": [
    "first_constraint_active = ...\n",
    "print(f'First constraint: {first_constraint_active}')\n",
    "second_constraint_active = ...\n",
    "\n",
    "\n",
    "print(f'Second constraint: {second_constraint_active}')\n",
    "third_constraint_active = ...\n",
    "print(f'Third constraint: {third_constraint_active}')\n"
   ]
  },
  {
   "cell_type": "markdown",
   "id": "b4d4b948",
   "metadata": {},
   "source": [
    "# Write the dual of this problem."
   ]
  },
  {
   "cell_type": "markdown",
   "id": "293c90c7",
   "metadata": {},
   "source": [
    "# Use the complementarity slackness conditions to solve the dual.\n",
    "\n",
    "Rule of thumb (per variable–constraint pair):\n",
    "\n",
    "- If the variable x_j is strictly positive (x_j > 0), then the matching dual constraint j\n",
    "must be active (i.e., it holds with equality).\n",
    "- If the matching dual constraint j is not active (strict inequality), then x_j must be 0.\n",
    "\n",
    "Symmetrically for dual variables and primal constraints:\n",
    "- If the dual variable μ_i > 0, the corresponding primal constraint i is active.\n",
    "- If the primal constraint i is not active, then μ_i = 0.\n",
    "\n",
    "Practical tips for solving:\n",
    "\n",
    "1) Identify inactive primal constraints → immediately set the corresponding dual variables to 0.\n",
    "2) Identify strictly positive primal variables → write down the equalities from the corresponding dual constraints.\n",
    "3) Substitute the known zero variables into the system and solve the resulting equalities for the others.\n",
    "4) Verify the solution: check feasibility of both primal and dual and confirm objective values match\n",
    "(strong duality)."
   ]
  },
  {
   "cell_type": "markdown",
   "id": "7e8dd8f8",
   "metadata": {},
   "source": [
    "# Solve the dual with the simplex algorithm to verify the result."
   ]
  }
 ],
 "metadata": {},
 "nbformat": 4,
 "nbformat_minor": 5
}
