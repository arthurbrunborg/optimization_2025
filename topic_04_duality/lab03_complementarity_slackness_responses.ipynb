{
 "cells": [
  {
   "cell_type": "markdown",
   "id": "c932fe52",
   "metadata": {},
   "source": [
    "# Complementarity slackness\n",
    "\n",
    "## Introduction to optimization and operations research\n",
    "\n",
    "Michel Bierlaire\n"
   ]
  },
  {
   "cell_type": "code",
   "execution_count": null,
   "id": "0c77689b",
   "metadata": {},
   "outputs": [],
   "source": [
    "\n",
    "import numpy as np\n",
    "from teaching_optimization.linear_constraints import (\n",
    "    AllConstraints,\n",
    "    draw_polyhedron_canonical_form,\n",
    "    StandardCanonicalForms,\n",
    ")\n",
    "from teaching_optimization.simplex_tableau import SimplexAlgorithmTableau\n",
    "from teaching_optimization.tableau import SimplexTableau\n"
   ]
  },
  {
   "cell_type": "markdown",
   "id": "241d257e",
   "metadata": {},
   "source": [
    "In this lab, you will use **complementarity slackness** to link a primal linear optimization problem\n",
    "to its dual, identify **active constraints**, and recover the optimal dual variables without running\n",
    "a solver. You will (i) solve the primal, (ii) test which constraints are active at the optimum,\n",
    "(iii) set the corresponding dual variables/constraints using complementarity slackness, and\n",
    "(iv) verify the result by formulating and solving the dual. The goal is to build intuition for how\n",
    "primal and dual solutions certify each other and why activity patterns at the\n",
    "optimal primal solution determine the dual optimum."
   ]
  },
  {
   "cell_type": "markdown",
   "id": "e39b3b81",
   "metadata": {},
   "source": [
    "Consider the optimization problem $$\\min_{x \\in\\mathbb{R}^2} -3x_1 - 4x_2$$ subject to\n",
    "\\begin{align*}\n",
    "-x_1+x_2 & \\leq 2,\\\\\n",
    "3x_1-2x_2 & \\leq 5,\\\\\n",
    "x_1+x_2 & \\leq 4,\\\\\n",
    "x_1,x_2 & \\geq 0.\n",
    "\\end{align*}"
   ]
  },
  {
   "cell_type": "code",
   "execution_count": null,
   "id": "7ea5f7b2",
   "metadata": {},
   "outputs": [],
   "source": [
    "\n",
    "A_canonical = np.array([[-1, 1], [3, -2], [1, 1], [-1, 0], [0, -1]])\n",
    "b_canonical = np.array([2, 5, 4, 0, 0])\n",
    "polyhedron = AllConstraints.from_canonical_form(matrix=A_canonical, vector=b_canonical)\n",
    "print(polyhedron)\n"
   ]
  },
  {
   "cell_type": "markdown",
   "id": "bd7b6730",
   "metadata": {},
   "source": [
    "Plot the polyhedron"
   ]
  },
  {
   "cell_type": "code",
   "execution_count": null,
   "id": "59c7c4ad",
   "metadata": {},
   "outputs": [],
   "source": [
    "draw_polyhedron_canonical_form(\n",
    "    matrix_a=A_canonical,\n",
    "    vector_b=b_canonical,\n",
    ")\n"
   ]
  },
  {
   "cell_type": "markdown",
   "id": "77d62430",
   "metadata": {},
   "source": [
    "Transform the constraints in standard form"
   ]
  },
  {
   "cell_type": "code",
   "execution_count": null,
   "id": "2db57d5f",
   "metadata": {},
   "outputs": [],
   "source": [
    "standard_canonical = StandardCanonicalForms(constraints=polyhedron)\n"
   ]
  },
  {
   "cell_type": "markdown",
   "id": "55b041fe",
   "metadata": {},
   "source": [
    "Solve the problem with the simplex algorithm"
   ]
  },
  {
   "cell_type": "code",
   "execution_count": null,
   "id": "a1230b16",
   "metadata": {},
   "outputs": [],
   "source": [
    "objective = np.array([-3, -4, 0, 0, 0])\n",
    "the_algorithm = SimplexAlgorithmTableau(\n",
    "    objective=objective,\n",
    "    constraint_matrix=standard_canonical.standard_matrix,\n",
    "    right_hand_side=standard_canonical.standard_vector,\n",
    ")\n"
   ]
  },
  {
   "cell_type": "markdown",
   "id": "c44547d9",
   "metadata": {},
   "source": [
    "Solving the problem"
   ]
  },
  {
   "cell_type": "code",
   "execution_count": null,
   "id": "2cd4739c",
   "metadata": {},
   "outputs": [],
   "source": [
    "optimal_tableau: SimplexTableau = the_algorithm.solve()\n"
   ]
  },
  {
   "cell_type": "markdown",
   "id": "e7c27c35",
   "metadata": {},
   "source": [
    "Optimal solution"
   ]
  },
  {
   "cell_type": "code",
   "execution_count": null,
   "id": "9249a938",
   "metadata": {},
   "outputs": [],
   "source": [
    "print(optimal_tableau.feasible_basic_solution)\n",
    "x_1 = optimal_tableau.feasible_basic_solution[0]\n",
    "print(f'x_1 = {x_1:.3g}')\n",
    "x_2 = optimal_tableau.feasible_basic_solution[1]\n",
    "print(f'x_2 = {x_2:.3g}')\n"
   ]
  },
  {
   "cell_type": "markdown",
   "id": "eeb77313",
   "metadata": {},
   "source": [
    "Note that, for numerical reasons, the actual value of $x_1$ stored in the computer is not exactly 1:"
   ]
  },
  {
   "cell_type": "code",
   "execution_count": null,
   "id": "804e68db",
   "metadata": {},
   "outputs": [],
   "source": [
    "print(x_1)\n"
   ]
  },
  {
   "cell_type": "markdown",
   "id": "647860ff",
   "metadata": {},
   "source": [
    "Optimal value"
   ]
  },
  {
   "cell_type": "code",
   "execution_count": null,
   "id": "b8b14c51",
   "metadata": {},
   "outputs": [],
   "source": [
    "print(f'{optimal_tableau.value_objective_function:.3g}')\n"
   ]
  },
  {
   "cell_type": "markdown",
   "id": "556edcfc",
   "metadata": {},
   "source": [
    "Identify the active constraints at the optimal solution. Warning: for the numerical reasons mentioned above,\n",
    "never check if two float numbers are equal. Instead, use the numpy function `isclose`."
   ]
  },
  {
   "cell_type": "code",
   "execution_count": null,
   "id": "a322feb9",
   "metadata": {},
   "outputs": [],
   "source": [
    "first_constraint_active = np.isclose(-x_1 + x_2, 2)\n",
    "print(f'First constraint: {first_constraint_active}')\n",
    "second_constraint_active = np.isclose(\n",
    "    3 * x_1 - 2 * x_2, 5\n",
    ")\n",
    "print(f'Second constraint: {second_constraint_active}')\n",
    "third_constraint_active = np.isclose(x_1 + x_2, 4)\n",
    "print(f'Third constraint: {third_constraint_active}')\n"
   ]
  },
  {
   "cell_type": "markdown",
   "id": "8eb8d26e",
   "metadata": {},
   "source": [
    "# Write the dual of this problem."
   ]
  },
  {
   "cell_type": "markdown",
   "id": "1ffa37ea",
   "metadata": {},
   "source": [
    "The Lagrangian is"
   ]
  },
  {
   "cell_type": "markdown",
   "id": "61e13093",
   "metadata": {},
   "source": [
    "$$\n",
    "L(x_1, x_2, \\mu_1, \\mu_2, \\mu_3, \\mu_4, \\mu_5) = -3 x_1 - 4 x_2 - \\mu_1 x_1 + \\mu_1 x_2 - 2 \\mu_1\n",
    "+ 3 \\mu_2 x_1 - 2 \\mu_2 x_2 - 5 \\mu_2\n",
    "+ \\mu_3 x_1 + \\mu_3 x_2 - 4 \\mu_3\n",
    "- \\mu_4 x_1\n",
    "- \\mu_5 x_2\n",
    "$$\n",
    "where $\\mu_1, \\mu_2, \\mu_3, \\mu_4, \\mu_5 \\geq 0$."
   ]
  },
  {
   "cell_type": "markdown",
   "id": "0eea2acf",
   "metadata": {},
   "source": [
    "For the Lagrangian to be bounded, we need to impose the following constraints:"
   ]
  },
  {
   "cell_type": "markdown",
   "id": "c75786e2",
   "metadata": {},
   "source": [
    "The coefficient of $x_1$ must be zero:\n",
    "$$ -3 -\\mu_1  + 3 \\mu_2 + \\mu_3 - \\mu_4 = 0, $$\n",
    "and the coefficient of $x_2$ must be zero:\n",
    "$$ -4 + \\mu_1 - 2 \\mu_2  + \\mu_3 - \\mu_5 = 0.$$"
   ]
  },
  {
   "cell_type": "markdown",
   "id": "53f95cee",
   "metadata": {},
   "source": [
    "The Lagrangian therefore simplifies to\n",
    "$$L(x_1, x_2, \\mu_1, \\mu_2, \\mu_3, \\mu_4, \\mu_5) = -2 \\mu_1 -5 \\mu_2  - 4 \\mu_3. $$"
   ]
  },
  {
   "cell_type": "markdown",
   "id": "144f15ca",
   "metadata": {},
   "source": [
    "Eliminating $\\mu_4$ and $\\mu_5$, we can write the dual problem as"
   ]
  },
  {
   "cell_type": "markdown",
   "id": "92d15a67",
   "metadata": {},
   "source": [
    "$$ \\max_{\\mu \\in \\mathbb{R}^3} -2 \\mu_1 -5 \\mu_2  - 4 \\mu_3$$\n",
    "subject to\n",
    "$$-\\mu_1  + 3 \\mu_2 + \\mu_3 \\geq 3, $$\n",
    "$$\\mu_1 - 2 \\mu_2  + \\mu_3 \\geq 4,$$\n",
    "$$\\mu_1, \\mu_2, \\mu_3 \\geq 0.$$"
   ]
  },
  {
   "cell_type": "markdown",
   "id": "9fdd2a13",
   "metadata": {},
   "source": [
    "# Use the complementarity slackness conditions to solve the dual.\n",
    "\n",
    "Rule of thumb (per variable–constraint pair):\n",
    "\n",
    "- If the variable x_j is strictly positive (x_j > 0), then the matching dual constraint j\n",
    "must be active (i.e., it holds with equality).\n",
    "- If the matching dual constraint j is not active (strict inequality), then x_j must be 0.\n",
    "\n",
    "Symmetrically for dual variables and primal constraints:\n",
    "- If the dual variable μ_i > 0, the corresponding primal constraint i is active.\n",
    "- If the primal constraint i is not active, then μ_i = 0.\n",
    "\n",
    "Practical tips for solving:\n",
    "\n",
    "1) Identify inactive primal constraints → immediately set the corresponding dual variables to 0.\n",
    "2) Identify strictly positive primal variables → write down the equalities from the corresponding dual constraints.\n",
    "3) Substitute the known zero variables into the system and solve the resulting equalities for the others.\n",
    "4) Verify the solution: check feasibility of both primal and dual and confirm objective values match\n",
    "(strong duality)."
   ]
  },
  {
   "cell_type": "markdown",
   "id": "7e1593f5",
   "metadata": {},
   "source": [
    "Here, as the second constraint of the primal is not active, the corresponding\n",
    "dual variable must be zero: $\\mu^*_2=0$.\n",
    "Also, as the two primal variables $x^*_1$ and $x_2^*$ are non zero, the\n",
    "corresponding dual constraints must be active, and we have the following\n",
    "equations:\n",
    "$$-\\mu^*_1  + 3 \\mu^*_2 + \\mu^*_3 = 3, $$\n",
    "$$\\mu^*_1 - 2 \\mu^*_2  + \\mu^*_3 = 4.$$"
   ]
  },
  {
   "cell_type": "markdown",
   "id": "ff89018e",
   "metadata": {},
   "source": [
    "As $\\mu^*_2=0$, they simplify to\n",
    "$$-\\mu^*_1 + \\mu^*_3 = 3, $$\n",
    "$$\\mu^*_1 + \\mu^*_3 = 4.$$"
   ]
  },
  {
   "cell_type": "markdown",
   "id": "780ca948",
   "metadata": {},
   "source": [
    "The solution is $\\mu^*_1=1/2$ and $\\mu^*_3=7/2$."
   ]
  },
  {
   "cell_type": "markdown",
   "id": "93f2a530",
   "metadata": {},
   "source": [
    "The value of the objective function is $-15$, as expected from the strong duality theorem."
   ]
  },
  {
   "cell_type": "markdown",
   "id": "570f64bd",
   "metadata": {},
   "source": [
    "# Solve the dual with the simplex algorithm to verify the result."
   ]
  },
  {
   "cell_type": "markdown",
   "id": "6e80602c",
   "metadata": {},
   "source": [
    "The problem in canonical form is"
   ]
  },
  {
   "cell_type": "markdown",
   "id": "50aa57a2",
   "metadata": {},
   "source": [
    "$$ \\min_{\\mu \\in \\mathbb{R}^3} 2 \\mu_1 +5 \\mu_2  + 4 \\mu_3$$\n",
    "subject to\n",
    "$$\\mu_1  - 3 \\mu_2 - \\mu_3 \\leq -3, $$\n",
    "$$-\\mu_1 + 2 \\mu_2  - \\mu_3 \\leq -4,$$\n",
    "$$\\mu_1, \\mu_2, \\mu_3 \\geq 0$$."
   ]
  },
  {
   "cell_type": "code",
   "execution_count": null,
   "id": "37165414",
   "metadata": {},
   "outputs": [],
   "source": [
    "dual_A_canonical = np.array(\n",
    "    [[1, -3, -1], [-1, 2, -1], [-1, 0, 0], [0, -1, 0], [0, 0, -1]]\n",
    ")\n",
    "dual_b_canonical = np.array([-3, -4, 0, 0, 0])\n",
    "dual_polyhedron = AllConstraints.from_canonical_form(\n",
    "    matrix=dual_A_canonical, vector=dual_b_canonical\n",
    ")\n",
    "print(polyhedron)\n",
    "\n"
   ]
  },
  {
   "cell_type": "markdown",
   "id": "61a062fd",
   "metadata": {},
   "source": [
    "Transform the constraints in standard form"
   ]
  },
  {
   "cell_type": "code",
   "execution_count": null,
   "id": "55c1e6be",
   "metadata": {},
   "outputs": [],
   "source": [
    "dual_standard_canonical = StandardCanonicalForms(constraints=dual_polyhedron)\n"
   ]
  },
  {
   "cell_type": "markdown",
   "id": "574f5009",
   "metadata": {},
   "source": [
    "Solve the problem with the simplex algorithm"
   ]
  },
  {
   "cell_type": "code",
   "execution_count": null,
   "id": "eb80998b",
   "metadata": {},
   "outputs": [],
   "source": [
    "dual_objective = np.array([2, 5, 4, 0, 0])\n",
    "the_dual_algorithm = SimplexAlgorithmTableau(\n",
    "    objective=dual_objective,\n",
    "    constraint_matrix=dual_standard_canonical.standard_matrix,\n",
    "    right_hand_side=dual_standard_canonical.standard_vector,\n",
    ")\n"
   ]
  },
  {
   "cell_type": "markdown",
   "id": "24cbac4b",
   "metadata": {},
   "source": [
    "Solving the problem"
   ]
  },
  {
   "cell_type": "code",
   "execution_count": null,
   "id": "c4f76beb",
   "metadata": {},
   "outputs": [],
   "source": [
    "dual_optimal_tableau: SimplexTableau = the_dual_algorithm.solve()\n"
   ]
  },
  {
   "cell_type": "markdown",
   "id": "3a1ef7e8",
   "metadata": {},
   "source": [
    "Optimal solution"
   ]
  },
  {
   "cell_type": "code",
   "execution_count": null,
   "id": "8b5bf3f9",
   "metadata": {},
   "outputs": [],
   "source": [
    "print(dual_optimal_tableau.feasible_basic_solution)\n"
   ]
  },
  {
   "cell_type": "code",
   "execution_count": null,
   "id": "4419b54e",
   "metadata": {},
   "outputs": [],
   "source": [
    "mu_1 = dual_optimal_tableau.feasible_basic_solution[0]\n",
    "print(f'{mu_1=:.3g}')\n",
    "mu_2 = dual_optimal_tableau.feasible_basic_solution[1]\n",
    "print(f'{mu_2=:.3g}')\n",
    "mu_3 = dual_optimal_tableau.feasible_basic_solution[2]\n",
    "print(f'{mu_3=:.3g}')\n"
   ]
  },
  {
   "cell_type": "markdown",
   "id": "efabd6e3",
   "metadata": {},
   "source": [
    "Optimal value"
   ]
  },
  {
   "cell_type": "code",
   "execution_count": null,
   "id": "4d63da3c",
   "metadata": {},
   "outputs": [],
   "source": [
    "print(\n",
    "    f'Optimal value of the minimization problem: {dual_optimal_tableau.value_objective_function:.3g}'\n",
    ")\n",
    "print(\n",
    "    f'Optimal value of the maximization problem: {-dual_optimal_tableau.value_objective_function:.3g}'\n",
    ")"
   ]
  },
  {
   "cell_type": "markdown",
   "id": "792474fe",
   "metadata": {},
   "source": [
    "It confirms the above results."
   ]
  }
 ],
 "metadata": {},
 "nbformat": 4,
 "nbformat_minor": 5
}
