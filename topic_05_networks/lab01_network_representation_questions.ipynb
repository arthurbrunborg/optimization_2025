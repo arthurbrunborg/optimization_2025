{
 "cells": [
  {
   "cell_type": "markdown",
   "id": "045bf1e2",
   "metadata": {},
   "source": [
    "# Network representation\n",
    "\n",
    "## Introduction to optimization and operations research.\n",
    "\n",
    "Michel Bierlaire\n"
   ]
  },
  {
   "cell_type": "code",
   "execution_count": null,
   "id": "66c5346f",
   "metadata": {},
   "outputs": [],
   "source": [
    "\n",
    "import matplotlib.pyplot as plt\n",
    "import networkx as nx\n",
    "from networkx.classes.digraph import DiGraph, Graph\n",
    "from teaching_optimization.networks import draw_network\n"
   ]
  },
  {
   "cell_type": "markdown",
   "id": "3141de78",
   "metadata": {},
   "source": [
    "In this lab, you will learn how to **represent and analyze networks** using `networkx`.\n",
    "Starting from a directed graph with nodes, positions, and arc flows, you will compute\n",
    "**degrees** (in/out/total), build the **adjacency matrix** and **adjacency lists**, check\n",
    "**connectivity** (strong and weak), enumerate **simple paths**, and calculate **divergence**\n",
    "and **cut flows**. These skills are foundational for modeling transportation and flow\n",
    "systems, and they prepare you to formulate and solve a **linear optimization problem**\n",
    "on networks later (e.g., shortest paths, flows, and capacities). Work carefully through\n",
    "each task to connect the code you write with the underlying graph concepts."
   ]
  },
  {
   "cell_type": "markdown",
   "id": "5c17fc2f",
   "metadata": {},
   "source": [
    "Before working on this assignment, consult the documentation of the `networkx`\n",
    "package: [click here](https://networkx.org)."
   ]
  },
  {
   "cell_type": "markdown",
   "id": "3d425286",
   "metadata": {},
   "source": [
    "# Definition of the the_network"
   ]
  },
  {
   "cell_type": "markdown",
   "id": "a83df292",
   "metadata": {},
   "source": [
    "Nodes"
   ]
  },
  {
   "cell_type": "code",
   "execution_count": null,
   "id": "dbe52965",
   "metadata": {},
   "outputs": [],
   "source": [
    "nodes = ['a', 'b', 'c', 'd', 'e', 'f', 'g']\n"
   ]
  },
  {
   "cell_type": "markdown",
   "id": "5aab3847",
   "metadata": {},
   "source": [
    "We assign coordinates to nodes. This is used only for drawing."
   ]
  },
  {
   "cell_type": "code",
   "execution_count": null,
   "id": "b8e94853",
   "metadata": {},
   "outputs": [],
   "source": [
    "positions = {\n",
    "    'a': (0, 0),\n",
    "    'b': (2, -2),\n",
    "    'c': (2, 2),\n",
    "    'd': (4, -2),\n",
    "    'e': (4, 2),\n",
    "    'f': (6, 0),\n",
    "    'g': (8, 0),\n",
    "}\n"
   ]
  },
  {
   "cell_type": "markdown",
   "id": "6effc827",
   "metadata": {},
   "source": [
    "Arcs with  flows"
   ]
  },
  {
   "cell_type": "code",
   "execution_count": null,
   "id": "02255074",
   "metadata": {},
   "outputs": [],
   "source": [
    "arcs = [\n",
    "    ('a', 'c', 1),\n",
    "    ('a', 'b', 3),\n",
    "    ('c', 'b', 5),\n",
    "    ('b', 'd', -1),\n",
    "    ('c', 'e', 0),\n",
    "    ('d', 'c', 1),\n",
    "    ('e', 'd', 2),\n",
    "    ('e', 'g', 4),\n",
    "    ('e', 'f', -3),\n",
    "    ('d', 'f', 1),\n",
    "    ('d', 'g', 1),\n",
    "    ('f', 'g', -2),\n",
    "]\n"
   ]
  },
  {
   "cell_type": "markdown",
   "id": "6b6615b7",
   "metadata": {},
   "source": [
    "We create a directed graph:"
   ]
  },
  {
   "cell_type": "code",
   "execution_count": null,
   "id": "6737f327",
   "metadata": {},
   "outputs": [],
   "source": [
    "G: DiGraph = DiGraph()\n"
   ]
  },
  {
   "cell_type": "markdown",
   "id": "c05ee3fa",
   "metadata": {},
   "source": [
    "We add the nodes:"
   ]
  },
  {
   "cell_type": "code",
   "execution_count": null,
   "id": "5673f03d",
   "metadata": {},
   "outputs": [],
   "source": [
    "for node in nodes:\n",
    "    G.add_node(node, pos=positions[node])\n"
   ]
  },
  {
   "cell_type": "markdown",
   "id": "30cd5f7b",
   "metadata": {},
   "source": [
    "We add the arcs:"
   ]
  },
  {
   "cell_type": "code",
   "execution_count": null,
   "id": "1ec82a87",
   "metadata": {},
   "outputs": [],
   "source": [
    "G.add_weighted_edges_from(arcs, weight='flow')\n"
   ]
  },
  {
   "cell_type": "markdown",
   "id": "315d843f",
   "metadata": {},
   "source": [
    "We plot the the_network."
   ]
  },
  {
   "cell_type": "code",
   "execution_count": null,
   "id": "c602e50c",
   "metadata": {},
   "outputs": [],
   "source": [
    "fig, ax = plt.subplots(figsize=(8, 6))\n",
    "draw_network(the_network=G, attr_edge_labels='flow', ax=ax)\n",
    "plt.show()\n",
    "\n"
   ]
  },
  {
   "cell_type": "markdown",
   "id": "7acaf51e",
   "metadata": {},
   "source": [
    "Now, use the functionalities of the `networkx` package in general, and the `G` object in particular to answer\n",
    "the following questions.\n",
    "\n",
    "# Degree\n",
    "What is the indegree, the outdegree and the degree of each node?"
   ]
  },
  {
   "cell_type": "markdown",
   "id": "0d481f36",
   "metadata": {},
   "source": [
    "Note that the degree should be the sum of the indegree and outdegree. However, do not calculate it that way.\n",
    "That property is used to check the validity of the output."
   ]
  },
  {
   "cell_type": "code",
   "execution_count": null,
   "id": "007c334d",
   "metadata": {},
   "outputs": [],
   "source": [
    "\n",
    "\n",
    "for node in G.nodes:\n",
    "    indegree = ...\n",
    "    outdegree = ...\n",
    "    degree = ...\n",
    "    assert indegree + outdegree == degree\n",
    "    print(\n",
    "        f'Node {node}: Indegree = {indegree}, Outdegree = {outdegree}, Degree = {degree}'\n",
    "    )\n"
   ]
  },
  {
   "cell_type": "markdown",
   "id": "7fed4123",
   "metadata": {},
   "source": [
    "# Adjacency matrix\n",
    "Give the adjacency matrix of the the_network."
   ]
  },
  {
   "cell_type": "markdown",
   "id": "b3d147bb",
   "metadata": {},
   "source": [
    "First, create a dictionary associating each node with an index."
   ]
  },
  {
   "cell_type": "code",
   "execution_count": null,
   "id": "d504a6fb",
   "metadata": {},
   "outputs": [],
   "source": [
    "node_index = {node: idx for idx, node in enumerate(G.nodes)}\n"
   ]
  },
  {
   "cell_type": "markdown",
   "id": "5c1cb082",
   "metadata": {},
   "source": [
    "Second, initialize the matrix with zero's."
   ]
  },
  {
   "cell_type": "code",
   "execution_count": null,
   "id": "538d7b60",
   "metadata": {},
   "outputs": [],
   "source": [
    "adjacency_matrix = [[0] * G.number_of_nodes() for _ in range(G.number_of_nodes())]\n"
   ]
  },
  {
   "cell_type": "markdown",
   "id": "1007eb73",
   "metadata": {},
   "source": [
    "Finally, fill in the matrix."
   ]
  },
  {
   "cell_type": "code",
   "execution_count": null,
   "id": "1a52abfa",
   "metadata": {},
   "outputs": [],
   "source": [
    "for node_1 in nodes:\n",
    "    for node_2 in nodes:\n",
    "        if ...:\n",
    "            i, j = node_index[node_1], node_index[node_2]\n",
    "            adjacency_matrix[i][j] = ...\n"
   ]
  },
  {
   "cell_type": "markdown",
   "id": "c50a6665",
   "metadata": {},
   "source": [
    "Expected result:\n",
    "```\n",
    "[0, 1, 1, 0, 0, 0, 0]\n",
    "[0, 0, 0, 1, 0, 0, 0]\n",
    "[0, 1, 0, 0, 1, 0, 0]\n",
    "[0, 0, 1, 0, 0, 1, 1]\n",
    "[0, 0, 0, 1, 0, 1, 1]\n",
    "[0, 0, 0, 0, 0, 0, 1]\n",
    "[0, 0, 0, 0, 0, 0, 0]\n",
    "```"
   ]
  },
  {
   "cell_type": "code",
   "execution_count": null,
   "id": "58164b12",
   "metadata": {},
   "outputs": [],
   "source": [
    "for row in adjacency_matrix:\n",
    "    print(row)\n",
    "\n",
    "\n",
    "\n",
    "\n",
    "\n"
   ]
  },
  {
   "cell_type": "markdown",
   "id": "0dbe2fa2",
   "metadata": {},
   "source": [
    "# Adjacency list\n",
    "Represent the the_network using an adjacency list that also stores the flows."
   ]
  },
  {
   "cell_type": "markdown",
   "id": "a863887f",
   "metadata": {},
   "source": [
    "First, build a dict associating each node with the list of adjacent nodes."
   ]
  },
  {
   "cell_type": "code",
   "execution_count": null,
   "id": "e52d259b",
   "metadata": {},
   "outputs": [],
   "source": [
    " adj_list = {node: ... for node in G.nodes}\n",
    "\n",
    "\n"
   ]
  },
  {
   "cell_type": "markdown",
   "id": "ead4ffa3",
   "metadata": {},
   "source": [
    "Expected result:\n",
    "```\n",
    "{\n",
    "'a': ['c', 'b'],\n",
    "'b': ['d'],\n",
    "'c': ['b', 'e'],\n",
    "'d': ['c', 'f', 'g'],\n",
    "'e': ['d', 'g', 'f'],\n",
    "'f': ['g'],\n",
    "'g': [],\n",
    "}\n",
    "```"
   ]
  },
  {
   "cell_type": "code",
   "execution_count": null,
   "id": "13936aea",
   "metadata": {},
   "outputs": [],
   "source": [
    "\n",
    "print(adj_list)\n"
   ]
  },
  {
   "cell_type": "markdown",
   "id": "1a6ffba4",
   "metadata": {},
   "source": [
    "Second, build a similar dict, with a list of tuple containing the downstream node and the flow."
   ]
  },
  {
   "cell_type": "code",
   "execution_count": null,
   "id": "63f70193",
   "metadata": {},
   "outputs": [],
   "source": [
    "adj_list_flows: dict[str : list[tuple[str, float]]] = {\n",
    "\n",
    "\n",
    "\n",
    "\n",
    "\n",
    "}\n"
   ]
  },
  {
   "cell_type": "markdown",
   "id": "2062af1a",
   "metadata": {},
   "source": [
    "Expected result:\n",
    "```\n",
    "{\n",
    "'a': [('c', 1), ('b', 3)],\n",
    "'b': [('d', -1)],\n",
    "'c': [('b', 5), ('e', 0)],\n",
    "'d': [('c', 1), ('f', 1), ('g', 1)],\n",
    "'e': [('d', 2), ('g', 4), ('f', -3)],\n",
    "'f': [('g', -2)],\n",
    "'g': [],\n",
    "}\n",
    "```"
   ]
  },
  {
   "cell_type": "code",
   "execution_count": null,
   "id": "1c01c5cb",
   "metadata": {},
   "outputs": [],
   "source": [
    "print(adj_list_flows)\n"
   ]
  },
  {
   "cell_type": "markdown",
   "id": "daa21565",
   "metadata": {},
   "source": [
    "Let's print it in a more readable way."
   ]
  },
  {
   "cell_type": "code",
   "execution_count": null,
   "id": "36423132",
   "metadata": {},
   "outputs": [],
   "source": [
    "for up_stream_node, adjacency_list in adj_list_flows.items():\n",
    "    for down_stream_node, flow in adjacency_list:\n",
    "        print(f'Arc {up_stream_node} -> {down_stream_node}: {flow}')\n",
    "\n"
   ]
  },
  {
   "cell_type": "markdown",
   "id": "7c5b2323",
   "metadata": {},
   "source": [
    "# Connectivity\n",
    "Is the the_network strongly connected?"
   ]
  },
  {
   "cell_type": "markdown",
   "id": "676d65fd",
   "metadata": {},
   "source": [
    "We  implement a function that verifies the property."
   ]
  },
  {
   "cell_type": "code",
   "execution_count": null,
   "id": "1a1102e0",
   "metadata": {},
   "outputs": [],
   "source": [
    "def check_strong_connectivity(G: Graph) -> tuple[bool, set[tuple[str, str]]]:\n",
    "    \"\"\"\n",
    "\n",
    "    :param G: the graph\n",
    "    :return: a tuple containing a boolean that is True if the graph is strongly connected, False otherwise, and a\n",
    "        set of pairs of nodes that cause the property not to be verified. If the bool is True, the set is empty.\n",
    "    \"\"\"\n",
    "    disconnected_nodes = set()\n",
    "    for node1 in G.nodes:\n",
    "        for node2 in G.nodes:\n",
    "            if node1 != node2:\n",
    "                ...\n",
    "\n",
    "\n",
    "\n",
    "\n",
    "    return not bool(disconnected_nodes), disconnected_nodes\n",
    "\n"
   ]
  },
  {
   "cell_type": "markdown",
   "id": "6e2a2918",
   "metadata": {},
   "source": [
    "We apply the function on the directed graph."
   ]
  },
  {
   "cell_type": "code",
   "execution_count": null,
   "id": "794cebd2",
   "metadata": {},
   "outputs": [],
   "source": [
    "is_strongly_connected, disconnected_nodes = check_strong_connectivity(G)\n",
    "if is_strongly_connected:\n",
    "    print('The the_network is strongly connected.')\n",
    "else:\n",
    "    print(\n",
    "        'The the_network is not strongly connected. The following pairs of nodes are disconnected:'\n",
    "    )\n",
    "    for pair in disconnected_nodes:\n",
    "        print(pair)\n",
    "\n",
    "\n",
    "\n",
    "\n",
    "\n"
   ]
  },
  {
   "cell_type": "markdown",
   "id": "24343bc7",
   "metadata": {},
   "source": [
    "Is the the_network connected?"
   ]
  },
  {
   "cell_type": "markdown",
   "id": "a8c98753",
   "metadata": {},
   "source": [
    "Remember that, in this case, we need to ignore the directions of the arcs. Therefore, we use an undirected version\n",
    "of the graph. Check the `networkx`documentation to see how to do that."
   ]
  },
  {
   "cell_type": "code",
   "execution_count": null,
   "id": "82962d7f",
   "metadata": {},
   "outputs": [],
   "source": [
    "\n",
    "\n",
    "def check_connectivity(G: DiGraph) -> tuple[bool, set[tuple[str, str]]]:\n",
    "    undirected_G = ...\n",
    "    return check_strong_connectivity(undirected_G)\n",
    "\n"
   ]
  },
  {
   "cell_type": "markdown",
   "id": "522dc374",
   "metadata": {},
   "source": [
    "We apply the function on the directed graph."
   ]
  },
  {
   "cell_type": "code",
   "execution_count": null,
   "id": "8614110e",
   "metadata": {},
   "outputs": [],
   "source": [
    "is_connected, disconnected_nodes = check_connectivity(G)\n",
    "if is_connected:\n",
    "    print('The the_network is connected.')\n",
    "else:\n",
    "    print(\n",
    "        'The the_network is not connected. The following pairs of nodes are disconnected:'\n",
    "    )\n",
    "    for pair in disconnected_nodes:\n",
    "        print(pair)\n",
    "\n",
    "\n",
    "\n",
    "\n"
   ]
  },
  {
   "cell_type": "markdown",
   "id": "718d52f4",
   "metadata": {},
   "source": [
    "# Paths\n",
    "Enumerate all simple forward paths from node $a$ to node $g$."
   ]
  },
  {
   "cell_type": "code",
   "execution_count": null,
   "id": "4cde2c23",
   "metadata": {},
   "outputs": [],
   "source": [
    "\n",
    "\n",
    "def enumerate_paths(\n",
    "    G: DiGraph, origin: str, destination: str, current_path: list[str] = None\n",
    ") -> list[list[str]]:\n",
    "    \"\"\"Enumerate simple paths between two nodes.\n",
    "\n",
    "    :param G: the directed graph.\n",
    "    :param origin: origin node.\n",
    "    :param destination: destination node.\n",
    "    :param current_path: current path that needs to be extended.\n",
    "    :return: a list of paths connecting the origin to the destination\n",
    "    \"\"\"\n",
    "    if current_path is None:\n",
    "        current_path = []\n",
    "\n",
    "    # Add the start node to the current path\n",
    "    current_path = current_path + [origin]\n",
    "\n",
    "    # If the start node is the end, return the path as a completed path\n",
    "    if origin == destination:\n",
    "        return [current_path]\n",
    "\n",
    "    # Initialize a set to store all paths\n",
    "    all_paths = []\n",
    "\n",
    "    # Explore each adjacent node that has not been visited in the current path\n",
    "    for node in G.successors(origin):\n",
    "        # We need to check that the node has not already been visited, as we need simple paths.\n",
    "        if ...:\n",
    "            new_paths = ...\n",
    "\n",
    "\n",
    "            for new_path in new_paths:\n",
    "                all_paths.append(new_path)\n",
    "\n",
    "    return all_paths\n",
    "\n"
   ]
  },
  {
   "cell_type": "markdown",
   "id": "1d45ffc6",
   "metadata": {},
   "source": [
    "Let's apply the function."
   ]
  },
  {
   "cell_type": "code",
   "execution_count": null,
   "id": "103234d9",
   "metadata": {},
   "outputs": [],
   "source": [
    "all_paths = enumerate_paths(G, origin='a', destination='g')\n"
   ]
  },
  {
   "cell_type": "markdown",
   "id": "5fc3c5dc",
   "metadata": {},
   "source": [
    "Expected results:\n",
    "```\n",
    "['a', 'c', 'b', 'd', 'f', 'g']\n",
    "['a', 'c', 'b', 'd', 'g']\n",
    "['a', 'c', 'e', 'd', 'f', 'g']\n",
    "['a', 'c', 'e', 'd', 'g']\n",
    "['a', 'c', 'e', 'g']\n",
    "['a', 'c', 'e', 'f', 'g']\n",
    "['a', 'b', 'd', 'c', 'e', 'g']\n",
    "['a', 'b', 'd', 'c', 'e', 'f', 'g']\n",
    "['a', 'b', 'd', 'f', 'g']\n",
    "['a', 'b', 'd', 'g']\n",
    "```"
   ]
  },
  {
   "cell_type": "code",
   "execution_count": null,
   "id": "4a731e16",
   "metadata": {},
   "outputs": [],
   "source": [
    "print(\"All simple paths from 'a' to 'g':\")\n",
    "for path in all_paths:\n",
    "    print(path)\n",
    "\n",
    "\n",
    "\n",
    "\n",
    "\n",
    "\n"
   ]
  },
  {
   "cell_type": "markdown",
   "id": "96b750f2",
   "metadata": {},
   "source": [
    "# Divergence\n",
    "Give the divergence of the flow vector of each node. What are the supply nodes? What are the demand nodes?"
   ]
  },
  {
   "cell_type": "markdown",
   "id": "48ec320b",
   "metadata": {},
   "source": [
    "We implement a function calculating the divergence of a node."
   ]
  },
  {
   "cell_type": "code",
   "execution_count": null,
   "id": "5bb71b1c",
   "metadata": {},
   "outputs": [],
   "source": [
    "def divergence(G: DiGraph, node: str) -> float:\n",
    "    \"\"\"Calculates the divergence at a node, that is, the sum of out-flows minus the sum of the in-flows.\n",
    "\n",
    "    :param G: the directed graph.\n",
    "    :param node: node of interest\n",
    "    :return:\n",
    "    \"\"\"\n",
    "    the_divergence = 0\n",
    "    for successor in ...:\n",
    "        arc_flow = ...\n",
    "        the_divergence = ...\n",
    "    for predecessor in ...:\n",
    "        arc_flow = ...\n",
    "        the_divergence = ...\n",
    "    return the_divergence\n",
    "\n"
   ]
  },
  {
   "cell_type": "markdown",
   "id": "c743e52a",
   "metadata": {},
   "source": [
    "We apply the function."
   ]
  },
  {
   "cell_type": "code",
   "execution_count": null,
   "id": "1f6fd6e9",
   "metadata": {},
   "outputs": [],
   "source": [
    "div = {node: divergence(G, node) for node in G.nodes}\n"
   ]
  },
  {
   "cell_type": "markdown",
   "id": "ed6d9af0",
   "metadata": {},
   "source": [
    "Expected result:\n",
    "```\n",
    "{\n",
    "'a': 4,\n",
    "'b': -9,\n",
    "'c': 3,\n",
    "'d': 2,\n",
    "'e': 3,\n",
    "'f': 0,\n",
    "'g': -3,\n",
    "}\n",
    "```"
   ]
  },
  {
   "cell_type": "code",
   "execution_count": null,
   "id": "3124e613",
   "metadata": {},
   "outputs": [],
   "source": [
    "\n",
    "print(div)\n",
    "\n",
    "\n",
    "\n",
    "\n",
    "\n",
    "\n",
    "\n",
    "\n",
    "\n",
    "\n",
    "\n"
   ]
  },
  {
   "cell_type": "markdown",
   "id": "802a5d14",
   "metadata": {},
   "source": [
    "# Cuts\n",
    "Consider the cut $\\Gamma = \\left( { \\mathcal{M} , \\mathcal{N} \\backslash \\mathcal{M} } \\right)$, defined by the set\n",
    "$\\mathcal{M}= \\{a,b,c \\}$.\n",
    "\n",
    "- What are the forward arcs of the cut?\n",
    "- What are the backward arcs of the cut?\n",
    "- What is the flow through the cut? Check that the formula $$X(\\Gamma)=\\sum_{i \\in \\mathcal{M}} \\text{div}(x)_i$$ is satisfied.\n",
    "- Assume that the capacities on each arc are -3 for the lower bound and 5 for the upper bound. What is the capacity of the cut?\n"
   ]
  },
  {
   "cell_type": "markdown",
   "id": "d6e9db37",
   "metadata": {},
   "source": [
    "Define the set of nodes characterizing the cut."
   ]
  },
  {
   "cell_type": "code",
   "execution_count": null,
   "id": "3f43d211",
   "metadata": {},
   "outputs": [],
   "source": [
    "M = ...\n",
    "N = ...\n"
   ]
  },
  {
   "cell_type": "markdown",
   "id": "975fbee8",
   "metadata": {},
   "source": [
    "We verify that all nodes have been involved."
   ]
  },
  {
   "cell_type": "code",
   "execution_count": null,
   "id": "c09b7199",
   "metadata": {},
   "outputs": [],
   "source": [
    "assert M | N == set(G.nodes)"
   ]
  },
  {
   "cell_type": "markdown",
   "id": "9ad6e24b",
   "metadata": {},
   "source": [
    "We also verify that there is no node in both sets."
   ]
  },
  {
   "cell_type": "code",
   "execution_count": null,
   "id": "fea99d20",
   "metadata": {},
   "outputs": [],
   "source": [
    "assert not M.intersection(N)\n"
   ]
  },
  {
   "cell_type": "markdown",
   "id": "4cc2ce22",
   "metadata": {},
   "source": [
    "Finding forward and backward arcs. Generate list of tuples including:\n",
    "- the upstream node of the arc,\n",
    "- the downstream node of the arc,\n",
    "- the flow on the arc."
   ]
  },
  {
   "cell_type": "code",
   "execution_count": null,
   "id": "de00fc57",
   "metadata": {},
   "outputs": [],
   "source": [
    "forward_arcs = ...\n",
    "\n",
    "\n"
   ]
  },
  {
   "cell_type": "markdown",
   "id": "98c28011",
   "metadata": {},
   "source": [
    "The expected answer is:\n",
    "```\n",
    "Forward arcs of the cut:\n",
    "('b', 'd', -1)\n",
    "('c', 'e', 0)\n",
    "```"
   ]
  },
  {
   "cell_type": "code",
   "execution_count": null,
   "id": "206b727b",
   "metadata": {},
   "outputs": [],
   "source": [
    "print('Forward arcs of the cut:')\n",
    "for arc in forward_arcs:\n",
    "    print(arc)\n"
   ]
  },
  {
   "cell_type": "markdown",
   "id": "36502e3f",
   "metadata": {},
   "source": [
    "Now for backward arcs."
   ]
  },
  {
   "cell_type": "code",
   "execution_count": null,
   "id": "e9b0545d",
   "metadata": {},
   "outputs": [],
   "source": [
    "backward_arcs = ...\n",
    "\n",
    "\n"
   ]
  },
  {
   "cell_type": "markdown",
   "id": "01f1408a",
   "metadata": {},
   "source": [
    "The expected answer is:\n",
    "```\n",
    "Backward arcs of the cut:\n",
    "('d', 'c', 1)\n",
    "```"
   ]
  },
  {
   "cell_type": "code",
   "execution_count": null,
   "id": "933fc7bd",
   "metadata": {},
   "outputs": [],
   "source": [
    "print('Backward arcs of the cut:')\n",
    "for arc in backward_arcs:\n",
    "    print(arc)\n"
   ]
  },
  {
   "cell_type": "markdown",
   "id": "8b9be222",
   "metadata": {},
   "source": [
    "Flow through the cut"
   ]
  },
  {
   "cell_type": "code",
   "execution_count": null,
   "id": "0cc33fba",
   "metadata": {},
   "outputs": [],
   "source": [
    "flow_through_cut = ...\n",
    "\n",
    "\n",
    "\n"
   ]
  },
  {
   "cell_type": "markdown",
   "id": "b25d1d8a",
   "metadata": {},
   "source": [
    "Expected answer: -2"
   ]
  },
  {
   "cell_type": "code",
   "execution_count": null,
   "id": "4a47c08c",
   "metadata": {},
   "outputs": [],
   "source": [
    "print(f\"Flow through the cut: {flow_through_cut}\")\n"
   ]
  },
  {
   "cell_type": "markdown",
   "id": "ba9e1ccf",
   "metadata": {},
   "source": [
    "Check the flow formula, that is, the flow through the cut is equal to the sum of the divergences of nodes in M."
   ]
  },
  {
   "cell_type": "code",
   "execution_count": null,
   "id": "d8bab5a8",
   "metadata": {},
   "outputs": [],
   "source": [
    "divergence_flow_sum = ...\n"
   ]
  },
  {
   "cell_type": "markdown",
   "id": "3b19b312",
   "metadata": {},
   "source": [
    "Expected answer: -2"
   ]
  },
  {
   "cell_type": "code",
   "execution_count": null,
   "id": "b544ae7a",
   "metadata": {},
   "outputs": [],
   "source": [
    "print(f\"Sum of divergence in M: {divergence_flow_sum}\")\n",
    "print(\"Is the formula satisfied? \", divergence_flow_sum == flow_through_cut)\n"
   ]
  },
  {
   "cell_type": "markdown",
   "id": "71cc518b",
   "metadata": {},
   "source": [
    "Capacity of the cut"
   ]
  },
  {
   "cell_type": "code",
   "execution_count": null,
   "id": "b2ddece2",
   "metadata": {},
   "outputs": [],
   "source": [
    "lower_bound = -3\n",
    "upper_bound = 5\n",
    "capacity_forward_arcs = ...\n",
    "\n",
    "\n",
    "capacity_backward_arcs = ...\n",
    "\n",
    "\n",
    "capacity_of_cut = ...\n",
    "\n",
    "\n"
   ]
  },
  {
   "cell_type": "markdown",
   "id": "dac41910",
   "metadata": {},
   "source": [
    "Expected answer: 13"
   ]
  },
  {
   "cell_type": "code",
   "execution_count": null,
   "id": "51cf37b4",
   "metadata": {},
   "outputs": [],
   "source": [
    "print(f\"Capacity of the cut: {capacity_of_cut}\")"
   ]
  }
 ],
 "metadata": {},
 "nbformat": 4,
 "nbformat_minor": 5
}
