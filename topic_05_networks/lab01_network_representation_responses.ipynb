{
 "cells": [
  {
   "cell_type": "markdown",
   "id": "fc9cb03d",
   "metadata": {},
   "source": [
    "# Network representation\n",
    "\n",
    "## Introduction to optimization and operations research.\n",
    "\n",
    "Michel Bierlaire\n"
   ]
  },
  {
   "cell_type": "code",
   "execution_count": null,
   "id": "0a5cca43",
   "metadata": {},
   "outputs": [],
   "source": [
    "\n",
    "import matplotlib.pyplot as plt\n",
    "import networkx as nx\n",
    "from networkx.classes.digraph import DiGraph, Graph\n",
    "from teaching_optimization.networks import draw_network\n"
   ]
  },
  {
   "cell_type": "markdown",
   "id": "45f39c11",
   "metadata": {},
   "source": [
    "In this lab, you will learn how to **represent and analyze networks** using `networkx`.\n",
    "Starting from a directed graph with nodes, positions, and arc flows, you will compute\n",
    "**degrees** (in/out/total), build the **adjacency matrix** and **adjacency lists**, check\n",
    "**connectivity** (strong and weak), enumerate **simple paths**, and calculate **divergence**\n",
    "and **cut flows**. These skills are foundational for modeling transportation and flow\n",
    "systems, and they prepare you to formulate and solve a **linear optimization problem**\n",
    "on networks later (e.g., shortest paths, flows, and capacities). Work carefully through\n",
    "each task to connect the code you write with the underlying graph concepts."
   ]
  },
  {
   "cell_type": "markdown",
   "id": "125b3154",
   "metadata": {},
   "source": [
    "Before working on this assignment, consult the documentation of the `networkx`\n",
    "package: [click here](https://networkx.org)."
   ]
  },
  {
   "cell_type": "markdown",
   "id": "3c028bc0",
   "metadata": {},
   "source": [
    "# Definition of the the_network"
   ]
  },
  {
   "cell_type": "markdown",
   "id": "cf0d38f3",
   "metadata": {},
   "source": [
    "Nodes"
   ]
  },
  {
   "cell_type": "code",
   "execution_count": null,
   "id": "75b6092b",
   "metadata": {},
   "outputs": [],
   "source": [
    "nodes = ['a', 'b', 'c', 'd', 'e', 'f', 'g']\n"
   ]
  },
  {
   "cell_type": "markdown",
   "id": "65652665",
   "metadata": {},
   "source": [
    "We assign coordinates to nodes. This is used only for drawing."
   ]
  },
  {
   "cell_type": "code",
   "execution_count": null,
   "id": "d36fa394",
   "metadata": {},
   "outputs": [],
   "source": [
    "positions = {\n",
    "    'a': (0, 0),\n",
    "    'b': (2, -2),\n",
    "    'c': (2, 2),\n",
    "    'd': (4, -2),\n",
    "    'e': (4, 2),\n",
    "    'f': (6, 0),\n",
    "    'g': (8, 0),\n",
    "}\n"
   ]
  },
  {
   "cell_type": "markdown",
   "id": "bb89c731",
   "metadata": {},
   "source": [
    "Arcs with  flows"
   ]
  },
  {
   "cell_type": "code",
   "execution_count": null,
   "id": "9e468216",
   "metadata": {},
   "outputs": [],
   "source": [
    "arcs = [\n",
    "    ('a', 'c', 1),\n",
    "    ('a', 'b', 3),\n",
    "    ('c', 'b', 5),\n",
    "    ('b', 'd', -1),\n",
    "    ('c', 'e', 0),\n",
    "    ('d', 'c', 1),\n",
    "    ('e', 'd', 2),\n",
    "    ('e', 'g', 4),\n",
    "    ('e', 'f', -3),\n",
    "    ('d', 'f', 1),\n",
    "    ('d', 'g', 1),\n",
    "    ('f', 'g', -2),\n",
    "]\n"
   ]
  },
  {
   "cell_type": "markdown",
   "id": "e7ffd50b",
   "metadata": {},
   "source": [
    "We create a directed graph:"
   ]
  },
  {
   "cell_type": "code",
   "execution_count": null,
   "id": "2cd3440d",
   "metadata": {},
   "outputs": [],
   "source": [
    "G: DiGraph = DiGraph()\n"
   ]
  },
  {
   "cell_type": "markdown",
   "id": "50c076b7",
   "metadata": {},
   "source": [
    "We add the nodes:"
   ]
  },
  {
   "cell_type": "code",
   "execution_count": null,
   "id": "96502e79",
   "metadata": {},
   "outputs": [],
   "source": [
    "for node in nodes:\n",
    "    G.add_node(node, pos=positions[node])\n"
   ]
  },
  {
   "cell_type": "markdown",
   "id": "579da9c6",
   "metadata": {},
   "source": [
    "We add the arcs:"
   ]
  },
  {
   "cell_type": "code",
   "execution_count": null,
   "id": "1851187a",
   "metadata": {},
   "outputs": [],
   "source": [
    "G.add_weighted_edges_from(arcs, weight='flow')\n"
   ]
  },
  {
   "cell_type": "markdown",
   "id": "90b375b4",
   "metadata": {},
   "source": [
    "We plot the the_network."
   ]
  },
  {
   "cell_type": "code",
   "execution_count": null,
   "id": "bd229c2d",
   "metadata": {},
   "outputs": [],
   "source": [
    "fig, ax = plt.subplots(figsize=(8, 6))\n",
    "draw_network(the_network=G, attr_edge_labels='flow', ax=ax)\n",
    "plt.show()\n",
    "\n"
   ]
  },
  {
   "cell_type": "markdown",
   "id": "482c830f",
   "metadata": {},
   "source": [
    "Now, use the functionalities of the `networkx` package in general, and the `G` object in particular to answer\n",
    "the following questions.\n",
    "\n",
    "# Degree\n",
    "What is the indegree, the outdegree and the degree of each node?"
   ]
  },
  {
   "cell_type": "markdown",
   "id": "e63b2e4c",
   "metadata": {},
   "source": [
    "Note that the degree should be the sum of the indegree and outdegree. However, do not calculate it that way.\n",
    "That property is used to check the validity of the output."
   ]
  },
  {
   "cell_type": "code",
   "execution_count": null,
   "id": "396ae8fb",
   "metadata": {},
   "outputs": [],
   "source": [
    "\n",
    "\n",
    "for node in G.nodes:\n",
    "    indegree = G.in_degree(node)\n",
    "    outdegree = G.out_degree(node)\n",
    "    degree = G.degree(node)\n",
    "    assert indegree + outdegree == degree\n",
    "    print(\n",
    "        f'Node {node}: Indegree = {indegree}, Outdegree = {outdegree}, Degree = {degree}'\n",
    "    )\n"
   ]
  },
  {
   "cell_type": "markdown",
   "id": "3417e739",
   "metadata": {},
   "source": [
    "# Adjacency matrix\n",
    "Give the adjacency matrix of the the_network."
   ]
  },
  {
   "cell_type": "markdown",
   "id": "583774c4",
   "metadata": {},
   "source": [
    "First, create a dictionary associating each node with an index."
   ]
  },
  {
   "cell_type": "code",
   "execution_count": null,
   "id": "99846889",
   "metadata": {},
   "outputs": [],
   "source": [
    "node_index = {node: idx for idx, node in enumerate(G.nodes)}\n"
   ]
  },
  {
   "cell_type": "markdown",
   "id": "04342f51",
   "metadata": {},
   "source": [
    "Second, initialize the matrix with zero's."
   ]
  },
  {
   "cell_type": "code",
   "execution_count": null,
   "id": "73d41312",
   "metadata": {},
   "outputs": [],
   "source": [
    "adjacency_matrix = [[0] * G.number_of_nodes() for _ in range(G.number_of_nodes())]\n"
   ]
  },
  {
   "cell_type": "markdown",
   "id": "08000a5d",
   "metadata": {},
   "source": [
    "Finally, fill in the matrix."
   ]
  },
  {
   "cell_type": "code",
   "execution_count": null,
   "id": "1092d45b",
   "metadata": {},
   "outputs": [],
   "source": [
    "for node_1 in nodes:\n",
    "    for node_2 in nodes:\n",
    "        if G.has_edge(node_1, node_2):\n",
    "            i, j = node_index[node_1], node_index[node_2]\n",
    "            adjacency_matrix[i][j] = 1\n"
   ]
  },
  {
   "cell_type": "markdown",
   "id": "dfef7b4e",
   "metadata": {},
   "source": [
    "Expected result:\n",
    "```\n",
    "[0, 1, 1, 0, 0, 0, 0]\n",
    "[0, 0, 0, 1, 0, 0, 0]\n",
    "[0, 1, 0, 0, 1, 0, 0]\n",
    "[0, 0, 1, 0, 0, 1, 1]\n",
    "[0, 0, 0, 1, 0, 1, 1]\n",
    "[0, 0, 0, 0, 0, 0, 1]\n",
    "[0, 0, 0, 0, 0, 0, 0]\n",
    "```"
   ]
  },
  {
   "cell_type": "code",
   "execution_count": null,
   "id": "1b49642d",
   "metadata": {},
   "outputs": [],
   "source": [
    "for row in adjacency_matrix:\n",
    "    print(row)\n"
   ]
  },
  {
   "cell_type": "markdown",
   "id": "3732dd6a",
   "metadata": {},
   "source": [
    "It is possible to obtain the matrix directly from `networkx`."
   ]
  },
  {
   "cell_type": "code",
   "execution_count": null,
   "id": "522ef062",
   "metadata": {},
   "outputs": [],
   "source": [
    "adj_matrix = nx.adjacency_matrix(G).todense()\n",
    "print('Adjacency Matrix:')\n",
    "print(adj_matrix)\n"
   ]
  },
  {
   "cell_type": "markdown",
   "id": "c55a2f36",
   "metadata": {},
   "source": [
    "# Adjacency list\n",
    "Represent the the_network using an adjacency list that also stores the flows."
   ]
  },
  {
   "cell_type": "markdown",
   "id": "22fc17e7",
   "metadata": {},
   "source": [
    "First, build a dict associating each node with the list of adjacent nodes."
   ]
  },
  {
   "cell_type": "code",
   "execution_count": null,
   "id": "b921806c",
   "metadata": {},
   "outputs": [],
   "source": [
    "adj_list: dict[str : list[str]] = {\n",
    "    node: list(G.adj[node]) for node in G.nodes\n",
    "}\n"
   ]
  },
  {
   "cell_type": "markdown",
   "id": "4ae73843",
   "metadata": {},
   "source": [
    "Expected result:\n",
    "```\n",
    "{\n",
    "'a': ['c', 'b'],\n",
    "'b': ['d'],\n",
    "'c': ['b', 'e'],\n",
    "'d': ['c', 'f', 'g'],\n",
    "'e': ['d', 'g', 'f'],\n",
    "'f': ['g'],\n",
    "'g': [],\n",
    "}\n",
    "```"
   ]
  },
  {
   "cell_type": "code",
   "execution_count": null,
   "id": "15dd7fcb",
   "metadata": {},
   "outputs": [],
   "source": [
    "\n",
    "print(adj_list)\n"
   ]
  },
  {
   "cell_type": "markdown",
   "id": "3d96389a",
   "metadata": {},
   "source": [
    "Second, build a similar dict, with a list of tuple containing the downstream node and the flow."
   ]
  },
  {
   "cell_type": "code",
   "execution_count": null,
   "id": "5d9508a6",
   "metadata": {},
   "outputs": [],
   "source": [
    "adj_list_flows: dict[str : list[tuple[str, float]]] = {\n",
    "    upstream_node: list(\n",
    "        (downstream_node, G[upstream_node][downstream_node]['flow'])\n",
    "        for downstream_node in arcs\n",
    "    )\n",
    "    for upstream_node, arcs in adj_list.items()\n",
    "}\n"
   ]
  },
  {
   "cell_type": "markdown",
   "id": "672bfd74",
   "metadata": {},
   "source": [
    "Expected result:\n",
    "```\n",
    "{\n",
    "'a': [('c', 1), ('b', 3)],\n",
    "'b': [('d', -1)],\n",
    "'c': [('b', 5), ('e', 0)],\n",
    "'d': [('c', 1), ('f', 1), ('g', 1)],\n",
    "'e': [('d', 2), ('g', 4), ('f', -3)],\n",
    "'f': [('g', -2)],\n",
    "'g': [],\n",
    "}\n",
    "```"
   ]
  },
  {
   "cell_type": "code",
   "execution_count": null,
   "id": "14f3cdb1",
   "metadata": {},
   "outputs": [],
   "source": [
    "print(adj_list_flows)\n"
   ]
  },
  {
   "cell_type": "markdown",
   "id": "8e4194a2",
   "metadata": {},
   "source": [
    "Let's print it in a more readable way."
   ]
  },
  {
   "cell_type": "code",
   "execution_count": null,
   "id": "b7b49a94",
   "metadata": {},
   "outputs": [],
   "source": [
    "for up_stream_node, adjacency_list in adj_list_flows.items():\n",
    "    for down_stream_node, flow in adjacency_list:\n",
    "        print(f'Arc {up_stream_node} -> {down_stream_node}: {flow}')\n",
    "\n"
   ]
  },
  {
   "cell_type": "markdown",
   "id": "664870d3",
   "metadata": {},
   "source": [
    "# Connectivity\n",
    "Is the the_network strongly connected?"
   ]
  },
  {
   "cell_type": "markdown",
   "id": "25dc79b7",
   "metadata": {},
   "source": [
    "We  implement a function that verifies the property."
   ]
  },
  {
   "cell_type": "code",
   "execution_count": null,
   "id": "a32ed48c",
   "metadata": {},
   "outputs": [],
   "source": [
    "def check_strong_connectivity(G: Graph) -> tuple[bool, set[tuple[str, str]]]:\n",
    "    \"\"\"\n",
    "\n",
    "    :param G: the graph\n",
    "    :return: a tuple containing a boolean that is True if the graph is strongly connected, False otherwise, and a\n",
    "        set of pairs of nodes that cause the property not to be verified. If the bool is True, the set is empty.\n",
    "    \"\"\"\n",
    "    disconnected_nodes = set()\n",
    "    for node1 in G.nodes:\n",
    "        for node2 in G.nodes:\n",
    "            if node1 != node2:\n",
    "                if not nx.has_path(G, node1, node2):\n",
    "                    disconnected_nodes.add((node1, node2))\n",
    "                if not nx.has_path(G, node2, node1):\n",
    "                    disconnected_nodes.add((node2, node1))\n",
    "\n",
    "    return not bool(disconnected_nodes), disconnected_nodes\n",
    "\n"
   ]
  },
  {
   "cell_type": "markdown",
   "id": "354f33c6",
   "metadata": {},
   "source": [
    "We apply the function on the directed graph."
   ]
  },
  {
   "cell_type": "code",
   "execution_count": null,
   "id": "78b3e043",
   "metadata": {},
   "outputs": [],
   "source": [
    "is_strongly_connected, disconnected_nodes = check_strong_connectivity(G)\n",
    "if is_strongly_connected:\n",
    "    print('The the_network is strongly connected.')\n",
    "else:\n",
    "    print(\n",
    "        'The the_network is not strongly connected. The following pairs of nodes are disconnected:'\n",
    "    )\n",
    "    for pair in disconnected_nodes:\n",
    "        print(pair)\n"
   ]
  },
  {
   "cell_type": "markdown",
   "id": "875da571",
   "metadata": {},
   "source": [
    "Note that a function is available in the networkx package:"
   ]
  },
  {
   "cell_type": "code",
   "execution_count": null,
   "id": "167eecc8",
   "metadata": {},
   "outputs": [],
   "source": [
    "is_G_strongly_connected = nx.is_strongly_connected(G)\n",
    "print(f'The the_network is strongly connected? {is_G_strongly_connected}')\n",
    "\n"
   ]
  },
  {
   "cell_type": "markdown",
   "id": "d3d14609",
   "metadata": {},
   "source": [
    "Is the the_network connected?"
   ]
  },
  {
   "cell_type": "markdown",
   "id": "758248cd",
   "metadata": {},
   "source": [
    "Remember that, in this case, we need to ignore the directions of the arcs. Therefore, we use an undirected version\n",
    "of the graph. Check the `networkx`documentation to see how to do that."
   ]
  },
  {
   "cell_type": "code",
   "execution_count": null,
   "id": "bd6c3b7e",
   "metadata": {},
   "outputs": [],
   "source": [
    "\n",
    "\n",
    "def check_connectivity(G: DiGraph) -> tuple[bool, set[tuple[str, str]]]:\n",
    "    undirected_G = G.to_undirected()\n",
    "    return check_strong_connectivity(undirected_G)\n",
    "\n"
   ]
  },
  {
   "cell_type": "markdown",
   "id": "0d1e06cd",
   "metadata": {},
   "source": [
    "We apply the function on the directed graph."
   ]
  },
  {
   "cell_type": "code",
   "execution_count": null,
   "id": "fbc6237b",
   "metadata": {},
   "outputs": [],
   "source": [
    "is_connected, disconnected_nodes = check_connectivity(G)\n",
    "if is_connected:\n",
    "    print('The the_network is connected.')\n",
    "else:\n",
    "    print(\n",
    "        'The the_network is not connected. The following pairs of nodes are disconnected:'\n",
    "    )\n",
    "    for pair in disconnected_nodes:\n",
    "        print(pair)\n"
   ]
  },
  {
   "cell_type": "markdown",
   "id": "d55b4c29",
   "metadata": {},
   "source": [
    "Note that a function is available in the networkx package:"
   ]
  },
  {
   "cell_type": "code",
   "execution_count": null,
   "id": "29ef53fa",
   "metadata": {},
   "outputs": [],
   "source": [
    "is_G_connected = nx.is_weakly_connected(G)\n",
    "print(f'The the_network is connected (ignoring direction)? {is_G_connected}')\n"
   ]
  },
  {
   "cell_type": "markdown",
   "id": "c28dc1b9",
   "metadata": {},
   "source": [
    "# Paths\n",
    "Enumerate all simple forward paths from node $a$ to node $g$."
   ]
  },
  {
   "cell_type": "code",
   "execution_count": null,
   "id": "55a24b56",
   "metadata": {},
   "outputs": [],
   "source": [
    "\n",
    "\n",
    "def enumerate_paths(\n",
    "    G: DiGraph, origin: str, destination: str, current_path: list[str] = None\n",
    ") -> list[list[str]]:\n",
    "    \"\"\"Enumerate simple paths between two nodes.\n",
    "\n",
    "    :param G: the directed graph.\n",
    "    :param origin: origin node.\n",
    "    :param destination: destination node.\n",
    "    :param current_path: current path that needs to be extended.\n",
    "    :return: a list of paths connecting the origin to the destination\n",
    "    \"\"\"\n",
    "    if current_path is None:\n",
    "        current_path = []\n",
    "\n",
    "    # Add the start node to the current path\n",
    "    current_path = current_path + [origin]\n",
    "\n",
    "    # If the start node is the end, return the path as a completed path\n",
    "    if origin == destination:\n",
    "        return [current_path]\n",
    "\n",
    "    # Initialize a set to store all paths\n",
    "    all_paths = []\n",
    "\n",
    "    # Explore each adjacent node that has not been visited in the current path\n",
    "    for node in G.successors(origin):\n",
    "        # We need to check that the node has not already been visited, as we need simple paths.\n",
    "        if node not in current_path:\n",
    "            new_paths = enumerate_paths(\n",
    "                G, node, destination, current_path\n",
    "            )\n",
    "            for new_path in new_paths:\n",
    "                all_paths.append(new_path)\n",
    "\n",
    "    return all_paths\n",
    "\n"
   ]
  },
  {
   "cell_type": "markdown",
   "id": "caf113d8",
   "metadata": {},
   "source": [
    "Let's apply the function."
   ]
  },
  {
   "cell_type": "code",
   "execution_count": null,
   "id": "15f36d13",
   "metadata": {},
   "outputs": [],
   "source": [
    "all_paths = enumerate_paths(G, origin='a', destination='g')\n"
   ]
  },
  {
   "cell_type": "markdown",
   "id": "bb97bc3e",
   "metadata": {},
   "source": [
    "Expected results:\n",
    "```\n",
    "['a', 'c', 'b', 'd', 'f', 'g']\n",
    "['a', 'c', 'b', 'd', 'g']\n",
    "['a', 'c', 'e', 'd', 'f', 'g']\n",
    "['a', 'c', 'e', 'd', 'g']\n",
    "['a', 'c', 'e', 'g']\n",
    "['a', 'c', 'e', 'f', 'g']\n",
    "['a', 'b', 'd', 'c', 'e', 'g']\n",
    "['a', 'b', 'd', 'c', 'e', 'f', 'g']\n",
    "['a', 'b', 'd', 'f', 'g']\n",
    "['a', 'b', 'd', 'g']\n",
    "```"
   ]
  },
  {
   "cell_type": "code",
   "execution_count": null,
   "id": "203706e4",
   "metadata": {},
   "outputs": [],
   "source": [
    "print(\"All simple paths from 'a' to 'g':\")\n",
    "for path in all_paths:\n",
    "    print(path)\n"
   ]
  },
  {
   "cell_type": "markdown",
   "id": "44f58b1c",
   "metadata": {},
   "source": [
    "A function performing the same task is available from the networkx package."
   ]
  },
  {
   "cell_type": "code",
   "execution_count": null,
   "id": "92938a71",
   "metadata": {},
   "outputs": [],
   "source": [
    "paths = list(nx.all_simple_paths(G, source='a', target='g'))\n",
    "print(\"All simple paths from 'a' to 'g':\")\n",
    "for path in paths:\n",
    "    print(path)\n"
   ]
  },
  {
   "cell_type": "markdown",
   "id": "529678d4",
   "metadata": {},
   "source": [
    "# Divergence\n",
    "Give the divergence of the flow vector of each node. What are the supply nodes? What are the demand nodes?"
   ]
  },
  {
   "cell_type": "markdown",
   "id": "611a57c5",
   "metadata": {},
   "source": [
    "We implement a function calculating the divergence of a node."
   ]
  },
  {
   "cell_type": "code",
   "execution_count": null,
   "id": "9a11373b",
   "metadata": {},
   "outputs": [],
   "source": [
    "def divergence(G: DiGraph, node: str) -> float:\n",
    "    \"\"\"Calculates the divergence at a node, that is, the sum of out-flows minus the sum of the in-flows.\n",
    "\n",
    "    :param G: the directed graph.\n",
    "    :param node: node of interest\n",
    "    :return:\n",
    "    \"\"\"\n",
    "    the_divergence = 0\n",
    "    for successor in G.successors(node):\n",
    "        arc_flow = G[node][successor]['flow']\n",
    "        the_divergence += arc_flow\n",
    "    for predecessor in G.predecessors(node):\n",
    "        arc_flow = G[predecessor][node]['flow']\n",
    "        the_divergence -= arc_flow\n",
    "    return the_divergence\n",
    "\n"
   ]
  },
  {
   "cell_type": "markdown",
   "id": "9116cd0d",
   "metadata": {},
   "source": [
    "We apply the function."
   ]
  },
  {
   "cell_type": "code",
   "execution_count": null,
   "id": "87d90d41",
   "metadata": {},
   "outputs": [],
   "source": [
    "div = {node: divergence(G, node) for node in G.nodes}\n"
   ]
  },
  {
   "cell_type": "markdown",
   "id": "2cb66c7a",
   "metadata": {},
   "source": [
    "Expected result:\n",
    "```\n",
    "{\n",
    "'a': 4,\n",
    "'b': -9,\n",
    "'c': 3,\n",
    "'d': 2,\n",
    "'e': 3,\n",
    "'f': 0,\n",
    "'g': -3,\n",
    "}\n",
    "```"
   ]
  },
  {
   "cell_type": "code",
   "execution_count": null,
   "id": "8ea2135f",
   "metadata": {},
   "outputs": [],
   "source": [
    "\n",
    "print(div)\n"
   ]
  },
  {
   "cell_type": "markdown",
   "id": "a493bae6",
   "metadata": {},
   "source": [
    "With the networkx package, the notion of degree can be extended.\n",
    "Instead of adding \"one\" for each outgoing\n",
    "arc and obtain the outdegree, it is possible to add the flow on the arc.\n",
    "It can then be used to calculate the\n",
    "divergence."
   ]
  },
  {
   "cell_type": "code",
   "execution_count": null,
   "id": "d6777d71",
   "metadata": {},
   "outputs": [],
   "source": [
    "div = {\n",
    "    node: G.out_degree(node, weight='flow') - G.in_degree(node, weight='flow')\n",
    "    for node in G.nodes\n",
    "}\n",
    "print(div)\n"
   ]
  },
  {
   "cell_type": "markdown",
   "id": "39e666ab",
   "metadata": {},
   "source": [
    "# Cuts\n",
    "Consider the cut $\\Gamma = \\left( { \\mathcal{M} , \\mathcal{N} \\backslash \\mathcal{M} } \\right)$, defined by the set\n",
    "$\\mathcal{M}= \\{a,b,c \\}$.\n",
    "\n",
    "- What are the forward arcs of the cut?\n",
    "- What are the backward arcs of the cut?\n",
    "- What is the flow through the cut? Check that the formula $$X(\\Gamma)=\\sum_{i \\in \\mathcal{M}} \\text{div}(x)_i$$ is satisfied.\n",
    "- Assume that the capacities on each arc are -3 for the lower bound and 5 for the upper bound. What is the capacity of the cut?\n"
   ]
  },
  {
   "cell_type": "markdown",
   "id": "19e3bb9b",
   "metadata": {},
   "source": [
    "Define the set of nodes characterizing the cut."
   ]
  },
  {
   "cell_type": "code",
   "execution_count": null,
   "id": "552b5765",
   "metadata": {},
   "outputs": [],
   "source": [
    "M = {'a', 'b', 'c'}\n",
    "N = set(G.nodes) - M\n"
   ]
  },
  {
   "cell_type": "markdown",
   "id": "da2df865",
   "metadata": {},
   "source": [
    "We verify that all nodes have been involved."
   ]
  },
  {
   "cell_type": "code",
   "execution_count": null,
   "id": "d0e2df93",
   "metadata": {},
   "outputs": [],
   "source": [
    "assert M | N == set(G.nodes)"
   ]
  },
  {
   "cell_type": "markdown",
   "id": "a218c9b4",
   "metadata": {},
   "source": [
    "We also verify that there is no node in both sets."
   ]
  },
  {
   "cell_type": "code",
   "execution_count": null,
   "id": "7d2f21ec",
   "metadata": {},
   "outputs": [],
   "source": [
    "assert not M.intersection(N)\n"
   ]
  },
  {
   "cell_type": "markdown",
   "id": "087503ee",
   "metadata": {},
   "source": [
    "Finding forward and backward arcs. Generate list of tuples including:\n",
    "- the upstream node of the arc,\n",
    "- the downstream node of the arc,\n",
    "- the flow on the arc."
   ]
  },
  {
   "cell_type": "code",
   "execution_count": null,
   "id": "f7615719",
   "metadata": {},
   "outputs": [],
   "source": [
    "forward_arcs = [\n",
    "    (u, v, G[u][v]['flow']) for u in M for v in N if G.has_edge(u, v)\n",
    "]\n"
   ]
  },
  {
   "cell_type": "markdown",
   "id": "9fbb93bf",
   "metadata": {},
   "source": [
    "The expected answer is:\n",
    "```\n",
    "Forward arcs of the cut:\n",
    "('b', 'd', -1)\n",
    "('c', 'e', 0)\n",
    "```"
   ]
  },
  {
   "cell_type": "code",
   "execution_count": null,
   "id": "d673c3aa",
   "metadata": {},
   "outputs": [],
   "source": [
    "print('Forward arcs of the cut:')\n",
    "for arc in forward_arcs:\n",
    "    print(arc)\n"
   ]
  },
  {
   "cell_type": "markdown",
   "id": "37defe74",
   "metadata": {},
   "source": [
    "Now for backward arcs."
   ]
  },
  {
   "cell_type": "code",
   "execution_count": null,
   "id": "433e627e",
   "metadata": {},
   "outputs": [],
   "source": [
    "backward_arcs = [\n",
    "    (u, v, G[u][v]['flow']) for u in N for v in M if G.has_edge(u, v)\n",
    "]\n"
   ]
  },
  {
   "cell_type": "markdown",
   "id": "4688d9e1",
   "metadata": {},
   "source": [
    "The expected answer is:\n",
    "```\n",
    "Backward arcs of the cut:\n",
    "('d', 'c', 1)\n",
    "```"
   ]
  },
  {
   "cell_type": "code",
   "execution_count": null,
   "id": "669c1cad",
   "metadata": {},
   "outputs": [],
   "source": [
    "print('Backward arcs of the cut:')\n",
    "for arc in backward_arcs:\n",
    "    print(arc)\n"
   ]
  },
  {
   "cell_type": "markdown",
   "id": "57929d68",
   "metadata": {},
   "source": [
    "Flow through the cut"
   ]
  },
  {
   "cell_type": "code",
   "execution_count": null,
   "id": "8bdc24d4",
   "metadata": {},
   "outputs": [],
   "source": [
    "flow_through_cut = sum(\n",
    "    flow for _, _, flow in forward_arcs\n",
    ") - sum(\n",
    "    flow for _, _, flow in backward_arcs\n",
    ")"
   ]
  },
  {
   "cell_type": "markdown",
   "id": "db4acb6b",
   "metadata": {},
   "source": [
    "Expected answer: -2"
   ]
  },
  {
   "cell_type": "code",
   "execution_count": null,
   "id": "1ecbd72c",
   "metadata": {},
   "outputs": [],
   "source": [
    "print(f\"Flow through the cut: {flow_through_cut}\")\n"
   ]
  },
  {
   "cell_type": "markdown",
   "id": "e2e5ef64",
   "metadata": {},
   "source": [
    "Check the flow formula, that is, the flow through the cut is equal to the sum of the divergences of nodes in M."
   ]
  },
  {
   "cell_type": "code",
   "execution_count": null,
   "id": "226ec2d3",
   "metadata": {},
   "outputs": [],
   "source": [
    "divergence_flow_sum = sum(div[node] for node in M)\n"
   ]
  },
  {
   "cell_type": "markdown",
   "id": "8c27312e",
   "metadata": {},
   "source": [
    "Expected answer: -2"
   ]
  },
  {
   "cell_type": "code",
   "execution_count": null,
   "id": "b61eb3ea",
   "metadata": {},
   "outputs": [],
   "source": [
    "print(f\"Sum of divergence in M: {divergence_flow_sum}\")\n",
    "print(\"Is the formula satisfied? \", divergence_flow_sum == flow_through_cut)\n"
   ]
  },
  {
   "cell_type": "markdown",
   "id": "eb3c53cd",
   "metadata": {},
   "source": [
    "Capacity of the cut"
   ]
  },
  {
   "cell_type": "code",
   "execution_count": null,
   "id": "50d0572c",
   "metadata": {},
   "outputs": [],
   "source": [
    "lower_bound = -3\n",
    "upper_bound = 5\n",
    "capacity_forward_arcs = upper_bound * len(\n",
    "    forward_arcs\n",
    ")\n",
    "capacity_backward_arcs = lower_bound * len(\n",
    "    backward_arcs\n",
    ")\n",
    "capacity_of_cut = (\n",
    "    capacity_forward_arcs - capacity_backward_arcs\n",
    ")\n"
   ]
  },
  {
   "cell_type": "markdown",
   "id": "72f9bd35",
   "metadata": {},
   "source": [
    "Expected answer: 13"
   ]
  },
  {
   "cell_type": "code",
   "execution_count": null,
   "id": "781109f1",
   "metadata": {},
   "outputs": [],
   "source": [
    "print(f\"Capacity of the cut: {capacity_of_cut}\")"
   ]
  }
 ],
 "metadata": {},
 "nbformat": 4,
 "nbformat_minor": 5
}
