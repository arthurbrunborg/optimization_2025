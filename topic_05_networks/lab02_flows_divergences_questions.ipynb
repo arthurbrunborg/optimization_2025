{
 "cells": [
  {
   "cell_type": "markdown",
   "id": "5877a710",
   "metadata": {},
   "source": [
    "# Flows and divergences\n",
    "\n",
    "## Introduction to optimization and operations research.\n",
    "\n",
    "Michel Bierlaire\n"
   ]
  },
  {
   "cell_type": "code",
   "execution_count": null,
   "id": "f73b10d8",
   "metadata": {},
   "outputs": [],
   "source": [
    "\n",
    "import matplotlib.pyplot as plt\n",
    "import networkx as nx\n",
    "from matplotlib.patches import Rectangle\n",
    "from networkx.classes.digraph import DiGraph\n",
    "from teaching_optimization.networks.draw_network import draw_network\n"
   ]
  },
  {
   "cell_type": "markdown",
   "id": "53f3e04e",
   "metadata": {},
   "source": [
    "In this lab, you will work with a directed graph to practice **flows** and **divergences**.\n",
    "You will compute the divergence at each node from incoming and outgoing flows, classify nodes as\n",
    "**supply**, **demand**, or **transit**, and verify conservation properties. You will also define a\n",
    "cut Γ = (M, N \\ M), identify its **forward** and **backward** arcs, and compute the flow across the\n",
    "cut, then compare it with the sum of divergences over M. The goal is to connect NetworkX operations\n",
    "with the algebra of flow conservation and to prepare you for formulating a **linear optimization\n",
    "problem** on networks (e.g., shortest paths, maximum flow, transhipment), where these notions are the\n",
    "building blocks of the model."
   ]
  },
  {
   "cell_type": "markdown",
   "id": "10caf910",
   "metadata": {},
   "source": [
    "# Definition of the network"
   ]
  },
  {
   "cell_type": "markdown",
   "id": "2110b06c",
   "metadata": {},
   "source": [
    "Nodes:"
   ]
  },
  {
   "cell_type": "code",
   "execution_count": null,
   "id": "ea4313ef",
   "metadata": {},
   "outputs": [],
   "source": [
    "nodes = ['n_1', 'n_2', 'n_3', 'n_4', 'n_5', 'n_6', 'n_7']\n"
   ]
  },
  {
   "cell_type": "markdown",
   "id": "08cac968",
   "metadata": {},
   "source": [
    "We assign coordinates to nodes. This is used only for drawing."
   ]
  },
  {
   "cell_type": "code",
   "execution_count": null,
   "id": "2f13c08b",
   "metadata": {},
   "outputs": [],
   "source": [
    "positions = {\n",
    "    'n_1': (-1, 0),\n",
    "    'n_2': (2, 3),\n",
    "    'n_3': (2, -3),\n",
    "    'n_4': (5, 3),\n",
    "    'n_5': (5, -3),\n",
    "    'n_6': (8, 3),\n",
    "    'n_7': (8, -3),\n",
    "}\n"
   ]
  },
  {
   "cell_type": "markdown",
   "id": "d371dcdb",
   "metadata": {},
   "source": [
    "Arcs"
   ]
  },
  {
   "cell_type": "code",
   "execution_count": null,
   "id": "1088927a",
   "metadata": {},
   "outputs": [],
   "source": [
    "arcs = [\n",
    "    ('n_1', 'n_2', 2.3),\n",
    "    ('n_1', 'n_3', 4),\n",
    "    ('n_2', 'n_3', -1),\n",
    "    ('n_3', 'n_5', 4.5),\n",
    "    ('n_2', 'n_4', 3),\n",
    "    ('n_4', 'n_2', -2.1),\n",
    "    ('n_4', 'n_5', -5),\n",
    "    ('n_5', 'n_4', -5),\n",
    "    ('n_6', 'n_7', 2.5),\n",
    "    ('n_7', 'n_6', 3),\n",
    "]\n"
   ]
  },
  {
   "cell_type": "markdown",
   "id": "0805702e",
   "metadata": {},
   "source": [
    "# Network object\n",
    "We create a directed graph:"
   ]
  },
  {
   "cell_type": "code",
   "execution_count": null,
   "id": "348a2eaf",
   "metadata": {},
   "outputs": [],
   "source": [
    "G: DiGraph = DiGraph()\n"
   ]
  },
  {
   "cell_type": "markdown",
   "id": "56d2e1c8",
   "metadata": {},
   "source": [
    "We add nodes with position attributes"
   ]
  },
  {
   "cell_type": "code",
   "execution_count": null,
   "id": "b42f0411",
   "metadata": {},
   "outputs": [],
   "source": [
    "for node in nodes:\n",
    "    G.add_node(node, pos=positions[node])\n"
   ]
  },
  {
   "cell_type": "markdown",
   "id": "df10e9ac",
   "metadata": {},
   "source": [
    "We add arcs with weights"
   ]
  },
  {
   "cell_type": "code",
   "execution_count": null,
   "id": "95b054f8",
   "metadata": {},
   "outputs": [],
   "source": [
    "for arc in arcs:\n",
    "    G.add_edge(arc[0], arc[1], flow=arc[2])\n",
    "\n",
    "edge_labels = nx.get_edge_attributes(G, name='flow')\n"
   ]
  },
  {
   "cell_type": "markdown",
   "id": "6eb347f0",
   "metadata": {},
   "source": [
    "We plot the network, as well as two gray areas defining a cut."
   ]
  },
  {
   "cell_type": "code",
   "execution_count": null,
   "id": "fd9098f3",
   "metadata": {},
   "outputs": [],
   "source": [
    "fig, ax = plt.subplots(figsize=(8, 6))\n",
    "ax = draw_network(\n",
    "    the_network=G, attr_edge_labels='flow', ax=ax\n",
    ")  # Add transparent gray rectangles covering specific nodes\n",
    "gray_areas = [('n_1', 'n_2', 'n_3'), ('n_4', 'n_5', 'n_6', 'n_7')]\n",
    "\n",
    "for i, nodes in enumerate(gray_areas):\n",
    "    x_values = [positions[node][0] for node in nodes]\n",
    "    y_values = [positions[node][1] for node in nodes]\n",
    "    min_x, max_x = min(x_values), max(x_values)\n",
    "    min_y, max_y = min(y_values), max(y_values)\n",
    "    enlargement_factor = 1.2\n",
    "    width = (max_x - min_x) * enlargement_factor\n",
    "    height = (max_y - min_y) * enlargement_factor\n",
    "    rect = Rectangle(\n",
    "        (min_x - (width - (max_x - min_x)) / 2, min_y - (height - (max_y - min_y)) / 2),\n",
    "        width,\n",
    "        height,\n",
    "        alpha=0.3,\n",
    "        color='gray',\n",
    "    )\n",
    "\n",
    "    ax.add_patch(rect)\n",
    "    if i == 0:\n",
    "        ax.text(\n",
    "            min_x - (width - (max_x - min_x)) / 2 + 0.1 * width,\n",
    "            min_y - (height - (max_y - min_y)) / 2 + 0.9 * height,\n",
    "            \"M\",\n",
    "            fontsize=12,\n",
    "            fontweight='bold',\n",
    "            color='black',\n",
    "        )\n",
    "\n",
    "\n",
    "plt.show()\n"
   ]
  },
  {
   "cell_type": "markdown",
   "id": "65ccdbfb",
   "metadata": {},
   "source": [
    "# Questions"
   ]
  },
  {
   "cell_type": "markdown",
   "id": "ed760c04",
   "metadata": {},
   "source": [
    "Now, use the functionalities of the `networkx` package in general, and the `G` object in particular to answer\n",
    "the following questions."
   ]
  },
  {
   "cell_type": "markdown",
   "id": "09565d83",
   "metadata": {},
   "source": [
    "For each node, calculate the divergence.\n",
    "Expected answers:\n",
    "\n",
    "- `Divergence of node n_1 = 6.3`\n",
    "- `Divergence of node n_2 = 1.8`\n",
    "- `Divergence of node n_3 = 1.5`\n",
    "- `Divergence of node n_4 = -5.1`\n",
    "- `Divergence of node n_5 = -4.5`\n",
    "- `Divergence of node n_6 = -0.5`\n",
    "- `Divergence of node n_7 = 0.5`"
   ]
  },
  {
   "cell_type": "code",
   "execution_count": null,
   "id": "c401c014",
   "metadata": {},
   "outputs": [],
   "source": [
    "divergences = {}\n",
    "for node in G.nodes():\n",
    "    in_flow = ...\n",
    "\n",
    "\n",
    "    out_flow = ...\n",
    "\n",
    "\n",
    "    divergence = ...\n",
    "    divergences[node] = divergence\n",
    "    print(f'Divergence of node {node} = {divergence:.2g}')\n",
    "\n"
   ]
  },
  {
   "cell_type": "markdown",
   "id": "5586e161",
   "metadata": {},
   "source": [
    "Identify if the node is a supply, demand or transit node.\n",
    "Expected answers:\n",
    "\n",
    "- `Type of node n_1: Supply`\n",
    "- `Type of node n_2: Supply`\n",
    "- `Type of node n_3: Supply`\n",
    "- `Type of node n_4: Demand`\n",
    "- `Type of node n_5: Demand`\n",
    "- `Type of node n_6: Demand`\n",
    "- `Type of node n_7: Supply`"
   ]
  },
  {
   "cell_type": "code",
   "execution_count": null,
   "id": "88fafb14",
   "metadata": {},
   "outputs": [],
   "source": [
    "node_types = {}\n",
    "for node, divergence in divergences.items():\n",
    "    if ...:\n",
    "        node_types[node] = 'Supply'\n",
    "    elif ...:\n",
    "        node_types[node] = 'Demand'\n",
    "    else:\n",
    "        node_types[node] = 'Transit'\n",
    "    print(f'Type of node {node}: {node_types[node]}')\n"
   ]
  },
  {
   "cell_type": "markdown",
   "id": "9cf1042e",
   "metadata": {},
   "source": [
    "What is the total divergence in the network?"
   ]
  },
  {
   "cell_type": "code",
   "execution_count": null,
   "id": "26ef0ade",
   "metadata": {},
   "outputs": [],
   "source": [
    "\n",
    "total_divergence = ...\n",
    "print(f'Total divergence = {total_divergence}')\n"
   ]
  },
  {
   "cell_type": "markdown",
   "id": "d0ee89c0",
   "metadata": {},
   "source": [
    "Write the cut $\\Gamma =(M, N \\setminus M)$ defined by the gray areas."
   ]
  },
  {
   "cell_type": "code",
   "execution_count": null,
   "id": "47158c45",
   "metadata": {},
   "outputs": [],
   "source": [
    "left_nodes = (...)\n",
    "right_nodes = (...)\n"
   ]
  },
  {
   "cell_type": "markdown",
   "id": "ec217c70",
   "metadata": {},
   "source": [
    "Identify the forward and backward arcs of the cut. Replace the ??? by the appropriate conditions"
   ]
  },
  {
   "cell_type": "code",
   "execution_count": null,
   "id": "8fb6b748",
   "metadata": {},
   "outputs": [],
   "source": [
    "forward_cut_edges = [\n",
    "    edge\n",
    "    for edge in G.edges()\n",
    "    if ...\n",
    "    and ...\n",
    "]\n",
    "backward_cut_edges = [\n",
    "    edge\n",
    "    for edge in G.edges()\n",
    "    if ...\n",
    "    and ...\n",
    "]\n",
    "print(f'Forward arcs of the cut: {forward_cut_edges}')\n",
    "print(f'Backward arcs of the cut: {backward_cut_edges}')\n"
   ]
  },
  {
   "cell_type": "markdown",
   "id": "e9fdf0fc",
   "metadata": {},
   "source": [
    "Calculate the forward flow through that cut $\\Gamma$.\n",
    "Expected answer: `Forward flow: 7.5`"
   ]
  },
  {
   "cell_type": "code",
   "execution_count": null,
   "id": "e5b68d16",
   "metadata": {},
   "outputs": [],
   "source": [
    "forward_flow = ...\n",
    "\n",
    "\n",
    "print(f'Forward flow: {forward_flow}')\n",
    "\n"
   ]
  },
  {
   "cell_type": "markdown",
   "id": "df453106",
   "metadata": {},
   "source": [
    "Calculate the backward flow through that cut $\\Gamma$.\n",
    "Expected answer: `Backward flow: -2.1`"
   ]
  },
  {
   "cell_type": "code",
   "execution_count": null,
   "id": "dd65ef1e",
   "metadata": {},
   "outputs": [],
   "source": [
    "backward_flow = ...\n",
    "\n",
    "\n",
    "print(f'Backward flow: {backward_flow}')\n"
   ]
  },
  {
   "cell_type": "markdown",
   "id": "408a6295",
   "metadata": {},
   "source": [
    "Calculate the total flow through that cut $\\Gamma$.\n",
    "Expected answer: `Flow through the cut: 9.6`"
   ]
  },
  {
   "cell_type": "code",
   "execution_count": null,
   "id": "7dc79a47",
   "metadata": {},
   "outputs": [],
   "source": [
    "cut_flow = ...\n",
    "print(f'Flow through the cut: {cut_flow}')\n"
   ]
  },
  {
   "cell_type": "markdown",
   "id": "4b11c2d1",
   "metadata": {},
   "source": [
    "Calculate the sum of the divergences of the nodes belonging to $\\mathcal{M}$. What do you remark?"
   ]
  },
  {
   "cell_type": "code",
   "execution_count": null,
   "id": "3ab7edac",
   "metadata": {},
   "outputs": [],
   "source": [
    "sum_divergence_m = ...\n",
    "\n",
    "\n",
    "print(f'The sum of the divergences of the nodes belonging to M: {sum_divergence_m}')\n",
    "\n",
    "\n"
   ]
  }
 ],
 "metadata": {},
 "nbformat": 4,
 "nbformat_minor": 5
}
