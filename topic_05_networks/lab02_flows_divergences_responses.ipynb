{
 "cells": [
  {
   "cell_type": "markdown",
   "id": "fe0c344c",
   "metadata": {},
   "source": [
    "# Flows and divergences\n",
    "\n",
    "## Introduction to optimization and operations research.\n",
    "\n",
    "Michel Bierlaire\n"
   ]
  },
  {
   "cell_type": "code",
   "execution_count": null,
   "id": "164a195f",
   "metadata": {},
   "outputs": [],
   "source": [
    "\n",
    "import matplotlib.pyplot as plt\n",
    "import networkx as nx\n",
    "from matplotlib.patches import Rectangle\n",
    "from networkx.classes.digraph import DiGraph\n",
    "from teaching_optimization.networks.draw_network import draw_network\n"
   ]
  },
  {
   "cell_type": "markdown",
   "id": "0d7234a0",
   "metadata": {},
   "source": [
    "In this lab, you will work with a directed graph to practice **flows** and **divergences**.\n",
    "You will compute the divergence at each node from incoming and outgoing flows, classify nodes as\n",
    "**supply**, **demand**, or **transit**, and verify conservation properties. You will also define a\n",
    "cut Γ = (M, N \\ M), identify its **forward** and **backward** arcs, and compute the flow across the\n",
    "cut, then compare it with the sum of divergences over M. The goal is to connect NetworkX operations\n",
    "with the algebra of flow conservation and to prepare you for formulating a **linear optimization\n",
    "problem** on networks (e.g., shortest paths, maximum flow, transhipment), where these notions are the\n",
    "building blocks of the model."
   ]
  },
  {
   "cell_type": "markdown",
   "id": "511693d0",
   "metadata": {},
   "source": [
    "# Definition of the network"
   ]
  },
  {
   "cell_type": "markdown",
   "id": "942793e3",
   "metadata": {},
   "source": [
    "Nodes:"
   ]
  },
  {
   "cell_type": "code",
   "execution_count": null,
   "id": "7e69c285",
   "metadata": {},
   "outputs": [],
   "source": [
    "nodes = ['n_1', 'n_2', 'n_3', 'n_4', 'n_5', 'n_6', 'n_7']\n"
   ]
  },
  {
   "cell_type": "markdown",
   "id": "2d894392",
   "metadata": {},
   "source": [
    "We assign coordinates to nodes. This is used only for drawing."
   ]
  },
  {
   "cell_type": "code",
   "execution_count": null,
   "id": "6ac60cb6",
   "metadata": {},
   "outputs": [],
   "source": [
    "positions = {\n",
    "    'n_1': (-1, 0),\n",
    "    'n_2': (2, 3),\n",
    "    'n_3': (2, -3),\n",
    "    'n_4': (5, 3),\n",
    "    'n_5': (5, -3),\n",
    "    'n_6': (8, 3),\n",
    "    'n_7': (8, -3),\n",
    "}\n"
   ]
  },
  {
   "cell_type": "markdown",
   "id": "a814ab4b",
   "metadata": {},
   "source": [
    "Arcs"
   ]
  },
  {
   "cell_type": "code",
   "execution_count": null,
   "id": "09a1140c",
   "metadata": {},
   "outputs": [],
   "source": [
    "arcs = [\n",
    "    ('n_1', 'n_2', 2.3),\n",
    "    ('n_1', 'n_3', 4),\n",
    "    ('n_2', 'n_3', -1),\n",
    "    ('n_3', 'n_5', 4.5),\n",
    "    ('n_2', 'n_4', 3),\n",
    "    ('n_4', 'n_2', -2.1),\n",
    "    ('n_4', 'n_5', -5),\n",
    "    ('n_5', 'n_4', -5),\n",
    "    ('n_6', 'n_7', 2.5),\n",
    "    ('n_7', 'n_6', 3),\n",
    "]\n"
   ]
  },
  {
   "cell_type": "markdown",
   "id": "02b6a027",
   "metadata": {},
   "source": [
    "# Network object\n",
    "We create a directed graph:"
   ]
  },
  {
   "cell_type": "code",
   "execution_count": null,
   "id": "35202610",
   "metadata": {},
   "outputs": [],
   "source": [
    "G: DiGraph = DiGraph()\n"
   ]
  },
  {
   "cell_type": "markdown",
   "id": "2dcafe98",
   "metadata": {},
   "source": [
    "We add nodes with position attributes"
   ]
  },
  {
   "cell_type": "code",
   "execution_count": null,
   "id": "6bc0734e",
   "metadata": {},
   "outputs": [],
   "source": [
    "for node in nodes:\n",
    "    G.add_node(node, pos=positions[node])\n"
   ]
  },
  {
   "cell_type": "markdown",
   "id": "c715337f",
   "metadata": {},
   "source": [
    "We add arcs with weights"
   ]
  },
  {
   "cell_type": "code",
   "execution_count": null,
   "id": "6951cdb9",
   "metadata": {},
   "outputs": [],
   "source": [
    "for arc in arcs:\n",
    "    G.add_edge(arc[0], arc[1], flow=arc[2])\n",
    "\n",
    "edge_labels = nx.get_edge_attributes(G, name='flow')\n"
   ]
  },
  {
   "cell_type": "markdown",
   "id": "d4639d16",
   "metadata": {},
   "source": [
    "We plot the network, as well as two gray areas defining a cut."
   ]
  },
  {
   "cell_type": "code",
   "execution_count": null,
   "id": "4bdafb48",
   "metadata": {},
   "outputs": [],
   "source": [
    "fig, ax = plt.subplots(figsize=(8, 6))\n",
    "ax = draw_network(\n",
    "    the_network=G, attr_edge_labels='flow', ax=ax\n",
    ")  # Add transparent gray rectangles covering specific nodes\n",
    "gray_areas = [('n_1', 'n_2', 'n_3'), ('n_4', 'n_5', 'n_6', 'n_7')]\n",
    "\n",
    "for i, nodes in enumerate(gray_areas):\n",
    "    x_values = [positions[node][0] for node in nodes]\n",
    "    y_values = [positions[node][1] for node in nodes]\n",
    "    min_x, max_x = min(x_values), max(x_values)\n",
    "    min_y, max_y = min(y_values), max(y_values)\n",
    "    enlargement_factor = 1.2\n",
    "    width = (max_x - min_x) * enlargement_factor\n",
    "    height = (max_y - min_y) * enlargement_factor\n",
    "    rect = Rectangle(\n",
    "        (min_x - (width - (max_x - min_x)) / 2, min_y - (height - (max_y - min_y)) / 2),\n",
    "        width,\n",
    "        height,\n",
    "        alpha=0.3,\n",
    "        color='gray',\n",
    "    )\n",
    "\n",
    "    ax.add_patch(rect)\n",
    "    if i == 0:\n",
    "        ax.text(\n",
    "            min_x - (width - (max_x - min_x)) / 2 + 0.1 * width,\n",
    "            min_y - (height - (max_y - min_y)) / 2 + 0.9 * height,\n",
    "            \"M\",\n",
    "            fontsize=12,\n",
    "            fontweight='bold',\n",
    "            color='black',\n",
    "        )\n",
    "\n",
    "\n",
    "plt.show()\n"
   ]
  },
  {
   "cell_type": "markdown",
   "id": "5d189164",
   "metadata": {},
   "source": [
    "# Questions"
   ]
  },
  {
   "cell_type": "markdown",
   "id": "05124c9c",
   "metadata": {},
   "source": [
    "Now, use the functionalities of the `networkx` package in general, and the `G` object in particular to answer\n",
    "the following questions."
   ]
  },
  {
   "cell_type": "markdown",
   "id": "40e6980f",
   "metadata": {},
   "source": [
    "For each node, calculate the divergence.\n",
    "Expected answers:\n",
    "\n",
    "- `Divergence of node n_1 = 6.3`\n",
    "- `Divergence of node n_2 = 1.8`\n",
    "- `Divergence of node n_3 = 1.5`\n",
    "- `Divergence of node n_4 = -5.1`\n",
    "- `Divergence of node n_5 = -4.5`\n",
    "- `Divergence of node n_6 = -0.5`\n",
    "- `Divergence of node n_7 = 0.5`"
   ]
  },
  {
   "cell_type": "code",
   "execution_count": null,
   "id": "14599f7e",
   "metadata": {},
   "outputs": [],
   "source": [
    "divergences = {}\n",
    "for node in G.nodes():\n",
    "    in_flow = sum(\n",
    "        G[edge[0]][edge[1]]['flow'] for edge in G.in_edges(node)\n",
    "    )\n",
    "    out_flow = sum(\n",
    "        G[edge[0]][edge[1]]['flow'] for edge in G.out_edges(node)\n",
    "    )\n",
    "    divergence = out_flow - in_flow\n",
    "    divergences[node] = divergence\n",
    "    print(f'Divergence of node {node} = {divergence:.2g}')\n",
    "\n"
   ]
  },
  {
   "cell_type": "markdown",
   "id": "cde23ddf",
   "metadata": {},
   "source": [
    "Identify if the node is a supply, demand or transit node.\n",
    "Expected answers:\n",
    "\n",
    "- `Type of node n_1: Supply`\n",
    "- `Type of node n_2: Supply`\n",
    "- `Type of node n_3: Supply`\n",
    "- `Type of node n_4: Demand`\n",
    "- `Type of node n_5: Demand`\n",
    "- `Type of node n_6: Demand`\n",
    "- `Type of node n_7: Supply`"
   ]
  },
  {
   "cell_type": "code",
   "execution_count": null,
   "id": "43de0ff7",
   "metadata": {},
   "outputs": [],
   "source": [
    "node_types = {}\n",
    "for node, divergence in divergences.items():\n",
    "    if divergence > 0:\n",
    "        node_types[node] = 'Supply'\n",
    "    elif divergence < 0:\n",
    "        node_types[node] = 'Demand'\n",
    "    else:\n",
    "        node_types[node] = 'Transit'\n",
    "    print(f'Type of node {node}: {node_types[node]}')\n"
   ]
  },
  {
   "cell_type": "markdown",
   "id": "a501ea91",
   "metadata": {},
   "source": [
    "What is the total divergence in the network?\n",
    "The total divergence is always zero."
   ]
  },
  {
   "cell_type": "code",
   "execution_count": null,
   "id": "1b3381a1",
   "metadata": {},
   "outputs": [],
   "source": [
    "total_divergence = sum(divergences.values())\n",
    "print(f'Total divergence = {total_divergence}')\n"
   ]
  },
  {
   "cell_type": "markdown",
   "id": "8127662c",
   "metadata": {},
   "source": [
    "Write the cut $\\Gamma =(M, N \\setminus M)$ defined by the gray areas."
   ]
  },
  {
   "cell_type": "code",
   "execution_count": null,
   "id": "2e131fb1",
   "metadata": {},
   "outputs": [],
   "source": [
    "left_nodes = ('n_1', 'n_2', 'n_3')\n",
    "right_nodes = ('n_4', 'n_5', 'n_6', 'n_7')\n"
   ]
  },
  {
   "cell_type": "markdown",
   "id": "290cd3fd",
   "metadata": {},
   "source": [
    "Identify the forward and backward arcs of the cut. Replace the ??? by the appropriate conditions"
   ]
  },
  {
   "cell_type": "code",
   "execution_count": null,
   "id": "bc7aea91",
   "metadata": {},
   "outputs": [],
   "source": [
    "forward_cut_edges = [\n",
    "    edge\n",
    "    for edge in G.edges()\n",
    "    if edge[0] in left_nodes\n",
    "    and edge[1] in right_nodes\n",
    "]\n",
    "backward_cut_edges = [\n",
    "    edge\n",
    "    for edge in G.edges()\n",
    "    if edge[1] in left_nodes\n",
    "    and edge[0] in right_nodes\n",
    "]\n",
    "print(f'Forward arcs of the cut: {forward_cut_edges}')\n",
    "print(f'Backward arcs of the cut: {backward_cut_edges}')\n"
   ]
  },
  {
   "cell_type": "markdown",
   "id": "4197969e",
   "metadata": {},
   "source": [
    "Calculate the forward flow through that cut $\\Gamma$.\n",
    "Expected answer: `Forward flow: 7.5`"
   ]
  },
  {
   "cell_type": "code",
   "execution_count": null,
   "id": "be93d2f1",
   "metadata": {},
   "outputs": [],
   "source": [
    "forward_flow = sum(\n",
    "    G[edge[0]][edge[1]]['flow'] for edge in forward_cut_edges\n",
    ")\n",
    "print(f'Forward flow: {forward_flow}')\n",
    "\n"
   ]
  },
  {
   "cell_type": "markdown",
   "id": "53e98499",
   "metadata": {},
   "source": [
    "Calculate the backward flow through that cut $\\Gamma$.\n",
    "Expected answer: `Backward flow: -2.1`"
   ]
  },
  {
   "cell_type": "code",
   "execution_count": null,
   "id": "3754a823",
   "metadata": {},
   "outputs": [],
   "source": [
    "backward_flow = sum(\n",
    "    G[edge[0]][edge[1]]['flow'] for edge in backward_cut_edges\n",
    ")\n",
    "print(f'Backward flow: {backward_flow}')\n"
   ]
  },
  {
   "cell_type": "markdown",
   "id": "e5c74583",
   "metadata": {},
   "source": [
    "Calculate the total flow through that cut $\\Gamma$.\n",
    "Expected answer: `Flow through the cut: 9.6`"
   ]
  },
  {
   "cell_type": "code",
   "execution_count": null,
   "id": "819f5e8d",
   "metadata": {},
   "outputs": [],
   "source": [
    "cut_flow = forward_flow - backward_flow\n",
    "print(f'Flow through the cut: {cut_flow}')\n"
   ]
  },
  {
   "cell_type": "markdown",
   "id": "9fe2861e",
   "metadata": {},
   "source": [
    "Calculate the sum of the divergences of the nodes belonging to $\\mathcal{M}$. What do you remark?"
   ]
  },
  {
   "cell_type": "code",
   "execution_count": null,
   "id": "b2959afc",
   "metadata": {},
   "outputs": [],
   "source": [
    "sum_divergence_m = sum(\n",
    "    divergences[node] for node in left_nodes\n",
    ")\n",
    "print(f'The sum of the divergences of the nodes belonging to M: {sum_divergence_m}')\n"
   ]
  },
  {
   "cell_type": "markdown",
   "id": "434636bd",
   "metadata": {},
   "source": [
    "Thus the flow through $\\Gamma$ is equal to the sum of the divergences\n",
    "of the nodes belonging to $\\mathcal{M}$. This is always the case."
   ]
  },
  {
   "cell_type": "markdown",
   "id": "b26b0617",
   "metadata": {},
   "source": [
    "The intuition is the following. Consider an arc $(i,j)$ such that both\n",
    "$i$ and $j$ are in $\\mathcal{M}$.\n",
    "When calculating the sum of the\n",
    "divergences in $\\mathcal{M}$, the flow of this arc will be involved once\n",
    "with a positive sign for the divergence of $j$, and once with a\n",
    "negative sign for the divergence of $i$. Therefore, its contribution\n",
    "to the sum is zero. It means that only arcs $(i,j)$ such that $i \\in\n",
    "\\mathcal{M}$ and $j \\in \\mathcal{N} \\setminus \\mathcal{M}$ will\n",
    "contribute to the sum. But these are exactly the arcs belonging to the\n",
    "cut. Therefore,\n",
    "$$ \\sum_{i \\in \\mathcal{M}} \\text{div}(x)_i = \\sum_{(i,j) \\in \\Gamma^\\rightarrow} x_{ij} - \\sum_{(i,j) \\in\n",
    "\\Gamma^\\leftarrow} x_{ij} =  X (\\Gamma).$$"
   ]
  }
 ],
 "metadata": {},
 "nbformat": 4,
 "nbformat_minor": 5
}
