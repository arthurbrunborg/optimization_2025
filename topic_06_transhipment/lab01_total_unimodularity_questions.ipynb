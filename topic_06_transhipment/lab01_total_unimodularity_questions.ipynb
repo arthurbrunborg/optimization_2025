{
 "cells": [
  {
   "cell_type": "markdown",
   "id": "011890cc",
   "metadata": {},
   "source": [
    "# Total unimodularity\n",
    "\n",
    "## Introduction to optimization and operations research.\n",
    "\n",
    "Michel Bierlaire\n"
   ]
  },
  {
   "cell_type": "code",
   "execution_count": null,
   "id": "37665544",
   "metadata": {},
   "outputs": [],
   "source": [
    "\n",
    "import numpy as np\n"
   ]
  },
  {
   "cell_type": "markdown",
   "id": "b18c12e8",
   "metadata": {},
   "source": [
    "In this lab, you will implement tools to check **total unimodularity (TU)** of a matrix.\n",
    "You will (i) verify entries are in {−1, 0, 1} with numerical tolerance, (ii) compute determinants\n",
    "of square submatrices via a recursive cofactor expansion with early stopping, and (iii) raise\n",
    "informative exceptions when a determinant falls outside {−1, 0, 1}. This hands‑on approach\n",
    "clarifies why TU matters: if the constraint matrix of a **linear optimization problem** is TU\n",
    "(and the right‑hand side is integral), then all extreme points are integral—so solving the\n",
    "continuous relaxation already yields integer solutions. These exercises connect numerical checks,\n",
    "mathematical definitions, and strong modeling implications in network, flow, and assignment problems."
   ]
  },
  {
   "cell_type": "markdown",
   "id": "b72e4782",
   "metadata": {},
   "source": [
    "Write a Python function that verifies if an element is 0, -1, or 1."
   ]
  },
  {
   "cell_type": "code",
   "execution_count": null,
   "id": "be675e76",
   "metadata": {},
   "outputs": [],
   "source": [
    "def check_valid_values(the_value: float) -> bool:\n",
    "    \"\"\"Check if an element is 0, -1, or 1.\n",
    "\n",
    "    :param the_value: value to check\n",
    "    :return: True if it is 0, -1 or 1, False otherwise.\n",
    "    \"\"\"\n",
    "    # Due to numerical imprecision in finite arithmetic, values such as 1.0e-18 should be considered valid.\n",
    "    # Use the numpy function `isclose` to perform the comparisons.\n",
    "    ...\n",
    "\n",
    "\n",
    "\n",
    "\n",
    "\n",
    "\n",
    "\n"
   ]
  },
  {
   "cell_type": "markdown",
   "id": "0164c37d",
   "metadata": {},
   "source": [
    "Let's test the function."
   ]
  },
  {
   "cell_type": "markdown",
   "id": "ed009d4b",
   "metadata": {},
   "source": [
    "Expected output: `True` for the following cases."
   ]
  },
  {
   "cell_type": "code",
   "execution_count": null,
   "id": "5f9bde9e",
   "metadata": {},
   "outputs": [],
   "source": [
    "print(check_valid_values(the_value=0.0))"
   ]
  },
  {
   "cell_type": "code",
   "execution_count": null,
   "id": "95e02ce2",
   "metadata": {},
   "outputs": [],
   "source": [
    "print(check_valid_values(the_value=1.0))"
   ]
  },
  {
   "cell_type": "code",
   "execution_count": null,
   "id": "cbcd8488",
   "metadata": {},
   "outputs": [],
   "source": [
    "print(check_valid_values(the_value=-1.0))"
   ]
  },
  {
   "cell_type": "code",
   "execution_count": null,
   "id": "89cc6955",
   "metadata": {},
   "outputs": [],
   "source": [
    "print(check_valid_values(the_value=1.0e-18))"
   ]
  },
  {
   "cell_type": "markdown",
   "id": "e11714e6",
   "metadata": {},
   "source": [
    "Expected output: `False` for the following cases."
   ]
  },
  {
   "cell_type": "code",
   "execution_count": null,
   "id": "943a8518",
   "metadata": {},
   "outputs": [],
   "source": [
    "print(check_valid_values(the_value=0.01))"
   ]
  },
  {
   "cell_type": "code",
   "execution_count": null,
   "id": "ca2a974f",
   "metadata": {},
   "outputs": [],
   "source": [
    "print(check_valid_values(the_value=3.4))"
   ]
  },
  {
   "cell_type": "code",
   "execution_count": null,
   "id": "6be00507",
   "metadata": {},
   "outputs": [],
   "source": [
    "print(check_valid_values(the_value=-2))"
   ]
  },
  {
   "cell_type": "markdown",
   "id": "3c58dbf8",
   "metadata": {},
   "source": [
    "Write a Python function that calculates a determinant recursively using the cofactor expansion rule."
   ]
  },
  {
   "cell_type": "markdown",
   "id": "7d1491d4",
   "metadata": {},
   "source": [
    "<div style=\"font-family: Arial, sans-serif; color: darkblue; background-color: lightyellow; padding: 10px;\n",
    "border: 1px solid darkblue; border-radius: 5px;\">\n",
    "<h3>Tutorial</h3> Even if a statement or expression looks correct in terms of its syntax, it might still cause\n",
    "an error when you try to run it. These errors, which happen while the program is running, are called exceptions.\n",
    "Exceptions don’t necessarily stop your program completely; you can \"catch\" them and deal with them. However,\n",
    "in most cases, when exceptions are not handled, the program stops and displays error messages.\n",
    "Python comes with its own exceptions. But you can also define your own to make your code more manageable. This\n",
    "is what we do below by defining \"TotalUnimodularityError\".\n",
    "</div>"
   ]
  },
  {
   "cell_type": "markdown",
   "id": "b1dd991c",
   "metadata": {},
   "source": [
    "The function must raise an exception of type `TotalUnimodularityError` if the determinant is not 0, -1, or 1.\n",
    "This exception is defined below."
   ]
  },
  {
   "cell_type": "code",
   "execution_count": null,
   "id": "0c55d76b",
   "metadata": {},
   "outputs": [],
   "source": [
    "\n",
    "\n",
    "class TotalUnimodularityError(Exception):\n",
    "    \"\"\"Exception raised for errors in the total unimodularity check.\"\"\"\n",
    "\n",
    "    pass\n",
    "\n"
   ]
  },
  {
   "cell_type": "markdown",
   "id": "cd0df3d8",
   "metadata": {},
   "source": [
    "We now implement the function calculating the determinant. Replace the `...`."
   ]
  },
  {
   "cell_type": "code",
   "execution_count": null,
   "id": "d8e0b512",
   "metadata": {},
   "outputs": [],
   "source": [
    "def determinant_recursive(matrix: np.ndarray) -> float:\n",
    "    \"\"\"Calculates a determinant, and stops as soon as one sub-determinant is not 0, -1 or 1\n",
    "\n",
    "    :param matrix: square matrix\n",
    "    :return: determinant of the matrix\n",
    "\n",
    "    :raise TotalUnimodularityError: if the determinant is not 0, -1 or 1.\n",
    "    \"\"\"\n",
    "    # Check if the input is a NumPy ndarray\n",
    "    if not isinstance(matrix, np.ndarray):\n",
    "        raise ValueError('The input must be a NumPy ndarray.')\n",
    "\n",
    "    # Check if the matrix is non-empty\n",
    "    if matrix.size == 0:\n",
    "        raise ValueError('The matrix must be non-empty.')\n",
    "\n",
    "    # Check if the matrix is 2D\n",
    "    if matrix.ndim != 2:\n",
    "        raise ValueError('The matrix must be stored as a 2D numpy array.')\n",
    "\n",
    "    rows, cols = matrix.shape\n",
    "\n",
    "    if rows != cols:\n",
    "        raise ValueError(f'The matrix must be square, and not {rows}x{cols}.')\n",
    "\n",
    "    # If the matrix is 1x1, return the single element\n",
    "    if rows == 1 and cols == 1:\n",
    "        determinant = ...\n",
    "        if check_valid_values(determinant):\n",
    "            return determinant\n",
    "        raise TotalUnimodularityError(f'Invalid element: {determinant}')\n",
    "\n",
    "    # If the matrix is 2x2, return the determinant directly\n",
    "    if rows == 2 and cols == 2:\n",
    "        determinant = ...\n",
    "\n",
    "\n",
    "        if check_valid_values(determinant):\n",
    "            return determinant\n",
    "        raise TotalUnimodularityError(\n",
    "            f'Invalid determinant {determinant} for matrix\\n{matrix}'\n",
    "        )\n",
    "\n",
    "    # Use cofactor expansion along the first row.\n",
    "    determinant = 0.0\n",
    "    for col in range(cols):\n",
    "        element = float(matrix[0, col])\n",
    "        if not check_valid_values(element):\n",
    "            raise TotalUnimodularityError(f'Invalid element: {element}')\n",
    "        submatrix = np.delete(np.delete(matrix, 0, axis=0), col, axis=1)\n",
    "        cofactor = ...\n",
    "\n",
    "\n",
    "        determinant += cofactor\n",
    "\n",
    "    if check_valid_values(determinant):\n",
    "        return determinant\n",
    "    raise TotalUnimodularityError(\n",
    "        f'Invalid determinant {determinant} for matrix\\n{matrix}'\n",
    "    )\n",
    "\n"
   ]
  },
  {
   "cell_type": "markdown",
   "id": "62360ed1",
   "metadata": {},
   "source": [
    "We check the function."
   ]
  },
  {
   "cell_type": "code",
   "execution_count": null,
   "id": "04db74e9",
   "metadata": {},
   "outputs": [],
   "source": [
    "a_matrix = np.array([[1, 0, 0], [0, -1, 0], [0, 0, 1]])\n",
    "print(a_matrix)\n",
    "\n"
   ]
  },
  {
   "cell_type": "markdown",
   "id": "d43cb270",
   "metadata": {},
   "source": [
    "The function should not trigger any error."
   ]
  },
  {
   "cell_type": "code",
   "execution_count": null,
   "id": "9f3106a6",
   "metadata": {},
   "outputs": [],
   "source": [
    "print(f'Determinant = {determinant_recursive(a_matrix)}')\n"
   ]
  },
  {
   "cell_type": "code",
   "execution_count": null,
   "id": "9f49d07d",
   "metadata": {},
   "outputs": [],
   "source": [
    "a_matrix = np.array([[2, 0, 0], [0, -1, 0], [0, 0, 1]])\n",
    "print(a_matrix)\n"
   ]
  },
  {
   "cell_type": "markdown",
   "id": "d7b67913",
   "metadata": {},
   "source": [
    "Here, an error should be triggered as one element is 2."
   ]
  },
  {
   "cell_type": "code",
   "execution_count": null,
   "id": "d8c401b5",
   "metadata": {},
   "outputs": [],
   "source": [
    "try:\n",
    "    value = determinant_recursive(a_matrix)\n",
    "except TotalUnimodularityError as e:\n",
    "    print(e)"
   ]
  },
  {
   "cell_type": "code",
   "execution_count": null,
   "id": "e179e1ec",
   "metadata": {},
   "outputs": [],
   "source": [
    "a_matrix = np.array([[1, 0, 0], [1, 1, 1], [-1, -1, 1]])\n",
    "print(a_matrix)"
   ]
  },
  {
   "cell_type": "markdown",
   "id": "b9f8f716",
   "metadata": {},
   "source": [
    "Here, an error should be triggered as the determinant of a square submatrix is 2."
   ]
  },
  {
   "cell_type": "code",
   "execution_count": null,
   "id": "c55de21d",
   "metadata": {},
   "outputs": [],
   "source": [
    "try:\n",
    "    value = determinant_recursive(a_matrix)\n",
    "    print(value)\n",
    "except TotalUnimodularityError as e:\n",
    "    print(e)\n",
    "\n"
   ]
  },
  {
   "cell_type": "markdown",
   "id": "2011b11a",
   "metadata": {},
   "source": [
    "Now, we can write a Python function that verifies if a matrix is totally unimodular."
   ]
  },
  {
   "cell_type": "code",
   "execution_count": null,
   "id": "44cbdd45",
   "metadata": {},
   "outputs": [],
   "source": [
    "def is_totally_unimodular(matrix: np.ndarray) -> tuple[bool, str | None]:\n",
    "    \"\"\"Function that verifies if a matrix is totally unimodular.\n",
    "\n",
    "    :param matrix: matrix to verify, a 2D numpy array.\n",
    "    :return: if the matrix is totally unimodular, the tuple (True, None) is returned. If not, the tuple (False, msg)\n",
    "        is returned, where the msg explains why it is not totally unimodular.\n",
    "    \"\"\"\n",
    "    # Check if the input is a NumPy ndarray\n",
    "    if not isinstance(matrix, np.ndarray):\n",
    "        raise ValueError(\"The input must be a NumPy ndarray.\")\n",
    "\n",
    "    # Check if the matrix is non-empty\n",
    "    if matrix.size == 0:\n",
    "        raise ValueError(\"The matrix must be non-empty.\")\n",
    "\n",
    "    # Check if the matrix is 2D\n",
    "    if matrix.ndim != 2:\n",
    "        raise ValueError(\"The matrix must be stored as a 2D numpy array.\")\n",
    "\n",
    "    rows, cols = matrix.shape\n",
    "\n",
    "    # We extract all square submatrices of maximum size, and check their determinant.\n",
    "    max_size = min(matrix.shape)\n",
    "\n",
    "    for i in range(rows - max_size + 1):\n",
    "        for j in range(cols - max_size + 1):\n",
    "            sub_matrix = matrix[i : i + max_size, j : j + max_size]\n",
    "            ...\n",
    "\n",
    "\n",
    "\n",
    "\n",
    "\n",
    "            return (\n",
    "                False,\n",
    "                f'Invalid determinant {determinant} for matrix\\n{sub_matrix}',\n",
    "\n",
    "\n"
   ]
  },
  {
   "cell_type": "markdown",
   "id": "63ebc89a",
   "metadata": {},
   "source": [
    "We now test the function on the following matrices. Note that there may be several reasons\n",
    "for not being totally unimodular, and the one reported here may not be the same as the one\n",
    "reported for your implementation.\n"
   ]
  },
  {
   "cell_type": "code",
   "execution_count": null,
   "id": "c4f1626d",
   "metadata": {},
   "outputs": [],
   "source": [
    "A = np.array([[2, 1], [1, 4], [1, 1]])\n",
    "print(A)"
   ]
  },
  {
   "cell_type": "markdown",
   "id": "32c3a284",
   "metadata": {},
   "source": [
    "Expected result:<br>\n",
    "`False`<br>\n",
    "`Invalid determinant 7.0 for matrix`<br>\n",
    "`[[2 1]`<br>\n",
    "`[1 4]]`"
   ]
  },
  {
   "cell_type": "code",
   "execution_count": null,
   "id": "efa74176",
   "metadata": {},
   "outputs": [],
   "source": [
    "totally_unimodular, reason = is_totally_unimodular(matrix=A)\n",
    "print(totally_unimodular)\n",
    "if not totally_unimodular:\n",
    "    print(reason)"
   ]
  },
  {
   "cell_type": "code",
   "execution_count": null,
   "id": "c2d82a64",
   "metadata": {},
   "outputs": [],
   "source": [
    "B = np.array([[0, 1, 0], [1, 0, 1]])\n",
    "print(B)"
   ]
  },
  {
   "cell_type": "markdown",
   "id": "d00ce027",
   "metadata": {},
   "source": [
    "Expected result:<br>\n",
    "`True`"
   ]
  },
  {
   "cell_type": "code",
   "execution_count": null,
   "id": "2405cd14",
   "metadata": {},
   "outputs": [],
   "source": [
    "totally_unimodular, reason = is_totally_unimodular(matrix=B)\n",
    "print(totally_unimodular)\n",
    "if not totally_unimodular:\n",
    "    print(reason)"
   ]
  },
  {
   "cell_type": "code",
   "execution_count": null,
   "id": "b0d9ffb3",
   "metadata": {},
   "outputs": [],
   "source": [
    "C = np.array([[1, -1, 1], [1, 1, 0]])\n",
    "print(C)"
   ]
  },
  {
   "cell_type": "markdown",
   "id": "7ebc902e",
   "metadata": {},
   "source": [
    "Expected result:<br>\n",
    "`False`<br>\n",
    "`Invalid determinant 2.0 for matrix`<br>\n",
    "`[[ 1 -1]`<br>\n",
    "`[ 1  1]]`"
   ]
  },
  {
   "cell_type": "code",
   "execution_count": null,
   "id": "7e5c827d",
   "metadata": {},
   "outputs": [],
   "source": [
    "totally_unimodular, reason = is_totally_unimodular(matrix=C)\n",
    "print(totally_unimodular)\n",
    "if not totally_unimodular:\n",
    "    print(reason)"
   ]
  }
 ],
 "metadata": {},
 "nbformat": 4,
 "nbformat_minor": 5
}
