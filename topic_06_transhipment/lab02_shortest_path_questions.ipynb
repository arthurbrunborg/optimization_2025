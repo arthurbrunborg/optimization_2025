{
 "cells": [
  {
   "cell_type": "markdown",
   "id": "015285f6",
   "metadata": {},
   "source": [
    "# The shortest path problem as a transhipment problem.\n",
    "\n",
    "## Introduction to optimization and operations research.\n",
    "\n",
    "Michel Bierlaire\n"
   ]
  },
  {
   "cell_type": "code",
   "execution_count": null,
   "id": "2365a2c4",
   "metadata": {},
   "outputs": [],
   "source": [
    "\n",
    "import numpy as np\n",
    "from IPython.core.display_functions import display\n",
    "from matplotlib import pyplot as plt\n",
    "from networkx import DiGraph\n",
    "from teaching_optimization.networks import draw_network\n",
    "from teaching_optimization.simplex_tableau import SimplexAlgorithmTableau\n",
    "from teaching_optimization.tableau import SimplexTableau\n"
   ]
  },
  {
   "cell_type": "markdown",
   "id": "c140a383",
   "metadata": {},
   "source": [
    "In this lab, you will model the **shortest path** task as a **transhipment** (network flow) problem\n",
    "and solve it using the simplex algorithm in two phases. You will build the linear optimization\n",
    "problem by defining the cost of each arc (objective coefficients), constructing the node–arc\n",
    "incidence matrix (flow conservation), and setting the right‑hand side to source/sink supply.\n",
    "After solving, you will interpret the basic solution as a path and visualize it on the network.\n",
    "The goal is to connect graph intuition (paths, arcs, nodes) with the algebra of a linear\n",
    "optimization problem so you can recognize shortest path as a special case of transhipment."
   ]
  },
  {
   "cell_type": "markdown",
   "id": "09f9558e",
   "metadata": {},
   "source": [
    "Consider the four cities represented by the graph below. The travel\n",
    "time (in minutes) by car is shown next to each arc connecting two\n",
    "cities."
   ]
  },
  {
   "cell_type": "markdown",
   "id": "6f98726f",
   "metadata": {},
   "source": [
    "We want to determine the fastest itinerary from Orbe to Sierre.\n",
    "\n",
    "- Model the problem as a transhipment problem.\n",
    "- Solve it using the simplex algorithm in two phases."
   ]
  },
  {
   "cell_type": "markdown",
   "id": "1e7eb33a",
   "metadata": {},
   "source": [
    "# Description of the problem"
   ]
  },
  {
   "cell_type": "code",
   "execution_count": null,
   "id": "b69840a3",
   "metadata": {},
   "outputs": [],
   "source": [
    "\n",
    "positions = {\n",
    "    'Orbe': (-3.5, 0.5),\n",
    "    'Lausanne': (-2.5, -1.5),\n",
    "    'Fribourg': (1.5, 0.5),\n",
    "    'Sierre': (4.5, -3),\n",
    "}\n",
    "\n",
    "nodes = list(positions.keys())\n",
    "\n",
    "arcs = [\n",
    "    ('Orbe', 'Fribourg', 36),\n",
    "    ('Orbe', 'Lausanne', 28),\n",
    "    ('Lausanne', 'Fribourg', 50),\n",
    "    ('Lausanne', 'Sierre', 71),\n",
    "    ('Fribourg', 'Sierre', 83),\n",
    "    ('Fribourg', 'Lausanne', 50),\n",
    "]\n",
    "\n",
    "G: DiGraph = DiGraph()\n",
    "for node in nodes:\n",
    "    G.add_node(node, pos=positions[node])\n",
    "G.add_weighted_edges_from(arcs, weight='cost')\n",
    "fig, ax = plt.subplots(figsize=(8, 6))\n",
    "draw_network(the_network=G, attr_edge_labels='cost', ax=ax)\n",
    "plt.show()\n"
   ]
  },
  {
   "cell_type": "markdown",
   "id": "5c038f19",
   "metadata": {},
   "source": [
    "# Building the transhipment problem"
   ]
  },
  {
   "cell_type": "markdown",
   "id": "c2d6d601",
   "metadata": {},
   "source": [
    "## Coefficients of the variables"
   ]
  },
  {
   "cell_type": "code",
   "execution_count": null,
   "id": "c0579cba",
   "metadata": {},
   "outputs": [],
   "source": [
    "objective = ...\n"
   ]
  },
  {
   "cell_type": "code",
   "execution_count": null,
   "id": "be6c6c49",
   "metadata": {},
   "outputs": [],
   "source": [
    "print(objective)\n"
   ]
  },
  {
   "cell_type": "markdown",
   "id": "6a4751f4",
   "metadata": {},
   "source": [
    "## Constraint matrix."
   ]
  },
  {
   "cell_type": "markdown",
   "id": "f47855c3",
   "metadata": {},
   "source": [
    "We build a mapping between the node name and the row number."
   ]
  },
  {
   "cell_type": "code",
   "execution_count": null,
   "id": "52a024f3",
   "metadata": {},
   "outputs": [],
   "source": [
    "node_to_index = {node: i for i, node in enumerate(nodes)}\n",
    "display(node_to_index)\n"
   ]
  },
  {
   "cell_type": "markdown",
   "id": "7cee0add",
   "metadata": {},
   "source": [
    "Initialize the matrix"
   ]
  },
  {
   "cell_type": "code",
   "execution_count": null,
   "id": "0ce354d4",
   "metadata": {},
   "outputs": [],
   "source": [
    "num_nodes = len(nodes)\n",
    "num_arcs = len(arcs)\n",
    "matrix = np.zeros((num_nodes, num_arcs))\n"
   ]
  },
  {
   "cell_type": "markdown",
   "id": "a3dc8ad8",
   "metadata": {},
   "source": [
    "Populate the matrix"
   ]
  },
  {
   "cell_type": "code",
   "execution_count": null,
   "id": "489ca2ba",
   "metadata": {},
   "outputs": [],
   "source": [
    " for ...\n",
    "\n",
    "\n",
    "\n",
    "\n"
   ]
  },
  {
   "cell_type": "markdown",
   "id": "440021d5",
   "metadata": {},
   "source": [
    "Here is the matrix"
   ]
  },
  {
   "cell_type": "code",
   "execution_count": null,
   "id": "61317ad3",
   "metadata": {},
   "outputs": [],
   "source": [
    "display(matrix)\n"
   ]
  },
  {
   "cell_type": "markdown",
   "id": "40ac0618",
   "metadata": {},
   "source": [
    "## Right hand side"
   ]
  },
  {
   "cell_type": "code",
   "execution_count": null,
   "id": "1e0422f5",
   "metadata": {},
   "outputs": [],
   "source": [
    "\n",
    "\n",
    "rhs =\n",
    "\n",
    "\n",
    "display(rhs)\n"
   ]
  },
  {
   "cell_type": "markdown",
   "id": "c8ca11ce",
   "metadata": {},
   "source": [
    "# Solving the problem"
   ]
  },
  {
   "cell_type": "markdown",
   "id": "e066c1b4",
   "metadata": {},
   "source": [
    "Initialization"
   ]
  },
  {
   "cell_type": "code",
   "execution_count": null,
   "id": "0ca898ef",
   "metadata": {},
   "outputs": [],
   "source": [
    "the_algorithm = SimplexAlgorithmTableau(\n",
    "    objective=objective, constraint_matrix=matrix, right_hand_side=rhs\n",
    ")\n"
   ]
  },
  {
   "cell_type": "markdown",
   "id": "906edbba",
   "metadata": {},
   "source": [
    "Solving the problem"
   ]
  },
  {
   "cell_type": "code",
   "execution_count": null,
   "id": "1e742ff6",
   "metadata": {},
   "outputs": [],
   "source": [
    "optimal_tableau: SimplexTableau = the_algorithm.solve()\n"
   ]
  },
  {
   "cell_type": "markdown",
   "id": "b0e43941",
   "metadata": {},
   "source": [
    "Optimal solution"
   ]
  },
  {
   "cell_type": "code",
   "execution_count": null,
   "id": "c94fadf8",
   "metadata": {},
   "outputs": [],
   "source": [
    "print(optimal_tableau.feasible_basic_solution)\n"
   ]
  },
  {
   "cell_type": "markdown",
   "id": "e2216994",
   "metadata": {},
   "source": [
    "# Interpret the solution and plot the shortest path."
   ]
  },
  {
   "cell_type": "markdown",
   "id": "914f8f74",
   "metadata": {},
   "source": [
    "Use the optimal tableau to identify the arcs in the shortest path"
   ]
  },
  {
   "cell_type": "code",
   "execution_count": null,
   "id": "527cbf75",
   "metadata": {},
   "outputs": [],
   "source": [
    "shortest_path_arcs = list()\n",
    "\n",
    "\n",
    "\n",
    "\n"
   ]
  },
  {
   "cell_type": "markdown",
   "id": "a8f80d04",
   "metadata": {},
   "source": [
    "Plot the graph including only the arcs in the shortest path."
   ]
  },
  {
   "cell_type": "code",
   "execution_count": null,
   "id": "d28de641",
   "metadata": {},
   "outputs": [],
   "source": [
    "shortest_path: DiGraph = DiGraph()\n",
    "for node in nodes:\n",
    "    shortest_path.add_node(node, pos=positions[node])\n",
    "shortest_path.add_weighted_edges_from(shortest_path_arcs, weight='cost')\n",
    "fig, ax = plt.subplots(figsize=(8, 6))\n",
    "draw_network(the_network=shortest_path, attr_edge_labels='cost', ax=ax)\n",
    "plt.show()\n"
   ]
  },
  {
   "cell_type": "markdown",
   "id": "c85204fe",
   "metadata": {},
   "source": [
    "Optimal value"
   ]
  },
  {
   "cell_type": "code",
   "execution_count": null,
   "id": "da87bc33",
   "metadata": {},
   "outputs": [],
   "source": [
    "print(optimal_tableau.value_objective_function)"
   ]
  }
 ],
 "metadata": {},
 "nbformat": 4,
 "nbformat_minor": 5
}
