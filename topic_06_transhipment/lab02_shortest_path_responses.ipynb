{
 "cells": [
  {
   "cell_type": "markdown",
   "id": "9921281a",
   "metadata": {},
   "source": [
    "# The shortest path problem as a transhipment problem.\n",
    "\n",
    "## Introduction to optimization and operations research.\n",
    "\n",
    "Michel Bierlaire\n"
   ]
  },
  {
   "cell_type": "code",
   "execution_count": null,
   "id": "482ec78c",
   "metadata": {},
   "outputs": [],
   "source": [
    "\n",
    "import numpy as np\n",
    "from IPython.core.display_functions import display\n",
    "from matplotlib import pyplot as plt\n",
    "from networkx import DiGraph\n",
    "from teaching_optimization.networks import draw_network\n",
    "from teaching_optimization.simplex_tableau import SimplexAlgorithmTableau\n",
    "from teaching_optimization.tableau import SimplexTableau\n"
   ]
  },
  {
   "cell_type": "markdown",
   "id": "cfdc692d",
   "metadata": {},
   "source": [
    "In this lab, you will model the **shortest path** task as a **transhipment** (network flow) problem\n",
    "and solve it using the simplex algorithm in two phases. You will build the linear optimization\n",
    "problem by defining the cost of each arc (objective coefficients), constructing the node–arc\n",
    "incidence matrix (flow conservation), and setting the right‑hand side to source/sink supply.\n",
    "After solving, you will interpret the basic solution as a path and visualize it on the network.\n",
    "The goal is to connect graph intuition (paths, arcs, nodes) with the algebra of a linear\n",
    "optimization problem so you can recognize shortest path as a special case of transhipment."
   ]
  },
  {
   "cell_type": "markdown",
   "id": "f8623613",
   "metadata": {},
   "source": [
    "Consider the four cities represented by the graph below. The travel\n",
    "time (in minutes) by car is shown next to each arc connecting two\n",
    "cities."
   ]
  },
  {
   "cell_type": "markdown",
   "id": "282d8bd7",
   "metadata": {},
   "source": [
    "We want to determine the fastest itinerary from Orbe to Sierre.\n",
    "\n",
    "- Model the problem as a transhipment problem.\n",
    "- Solve it using the simplex algorithm in two phases."
   ]
  },
  {
   "cell_type": "markdown",
   "id": "1028bd81",
   "metadata": {},
   "source": [
    "# Description of the problem"
   ]
  },
  {
   "cell_type": "code",
   "execution_count": null,
   "id": "af25c09b",
   "metadata": {},
   "outputs": [],
   "source": [
    "\n",
    "positions = {\n",
    "    'Orbe': (-3.5, 0.5),\n",
    "    'Lausanne': (-2.5, -1.5),\n",
    "    'Fribourg': (1.5, 0.5),\n",
    "    'Sierre': (4.5, -3),\n",
    "}\n",
    "\n",
    "nodes = list(positions.keys())\n",
    "\n",
    "arcs = [\n",
    "    ('Orbe', 'Fribourg', 36),\n",
    "    ('Orbe', 'Lausanne', 28),\n",
    "    ('Lausanne', 'Fribourg', 50),\n",
    "    ('Lausanne', 'Sierre', 71),\n",
    "    ('Fribourg', 'Sierre', 83),\n",
    "    ('Fribourg', 'Lausanne', 50),\n",
    "]\n",
    "\n",
    "G: DiGraph = DiGraph()\n",
    "for node in nodes:\n",
    "    G.add_node(node, pos=positions[node])\n",
    "G.add_weighted_edges_from(arcs, weight='cost')\n",
    "fig, ax = plt.subplots(figsize=(8, 6))\n",
    "draw_network(the_network=G, attr_edge_labels='cost', ax=ax)\n",
    "plt.show()\n"
   ]
  },
  {
   "cell_type": "markdown",
   "id": "d62955af",
   "metadata": {},
   "source": [
    "# Building the transhipment problem"
   ]
  },
  {
   "cell_type": "markdown",
   "id": "7669aea5",
   "metadata": {},
   "source": [
    "## Coefficients of the variables"
   ]
  },
  {
   "cell_type": "code",
   "execution_count": null,
   "id": "6205adb7",
   "metadata": {},
   "outputs": [],
   "source": [
    "objective = np.array([cost for _, _, cost in arcs])\n"
   ]
  },
  {
   "cell_type": "code",
   "execution_count": null,
   "id": "047202ff",
   "metadata": {},
   "outputs": [],
   "source": [
    "print(objective)\n"
   ]
  },
  {
   "cell_type": "markdown",
   "id": "1c98f776",
   "metadata": {},
   "source": [
    "## Constraint matrix.\n",
    "\n",
    "- each row corresponds to a node,\n",
    "- each column corresponds to an arc.\n",
    "\n",
    "The column corresponding to arc (i,j) must contain a 1 at row i and a -1 at row j.\n",
    "All elements of the column are zero."
   ]
  },
  {
   "cell_type": "markdown",
   "id": "c4c3e75f",
   "metadata": {},
   "source": [
    "We build a mapping between the node name and the row number."
   ]
  },
  {
   "cell_type": "code",
   "execution_count": null,
   "id": "87adcbe4",
   "metadata": {},
   "outputs": [],
   "source": [
    "node_to_index = {node: i for i, node in enumerate(nodes)}\n",
    "display(node_to_index)\n"
   ]
  },
  {
   "cell_type": "markdown",
   "id": "f8d7c7ec",
   "metadata": {},
   "source": [
    "Initialize the matrix"
   ]
  },
  {
   "cell_type": "code",
   "execution_count": null,
   "id": "f63a49a8",
   "metadata": {},
   "outputs": [],
   "source": [
    "num_nodes = len(nodes)\n",
    "num_arcs = len(arcs)\n",
    "matrix = np.zeros((num_nodes, num_arcs))\n"
   ]
  },
  {
   "cell_type": "markdown",
   "id": "272f7b22",
   "metadata": {},
   "source": [
    "Populate the matrix"
   ]
  },
  {
   "cell_type": "code",
   "execution_count": null,
   "id": "4522779a",
   "metadata": {},
   "outputs": [],
   "source": [
    "for arc_index, (start, end, weight) in enumerate(arcs):\n",
    "    row_start = node_to_index[start]\n",
    "    row_end = node_to_index[end]\n",
    "    matrix[row_start, arc_index] = 1\n",
    "    matrix[row_end, arc_index] = -1\n"
   ]
  },
  {
   "cell_type": "markdown",
   "id": "236578b0",
   "metadata": {},
   "source": [
    "Here is the matrix"
   ]
  },
  {
   "cell_type": "code",
   "execution_count": null,
   "id": "56ac16fb",
   "metadata": {},
   "outputs": [],
   "source": [
    "display(matrix)\n"
   ]
  },
  {
   "cell_type": "markdown",
   "id": "dc604f9d",
   "metadata": {},
   "source": [
    "## Right hand side"
   ]
  },
  {
   "cell_type": "markdown",
   "id": "3b153086",
   "metadata": {},
   "source": [
    "It contains zero, except at the origin, where it is 1, and at the destination, where it is -1."
   ]
  },
  {
   "cell_type": "code",
   "execution_count": null,
   "id": "726eba2a",
   "metadata": {},
   "outputs": [],
   "source": [
    "rhs = np.zeros(num_nodes)\n",
    "rhs[node_to_index['Orbe']] = 1.0\n",
    "rhs[node_to_index['Sierre']] = -1.0\n",
    "display(rhs)\n"
   ]
  },
  {
   "cell_type": "markdown",
   "id": "ae583c54",
   "metadata": {},
   "source": [
    "# Solving the problem"
   ]
  },
  {
   "cell_type": "markdown",
   "id": "5298ce38",
   "metadata": {},
   "source": [
    "Initialization"
   ]
  },
  {
   "cell_type": "code",
   "execution_count": null,
   "id": "38805bee",
   "metadata": {},
   "outputs": [],
   "source": [
    "the_algorithm = SimplexAlgorithmTableau(\n",
    "    objective=objective, constraint_matrix=matrix, right_hand_side=rhs\n",
    ")\n"
   ]
  },
  {
   "cell_type": "markdown",
   "id": "5a9bc12f",
   "metadata": {},
   "source": [
    "Solving the problem"
   ]
  },
  {
   "cell_type": "code",
   "execution_count": null,
   "id": "432c7d6f",
   "metadata": {},
   "outputs": [],
   "source": [
    "optimal_tableau: SimplexTableau = the_algorithm.solve()\n"
   ]
  },
  {
   "cell_type": "markdown",
   "id": "1662d0c8",
   "metadata": {},
   "source": [
    "Optimal solution"
   ]
  },
  {
   "cell_type": "code",
   "execution_count": null,
   "id": "65a186e8",
   "metadata": {},
   "outputs": [],
   "source": [
    "print(optimal_tableau.feasible_basic_solution)\n"
   ]
  },
  {
   "cell_type": "markdown",
   "id": "96576df7",
   "metadata": {},
   "source": [
    "# Interpret the solution and plot the shortest path."
   ]
  },
  {
   "cell_type": "markdown",
   "id": "73c0e230",
   "metadata": {},
   "source": [
    "Use the optimal tableau to identify the arcs in the shortest path"
   ]
  },
  {
   "cell_type": "code",
   "execution_count": null,
   "id": "0427bd8d",
   "metadata": {},
   "outputs": [],
   "source": [
    "shortest_path_arcs = list()\n",
    "for index, value in enumerate(optimal_tableau.feasible_basic_solution):\n",
    "    if value == 1:\n",
    "        print(arcs[index])\n",
    "        shortest_path_arcs.append(arcs[index])\n"
   ]
  },
  {
   "cell_type": "markdown",
   "id": "b8784f37",
   "metadata": {},
   "source": [
    "Plot the graph including only the arcs in the shortest path."
   ]
  },
  {
   "cell_type": "code",
   "execution_count": null,
   "id": "18b4186e",
   "metadata": {},
   "outputs": [],
   "source": [
    "shortest_path: DiGraph = DiGraph()\n",
    "for node in nodes:\n",
    "    shortest_path.add_node(node, pos=positions[node])\n",
    "shortest_path.add_weighted_edges_from(shortest_path_arcs, weight='cost')\n",
    "fig, ax = plt.subplots(figsize=(8, 6))\n",
    "draw_network(the_network=shortest_path, attr_edge_labels='cost', ax=ax)\n",
    "plt.show()\n"
   ]
  },
  {
   "cell_type": "markdown",
   "id": "a978073a",
   "metadata": {},
   "source": [
    "Optimal value"
   ]
  },
  {
   "cell_type": "code",
   "execution_count": null,
   "id": "ee6fffdf",
   "metadata": {},
   "outputs": [],
   "source": [
    "print(optimal_tableau.value_objective_function)"
   ]
  }
 ],
 "metadata": {},
 "nbformat": 4,
 "nbformat_minor": 5
}
