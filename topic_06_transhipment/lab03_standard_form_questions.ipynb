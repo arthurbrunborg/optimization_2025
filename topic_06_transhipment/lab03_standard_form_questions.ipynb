{
 "cells": [
  {
   "cell_type": "markdown",
   "id": "bf6336bc",
   "metadata": {},
   "source": [
    "# Transhipment: standard form\n",
    "\n",
    "## Introduction to optimization and operations research\n",
    "\n",
    "Michel Bierlaire\n"
   ]
  },
  {
   "cell_type": "code",
   "execution_count": null,
   "id": "5986120b",
   "metadata": {},
   "outputs": [],
   "source": [
    "\n",
    "import sys\n",
    "from typing import Any\n",
    "\n",
    "import numpy as np\n",
    "from matplotlib import pyplot as plt\n",
    "from networkx import (\n",
    "    DiGraph,\n",
    "    draw_networkx_edges,\n",
    "    draw_networkx_nodes,\n",
    "    draw_networkx_labels,\n",
    "    draw_networkx_edge_labels,\n",
    "    Graph,\n",
    ")\n",
    "from teaching_optimization.simplex_tableau import SimplexAlgorithmTableau\n",
    "from teaching_optimization.tableau import SimplexTableau\n"
   ]
  },
  {
   "cell_type": "markdown",
   "id": "748a7125",
   "metadata": {},
   "source": [
    "In this lab, you will convert a transhipment model into the **standard form** used by solvers.\n",
    "You will shift lower bounds to zero with a change of variables, rewrite capacity constraints\n",
    "using **slack variables** (introduced as extra nodes/arcs), and build the node–arc **incidence\n",
    "matrix** together with the objective vector and right‑hand side. The goal is to understand how\n",
    "a network model becomes a **linear optimization problem** in matrix form (A, b, c), why constant\n",
    "terms can be dropped, and how these steps prepare the instance for algorithms such as the\n",
    "simplex tableau method. Work carefully: sign conventions in the incidence matrix determine\n",
    "feasibility, and a single flipped sign can make the problem appear infeasible."
   ]
  },
  {
   "cell_type": "markdown",
   "id": "e46ced19",
   "metadata": {},
   "source": [
    "A node in the_network can be of any type. In this script, we use str."
   ]
  },
  {
   "cell_type": "code",
   "execution_count": null,
   "id": "7007a78c",
   "metadata": {},
   "outputs": [],
   "source": [
    "Node = Any\n"
   ]
  },
  {
   "cell_type": "markdown",
   "id": "dcb9ec4b",
   "metadata": {},
   "source": [
    "Consider three factories which produce honey in Boston, New York and\n",
    "Los Angeles, whose supplies are 200 units, 250 units and 300 units per\n",
    "day, respectively. Customers have a demand of 250 units per day in\n",
    "each city. The costs for transporting one unit are the following:"
   ]
  },
  {
   "cell_type": "markdown",
   "id": "27008b17",
   "metadata": {},
   "source": [
    "- from Los Angeles to Boston is \\$1,\n",
    "- from Los Angeles to New York is \\$0.5,\n",
    "- from New York to Boston is \\$0.8."
   ]
  },
  {
   "cell_type": "markdown",
   "id": "45b37429",
   "metadata": {},
   "source": [
    "A maximum of 40 units per day can be transported from one city to\n",
    "another. Moreover, due to a specific contract with the shipping\n",
    "company, we have to transport at least 20 units from New-York to\n",
    "Boston.  We want to find the cheapest way to transport the honey from\n",
    "the factories to the customers.\n",
    "\n",
    "\n",
    "# Question 1\n",
    "Represent the problem as a the_network.  Notify the supply/demand\n",
    "data $s_i$ next to the name of each node $i$. Next to each arc $(i,j)$, notify\n",
    "the cost and the capacities using the notation $c_{ij} (\\ell_{ij},\n",
    "u_{ij})$."
   ]
  },
  {
   "cell_type": "markdown",
   "id": "2d5b3d29",
   "metadata": {},
   "source": [
    "Create a directed graph"
   ]
  },
  {
   "cell_type": "code",
   "execution_count": null,
   "id": "200c5884",
   "metadata": {},
   "outputs": [],
   "source": [
    "original_network = DiGraph()\n"
   ]
  },
  {
   "cell_type": "markdown",
   "id": "95a84ba3",
   "metadata": {},
   "source": [
    "Supply and demand at each factory"
   ]
  },
  {
   "cell_type": "code",
   "execution_count": null,
   "id": "16f0692d",
   "metadata": {},
   "outputs": [],
   "source": [
    "original_network.add_node('Los Angeles', supply=300 - 250)\n",
    "original_network.add_node('New York', supply=250 - 250)\n",
    "original_network.add_node('Boston', supply=200 - 250)\n"
   ]
  },
  {
   "cell_type": "markdown",
   "id": "15f18cf3",
   "metadata": {},
   "source": [
    "Add arcs with cost, and capacity (lower and upper bound)"
   ]
  },
  {
   "cell_type": "code",
   "execution_count": null,
   "id": "d2d19f9c",
   "metadata": {},
   "outputs": [],
   "source": [
    "original_network.add_edge(\n",
    "    'Los Angeles', 'Boston', cost=1, lower_bound=0, upper_bound=40\n",
    ")\n",
    "original_network.add_edge(\n",
    "    'Los Angeles', 'New York', cost=0.5, lower_bound=0, upper_bound=40\n",
    ")\n",
    "original_network.add_edge(\n",
    "    'New York', 'Boston', cost=0.8, lower_bound=20, upper_bound=40\n",
    ")\n"
   ]
  },
  {
   "cell_type": "markdown",
   "id": "998fb718",
   "metadata": {},
   "source": [
    "Define coordinates for the plot."
   ]
  },
  {
   "cell_type": "code",
   "execution_count": null,
   "id": "f73839be",
   "metadata": {},
   "outputs": [],
   "source": [
    "pos = {'Los Angeles': (0, 3), 'New York': (-3, 0), 'Boston': (3, 0)}\n",
    "\n"
   ]
  },
  {
   "cell_type": "markdown",
   "id": "8aca85e1",
   "metadata": {},
   "source": [
    "Function to plot the the_network"
   ]
  },
  {
   "cell_type": "code",
   "execution_count": null,
   "id": "6ff80f78",
   "metadata": {},
   "outputs": [],
   "source": [
    "def plot_network(network: Graph, positions: dict[Node, tuple[float, float]]) -> None:\n",
    "    \"\"\"Plot the the_network and its data.\n",
    "\n",
    "    :param network: the_network to plot.\n",
    "    :param positions: coordinate sof the nodes\n",
    "    \"\"\"\n",
    "\n",
    "    # Figure size\n",
    "    plt.figure(figsize=(10, 10))\n",
    "\n",
    "    # Draw the nodes\n",
    "    draw_networkx_nodes(\n",
    "        network, positions, node_size=5000, node_color='lightblue', alpha=0.5\n",
    "    )\n",
    "\n",
    "    # Draw the node labels (supply/demand)\n",
    "    node_labels = {}\n",
    "    for node, data in network.nodes(data=True):\n",
    "        supply = data['supply']\n",
    "        node_labels[node] = f'{node} [{supply}]'\n",
    "\n",
    "    shifted_positions = {\n",
    "        node: (coord[0], coord[1] - 0.2) for node, coord in positions.items()\n",
    "    }\n",
    "    draw_networkx_labels(\n",
    "        network, shifted_positions, labels=node_labels, font_size=12, font_weight='bold'\n",
    "    )\n",
    "\n",
    "    # Draw the arcs with labels\n",
    "    edge_labels = {}\n",
    "    for u, v, data in network.edges(data=True):\n",
    "        lower_bound = data['lower_bound']\n",
    "        upper_bound = data['upper_bound']\n",
    "        cost = data['cost']\n",
    "        label = f'{cost} ({lower_bound},{upper_bound})'\n",
    "        edge_labels[(u, v)] = label\n",
    "\n",
    "    draw_networkx_edges(network, positions, arrowstyle='->', arrowsize=20)\n",
    "    draw_networkx_edge_labels(network, positions, edge_labels=edge_labels, font_size=10)\n",
    "\n",
    "    # Display the graph\n",
    "    plt.title(\"Transhipment the_network with costs and capacities\")\n",
    "    plt.axis('off')\n",
    "    plt.show()\n",
    "\n",
    "\n",
    "plot_network(network=original_network, positions=pos)\n"
   ]
  },
  {
   "cell_type": "markdown",
   "id": "ce5794cd",
   "metadata": {},
   "source": [
    "# Question 2\n",
    "Write the transhipment problem as a linear optimization problem."
   ]
  },
  {
   "cell_type": "markdown",
   "id": "034a81a6",
   "metadata": {},
   "source": [
    "# Question 3\n",
    "Identify the data $A\\in\\mathbb{R}^{m \\times n}$, $b \\in \\mathbb{R}^m$, $c \\in\n",
    "\\mathbb{R}^n$ of the transhipment problem in standard form:\n",
    "$$\n",
    "\\min_{x \\in \\mathbb{R}^n} c^Tx\n",
    "$$\n",
    "subject to\n",
    "\\begin{align*}\n",
    "Ax &= b, \\\\ x & \\geq 0,\n",
    "\\end{align*}\n",
    "where the matrix $A$ is such that there are only two non zeros entries\n",
    "in each column: 1 and -1.\n",
    "Follow the procedure in the book pp. 531-533.\n",
    "[Optimization Principles and Algorithms (2018)](https://transp-or.epfl.ch/books/optimization/html/OptimizationPrinciplesAlgorithms2018.pdf)"
   ]
  },
  {
   "cell_type": "markdown",
   "id": "d410eea0",
   "metadata": {},
   "source": [
    "## Set the lower bounds to 0."
   ]
  },
  {
   "cell_type": "markdown",
   "id": "f28267ce",
   "metadata": {},
   "source": [
    "We advise you to do it first by hand to understand the process."
   ]
  },
  {
   "cell_type": "markdown",
   "id": "ba3d11ae",
   "metadata": {},
   "source": [
    "Now implement the modification. Create a new the_network, with the same topology of the original one, but\n",
    "with new supply/demand values defined by:\n",
    "$$\n",
    "\\sum_{j | (i,j) \\in \\mathcal{A}} x'_{ij} - \\sum_{k | (k,i) \\in\n",
    "\\mathcal{A}} x'_{ki}  = s_i +  \\sum_{k | (k,i) \\in\n",
    "\\mathcal{A}} \\ell_{ki} - \\sum_{j | (i,j) \\in \\mathcal{A}} \\ell_{ij} ,  \\; \\forall i \\in \\mathcal{C},\n",
    "$$"
   ]
  },
  {
   "cell_type": "code",
   "execution_count": null,
   "id": "57b7703f",
   "metadata": {},
   "outputs": [],
   "source": [
    "shifted_network = original_network.copy()\n",
    "\n",
    "for node, node_data in shifted_network.nodes(data=True):\n",
    "    correction = 0\n",
    "    for u, v, edge_data in shifted_network.in_edges(node, data=True):\n",
    "        correction = ...\n",
    "    for u, v, edge_data in shifted_network.out_edges(node, data=True):\n",
    "        correction = ...\n",
    "    node_data['supply'] += correction\n"
   ]
  },
  {
   "cell_type": "markdown",
   "id": "3fd64e88",
   "metadata": {},
   "source": [
    "We also modify the bounds on the variables:\n",
    "$$\n",
    "0 \\leq x'_{ij} \\leq u_{ij}- \\ell_{ij}, \\; \\forall (i,j) \\in \\mathcal{A}.\n",
    "$$"
   ]
  },
  {
   "cell_type": "code",
   "execution_count": null,
   "id": "4d16dbf2",
   "metadata": {},
   "outputs": [],
   "source": [
    "\n",
    "for u, v, data in shifted_network.edges(data=True):\n",
    "\n",
    "\n",
    "    data['lower_bound'] = ...\n",
    "    data['upper_bound'] = ...\n"
   ]
  },
  {
   "cell_type": "markdown",
   "id": "182f97e2",
   "metadata": {},
   "source": [
    "We plot the shifted the_network."
   ]
  },
  {
   "cell_type": "code",
   "execution_count": null,
   "id": "58bc2e40",
   "metadata": {},
   "outputs": [],
   "source": [
    "plot_network(network=shifted_network, positions=pos)\n"
   ]
  },
  {
   "cell_type": "markdown",
   "id": "948bdff7",
   "metadata": {},
   "source": [
    "## Introduce slack variables as additional nodes and arcs."
   ]
  },
  {
   "cell_type": "markdown",
   "id": "2c3633e8",
   "metadata": {},
   "source": [
    "We create a new the_network where:\n",
    "- each node of the original the_network is included,\n",
    "- each arc of the original the_network is associated with a new node in the new the_network,\n",
    "as illustrated in Figure 22.2 in the book."
   ]
  },
  {
   "cell_type": "code",
   "execution_count": null,
   "id": "5d7570fd",
   "metadata": {},
   "outputs": [],
   "source": [
    "\n",
    "new_network = DiGraph()\n",
    "new_pos = {}\n",
    "for node, node_data in shifted_network.nodes(data=True):\n",
    "    # For each node of the shifted the_network, we create a  node in the new the_network, with a different supply data.\n",
    "    supply = ...\n",
    "\n",
    "\n",
    "\n",
    "\n",
    "    new_network.add_node(node, supply=supply)\n",
    "    new_pos[node] = pos[node]\n",
    "\n",
    "for u, v, edge_data in shifted_network.edges(data=True):\n",
    "    # For each arc of the shifted the_network, we create a node in the new the_network, and two arcs: one corresponding to the\n",
    "    # original arc, and one corresponding to the slack variable.\n",
    "\n",
    "    # We define the name of the new node.\n",
    "    slack_node = f'slack_{u}_{v}'\n",
    "\n",
    "    supply_new_node = ...\n",
    "    new_network.add_node(slack_node, supply=supply_new_node)\n",
    "\n",
    "    # We add an arc between the new node and the downstream node\n",
    "\n",
    "\n",
    "    lower_bound_down_arc = ...\n",
    "\n",
    "    upper_bound_down_arc = ...\n",
    "\n",
    "    cost_down_arc = ...\n",
    "    new_network.add_edge(\n",
    "        slack_node,\n",
    "        v,\n",
    "        cost=cost_down_arc,\n",
    "        lower_bound=lower_bound_down_arc,\n",
    "        upper_bound=upper_bound_down_arc,\n",
    "    )\n",
    "\n",
    "    # We also add an arc between the new node and the upstream node\n",
    "\n",
    "\n",
    "    lower_bound_up_arc = ...\n",
    "\n",
    "    upper_bound_up_arc = ...\n",
    "\n",
    "    cost_up_arc = ...\n",
    "    new_network.add_edge(\n",
    "        slack_node,\n",
    "        u,\n",
    "        cost=cost_up_arc,\n",
    "        lower_bound=lower_bound_up_arc,\n",
    "        upper_bound=upper_bound_up_arc,\n",
    "    )\n",
    "    # We position the new node in the middle of the corresponding arc.\n",
    "    coord_u_x, coord_u_y = pos[u]\n",
    "    coord_v_x, coord_v_y = pos[v]\n",
    "    new_pos[slack_node] = (0.5 * (coord_u_x + coord_v_x), 0.5 * (coord_u_y + coord_v_y))\n"
   ]
  },
  {
   "cell_type": "markdown",
   "id": "3a0c7f4e",
   "metadata": {},
   "source": [
    "We plot the new the_network."
   ]
  },
  {
   "cell_type": "code",
   "execution_count": null,
   "id": "2e603262",
   "metadata": {},
   "outputs": [],
   "source": [
    "plot_network(network=new_network, positions=new_pos)\n"
   ]
  },
  {
   "cell_type": "markdown",
   "id": "eac053cb",
   "metadata": {},
   "source": [
    "Now, we can extract the data of the problem."
   ]
  },
  {
   "cell_type": "markdown",
   "id": "5bad8869",
   "metadata": {},
   "source": [
    "First, we calculate the incidence matrix."
   ]
  },
  {
   "cell_type": "markdown",
   "id": "e81c15fd",
   "metadata": {},
   "source": [
    "Extract the incidence matrix of the the_network, column by column."
   ]
  },
  {
   "cell_type": "code",
   "execution_count": null,
   "id": "b5bc858e",
   "metadata": {},
   "outputs": [],
   "source": [
    "\n",
    "\n",
    "\n",
    "list_of_nodes = list(new_network.nodes())\n",
    "list_of_columns = []\n",
    "for u, v in new_network.edges():\n",
    "    the_column = ...\n",
    "\n",
    "\n",
    "\n",
    "\n",
    "    list_of_columns.append(the_column)\n",
    "\n",
    "\n",
    "incidence_matrix = np.array(list_of_columns).T\n",
    "\n",
    "n_rows = incidence_matrix.shape[0]\n",
    "n_columns = incidence_matrix.shape[1]\n",
    "print(f'The incidence matrix has {n_rows} rows and {n_columns} columns')\n",
    "print(incidence_matrix)\n",
    "\n"
   ]
  },
  {
   "cell_type": "markdown",
   "id": "9245dba8",
   "metadata": {},
   "source": [
    "The matrix $A$ of the optimization problem"
   ]
  },
  {
   "cell_type": "code",
   "execution_count": null,
   "id": "38c2d967",
   "metadata": {},
   "outputs": [],
   "source": [
    "matrix_a = ...\n"
   ]
  },
  {
   "cell_type": "markdown",
   "id": "70125f40",
   "metadata": {},
   "source": [
    "The cost vector $c$"
   ]
  },
  {
   "cell_type": "code",
   "execution_count": null,
   "id": "4406edbc",
   "metadata": {},
   "outputs": [],
   "source": [
    "vector_c = ...\n",
    "\n",
    "\n"
   ]
  },
  {
   "cell_type": "markdown",
   "id": "5a44d0bb",
   "metadata": {},
   "source": [
    "The right-hand-side $b$"
   ]
  },
  {
   "cell_type": "code",
   "execution_count": null,
   "id": "320678cb",
   "metadata": {},
   "outputs": [],
   "source": [
    "vector_b = ...\n",
    "\n",
    "\n",
    "\n"
   ]
  },
  {
   "cell_type": "markdown",
   "id": "1d069a5d",
   "metadata": {},
   "source": [
    "# Question 4\n",
    "What is the rank of the matrix $A$? Is the matrix full rank?"
   ]
  },
  {
   "cell_type": "code",
   "execution_count": null,
   "id": "fc750b8d",
   "metadata": {},
   "outputs": [],
   "source": [
    "rank = ...\n",
    "print(f'Its rank is {rank}')\n",
    "\n",
    "\n",
    "\n",
    "\n",
    "\n"
   ]
  },
  {
   "cell_type": "markdown",
   "id": "5de1f027",
   "metadata": {},
   "source": [
    "# Question 5\n",
    "Solve the problem with the simplex algorithm."
   ]
  },
  {
   "cell_type": "markdown",
   "id": "bbda430d",
   "metadata": {},
   "source": [
    "We create the algorithm"
   ]
  },
  {
   "cell_type": "code",
   "execution_count": null,
   "id": "d08c8def",
   "metadata": {},
   "outputs": [],
   "source": [
    "the_algorithm = SimplexAlgorithmTableau(\n",
    "    objective=vector_c,\n",
    "    constraint_matrix=matrix_a,\n",
    "    right_hand_side=vector_b,\n",
    ")\n"
   ]
  },
  {
   "cell_type": "markdown",
   "id": "a72e1760",
   "metadata": {},
   "source": [
    "We solve the problem"
   ]
  },
  {
   "cell_type": "code",
   "execution_count": null,
   "id": "3545fce5",
   "metadata": {},
   "outputs": [],
   "source": [
    "optimal_tableau: SimplexTableau = the_algorithm.solve()\n"
   ]
  },
  {
   "cell_type": "markdown",
   "id": "e5cc54bd",
   "metadata": {},
   "source": [
    "Check if the problem is feasible"
   ]
  },
  {
   "cell_type": "code",
   "execution_count": null,
   "id": "7c7262b1",
   "metadata": {},
   "outputs": [],
   "source": [
    "if optimal_tableau is None:\n",
    "    print(f'Optimization problem is infeasible.')\n",
    "    sys.exit()\n"
   ]
  },
  {
   "cell_type": "markdown",
   "id": "0756f29b",
   "metadata": {},
   "source": [
    "Optimal solution"
   ]
  },
  {
   "cell_type": "code",
   "execution_count": null,
   "id": "4e7295e2",
   "metadata": {},
   "outputs": [],
   "source": [
    "print(optimal_tableau.feasible_basic_solution)\n"
   ]
  },
  {
   "cell_type": "markdown",
   "id": "69caf4d8",
   "metadata": {},
   "source": [
    "We construct the optimal flows from the solution."
   ]
  },
  {
   "cell_type": "code",
   "execution_count": null,
   "id": "cb8870b2",
   "metadata": {},
   "outputs": [],
   "source": [
    "optimal_flows_new_network = {\n",
    "    (u, v): optimal_tableau.feasible_basic_solution[index]\n",
    "    for index, (u, v, edge_data) in enumerate(new_network.edges(data=True))\n",
    "}\n",
    "for edge, flow in optimal_flows_new_network.items():\n",
    "    print(f'{edge}: {flow}')\n",
    "\n"
   ]
  },
  {
   "cell_type": "markdown",
   "id": "72cdfe3b",
   "metadata": {},
   "source": [
    "Optimal value"
   ]
  },
  {
   "cell_type": "code",
   "execution_count": null,
   "id": "77583a5a",
   "metadata": {},
   "outputs": [],
   "source": [
    "print(f'{optimal_tableau.value_objective_function:.3g}')\n"
   ]
  },
  {
   "cell_type": "markdown",
   "id": "d26be9ab",
   "metadata": {},
   "source": [
    "We can now reconstruct the optimal flow in the original the_network."
   ]
  },
  {
   "cell_type": "markdown",
   "id": "e932459d",
   "metadata": {},
   "source": [
    "First, we calculate the optimal flows in the shifted the_network"
   ]
  },
  {
   "cell_type": "code",
   "execution_count": null,
   "id": "fd4630f0",
   "metadata": {},
   "outputs": [],
   "source": [
    "optimal_flows_shifted_network = {}\n",
    "for u, v in shifted_network.edges():\n",
    "    corresponding_edge = (f'slack_{u}_{v}', v)\n",
    "    optimal_flows_shifted_network[(u, v)] = optimal_flows_new_network[\n",
    "        corresponding_edge\n",
    "    ]\n",
    "for edge, flow in optimal_flows_shifted_network.items():\n",
    "    print(f'{edge}: {flow}')\n"
   ]
  },
  {
   "cell_type": "markdown",
   "id": "91054501",
   "metadata": {},
   "source": [
    "And then, we calculate the optimal flows for the original the_network."
   ]
  },
  {
   "cell_type": "code",
   "execution_count": null,
   "id": "068b897b",
   "metadata": {},
   "outputs": [],
   "source": [
    "optimal_flows_original_network = {}\n",
    "for u, v, edge_data in original_network.edges(data=True):\n",
    "    optimal_flows_original_network[(u, v)] = (\n",
    "        optimal_flows_shifted_network[(u, v)] + edge_data['lower_bound']\n",
    "    )\n",
    "\n",
    "for edge, flow in optimal_flows_original_network.items():\n",
    "    print(f'{edge}: {flow}')"
   ]
  }
 ],
 "metadata": {},
 "nbformat": 4,
 "nbformat_minor": 5
}
