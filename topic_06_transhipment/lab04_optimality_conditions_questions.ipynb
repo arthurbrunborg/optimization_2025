{
 "cells": [
  {
   "cell_type": "markdown",
   "id": "5e974096",
   "metadata": {},
   "source": [
    "# Transhipment: optimality conditions\n",
    "\n",
    "## Introduction to optimization and operations research\n",
    "\n",
    "Michel Bierlaire\n"
   ]
  },
  {
   "cell_type": "code",
   "execution_count": null,
   "id": "376b7057",
   "metadata": {},
   "outputs": [],
   "source": [
    "\n",
    "from itertools import chain\n",
    "from typing import Any\n",
    "\n",
    "import numpy as np\n",
    "from matplotlib import pyplot as plt\n",
    "from networkx import (\n",
    "    DiGraph,\n",
    "    Graph,\n",
    "    draw_networkx_nodes,\n",
    "    draw_networkx_labels,\n",
    "    draw_networkx_edges,\n",
    "    draw_networkx_edge_labels,\n",
    ")\n"
   ]
  },
  {
   "cell_type": "markdown",
   "id": "2446aacd",
   "metadata": {},
   "source": [
    "In this lab, you will study **optimality conditions** for a transhipment model by working with its\n",
    "dual variables and inequalities. You will formulate the dual of the standard-form network model,\n",
    "update node potentials using edge costs to enforce the dual inequalities, and verify optimality on\n",
    "each arc. Then, using **complementarity slackness**, you will recover a primal flow and interpret it\n",
    "on the network. The goal is to connect the algebra (Lagrangian, dual constraints), the geometry\n",
    "(feasible flows on arcs and cuts), and the theory (weak/strong duality)."
   ]
  },
  {
   "cell_type": "markdown",
   "id": "7cbc3f6d",
   "metadata": {},
   "source": [
    "A node in the_network can be of any type. In this script, we use str."
   ]
  },
  {
   "cell_type": "code",
   "execution_count": null,
   "id": "386db9da",
   "metadata": {},
   "outputs": [],
   "source": [
    "Node = Any\n"
   ]
  },
  {
   "cell_type": "markdown",
   "id": "6356176c",
   "metadata": {},
   "source": [
    "Consider three factories producing electric cars in Boston, New-York\n",
    "and Los Angeles, with supplies 200 units, 250 units and 300 units per\n",
    "day respectively. The demand is 250 cars per day and per city. The\n",
    "cost for transporting one car:"
   ]
  },
  {
   "cell_type": "markdown",
   "id": "ca5032b9",
   "metadata": {},
   "source": [
    "- from Los Angeles to Boston is \\$100.\n",
    "- from Los Angeles to New-York is \\$50.\n",
    "- from New-York to Boston is \\$80."
   ]
  },
  {
   "cell_type": "markdown",
   "id": "afe865c7",
   "metadata": {},
   "source": [
    "No more than 40 cars can be transported between two cities per day."
   ]
  },
  {
   "cell_type": "markdown",
   "id": "fdd8bc24",
   "metadata": {},
   "source": [
    "Create a directed graph"
   ]
  },
  {
   "cell_type": "code",
   "execution_count": null,
   "id": "4966cfc0",
   "metadata": {},
   "outputs": [],
   "source": [
    "original_network = DiGraph()\n"
   ]
  },
  {
   "cell_type": "markdown",
   "id": "dd27b744",
   "metadata": {},
   "source": [
    "Supply and demand at each factory"
   ]
  },
  {
   "cell_type": "code",
   "execution_count": null,
   "id": "c26553c7",
   "metadata": {},
   "outputs": [],
   "source": [
    "original_network.add_node('LA', supply=300 - 250)\n",
    "original_network.add_node('NY', supply=250 - 250)\n",
    "original_network.add_node('B', supply=200 - 250)\n"
   ]
  },
  {
   "cell_type": "markdown",
   "id": "5dc7d10c",
   "metadata": {},
   "source": [
    "Add arcs with cost, and capacity (lower and upper bound)"
   ]
  },
  {
   "cell_type": "code",
   "execution_count": null,
   "id": "894f3f2c",
   "metadata": {},
   "outputs": [],
   "source": [
    "original_network.add_edge('LA', 'B', cost=100, lower_bound=0, upper_bound=40)\n",
    "original_network.add_edge('LA', 'NY', cost=50, lower_bound=0, upper_bound=40)\n",
    "original_network.add_edge('NY', 'B', cost=80, lower_bound=0, upper_bound=40)\n"
   ]
  },
  {
   "cell_type": "markdown",
   "id": "ee77a29b",
   "metadata": {},
   "source": [
    "Define coordinates for the plot."
   ]
  },
  {
   "cell_type": "code",
   "execution_count": null,
   "id": "28a39a21",
   "metadata": {},
   "outputs": [],
   "source": [
    "pos = {'LA': (0, 3), 'NY': (-3, 0), 'B': (3, 0)}\n",
    "\n"
   ]
  },
  {
   "cell_type": "markdown",
   "id": "6220a5fa",
   "metadata": {},
   "source": [
    "Function to plot the the_network"
   ]
  },
  {
   "cell_type": "code",
   "execution_count": null,
   "id": "dc1bf03a",
   "metadata": {},
   "outputs": [],
   "source": [
    "def plot_network(network: Graph, positions: dict[Node, tuple[float, float]]) -> None:\n",
    "    \"\"\"Plot the the_network and its data.\n",
    "\n",
    "    :param network: the_network to plot.\n",
    "    :param positions: coordinate sof the nodes\n",
    "    \"\"\"\n",
    "\n",
    "    # Figure size\n",
    "    plt.figure(figsize=(10, 10))\n",
    "\n",
    "    # Draw the nodes\n",
    "    draw_networkx_nodes(\n",
    "        network, positions, node_size=5000, node_color='lightblue', alpha=0.5\n",
    "    )\n",
    "\n",
    "    # Draw the node labels (supply/demand)\n",
    "    node_labels = {}\n",
    "    for node, data in network.nodes(data=True):\n",
    "        supply = data['supply']\n",
    "        node_labels[node] = f'{node} [{supply}]'\n",
    "\n",
    "    shifted_positions = {\n",
    "        node: (coord[0], coord[1] - 0.2) for node, coord in positions.items()\n",
    "    }\n",
    "    draw_networkx_labels(\n",
    "        network, shifted_positions, labels=node_labels, font_size=12, font_weight='bold'\n",
    "    )\n",
    "\n",
    "    # Draw the arcs with labels\n",
    "    edge_labels = {}\n",
    "    for u, v, data in network.edges(data=True):\n",
    "        lower_bound = data['lower_bound']\n",
    "        upper_bound = data['upper_bound']\n",
    "        cost = data['cost']\n",
    "        label = f'{cost} ({lower_bound},{upper_bound})'\n",
    "        edge_labels[(u, v)] = label\n",
    "\n",
    "    draw_networkx_edges(network, positions, arrowstyle='->', arrowsize=20)\n",
    "    draw_networkx_edge_labels(network, positions, edge_labels=edge_labels, font_size=10)\n",
    "\n",
    "    # Display the graph\n",
    "    plt.title('Transhipment the_network with costs and capacities')\n",
    "    plt.axis('off')\n",
    "    plt.show()\n",
    "\n",
    "\n",
    "plot_network(network=original_network, positions=pos)\n"
   ]
  },
  {
   "cell_type": "markdown",
   "id": "344385a6",
   "metadata": {},
   "source": [
    "It corresponds to the following transhipment problem:\n",
    "$$\\min_{x \\in \\R^3} 100 x_{LA,B} + 50 x_{LA,NY} + 80\n",
    "x_{NY,B}$$ subject to\n",
    "\\begin{align*}\n",
    "x_{LA,NY}+x_{LA,B}&=50, \\\\ x_{NY,B} - x_{LA,NY}&=0,\n",
    "\\\\ -x_{NY,B}-x_{LA,B}&=-50, \\\\ 0 \\leq x_{LA,NY},x_{LA,B},x_{NY,B}\n",
    "&\\leq 40.\n",
    "\\end{align*}"
   ]
  },
  {
   "cell_type": "markdown",
   "id": "576f2fe4",
   "metadata": {},
   "source": [
    "In order to obtain a formulation in standard form, we apply the procedure used in the previous exercise."
   ]
  },
  {
   "cell_type": "markdown",
   "id": "058ca4ed",
   "metadata": {},
   "source": [
    "Shifted the_network"
   ]
  },
  {
   "cell_type": "code",
   "execution_count": null,
   "id": "567bb6d7",
   "metadata": {},
   "outputs": [],
   "source": [
    "shifted_network = original_network.copy()\n",
    "\n",
    "for node, node_data in shifted_network.nodes(data=True):\n",
    "    correction = 0\n",
    "    for u, v, edge_data in shifted_network.in_edges(node, data=True):\n",
    "        correction += edge_data['lower_bound']\n",
    "    for u, v, edge_data in shifted_network.out_edges(node, data=True):\n",
    "        correction -= edge_data['lower_bound']\n",
    "    node_data['supply'] += correction\n",
    "\n",
    "for u, v, data in shifted_network.edges(data=True):\n",
    "    lower_bound = data['lower_bound']\n",
    "    upper_bound = data['upper_bound']\n",
    "    data['lower_bound'] = 0\n",
    "    data['upper_bound'] = upper_bound - lower_bound\n"
   ]
  },
  {
   "cell_type": "markdown",
   "id": "84b85fcb",
   "metadata": {},
   "source": [
    "Standard form the_network."
   ]
  },
  {
   "cell_type": "code",
   "execution_count": null,
   "id": "d471a074",
   "metadata": {},
   "outputs": [],
   "source": [
    "standard_form_network = DiGraph()\n",
    "new_pos = {}\n",
    "for node, node_data in shifted_network.nodes(data=True):\n",
    "    # For each node of the shifted the_network, we create a  node in the new the_network, with a different supply data.\n",
    "    supply = node_data['supply']\n",
    "    # For each outgoing arc, we deduce the upper bound.\n",
    "    for u, v, edge_data in shifted_network.out_edges(node, data=True):\n",
    "        supply -= edge_data['upper_bound']\n",
    "\n",
    "    standard_form_network.add_node(node, supply=supply)\n",
    "    new_pos[node] = pos[node]\n",
    "\n",
    "for u, v, edge_data in shifted_network.edges(data=True):\n",
    "    # For each arc of the shifted the_network, we create a node in the new the_network, and two arcs: one corresponding to the\n",
    "    # original arc, and one corresponding to the slack variable.\n",
    "\n",
    "    # We define the name of the new node.\n",
    "    slack_node = f'slack_{u}_{v}'\n",
    "    # The supply of the new node is the upper bound of the corresponding arc.\n",
    "    supply_new_node = edge_data['upper_bound']\n",
    "    standard_form_network.add_node(slack_node, supply=supply_new_node)\n",
    "\n",
    "    # We add an arc between the new node and the downstream node\n",
    "\n",
    "    # The lower bound is 0\n",
    "    lower_bound_down_arc = 0\n",
    "    # The upper bound is not needed anymore. We set it to $\\infty$.\n",
    "    upper_bound_down_arc = np.inf\n",
    "    # The cost of the new arc is the cost of the corresponding arc, as it plays the role of the original arc.\n",
    "    cost_down_arc = edge_data['cost']\n",
    "    standard_form_network.add_edge(\n",
    "        slack_node,\n",
    "        v,\n",
    "        cost=cost_down_arc,\n",
    "        lower_bound=lower_bound_down_arc,\n",
    "        upper_bound=upper_bound_down_arc,\n",
    "    )\n",
    "\n",
    "    # We also add an arc between the new node and the upstream node\n",
    "\n",
    "    # The lower bound is 0\n",
    "    lower_bound_up_arc = 0\n",
    "    # The upper bound is not needed anymore. We set it to $\\infty$.\n",
    "    upper_bound_up_arc = np.inf\n",
    "    # The cost of the new arc is 0, as it corresponds to the slack variable.\n",
    "    cost_up_arc = 0\n",
    "    standard_form_network.add_edge(\n",
    "        slack_node,\n",
    "        u,\n",
    "        cost=cost_up_arc,\n",
    "        lower_bound=lower_bound_up_arc,\n",
    "        upper_bound=upper_bound_up_arc,\n",
    "    )\n",
    "    # We position the new node in the middle of the corresponding arc.\n",
    "    coord_u_x, coord_u_y = pos[u]\n",
    "    coord_v_x, coord_v_y = pos[v]\n",
    "    new_pos[slack_node] = (0.5 * (coord_u_x + coord_v_x), 0.5 * (coord_u_y + coord_v_y))\n"
   ]
  },
  {
   "cell_type": "markdown",
   "id": "b0b7175e",
   "metadata": {},
   "source": [
    "We plot the new the_network."
   ]
  },
  {
   "cell_type": "code",
   "execution_count": null,
   "id": "8aa44442",
   "metadata": {},
   "outputs": [],
   "source": [
    "plot_network(network=standard_form_network, positions=new_pos)\n",
    "\n"
   ]
  },
  {
   "cell_type": "markdown",
   "id": "e1348667",
   "metadata": {},
   "source": [
    "The corresponding linear optimization problem in standard form\n",
    "is: $$\\min_{x\\in{\\mathbb{R}^6}} 100 x_{2,B} + 80 x_{3,B} + 50 x_{1,NY}$$ subject to\n",
    "\\begin{align*}\n",
    "-x_{1,LA}-x_{2,LA} &= -30,\\\\ x_{1,LA}+x_{1,NY} &=\n",
    "40,\\\\ -x_{1,NY}-x_{3,NY} &= -40,\\\\ x_{3,NY}+x_{3,B} &=\n",
    "40,\\\\ -x_{2,B}-x_{3,B} &= -50,\\\\ x_{2,LA}+x_{2,B} &=\n",
    "40,\\\\ x_{1,LA},x_{1,NY},x_{2,LA},x_{2,B},x_{3,NY},x_{3,B} & \\geq 0.\n",
    "\\end{align*}"
   ]
  },
  {
   "cell_type": "markdown",
   "id": "f42bc592",
   "metadata": {},
   "source": [
    "For the readability of the indices, we have used:\n",
    "- index 1 for slack_LA_NY\n",
    "- index 2 for slack_LA_B\n",
    "- index 3 for slack_NY_B"
   ]
  },
  {
   "cell_type": "markdown",
   "id": "f3bdc216",
   "metadata": {},
   "source": [
    "# Question 1\n",
    "Write the dual problem using the Lagrangian method."
   ]
  },
  {
   "cell_type": "markdown",
   "id": "5e8d999f",
   "metadata": {},
   "source": [
    "# Question 2\n",
    "Solve the dual using optimality conditions.  The procedure\n",
    "consists in treating all nodes of the the_network in a systematic\n",
    "way. The set of nodes that must be treated at a given iteration is\n",
    "denoted by $\\mathcal{S}$. The treatment of one node consists in\n",
    "considering all arcs incident to the node, and updating the value of\n",
    "the dual variable of the other incident node using the optimality\n",
    "conditions."
   ]
  },
  {
   "cell_type": "markdown",
   "id": "a1cc6e47",
   "metadata": {},
   "source": [
    "- Select one arbitrary node $i$, set $\\lambda_i=0$ and\n",
    "$\\mathcal{S}=\\{i\\}$.\n",
    "- If $\\mathcal{S} \\neq \\emptyset$, perform\n",
    "the following:\n",
    "\n",
    "1. Select a node $i$ in $\\mathcal{S}$.\n",
    "2. For each outgoing arc $(i, j)$, if $\\lambda_j$ is not\n",
    "defined yet, or if it violates the optimality conditions, update\n",
    "its value:\n",
    "$$\n",
    "\\text{If } \\lambda_j > \\lambda_i + c_{ij}, \\text{ then }\n",
    "\\lambda_j=\\lambda_i + c_{ij} \\text { and } \\mathcal{S} =\n",
    "\\mathcal{S} \\cup \\{ j\\}.\n",
    "$$\n",
    "3. For each ingoing arc $(j, i)$, if $\\lambda_j$ is not defined\n",
    "yet, or if it violates the optimality conditions, update its\n",
    "value:\n",
    "$$\n",
    "\\text{If } \\lambda_j < \\lambda_i - c_{ji}, \\text{ then }\n",
    "\\lambda_j=\\lambda_i - c_{ji} \\text { and } \\mathcal{S} =\n",
    "\\mathcal{S} \\cup \\{ j\\}.\n",
    "$$\n",
    "\n",
    "4. Remove $i$ from $\\mathcal{S}$ and start again."
   ]
  },
  {
   "cell_type": "markdown",
   "id": "82ea06cf",
   "metadata": {},
   "source": [
    "- If $\\mathcal{S} = \\emptyset$, stop."
   ]
  },
  {
   "cell_type": "markdown",
   "id": "6c73d58f",
   "metadata": {},
   "source": [
    "We suggest to initialize the process with node slack_LA_NY, and then process\n",
    "each node in a counter-clockwise way, that is: slack_LA_NY, NY, slack_NY_B, B, slack_LA_B, LA."
   ]
  },
  {
   "cell_type": "markdown",
   "id": "85156e7c",
   "metadata": {},
   "source": [
    "We initialize the dual variables"
   ]
  },
  {
   "cell_type": "code",
   "execution_count": null,
   "id": "36e9e127",
   "metadata": {},
   "outputs": [],
   "source": [
    "dual_variables: dict[Node, float | None] = {\n",
    "    node: None for node in standard_form_network.nodes()\n",
    "}"
   ]
  },
  {
   "cell_type": "markdown",
   "id": "43da8a76",
   "metadata": {},
   "source": [
    "We initialize the set of nodes to be treated"
   ]
  },
  {
   "cell_type": "code",
   "execution_count": null,
   "id": "817b55cb",
   "metadata": {},
   "outputs": [],
   "source": [
    "set_of_nodes_s = set()\n",
    "\n"
   ]
  },
  {
   "cell_type": "markdown",
   "id": "afe9acf8",
   "metadata": {},
   "source": [
    "We define the procedure that treats a node"
   ]
  },
  {
   "cell_type": "code",
   "execution_count": null,
   "id": "5462f8fb",
   "metadata": {},
   "outputs": [],
   "source": [
    "def treat_node(node_to_be_treated: Node) -> None:\n",
    "    \"\"\"Apply the procedure to calculate the dual variables\n",
    "    :param node_to_be_treated: self explanatory...\n",
    "    \"\"\"\n",
    "    print(f'*** Treating node {node_to_be_treated} ***')\n",
    "    # We treat each arc leaving the node and apply the optimality conditions\n",
    "    for u, v, edge_data in standard_form_network.out_edges(\n",
    "        node_to_be_treated, data=True\n",
    "    ):\n",
    "        if dual_variables[v] is None:\n",
    "            # No value has been set yet. We initialize it with the optimality condition\n",
    "            print(f'Dual variable of {v} is not defined.')\n",
    "            dual_variables[v] = ...\n",
    "\n",
    "\n",
    "            # We add the node to the set in order to treat it later.\n",
    "            set_of_nodes_s.add(v)\n",
    "        elif ...:\n",
    "\n",
    "\n",
    "            # The optimality condition is violated. We update the dual variable.\n",
    "            print(f'Optimality condition violated for edge {(u, v)}')\n",
    "            dual_variables[v] = ...\n",
    "\n",
    "\n",
    "            # We add the node to the set in order to treat it later.\n",
    "            set_of_nodes_s.add(v)\n",
    "        else:\n",
    "            # The optimality condition is verified. There is nothing to do.\n",
    "            print(f'Optimality condition verified for edge {(u, v)}')\n",
    "\n",
    "    # We treat each arc entering the node and apply the optimality conditions.\n",
    "    # Keep in mind that the role of u and v change here.\n",
    "    for u, v, edge_data in standard_form_network.in_edges(\n",
    "        node_to_be_treated, data=True\n",
    "    ):\n",
    "        if dual_variables[u] is None:\n",
    "            # No value has been set yet. We initialize it with the optimality condition\n",
    "            print(f'Dual variable of {u} is not defined.')\n",
    "            dual_variables[u] = ...\n",
    "\n",
    "\n",
    "            # We add the node to the set in order to treat it later.\n",
    "            set_of_nodes_s.add(u)\n",
    "        elif ...:\n",
    "\n",
    "\n",
    "            # The optimality condition is violated. We update the dual variable.\n",
    "            print(f'Optimality condition violated for edge {(u, v)}')\n",
    "            dual_variables[u] = ...\n",
    "\n",
    "\n",
    "            # We add the node to the set in order to treat it later.\n",
    "            set_of_nodes_s.add(u)\n",
    "        else:\n",
    "            # The optimality condition is verified. There is nothing to do.\n",
    "            print(f'Optimality condition verified for edge {(u, v)}')\n",
    "    set_of_nodes_s.remove(node_to_be_treated)\n",
    "\n"
   ]
  },
  {
   "cell_type": "markdown",
   "id": "dce750fa",
   "metadata": {},
   "source": [
    "We now apply the procedure node by node."
   ]
  },
  {
   "cell_type": "markdown",
   "id": "1334b8af",
   "metadata": {},
   "source": [
    "We start with node slack_LA_NY"
   ]
  },
  {
   "cell_type": "code",
   "execution_count": null,
   "id": "60d7bd52",
   "metadata": {},
   "outputs": [],
   "source": [
    "treated_node = 'slack_LA_NY'\n",
    "set_of_nodes_s.add(treated_node)\n",
    "dual_variables[treated_node] = 0\n"
   ]
  },
  {
   "cell_type": "markdown",
   "id": "9dcf979d",
   "metadata": {},
   "source": [
    "Dual variables"
   ]
  },
  {
   "cell_type": "code",
   "execution_count": null,
   "id": "ec9181b0",
   "metadata": {},
   "outputs": [],
   "source": [
    "print(dual_variables)\n"
   ]
  },
  {
   "cell_type": "markdown",
   "id": "0dbb9526",
   "metadata": {},
   "source": [
    "Set of nodes"
   ]
  },
  {
   "cell_type": "code",
   "execution_count": null,
   "id": "3b797939",
   "metadata": {},
   "outputs": [],
   "source": [
    "print(set_of_nodes_s)\n"
   ]
  },
  {
   "cell_type": "markdown",
   "id": "86535582",
   "metadata": {},
   "source": [
    "We treat the node"
   ]
  },
  {
   "cell_type": "code",
   "execution_count": null,
   "id": "8cce339e",
   "metadata": {},
   "outputs": [],
   "source": [
    "treat_node(node_to_be_treated=treated_node)\n"
   ]
  },
  {
   "cell_type": "markdown",
   "id": "58cd422c",
   "metadata": {},
   "source": [
    "Dual variables"
   ]
  },
  {
   "cell_type": "code",
   "execution_count": null,
   "id": "a5514853",
   "metadata": {},
   "outputs": [],
   "source": [
    "print(dual_variables)\n"
   ]
  },
  {
   "cell_type": "markdown",
   "id": "ac891583",
   "metadata": {},
   "source": [
    "Set of nodes"
   ]
  },
  {
   "cell_type": "code",
   "execution_count": null,
   "id": "b1a41134",
   "metadata": {},
   "outputs": [],
   "source": [
    "print(set_of_nodes_s)\n"
   ]
  },
  {
   "cell_type": "markdown",
   "id": "e3a4eb95",
   "metadata": {},
   "source": [
    "We now treat the node 'NY', which is in the set."
   ]
  },
  {
   "cell_type": "code",
   "execution_count": null,
   "id": "83b28295",
   "metadata": {},
   "outputs": [],
   "source": [
    "treat_node(node_to_be_treated='NY')\n"
   ]
  },
  {
   "cell_type": "markdown",
   "id": "5ed9346b",
   "metadata": {},
   "source": [
    "Dual variables"
   ]
  },
  {
   "cell_type": "code",
   "execution_count": null,
   "id": "b6d6c9e4",
   "metadata": {},
   "outputs": [],
   "source": [
    "print(dual_variables)\n"
   ]
  },
  {
   "cell_type": "markdown",
   "id": "235931df",
   "metadata": {},
   "source": [
    "Set of nodes"
   ]
  },
  {
   "cell_type": "code",
   "execution_count": null,
   "id": "4fea7876",
   "metadata": {},
   "outputs": [],
   "source": [
    "print(set_of_nodes_s)\n"
   ]
  },
  {
   "cell_type": "markdown",
   "id": "a248f0e6",
   "metadata": {},
   "source": [
    "We now treat the node 'slack_NY_B', which is in the set."
   ]
  },
  {
   "cell_type": "code",
   "execution_count": null,
   "id": "cd84ae19",
   "metadata": {},
   "outputs": [],
   "source": [
    "treat_node(node_to_be_treated='slack_NY_B')\n"
   ]
  },
  {
   "cell_type": "markdown",
   "id": "ae9585a2",
   "metadata": {},
   "source": [
    "Dual variables"
   ]
  },
  {
   "cell_type": "code",
   "execution_count": null,
   "id": "35bd0ef9",
   "metadata": {},
   "outputs": [],
   "source": [
    "print(dual_variables)\n"
   ]
  },
  {
   "cell_type": "markdown",
   "id": "12c50fa3",
   "metadata": {},
   "source": [
    "Set of nodes"
   ]
  },
  {
   "cell_type": "code",
   "execution_count": null,
   "id": "13e6d68e",
   "metadata": {},
   "outputs": [],
   "source": [
    "print(set_of_nodes_s)\n"
   ]
  },
  {
   "cell_type": "markdown",
   "id": "8ce87fda",
   "metadata": {},
   "source": [
    "We now treat the node 'B', which is in the set."
   ]
  },
  {
   "cell_type": "code",
   "execution_count": null,
   "id": "4741f507",
   "metadata": {},
   "outputs": [],
   "source": [
    "treat_node(node_to_be_treated='B')\n"
   ]
  },
  {
   "cell_type": "markdown",
   "id": "3142a7e3",
   "metadata": {},
   "source": [
    "Dual variables"
   ]
  },
  {
   "cell_type": "code",
   "execution_count": null,
   "id": "3e9d2696",
   "metadata": {},
   "outputs": [],
   "source": [
    "print(dual_variables)\n"
   ]
  },
  {
   "cell_type": "markdown",
   "id": "89c7d9e0",
   "metadata": {},
   "source": [
    "Set of nodes"
   ]
  },
  {
   "cell_type": "code",
   "execution_count": null,
   "id": "ce069fdd",
   "metadata": {},
   "outputs": [],
   "source": [
    "print(set_of_nodes_s)\n"
   ]
  },
  {
   "cell_type": "markdown",
   "id": "bf3a250b",
   "metadata": {},
   "source": [
    "We now treat the node 'slack_LA_B', which is in the set."
   ]
  },
  {
   "cell_type": "code",
   "execution_count": null,
   "id": "943d8bc2",
   "metadata": {},
   "outputs": [],
   "source": [
    "treat_node(node_to_be_treated='slack_LA_B')\n"
   ]
  },
  {
   "cell_type": "markdown",
   "id": "2547b4a4",
   "metadata": {},
   "source": [
    "Dual variables"
   ]
  },
  {
   "cell_type": "code",
   "execution_count": null,
   "id": "81fd3c8a",
   "metadata": {},
   "outputs": [],
   "source": [
    "print(dual_variables)\n"
   ]
  },
  {
   "cell_type": "markdown",
   "id": "b2910788",
   "metadata": {},
   "source": [
    "Set of nodes"
   ]
  },
  {
   "cell_type": "code",
   "execution_count": null,
   "id": "c4fb5b10",
   "metadata": {},
   "outputs": [],
   "source": [
    "print(set_of_nodes_s)\n"
   ]
  },
  {
   "cell_type": "markdown",
   "id": "e2e41f4f",
   "metadata": {},
   "source": [
    "We now treat the node 'LA', which is in the set."
   ]
  },
  {
   "cell_type": "code",
   "execution_count": null,
   "id": "772a9e28",
   "metadata": {},
   "outputs": [],
   "source": [
    "treat_node(node_to_be_treated='LA')\n"
   ]
  },
  {
   "cell_type": "markdown",
   "id": "0de4f318",
   "metadata": {},
   "source": [
    "Dual variables"
   ]
  },
  {
   "cell_type": "code",
   "execution_count": null,
   "id": "54d53a2b",
   "metadata": {},
   "outputs": [],
   "source": [
    "print(dual_variables)\n"
   ]
  },
  {
   "cell_type": "markdown",
   "id": "087cde00",
   "metadata": {},
   "source": [
    "Set of nodes"
   ]
  },
  {
   "cell_type": "code",
   "execution_count": null,
   "id": "0d740697",
   "metadata": {},
   "outputs": [],
   "source": [
    "print(set_of_nodes_s)\n",
    "\n"
   ]
  },
  {
   "cell_type": "markdown",
   "id": "ef0a23ce",
   "metadata": {},
   "source": [
    "The set is now empty. We have found the optimal values for the dual variables.\n",
    "Indeed, the optimality conditions are verified on each arc."
   ]
  },
  {
   "cell_type": "code",
   "execution_count": null,
   "id": "e50bd8b8",
   "metadata": {},
   "outputs": [],
   "source": [
    "def verify_optimality(the_dual_variables: dict[Node, float]) -> bool:\n",
    "    \"\"\"Check the optimality of the dual variables\n",
    "\n",
    "    :param the_dual_variables: dict of value for the dual variables.\n",
    "    :return: True if verified. False otherwise.\n",
    "    \"\"\"\n",
    "    for u, v, edge_data in standard_form_network.edges(data=True):\n",
    "        optimality_condition = (\n",
    "            edge_data['cost'] + the_dual_variables[u] - the_dual_variables[v]\n",
    "        )\n",
    "        print(\n",
    "            f'Arc {(u,v)}: {optimality_condition}. Verified? {optimality_condition >= 0}'\n",
    "        )\n",
    "    return optimality_condition >= 0\n",
    "\n"
   ]
  },
  {
   "cell_type": "markdown",
   "id": "5d8bcbe6",
   "metadata": {},
   "source": [
    "We check the optimality of the dual variables."
   ]
  },
  {
   "cell_type": "code",
   "execution_count": null,
   "id": "a17769e9",
   "metadata": {},
   "outputs": [],
   "source": [
    "check = verify_optimality(the_dual_variables=dual_variables)\n",
    "print(f'Are all optimality conditions verified? {check}')\n"
   ]
  },
  {
   "cell_type": "markdown",
   "id": "eef8d5c3",
   "metadata": {},
   "source": [
    "## Question 3"
   ]
  },
  {
   "cell_type": "markdown",
   "id": "e2b05b6e",
   "metadata": {},
   "source": [
    "Consider another solution for the dual variables."
   ]
  },
  {
   "cell_type": "code",
   "execution_count": null,
   "id": "143dea57",
   "metadata": {},
   "outputs": [],
   "source": [
    "other_dual_variables = {\n",
    "    'LA': 100,\n",
    "    'NY': 150,\n",
    "    'B': 230,\n",
    "    'slack_LA_B': 130,\n",
    "    'slack_LA_NY': 100,\n",
    "    'slack_NY_B': 150,\n",
    "}\n"
   ]
  },
  {
   "cell_type": "markdown",
   "id": "b5e2ccb7",
   "metadata": {},
   "source": [
    "Check if it is an optimal solution."
   ]
  },
  {
   "cell_type": "code",
   "execution_count": null,
   "id": "7d4fd6a3",
   "metadata": {},
   "outputs": [],
   "source": [
    "check = verify_optimality(the_dual_variables=other_dual_variables)\n",
    "print(f'Are all optimality conditions verified? {check}')\n",
    "\n",
    "\n",
    "\n",
    "\n"
   ]
  },
  {
   "cell_type": "markdown",
   "id": "2a2ea2b9",
   "metadata": {},
   "source": [
    "## Question 4"
   ]
  },
  {
   "cell_type": "markdown",
   "id": "b8fbe5ab",
   "metadata": {},
   "source": [
    "Use the complementarity slackness theorem and the flow conservation constraints to find the optimal flow, that is,\n",
    "the optimal values of the primal variables."
   ]
  }
 ],
 "metadata": {},
 "nbformat": 4,
 "nbformat_minor": 5
}
