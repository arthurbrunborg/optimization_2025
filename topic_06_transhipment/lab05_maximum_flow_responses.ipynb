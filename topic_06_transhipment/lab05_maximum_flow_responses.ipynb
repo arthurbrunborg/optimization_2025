{
 "cells": [
  {
   "cell_type": "markdown",
   "id": "e89a394e",
   "metadata": {},
   "source": [
    "# Transhipment: maximum flow\n",
    "\n",
    "## Introduction to optimization and operations research\n",
    "\n",
    "Michel Bierlaire\n"
   ]
  },
  {
   "cell_type": "code",
   "execution_count": null,
   "id": "318b1c21",
   "metadata": {},
   "outputs": [],
   "source": [
    "\n",
    "import sys\n",
    "\n",
    "import numpy as np\n",
    "from matplotlib import pyplot as plt\n",
    "from networkx import (\n",
    "    DiGraph,\n",
    "    draw_networkx_nodes,\n",
    "    draw_networkx_edges,\n",
    "    draw_networkx_edge_labels,\n",
    "    Graph,\n",
    "    draw_networkx_labels,\n",
    ")\n",
    "from teaching_optimization.simplex_tableau import SimplexAlgorithmTableau\n",
    "from teaching_optimization.tableau import SimplexTableau\n"
   ]
  },
  {
   "cell_type": "markdown",
   "id": "c84a30f6",
   "metadata": {},
   "source": [
    "In this lab, you will model and solve a **maximum flow** task as a special case of the\n",
    "transhipment framework and interpret the result on a real‑world‑style network. You will\n",
    "build the network with arc **capacities**, add a **dummy arc** to turn the objective into\n",
    "a circulation, write the associated **linear optimization problem**, and solve it using the\n",
    "simplex tableau implementation. Then you will verify optimality by checking flows on\n",
    "**saturated cuts** and comparing alternative optimal solutions. The goal is to connect the\n",
    "graph picture (nodes, arcs, cuts) with the algebra of a linear optimization problem and to\n",
    "understand why maximum flow can be expressed and solved within the transhipment model."
   ]
  },
  {
   "cell_type": "markdown",
   "id": "1d49cac3",
   "metadata": {},
   "source": [
    "For security\n",
    "reasons, the city council of Lausanne wants to know how many persons can get\n",
    "from the train station to the bar ``Great Escape'' during one hour.  The possible links which can be used and their\n",
    "corresponding capacity are the following:"
   ]
  },
  {
   "cell_type": "markdown",
   "id": "a3dff214",
   "metadata": {},
   "source": [
    "- Station to Metro: 1500 persons/hour.\n",
    "- Station to Place de l'Europe: 2700 persons/hour.\n",
    "- Metro to the Great Escape: 2500 persons/hour.\n",
    "- Place de l'Europe to Metro: 1800 persons/hour.\n",
    "- Place de l'Europe to Great Escape: 2200 persons/hour."
   ]
  },
  {
   "cell_type": "markdown",
   "id": "13c1af85",
   "metadata": {},
   "source": [
    "We model this as a maximum flow problem."
   ]
  },
  {
   "cell_type": "markdown",
   "id": "eb41ac83",
   "metadata": {},
   "source": [
    "# Question 1\n",
    "Code and draw the corresponding network. The network must have the cost, the upper\n",
    "and lower bounds on each arc, including the additional dummy arc used for counting the flow."
   ]
  },
  {
   "cell_type": "code",
   "execution_count": null,
   "id": "0e0c8a2f",
   "metadata": {},
   "outputs": [],
   "source": [
    "\n",
    "the_network = DiGraph()\n"
   ]
  },
  {
   "cell_type": "markdown",
   "id": "e7a7a599",
   "metadata": {},
   "source": [
    "Add nodes"
   ]
  },
  {
   "cell_type": "code",
   "execution_count": null,
   "id": "fc4d0cb1",
   "metadata": {},
   "outputs": [],
   "source": [
    "the_network.add_node('Station')\n",
    "the_network.add_node('Metro M2')\n",
    "the_network.add_node('Pl. Europe')\n",
    "the_network.add_node('Great Escape')\n"
   ]
  },
  {
   "cell_type": "markdown",
   "id": "2dba0735",
   "metadata": {},
   "source": [
    "Add arcs with cost, and capacity (lower and upper bound). Here is how to code the first arc."
   ]
  },
  {
   "cell_type": "code",
   "execution_count": null,
   "id": "09c00b4e",
   "metadata": {},
   "outputs": [],
   "source": [
    "the_network.add_edge('Station', 'Metro M2', cost=0, lower_bound=0, upper_bound=1500)"
   ]
  },
  {
   "cell_type": "markdown",
   "id": "5a64d559",
   "metadata": {},
   "source": [
    "Add the other arcs"
   ]
  },
  {
   "cell_type": "code",
   "execution_count": null,
   "id": "dcbeef2f",
   "metadata": {},
   "outputs": [],
   "source": [
    "\n",
    "the_network.add_edge(\n",
    "    'Station', 'Pl. Europe', cost=0, lower_bound=0, upper_bound=2700\n",
    ")\n",
    "the_network.add_edge(\n",
    "    'Pl. Europe', 'Metro M2', cost=0, lower_bound=0, upper_bound=1800\n",
    ")\n",
    "the_network.add_edge(\n",
    "    'Pl. Europe', 'Great Escape', cost=0, lower_bound=0, upper_bound=2200\n",
    ")\n",
    "the_network.add_edge(\n",
    "    'Metro M2', 'Great Escape', cost=0, lower_bound=0, upper_bound=2500\n",
    ")\n"
   ]
  },
  {
   "cell_type": "markdown",
   "id": "2f2cc308",
   "metadata": {},
   "source": [
    "We save the list of arcs from the original network, to draw them differently."
   ]
  },
  {
   "cell_type": "code",
   "execution_count": null,
   "id": "f271ad3a",
   "metadata": {},
   "outputs": [],
   "source": [
    "original_arcs = list(the_network.edges())\n"
   ]
  },
  {
   "cell_type": "markdown",
   "id": "130a6dfb",
   "metadata": {},
   "source": [
    "Add the dummy arc.\n",
    "Cost = -1, and infinite capacity."
   ]
  },
  {
   "cell_type": "code",
   "execution_count": null,
   "id": "fee7fd9d",
   "metadata": {},
   "outputs": [],
   "source": [
    "\n",
    "the_network.add_edge(\n",
    "    'Great Escape', 'Station', cost=-1, lower_bound=0, upper_bound=np.inf, dummy=1\n",
    ")\n",
    "\n"
   ]
  },
  {
   "cell_type": "markdown",
   "id": "90b8e233",
   "metadata": {},
   "source": [
    "Define coordinates for the plot."
   ]
  },
  {
   "cell_type": "code",
   "execution_count": null,
   "id": "b0068a7d",
   "metadata": {},
   "outputs": [],
   "source": [
    "pos = {\n",
    "    'Station': (0, 4),\n",
    "    'Metro M2': (5, 4),\n",
    "    'Pl. Europe': (3, 0),\n",
    "    'Great Escape': (8, 0),\n",
    "}\n",
    "\n"
   ]
  },
  {
   "cell_type": "markdown",
   "id": "105234b4",
   "metadata": {},
   "source": [
    "Function to plot the network."
   ]
  },
  {
   "cell_type": "code",
   "execution_count": null,
   "id": "0b94cec2",
   "metadata": {},
   "outputs": [],
   "source": [
    "def plot_network(network: Graph) -> None:\n",
    "    \"\"\"Plot the network and its data.\n",
    "\n",
    "    :param network: network to plot.\n",
    "    \"\"\"\n",
    "\n",
    "    # Figure size\n",
    "    plt.figure(figsize=(10, 10))\n",
    "\n",
    "    # Draw the nodes\n",
    "    draw_networkx_nodes(network, pos, node_size=1000, node_color='lightblue', alpha=0.5)\n",
    "\n",
    "    # Move the labels\n",
    "    shifted_positions = {\n",
    "        node: (coord[0], coord[1] - 0.2) for node, coord in pos.items()\n",
    "    }\n",
    "\n",
    "    # Draw the node labels\n",
    "    draw_networkx_labels(network, shifted_positions, font_size=12, font_weight='bold')\n",
    "\n",
    "    # Draw the arcs with labels\n",
    "    edge_labels = {}\n",
    "    for u, v, data in network.edges(data=True):\n",
    "        lower_bound = data['lower_bound']\n",
    "        upper_bound = data['upper_bound']\n",
    "        label = f'({lower_bound},{upper_bound})'\n",
    "        edge_labels[(u, v)] = label\n",
    "\n",
    "    draw_networkx_edges(\n",
    "        network, pos, edgelist=original_arcs, arrowstyle='->', arrowsize=20\n",
    "    )\n",
    "    # We draw the dummy arc differently.\n",
    "    dummy_arc = ('Great Escape', 'Station')\n",
    "    draw_networkx_edges(\n",
    "        network,\n",
    "        pos,\n",
    "        edgelist=[dummy_arc],\n",
    "        style='dotted',\n",
    "        arrowstyle='->',\n",
    "        arrowsize=20,\n",
    "    )\n",
    "    draw_networkx_edge_labels(\n",
    "        network, pos, edge_labels=edge_labels, font_size=10, label_pos=0.3\n",
    "    )\n",
    "\n",
    "    # Display the graph\n",
    "    plt.title('Maximum flow problem')\n",
    "    plt.axis('off')\n",
    "    plt.show()\n",
    "\n",
    "\n",
    "plot_network(network=the_network)\n",
    "\n"
   ]
  },
  {
   "cell_type": "markdown",
   "id": "0b18888a",
   "metadata": {},
   "source": [
    "# Question 2\n",
    "Write down the corresponding optimization problem. Remember that\n",
    "the max flow is a special case of the transhipment problem."
   ]
  },
  {
   "cell_type": "markdown",
   "id": "eca3c600",
   "metadata": {},
   "source": [
    "A transhipment problem is written:\n",
    "$$\\min_{x} \\sum_{(i,j)\\in \\mathcal{A}} c_{ij}x_{ij}$$\n",
    "subject to the conservation constraints,\n",
    "$$div(x)_i = s_i  \\quad \\forall i \\in \\mathcal{N},$$\n",
    "and the bounds on the flows:\n",
    "$$\\ell_{ij} \\leq x_{ij} \\leq u_{ij},\\;\\forall (i,j) \\in \\mathcal{A},$$\n",
    "where $\\mathcal{A}$ is the set of arcs in the network, $\\mathcal{N}$\n",
    "the set of nodes, $\\ell_{ij}$ and $u_{ij}$ the lower and upper bounds on\n",
    "the flows from node $i$ to node $j$. For the maximum flow problem,\n",
    "since the costs are 0 on all arcs except the arc returning the flow\n",
    "from the destination to the origin, the objective function is reduced\n",
    "to:\n",
    "$$\\min_{x} -x_{GE, S}.$$"
   ]
  },
  {
   "cell_type": "markdown",
   "id": "9a6eb9b2",
   "metadata": {},
   "source": [
    "The bound constraints on the arcs induce the following inequality constraints:\n",
    "\\begin{align*}\n",
    "x_{S, M2} &\\leq 1500, \\\\\n",
    "x_{S, E} &\\leq 2700, \\\\\n",
    "x_{E, M2} &\\leq 1800, \\\\\n",
    "x_{E, GE} &\\leq 2200, \\\\\n",
    "x_{M2, GE} &\\leq 2500, \\\\\n",
    "x_i &\\geq 0, \\quad\\forall i.\n",
    "\\end{align*}"
   ]
  },
  {
   "cell_type": "markdown",
   "id": "605c0b80",
   "metadata": {},
   "source": [
    "The flow conservation at each node induces the following equality constraints:\n",
    "\\begin{align*}\n",
    "-x_{GE, S} + x_{S, M2} + x_{S, E} &= 0, \\qquad \\text{(Station)}\\\\\n",
    "-x_{S, E} + x_{E, M2} + x_{E, GE} & = 0, \\qquad \\text{(Pl. Europe)}\\\\\n",
    "-x_{S, M2} - x_{E, M2} + x_{M2, GE} & = 0, \\qquad \\text{(Metro M2)}\\\\\n",
    "-x_{M2, GE} - x_{E, GE} + x_{GE, S} & = 0. \\qquad \\text{(Great Escape)}\n",
    "\\end{align*}"
   ]
  },
  {
   "cell_type": "markdown",
   "id": "28b9eadd",
   "metadata": {},
   "source": [
    "The optimization problem is therefore:\n",
    "$$\n",
    "\\min_{x\\in\\mathbb{R}^5} -x_{GE, S}\n",
    "$$\n",
    "subject to\n",
    "\\begin{align*}\n",
    "-x_{GE, S} + x_{S, M2} + x_{S, E} &= 0,\\\\\n",
    "-x_{S, E} + x_{E, M2} + x_{E, GE} & = 0,\\\\\n",
    "-x_{S, M2} - x_{E, M2} + x_{M2, GE} & = 0,\\\\\n",
    "-x_{M2, GE} - x_{E, GE} + x_{GE, S} & = 0,\\\\\n",
    "x_{S, M2} &\\leq 1500, \\\\\n",
    "x_{S, E} &\\leq 2700, \\\\\n",
    "x_{E, M2} &\\leq 1800, \\\\\n",
    "x_{E, GE} &\\leq 2200, \\\\\n",
    "x_{M2, GE} &\\leq 2500, \\\\\n",
    "x_{S,M2}, x_{S,E}, x_{E,M2}, x_{E,GE}, x_{M2,GE}  &\\geq 0.\n",
    "\\end{align*}"
   ]
  },
  {
   "cell_type": "markdown",
   "id": "fe06613d",
   "metadata": {},
   "source": [
    "# Question 3\n",
    "Solve the problem with the simplex algorithm\n",
    "A solution to this problem is the following flows:\n",
    "\n",
    "- $x_{S, M2} = 1500$,\n",
    "- $x_{S, E} = 2700$,\n",
    "- $x_{E, M2} = 500$,\n",
    "- $x_{E, GE} = 2200$,\n",
    "- $x_{M2, GE} = 2000$."
   ]
  },
  {
   "cell_type": "markdown",
   "id": "3b28f3ee",
   "metadata": {},
   "source": [
    "Another solution is\n",
    "\n",
    "- $x_{S, M2} = 1500$,\n",
    "- $x_{S, E} = 2700$,\n",
    "- $x_{E, M2} = 1000$,\n",
    "- $x_{E, GE} = 1700$,\n",
    "- $x_{M2, GE} = 2500$."
   ]
  },
  {
   "cell_type": "markdown",
   "id": "8aca7940",
   "metadata": {},
   "source": [
    "Check that they both have the same value for the objective function."
   ]
  },
  {
   "cell_type": "markdown",
   "id": "775c3f12",
   "metadata": {},
   "source": [
    "As the problem is solved by the simplex algorithm, no need to transform the network to obtain the standard form.\n",
    "Simply add slack variables like for general linear optimization problems, even if the matrix of the standard form\n",
    "problem is not the incidence matrix of a transhipment problem."
   ]
  },
  {
   "cell_type": "markdown",
   "id": "498321d8",
   "metadata": {},
   "source": [
    "The optimization problem in standard form is:\n",
    "$$\n",
    "\\min_{x\\in\\mathbb{R}^5} -x_{GE, S}\n",
    "$$\n",
    "subject to\n",
    "\\begin{align*}\n",
    "-x_{GE, S} + x_{S, M2} + x_{S, E} &= 0,\\\\\n",
    "-x_{S, E} + x_{E, M2} + x_{E, GE} & = 0,\\\\\n",
    "-x_{S, M2} - x_{E, M2} + x_{M2, GE} & = 0,\\\\\n",
    "-x_{M2, GE} - x_{E, GE} + x_{GE, S} & = 0,\\\\\n",
    "x_{S, M2} + e_{S, M2}&= 1500, \\\\\n",
    "x_{S, E} + e_{S, E} &= 2700, \\\\\n",
    "x_{E, M2}+ e_{E, M2} &= 1800, \\\\\n",
    "x_{E, GE} + e_{E, GE} &= 2200, \\\\\n",
    "x_{M2, GE} + e_{M2, GE} &= 2500, \\\\\n",
    "x_{S,M2}, x_{S,E}, x_{E,M2}, x_{E,GE}, x_{M2,GE}, x_{GE, S}  &\\geq 0, \\\\\n",
    "e_{S, M2}, e_{S, E}, e_{E, M2}, e_{E, GE}, e_{M2, GE} & \\geq 0.\n",
    "\\end{align*}"
   ]
  },
  {
   "cell_type": "markdown",
   "id": "08be7445",
   "metadata": {},
   "source": [
    "The matrix is\n",
    "\n",
    "| $x_{GE, S}$ |$x_{S,M2}$ | $x_{S,E}$ | $x_{E,M2}$ | $x_{E,GE}$ | $x_{M2,GE}$ | $e_{S, M2}$ | $e_{S, E}$ | $e_{E, M2}$ | $e_{E, GE}$ | $e_{M2, GE}$ |\n",
    "|:-----------:|:---------:|:---------:|:----------:|:----------:|:-----------:|:-----------:|:----------:|:-----------:|:-----------:|:------------:|\n",
    "|     -1      |     1     |     1     |       0    |     0      |      0      |      0      |      0     |      0      |      0      |      0       |\n",
    "|      0      |     0     |     -1    |       1    |     1      |      0      |      0      |      0     |      0      |      0      |      0       |\n",
    "|      0      |    -1     |     0     |      -1    |     0      |      1      |      0      |      0     |      0      |      0      |      0       |\n",
    "|      1      |     0     |     0     |       0    |    -1      |     -1      |      0      |      0     |      0      |      0      |      0       |\n",
    "|      0      |     1     |     0     |       0    |     0      |      0      |      1      |      0     |      0      |      0      |      0       |\n",
    "|      0      |     0     |     1     |       0    |     0      |      0      |      0      |      1     |      0      |      0      |      0       |\n",
    "|      0      |     0     |     0     |       1    |     0      |      0      |      0      |      0     |      1      |      0      |      0       |\n",
    "|      0      |     0     |     0     |       0    |     1      |      0      |      0      |      0     |      0      |      1      |      0       |\n",
    "|      0      |     0     |     0     |       0    |     0      |      1      |      0      |      0     |      0      |      0      |      1       |"
   ]
  },
  {
   "cell_type": "code",
   "execution_count": null,
   "id": "f3a8befd",
   "metadata": {},
   "outputs": [],
   "source": [
    "\n",
    "\n",
    "matrix = np.array(\n",
    "    [\n",
    "        [-1, 1, 1, 0, 0, 0, 0, 0, 0, 0, 0],\n",
    "        [0, 0, -1, 1, 1, 0, 0, 0, 0, 0, 0],\n",
    "        [0, -1, 0, -1, 0, 1, 0, 0, 0, 0, 0],\n",
    "        [1, 0, 0, 0, -1, -1, 0, 0, 0, 0, 0],\n",
    "        [0, 1, 0, 0, 0, 0, 1, 0, 0, 0, 0],\n",
    "        [0, 0, 1, 0, 0, 0, 0, 1, 0, 0, 0],\n",
    "        [0, 0, 0, 1, 0, 0, 0, 0, 1, 0, 0],\n",
    "        [0, 0, 0, 0, 1, 0, 0, 0, 0, 1, 0],\n",
    "        [0, 0, 0, 0, 0, 1, 0, 0, 0, 0, 1],\n",
    "    ]\n",
    ")\n",
    "print(matrix)\n",
    "\n"
   ]
  },
  {
   "cell_type": "markdown",
   "id": "60991c58",
   "metadata": {},
   "source": [
    "The cost vector $c$.\n",
    "It combines the actual cost for the flow (non zero only for the dummy arc, actually), and zeros for the slack\n",
    "variables."
   ]
  },
  {
   "cell_type": "code",
   "execution_count": null,
   "id": "05f88c63",
   "metadata": {},
   "outputs": [],
   "source": [
    "vector_c = np.array([-1, 0, 0, 0, 0, 0, 0, 0, 0, 0, 0])\n",
    "\n"
   ]
  },
  {
   "cell_type": "markdown",
   "id": "118f936d",
   "metadata": {},
   "source": [
    "The right-hand-side $b$.\n",
    "First: a zero for each node, in order to impose a circulation.\n",
    "Second: the upper bound on each original arc."
   ]
  },
  {
   "cell_type": "code",
   "execution_count": null,
   "id": "843c39c8",
   "metadata": {},
   "outputs": [],
   "source": [
    "vector_b = np.array([0, 0, 0, 0, 1500, 2700, 1800, 2200, 2500])\n"
   ]
  },
  {
   "cell_type": "markdown",
   "id": "85f10424",
   "metadata": {},
   "source": [
    "We create the algorithm"
   ]
  },
  {
   "cell_type": "code",
   "execution_count": null,
   "id": "c6b0361c",
   "metadata": {},
   "outputs": [],
   "source": [
    "the_algorithm = SimplexAlgorithmTableau(\n",
    "    objective=vector_c,\n",
    "    constraint_matrix=matrix,\n",
    "    right_hand_side=vector_b,\n",
    ")\n"
   ]
  },
  {
   "cell_type": "markdown",
   "id": "cec2d7aa",
   "metadata": {},
   "source": [
    "We solve the problem"
   ]
  },
  {
   "cell_type": "code",
   "execution_count": null,
   "id": "bab05ff2",
   "metadata": {},
   "outputs": [],
   "source": [
    "optimal_tableau: SimplexTableau = the_algorithm.solve()\n"
   ]
  },
  {
   "cell_type": "markdown",
   "id": "7c1b84d7",
   "metadata": {},
   "source": [
    "Check if the problem is feasible"
   ]
  },
  {
   "cell_type": "code",
   "execution_count": null,
   "id": "88bf7921",
   "metadata": {},
   "outputs": [],
   "source": [
    "if optimal_tableau is None:\n",
    "    print(f'Optimization problem is infeasible.')\n",
    "    sys.exit()\n"
   ]
  },
  {
   "cell_type": "markdown",
   "id": "3c19a943",
   "metadata": {},
   "source": [
    "Optimal solution"
   ]
  },
  {
   "cell_type": "code",
   "execution_count": null,
   "id": "b4b242af",
   "metadata": {},
   "outputs": [],
   "source": [
    "print(optimal_tableau.feasible_basic_solution)\n"
   ]
  },
  {
   "cell_type": "markdown",
   "id": "a84060df",
   "metadata": {},
   "source": [
    "Interpretation in terms of arc flows:"
   ]
  },
  {
   "cell_type": "code",
   "execution_count": null,
   "id": "682a8947",
   "metadata": {},
   "outputs": [],
   "source": [
    "flow_ge_s = optimal_tableau.feasible_basic_solution[0]\n",
    "print(f'GE -> S: {flow_ge_s}')\n",
    "\n",
    "flow_s_m2 = optimal_tableau.feasible_basic_solution[1]\n",
    "print(f'S -> M2: {flow_s_m2}')\n",
    "\n",
    "flow_s_e = optimal_tableau.feasible_basic_solution[2]\n",
    "print(f'S -> E : {flow_s_e}')\n",
    "\n",
    "flow_e_m2 = optimal_tableau.feasible_basic_solution[3]\n",
    "print(f'E ->M2 : {flow_e_m2}')\n",
    "\n",
    "flow_e_ge = optimal_tableau.feasible_basic_solution[4]\n",
    "print(f'E ->GE : {flow_e_ge}')\n",
    "\n",
    "flow_m2_ge = optimal_tableau.feasible_basic_solution[5]\n",
    "print(f'M2 ->GE: {flow_m2_ge}')\n",
    "\n"
   ]
  },
  {
   "cell_type": "markdown",
   "id": "1354f0a2",
   "metadata": {},
   "source": [
    "Optimal value"
   ]
  },
  {
   "cell_type": "code",
   "execution_count": null,
   "id": "719644fa",
   "metadata": {},
   "outputs": [],
   "source": [
    "print(f'{optimal_tableau.value_objective_function}')\n"
   ]
  },
  {
   "cell_type": "markdown",
   "id": "be7fb3fd",
   "metadata": {},
   "source": [
    "What is the total flow through the network?\n",
    "We need to change the sign, as we solved a minimization problem."
   ]
  },
  {
   "cell_type": "code",
   "execution_count": null,
   "id": "969e6577",
   "metadata": {},
   "outputs": [],
   "source": [
    "total_flow = -optimal_tableau.value_objective_function\n",
    "print(f'Total flow through the network: {total_flow}')\n",
    "\n"
   ]
  },
  {
   "cell_type": "markdown",
   "id": "38dbba56",
   "metadata": {},
   "source": [
    "# Question 4\n",
    "Identify a saturated cut in the original graph, that does not involve\n",
    "the dummy arc."
   ]
  },
  {
   "cell_type": "markdown",
   "id": "ace55250",
   "metadata": {},
   "source": [
    "A saturated cut is a cut where all arcs are saturated, hence a\n",
    "saturated cut is a cut where the flow is equal to the capacity of\n",
    "the cut. The cut $\\Gamma = ( \\mathcal{M} , \\mathcal{N}\n",
    "\\setminus \\mathcal{M})$, where $\\mathcal{M}= \\{\\text{Station} \\}$ is\n",
    "a saturated cut. Indeed, the two arcs connecting a node from\n",
    "$\\mathcal{M}$ with a node from  $\\mathcal{N}\n",
    "\\setminus \\mathcal{M}$ are saturated."
   ]
  }
 ],
 "metadata": {},
 "nbformat": 4,
 "nbformat_minor": 5
}
