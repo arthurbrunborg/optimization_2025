{
 "cells": [
  {
   "cell_type": "markdown",
   "id": "ebd972da",
   "metadata": {},
   "source": [
    "# Transhipment: transportation\n",
    "\n",
    "## Introduction to optimization and operations research\n",
    "\n",
    "Michel Bierlaire\n"
   ]
  },
  {
   "cell_type": "code",
   "execution_count": null,
   "id": "22efbb85",
   "metadata": {},
   "outputs": [],
   "source": [
    "\n",
    "import numpy as np\n",
    "from matplotlib import pyplot as plt\n",
    "from networkx import (\n",
    "    DiGraph,\n",
    "    get_node_attributes,\n",
    "    draw_networkx_nodes,\n",
    "    draw_networkx_labels,\n",
    "    draw_networkx_edges,\n",
    "    draw_networkx_edge_labels,\n",
    ")\n",
    "from teaching_optimization.simplex_tableau import SimplexAlgorithmTableau\n",
    "from teaching_optimization.tableau import SimplexTableau\n"
   ]
  },
  {
   "cell_type": "markdown",
   "id": "1a414c81",
   "metadata": {},
   "source": [
    "In this lab, you will model a **transportation** problem as a special case of the transhipment framework.\n",
    "You will define nodes (mines and factories) with supplies/demands, create arcs with non-negative flows and\n",
    "per-ton costs, draw the network, and formulate the associated **linear optimization problem** (objective,\n",
    "flow conservation, and bounds). Then you will assemble the data in matrix form (A, b, c) and solve it with\n",
    "the simplex tableau, interpreting the basic solution as shipments on arcs and the objective as total cost.\n",
    "The motivation is to connect a real-world logistics table to a network model and to see how such questions\n",
    "naturally translate into a linear optimization problem that a solver can handle efficiently."
   ]
  },
  {
   "cell_type": "markdown",
   "id": "15a87ecc",
   "metadata": {},
   "source": [
    "There are about 45000 Tesla Model S produced per year, that need\n",
    "batteries.  30000 come from the Gigafactory factory in the Nevada, and\n",
    "15000 from the Gigafactory in Shanghai. Each battery requires 63kg of\n",
    "lithium. Consequently, the company purchases 2835 tons of lithium per\n",
    "year: 1927 tons from mines in Australia, 605 tons from Chili and 303\n",
    "tons from China.\n",
    "\n",
    "The transportation costs from the mining sites to the factories are\n",
    "reported in the following table:\n",
    "\n",
    "|             | Australia   |  Chile      |   China     |\n",
    "|:-----------:|:-----------:|:-----------:|:-----------:|\n",
    "| Nevada      |      8      |      6      |       7     |\n",
    "| Shanghai    |      4      |      12     |       1     |"
   ]
  },
  {
   "cell_type": "markdown",
   "id": "4e383656",
   "metadata": {},
   "source": [
    "How should the transportation be organized to supply the factories at\n",
    "minimum cost?"
   ]
  },
  {
   "cell_type": "markdown",
   "id": "22f6c8e4",
   "metadata": {},
   "source": [
    "- Model the problem as a transhipment problem,\n",
    "- draw the corresponding network, and\n",
    "- solve the optimization problem using the simplex algorithm."
   ]
  },
  {
   "cell_type": "markdown",
   "id": "4daff9e9",
   "metadata": {},
   "source": [
    "Create the directed graph"
   ]
  },
  {
   "cell_type": "code",
   "execution_count": null,
   "id": "6891c1b7",
   "metadata": {},
   "outputs": [],
   "source": [
    "the_network = DiGraph()\n"
   ]
  },
  {
   "cell_type": "markdown",
   "id": "55ad772e",
   "metadata": {},
   "source": [
    "Add nodes with data"
   ]
  },
  {
   "cell_type": "code",
   "execution_count": null,
   "id": "76c92799",
   "metadata": {},
   "outputs": [],
   "source": [
    "supply_australia = ...\n",
    "the_network.add_node('Australia', supply=supply_australia)\n",
    "supply_chile = ...\n",
    "the_network.add_node('Chile', supply=supply_chile)\n",
    "supply_china = ...\n",
    "the_network.add_node('China', supply=supply_china)\n",
    "supply_nevada = ...\n",
    "the_network.add_node('Nevada', supply=supply_nevada)\n",
    "supply_shanghai = ...\n",
    "the_network.add_node('Shanghai', supply=supply_shanghai)\n",
    "\n"
   ]
  },
  {
   "cell_type": "markdown",
   "id": "f63a20e1",
   "metadata": {},
   "source": [
    "Add arcs with data"
   ]
  },
  {
   "cell_type": "code",
   "execution_count": null,
   "id": "c4f3a054",
   "metadata": {},
   "outputs": [],
   "source": [
    "...\n",
    "\n",
    "\n",
    "\n",
    "\n",
    "\n"
   ]
  },
  {
   "cell_type": "markdown",
   "id": "390b2f0e",
   "metadata": {},
   "source": [
    "Define positions for each node"
   ]
  },
  {
   "cell_type": "code",
   "execution_count": null,
   "id": "ef0a81a3",
   "metadata": {},
   "outputs": [],
   "source": [
    "pos = {\n",
    "    'Australia': (1, 0),\n",
    "    'Chile': (1, -5),\n",
    "    'China': (1, -10),\n",
    "    'Nevada': (10, -2.5),\n",
    "    'Shanghai': (10, -7.5),\n",
    "}\n"
   ]
  },
  {
   "cell_type": "markdown",
   "id": "38037692",
   "metadata": {},
   "source": [
    "Draw the nodes with labels (including supply data)"
   ]
  },
  {
   "cell_type": "code",
   "execution_count": null,
   "id": "791021aa",
   "metadata": {},
   "outputs": [],
   "source": [
    "node_labels = {\n",
    "    node: f\"{node}\\nSupply: {data['supply']}\"\n",
    "    for node, data in the_network.nodes(data=True)\n",
    "}\n",
    "\n"
   ]
  },
  {
   "cell_type": "markdown",
   "id": "cf4e9931",
   "metadata": {},
   "source": [
    "Draw the arcs with labels (including cost data)"
   ]
  },
  {
   "cell_type": "code",
   "execution_count": null,
   "id": "8423496c",
   "metadata": {},
   "outputs": [],
   "source": [
    "edge_labels = {(u, v): f\"Cost: {d['cost']}\" for u, v, d in the_network.edges(data=True)}\n",
    "\n"
   ]
  },
  {
   "cell_type": "markdown",
   "id": "8c372385",
   "metadata": {},
   "source": [
    "Display the graph"
   ]
  },
  {
   "cell_type": "code",
   "execution_count": null,
   "id": "d6af00d5",
   "metadata": {},
   "outputs": [],
   "source": [
    "draw_networkx_nodes(\n",
    "    the_network,\n",
    "    pos,\n",
    "    node_size=3000,\n",
    "    node_color='lightblue',\n",
    "    edgecolors='black',\n",
    "    alpha=0.5,\n",
    ")\n",
    "draw_networkx_labels(the_network, pos, labels=node_labels, font_size=8)\n",
    "draw_networkx_edges(the_network, pos, edgelist=the_network.edges(), arrows=True)\n",
    "draw_networkx_edge_labels(\n",
    "    the_network, pos, edge_labels=edge_labels, font_size=8, label_pos=0.3\n",
    ")\n",
    "plt.show()\n"
   ]
  },
  {
   "cell_type": "markdown",
   "id": "457216d2",
   "metadata": {},
   "source": [
    "Solve now the problem with the simplex algorithm."
   ]
  },
  {
   "cell_type": "code",
   "execution_count": null,
   "id": "e119a8ea",
   "metadata": {},
   "outputs": [],
   "source": [
    "matrix_a = ...\n",
    "\n",
    "\n",
    "\n",
    "\n",
    "\n",
    "\n",
    "\n",
    "\n"
   ]
  },
  {
   "cell_type": "code",
   "execution_count": null,
   "id": "1f8a119a",
   "metadata": {},
   "outputs": [],
   "source": [
    "vector_b = ...\n"
   ]
  },
  {
   "cell_type": "code",
   "execution_count": null,
   "id": "216f316d",
   "metadata": {},
   "outputs": [],
   "source": [
    "vector_c = ...\n"
   ]
  },
  {
   "cell_type": "markdown",
   "id": "927574c0",
   "metadata": {},
   "source": [
    "We create the algorithm"
   ]
  },
  {
   "cell_type": "code",
   "execution_count": null,
   "id": "e9f7d092",
   "metadata": {},
   "outputs": [],
   "source": [
    "the_algorithm = SimplexAlgorithmTableau(\n",
    "    objective=vector_c,\n",
    "    constraint_matrix=matrix_a,\n",
    "    right_hand_side=vector_b,\n",
    ")\n"
   ]
  },
  {
   "cell_type": "markdown",
   "id": "6d8c80f5",
   "metadata": {},
   "source": [
    "We solve the problem"
   ]
  },
  {
   "cell_type": "code",
   "execution_count": null,
   "id": "a3f0419d",
   "metadata": {},
   "outputs": [],
   "source": [
    "optimal_tableau: SimplexTableau = the_algorithm.solve()\n"
   ]
  },
  {
   "cell_type": "markdown",
   "id": "eb7c928a",
   "metadata": {},
   "source": [
    "Check if the problem is feasible"
   ]
  },
  {
   "cell_type": "code",
   "execution_count": null,
   "id": "27b6839a",
   "metadata": {},
   "outputs": [],
   "source": [
    "if optimal_tableau is None:\n",
    "    print(f'Optimization problem is infeasible.')\n",
    "    sys.exit()\n"
   ]
  },
  {
   "cell_type": "markdown",
   "id": "4f6c5c9b",
   "metadata": {},
   "source": [
    "Optimal solution"
   ]
  },
  {
   "cell_type": "code",
   "execution_count": null,
   "id": "e9a7218e",
   "metadata": {},
   "outputs": [],
   "source": [
    "print(optimal_tableau.feasible_basic_solution)\n"
   ]
  },
  {
   "cell_type": "markdown",
   "id": "14b14907",
   "metadata": {},
   "source": [
    "Interpretation in terms of arc flows:"
   ]
  },
  {
   "cell_type": "code",
   "execution_count": null,
   "id": "bcf47b70",
   "metadata": {},
   "outputs": [],
   "source": [
    "fflow_a_n =  ...\n",
    "print(f'Australia -> Nevada: {flow_a_n}')\n",
    "\n",
    "flow_a_s = ...\n",
    "print(f'Australia -> Shanghai: {flow_a_s}')\n",
    "\n",
    "fflow_l_n =  ...\n",
    "print(f'Chile -> Nevada: {flow_l_n}')\n",
    "\n",
    "flow_l_s = ...\n",
    "print(f'Chile -> Shanghai: {flow_l_s}')\n",
    "\n",
    "fflow_c_n =  ...\n",
    "print(f'China -> Nevada: {flow_c_n}')\n",
    "\n",
    "flow_c_s = ...\n",
    "print(f'China -> Shanghai: {flow_c_s}')\n"
   ]
  },
  {
   "cell_type": "markdown",
   "id": "2d138c59",
   "metadata": {},
   "source": [
    "Optimal value"
   ]
  },
  {
   "cell_type": "code",
   "execution_count": null,
   "id": "0ff637ac",
   "metadata": {},
   "outputs": [],
   "source": [
    "print(f'{optimal_tableau.value_objective_function}')"
   ]
  }
 ],
 "metadata": {},
 "nbformat": 4,
 "nbformat_minor": 5
}
