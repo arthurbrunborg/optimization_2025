{
 "cells": [
  {
   "cell_type": "markdown",
   "id": "ad9908c4",
   "metadata": {},
   "source": [
    "# Transhipment: transportation\n",
    "\n",
    "## Introduction to optimization and operations research\n",
    "\n",
    "Michel Bierlaire\n"
   ]
  },
  {
   "cell_type": "code",
   "execution_count": null,
   "id": "554fee53",
   "metadata": {},
   "outputs": [],
   "source": [
    "\n",
    "import numpy as np\n",
    "from matplotlib import pyplot as plt\n",
    "from networkx import (\n",
    "    DiGraph,\n",
    "    get_node_attributes,\n",
    "    draw_networkx_nodes,\n",
    "    draw_networkx_labels,\n",
    "    draw_networkx_edges,\n",
    "    draw_networkx_edge_labels,\n",
    ")\n",
    "from teaching_optimization.simplex_tableau import SimplexAlgorithmTableau\n",
    "from teaching_optimization.tableau import SimplexTableau\n"
   ]
  },
  {
   "cell_type": "markdown",
   "id": "067fe6ac",
   "metadata": {},
   "source": [
    "In this lab, you will model a **transportation** problem as a special case of the transhipment framework.\n",
    "You will define nodes (mines and factories) with supplies/demands, create arcs with non-negative flows and\n",
    "per-ton costs, draw the network, and formulate the associated **linear optimization problem** (objective,\n",
    "flow conservation, and bounds). Then you will assemble the data in matrix form (A, b, c) and solve it with\n",
    "the simplex tableau, interpreting the basic solution as shipments on arcs and the objective as total cost.\n",
    "The motivation is to connect a real-world logistics table to a network model and to see how such questions\n",
    "naturally translate into a linear optimization problem that a solver can handle efficiently."
   ]
  },
  {
   "cell_type": "markdown",
   "id": "e309f6d6",
   "metadata": {},
   "source": [
    "There are about 45000 Tesla Model S produced per year, that need\n",
    "batteries.  30000 come from the Gigafactory factory in the Nevada, and\n",
    "15000 from the Gigafactory in Shanghai. Each battery requires 63kg of\n",
    "lithium. Consequently, the company purchases 2835 tons of lithium per\n",
    "year: 1927 tons from mines in Australia, 605 tons from Chili and 303\n",
    "tons from China.\n",
    "\n",
    "The transportation costs from the mining sites to the factories are\n",
    "reported in the following table:\n",
    "\n",
    "|             | Australia   |  Chile      |   China     |\n",
    "|:-----------:|:-----------:|:-----------:|:-----------:|\n",
    "| Nevada      |      8      |      6      |       7     |\n",
    "| Shanghai    |      4      |      12     |       1     |"
   ]
  },
  {
   "cell_type": "markdown",
   "id": "7b8a8017",
   "metadata": {},
   "source": [
    "How should the transportation be organized to supply the factories at\n",
    "minimum cost?"
   ]
  },
  {
   "cell_type": "markdown",
   "id": "daf89d30",
   "metadata": {},
   "source": [
    "- Model the problem as a transhipment problem,\n",
    "- draw the corresponding network, and\n",
    "- solve the optimization problem using the simplex algorithm."
   ]
  },
  {
   "cell_type": "markdown",
   "id": "a0675498",
   "metadata": {},
   "source": [
    "The problem is not associated with a physical network. Still, we\n",
    "define a network in the following way. We define a node for each\n",
    "factory, represented on the right side of the network below, and a\n",
    "node for each mine, represented on the left side."
   ]
  },
  {
   "cell_type": "markdown",
   "id": "f24dac8f",
   "metadata": {},
   "source": [
    "We introduce an arc between each pair of mine and factory. For\n",
    "example, the arc from Australia to Nevada means that the Australian\n",
    "mine is providing lithium to the Nevada factory.  The cost associated\n",
    "with each arc is the transportation price per ton."
   ]
  },
  {
   "cell_type": "markdown",
   "id": "15674389",
   "metadata": {},
   "source": [
    "\n",
    "A transhipment problem is written\n",
    "$$\n",
    "\\min_{x \\in \\mathbb{R}^n} \\sum_{(i,j)\\in \\mathcal{A}}c_{ij} x_{ij}.\n",
    "$$\n",
    "subject to the flow conservation constraints,\n",
    "$$\n",
    "\\operatorname{div}(x)_i = s_i \\; \\forall i \\in \\mathcal{N},\n",
    "$$\n",
    "and the bounds on the flows:\n",
    "$$\n",
    "\\ell_{ij} \\leq x_{ij} \\leq u_{ij}, \\; \\forall (i,j) \\in \\mathcal{A}.\n",
    "$$"
   ]
  },
  {
   "cell_type": "markdown",
   "id": "b466088e",
   "metadata": {},
   "source": [
    "In our case,"
   ]
  },
  {
   "cell_type": "markdown",
   "id": "df96e25c",
   "metadata": {},
   "source": [
    "- $\\mathcal{N}$ is the set of nodes: Australia (A), Chile (L),\n",
    "China (C), Nevada (N), Shanghai (S).\n",
    "- $\\mathcal{A}$ is the set of possible transactions, that is any\n",
    "pair mine, factory.\n",
    "- Costs: $c_{ij}$, $\\forall (i,j) \\in \\mathcal{A}$ corresponding\n",
    "to transportation prices per ton, as reported in the problem\n",
    "description.\n",
    "- Supply: For each mine, the supply in tons is provided in the\n",
    "problem description: 1927 for Australia, 605 for Chile and 303 for\n",
    "China. The demand in lithium for Nevada is $30000 \\cdot 0.063 =\n",
    "1890$ tons. For Shanghai, it is $15000 \\cdot 0.063 = 945$ tons of\n",
    "lithium. For each factory, the supply is the demand with the\n",
    "opposite sign, that is -1890 for Nevada, -945 for Shanghai.\n",
    "- Bounds: As the transactions can only occur in one direction, we\n",
    "impose $x_{ij} \\geq 0$, $\\forall (i,j) \\in \\mathcal{A}$. No upper\n",
    "bound is necessary."
   ]
  },
  {
   "cell_type": "markdown",
   "id": "87b53784",
   "metadata": {},
   "source": [
    "The transhipment problem is\n",
    "$$\n",
    "\\min_{x\\in\\mathbb{R}^6} 8 x_{AN} + 4 x_{AS} + 6 x_{LN} + 12 x_{LS} + 7 x_{CN}+\n",
    "x_{CS},\n",
    "$$\n",
    "subject to\n",
    "\\begin{align*}\n",
    "x_{AN} + x_{AS} &= 1927, \\\\ x_{LN} + x_{LS} &= 605, \\\\ x_{CN} +\n",
    "x_{CS} &= 303, \\\\ -x_{AN} - x_{LN} - x_{CN} &= -1890, \\\\ - x_{AS} -\n",
    "x_{LS} - x_{CS} &= -945, \\\\ x_{ij} &\\geq 0,& \\forall (i,j) \\in\n",
    "\\mathcal{A}.\n",
    "\\end{align*}"
   ]
  },
  {
   "cell_type": "markdown",
   "id": "2ac69249",
   "metadata": {},
   "source": [
    "Create the directed graph"
   ]
  },
  {
   "cell_type": "code",
   "execution_count": null,
   "id": "a04d53c4",
   "metadata": {},
   "outputs": [],
   "source": [
    "the_network = DiGraph()\n"
   ]
  },
  {
   "cell_type": "markdown",
   "id": "08a7deaa",
   "metadata": {},
   "source": [
    "Add nodes with data"
   ]
  },
  {
   "cell_type": "code",
   "execution_count": null,
   "id": "063ea267",
   "metadata": {},
   "outputs": [],
   "source": [
    "supply_australia = 1927\n",
    "the_network.add_node('Australia', supply=supply_australia)\n",
    "supply_chile = 605\n",
    "the_network.add_node('Chile', supply=supply_chile)\n",
    "supply_china = 303\n",
    "the_network.add_node('China', supply=supply_china)\n",
    "supply_nevada = -1890\n",
    "the_network.add_node('Nevada', supply=supply_nevada)\n",
    "supply_shanghai = -945\n",
    "the_network.add_node('Shanghai', supply=supply_shanghai)\n",
    "\n"
   ]
  },
  {
   "cell_type": "markdown",
   "id": "3c8f98b2",
   "metadata": {},
   "source": [
    "Add arcs with data"
   ]
  },
  {
   "cell_type": "code",
   "execution_count": null,
   "id": "a0fb09e8",
   "metadata": {},
   "outputs": [],
   "source": [
    "the_network.add_edge('Australia', 'Nevada', cost=8)\n",
    "the_network.add_edge('Australia', 'Shanghai', cost=4)\n",
    "the_network.add_edge('Chile', 'Nevada', cost=6)\n",
    "the_network.add_edge('Chile', 'Shanghai', cost=12)\n",
    "the_network.add_edge('China', 'Nevada', cost=7)\n",
    "the_network.add_edge('China', 'Shanghai', cost=1)\n"
   ]
  },
  {
   "cell_type": "markdown",
   "id": "17cd46b5",
   "metadata": {},
   "source": [
    "Define positions for each node"
   ]
  },
  {
   "cell_type": "code",
   "execution_count": null,
   "id": "ac8eac0a",
   "metadata": {},
   "outputs": [],
   "source": [
    "pos = {\n",
    "    'Australia': (1, 0),\n",
    "    'Chile': (1, -5),\n",
    "    'China': (1, -10),\n",
    "    'Nevada': (10, -2.5),\n",
    "    'Shanghai': (10, -7.5),\n",
    "}\n"
   ]
  },
  {
   "cell_type": "markdown",
   "id": "beecd983",
   "metadata": {},
   "source": [
    "Draw the nodes with labels (including supply data)"
   ]
  },
  {
   "cell_type": "code",
   "execution_count": null,
   "id": "e2b55e5c",
   "metadata": {},
   "outputs": [],
   "source": [
    "node_labels = {\n",
    "    node: f\"{node}\\nSupply: {data['supply']}\"\n",
    "    for node, data in the_network.nodes(data=True)\n",
    "}\n",
    "\n"
   ]
  },
  {
   "cell_type": "markdown",
   "id": "66a08cd5",
   "metadata": {},
   "source": [
    "Draw the arcs with labels (including cost data)"
   ]
  },
  {
   "cell_type": "code",
   "execution_count": null,
   "id": "24dbdcf0",
   "metadata": {},
   "outputs": [],
   "source": [
    "edge_labels = {(u, v): f\"Cost: {d['cost']}\" for u, v, d in the_network.edges(data=True)}\n",
    "\n"
   ]
  },
  {
   "cell_type": "markdown",
   "id": "a09ff0b5",
   "metadata": {},
   "source": [
    "Display the graph"
   ]
  },
  {
   "cell_type": "code",
   "execution_count": null,
   "id": "f92b1086",
   "metadata": {},
   "outputs": [],
   "source": [
    "draw_networkx_nodes(\n",
    "    the_network,\n",
    "    pos,\n",
    "    node_size=3000,\n",
    "    node_color='lightblue',\n",
    "    edgecolors='black',\n",
    "    alpha=0.5,\n",
    ")\n",
    "draw_networkx_labels(the_network, pos, labels=node_labels, font_size=8)\n",
    "draw_networkx_edges(the_network, pos, edgelist=the_network.edges(), arrows=True)\n",
    "draw_networkx_edge_labels(\n",
    "    the_network, pos, edge_labels=edge_labels, font_size=8, label_pos=0.3\n",
    ")\n",
    "plt.show()\n"
   ]
  },
  {
   "cell_type": "markdown",
   "id": "672bc3d8",
   "metadata": {},
   "source": [
    "Solve now the problem with the simplex algorithm."
   ]
  },
  {
   "cell_type": "markdown",
   "id": "6869d165",
   "metadata": {},
   "source": [
    "In order to solve the problem with the simplex algorithm let's first modify it such that the right-hand\n",
    "side contains\n",
    "only non negative values by multiplying the corresponding constraints by $-1$ (it is not strictly\n",
    "necessary, as the\n",
    "algorithm can take care of it automatically).  If we do\n",
    "so, and number the variables in the following way:"
   ]
  },
  {
   "cell_type": "markdown",
   "id": "7156cbee",
   "metadata": {},
   "source": [
    "$$\\begin{align*}\n",
    "x_1 &= x_{AN}, & x_2 &= x_{AS}, \\\\ x_3 &= x_{LN}, & x_4 &= x_{LS},\n",
    "\\\\ x_5 &= x_{CN}, & x_6 &= x_{CS},\n",
    "\\end{align*}$$\n",
    "we obtain the following data:"
   ]
  },
  {
   "cell_type": "markdown",
   "id": "8db58ae8",
   "metadata": {},
   "source": [
    "$$ A= \\begin{pmatrix*} 1 & 1 & 0 & 0 & 0 & 0 \\\\ 0 & 0 & 1 & 1 & 0 & 0\n",
    "\\\\ 0 & 0 & 0 & 0 & 1 & 1 \\\\ 1 & 0 & 1 & 0 & 1 & 0 \\\\ 0 & 1 & 0 & 1 &\n",
    "0 & 1,\n",
    "\\end{pmatrix*}$$\n",
    "$$b= \\left(\\begin{array}{c} 1927 \\\\ 605 \\\\ 303 \\\\ 1890 \\\\ 945 \\end{array}\\right) $$"
   ]
  },
  {
   "cell_type": "markdown",
   "id": "568ede39",
   "metadata": {},
   "source": [
    "and"
   ]
  },
  {
   "cell_type": "markdown",
   "id": "fe439fdb",
   "metadata": {},
   "source": [
    "$$c^T = \\begin{pmatrix} 8 & 4 & 6 & 12 & 7 & 1 \\end{pmatrix}.$$"
   ]
  },
  {
   "cell_type": "code",
   "execution_count": null,
   "id": "5811e004",
   "metadata": {},
   "outputs": [],
   "source": [
    "matrix_a = np.array(\n",
    "    [\n",
    "        [1, 1, 0, 0, 0, 0],\n",
    "        [0, 0, 1, 1, 0, 0],\n",
    "        [0, 0, 0, 0, 1, 1],\n",
    "        [1, 0, 1, 0, 1, 0],\n",
    "        [0, 1, 0, 1, 0, 1],\n",
    "    ]\n",
    ")\n"
   ]
  },
  {
   "cell_type": "code",
   "execution_count": null,
   "id": "43aacb17",
   "metadata": {},
   "outputs": [],
   "source": [
    "vector_b = np.array([1927, 605, 303, 1890, 945])\n"
   ]
  },
  {
   "cell_type": "code",
   "execution_count": null,
   "id": "e937afc3",
   "metadata": {},
   "outputs": [],
   "source": [
    "vector_c = np.array([8, 4, 6, 12, 7, 1])\n"
   ]
  },
  {
   "cell_type": "markdown",
   "id": "8fd4a132",
   "metadata": {},
   "source": [
    "We create the algorithm"
   ]
  },
  {
   "cell_type": "code",
   "execution_count": null,
   "id": "b6ad7630",
   "metadata": {},
   "outputs": [],
   "source": [
    "the_algorithm = SimplexAlgorithmTableau(\n",
    "    objective=vector_c,\n",
    "    constraint_matrix=matrix_a,\n",
    "    right_hand_side=vector_b,\n",
    ")\n"
   ]
  },
  {
   "cell_type": "markdown",
   "id": "5f09cff8",
   "metadata": {},
   "source": [
    "We solve the problem"
   ]
  },
  {
   "cell_type": "code",
   "execution_count": null,
   "id": "d9e72e27",
   "metadata": {},
   "outputs": [],
   "source": [
    "optimal_tableau: SimplexTableau = the_algorithm.solve()\n"
   ]
  },
  {
   "cell_type": "markdown",
   "id": "0cbb3bbc",
   "metadata": {},
   "source": [
    "Check if the problem is feasible"
   ]
  },
  {
   "cell_type": "code",
   "execution_count": null,
   "id": "1f393035",
   "metadata": {},
   "outputs": [],
   "source": [
    "if optimal_tableau is None:\n",
    "    print(f'Optimization problem is infeasible.')\n",
    "    sys.exit()\n"
   ]
  },
  {
   "cell_type": "markdown",
   "id": "5a094c9f",
   "metadata": {},
   "source": [
    "Optimal solution"
   ]
  },
  {
   "cell_type": "code",
   "execution_count": null,
   "id": "5d236fc0",
   "metadata": {},
   "outputs": [],
   "source": [
    "print(optimal_tableau.feasible_basic_solution)\n"
   ]
  },
  {
   "cell_type": "markdown",
   "id": "c13ad0a2",
   "metadata": {},
   "source": [
    "Interpretation in terms of arc flows:"
   ]
  },
  {
   "cell_type": "code",
   "execution_count": null,
   "id": "c41c39c6",
   "metadata": {},
   "outputs": [],
   "source": [
    "flow_a_n = optimal_tableau.feasible_basic_solution[0]\n",
    "print(f'Australia -> Nevada: {flow_a_n}')\n",
    "\n",
    "flow_a_s = optimal_tableau.feasible_basic_solution[1]\n",
    "print(f'Australia -> Shanghai: {flow_a_s}')\n",
    "\n",
    "flow_l_n = optimal_tableau.feasible_basic_solution[2]\n",
    "print(f'Chile -> Nevada: {flow_l_n}')\n",
    "\n",
    "flow_l_s = optimal_tableau.feasible_basic_solution[3]\n",
    "print(f'Chile -> Shanghai: {flow_l_s}')\n",
    "\n",
    "flow_c_n = optimal_tableau.feasible_basic_solution[4]\n",
    "print(f'China -> Nevada: {flow_c_n}')\n",
    "\n",
    "flow_c_s = optimal_tableau.feasible_basic_solution[5]\n",
    "print(f'China -> Shanghai: {flow_c_s}')\n"
   ]
  },
  {
   "cell_type": "markdown",
   "id": "7fdae353",
   "metadata": {},
   "source": [
    "Optimal value"
   ]
  },
  {
   "cell_type": "code",
   "execution_count": null,
   "id": "92ef5fdf",
   "metadata": {},
   "outputs": [],
   "source": [
    "print(f'{optimal_tableau.value_objective_function}')"
   ]
  }
 ],
 "metadata": {},
 "nbformat": 4,
 "nbformat_minor": 5
}
