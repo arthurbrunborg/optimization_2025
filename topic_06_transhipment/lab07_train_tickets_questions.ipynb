{
 "cells": [
  {
   "cell_type": "markdown",
   "id": "6ed3fcbb",
   "metadata": {},
   "source": [
    "# Transhipment: modeling\n",
    "\n",
    "## Introduction to optimization and operations research\n",
    "\n",
    "Michel Bierlaire\n"
   ]
  },
  {
   "cell_type": "code",
   "execution_count": null,
   "id": "41d6e841",
   "metadata": {},
   "outputs": [],
   "source": [
    "\n",
    "from matplotlib import pyplot as plt\n",
    "from networkx import (\n",
    "    draw_networkx_nodes,\n",
    "    draw_networkx_labels,\n",
    "    draw_networkx_edges,\n",
    "    draw_networkx_edge_labels,\n",
    "    DiGraph,\n",
    ")\n"
   ]
  },
  {
   "cell_type": "markdown",
   "id": "17a35ae3",
   "metadata": {},
   "source": [
    "In this lab, you will model a small **assignment** decision as a special case of the\n",
    "transhipment framework and interpret it on a simple network. You will define nodes\n",
    "for travelers (supplies) and tickets (demands), create arcs with **transaction costs**,\n",
    "and formulate the associated **linear optimization problem** with flow conservation and\n",
    "nonnegativity. You will draw the network, write the objective and constraints, and then\n",
    "justify the **optimal assignment** (by enumeration or via duality/optimality arguments).\n",
    "The motivation is to see how everyday allocation problems naturally become a linear\n",
    "optimization problem on a network, where costs, supplies, and demands make the solution\n",
    "transparent and verifiable."
   ]
  },
  {
   "cell_type": "markdown",
   "id": "71f7c88f",
   "metadata": {},
   "source": [
    "François, 24, and Aria, 26, are traveling from Lausanne to Paris. There\n",
    "are only two seats available in the TGV: one first class ticket at\n",
    "92 euros and one second class ticket at 68 euros, discounted to\n",
    "49 euros if the traveler is 25 or younger. In order to minimize the\n",
    "total costs, it makes sense for François to take the second class\n",
    "ticket and for Aria the first class ticket.\n",
    "\n",
    "- Model the problem  as a transhipment problem, and draw the corresponding network.\n",
    "- To which instance of the transhipment problem seen in class does this problem correspond?\n",
    "- Prove that the proposed solution is indeed optimal."
   ]
  },
  {
   "cell_type": "markdown",
   "id": "484730e6",
   "metadata": {},
   "source": [
    "# Question 1: Model the problem  as a transhipment problem, and draw the corresponding network.\n",
    "Create the directed graph"
   ]
  },
  {
   "cell_type": "code",
   "execution_count": null,
   "id": "e686bff7",
   "metadata": {},
   "outputs": [],
   "source": [
    "the_network = DiGraph()\n"
   ]
  },
  {
   "cell_type": "markdown",
   "id": "3a0b1175",
   "metadata": {},
   "source": [
    "Add nodes with data"
   ]
  },
  {
   "cell_type": "code",
   "execution_count": null,
   "id": "e1a19f5f",
   "metadata": {},
   "outputs": [],
   "source": [
    "supply_francois = ...\n",
    "the_network.add_node('François', supply=supply_francois)\n",
    "supply_aria = ...\n",
    "the_network.add_node('Aria', supply=supply_aria)\n",
    "supply_first = ...\n",
    "the_network.add_node('First', supply=supply_first)\n",
    "supply_second = ...\n",
    "the_network.add_node('Second', supply=supply_second)\n",
    "\n"
   ]
  },
  {
   "cell_type": "markdown",
   "id": "1140d1b4",
   "metadata": {},
   "source": [
    "Add arcs with data"
   ]
  },
  {
   "cell_type": "code",
   "execution_count": null,
   "id": "1376dcd0",
   "metadata": {},
   "outputs": [],
   "source": [
    "...\n",
    "\n",
    "\n",
    "\n"
   ]
  },
  {
   "cell_type": "markdown",
   "id": "e7963677",
   "metadata": {},
   "source": [
    "Define positions for each node"
   ]
  },
  {
   "cell_type": "code",
   "execution_count": null,
   "id": "25c4cb14",
   "metadata": {},
   "outputs": [],
   "source": [
    "pos = {\n",
    "    'François': (1, 0),\n",
    "    'Aria': (1, -3),\n",
    "    'First': (5, 0),\n",
    "    'Second': (5, -3),\n",
    "}\n"
   ]
  },
  {
   "cell_type": "markdown",
   "id": "c82e955e",
   "metadata": {},
   "source": [
    "Draw the nodes with labels (including supply data)"
   ]
  },
  {
   "cell_type": "code",
   "execution_count": null,
   "id": "c6be242d",
   "metadata": {},
   "outputs": [],
   "source": [
    "node_labels = {\n",
    "    node: f\"{node}\\nSupply: {data['supply']}\"\n",
    "    for node, data in the_network.nodes(data=True)\n",
    "}\n",
    "\n"
   ]
  },
  {
   "cell_type": "markdown",
   "id": "f77ecc73",
   "metadata": {},
   "source": [
    "Draw the arcs with labels (including cost data)"
   ]
  },
  {
   "cell_type": "code",
   "execution_count": null,
   "id": "61e10e2c",
   "metadata": {},
   "outputs": [],
   "source": [
    "edge_labels = {(u, v): f\"Cost: {d['cost']}\" for u, v, d in the_network.edges(data=True)}\n",
    "\n"
   ]
  },
  {
   "cell_type": "markdown",
   "id": "e848fb49",
   "metadata": {},
   "source": [
    "Display the graph"
   ]
  },
  {
   "cell_type": "code",
   "execution_count": null,
   "id": "a79dcf59",
   "metadata": {},
   "outputs": [],
   "source": [
    "draw_networkx_nodes(\n",
    "    the_network,\n",
    "    pos,\n",
    "    node_size=3000,\n",
    "    node_color='lightblue',\n",
    "    edgecolors='black',\n",
    "    alpha=0.5,\n",
    ")\n",
    "draw_networkx_labels(the_network, pos, labels=node_labels, font_size=8)\n",
    "draw_networkx_edges(the_network, pos, edgelist=the_network.edges(), arrows=True)\n",
    "draw_networkx_edge_labels(\n",
    "    the_network, pos, edge_labels=edge_labels, font_size=8, label_pos=0.3\n",
    ")\n",
    "plt.show()\n"
   ]
  },
  {
   "cell_type": "markdown",
   "id": "515cd4cb",
   "metadata": {},
   "source": [
    "# Question 2: to which instance of the transhipment problem seen in class does this problem correspond?"
   ]
  },
  {
   "cell_type": "markdown",
   "id": "7adbd688",
   "metadata": {},
   "source": [
    "# Question 3: Prove that the proposed solution is indeed optimal."
   ]
  }
 ],
 "metadata": {},
 "nbformat": 4,
 "nbformat_minor": 5
}
