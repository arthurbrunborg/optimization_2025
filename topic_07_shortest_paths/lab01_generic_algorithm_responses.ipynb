{
 "cells": [
  {
   "cell_type": "markdown",
   "id": "3e12d9ae",
   "metadata": {},
   "source": [
    "# The generic shortest path algorithm.\n",
    "\n",
    "## Introduction to optimization and operations research.\n",
    "\n",
    "Michel Bierlaire\n"
   ]
  },
  {
   "cell_type": "code",
   "execution_count": null,
   "id": "c667742b",
   "metadata": {},
   "outputs": [],
   "source": [
    "\n",
    "from typing import Any\n",
    "\n",
    "import numpy as np\n",
    "import pandas as pd\n",
    "from IPython.core.display_functions import display\n",
    "from matplotlib import pyplot as plt\n",
    "from networkx import DiGraph, set_node_attributes\n",
    "from teaching_optimization.networks import draw_network\n",
    "from teaching_optimization.networks.shortest_path_algorithm import (\n",
    "    ShortestPathAlgorithm,\n",
    ")\n"
   ]
  },
  {
   "cell_type": "markdown",
   "id": "245ba84d",
   "metadata": {},
   "source": [
    "In this lab, you will implement and apply a **generic shortest path algorithm**.\n",
    "You will learn how to inspect a directed network, access node and arc attributes,\n",
    "and iteratively update **labels** and **predecessors** to discover shortest paths\n",
    "from an origin to all other nodes. You will also detect **negative‑cost cycles**\n",
    "(which imply unboundedness) using a simple lower bound on labels, record each\n",
    "iteration for debugging, and reconstruct the **shortest‑path tree** from the\n",
    "predecessor map."
   ]
  },
  {
   "cell_type": "markdown",
   "id": "c7003f21",
   "metadata": {},
   "source": [
    "# Some useful functions"
   ]
  },
  {
   "cell_type": "markdown",
   "id": "7814d658",
   "metadata": {},
   "source": [
    "Before implementing the algorithm, we investigate some useful functions of the network representation\n",
    "and illustrate them on an example."
   ]
  },
  {
   "cell_type": "markdown",
   "id": "29edcdbf",
   "metadata": {},
   "source": [
    "We define a first network example."
   ]
  },
  {
   "cell_type": "code",
   "execution_count": null,
   "id": "6b015e84",
   "metadata": {},
   "outputs": [],
   "source": [
    "positions = {\n",
    "    'a': (0, 0),\n",
    "    'b': (2, 1.5),\n",
    "    'c': (2, -1.5),\n",
    "    'd': (4, 1.5),\n",
    "    'e': (4, -1.5),\n",
    "    'f': (6, 0),\n",
    "}\n",
    "\n",
    "nodes = list(positions.keys())\n",
    "\n",
    "arcs = [\n",
    "    ('a', 'b', -1),\n",
    "    ('a', 'c', 3),\n",
    "    ('b', 'd', 7),\n",
    "    ('b', 'e', 5),\n",
    "    ('c', 'b', -9),\n",
    "    ('e', 'c', -7),\n",
    "    ('d', 'e', 4),\n",
    "    ('d', 'f', 3),\n",
    "    ('e', 'f', -2),\n",
    "]\n",
    "\n",
    "first_network: DiGraph = DiGraph()\n",
    "for node in nodes:\n",
    "    first_network.add_node(node, pos=positions[node])\n",
    "first_network.add_weighted_edges_from(arcs, weight='cost')\n",
    "fig, ax = plt.subplots(figsize=(8, 6))\n",
    "draw_network(the_network=first_network, attr_edge_labels='cost', ax=ax)\n",
    "plt.show()\n"
   ]
  },
  {
   "cell_type": "markdown",
   "id": "a1b1e256",
   "metadata": {},
   "source": [
    "Here is how to obtain the list of arcs and associated data (here, the cost)."
   ]
  },
  {
   "cell_type": "code",
   "execution_count": null,
   "id": "e11becd4",
   "metadata": {},
   "outputs": [],
   "source": [
    "first_arcs = first_network.edges(data=True)\n",
    "for arc in first_arcs:\n",
    "    print(arc)\n"
   ]
  },
  {
   "cell_type": "markdown",
   "id": "174d49ba",
   "metadata": {},
   "source": [
    "It means that, in order to access the information about an arc, you need to perform the\n",
    "following statements."
   ]
  },
  {
   "cell_type": "code",
   "execution_count": null,
   "id": "52e2b84b",
   "metadata": {},
   "outputs": [],
   "source": [
    "\n",
    "for arc in first_arcs:\n",
    "    # For the upstream node\n",
    "    upstream_node_arc = arc[0]\n",
    "    # For the downstream node\n",
    "    downstream_node_arc = arc[1]\n",
    "    # For the cost\n",
    "    cost_arc = arc[2]['cost']\n",
    "    print(f'Cost {upstream_node_arc} -> {downstream_node_arc} = {cost_arc}')\n"
   ]
  },
  {
   "cell_type": "markdown",
   "id": "ed7f0a46",
   "metadata": {},
   "source": [
    "Here is how to obtain the list of nodes and associated data (here, the position)."
   ]
  },
  {
   "cell_type": "code",
   "execution_count": null,
   "id": "c9c2efe3",
   "metadata": {},
   "outputs": [],
   "source": [
    "first_nodes = first_network.nodes(data=True)\n",
    "for node in first_nodes:\n",
    "    print(node)\n"
   ]
  },
  {
   "cell_type": "markdown",
   "id": "35214fb3",
   "metadata": {},
   "source": [
    "The data is accessed as follows."
   ]
  },
  {
   "cell_type": "code",
   "execution_count": null,
   "id": "e464e5bf",
   "metadata": {},
   "outputs": [],
   "source": [
    "for node in first_nodes:\n",
    "    node_name = node[0]\n",
    "    node_position = node[1]['pos']\n",
    "    print(f'Coordinates of {node_name}: {node_position}')\n"
   ]
  },
  {
   "cell_type": "markdown",
   "id": "65bedbed",
   "metadata": {},
   "source": [
    "Given a node, we can obtain the list of outgoing arcs."
   ]
  },
  {
   "cell_type": "markdown",
   "id": "d8163b87",
   "metadata": {},
   "source": [
    "From node 'a'"
   ]
  },
  {
   "cell_type": "code",
   "execution_count": null,
   "id": "febba9d5",
   "metadata": {},
   "outputs": [],
   "source": [
    "outgoing_arcs_from_a = first_network.out_edges('a', data=True)\n",
    "for arc in outgoing_arcs_from_a:\n",
    "    print(arc)\n"
   ]
  },
  {
   "cell_type": "markdown",
   "id": "d77b5a31",
   "metadata": {},
   "source": [
    "From node 'd'"
   ]
  },
  {
   "cell_type": "code",
   "execution_count": null,
   "id": "5708688d",
   "metadata": {},
   "outputs": [],
   "source": [
    "outgoing_arcs_from_d = first_network.out_edges('d', data=True)\n",
    "for arc in outgoing_arcs_from_d:\n",
    "    print(arc)\n",
    "\n"
   ]
  },
  {
   "cell_type": "markdown",
   "id": "2a4bec19",
   "metadata": {},
   "source": [
    "# Shortest path algorithm"
   ]
  },
  {
   "cell_type": "markdown",
   "id": "d6100619",
   "metadata": {},
   "source": [
    "Now we implement the shortest path algorithm. Replace the `...`"
   ]
  },
  {
   "cell_type": "code",
   "execution_count": null,
   "id": "b4dde5d6",
   "metadata": {},
   "outputs": [],
   "source": [
    "\n",
    "\n",
    "def shortest_path_algorithm(\n",
    "    the_network: DiGraph, the_cost: str, the_origin: Any\n",
    ") -> tuple[dict[Any:float] | None, dict[Any, Any | None] | None, pd.DataFrame]:\n",
    "    \"\"\"\n",
    "\n",
    "    :param the_network: network representation\n",
    "    :param the_cost: name of the cost parameter\n",
    "    :param the_origin: node at the origin.\n",
    "    :return:a dict associated each node with their optimal label (or None if problem is unbounded), a dict associating\n",
    "        each node with its predecessor in the shortest path (or None if the problem is unbounded)\n",
    "        and a data frame describing the iterations\n",
    "    \"\"\"\n",
    "\n",
    "    # Initialize the labels and the predecessors\n",
    "    labels = {name: np.inf for name in the_network.nodes}\n",
    "    labels[the_origin] = 0\n",
    "    predecessors = {name: None for name in the_network.nodes}\n",
    "    the_arcs = the_network.edges(data=True)\n",
    "    # Identify the lowest cost in order to establish a lower bound on the labels. This is used to detect if the\n",
    "    # problem is unbounded because the network contains cycles with negative cost.\n",
    "    arc_with_lowest_cost = min(the_arcs, key=lambda x: x[2][the_cost])\n",
    "    lowest_cost = arc_with_lowest_cost[2][the_cost]\n",
    "    lower_bound = (the_network.number_of_edges() - 1) * lowest_cost\n",
    "\n",
    "    # Initialize the set of nodes to be treated\n",
    "    nodes_to_be_treated = {the_origin}\n",
    "\n",
    "    iteration_number = 0\n",
    "\n",
    "    reporting_iteration: list[dict[str:Any]] = list()\n",
    "\n",
    "    # Loop until the set of nodes is empty.\n",
    "    while nodes_to_be_treated:\n",
    "        row = {\n",
    "            'Iteration': iteration_number,\n",
    "            'Set': str(nodes_to_be_treated),\n",
    "        }\n",
    "        # Select the node to be treated during this iteration\n",
    "        current_node = nodes_to_be_treated.pop()\n",
    "        row['Node'] = current_node\n",
    "        for node, label in labels.items():\n",
    "            row[node] = label\n",
    "        reporting_iteration.append(row)\n",
    "        # Consider the list of outgoing arc\n",
    "        outgoing_arcs = the_network.out_edges(\n",
    "            current_node, data=True\n",
    "        )\n",
    "        for arc in outgoing_arcs:\n",
    "            upstream_node = arc[0]\n",
    "            downstream_node = arc[1]\n",
    "            cost = arc[2][the_cost]\n",
    "            # Check if the label must be updated\n",
    "            if (\n",
    "                labels[downstream_node] > labels[upstream_node] + cost\n",
    "            ):\n",
    "                # Update the label\n",
    "                labels[downstream_node] = (\n",
    "                    labels[upstream_node] + cost\n",
    "                )\n",
    "                # Update the predecessor\n",
    "                predecessors[\n",
    "                    downstream_node\n",
    "                ] = upstream_node\n",
    "                # Check for a cycle with negative cost\n",
    "                if (\n",
    "                    labels[downstream_node] < 0\n",
    "                    and labels[downstream_node] < lower_bound\n",
    "                ):\n",
    "                    print('The network contains a cycle with negative cost.')\n",
    "                    return None, None, pd.DataFrame(reporting_iteration)\n",
    "                # Update the set of nodes to be treated\n",
    "                nodes_to_be_treated.add(\n",
    "                    downstream_node\n",
    "                )\n",
    "        iteration_number += 1\n",
    "\n",
    "    row = {'Iteration': iteration_number, 'Set': '{}', 'Node': ''}\n",
    "    for node, label in labels.items():\n",
    "        row[node] = label\n",
    "    reporting_iteration.append(row)\n",
    "    return labels, predecessors, pd.DataFrame(reporting_iteration)\n",
    "\n"
   ]
  },
  {
   "cell_type": "markdown",
   "id": "ad982dab",
   "metadata": {},
   "source": [
    "# First example\n",
    "We run the algorithm on the example above."
   ]
  },
  {
   "cell_type": "code",
   "execution_count": null,
   "id": "79d54918",
   "metadata": {},
   "outputs": [],
   "source": [
    "optimal_labels, predecessors, iterations = shortest_path_algorithm(\n",
    "    the_network=first_network, the_cost='cost', the_origin='a'\n",
    ")\n"
   ]
  },
  {
   "cell_type": "markdown",
   "id": "679c21f2",
   "metadata": {},
   "source": [
    "Optimal labels\n",
    "If None, it means that the network contains a cycle with negative cost.\n",
    "It is the case with this example."
   ]
  },
  {
   "cell_type": "code",
   "execution_count": null,
   "id": "b8e11049",
   "metadata": {},
   "outputs": [],
   "source": [
    "display(optimal_labels)\n"
   ]
  },
  {
   "cell_type": "markdown",
   "id": "4b5f48aa",
   "metadata": {},
   "source": [
    "Description of the iterations"
   ]
  },
  {
   "cell_type": "code",
   "execution_count": null,
   "id": "35f591a5",
   "metadata": {},
   "outputs": [],
   "source": [
    "display(iterations)\n"
   ]
  },
  {
   "cell_type": "markdown",
   "id": "d2d6dca5",
   "metadata": {},
   "source": [
    "# Second example"
   ]
  },
  {
   "cell_type": "code",
   "execution_count": null,
   "id": "8252e3d9",
   "metadata": {},
   "outputs": [],
   "source": [
    "positions = {\n",
    "    'a': (0, 1),\n",
    "    'b': (1, 2),\n",
    "    'c': (1, 0),\n",
    "    'd': (2, 2),\n",
    "    'e': (3, 1),\n",
    "    'f': (2, 0),\n",
    "    'g': (4, 2),\n",
    "    'h': (4, 0),\n",
    "    'i': (5, 1),\n",
    "}\n",
    "\n",
    "nodes = list(positions.keys())\n",
    "\n",
    "arcs = [\n",
    "    ('a', 'b', 10),\n",
    "    ('a', 'c', 12),\n",
    "    ('b', 'd', -12),\n",
    "    ('b', 'f', 4),\n",
    "    ('c', 'd', 7),\n",
    "    ('c', 'b', 8),\n",
    "    ('c', 'f', 6),\n",
    "    ('d', 'g', 16),\n",
    "    ('d', 'e', -3),\n",
    "    ('f', 'd', 7),\n",
    "    ('e', 'g', 7),\n",
    "    ('e', 'i', -1),\n",
    "    ('e', 'h', 6),\n",
    "    ('e', 'f', -4),\n",
    "    ('f', 'h', 15),\n",
    "    ('g', 'i', 8),\n",
    "    ('h', 'i', 5),\n",
    "]\n",
    "\n"
   ]
  },
  {
   "cell_type": "markdown",
   "id": "3592c58e",
   "metadata": {},
   "source": [
    "We plot the network"
   ]
  },
  {
   "cell_type": "code",
   "execution_count": null,
   "id": "7ceba26c",
   "metadata": {},
   "outputs": [],
   "source": [
    "second_network: DiGraph = DiGraph()\n",
    "for node in nodes:\n",
    "    second_network.add_node(node, pos=positions[node])\n",
    "second_network.add_weighted_edges_from(arcs, weight='cost')\n",
    "fig, ax = plt.subplots(figsize=(8, 6))\n",
    "draw_network(the_network=second_network, attr_edge_labels='cost', ax=ax)\n",
    "plt.show()\n"
   ]
  },
  {
   "cell_type": "code",
   "execution_count": null,
   "id": "b7004427",
   "metadata": {},
   "outputs": [],
   "source": [
    "optimal_labels, predecessors, iterations = shortest_path_algorithm(\n",
    "    the_network=second_network, the_cost='cost', the_origin='a'\n",
    ")\n"
   ]
  },
  {
   "cell_type": "markdown",
   "id": "51a956d4",
   "metadata": {},
   "source": [
    "Optimal labels\n",
    "If None, it means that the network contains a cycle with negative cost."
   ]
  },
  {
   "cell_type": "code",
   "execution_count": null,
   "id": "ee352d83",
   "metadata": {},
   "outputs": [],
   "source": [
    "display(optimal_labels)\n"
   ]
  },
  {
   "cell_type": "markdown",
   "id": "5c047ad6",
   "metadata": {},
   "source": [
    "Predecessors"
   ]
  },
  {
   "cell_type": "code",
   "execution_count": null,
   "id": "749d3f3b",
   "metadata": {},
   "outputs": [],
   "source": [
    "display(predecessors)\n"
   ]
  },
  {
   "cell_type": "markdown",
   "id": "464dbab1",
   "metadata": {},
   "source": [
    "We add the optimal labels as attributes of the nodes"
   ]
  },
  {
   "cell_type": "code",
   "execution_count": null,
   "id": "e14346ba",
   "metadata": {},
   "outputs": [],
   "source": [
    "if optimal_labels is not None:\n",
    "    set_node_attributes(second_network, optimal_labels, 'label')\n"
   ]
  },
  {
   "cell_type": "markdown",
   "id": "3be48caa",
   "metadata": {},
   "source": [
    "Description of the iterations"
   ]
  },
  {
   "cell_type": "code",
   "execution_count": null,
   "id": "3ca36cb0",
   "metadata": {},
   "outputs": [],
   "source": [
    "display(iterations)\n",
    "\n"
   ]
  },
  {
   "cell_type": "markdown",
   "id": "c4ea81c6",
   "metadata": {},
   "source": [
    "We now write a recursive function to identify the shortest paths"
   ]
  },
  {
   "cell_type": "code",
   "execution_count": null,
   "id": "5d4dd5cf",
   "metadata": {},
   "outputs": [],
   "source": [
    "def shortest_path(node: Any, the_predecessors: dict[Any, Any | None]) -> str:\n",
    "    \"\"\"Print the shortest path to a given node, recursively\"\"\"\n",
    "\n",
    "    # First case: if there is  no predecessor, it means that the path is the node itself.\n",
    "    if the_predecessors[node] is None:\n",
    "        return str(node)\n",
    "\n",
    "    # If there is a predecessor, with merge the path to the predecessor with the current node.\n",
    "    return f'{shortest_path(node=the_predecessors[node], the_predecessors=the_predecessors)} -> {str(node)}'\n",
    "\n"
   ]
  },
  {
   "cell_type": "markdown",
   "id": "75a95790",
   "metadata": {},
   "source": [
    "Print the shortest paths"
   ]
  },
  {
   "cell_type": "code",
   "execution_count": null,
   "id": "4f9b09de",
   "metadata": {},
   "outputs": [],
   "source": [
    "for node in second_network.nodes:\n",
    "    print(shortest_path(node=node, the_predecessors=predecessors))\n"
   ]
  },
  {
   "cell_type": "markdown",
   "id": "49d354a9",
   "metadata": {},
   "source": [
    "We create and plot the shortest path graph"
   ]
  },
  {
   "cell_type": "code",
   "execution_count": null,
   "id": "13611af9",
   "metadata": {},
   "outputs": [],
   "source": [
    "shortest_path_arcs = [\n",
    "    (upstream, downstream)\n",
    "    for downstream, upstream in predecessors.items()\n",
    "    if upstream is not None\n",
    "]\n",
    "\n",
    "shortest_path_tree: DiGraph = DiGraph()\n",
    "for node in nodes:\n",
    "    shortest_path_tree.add_node(node, pos=positions[node])\n",
    "shortest_path_tree.add_edges_from(shortest_path_arcs)\n",
    "fig, ax = plt.subplots(figsize=(8, 6))\n",
    "draw_network(the_network=shortest_path_tree, ax=ax)\n",
    "plt.show()\n"
   ]
  },
  {
   "cell_type": "markdown",
   "id": "6d945479",
   "metadata": {},
   "source": [
    "For future exercises, it is possible to perform the same tasks using the package."
   ]
  },
  {
   "cell_type": "markdown",
   "id": "6c6a9892",
   "metadata": {},
   "source": [
    "Initialization"
   ]
  },
  {
   "cell_type": "code",
   "execution_count": null,
   "id": "74293ab3",
   "metadata": {},
   "outputs": [],
   "source": [
    "the_algorithm = ShortestPathAlgorithm(\n",
    "    the_network=second_network, the_cost_name='cost', the_origin='a'\n",
    ")\n"
   ]
  },
  {
   "cell_type": "markdown",
   "id": "9be13a99",
   "metadata": {},
   "source": [
    "Running the algorithm"
   ]
  },
  {
   "cell_type": "code",
   "execution_count": null,
   "id": "7231a782",
   "metadata": {},
   "outputs": [],
   "source": [
    "the_algorithm.shortest_path_algorithm()\n"
   ]
  },
  {
   "cell_type": "markdown",
   "id": "dc5d1696",
   "metadata": {},
   "source": [
    "Printing the shortest paths"
   ]
  },
  {
   "cell_type": "code",
   "execution_count": null,
   "id": "5c9a2405",
   "metadata": {},
   "outputs": [],
   "source": [
    "the_shortest_paths = the_algorithm.list_of_shortest_paths()\n"
   ]
  },
  {
   "cell_type": "markdown",
   "id": "53649bf4",
   "metadata": {},
   "source": [
    "Plotting the results"
   ]
  },
  {
   "cell_type": "code",
   "execution_count": null,
   "id": "0f4a83c8",
   "metadata": {},
   "outputs": [],
   "source": [
    "the_algorithm.plot_shortest_path_tree()"
   ]
  }
 ],
 "metadata": {},
 "nbformat": 4,
 "nbformat_minor": 5
}
