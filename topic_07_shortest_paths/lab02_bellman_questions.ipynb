{
 "cells": [
  {
   "cell_type": "markdown",
   "id": "e56826d1",
   "metadata": {},
   "source": [
    "# The Bellman subnetwork\n",
    "\n",
    "## Introduction to optimization and operations research.\n",
    "\n",
    "Michel Bierlaire\n"
   ]
  },
  {
   "cell_type": "code",
   "execution_count": null,
   "id": "28e03ed4",
   "metadata": {},
   "outputs": [],
   "source": [
    "\n",
    "import itertools\n",
    "from typing import Any\n",
    "\n",
    "import numpy as np\n",
    "from IPython.core.display_functions import display\n",
    "from matplotlib import pyplot as plt\n",
    "from networkx import DiGraph\n",
    "from teaching_optimization.networks import draw_network\n",
    "from teaching_optimization.networks.shortest_path_algorithm import ShortestPathAlgorithm\n"
   ]
  },
  {
   "cell_type": "markdown",
   "id": "cdf8dc51",
   "metadata": {},
   "source": [
    "In this lab, you will construct **Bellman subnetworks** from the optimal labels produced by the\n",
    "shortest path algorithm and visualize how they relate to the **shortest path tree**.\n",
    "For each node (except the origin), you will select incoming arcs that satisfy Bellman’s equation\n",
    "λ_j = min_{(i,j)} (λ_i + c_ij), enumerate all valid combinations, and plot the resulting subnetworks.\n",
    "When every cycle has strictly positive cost, each Bellman subnetwork forms a **tree**; if a zero-cost\n",
    "cycle exists, some subnetworks may contain cycles—an important edge case to recognize.\n",
    "The goal is to connect the **dynamic programming** view (labels and Bellman’s equation) with the\n",
    "**graph view** (trees, arcs, and cycles), and to build intuition about ties in shortest paths and the\n",
    "robustness of solutions across multiple equally optimal predecessors."
   ]
  },
  {
   "cell_type": "markdown",
   "id": "2e31931c",
   "metadata": {},
   "source": [
    "Bellman's equation is defined as\n",
    "\n",
    "$$\\lambda_j = \\min_{(i,j)\\in \\mathcal{A}} (\\lambda_i + c_{ij}).$$"
   ]
  },
  {
   "cell_type": "markdown",
   "id": "47bc8afb",
   "metadata": {},
   "source": [
    "Bellman's subnetwork consists in selecting for each node except the origin one arc that verifies\n",
    "Bellman's equation."
   ]
  },
  {
   "cell_type": "markdown",
   "id": "753b3ab8",
   "metadata": {},
   "source": [
    "If every cycle in the network has positive length, that is, if there is no cycle of cost zero, each\n",
    "Bellman subnetwork is a tree called the *shortest path tree*.\n",
    "We will try below to enumerate all Bellman subnetworks."
   ]
  },
  {
   "cell_type": "code",
   "execution_count": null,
   "id": "c7fe68e3",
   "metadata": {},
   "outputs": [],
   "source": [
    "\n",
    "positions = {\n",
    "    'a': (0, 0),\n",
    "    'b': (2, 1.5),\n",
    "    'c': (2, -1.5),\n",
    "    'd': (4, 0),\n",
    "}\n",
    "\n",
    "nodes = list(positions.keys())\n",
    "\n",
    "arcs = [\n",
    "    ('a', 'b', 1),\n",
    "    ('a', 'c', 1),\n",
    "    ('b', 'd', 1),\n",
    "    ('c', 'd', 1),\n",
    "    ('b', 'c', 0),\n",
    "]\n",
    "\n",
    "first_network: DiGraph = DiGraph()\n",
    "for node in nodes:\n",
    "    first_network.add_node(node, pos=positions[node])\n",
    "first_network.add_weighted_edges_from(arcs, weight='cost')\n",
    "fig, ax = plt.subplots(figsize=(8, 6))\n",
    "draw_network(the_network=first_network, attr_edge_labels='cost', ax=ax)\n",
    "plt.show()\n"
   ]
  },
  {
   "cell_type": "markdown",
   "id": "3f2c81c1",
   "metadata": {},
   "source": [
    "We first solve the shortest path problem."
   ]
  },
  {
   "cell_type": "markdown",
   "id": "6724f05d",
   "metadata": {},
   "source": [
    "Initialization"
   ]
  },
  {
   "cell_type": "code",
   "execution_count": null,
   "id": "3b839310",
   "metadata": {},
   "outputs": [],
   "source": [
    "the_algorithm = ShortestPathAlgorithm(\n",
    "    the_network=first_network, the_cost_name='cost', the_origin='a'\n",
    ")\n"
   ]
  },
  {
   "cell_type": "markdown",
   "id": "7037a80d",
   "metadata": {},
   "source": [
    "Run the algorithm.  If the output is `True`, it managed to find the optimal labels."
   ]
  },
  {
   "cell_type": "code",
   "execution_count": null,
   "id": "4d34ec3c",
   "metadata": {},
   "outputs": [],
   "source": [
    "the_algorithm.shortest_path_algorithm()\n"
   ]
  },
  {
   "cell_type": "markdown",
   "id": "a5a9b8ca",
   "metadata": {},
   "source": [
    "Optimal labels"
   ]
  },
  {
   "cell_type": "code",
   "execution_count": null,
   "id": "d0fe6cbb",
   "metadata": {},
   "outputs": [],
   "source": [
    "display(the_algorithm.labels)\n",
    "\n"
   ]
  },
  {
   "cell_type": "markdown",
   "id": "d99c6a69",
   "metadata": {},
   "source": [
    "We now write a function that identifies the Bellman arcs for a given node.\n",
    "When comparing two real numbers, it is better to use the `numpy`function `isclose` instead\n",
    "of the standard `==` operator."
   ]
  },
  {
   "cell_type": "code",
   "execution_count": null,
   "id": "f2a80738",
   "metadata": {},
   "outputs": [],
   "source": [
    "\n",
    "\n",
    "def bellman_arcs(\n",
    "    a_network: DiGraph, a_node: Any, labels: dict[Any, float], cost_name: str\n",
    ") -> list[tuple[Any, Any]]:\n",
    "    \"\"\"Identifies the Bellman arcs of a node\n",
    "\n",
    "    :param a_network: network object\n",
    "    :param a_node: the node under interest\n",
    "    :param labels: the optimal labels\n",
    "    :param cost_name: name of the cost attribute\n",
    "    :return: a list of arcs\n",
    "    \"\"\"\n",
    "    optimal_arcs = ...\n",
    "\n",
    "\n",
    "\n",
    "\n",
    "\n",
    "\n",
    "\n",
    "    return optimal_arcs\n",
    "\n"
   ]
  },
  {
   "cell_type": "markdown",
   "id": "c54fca42",
   "metadata": {},
   "source": [
    "We identify the Bellman arcs for each node\n",
    "The expected result is as follows:"
   ]
  },
  {
   "cell_type": "code",
   "execution_count": null,
   "id": "299a9171",
   "metadata": {},
   "outputs": [],
   "source": [
    "expected_result = {\n",
    "    'a': [],\n",
    "    'b': [('a', 'b')],\n",
    "    'c': [('a', 'c'), ('b', 'c')],\n",
    "    'd': [('b', 'd'), ('c', 'd')],\n",
    "}\n",
    "display(expected_result)\n"
   ]
  },
  {
   "cell_type": "code",
   "execution_count": null,
   "id": "46b6fec0",
   "metadata": {},
   "outputs": [],
   "source": [
    "the_bellman_arcs = {\n",
    "    node: bellman_arcs(\n",
    "        a_network=first_network,\n",
    "        a_node=node,\n",
    "        labels=the_algorithm.labels,\n",
    "        cost_name='cost',\n",
    "    )\n",
    "    for node in first_network.nodes\n",
    "}\n",
    "display(the_bellman_arcs)\n"
   ]
  },
  {
   "cell_type": "markdown",
   "id": "f017f09f",
   "metadata": {},
   "source": [
    "Let's print the result."
   ]
  },
  {
   "cell_type": "code",
   "execution_count": null,
   "id": "d571aa5b",
   "metadata": {},
   "outputs": [],
   "source": [
    "for node, arcs in the_bellman_arcs.items():\n",
    "    print(f'Bellman arcs for node {node}: {arcs}')\n"
   ]
  },
  {
   "cell_type": "markdown",
   "id": "07d9c33c",
   "metadata": {},
   "source": [
    "In order to plot the Bellman subnetworks, we need to consider all possible combinations\n",
    "of Bellman arcs."
   ]
  },
  {
   "cell_type": "code",
   "execution_count": null,
   "id": "c19babc9",
   "metadata": {},
   "outputs": [],
   "source": [
    "all_lists = [a_list for a_list in the_bellman_arcs.values() if a_list]\n",
    "all_combinations = list(itertools.product(*all_lists))\n",
    "for one_instance in all_combinations:\n",
    "    print(one_instance)\n"
   ]
  },
  {
   "cell_type": "markdown",
   "id": "51b4eede",
   "metadata": {},
   "source": [
    "Let's plot all Bellman's subnetworks. ALl of them have the same set of nodes, and a different set\n",
    "of Bellman arcs."
   ]
  },
  {
   "cell_type": "code",
   "execution_count": null,
   "id": "abb9815f",
   "metadata": {},
   "outputs": [],
   "source": [
    "for one_instance in all_combinations:\n",
    "    # Create a directed graph\n",
    "    a_graph: DiGraph = DiGraph()\n",
    "\n",
    "    # Add nodes to the graph\n",
    "    a_graph.add_nodes_from(first_network.nodes(data=True))\n",
    "\n",
    "    # Add arcs to the graph\n",
    "    a_graph.add_edges_from(one_instance)\n",
    "\n",
    "    fig, ax = plt.subplots(figsize=(8, 6))\n",
    "    draw_network(the_network=a_graph, ax=ax)\n",
    "    plt.show()\n",
    "\n"
   ]
  },
  {
   "cell_type": "markdown",
   "id": "41582b63",
   "metadata": {},
   "source": [
    "# Second example"
   ]
  },
  {
   "cell_type": "markdown",
   "id": "8be6da8e",
   "metadata": {},
   "source": [
    "We investigate the Bellman subnetworks for another example."
   ]
  },
  {
   "cell_type": "code",
   "execution_count": null,
   "id": "d7f9cd94",
   "metadata": {},
   "outputs": [],
   "source": [
    "\n",
    "positions = {\n",
    "    'a': (0, 1),\n",
    "    'b': (1, 2),\n",
    "    'c': (1, 0),\n",
    "    'f': (2, 0),\n",
    "    'd': (2, 2),\n",
    "    'e': (3, 1),\n",
    "    'h': (4, 0),\n",
    "    'g': (4, 2),\n",
    "    'i': (5, 1),\n",
    "}\n",
    "\n",
    "nodes = list(positions.keys())\n",
    "\n",
    "arcs = [\n",
    "    ('a', 'b', 10),\n",
    "    ('a', 'c', 12),\n",
    "    ('b', 'd', -12),\n",
    "    ('b', 'f', 4),\n",
    "    ('c', 'd', 7),\n",
    "    ('c', 'b', 8),\n",
    "    ('c', 'f', 6),\n",
    "    ('d', 'g', 16),\n",
    "    ('d', 'e', -3),\n",
    "    ('f', 'd', 7),\n",
    "    ('e', 'g', 7),\n",
    "    ('e', 'i', -1),\n",
    "    ('e', 'h', 6),\n",
    "    ('e', 'f', -4),\n",
    "    ('f', 'h', 15),\n",
    "    ('g', 'i', 8),\n",
    "    ('h', 'i', 5),\n",
    "]\n",
    "\n",
    "second_network: DiGraph = DiGraph()\n",
    "for node in nodes:\n",
    "    second_network.add_node(node, pos=positions[node])\n",
    "second_network.add_weighted_edges_from(arcs, weight='cost')\n",
    "fig, ax = plt.subplots(figsize=(8, 6))\n",
    "draw_network(the_network=second_network, attr_edge_labels='cost', ax=ax)\n",
    "plt.show()\n"
   ]
  },
  {
   "cell_type": "markdown",
   "id": "07daaf9e",
   "metadata": {},
   "source": [
    "We solve the shortest path problem."
   ]
  },
  {
   "cell_type": "markdown",
   "id": "620b9a92",
   "metadata": {},
   "source": [
    "Initialization"
   ]
  },
  {
   "cell_type": "code",
   "execution_count": null,
   "id": "b09f15c2",
   "metadata": {},
   "outputs": [],
   "source": [
    "the_algorithm = ShortestPathAlgorithm(\n",
    "    the_network=second_network, the_cost_name='cost', the_origin='a'\n",
    ")\n"
   ]
  },
  {
   "cell_type": "markdown",
   "id": "665dc8b6",
   "metadata": {},
   "source": [
    "Run the algorithm.  If the output is `True`, it managed to find the optimal labels."
   ]
  },
  {
   "cell_type": "code",
   "execution_count": null,
   "id": "29f4b0a8",
   "metadata": {},
   "outputs": [],
   "source": [
    "the_algorithm.shortest_path_algorithm()\n"
   ]
  },
  {
   "cell_type": "markdown",
   "id": "1f83d545",
   "metadata": {},
   "source": [
    "Optimal labels"
   ]
  },
  {
   "cell_type": "code",
   "execution_count": null,
   "id": "f1928f20",
   "metadata": {},
   "outputs": [],
   "source": [
    "display(the_algorithm.labels)\n",
    "\n"
   ]
  },
  {
   "cell_type": "markdown",
   "id": "9dadbb90",
   "metadata": {},
   "source": [
    "We identify the Bellman arcs for each node"
   ]
  },
  {
   "cell_type": "code",
   "execution_count": null,
   "id": "536d60bd",
   "metadata": {},
   "outputs": [],
   "source": [
    "the_bellman_arcs = {\n",
    "    node: bellman_arcs(\n",
    "        a_network=second_network,\n",
    "        a_node=node,\n",
    "        labels=the_algorithm.labels,\n",
    "        cost_name='cost',\n",
    "    )\n",
    "    for node in second_network.nodes\n",
    "}\n"
   ]
  },
  {
   "cell_type": "code",
   "execution_count": null,
   "id": "dc19de50",
   "metadata": {},
   "outputs": [],
   "source": [
    "for node, arcs in the_bellman_arcs.items():\n",
    "    print(f'Bellman arcs for node {node}: {arcs}')\n"
   ]
  },
  {
   "cell_type": "markdown",
   "id": "ad703d97",
   "metadata": {},
   "source": [
    "Consider all possible combinations"
   ]
  },
  {
   "cell_type": "code",
   "execution_count": null,
   "id": "7e7e451b",
   "metadata": {},
   "outputs": [],
   "source": [
    "all_lists = [a_list for a_list in the_bellman_arcs.values() if a_list]\n",
    "all_combinations = list(itertools.product(*all_lists))\n",
    "for one_instance in all_combinations:\n",
    "    print(one_instance)\n"
   ]
  },
  {
   "cell_type": "markdown",
   "id": "68187904",
   "metadata": {},
   "source": [
    "Let's plot all Bellman's subnetworks"
   ]
  },
  {
   "cell_type": "code",
   "execution_count": null,
   "id": "e6747717",
   "metadata": {},
   "outputs": [],
   "source": [
    "for one_instance in all_combinations:\n",
    "    # Create a directed graph\n",
    "    a_graph: DiGraph = DiGraph()\n",
    "\n",
    "    # Add nodes to the graph\n",
    "    a_graph.add_nodes_from(second_network.nodes(data=True))\n",
    "\n",
    "    # Add arcs to the graph\n",
    "    a_graph.add_edges_from(one_instance)\n",
    "\n",
    "    fig, ax = plt.subplots(figsize=(8, 6))\n",
    "    draw_network(the_network=a_graph, ax=ax)\n",
    "    plt.show()\n",
    "\n",
    "\n"
   ]
  }
 ],
 "metadata": {},
 "nbformat": 4,
 "nbformat_minor": 5
}
