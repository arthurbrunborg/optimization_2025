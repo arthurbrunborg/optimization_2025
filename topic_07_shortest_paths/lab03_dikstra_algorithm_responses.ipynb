{
 "cells": [
  {
   "cell_type": "markdown",
   "id": "19ce15a1",
   "metadata": {},
   "source": [
    "# Dijkstra's shortest path algorithm.\n",
    "\n",
    "## Introduction to optimization and operations research.\n",
    "\n",
    "Michel Bierlaire\n"
   ]
  },
  {
   "cell_type": "code",
   "execution_count": null,
   "id": "786dfc22",
   "metadata": {},
   "outputs": [],
   "source": [
    "\n",
    "from typing import Any\n",
    "\n",
    "import numpy as np\n",
    "import pandas as pd\n",
    "from IPython.core.display_functions import display\n",
    "from matplotlib import pyplot as plt\n",
    "from networkx import DiGraph, set_node_attributes\n",
    "from teaching_optimization.networks import draw_network\n",
    "from teaching_optimization.networks.shortest_path_algorithm import (\n",
    "    ShortestPathAlgorithm,\n",
    ")\n"
   ]
  },
  {
   "cell_type": "markdown",
   "id": "e1772332",
   "metadata": {},
   "source": [
    "In this lab, you will implement and apply **Dijkstra’s shortest path algorithm** to find the\n",
    "minimum-cost paths from an origin to all other nodes in a directed network with **nonnegative arc costs**.\n",
    "You will maintain **labels** (current best distances) and **predecessors**, repeatedly select the node\n",
    "with the smallest tentative label, and **process** its outgoing arcs to update neighbors' labels.\n",
    "Along the way, you will learn how to inspect graph data (nodes, arcs, attributes), reconstruct the\n",
    "**shortest path tree**, and diagnose when Dijkstra is **not applicable** (e.g., negative costs).\n",
    "The goal is to connect the algorithmic steps (selection, relaxation, termination) with clear network\n",
    "intuition (paths and costs)."
   ]
  },
  {
   "cell_type": "markdown",
   "id": "00535bec",
   "metadata": {},
   "source": [
    "# Some useful functions"
   ]
  },
  {
   "cell_type": "markdown",
   "id": "d6719e4b",
   "metadata": {},
   "source": [
    "Before implementing the algorithm, we investigate some useful functions of the network representation\n",
    "and illustrate them on an example."
   ]
  },
  {
   "cell_type": "markdown",
   "id": "f5b8c530",
   "metadata": {},
   "source": [
    "We define a first network example."
   ]
  },
  {
   "cell_type": "code",
   "execution_count": null,
   "id": "7f212f5a",
   "metadata": {},
   "outputs": [],
   "source": [
    "positions = {\n",
    "    'a': (2, 0),\n",
    "    'b': (4, -1),\n",
    "    'c': (4, 1),\n",
    "    'd': (8, 3),\n",
    "    'e': (8, 1),\n",
    "    'f': (8, -1),\n",
    "    'g': (8, -3),\n",
    "    'h': (11, -2),\n",
    "    'i': (12, 2),\n",
    "}\n",
    "\n",
    "\n",
    "nodes = list(positions.keys())\n",
    "\n",
    "arcs = [\n",
    "    ('a', 'c', 4),\n",
    "    ('a', 'b', 3),\n",
    "    ('c', 'd', 8),\n",
    "    ('c', 'e', 7),\n",
    "    ('b', 'c', 0.5),\n",
    "    ('b', 'f', 3.5),\n",
    "    ('b', 'g', 6),\n",
    "    ('e', 'd', 0.5),\n",
    "    ('d', 'h', 4.5),\n",
    "    ('d', 'i', 10),\n",
    "    ('e', 'f', 4.5),\n",
    "    ('f', 'h', 11),\n",
    "    ('e', 'i', 2.5),\n",
    "    ('g', 'i', 5.5),\n",
    "    ('g', 'h', 7.5),\n",
    "    ('i', 'h', 2),\n",
    "]\n",
    "\n",
    "\n",
    "first_network: DiGraph = DiGraph()\n",
    "for node in nodes:\n",
    "    first_network.add_node(node, pos=positions[node])\n",
    "first_network.add_weighted_edges_from(arcs, weight='cost')\n",
    "fig, ax = plt.subplots(figsize=(8, 6))\n",
    "draw_network(the_network=first_network, attr_edge_labels='cost', ax=ax)\n",
    "plt.show()\n"
   ]
  },
  {
   "cell_type": "markdown",
   "id": "d94a4697",
   "metadata": {},
   "source": [
    "Here is how to obtain the list of arcs and associated data (here, the cost)."
   ]
  },
  {
   "cell_type": "code",
   "execution_count": null,
   "id": "5eb85d1e",
   "metadata": {},
   "outputs": [],
   "source": [
    "first_arcs = first_network.edges(data=True)\n",
    "for arc in first_arcs:\n",
    "    print(arc)\n"
   ]
  },
  {
   "cell_type": "markdown",
   "id": "9780c143",
   "metadata": {},
   "source": [
    "It means that, in order to access the information about an arc, you need to perform the\n",
    "following statements."
   ]
  },
  {
   "cell_type": "code",
   "execution_count": null,
   "id": "48982034",
   "metadata": {},
   "outputs": [],
   "source": [
    "\n",
    "for arc in first_arcs:\n",
    "    # For the upstream node\n",
    "    upstream_node_arc = arc[0]\n",
    "    # For the downstream node\n",
    "    downstream_node_arc = arc[1]\n",
    "    # For the cost\n",
    "    cost_arc = arc[2]['cost']\n",
    "    print(f'Cost {upstream_node_arc} -> {downstream_node_arc} = {cost_arc}')\n"
   ]
  },
  {
   "cell_type": "markdown",
   "id": "b285ecc7",
   "metadata": {},
   "source": [
    "Here is how to obtain the list of nodes and associated data (here, the position)."
   ]
  },
  {
   "cell_type": "code",
   "execution_count": null,
   "id": "6bdf36b1",
   "metadata": {},
   "outputs": [],
   "source": [
    "first_nodes = first_network.nodes(data=True)\n",
    "for node in first_nodes:\n",
    "    print(node)\n"
   ]
  },
  {
   "cell_type": "markdown",
   "id": "3dd2790b",
   "metadata": {},
   "source": [
    "The data is accessed as follows."
   ]
  },
  {
   "cell_type": "code",
   "execution_count": null,
   "id": "a255d22e",
   "metadata": {},
   "outputs": [],
   "source": [
    "for node in first_nodes:\n",
    "    node_name = node[0]\n",
    "    node_position = node[1]['pos']\n",
    "    print(f'Coordinates of {node_name}: {node_position}')\n"
   ]
  },
  {
   "cell_type": "markdown",
   "id": "96bfe620",
   "metadata": {},
   "source": [
    "Given a node, we can obtain the list of outgoing arcs."
   ]
  },
  {
   "cell_type": "markdown",
   "id": "9f9d6f52",
   "metadata": {},
   "source": [
    "From node 'a'"
   ]
  },
  {
   "cell_type": "code",
   "execution_count": null,
   "id": "70efb57d",
   "metadata": {},
   "outputs": [],
   "source": [
    "outgoing_arcs_from_a = first_network.out_edges('a', data=True)\n",
    "for arc in outgoing_arcs_from_a:\n",
    "    print(arc)\n"
   ]
  },
  {
   "cell_type": "markdown",
   "id": "2665eed0",
   "metadata": {},
   "source": [
    "From node 'd'"
   ]
  },
  {
   "cell_type": "code",
   "execution_count": null,
   "id": "05428e9a",
   "metadata": {},
   "outputs": [],
   "source": [
    "outgoing_arcs_from_d = first_network.out_edges('d', data=True)\n",
    "for arc in outgoing_arcs_from_d:\n",
    "    print(arc)\n",
    "\n"
   ]
  },
  {
   "cell_type": "markdown",
   "id": "2e306d54",
   "metadata": {},
   "source": [
    "# Dijkstra's shortest path algorithm"
   ]
  },
  {
   "cell_type": "markdown",
   "id": "558633d6",
   "metadata": {},
   "source": [
    "Now we implement Dijkstra's shortest path algorithm. Replace the `...`"
   ]
  },
  {
   "cell_type": "code",
   "execution_count": null,
   "id": "6b097eb1",
   "metadata": {},
   "outputs": [],
   "source": [
    "\n",
    "\n",
    "def dijkstra_algorithm(\n",
    "    the_network: DiGraph, the_cost: str, the_origin: Any\n",
    ") -> tuple[dict[Any:float] | None, dict[Any, Any | None] | None, pd.DataFrame]:\n",
    "    \"\"\"\n",
    "\n",
    "    :param the_network: network representation\n",
    "    :param the_cost: name of the cost parameter\n",
    "    :param the_origin: node at the origin.\n",
    "    :return:a dict associated each node with their optimal label (or None if problem is unbounded), a dict associating\n",
    "        each node with its predecessor in the shortest path (or None if the problem is unbounded)\n",
    "        and a data frame describing the iterations\n",
    "    \"\"\"\n",
    "\n",
    "    # Initialize the labels and the predecessors\n",
    "    labels = {name: np.inf for name in the_network.nodes}\n",
    "    labels[the_origin] = 0\n",
    "    predecessors = {name: None for name in the_network.nodes}\n",
    "    the_arcs = the_network.edges(data=True)\n",
    "    # Identify the lowest cost in order to establish a lower bound on the labels\n",
    "    arc_with_lowest_cost = min(the_arcs, key=lambda x: x[2][the_cost])\n",
    "    lowest_cost = arc_with_lowest_cost[2][the_cost]\n",
    "    if lowest_cost < 0:\n",
    "        error_msg = (\n",
    "            f\"Dijkstra's algorithm cannot be used when some arcs have a negative cost. Here, arc \"\n",
    "            f\"{arc_with_lowest_cost} has cost {lowest_cost}\"\n",
    "        )\n",
    "        raise ValueError(error_msg)\n",
    "\n",
    "    # Initialize the set of nodes to be treated\n",
    "    nodes_to_be_treated = {the_origin}\n",
    "\n",
    "    iteration_number = 0\n",
    "\n",
    "    reporting_iteration: list[dict[str:Any]] = list()\n",
    "\n",
    "    # Loop until the set of nodes is empty.\n",
    "    while nodes_to_be_treated:\n",
    "        row = {\n",
    "            'Iteration': iteration_number,\n",
    "            'Set': str(nodes_to_be_treated),\n",
    "        }\n",
    "        # Select the node to be treated during this iteration, and remove it from the set.\n",
    "        # The node to be treated corresponds to the minimum label in the set.\n",
    "        current_node = min(\n",
    "            nodes_to_be_treated, key=lambda a_node: labels[a_node]\n",
    "        )\n",
    "        nodes_to_be_treated.remove(current_node)\n",
    "        row['Node'] = current_node\n",
    "        for node, label in labels.items():\n",
    "            row[node] = label\n",
    "        reporting_iteration.append(row)\n",
    "        # Consider the list of outgoing arc\n",
    "        outgoing_arcs = the_network.out_edges(\n",
    "            current_node, data=True\n",
    "        )\n",
    "        for arc in outgoing_arcs:\n",
    "            upstream_node = arc[0]\n",
    "            downstream_node = arc[1]\n",
    "            cost = arc[2][the_cost]\n",
    "            # Check if the label must be updated\n",
    "            if (\n",
    "                labels[downstream_node] > labels[upstream_node] + cost\n",
    "            ):\n",
    "                # Update the label\n",
    "                labels[downstream_node] = (\n",
    "                    labels[upstream_node] + cost\n",
    "                )\n",
    "                # Update the predecessor\n",
    "                predecessors[\n",
    "                    downstream_node\n",
    "                ] = upstream_node\n",
    "                # Update the set of nodes to be treated\n",
    "                nodes_to_be_treated.add(\n",
    "                    downstream_node\n",
    "                )\n",
    "        iteration_number += 1\n",
    "\n",
    "    row = {'Iteration': iteration_number, 'Set': '{}', 'Node': ''}\n",
    "    for node, label in labels.items():\n",
    "        row[node] = label\n",
    "    reporting_iteration.append(row)\n",
    "    return labels, predecessors, pd.DataFrame(reporting_iteration)\n",
    "\n"
   ]
  },
  {
   "cell_type": "markdown",
   "id": "e890f532",
   "metadata": {},
   "source": [
    "# First example\n",
    "We run the algorithm on the example above."
   ]
  },
  {
   "cell_type": "code",
   "execution_count": null,
   "id": "5ec6a87d",
   "metadata": {},
   "outputs": [],
   "source": [
    "optimal_labels, predecessors, iterations = dijkstra_algorithm(\n",
    "    the_network=first_network, the_cost='cost', the_origin='a'\n",
    ")\n"
   ]
  },
  {
   "cell_type": "markdown",
   "id": "a6c5efe5",
   "metadata": {},
   "source": [
    "Optimal labels"
   ]
  },
  {
   "cell_type": "code",
   "execution_count": null,
   "id": "18d0d891",
   "metadata": {},
   "outputs": [],
   "source": [
    "display(optimal_labels)\n"
   ]
  },
  {
   "cell_type": "markdown",
   "id": "2d861123",
   "metadata": {},
   "source": [
    "Predecessors"
   ]
  },
  {
   "cell_type": "code",
   "execution_count": null,
   "id": "9a00eb14",
   "metadata": {},
   "outputs": [],
   "source": [
    "display(predecessors)\n"
   ]
  },
  {
   "cell_type": "markdown",
   "id": "97d0ef52",
   "metadata": {},
   "source": [
    "We add the optimal labels as attributes of the nodes"
   ]
  },
  {
   "cell_type": "code",
   "execution_count": null,
   "id": "25f5b41f",
   "metadata": {},
   "outputs": [],
   "source": [
    "set_node_attributes(first_network, optimal_labels, 'label')\n"
   ]
  },
  {
   "cell_type": "markdown",
   "id": "6ce884a0",
   "metadata": {},
   "source": [
    "Description of the iterations"
   ]
  },
  {
   "cell_type": "code",
   "execution_count": null,
   "id": "88f34759",
   "metadata": {},
   "outputs": [],
   "source": [
    "display(iterations)\n",
    "\n"
   ]
  },
  {
   "cell_type": "markdown",
   "id": "e4e16d70",
   "metadata": {},
   "source": [
    "We now write a recursive function to identify the shortest paths"
   ]
  },
  {
   "cell_type": "code",
   "execution_count": null,
   "id": "cb02bec8",
   "metadata": {},
   "outputs": [],
   "source": [
    "def shortest_path(node: Any, the_predecessors: dict[Any, Any | None]) -> str:\n",
    "    \"\"\"Print the shortest path to a given node, recursively\"\"\"\n",
    "\n",
    "    # First case: if there is  no predecessor, it means that the path is the node itself.\n",
    "    if the_predecessors[node] is None:\n",
    "        return str(node)\n",
    "\n",
    "    # If there is a predecessor, with merge the path to the predecessor with the current node.\n",
    "    return f'{shortest_path(node=the_predecessors[node], the_predecessors=the_predecessors)} -> {str(node)}'\n",
    "\n"
   ]
  },
  {
   "cell_type": "markdown",
   "id": "17bc0a9a",
   "metadata": {},
   "source": [
    "Print the shortest paths"
   ]
  },
  {
   "cell_type": "code",
   "execution_count": null,
   "id": "87e4d6c6",
   "metadata": {},
   "outputs": [],
   "source": [
    "for node in first_network.nodes:\n",
    "    print(shortest_path(node=node, the_predecessors=predecessors))\n"
   ]
  },
  {
   "cell_type": "markdown",
   "id": "eb1990cf",
   "metadata": {},
   "source": [
    "We create and plot the shortest path graph"
   ]
  },
  {
   "cell_type": "code",
   "execution_count": null,
   "id": "c039dc42",
   "metadata": {},
   "outputs": [],
   "source": [
    "shortest_path_arcs = [\n",
    "    (upstream, downstream)\n",
    "    for downstream, upstream in predecessors.items()\n",
    "    if upstream is not None\n",
    "]\n",
    "\n",
    "shortest_path_tree: DiGraph = DiGraph()\n",
    "for node in nodes:\n",
    "    shortest_path_tree.add_node(node, pos=positions[node])\n",
    "shortest_path_tree.add_edges_from(shortest_path_arcs)\n",
    "fig, ax = plt.subplots(figsize=(8, 6))\n",
    "draw_network(the_network=shortest_path_tree, ax=ax)\n",
    "plt.show()\n",
    "\n"
   ]
  },
  {
   "cell_type": "markdown",
   "id": "a5d00699",
   "metadata": {},
   "source": [
    "# Second example"
   ]
  },
  {
   "cell_type": "code",
   "execution_count": null,
   "id": "fcd7df08",
   "metadata": {},
   "outputs": [],
   "source": [
    "positions = {\n",
    "    'a': (0, 0),\n",
    "    'b': (2, 1.5),\n",
    "    'c': (2, -1.5),\n",
    "    'd': (4, 1.5),\n",
    "    'e': (4, -1.5),\n",
    "    'f': (6, 0),\n",
    "    'g': (8, 1.5),\n",
    "    'h': (10, 0),\n",
    "    'i': (8, -1.5),\n",
    "}\n",
    "\n",
    "\n",
    "nodes = list(positions.keys())\n",
    "\n",
    "arcs = [\n",
    "    ('a', 'b', 8),\n",
    "    ('a', 'c', 14),\n",
    "    ('b', 'd', 9),\n",
    "    ('b', 'e', 7),\n",
    "    ('b', 'c', 4),\n",
    "    ('c', 'e', 11),\n",
    "    ('d', 'e', 12),\n",
    "    ('d', 'f', 17),\n",
    "    ('e', 'f', 3),\n",
    "    ('e', 'i', 8),\n",
    "    ('f', 'h', 9),\n",
    "    ('f', 'g', 5),\n",
    "    ('g', 'h', 3),\n",
    "    ('i', 'h', 9),\n",
    "]\n",
    "\n"
   ]
  },
  {
   "cell_type": "markdown",
   "id": "95750933",
   "metadata": {},
   "source": [
    "We plot the network"
   ]
  },
  {
   "cell_type": "code",
   "execution_count": null,
   "id": "435f0927",
   "metadata": {},
   "outputs": [],
   "source": [
    "second_network: DiGraph = DiGraph()\n",
    "for node in nodes:\n",
    "    second_network.add_node(node, pos=positions[node])\n",
    "second_network.add_weighted_edges_from(arcs, weight='cost')\n",
    "fig, ax = plt.subplots(figsize=(8, 6))\n",
    "draw_network(the_network=second_network, attr_edge_labels='cost', ax=ax)\n",
    "plt.show()\n"
   ]
  },
  {
   "cell_type": "code",
   "execution_count": null,
   "id": "fb32ccf3",
   "metadata": {},
   "outputs": [],
   "source": [
    "optimal_labels, predecessors, iterations = dijkstra_algorithm(\n",
    "    the_network=second_network, the_cost='cost', the_origin='a'\n",
    ")\n"
   ]
  },
  {
   "cell_type": "markdown",
   "id": "fae8f5cd",
   "metadata": {},
   "source": [
    "Optimal labels"
   ]
  },
  {
   "cell_type": "code",
   "execution_count": null,
   "id": "b886e7b0",
   "metadata": {},
   "outputs": [],
   "source": [
    "display(optimal_labels)\n"
   ]
  },
  {
   "cell_type": "markdown",
   "id": "a6019e2f",
   "metadata": {},
   "source": [
    "Predecessors"
   ]
  },
  {
   "cell_type": "code",
   "execution_count": null,
   "id": "e4ca307c",
   "metadata": {},
   "outputs": [],
   "source": [
    "display(predecessors)\n"
   ]
  },
  {
   "cell_type": "markdown",
   "id": "d3b3b057",
   "metadata": {},
   "source": [
    "We add the optimal labels as attributes of the nodes"
   ]
  },
  {
   "cell_type": "code",
   "execution_count": null,
   "id": "7f9f6ecf",
   "metadata": {},
   "outputs": [],
   "source": [
    "if optimal_labels is not None:\n",
    "    set_node_attributes(second_network, optimal_labels, 'label')\n"
   ]
  },
  {
   "cell_type": "markdown",
   "id": "9b5446a0",
   "metadata": {},
   "source": [
    "Description of the iterations"
   ]
  },
  {
   "cell_type": "code",
   "execution_count": null,
   "id": "d5d93434",
   "metadata": {},
   "outputs": [],
   "source": [
    "display(iterations)\n"
   ]
  },
  {
   "cell_type": "markdown",
   "id": "546dc64b",
   "metadata": {},
   "source": [
    "Print the shortest paths"
   ]
  },
  {
   "cell_type": "code",
   "execution_count": null,
   "id": "717d2651",
   "metadata": {},
   "outputs": [],
   "source": [
    "for node in second_network.nodes:\n",
    "    print(shortest_path(node=node, the_predecessors=predecessors))\n"
   ]
  },
  {
   "cell_type": "markdown",
   "id": "e8859469",
   "metadata": {},
   "source": [
    "We create and plot the shortest path graph"
   ]
  },
  {
   "cell_type": "code",
   "execution_count": null,
   "id": "374a7478",
   "metadata": {},
   "outputs": [],
   "source": [
    "shortest_path_arcs = [\n",
    "    (upstream, downstream)\n",
    "    for downstream, upstream in predecessors.items()\n",
    "    if upstream is not None\n",
    "]\n",
    "\n",
    "shortest_path_tree: DiGraph = DiGraph()\n",
    "for node in nodes:\n",
    "    shortest_path_tree.add_node(node, pos=positions[node])\n",
    "shortest_path_tree.add_edges_from(shortest_path_arcs)\n",
    "fig, ax = plt.subplots(figsize=(8, 6))\n",
    "draw_network(the_network=shortest_path_tree, ax=ax)\n",
    "plt.show()\n"
   ]
  },
  {
   "cell_type": "markdown",
   "id": "b39c6dcd",
   "metadata": {},
   "source": [
    "For future exercises, it is possible to perform the same tasks using the package."
   ]
  },
  {
   "cell_type": "markdown",
   "id": "b3b54dd5",
   "metadata": {},
   "source": [
    "Initialization"
   ]
  },
  {
   "cell_type": "code",
   "execution_count": null,
   "id": "480483ce",
   "metadata": {},
   "outputs": [],
   "source": [
    "the_algorithm = ShortestPathAlgorithm(\n",
    "    the_network=second_network, the_cost_name='cost', the_origin='a'\n",
    ")\n"
   ]
  },
  {
   "cell_type": "markdown",
   "id": "ef1920a8",
   "metadata": {},
   "source": [
    "Running the algorithm"
   ]
  },
  {
   "cell_type": "code",
   "execution_count": null,
   "id": "3b7e5f76",
   "metadata": {},
   "outputs": [],
   "source": [
    "the_algorithm.shortest_path_algorithm()\n"
   ]
  },
  {
   "cell_type": "markdown",
   "id": "eb7e0d9b",
   "metadata": {},
   "source": [
    "Printing the shortest paths"
   ]
  },
  {
   "cell_type": "code",
   "execution_count": null,
   "id": "c1346f1f",
   "metadata": {},
   "outputs": [],
   "source": [
    "the_shortest_paths = the_algorithm.list_of_shortest_paths()\n"
   ]
  },
  {
   "cell_type": "markdown",
   "id": "33c39ce4",
   "metadata": {},
   "source": [
    "Plotting the results"
   ]
  },
  {
   "cell_type": "code",
   "execution_count": null,
   "id": "35853ca9",
   "metadata": {},
   "outputs": [],
   "source": [
    "the_algorithm.plot_shortest_path_tree()\n"
   ]
  },
  {
   "cell_type": "markdown",
   "id": "31e2ff75",
   "metadata": {},
   "source": [
    "# Third example."
   ]
  },
  {
   "cell_type": "code",
   "execution_count": null,
   "id": "fa39d91d",
   "metadata": {},
   "outputs": [],
   "source": [
    "positions = {\n",
    "    'a': (0, 0),\n",
    "    'b': (2, 1.5),\n",
    "    'c': (2, -1.5),\n",
    "    'd': (4, 1.5),\n",
    "    'e': (4, -1.5),\n",
    "    'f': (6, 0),\n",
    "    'g': (8, 1.5),\n",
    "    'h': (10, 0),\n",
    "    'i': (8, -1.5),\n",
    "}\n",
    "\n",
    "\n",
    "nodes = list(positions.keys())\n",
    "\n",
    "arcs = [\n",
    "    ('a', 'b', 8),\n",
    "    ('a', 'c', 14),\n",
    "    ('b', 'd', 9),\n",
    "    ('b', 'e', 7),\n",
    "    ('b', 'c', 4),\n",
    "    ('c', 'e', -11),\n",
    "    ('d', 'e', 12),\n",
    "    ('d', 'f', 17),\n",
    "    ('e', 'f', 3),\n",
    "    ('e', 'i', 8),\n",
    "    ('f', 'h', 9),\n",
    "    ('f', 'g', 5),\n",
    "    ('g', 'h', 3),\n",
    "    ('i', 'h', 9),\n",
    "]\n"
   ]
  },
  {
   "cell_type": "markdown",
   "id": "fa2dc344",
   "metadata": {},
   "source": [
    "We plot the network"
   ]
  },
  {
   "cell_type": "code",
   "execution_count": null,
   "id": "9150689b",
   "metadata": {},
   "outputs": [],
   "source": [
    "third_network: DiGraph = DiGraph()\n",
    "for node in nodes:\n",
    "    third_network.add_node(node, pos=positions[node])\n",
    "third_network.add_weighted_edges_from(arcs, weight='cost')\n",
    "fig, ax = plt.subplots(figsize=(8, 6))\n",
    "draw_network(the_network=third_network, attr_edge_labels='cost', ax=ax)\n",
    "plt.show()\n"
   ]
  },
  {
   "cell_type": "markdown",
   "id": "9e8b8340",
   "metadata": {},
   "source": [
    "We try to run the algorithm"
   ]
  },
  {
   "cell_type": "code",
   "execution_count": null,
   "id": "eaf68b2d",
   "metadata": {},
   "outputs": [],
   "source": [
    "try:\n",
    "    optimal_labels, predecessors, iterations = dijkstra_algorithm(\n",
    "        the_network=third_network, the_cost='cost', the_origin='a'\n",
    "    )\n",
    "except ValueError as e:\n",
    "    print('Algorithm failed.', e)"
   ]
  }
 ],
 "metadata": {},
 "nbformat": 4,
 "nbformat_minor": 5
}
