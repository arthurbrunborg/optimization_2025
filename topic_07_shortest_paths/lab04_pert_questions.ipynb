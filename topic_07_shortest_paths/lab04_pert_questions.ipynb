{
 "cells": [
  {
   "cell_type": "markdown",
   "id": "f3e2ae4b",
   "metadata": {},
   "source": [
    "# Program Evaluation and Review Technique (PERT)\n",
    "\n",
    "## Introduction to optimization and operations research.\n",
    "\n",
    "Michel Bierlaire\n"
   ]
  },
  {
   "cell_type": "code",
   "execution_count": null,
   "id": "f3f27852",
   "metadata": {},
   "outputs": [],
   "source": [
    "\n",
    "from typing import NamedTuple\n",
    "\n",
    "import pandas as pd\n",
    "from IPython.core.display_functions import display\n",
    "from matplotlib import pyplot as plt\n",
    "from networkx import DiGraph\n",
    "from teaching_optimization.networks import draw_network\n",
    "from teaching_optimization.networks.shortest_path_algorithm import ShortestPathAlgorithm\n"
   ]
  },
  {
   "cell_type": "markdown",
   "id": "28e91db3",
   "metadata": {},
   "source": [
    "In this lab, you will model a small project with **precedence constraints** and use PERT\n",
    "ideas to analyze it. You will (i) build a directed network of tasks, (ii) compute the\n",
    "**critical path** by turning durations into arc costs and solving a shortest-path problem\n",
    "with negated weights, and (iii) extract the project’s **minimum duration** as well as the\n",
    "**earliest** and **latest** starting times for each task. The goal is to connect the project\n",
    "diagram (tasks, dependencies, durations) with graph algorithms, understand why critical\n",
    "tasks cannot be delayed without delaying the whole project, and develop intuition for how\n",
    "slack and criticality guide scheduling decisions."
   ]
  },
  {
   "cell_type": "markdown",
   "id": "dcf06398",
   "metadata": {},
   "source": [
    "The renovation of an apartment's living room breaks down into several\n",
    "tasks listed below. Precedence constraints have\n",
    "to be respected during the planning of the works. The duration of each task is given as well."
   ]
  },
  {
   "cell_type": "markdown",
   "id": "d5318cd8",
   "metadata": {},
   "source": [
    "The objective of this exercise is to\n",
    "\n",
    "- identify critical tasks that cannot suffer from any delay without delaying the project,\n",
    "- give the minimal timing of the duration of the work,\n",
    "- calculate the earliest starting dates of each task,\n",
    "- calculate the latest starting dates of each task."
   ]
  },
  {
   "cell_type": "markdown",
   "id": "1c3c2a92",
   "metadata": {},
   "source": [
    "We first define a data structure for the tasks."
   ]
  },
  {
   "cell_type": "code",
   "execution_count": null,
   "id": "2c9230bc",
   "metadata": {},
   "outputs": [],
   "source": [
    "class Task(NamedTuple):\n",
    "    name: str\n",
    "    description: str\n",
    "    precedence: list[str]\n",
    "    duration: float\n",
    "\n"
   ]
  },
  {
   "cell_type": "markdown",
   "id": "c1684379",
   "metadata": {},
   "source": [
    "Here is the list of tasks with the precedence constraints, and the duration."
   ]
  },
  {
   "cell_type": "code",
   "execution_count": null,
   "id": "8760dc17",
   "metadata": {},
   "outputs": [],
   "source": [
    "tasks_list: list[Task] = [\n",
    "    Task('A', 'Door removal', [], 0.5),\n",
    "    Task('B', 'Sanding and painting doors', ['A'], 3),\n",
    "    Task('C', 'Hanging doors', ['B', 'J'], 0.5),\n",
    "    Task('D', 'Peeling off wallpapers', [], 1),\n",
    "    Task('E', 'Pulling electrical wires', ['D'], 1),\n",
    "    Task('F', 'Laying electrical outlet', ['E', 'H', 'I'], 0.5),\n",
    "    Task('G', 'Smoothing walls', ['E', 'A'], 2),\n",
    "    Task('H', 'Sanding of frames', ['G'], 2),\n",
    "    Task('I', 'Ceiling painting', ['G'], 3),\n",
    "    Task('J', 'Painting frames', ['H', 'I'], 1),\n",
    "    Task('K', 'Ripping off the carpet', ['H', 'I', 'J'], 0.5),\n",
    "    Task('L', 'Sanding parquet', ['K'], 1),\n",
    "    Task('M', 'Impregnation and drying of parquet', ['L', 'F'], 4),\n",
    "    Task('N', 'Balcony painting', [], 2),\n",
    "    Task('O', 'Change of solar protections', ['N'], 1),\n",
    "]\n",
    "\n"
   ]
  },
  {
   "cell_type": "markdown",
   "id": "14ba20bb",
   "metadata": {},
   "source": [
    "Printing the list of tasks."
   ]
  },
  {
   "cell_type": "code",
   "execution_count": null,
   "id": "f022ab24",
   "metadata": {},
   "outputs": [],
   "source": [
    "for task in tasks_list:\n",
    "    print(task)\n"
   ]
  },
  {
   "cell_type": "markdown",
   "id": "64c3ae5e",
   "metadata": {},
   "source": [
    "# Network representation"
   ]
  },
  {
   "cell_type": "markdown",
   "id": "e4c1629a",
   "metadata": {},
   "source": [
    "We first need to provide a network representation of the problem."
   ]
  },
  {
   "cell_type": "markdown",
   "id": "7aae359a",
   "metadata": {},
   "source": [
    "We create a network where each node is a task.\n",
    "We also add one node \"b\" to represent the beginning of the project, and one node \"e\" to represent the end of the\n",
    "project. We also associate each node with a coordinate in order to display the network."
   ]
  },
  {
   "cell_type": "code",
   "execution_count": null,
   "id": "81b41470",
   "metadata": {},
   "outputs": [],
   "source": [
    "\n",
    "positions = {\n",
    "    'b': (0, 0),\n",
    "    'A': (1, 2),\n",
    "    'B': (2, 2),\n",
    "    'C': (6, 2),\n",
    "    'D': (1, 0),\n",
    "    'E': (2, 0),\n",
    "    'F': (5, -1),\n",
    "    'G': (3, 0),\n",
    "    'H': (4, 1),\n",
    "    'I': (4, 0),\n",
    "    'J': (5, 1.5),\n",
    "    'K': (6, 0),\n",
    "    'L': (7, 0),\n",
    "    'M': (8, 0),\n",
    "    'N': (1, -2),\n",
    "    'O': (5, -2),\n",
    "    'e': (9, 0),\n",
    "}\n",
    "\n",
    "nodes = list(positions.keys())\n"
   ]
  },
  {
   "cell_type": "markdown",
   "id": "a3d86ccc",
   "metadata": {},
   "source": [
    "Now, generate the list of arcs of the network from the task description. Each arc is a tuple\n",
    "``(upstream_node, downstream_node, duration)``"
   ]
  },
  {
   "cell_type": "markdown",
   "id": "9d512a27",
   "metadata": {},
   "source": [
    "First, we create a dict with the durations of the tasks."
   ]
  },
  {
   "cell_type": "code",
   "execution_count": null,
   "id": "1fbfae95",
   "metadata": {},
   "outputs": [],
   "source": [
    "tasks_duration: dict[str, float] = {task.name: task.duration for task in tasks_list}\n"
   ]
  },
  {
   "cell_type": "markdown",
   "id": "7ed7e058",
   "metadata": {},
   "source": [
    "For each task $j$, we add an arc $(i,j)$ for each predecessor $i$."
   ]
  },
  {
   "cell_type": "code",
   "execution_count": null,
   "id": "d4a69b9a",
   "metadata": {},
   "outputs": [],
   "source": [
    "list_1 = [\n",
    " ...\n",
    "\n",
    "\n",
    "]\n",
    "display(list_1)\n"
   ]
  },
  {
   "cell_type": "markdown",
   "id": "4b18e40d",
   "metadata": {},
   "source": [
    "For each task $j$ without predecessor, we define an arc $(b,j)$."
   ]
  },
  {
   "cell_type": "code",
   "execution_count": null,
   "id": "1ed66a8d",
   "metadata": {},
   "outputs": [],
   "source": [
    "list_2 = [\n",
    " ...\n",
    "]\n",
    "display(list_2)\n"
   ]
  },
  {
   "cell_type": "markdown",
   "id": "62f37e5b",
   "metadata": {},
   "source": [
    "For each task $i$ without successor, we define an arc $(i,e)$."
   ]
  },
  {
   "cell_type": "markdown",
   "id": "6fc154bb",
   "metadata": {},
   "source": [
    "First, we identify the set of tasks without successor."
   ]
  },
  {
   "cell_type": "code",
   "execution_count": null,
   "id": "e651b99a",
   "metadata": {},
   "outputs": [],
   "source": [
    "all_tasks = { ... }\n",
    "task_with_successor = {\n",
    " ...\n",
    "}\n",
    "tasks_without_successor = all_tasks - task_with_successor\n",
    "display(tasks_without_successor)\n"
   ]
  },
  {
   "cell_type": "markdown",
   "id": "70d6eae2",
   "metadata": {},
   "source": [
    "Then, we create the last list of arcs."
   ]
  },
  {
   "cell_type": "code",
   "execution_count": null,
   "id": "8291c1ad",
   "metadata": {},
   "outputs": [],
   "source": [
    "list_3 = [\n",
    " ...\n",
    "]\n",
    "display(list_3)\n"
   ]
  },
  {
   "cell_type": "markdown",
   "id": "2d480bfc",
   "metadata": {},
   "source": [
    "We merge the three lists"
   ]
  },
  {
   "cell_type": "code",
   "execution_count": null,
   "id": "701aa605",
   "metadata": {},
   "outputs": [],
   "source": [
    "arcs = list_1 + list_2 + list_3\n",
    "display(arcs)\n"
   ]
  },
  {
   "cell_type": "markdown",
   "id": "6c6839ec",
   "metadata": {},
   "source": [
    "We create and display the network"
   ]
  },
  {
   "cell_type": "code",
   "execution_count": null,
   "id": "00b34545",
   "metadata": {},
   "outputs": [],
   "source": [
    "pert_network: DiGraph = DiGraph()\n",
    "for node in nodes:\n",
    "    pert_network.add_node(node, pos=positions[node])\n",
    "pert_network.add_weighted_edges_from(arcs, weight='cost')\n"
   ]
  },
  {
   "cell_type": "code",
   "execution_count": null,
   "id": "306571a7",
   "metadata": {},
   "outputs": [],
   "source": [
    "fig, ax = plt.subplots(figsize=(8, 6))\n",
    "draw_network(the_network=pert_network, attr_edge_labels='cost', ax=ax)\n",
    "plt.show()\n"
   ]
  },
  {
   "cell_type": "markdown",
   "id": "d1b9da39",
   "metadata": {},
   "source": [
    "# Identification of the critical path"
   ]
  },
  {
   "cell_type": "markdown",
   "id": "91c2229c",
   "metadata": {},
   "source": [
    "We need to calculate the longest path from $b$ to $e$. To do that, we need\n",
    "to calculate the shortest path in a network where the cost is the negative of the duration."
   ]
  },
  {
   "cell_type": "markdown",
   "id": "2464e5ce",
   "metadata": {},
   "source": [
    "Change the sign of all the weights on the arcs"
   ]
  },
  {
   "cell_type": "code",
   "execution_count": null,
   "id": "59057115",
   "metadata": {},
   "outputs": [],
   "source": [
    "for _, _, data in pert_network.edges(data=True):\n",
    "    data['cost'] = ...\n"
   ]
  },
  {
   "cell_type": "markdown",
   "id": "8962814b",
   "metadata": {},
   "source": [
    "We draw again the network with the new costs."
   ]
  },
  {
   "cell_type": "code",
   "execution_count": null,
   "id": "60139a50",
   "metadata": {},
   "outputs": [],
   "source": [
    "fig, ax = plt.subplots(figsize=(8, 6))\n",
    "draw_network(the_network=pert_network, attr_edge_labels='cost', ax=ax)\n",
    "plt.show()\n"
   ]
  },
  {
   "cell_type": "markdown",
   "id": "f0f237c0",
   "metadata": {},
   "source": [
    "We now calculate the shortest paths."
   ]
  },
  {
   "cell_type": "markdown",
   "id": "30892204",
   "metadata": {},
   "source": [
    "Initialization"
   ]
  },
  {
   "cell_type": "code",
   "execution_count": null,
   "id": "24125d24",
   "metadata": {},
   "outputs": [],
   "source": [
    "the_algorithm = ShortestPathAlgorithm(\n",
    "    the_network=...,\n",
    "    the_cost_name=...,\n",
    "    the_origin=...\n",
    ")\n"
   ]
  },
  {
   "cell_type": "markdown",
   "id": "79573180",
   "metadata": {},
   "source": [
    "Running the algorithm"
   ]
  },
  {
   "cell_type": "code",
   "execution_count": null,
   "id": "961f689d",
   "metadata": {},
   "outputs": [],
   "source": [
    "the_algorithm.shortest_path_algorithm()\n",
    "display(the_algorithm.iterations)\n"
   ]
  },
  {
   "cell_type": "markdown",
   "id": "1a9c8f4c",
   "metadata": {},
   "source": [
    "Printing the shortest path from 'b' to 'e'."
   ]
  },
  {
   "cell_type": "markdown",
   "id": "fbb8905f",
   "metadata": {},
   "source": [
    "Each node along that path corresponds to a critical task."
   ]
  },
  {
   "cell_type": "code",
   "execution_count": null,
   "id": "fb67dbc7",
   "metadata": {},
   "outputs": [],
   "source": [
    "print(the_algorithm.recursive_shortest_path(node='e'))\n"
   ]
  },
  {
   "cell_type": "markdown",
   "id": "f4609928",
   "metadata": {},
   "source": [
    "The minimal timing of the duration of the work."
   ]
  },
  {
   "cell_type": "markdown",
   "id": "009d0907",
   "metadata": {},
   "source": [
    "Remember that the optimal labels are available at ``the_algorithm.labels``"
   ]
  },
  {
   "cell_type": "code",
   "execution_count": null,
   "id": "d47b77fe",
   "metadata": {},
   "outputs": [],
   "source": [
    "\n",
    "\n",
    "minimal_timing = ...\n",
    "print(f'Minimal timing for the project: {minimal_timing} days')\n"
   ]
  },
  {
   "cell_type": "markdown",
   "id": "54acc66b",
   "metadata": {},
   "source": [
    "# Earliest starting dates of each task"
   ]
  },
  {
   "cell_type": "code",
   "execution_count": null,
   "id": "95374ce2",
   "metadata": {},
   "outputs": [],
   "source": [
    "\n",
    "earliest_starting_day = {\n",
    "\n",
    "    task.name: ... for task in tasks_list\n",
    "}\n",
    "print(f'Earliest starting day:')\n",
    "for task, earliest in earliest_starting_day.items():\n",
    "    print(f'Task {task}: {earliest} days.')\n"
   ]
  },
  {
   "cell_type": "markdown",
   "id": "3d716503",
   "metadata": {},
   "source": [
    "# Latest starting dates of each task"
   ]
  },
  {
   "cell_type": "markdown",
   "id": "1f64cfc3",
   "metadata": {},
   "source": [
    "In order to obtain the latest starting day for each task, we have to look at the problem from the end, and  not from\n",
    "the beginning. In order to start from the end and work backward, we need to\n",
    "invert the direction for each arc, and then calculate again the longest\n",
    "path, but from $e$ to $b$. All labels are then be interpreted as a number of days until the end of the project,\n",
    "instead of a number of days since the beginning."
   ]
  },
  {
   "cell_type": "code",
   "execution_count": null,
   "id": "6c88f241",
   "metadata": {},
   "outputs": [],
   "source": [
    "\n",
    "pert_reversed = DiGraph()\n",
    "pert_reversed.add_nodes_from(\n",
    "    pert_network.nodes(data=True)\n",
    ")  # Copy nodes with attributes\n",
    "for upstream, downstream, data in pert_network.edges(data=True):\n",
    "    pert_reversed.add_edge(\n",
    "        downstream, upstream, cost=data['cost']\n",
    "    )  # Reverse the direction of the arc\n"
   ]
  },
  {
   "cell_type": "markdown",
   "id": "19986e47",
   "metadata": {},
   "source": [
    "We draw the updated network"
   ]
  },
  {
   "cell_type": "code",
   "execution_count": null,
   "id": "9e2a718e",
   "metadata": {},
   "outputs": [],
   "source": [
    "fig, ax = plt.subplots(figsize=(8, 6))\n",
    "draw_network(the_network=pert_reversed, attr_edge_labels='cost', ax=ax)\n",
    "plt.show()\n"
   ]
  },
  {
   "cell_type": "markdown",
   "id": "d88081db",
   "metadata": {},
   "source": [
    "We solve the shortest path problem in the new network, starting from the end of the project."
   ]
  },
  {
   "cell_type": "markdown",
   "id": "eb153f30",
   "metadata": {},
   "source": [
    "Initialization"
   ]
  },
  {
   "cell_type": "code",
   "execution_count": null,
   "id": "16989c39",
   "metadata": {},
   "outputs": [],
   "source": [
    "the_reversed_algorithm = ShortestPathAlgorithm(\n",
    "    the_network=...,\n",
    "    the_cost_name=...,\n",
    "    the_origin=...\n",
    ")\n"
   ]
  },
  {
   "cell_type": "markdown",
   "id": "fc6a9810",
   "metadata": {},
   "source": [
    "Running the algorithm"
   ]
  },
  {
   "cell_type": "code",
   "execution_count": null,
   "id": "c60cb7a0",
   "metadata": {},
   "outputs": [],
   "source": [
    "the_reversed_algorithm.shortest_path_algorithm()\n",
    "display(the_reversed_algorithm.iterations)\n"
   ]
  },
  {
   "cell_type": "markdown",
   "id": "8c7ecd8a",
   "metadata": {},
   "source": [
    "Printing the shortest path from 'e' to 'b'.\n",
    "This path involves the same nodes as before, corresponding to the critical tasks."
   ]
  },
  {
   "cell_type": "code",
   "execution_count": null,
   "id": "a01d96e5",
   "metadata": {},
   "outputs": [],
   "source": [
    "print(the_reversed_algorithm.recursive_shortest_path(node='b'))\n"
   ]
  },
  {
   "cell_type": "markdown",
   "id": "b0748a52",
   "metadata": {},
   "source": [
    "The minimal timing of the duration of the work."
   ]
  },
  {
   "cell_type": "code",
   "execution_count": null,
   "id": "c8f73504",
   "metadata": {},
   "outputs": [],
   "source": [
    "\n",
    "\n",
    "\n",
    "minimal_timing = ...\n",
    "print(f'Minimal timing for the project: {minimal_timing} days')\n"
   ]
  },
  {
   "cell_type": "markdown",
   "id": "5bcf242b",
   "metadata": {},
   "source": [
    "The (opposite of the) optimal labels of the \"reversed\" algorithm give us how many days before the end of the project should\n",
    "each task start at the latest.\n",
    "Consider task $O$ for instance. It does not precede\n",
    "any task, and lasts 1 day. Therefore, it can start at the latest one day before the end of the project,\n",
    "that is at day $13.5-1=12.5$, without delaying the project."
   ]
  },
  {
   "cell_type": "markdown",
   "id": "fdcdd464",
   "metadata": {},
   "source": [
    "Therefore, to obtain the\n",
    "latest start for each task, we just need to deduce this quantity from the duration of the project."
   ]
  },
  {
   "cell_type": "code",
   "execution_count": null,
   "id": "8a8ad5e5",
   "metadata": {},
   "outputs": [],
   "source": [
    "\n",
    "latest_starting_day = {\n",
    "    task.name: ...\n",
    "\n",
    "    for task in tasks_list\n",
    "}\n",
    "print(f'Latest starting days')\n",
    "print(latest_starting_day)\n",
    "\n"
   ]
  },
  {
   "cell_type": "markdown",
   "id": "7b572ab6",
   "metadata": {},
   "source": [
    "# Summary\n",
    "For each task, we report the earliest and latest starting day. If they are equal, it is a\n",
    "critical task."
   ]
  },
  {
   "cell_type": "code",
   "execution_count": null,
   "id": "526fa266",
   "metadata": {},
   "outputs": [],
   "source": [
    "summary = []\n",
    "for task in tasks_list:\n",
    "    is_critical = earliest_starting_day[task.name] == latest_starting_day[task.name]\n",
    "    row = {\n",
    "        'Name': task.name,\n",
    "        'Description': task.description,\n",
    "        'Earliest start': earliest_starting_day[task.name],\n",
    "        'Latest start': latest_starting_day[task.name],\n",
    "        'Critical': 'YES' if is_critical else 'no',\n",
    "    }\n",
    "    summary.append(row)\n",
    "display(pd.DataFrame(summary))"
   ]
  }
 ],
 "metadata": {},
 "nbformat": 4,
 "nbformat_minor": 5
}
