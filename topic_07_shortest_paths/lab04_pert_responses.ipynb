{
 "cells": [
  {
   "cell_type": "markdown",
   "id": "47f90c8c",
   "metadata": {},
   "source": [
    "# Program Evaluation and Review Technique (PERT)\n",
    "\n",
    "## Introduction to optimization and operations research.\n",
    "\n",
    "Michel Bierlaire\n"
   ]
  },
  {
   "cell_type": "code",
   "execution_count": null,
   "id": "48ea8f90",
   "metadata": {},
   "outputs": [],
   "source": [
    "\n",
    "from typing import NamedTuple\n",
    "\n",
    "import pandas as pd\n",
    "from IPython.core.display_functions import display\n",
    "from matplotlib import pyplot as plt\n",
    "from networkx import DiGraph\n",
    "from teaching_optimization.networks import draw_network\n",
    "from teaching_optimization.networks.shortest_path_algorithm import ShortestPathAlgorithm\n"
   ]
  },
  {
   "cell_type": "markdown",
   "id": "30e9a19b",
   "metadata": {},
   "source": [
    "In this lab, you will model a small project with **precedence constraints** and use PERT\n",
    "ideas to analyze it. You will (i) build a directed network of tasks, (ii) compute the\n",
    "**critical path** by turning durations into arc costs and solving a shortest-path problem\n",
    "with negated weights, and (iii) extract the project’s **minimum duration** as well as the\n",
    "**earliest** and **latest** starting times for each task. The goal is to connect the project\n",
    "diagram (tasks, dependencies, durations) with graph algorithms, understand why critical\n",
    "tasks cannot be delayed without delaying the whole project, and develop intuition for how\n",
    "slack and criticality guide scheduling decisions."
   ]
  },
  {
   "cell_type": "markdown",
   "id": "3a1e8747",
   "metadata": {},
   "source": [
    "The renovation of an apartment's living room breaks down into several\n",
    "tasks listed below. Precedence constraints have\n",
    "to be respected during the planning of the works. The duration of each task is given as well."
   ]
  },
  {
   "cell_type": "markdown",
   "id": "c515c7e2",
   "metadata": {},
   "source": [
    "The objective of this exercise is to\n",
    "\n",
    "- identify critical tasks that cannot suffer from any delay without delaying the project,\n",
    "- give the minimal timing of the duration of the work,\n",
    "- calculate the earliest starting dates of each task,\n",
    "- calculate the latest starting dates of each task."
   ]
  },
  {
   "cell_type": "markdown",
   "id": "319398ef",
   "metadata": {},
   "source": [
    "We first define a data structure for the tasks."
   ]
  },
  {
   "cell_type": "code",
   "execution_count": null,
   "id": "76a32455",
   "metadata": {},
   "outputs": [],
   "source": [
    "class Task(NamedTuple):\n",
    "    name: str\n",
    "    description: str\n",
    "    precedence: list[str]\n",
    "    duration: float\n",
    "\n"
   ]
  },
  {
   "cell_type": "markdown",
   "id": "c6f34e77",
   "metadata": {},
   "source": [
    "Here is the list of tasks with the precedence constraints, and the duration."
   ]
  },
  {
   "cell_type": "code",
   "execution_count": null,
   "id": "ea429d0d",
   "metadata": {},
   "outputs": [],
   "source": [
    "tasks_list: list[Task] = [\n",
    "    Task('A', 'Door removal', [], 0.5),\n",
    "    Task('B', 'Sanding and painting doors', ['A'], 3),\n",
    "    Task('C', 'Hanging doors', ['B', 'J'], 0.5),\n",
    "    Task('D', 'Peeling off wallpapers', [], 1),\n",
    "    Task('E', 'Pulling electrical wires', ['D'], 1),\n",
    "    Task('F', 'Laying electrical outlet', ['E', 'H', 'I'], 0.5),\n",
    "    Task('G', 'Smoothing walls', ['E', 'A'], 2),\n",
    "    Task('H', 'Sanding of frames', ['G'], 2),\n",
    "    Task('I', 'Ceiling painting', ['G'], 3),\n",
    "    Task('J', 'Painting frames', ['H', 'I'], 1),\n",
    "    Task('K', 'Ripping off the carpet', ['H', 'I', 'J'], 0.5),\n",
    "    Task('L', 'Sanding parquet', ['K'], 1),\n",
    "    Task('M', 'Impregnation and drying of parquet', ['L', 'F'], 4),\n",
    "    Task('N', 'Balcony painting', [], 2),\n",
    "    Task('O', 'Change of solar protections', ['N'], 1),\n",
    "]\n",
    "\n"
   ]
  },
  {
   "cell_type": "markdown",
   "id": "6bf7c06a",
   "metadata": {},
   "source": [
    "Printing the list of tasks."
   ]
  },
  {
   "cell_type": "code",
   "execution_count": null,
   "id": "4daaf4e8",
   "metadata": {},
   "outputs": [],
   "source": [
    "for task in tasks_list:\n",
    "    print(task)\n"
   ]
  },
  {
   "cell_type": "markdown",
   "id": "6d4ae67a",
   "metadata": {},
   "source": [
    "# Network representation"
   ]
  },
  {
   "cell_type": "markdown",
   "id": "1e08f99b",
   "metadata": {},
   "source": [
    "We first need to provide a network representation of the problem."
   ]
  },
  {
   "cell_type": "markdown",
   "id": "88e01604",
   "metadata": {},
   "source": [
    "We create a network where each node is a task.\n",
    "We also add one node \"b\" to represent the beginning of the project, and one node \"e\" to represent the end of the\n",
    "project. We also associate each node with a coordinate in order to display the network."
   ]
  },
  {
   "cell_type": "code",
   "execution_count": null,
   "id": "964648c1",
   "metadata": {},
   "outputs": [],
   "source": [
    "\n",
    "positions = {\n",
    "    'b': (0, 0),\n",
    "    'A': (1, 2),\n",
    "    'B': (2, 2),\n",
    "    'C': (6, 2),\n",
    "    'D': (1, 0),\n",
    "    'E': (2, 0),\n",
    "    'F': (5, -1),\n",
    "    'G': (3, 0),\n",
    "    'H': (4, 1),\n",
    "    'I': (4, 0),\n",
    "    'J': (5, 1.5),\n",
    "    'K': (6, 0),\n",
    "    'L': (7, 0),\n",
    "    'M': (8, 0),\n",
    "    'N': (1, -2),\n",
    "    'O': (5, -2),\n",
    "    'e': (9, 0),\n",
    "}\n",
    "\n",
    "nodes = list(positions.keys())\n"
   ]
  },
  {
   "cell_type": "markdown",
   "id": "f336211e",
   "metadata": {},
   "source": [
    "Now, generate the list of arcs of the network from the task description. Each arc is a tuple\n",
    "``(upstream_node, downstream_node, duration)``"
   ]
  },
  {
   "cell_type": "markdown",
   "id": "329375d4",
   "metadata": {},
   "source": [
    "First, we create a dict with the durations of the tasks."
   ]
  },
  {
   "cell_type": "code",
   "execution_count": null,
   "id": "a3d3932d",
   "metadata": {},
   "outputs": [],
   "source": [
    "tasks_duration: dict[str, float] = {task.name: task.duration for task in tasks_list}\n"
   ]
  },
  {
   "cell_type": "markdown",
   "id": "924c503c",
   "metadata": {},
   "source": [
    "For each task $j$, we add an arc $(i,j)$ for each predecessor $i$."
   ]
  },
  {
   "cell_type": "code",
   "execution_count": null,
   "id": "3c705905",
   "metadata": {},
   "outputs": [],
   "source": [
    "list_1 = [\n",
    "    (predecessor, task.name, tasks_duration[predecessor])\n",
    "    for task in tasks_list\n",
    "    for predecessor in task.precedence\n",
    "]\n",
    "display(list_1)\n"
   ]
  },
  {
   "cell_type": "markdown",
   "id": "2f765e4d",
   "metadata": {},
   "source": [
    "For each task $j$ without predecessor, we define an arc $(b,j)$."
   ]
  },
  {
   "cell_type": "code",
   "execution_count": null,
   "id": "fc58a18a",
   "metadata": {},
   "outputs": [],
   "source": [
    "list_2 = [\n",
    "    ('b', task.name, 0.0) for task in tasks_list if not task.precedence\n",
    "]\n",
    "display(list_2)\n"
   ]
  },
  {
   "cell_type": "markdown",
   "id": "072676e7",
   "metadata": {},
   "source": [
    "For each task $i$ without successor, we define an arc $(i,e)$."
   ]
  },
  {
   "cell_type": "markdown",
   "id": "839ef8f7",
   "metadata": {},
   "source": [
    "First, we identify the set of tasks without successor."
   ]
  },
  {
   "cell_type": "code",
   "execution_count": null,
   "id": "00215b2e",
   "metadata": {},
   "outputs": [],
   "source": [
    "all_tasks = {task.name for task in tasks_list}\n",
    "task_with_successor = {\n",
    "    predecessor for task in tasks_list for predecessor in task.precedence\n",
    "}\n",
    "tasks_without_successor = all_tasks - task_with_successor\n",
    "display(tasks_without_successor)\n"
   ]
  },
  {
   "cell_type": "markdown",
   "id": "efb1c3a3",
   "metadata": {},
   "source": [
    "Then, we create the last list of arcs."
   ]
  },
  {
   "cell_type": "code",
   "execution_count": null,
   "id": "6c95f085",
   "metadata": {},
   "outputs": [],
   "source": [
    "list_3 = [\n",
    "    (task, 'e', tasks_duration[task]) for task in tasks_without_successor\n",
    "]\n",
    "display(list_3)\n"
   ]
  },
  {
   "cell_type": "markdown",
   "id": "fd5e12b7",
   "metadata": {},
   "source": [
    "We merge the three lists"
   ]
  },
  {
   "cell_type": "code",
   "execution_count": null,
   "id": "45218566",
   "metadata": {},
   "outputs": [],
   "source": [
    "arcs = list_1 + list_2 + list_3\n",
    "display(arcs)\n"
   ]
  },
  {
   "cell_type": "markdown",
   "id": "820a4d02",
   "metadata": {},
   "source": [
    "We create and display the network"
   ]
  },
  {
   "cell_type": "code",
   "execution_count": null,
   "id": "b3040d6e",
   "metadata": {},
   "outputs": [],
   "source": [
    "pert_network: DiGraph = DiGraph()\n",
    "for node in nodes:\n",
    "    pert_network.add_node(node, pos=positions[node])\n",
    "pert_network.add_weighted_edges_from(arcs, weight='cost')\n"
   ]
  },
  {
   "cell_type": "code",
   "execution_count": null,
   "id": "674767bd",
   "metadata": {},
   "outputs": [],
   "source": [
    "fig, ax = plt.subplots(figsize=(8, 6))\n",
    "draw_network(the_network=pert_network, attr_edge_labels='cost', ax=ax)\n",
    "plt.show()\n"
   ]
  },
  {
   "cell_type": "markdown",
   "id": "3a8bf9d4",
   "metadata": {},
   "source": [
    "# Identification of the critical path"
   ]
  },
  {
   "cell_type": "markdown",
   "id": "9b18bd03",
   "metadata": {},
   "source": [
    "We need to calculate the longest path from $b$ to $e$. To do that, we need\n",
    "to calculate the shortest path in a network where the cost is the negative of the duration."
   ]
  },
  {
   "cell_type": "markdown",
   "id": "c6760217",
   "metadata": {},
   "source": [
    "Change the sign of all the weights on the arcs"
   ]
  },
  {
   "cell_type": "code",
   "execution_count": null,
   "id": "1267537e",
   "metadata": {},
   "outputs": [],
   "source": [
    "for _, _, data in pert_network.edges(data=True):\n",
    "    data['cost'] = -data['cost']\n"
   ]
  },
  {
   "cell_type": "markdown",
   "id": "7c15fe7f",
   "metadata": {},
   "source": [
    "We draw again the network with the new costs."
   ]
  },
  {
   "cell_type": "code",
   "execution_count": null,
   "id": "807cd324",
   "metadata": {},
   "outputs": [],
   "source": [
    "fig, ax = plt.subplots(figsize=(8, 6))\n",
    "draw_network(the_network=pert_network, attr_edge_labels='cost', ax=ax)\n",
    "plt.show()\n"
   ]
  },
  {
   "cell_type": "markdown",
   "id": "4a1e3a55",
   "metadata": {},
   "source": [
    "We now calculate the shortest paths."
   ]
  },
  {
   "cell_type": "markdown",
   "id": "44d1ad92",
   "metadata": {},
   "source": [
    "Initialization"
   ]
  },
  {
   "cell_type": "code",
   "execution_count": null,
   "id": "5b4fc78a",
   "metadata": {},
   "outputs": [],
   "source": [
    "the_algorithm = ShortestPathAlgorithm(\n",
    "    the_network=pert_network,\n",
    "    the_cost_name='cost',\n",
    "    the_origin='b',\n",
    ")\n"
   ]
  },
  {
   "cell_type": "markdown",
   "id": "153d1a42",
   "metadata": {},
   "source": [
    "Running the algorithm"
   ]
  },
  {
   "cell_type": "code",
   "execution_count": null,
   "id": "b06331d1",
   "metadata": {},
   "outputs": [],
   "source": [
    "the_algorithm.shortest_path_algorithm()\n",
    "display(the_algorithm.iterations)\n"
   ]
  },
  {
   "cell_type": "markdown",
   "id": "0441c658",
   "metadata": {},
   "source": [
    "Printing the shortest path from 'b' to 'e'."
   ]
  },
  {
   "cell_type": "markdown",
   "id": "ae8a8f83",
   "metadata": {},
   "source": [
    "Each node along that path corresponds to a critical task."
   ]
  },
  {
   "cell_type": "code",
   "execution_count": null,
   "id": "87cf5aad",
   "metadata": {},
   "outputs": [],
   "source": [
    "print(the_algorithm.recursive_shortest_path(node='e'))\n"
   ]
  },
  {
   "cell_type": "markdown",
   "id": "245a6a9d",
   "metadata": {},
   "source": [
    "The minimal timing of the duration of the work."
   ]
  },
  {
   "cell_type": "markdown",
   "id": "7b4e74ee",
   "metadata": {},
   "source": [
    "Remember that the optimal labels are available at ``the_algorithm.labels``"
   ]
  },
  {
   "cell_type": "markdown",
   "id": "09a01fa0",
   "metadata": {},
   "source": [
    "It is given by the label of node 'e', with the opposite sign."
   ]
  },
  {
   "cell_type": "code",
   "execution_count": null,
   "id": "36989b60",
   "metadata": {},
   "outputs": [],
   "source": [
    "minimal_timing = -the_algorithm.labels['e']\n",
    "print(f'Minimal timing for the project: {minimal_timing} days')\n"
   ]
  },
  {
   "cell_type": "markdown",
   "id": "c795b350",
   "metadata": {},
   "source": [
    "# Earliest starting dates of each task\n",
    "The optimal labels of the algorithm are the earliest start for each task, with the opposite sign."
   ]
  },
  {
   "cell_type": "code",
   "execution_count": null,
   "id": "3c7a8d7a",
   "metadata": {},
   "outputs": [],
   "source": [
    "earliest_starting_day = {\n",
    "    task.name: -the_algorithm.labels[task.name]\n",
    "    for task in tasks_list\n",
    "}\n",
    "print(f'Earliest starting day:')\n",
    "for task, earliest in earliest_starting_day.items():\n",
    "    print(f'Task {task}: {earliest} days.')\n"
   ]
  },
  {
   "cell_type": "markdown",
   "id": "610845e8",
   "metadata": {},
   "source": [
    "# Latest starting dates of each task"
   ]
  },
  {
   "cell_type": "markdown",
   "id": "4708637f",
   "metadata": {},
   "source": [
    "In order to obtain the latest starting day for each task, we have to look at the problem from the end, and  not from\n",
    "the beginning. In order to start from the end and work backward, we need to\n",
    "invert the direction for each arc, and then calculate again the longest\n",
    "path, but from $e$ to $b$. All labels are then be interpreted as a number of days until the end of the project,\n",
    "instead of a number of days since the beginning."
   ]
  },
  {
   "cell_type": "code",
   "execution_count": null,
   "id": "989d2327",
   "metadata": {},
   "outputs": [],
   "source": [
    "\n",
    "pert_reversed = DiGraph()\n",
    "pert_reversed.add_nodes_from(\n",
    "    pert_network.nodes(data=True)\n",
    ")  # Copy nodes with attributes\n",
    "for upstream, downstream, data in pert_network.edges(data=True):\n",
    "    pert_reversed.add_edge(\n",
    "        downstream, upstream, cost=data['cost']\n",
    "    )  # Reverse the direction of the arc\n"
   ]
  },
  {
   "cell_type": "markdown",
   "id": "d6baa5ea",
   "metadata": {},
   "source": [
    "We draw the updated network"
   ]
  },
  {
   "cell_type": "code",
   "execution_count": null,
   "id": "2414857e",
   "metadata": {},
   "outputs": [],
   "source": [
    "fig, ax = plt.subplots(figsize=(8, 6))\n",
    "draw_network(the_network=pert_reversed, attr_edge_labels='cost', ax=ax)\n",
    "plt.show()\n"
   ]
  },
  {
   "cell_type": "markdown",
   "id": "4a40e914",
   "metadata": {},
   "source": [
    "We solve the shortest path problem in the new network, starting from the end of the project."
   ]
  },
  {
   "cell_type": "markdown",
   "id": "5c417a93",
   "metadata": {},
   "source": [
    "Initialization"
   ]
  },
  {
   "cell_type": "code",
   "execution_count": null,
   "id": "eb0bfbc8",
   "metadata": {},
   "outputs": [],
   "source": [
    "the_reversed_algorithm = ShortestPathAlgorithm(\n",
    "    the_network=pert_reversed,\n",
    "    the_cost_name='cost',\n",
    "    the_origin='e',\n",
    ")\n"
   ]
  },
  {
   "cell_type": "markdown",
   "id": "cd6dc5ae",
   "metadata": {},
   "source": [
    "Running the algorithm"
   ]
  },
  {
   "cell_type": "code",
   "execution_count": null,
   "id": "4dd852b3",
   "metadata": {},
   "outputs": [],
   "source": [
    "the_reversed_algorithm.shortest_path_algorithm()\n",
    "display(the_reversed_algorithm.iterations)\n"
   ]
  },
  {
   "cell_type": "markdown",
   "id": "e3cb7784",
   "metadata": {},
   "source": [
    "Printing the shortest path from 'e' to 'b'.\n",
    "This path involves the same nodes as before, corresponding to the critical tasks."
   ]
  },
  {
   "cell_type": "code",
   "execution_count": null,
   "id": "41a2f760",
   "metadata": {},
   "outputs": [],
   "source": [
    "print(the_reversed_algorithm.recursive_shortest_path(node='b'))\n"
   ]
  },
  {
   "cell_type": "markdown",
   "id": "90c2e162",
   "metadata": {},
   "source": [
    "The minimal timing of the duration of the work."
   ]
  },
  {
   "cell_type": "markdown",
   "id": "c6f6b73f",
   "metadata": {},
   "source": [
    "It is given by the label of node 'b', with the opposite sign.\n",
    "It must be the same as before."
   ]
  },
  {
   "cell_type": "code",
   "execution_count": null,
   "id": "502c18a7",
   "metadata": {},
   "outputs": [],
   "source": [
    "minimal_timing = -the_reversed_algorithm.labels['b']\n",
    "print(f'Minimal timing for the project: {minimal_timing} days')\n"
   ]
  },
  {
   "cell_type": "markdown",
   "id": "16bf8042",
   "metadata": {},
   "source": [
    "The (opposite of the) optimal labels of the \"reversed\" algorithm give us how many days before the end of the project should\n",
    "each task start at the latest.\n",
    "Consider task $O$ for instance. It does not precede\n",
    "any task, and lasts 1 day. Therefore, it can start at the latest one day before the end of the project,\n",
    "that is at day $13.5-1=12.5$, without delaying the project."
   ]
  },
  {
   "cell_type": "markdown",
   "id": "203a5203",
   "metadata": {},
   "source": [
    "Therefore, to obtain the\n",
    "latest start for each task, we just need to deduce this quantity from the duration of the project."
   ]
  },
  {
   "cell_type": "code",
   "execution_count": null,
   "id": "60a40890",
   "metadata": {},
   "outputs": [],
   "source": [
    "\n",
    "latest_starting_day = {\n",
    "    task.name: minimal_timing\n",
    "    - (-the_reversed_algorithm.labels[task.name])\n",
    "    for task in tasks_list\n",
    "}\n",
    "print(f'Latest starting days')\n",
    "print(latest_starting_day)\n",
    "\n"
   ]
  },
  {
   "cell_type": "markdown",
   "id": "b8a8497a",
   "metadata": {},
   "source": [
    "# Summary\n",
    "For each task, we report the earliest and latest starting day. If they are equal, it is a\n",
    "critical task."
   ]
  },
  {
   "cell_type": "code",
   "execution_count": null,
   "id": "a1b64faa",
   "metadata": {},
   "outputs": [],
   "source": [
    "summary = []\n",
    "for task in tasks_list:\n",
    "    is_critical = earliest_starting_day[task.name] == latest_starting_day[task.name]\n",
    "    row = {\n",
    "        'Name': task.name,\n",
    "        'Description': task.description,\n",
    "        'Earliest start': earliest_starting_day[task.name],\n",
    "        'Latest start': latest_starting_day[task.name],\n",
    "        'Critical': 'YES' if is_critical else 'no',\n",
    "    }\n",
    "    summary.append(row)\n",
    "display(pd.DataFrame(summary))"
   ]
  }
 ],
 "metadata": {},
 "nbformat": 4,
 "nbformat_minor": 5
}
