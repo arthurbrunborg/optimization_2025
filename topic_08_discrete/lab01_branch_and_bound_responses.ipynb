{
 "cells": [
  {
   "cell_type": "markdown",
   "id": "c3365a9c",
   "metadata": {},
   "source": [
    "# Branch and bound\n",
    "\n",
    "## Introduction to optimization and operations research.\n",
    "\n",
    "Michel Bierlaire\n"
   ]
  },
  {
   "cell_type": "code",
   "execution_count": null,
   "id": "28054e17",
   "metadata": {},
   "outputs": [],
   "source": [
    "\n",
    "import numpy as np\n",
    "from IPython.core.display_functions import display\n",
    "from teaching_optimization.branch_and_bound.branch_and_bound_milp import LinearProblem\n",
    "from teaching_optimization.branch_and_bound.solution import Solution\n",
    "from teaching_optimization.linear_constraints import (\n",
    "    SignVariable,\n",
    "    Variable,\n",
    "    Term,\n",
    "    SignConstraint,\n",
    "    Constraint,\n",
    "    AllConstraints,\n",
    ")\n"
   ]
  },
  {
   "cell_type": "markdown",
   "id": "a6502c82",
   "metadata": {},
   "source": [
    "In this lab, you will implement a **branch-and-bound** solver to handle mixed-integer linear\n",
    "optimization problems. You will (i) solve the **linear relaxation** to get a bound, (ii) test\n",
    "**integrality** of the relaxation solution, (iii) **branch** on a fractional variable to create\n",
    "subproblems, and (iv) **prune** nodes using infeasibility or a valid **upper bound** on the best\n",
    "known integer solution. The goal is to understand how bounds, branching decisions, and pruning\n",
    "rules work together to explore the search tree efficiently and to certify **global optimality**."
   ]
  },
  {
   "cell_type": "markdown",
   "id": "31331ad7",
   "metadata": {},
   "source": [
    "Consider the optimization problem :\n",
    "$$\n",
    "\\min x_1 - 2 x_2\n",
    "$$\n",
    "subject to\n",
    "$$\n",
    "\\begin{array}{rcl}\n",
    "-4 x_1 + 6 x_2 & \\leq & 9 \\\\\n",
    "x_1 + x_2 &\\leq & 4 \\\\\n",
    "x_1, x_2 &\\geq& 0 \\\\\n",
    "x_1, x_2 & \\in & \\mathbb{N}.\n",
    "\\end{array}\n",
    "$$"
   ]
  },
  {
   "cell_type": "markdown",
   "id": "aef223c5",
   "metadata": {},
   "source": [
    "We first encode the relaxation as linear optimization problem."
   ]
  },
  {
   "cell_type": "markdown",
   "id": "ad33a58b",
   "metadata": {},
   "source": [
    "Coefficients of the objective function"
   ]
  },
  {
   "cell_type": "code",
   "execution_count": null,
   "id": "f3925005",
   "metadata": {},
   "outputs": [],
   "source": [
    "coefficients = np.array([1, -2])\n"
   ]
  },
  {
   "cell_type": "markdown",
   "id": "68ceae95",
   "metadata": {},
   "source": [
    "Non negative variables"
   ]
  },
  {
   "cell_type": "code",
   "execution_count": null,
   "id": "97f20ebc",
   "metadata": {},
   "outputs": [],
   "source": [
    "x1 = Variable('x1', sign=SignVariable.NON_NEGATIVE)\n",
    "x2 = Variable('x2', sign=SignVariable.NON_NEGATIVE)\n"
   ]
  },
  {
   "cell_type": "markdown",
   "id": "a1bff2dc",
   "metadata": {},
   "source": [
    "First constraint."
   ]
  },
  {
   "cell_type": "code",
   "execution_count": null,
   "id": "6549a7b7",
   "metadata": {},
   "outputs": [],
   "source": [
    "term_1_1 = Term(\n",
    "    variable=x1,\n",
    "    coefficient=-4,\n",
    ")\n",
    "term_1_2 = Term(variable=x2, coefficient=6)\n",
    "constraint_1 = Constraint(\n",
    "    name='first constraint',\n",
    "    left_hand_side=[term_1_1, term_1_2],\n",
    "    sign=SignConstraint.LESSER_OR_EQUAL,\n",
    "    right_hand_side=9,\n",
    ")\n"
   ]
  },
  {
   "cell_type": "markdown",
   "id": "9ab365dd",
   "metadata": {},
   "source": [
    "Second constraint"
   ]
  },
  {
   "cell_type": "code",
   "execution_count": null,
   "id": "817a0687",
   "metadata": {},
   "outputs": [],
   "source": [
    "term_2_1 = Term(\n",
    "    variable=x1,\n",
    "    coefficient=1,\n",
    ")\n",
    "term_2_2 = Term(variable=x2, coefficient=1)\n",
    "constraint_2 = Constraint(\n",
    "    name='second constraint',\n",
    "    left_hand_side=[term_2_1, term_2_2],\n",
    "    sign=SignConstraint.LESSER_OR_EQUAL,\n",
    "    right_hand_side=4,\n",
    ")\n"
   ]
  },
  {
   "cell_type": "markdown",
   "id": "260a8ca7",
   "metadata": {},
   "source": [
    "All constraints."
   ]
  },
  {
   "cell_type": "code",
   "execution_count": null,
   "id": "f63257ab",
   "metadata": {},
   "outputs": [],
   "source": [
    "all_constraints = AllConstraints(constraints=[constraint_1, constraint_2])\n",
    "print(all_constraints)\n"
   ]
  },
  {
   "cell_type": "markdown",
   "id": "dc4a8a85",
   "metadata": {},
   "source": [
    "The definition of the problem gathers all the data defined above, and provides a name."
   ]
  },
  {
   "cell_type": "code",
   "execution_count": null,
   "id": "6bda47ef",
   "metadata": {},
   "outputs": [],
   "source": [
    "the_problem: LinearProblem = LinearProblem(\n",
    "    objective_coefficients=coefficients, constraints=all_constraints, the_name='P'\n",
    ")\n"
   ]
  },
  {
   "cell_type": "markdown",
   "id": "c6da84db",
   "metadata": {},
   "source": [
    "If you print the problem, you obtain its name:"
   ]
  },
  {
   "cell_type": "code",
   "execution_count": null,
   "id": "4777385a",
   "metadata": {},
   "outputs": [],
   "source": [
    "print(the_problem)\n"
   ]
  },
  {
   "cell_type": "markdown",
   "id": "cd38a2a5",
   "metadata": {},
   "source": [
    "You can also print the constraints."
   ]
  },
  {
   "cell_type": "code",
   "execution_count": null,
   "id": "55bff3a8",
   "metadata": {},
   "outputs": [],
   "source": [
    "print(the_problem.constraints)\n"
   ]
  },
  {
   "cell_type": "markdown",
   "id": "55460698",
   "metadata": {},
   "source": [
    "Using this object, you can calculate a bound and obtain a tuple with\n",
    "\n",
    "- an object of type ``Solution``,\n",
    "- a boolean.\n",
    "\n",
    "The object of type ``Solution`` provides both the solution and the value of the objective function.\n",
    "If it is ``None``, it means that the problem is infeasible.\n",
    "The boolean is True if an integer solution has been found, and False otherwise."
   ]
  },
  {
   "cell_type": "code",
   "execution_count": null,
   "id": "9bce894d",
   "metadata": {},
   "outputs": [],
   "source": [
    "calculated_bound = the_problem.bound()\n",
    "if calculated_bound is not None:\n",
    "    the_solution, is_integer = calculated_bound\n"
   ]
  },
  {
   "cell_type": "markdown",
   "id": "28e110c6",
   "metadata": {},
   "source": [
    "The solution"
   ]
  },
  {
   "cell_type": "code",
   "execution_count": null,
   "id": "88f4680e",
   "metadata": {},
   "outputs": [],
   "source": [
    "display(the_solution)\n"
   ]
  },
  {
   "cell_type": "markdown",
   "id": "8f73de54",
   "metadata": {},
   "source": [
    "Is integer?"
   ]
  },
  {
   "cell_type": "code",
   "execution_count": null,
   "id": "080c0c02",
   "metadata": {},
   "outputs": [],
   "source": [
    "display(is_integer)\n"
   ]
  },
  {
   "cell_type": "markdown",
   "id": "fe027986",
   "metadata": {},
   "source": [
    "It also provides the \"branching\", that is, a list of subproblems of the same type.\n",
    "It means that each of the subproblems have a function ``branch`` and a function ``bound``."
   ]
  },
  {
   "cell_type": "code",
   "execution_count": null,
   "id": "bf561292",
   "metadata": {},
   "outputs": [],
   "source": [
    "the_subproblems: list[LinearProblem] = the_problem.branch()\n",
    "\n",
    "for subproblem in the_subproblems:\n",
    "    print(f'Subproblem {subproblem}')\n",
    "    print(subproblem.constraints)\n"
   ]
  },
  {
   "cell_type": "markdown",
   "id": "99b1e127",
   "metadata": {},
   "source": [
    "Now, we ask you to write a recursive function that takes a subproblem as input and solves it\n",
    "using the branch and bound method."
   ]
  },
  {
   "cell_type": "code",
   "execution_count": null,
   "id": "5a68d7fc",
   "metadata": {},
   "outputs": [],
   "source": [
    "\n",
    "\n",
    "def solve(a_subproblem: LinearProblem, upper_bound=np.inf, level=0) -> Solution | None:\n",
    "    \"\"\"\n",
    "\n",
    "    :param a_subproblem: the subproblem to solve\n",
    "    :param upper_bound: an upper bound on the optimal solution.\n",
    "    :param level: level of recursion. Used only for printing the output.\n",
    "    :return: the optimal solution if the problem has been solved. None if it is infeasible, or if there is no point\n",
    "        solving it as it will not provide the optimal solution of the original problem.\n",
    "    \"\"\"\n",
    "    # Use the same trick as below for your own printing statements\n",
    "    # so that the recursive calls are properly indented.\n",
    "    indentation = ' ' * level * 4\n",
    "    print(f'{indentation}**** Solving problem {a_subproblem.name} ****')\n",
    "    constraints = a_subproblem.constraints.report()\n",
    "    for constraint in constraints:\n",
    "        print(f'{indentation}{constraint}')\n",
    "    calculated_bound = a_subproblem.bound()\n",
    "    if calculated_bound is not None:\n",
    "        solution, is_integer = calculated_bound\n",
    "\n",
    "    # At this point, we have solved the relaxation of the subproblem. Continue the implementation\n",
    "    # of the algorithm.\n",
    "\n",
    "    # If the problem is infeasible, return None\n",
    "    if calculated_bound is None:\n",
    "        # The subproblem is infeasible\n",
    "        print(f'{indentation}{a_subproblem.name}: infeasible')\n",
    "        return None\n",
    "\n",
    "    # If the solution of the relaxation is also the solution of the integer problem,\n",
    "    # we can return the solution.\n",
    "    if is_integer:\n",
    "        print(f'{indentation}{a_subproblem.name}: optimal solution {solution}')\n",
    "        return solution\n",
    "\n",
    "    # Otherwise, we have the solution of the relaxation.\n",
    "    print(f'{indentation}{a_subproblem.name}: solution of relaxation {solution}')\n",
    "\n",
    "    # We first need to check if the problem is worth solving or not.\n",
    "    if solution.value >= upper_bound:\n",
    "        \"\"\"This subproblem is suboptimal. No need to solve it.\"\"\"\n",
    "        print(\n",
    "            f'{indentation}{a_subproblem.name}: lower bound {solution.value} '\n",
    "            f'larger than upper bound {upper_bound}'\n",
    "        )\n",
    "        return None\n",
    "\n",
    "    # At this point, we need to solve the problem. We decompose it into subproblems.\n",
    "    subproblems = a_subproblem.branch()\n",
    "\n",
    "    best_solution = None\n",
    "\n",
    "    # We recursively call the function for each subproblem.\n",
    "    for subproblem in subproblems:\n",
    "        solution: Solution | None = solve(\n",
    "            a_subproblem=subproblem, upper_bound=upper_bound, level=level + 1\n",
    "        )\n",
    "        # If ``None``is returned, we ignore this subproblem.\n",
    "        if solution is None:\n",
    "            continue\n",
    "        # If it is the first subproblem solved, it is also the best solution so far.\n",
    "        if best_solution is None:\n",
    "            best_solution = solution\n",
    "        # Otherwise, update the best solution and the upper bound.\n",
    "        elif solution.value < best_solution.value:\n",
    "            best_solution = solution\n",
    "        if best_solution.value < upper_bound:\n",
    "            upper_bound = best_solution.value\n",
    "\n",
    "    print(f'{indentation}{a_subproblem.name}: optimal solution {best_solution}')\n",
    "    return best_solution\n",
    "\n"
   ]
  },
  {
   "cell_type": "markdown",
   "id": "5d136c90",
   "metadata": {},
   "source": [
    "We apply this function on the original problem"
   ]
  },
  {
   "cell_type": "code",
   "execution_count": null,
   "id": "c3d873d1",
   "metadata": {},
   "outputs": [],
   "source": [
    "optimal_solution = solve(a_subproblem=the_problem)\n",
    "print(optimal_solution)\n"
   ]
  },
  {
   "cell_type": "markdown",
   "id": "4b31d74b",
   "metadata": {},
   "source": [
    "## Second example.\n",
    "Apply the algorithm to solve the following problem.\n",
    "\n",
    "$$\n",
    "\\min  -13/4x_1-  8x_2\n",
    "$$\n",
    "subject to\n",
    "\\begin{align*}\n",
    "5x_1+ 6x_2 &\\leq 30,\\\\\n",
    "-x_1+ 2x_2 &\\leq 6,\\\\\n",
    "x_1,x_2 &\\in \\mathbb{N}.\n",
    "\\end{align*}"
   ]
  },
  {
   "cell_type": "markdown",
   "id": "58ae1382",
   "metadata": {},
   "source": [
    "Coefficients of the objective function"
   ]
  },
  {
   "cell_type": "code",
   "execution_count": null,
   "id": "fb02d7e1",
   "metadata": {},
   "outputs": [],
   "source": [
    "coefficients = np.array([-13 / 4, -8])\n"
   ]
  },
  {
   "cell_type": "markdown",
   "id": "82cd0fb0",
   "metadata": {},
   "source": [
    "Non negative variables"
   ]
  },
  {
   "cell_type": "code",
   "execution_count": null,
   "id": "628d48f4",
   "metadata": {},
   "outputs": [],
   "source": [
    "x1 = Variable('x1', sign=SignVariable.NON_NEGATIVE)\n",
    "x2 = Variable('x2', sign=SignVariable.NON_NEGATIVE)\n"
   ]
  },
  {
   "cell_type": "markdown",
   "id": "a8d144ca",
   "metadata": {},
   "source": [
    "First constraint."
   ]
  },
  {
   "cell_type": "code",
   "execution_count": null,
   "id": "693dba87",
   "metadata": {},
   "outputs": [],
   "source": [
    "term_1_1 = Term(\n",
    "    variable=x1,\n",
    "    coefficient=5,\n",
    ")\n",
    "term_1_2 = Term(variable=x2, coefficient=6)\n",
    "constraint_1 = Constraint(\n",
    "    name='first constraint',\n",
    "    left_hand_side=[term_1_1, term_1_2],\n",
    "    sign=SignConstraint.LESSER_OR_EQUAL,\n",
    "    right_hand_side=30,\n",
    ")\n"
   ]
  },
  {
   "cell_type": "markdown",
   "id": "d367d704",
   "metadata": {},
   "source": [
    "Second constraint"
   ]
  },
  {
   "cell_type": "code",
   "execution_count": null,
   "id": "a913073a",
   "metadata": {},
   "outputs": [],
   "source": [
    "term_2_1 = Term(\n",
    "    variable=x1,\n",
    "    coefficient=-1,\n",
    ")\n",
    "term_2_2 = Term(variable=x2, coefficient=2)\n",
    "constraint_2 = Constraint(\n",
    "    name='second constraint',\n",
    "    left_hand_side=[term_2_1, term_2_2],\n",
    "    sign=SignConstraint.LESSER_OR_EQUAL,\n",
    "    right_hand_side=6,\n",
    ")\n"
   ]
  },
  {
   "cell_type": "markdown",
   "id": "69c83791",
   "metadata": {},
   "source": [
    "All constraints."
   ]
  },
  {
   "cell_type": "code",
   "execution_count": null,
   "id": "8d9d2009",
   "metadata": {},
   "outputs": [],
   "source": [
    "all_constraints = AllConstraints(\n",
    "    constraints=[constraint_1, constraint_2]\n",
    ")\n",
    "print(all_constraints)\n"
   ]
  },
  {
   "cell_type": "markdown",
   "id": "3e873ad3",
   "metadata": {},
   "source": [
    "The definition of the problem gathers all the data defined above, and provides a name."
   ]
  },
  {
   "cell_type": "code",
   "execution_count": null,
   "id": "0ee77b96",
   "metadata": {},
   "outputs": [],
   "source": [
    "the_problem: LinearProblem = LinearProblem(\n",
    "    objective_coefficients=coefficients, constraints=all_constraints, the_name='P'\n",
    ")\n"
   ]
  },
  {
   "cell_type": "markdown",
   "id": "3ea2d623",
   "metadata": {},
   "source": [
    "We apply the algorithm."
   ]
  },
  {
   "cell_type": "code",
   "execution_count": null,
   "id": "f5f76ff6",
   "metadata": {},
   "outputs": [],
   "source": [
    "optimal_solution = solve(a_subproblem=the_problem)\n",
    "print(optimal_solution)\n"
   ]
  },
  {
   "cell_type": "markdown",
   "id": "d5d10c15",
   "metadata": {},
   "source": [
    "## Third example.\n",
    "Apply the algorithm to solve the following problem.\n",
    "\n",
    "$$\n",
    "\\min_{x\\in \\mathbb{N}^2} -13 x_1 -8 x_2\n",
    "$$\n",
    "subject to\n",
    "\\begin{align*}\n",
    "x_1 + 2 x_2 & \\leq 10, \\\\\n",
    "5 x_1 + 2 x_2 & \\leq 20, \\\\\n",
    "x_1, x_2 & \\in \\mathbb{N}.\n",
    "\\end{align*}"
   ]
  },
  {
   "cell_type": "markdown",
   "id": "17a01c29",
   "metadata": {},
   "source": [
    "Coefficients of the objective function"
   ]
  },
  {
   "cell_type": "code",
   "execution_count": null,
   "id": "42646f9e",
   "metadata": {},
   "outputs": [],
   "source": [
    "coefficients = np.array([-13, -8])\n"
   ]
  },
  {
   "cell_type": "markdown",
   "id": "35221df5",
   "metadata": {},
   "source": [
    "Non negative variables"
   ]
  },
  {
   "cell_type": "code",
   "execution_count": null,
   "id": "5d0bfacc",
   "metadata": {},
   "outputs": [],
   "source": [
    "x1 = Variable('x1', sign=SignVariable.NON_NEGATIVE)\n",
    "x2 = Variable('x2', sign=SignVariable.NON_NEGATIVE)\n"
   ]
  },
  {
   "cell_type": "markdown",
   "id": "9c39d458",
   "metadata": {},
   "source": [
    "First constraint."
   ]
  },
  {
   "cell_type": "code",
   "execution_count": null,
   "id": "11d3ce2c",
   "metadata": {},
   "outputs": [],
   "source": [
    "term_1_1 = Term(\n",
    "    variable=x1,\n",
    "    coefficient=1,\n",
    ")\n",
    "term_1_2 = Term(variable=x2, coefficient=2)\n",
    "constraint_1 = Constraint(\n",
    "    name='first constraint',\n",
    "    left_hand_side=[term_1_1, term_1_2],\n",
    "    sign=SignConstraint.LESSER_OR_EQUAL,\n",
    "    right_hand_side=10,\n",
    ")\n"
   ]
  },
  {
   "cell_type": "markdown",
   "id": "5cf08ca4",
   "metadata": {},
   "source": [
    "Second constraint"
   ]
  },
  {
   "cell_type": "code",
   "execution_count": null,
   "id": "fc06cd7f",
   "metadata": {},
   "outputs": [],
   "source": [
    "term_2_1 = Term(\n",
    "    variable=x1,\n",
    "    coefficient=5,\n",
    ")\n",
    "term_2_2 = Term(variable=x2, coefficient=2)\n",
    "constraint_2 = Constraint(\n",
    "    name='second constraint',\n",
    "    left_hand_side=[term_2_1, term_2_2],\n",
    "    sign=SignConstraint.LESSER_OR_EQUAL,\n",
    "    right_hand_side=20,\n",
    ")\n"
   ]
  },
  {
   "cell_type": "markdown",
   "id": "8364ddab",
   "metadata": {},
   "source": [
    "All constraints."
   ]
  },
  {
   "cell_type": "code",
   "execution_count": null,
   "id": "2439da45",
   "metadata": {},
   "outputs": [],
   "source": [
    "all_constraints = AllConstraints(\n",
    "    constraints=[constraint_1, constraint_2]\n",
    ")\n",
    "print(all_constraints)\n"
   ]
  },
  {
   "cell_type": "markdown",
   "id": "012b145b",
   "metadata": {},
   "source": [
    "The definition of the problem gathers all the data defined above, and provides a name."
   ]
  },
  {
   "cell_type": "code",
   "execution_count": null,
   "id": "f4a10532",
   "metadata": {},
   "outputs": [],
   "source": [
    "the_problem: LinearProblem = LinearProblem(\n",
    "    objective_coefficients=coefficients, constraints=all_constraints, the_name='P'\n",
    ")\n"
   ]
  },
  {
   "cell_type": "markdown",
   "id": "84d03b83",
   "metadata": {},
   "source": [
    "We apply the algorithm."
   ]
  },
  {
   "cell_type": "code",
   "execution_count": null,
   "id": "a4b024d1",
   "metadata": {},
   "outputs": [],
   "source": [
    "optimal_solution = solve(a_subproblem=the_problem)\n",
    "print(optimal_solution)\n",
    "\n"
   ]
  },
  {
   "cell_type": "markdown",
   "id": "689df3d9",
   "metadata": {},
   "source": [
    "Note that the optimal solution was already found with the solution of P_1.\n",
    "But it is only at the end of the algorithm that we know that it is actually the\n",
    "optimal solution."
   ]
  }
 ],
 "metadata": {},
 "nbformat": 4,
 "nbformat_minor": 5
}
