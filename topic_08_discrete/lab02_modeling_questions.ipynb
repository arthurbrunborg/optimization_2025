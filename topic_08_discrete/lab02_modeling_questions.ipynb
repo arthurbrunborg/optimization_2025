{
 "cells": [
  {
   "cell_type": "markdown",
   "id": "94179908",
   "metadata": {},
   "source": [
    "# Discrete optimization: modeling\n",
    "\n",
    "## Introduction to optimization and operations research\n",
    "\n",
    "Michel Bierlaire\n"
   ]
  },
  {
   "cell_type": "markdown",
   "id": "6cf222a9",
   "metadata": {},
   "source": [
    "In this lab, you will translate a small hiring scenario into a **discrete optimization** model.\n",
    "You will define **binary variables** for decisions, encode logical relations (implication,\n",
    "equivalence, and either–or) as **linear constraints**, and introduce an **auxiliary binary**\n",
    "to model a disjunction safely. The goal is to practice turning words into algebra, to check\n",
    "feasibility by hand, and to develop habits you will reuse when building larger models for a\n",
    "solver."
   ]
  },
  {
   "cell_type": "markdown",
   "id": "ec55363e",
   "metadata": {},
   "source": [
    "This exercise does not require to code in Python."
   ]
  },
  {
   "cell_type": "markdown",
   "id": "8790f92b",
   "metadata": {},
   "source": [
    "You want to hire a group of workers for your job site. You have at your disposal 7 candidates:"
   ]
  },
  {
   "cell_type": "markdown",
   "id": "27dfd119",
   "metadata": {},
   "source": [
    "- Asmodeus,\n",
    "- Belphegor,\n",
    "- Beelzebub,\n",
    "- Leviathan,\n",
    "- Lucifer,\n",
    "- Mammon,\n",
    "- Satan."
   ]
  },
  {
   "cell_type": "markdown",
   "id": "ec176112",
   "metadata": {},
   "source": [
    "Each decision is modeled by a binary variable $x_i$ which is $1$ if\n",
    "the worker $i$ is hired, and $0$ otherwise. Model the following\n",
    "constraints:\n",
    "\n",
    "- not all candidates can be hired;\n",
    "- at least one candidate must be hired;\n",
    "- Asmodeus can not be hired if Beelzebub is;\n",
    "- Leviathan can be hired only if Belphegor is;\n",
    "- Asmodeus and Lucifer are not separable, and have to be hired\n",
    "both, or not at all;\n",
    "- at least one of the two following constraints must be verified: (i) at least one of the candidates in the group\n",
    "Asmodeus, Belphegor,\n",
    "Beelzebub is chosen,  or (ii) at least two  in the group Belphegor,\n",
    "Leviathan, Lucifer, Mammon."
   ]
  },
  {
   "cell_type": "markdown",
   "id": "bd05c4e2",
   "metadata": {},
   "source": [
    "Provide a feasible solution."
   ]
  },
  {
   "cell_type": "markdown",
   "id": "fbc72e43",
   "metadata": {},
   "source": [
    "## Not all candidates can be hired."
   ]
  },
  {
   "cell_type": "markdown",
   "id": "171a2909",
   "metadata": {},
   "source": [
    "## At least one candidate must be hired."
   ]
  },
  {
   "cell_type": "markdown",
   "id": "62b6b09a",
   "metadata": {},
   "source": [
    "## Asmodeus can not be hired if Beelzebub is."
   ]
  },
  {
   "cell_type": "markdown",
   "id": "a02b0644",
   "metadata": {},
   "source": [
    "## Leviathan can be hired only if Belphegor is."
   ]
  },
  {
   "cell_type": "markdown",
   "id": "318a6e41",
   "metadata": {},
   "source": [
    "##  Asmodeus and Lucifer are not separable, and have to be hired both, or not at all."
   ]
  },
  {
   "cell_type": "markdown",
   "id": "e9d4c8f3",
   "metadata": {},
   "source": [
    "## At least one of the two following constraints must be verified:\n",
    "- at least one of the candidates in the group Asmodeus, Belphegor, Beelzebub is chosen, or\n",
    "- at least two in the group Belphegor, Leviathan, Lucifer, Mammon."
   ]
  },
  {
   "cell_type": "markdown",
   "id": "e32401d9",
   "metadata": {},
   "source": [
    "## One feasible solution is..."
   ]
  }
 ],
 "metadata": {},
 "nbformat": 4,
 "nbformat_minor": 5
}
