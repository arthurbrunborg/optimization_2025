{
 "cells": [
  {
   "cell_type": "markdown",
   "id": "15eb4333",
   "metadata": {},
   "source": [
    "# Discrete optimization: modeling\n",
    "\n",
    "## Introduction to optimization and operations research\n",
    "\n",
    "Michel Bierlaire\n"
   ]
  },
  {
   "cell_type": "markdown",
   "id": "a183306f",
   "metadata": {},
   "source": [
    "In this lab, you will translate a small hiring scenario into a **discrete optimization** model.\n",
    "You will define **binary variables** for decisions, encode logical relations (implication,\n",
    "equivalence, and either–or) as **linear constraints**, and introduce an **auxiliary binary**\n",
    "to model a disjunction safely. The goal is to practice turning words into algebra, to check\n",
    "feasibility by hand, and to develop habits you will reuse when building larger models for a\n",
    "solver."
   ]
  },
  {
   "cell_type": "markdown",
   "id": "6fff6ad6",
   "metadata": {},
   "source": [
    "This exercise does not require to code in Python."
   ]
  },
  {
   "cell_type": "markdown",
   "id": "04ff7e21",
   "metadata": {},
   "source": [
    "You want to hire a group of workers for your job site. You have at your disposal 7 candidates:"
   ]
  },
  {
   "cell_type": "markdown",
   "id": "5bfa9ebe",
   "metadata": {},
   "source": [
    "- Asmodeus,\n",
    "- Belphegor,\n",
    "- Beelzebub,\n",
    "- Leviathan,\n",
    "- Lucifer,\n",
    "- Mammon,\n",
    "- Satan."
   ]
  },
  {
   "cell_type": "markdown",
   "id": "8a685ae1",
   "metadata": {},
   "source": [
    "Each decision is modeled by a binary variable $x_i$ which is $1$ if\n",
    "the worker $i$ is hired, and $0$ otherwise. Model the following\n",
    "constraints:\n",
    "\n",
    "- not all candidates can be hired;\n",
    "- at least one candidate must be hired;\n",
    "- Asmodeus can not be hired if Beelzebub is;\n",
    "- Leviathan can be hired only if Belphegor is;\n",
    "- Asmodeus and Lucifer are not separable, and have to be hired\n",
    "both, or not at all;\n",
    "- at least one of the two following constraints must be verified: (i) at least one of the candidates in the group\n",
    "Asmodeus, Belphegor,\n",
    "Beelzebub is chosen,  or (ii) at least two  in the group Belphegor,\n",
    "Leviathan, Lucifer, Mammon."
   ]
  },
  {
   "cell_type": "markdown",
   "id": "e1a1249e",
   "metadata": {},
   "source": [
    "Provide a feasible solution."
   ]
  },
  {
   "cell_type": "markdown",
   "id": "67b36864",
   "metadata": {},
   "source": [
    "The following binary decision variables are equal to $1$ if the\n",
    "corresponding candidate is hired, and $0$ otherwise:"
   ]
  },
  {
   "cell_type": "markdown",
   "id": "99509b13",
   "metadata": {},
   "source": [
    "- $x_1$: Asmodeus,\n",
    "- $x_2$: Belphegor,\n",
    "- $x_3$: Beelzebub,\n",
    "- $x_4$: Leviathan,\n",
    "- $x_5$: Lucifer,\n",
    "- $x_6$: Mammon,\n",
    "- $x_7$: Satan."
   ]
  },
  {
   "cell_type": "markdown",
   "id": "cc9e777f",
   "metadata": {},
   "source": [
    "The constraints are modeled as follows."
   ]
  },
  {
   "cell_type": "markdown",
   "id": "b8510177",
   "metadata": {},
   "source": [
    "## Not all candidates can be hired."
   ]
  },
  {
   "cell_type": "markdown",
   "id": "a5fae23b",
   "metadata": {},
   "source": [
    "It means that not all variables\n",
    "can take the value one. We require the sum not to exceed 6:\n",
    "$$ \\sum_{i=1}^7 x_i\\leq 6. $$"
   ]
  },
  {
   "cell_type": "markdown",
   "id": "62edf512",
   "metadata": {},
   "source": [
    "## At least one candidate must be hired."
   ]
  },
  {
   "cell_type": "markdown",
   "id": "8d9277bc",
   "metadata": {},
   "source": [
    "At least one variable must\n",
    "take the value one. We require the sum to be at least equal to one.\n",
    "$$\\sum_{i=1}^7 x_i \\geq 1. $$\n",
    "## Asmodeus can not be hired if Beelzebub is."
   ]
  },
  {
   "cell_type": "markdown",
   "id": "b733ccfd",
   "metadata": {},
   "source": [
    "The fact that\n",
    "Asmodeus is not hired is represented by a negation: $1-x_1$. The\n",
    "implication is then modeled as\n",
    "$$\n",
    "x_3 \\leq 1-x_1,\n",
    "$$\n",
    "or, equivalently,\n",
    "$$\n",
    "x_1+x_3 \\leq 1.\n",
    "$$"
   ]
  },
  {
   "cell_type": "markdown",
   "id": "4b476cbc",
   "metadata": {},
   "source": [
    "## Leviathan can be hired only if Belphegor is."
   ]
  },
  {
   "cell_type": "markdown",
   "id": "b3718739",
   "metadata": {},
   "source": [
    "If $x_4=1$, then\n",
    "$x_2=1$. It is modeled as\n",
    "$$\n",
    "x_4 \\leq x_2,\n",
    "$$\n",
    "or equivalently,\n",
    "$$\n",
    "x_2-x_4 \\geq 0.\n",
    "$$"
   ]
  },
  {
   "cell_type": "markdown",
   "id": "c38eff78",
   "metadata": {},
   "source": [
    "##  Asmodeus and Lucifer are not separable, and have to be hired both, or not at all."
   ]
  },
  {
   "cell_type": "markdown",
   "id": "f59b19d7",
   "metadata": {},
   "source": [
    "Basically, it means that the decision for one\n",
    "is the same as the decision for the other one. The constraint is\n",
    "$$\n",
    "x_1=x_5,\n",
    "$$\n",
    "or, equivalently,\n",
    "$$\n",
    "x_1-x_5 = 0.\n",
    "$$"
   ]
  },
  {
   "cell_type": "markdown",
   "id": "351e5b68",
   "metadata": {},
   "source": [
    "## At least one of the two following constraints must be verified:\n",
    "- at least one of the candidates in the group Asmodeus, Belphegor, Beelzebub is chosen, or\n",
    "- at least two in the group Belphegor, Leviathan, Lucifer, Mammon."
   ]
  },
  {
   "cell_type": "markdown",
   "id": "561674c5",
   "metadata": {},
   "source": [
    "It means, either\n",
    "\\begin{equation}\n",
    "\\label{eq_a02:con1}\\tag{1}\n",
    "x_1 + x_2 + x_3  \\geq 1,\n",
    "\\end{equation}\n",
    "or\n",
    "\\begin{equation}\n",
    "\\label{eq_a02:con2} \\tag{2}\n",
    "x_2 + x_4 + x_5 + x_6 \\geq 2.\n",
    "\\end{equation}\n",
    "Let's first remind the theory on disjunctive constraints. We\n",
    "consider two constraints:\n",
    "- Constraint 1: $f(x) \\geq a$.\n",
    "- Constraint 2: $g(x) \\geq b$.\n",
    "- One of them must be verified, but not necessarily both."
   ]
  },
  {
   "cell_type": "markdown",
   "id": "b54d7975",
   "metadata": {},
   "source": [
    "We assume that $f$ and $g$ are bounded from below.\n",
    "$$\n",
    "f(x) \\geq L_f \\text{ and } g(x) \\geq L_g \\text{ are always true.}\n",
    "$$"
   ]
  },
  {
   "cell_type": "markdown",
   "id": "e526d8fb",
   "metadata": {},
   "source": [
    "We introduce a binary variable $y$, and define the two following constraints:\n",
    "\\begin{align*}\n",
    "f(x) &\\geq L_f+(a-L_f)y \\\\\n",
    "g(x) & \\geq L_g+(b-L_g)(1-y).\n",
    "\\end{align*}"
   ]
  },
  {
   "cell_type": "markdown",
   "id": "938f69ab",
   "metadata": {},
   "source": [
    "In our case, we have\n",
    "\\begin{align*}\n",
    "f(x) &= x_1 + x_2 + x_3, \\\\\n",
    "a &= 1, \\\\\n",
    "L_f &= 0, \\\\\n",
    "g(x) &= x_2 + x_4 + x_5 + x_6, \\\\\n",
    "b &= 2, \\\\\n",
    "L_g &= 0.\n",
    "\\end{align*}\n",
    "Therefore, the two constraints are\n",
    "\\begin{align*}\n",
    "x_1 + x_2 + x_3 &\\geq y, \\\\\n",
    "x_2 + x_4 + x_5 + x_6 & \\geq 2(1-y).\n",
    "\\end{align*}"
   ]
  },
  {
   "cell_type": "markdown",
   "id": "28b5de25",
   "metadata": {},
   "source": [
    "Note that, if $y=0$, the first constraint is\n",
    "$$\n",
    "x_1 + x_2 + x_3 \\geq 0,\n",
    "$$\n",
    "and is always verified, for any $x$. The second constraint is\n",
    "$$\n",
    "x_2 + x_4 + x_5 + x_6  \\geq 2,\n",
    "$$\n",
    "which is constraint \\eqref{eq_a02:con2}."
   ]
  },
  {
   "cell_type": "markdown",
   "id": "799d0f1f",
   "metadata": {},
   "source": [
    "If $y=1$, the first constraint is\n",
    "$$\n",
    "x_1 + x_2 + x_3 \\geq 1,\n",
    "$$\n",
    "which is constraint \\eqref{eq_a02:con1}. The second constraint is\n",
    "$$\n",
    "x_2 + x_4 + x_5 + x_6  \\geq 0,\n",
    "$$\n",
    "and is always verified."
   ]
  },
  {
   "cell_type": "markdown",
   "id": "e08c5255",
   "metadata": {},
   "source": [
    "Note also that it is possible for the two constraints to be verified\n",
    "at the same time. This is illustrated in the\n",
    "feasible solution provided below."
   ]
  },
  {
   "cell_type": "markdown",
   "id": "89765439",
   "metadata": {},
   "source": [
    "## One feasible solution is..."
   ]
  },
  {
   "cell_type": "markdown",
   "id": "a501759d",
   "metadata": {},
   "source": [
    "\\begin{align*}\n",
    "x_1 &= 0, & x_2 &= 1, \\\\\n",
    "x_3 &= 1, & x_4 &= 1, \\\\\n",
    "x_5 &= 0, & x_6 &= 1, \\\\\n",
    "x_7 &= 1, & y &= 1. \\\\\n",
    "\\end{align*}"
   ]
  },
  {
   "cell_type": "markdown",
   "id": "c5e59614",
   "metadata": {},
   "source": [
    "It consists in hiring Belphegor, Beelzebub, Leviathan, Mammon, and Satan."
   ]
  },
  {
   "cell_type": "markdown",
   "id": "2be31a58",
   "metadata": {},
   "source": [
    "We verify the constraints:\n",
    "\\begin{align*}\n",
    "\\sum_{i=1}^7 x_i = 5 &\\leq 6, \\\\\n",
    "\\sum_{i=1}^7 x_i = 5 &\\geq 1, \\\\\n",
    "x_1+x_3 = 1 &\\leq 1, \\\\\n",
    "x_2-x_4 =0 &\\geq 0, \\\\\n",
    "x_1-x_5 &= 0, \\\\\n",
    "x_1 + x_2 + x_3 -y = 1 &\\geq 0, \\\\\n",
    "x_2 + x_4 + x_5 + x_6 + 2y - 2 = 3&\\geq 0.\n",
    "\\end{align*}"
   ]
  }
 ],
 "metadata": {},
 "nbformat": 4,
 "nbformat_minor": 5
}
