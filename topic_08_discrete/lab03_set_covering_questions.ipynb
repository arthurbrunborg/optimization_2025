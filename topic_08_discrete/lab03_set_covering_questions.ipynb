{
 "cells": [
  {
   "cell_type": "markdown",
   "id": "04d4fd98",
   "metadata": {},
   "source": [
    "# Discrete optimization: set covering\n",
    "\n",
    "## Introduction to optimization and operations research\n",
    "\n",
    "Michel Bierlaire\n"
   ]
  },
  {
   "cell_type": "markdown",
   "id": "3171c7ad",
   "metadata": {},
   "source": [
    "In this lab, you will model a small **set covering** decision: hiring the smallest team that\n",
    "collectively covers all required programming languages. You will define **binary variables** for\n",
    "each candidate, write **coverage constraints** ensuring every language is mastered by at least\n",
    "one hired person, and set an objective that **minimizes the team size**. The goal is to practice\n",
    "turning a short text into algebra (variables, parameters a_{ij}, constraints, objective), to see\n",
    "why set covering is a common pattern in discrete optimization, and to build habits you will reuse\n",
    "when formulating larger problems for a solver."
   ]
  },
  {
   "cell_type": "markdown",
   "id": "507d5a62",
   "metadata": {},
   "source": [
    "This exercise does not require to code in Python."
   ]
  },
  {
   "cell_type": "markdown",
   "id": "b76ca124",
   "metadata": {},
   "source": [
    "You need to recruit  software developers from the following team of\n",
    "outstanding computer scientists: Alan, Bjarne, Tim, and\n",
    "Donald. Each of them is expert in at least one programming language:"
   ]
  },
  {
   "cell_type": "markdown",
   "id": "3e6e1abf",
   "metadata": {},
   "source": [
    "- Alan in C and C++,\n",
    "- Bjarne in C++ and Java,\n",
    "- Tim in C++, Ruby and Python,\n",
    "- Donald in C and Java."
   ]
  },
  {
   "cell_type": "markdown",
   "id": "b354c86d",
   "metadata": {},
   "source": [
    "Your job is to hire a team of\n",
    "experts, with the following requirements:"
   ]
  },
  {
   "cell_type": "markdown",
   "id": "db8c3c51",
   "metadata": {},
   "source": [
    "- each language must be covered, in the sense that, for each\n",
    "language, there should be at least one person in the team mastering it,\n",
    "- the team must be as small as possible."
   ]
  },
  {
   "cell_type": "markdown",
   "id": "f7aea7f3",
   "metadata": {},
   "source": [
    "# Question 1\n",
    "Model that set covering problem as an integer optimization problem."
   ]
  },
  {
   "cell_type": "markdown",
   "id": "729b1202",
   "metadata": {},
   "source": [
    "# Question 2\n",
    "Provide a feasible solution."
   ]
  }
 ],
 "metadata": {},
 "nbformat": 4,
 "nbformat_minor": 5
}
