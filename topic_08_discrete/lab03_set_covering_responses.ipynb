{
 "cells": [
  {
   "cell_type": "markdown",
   "id": "3d582436",
   "metadata": {},
   "source": [
    "# Discrete optimization: set covering\n",
    "\n",
    "## Introduction to optimization and operations research\n",
    "\n",
    "Michel Bierlaire\n"
   ]
  },
  {
   "cell_type": "markdown",
   "id": "b7b3bdbb",
   "metadata": {},
   "source": [
    "In this lab, you will model a small **set covering** decision: hiring the smallest team that\n",
    "collectively covers all required programming languages. You will define **binary variables** for\n",
    "each candidate, write **coverage constraints** ensuring every language is mastered by at least\n",
    "one hired person, and set an objective that **minimizes the team size**. The goal is to practice\n",
    "turning a short text into algebra (variables, parameters a_{ij}, constraints, objective), to see\n",
    "why set covering is a common pattern in discrete optimization, and to build habits you will reuse\n",
    "when formulating larger problems for a solver."
   ]
  },
  {
   "cell_type": "markdown",
   "id": "96372da2",
   "metadata": {},
   "source": [
    "This exercise does not require to code in Python."
   ]
  },
  {
   "cell_type": "markdown",
   "id": "c07f2481",
   "metadata": {},
   "source": [
    "You need to recruit  software developers from the following team of\n",
    "outstanding computer scientists: Alan, Bjarne, Tim, and\n",
    "Donald. Each of them is expert in at least one programming language:"
   ]
  },
  {
   "cell_type": "markdown",
   "id": "568e94c5",
   "metadata": {},
   "source": [
    "- Alan in C and C++,\n",
    "- Bjarne in C++ and Java,\n",
    "- Tim in C++, Ruby and Python,\n",
    "- Donald in C and Java."
   ]
  },
  {
   "cell_type": "markdown",
   "id": "bac51b81",
   "metadata": {},
   "source": [
    "Your job is to hire a team of\n",
    "experts, with the following requirements:"
   ]
  },
  {
   "cell_type": "markdown",
   "id": "5f5d93bf",
   "metadata": {},
   "source": [
    "- each language must be covered, in the sense that, for each\n",
    "language, there should be at least one person in the team mastering it,\n",
    "- the team must be as small as possible."
   ]
  },
  {
   "cell_type": "markdown",
   "id": "c12fbbab",
   "metadata": {},
   "source": [
    "# Question 1\n",
    "Model that set covering problem as an integer optimization problem."
   ]
  },
  {
   "cell_type": "markdown",
   "id": "c59980f6",
   "metadata": {},
   "source": [
    "The set $\\mathcal{U}$ of elements is the set of programming languages:\n",
    "$$\\mathcal{U}= \\left\\{ \\text{C}, \\; \\text{C++}, \\; \\text{Java}, \\;\n",
    "\\text{Python}, \\; \\text{Ruby} \\right\\}.$$ Each programmer\n",
    "$i=1,\\ldots,4$ is associated with a subset $S_i$ of $\\mathcal{U}$,\n",
    "which corresponds to the known programming languages. Thus, in our\n",
    "case we have $n=4$ subsets:"
   ]
  },
  {
   "cell_type": "markdown",
   "id": "edc68eea",
   "metadata": {},
   "source": [
    "- $S_1 = \\left\\{\\text{C}, \\; \\text{C++} \\right\\},$\n",
    "- $S_2 = \\left\\{\\text{Java}, \\; \\text{C++} \\right\\},$\n",
    "- $S_3 = \\left\\{\\text{Ruby}, \\; \\text{C++}, \\; \\text{Python}\n",
    "\\right\\},$\n",
    "- $S_4 = \\left\\{\\text{C}, \\; \\text{Java} \\right\\}.$"
   ]
  },
  {
   "cell_type": "markdown",
   "id": "caf2af97",
   "metadata": {},
   "source": [
    "They are characterized by binary parameters $a_{ij}$ that is 1 if\n",
    "language $j$ is known by person $i$, and 0 otherwise.\n",
    "\\begin{align*}\n",
    "a_{1,\\text{C}} &= 1, & a_{2,\\text{C}} &= 0, & a_{3,\\text{C}} &= 0, &\n",
    "a_{4,\\text{C}} = 1, \\\\ a_{1,\\text{C++}} &= 1, & a_{2,\\text{C++}} &=\n",
    "1, & a_{3,\\text{C++}} &= 1, & a_{4,\\text{C++}} = 0,\n",
    "\\\\ a_{1,\\text{Java}} &= 0, & a_{2,\\text{Java}} &= 1, &\n",
    "a_{3,\\text{Java}} &= 0, & a_{4,\\text{Java}} = 1,\n",
    "\\\\ a_{1,\\text{Python}} &= 0, & a_{2,\\text{Python}} &= 0, &\n",
    "a_{3,\\text{Python}} &= 1, & a_{4,\\text{Python}} = 0,\n",
    "\\\\ a_{1,\\text{Ruby}} &= 0, & a_{2,\\text{Ruby}} &= 0, &\n",
    "a_{3,\\text{Ruby}} &= 1, & a_{4,\\text{Ruby}} = 0. \\\\\n",
    "\\end{align*}"
   ]
  },
  {
   "cell_type": "markdown",
   "id": "5237ed18",
   "metadata": {},
   "source": [
    "The decision variables are $x_1,x_2,x_3,x_4$.  They are binary\n",
    "variables representing whether person $i$ is involved in the team. For\n",
    "each language, we need a constraint that requires that at least one\n",
    "person masters it. For example, for C we have\n",
    "\\begin{align*}\n",
    "\\sum_{i=1}^4 a_{i,\\text{C}} x_i &\\geq 1, \\\\ x_1 + x_4 &\\geq 1.\n",
    "\\end{align*}"
   ]
  },
  {
   "cell_type": "markdown",
   "id": "f9a29a62",
   "metadata": {},
   "source": [
    "The set of covering constraints is therefore:\n",
    "\\begin{align*}\n",
    "x_1 + x_4 &\\geq 1, \\\\ x_1 + x_2 + x_3 &\\geq 1, \\\\ x_2 + x_4 & \\geq\n",
    "1, \\\\ x_3 & \\geq 1, \\\\ x_3 & \\geq 1. \\\\\n",
    "\\end{align*}"
   ]
  },
  {
   "cell_type": "markdown",
   "id": "030c2a56",
   "metadata": {},
   "source": [
    "As we want to minimize the number of subsets, the costs $c_i$ of each\n",
    "subset must all have the same value, say 1. The optimization problem\n",
    "is therefore\n",
    "$$\n",
    "\\min_{x \\in \\{0,1\\}^4} x_1 + x_2 + x_3 + x_4,\n",
    "$$\n",
    "subject to\n",
    "\\begin{align*}\n",
    "x_1 + x_4 &\\geq 1, \\\\ x_1 + x_2 + x_3 &\\geq 1, \\\\ x_2 + x_4 & \\geq\n",
    "1, \\\\ x_3 & \\geq 1, \\\\ x_3 & \\geq 1, \\\\ x_i &\\in \\{0,1\\},\\;\n",
    "i=1,\\ldots,4.\n",
    "\\end{align*}"
   ]
  },
  {
   "cell_type": "markdown",
   "id": "85747db8",
   "metadata": {},
   "source": [
    "# Question 2\n",
    "Provide a feasible solution."
   ]
  },
  {
   "cell_type": "markdown",
   "id": "87038cdb",
   "metadata": {},
   "source": [
    "It is clear that $x_3$ must be included, as Tim is the only one who\n",
    "can cover Python and Ruby. It is also clear that at least another\n",
    "person must be hired, as Tim does not know C and Java. These two\n",
    "languages can be covered by Donald, so that we cover all languages\n",
    "with two persons. A feasible solution, which happens to be optimal, is therefore:\n",
    "$$\n",
    "x_1 = 0, x_2 = 0, x_3 = 1, x_4 = 1.\n",
    "$$\n",
    "The total cost is 2, and the constraints are satisfied:\n",
    "\\begin{align*}\n",
    "x_1 + x_4 = 1 &\\geq 1, \\\\ x_1 + x_2 + x_3 = 1 &\\geq 1, \\\\ x_2 + x_4\n",
    "= 1& \\geq 1, \\\\ x_3 = 1& \\geq 1, \\\\ x_3 = 1& \\geq 1.\n",
    "\\end{align*}"
   ]
  }
 ],
 "metadata": {},
 "nbformat": 4,
 "nbformat_minor": 5
}
