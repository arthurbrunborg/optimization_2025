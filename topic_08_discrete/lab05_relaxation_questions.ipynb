{
 "cells": [
  {
   "cell_type": "markdown",
   "id": "d42940a7",
   "metadata": {},
   "source": [
    "# Discrete optimization: relaxation\n",
    "\n",
    "## Introduction to optimization and operations research\n",
    "\n",
    "Michel Bierlaire\n"
   ]
  },
  {
   "cell_type": "code",
   "execution_count": null,
   "id": "46a48b96",
   "metadata": {},
   "outputs": [],
   "source": [
    "\n",
    "import itertools\n",
    "import sys\n",
    "import warnings\n",
    "\n",
    "import numpy as np\n",
    "from teaching_optimization.simplex_tableau import SimplexAlgorithmTableau\n",
    "from teaching_optimization.tableau import SimplexTableau\n"
   ]
  },
  {
   "cell_type": "markdown",
   "id": "f665ac7b",
   "metadata": {},
   "source": [
    "In this lab, you will compare an **integer** model with its **linear relaxation** on a small\n",
    "investment decision. You will formulate the binary model, relax it to a linear\n",
    "optimization problem, solve the relaxation with the simplex tableau, and interpret the\n",
    "fractional solution as a **bound** (not a decision). Then you will perform **full enumeration**\n",
    "of the integer solutions to find the true optimum and compare it to the relaxation’s bound.\n",
    "The goal is to understand why relaxations are useful (fast, provide bounds and insight) but\n",
    "sometimes **misleading** for decisions, and how combining bounds with exact search leads to\n",
    "reliable recommendations."
   ]
  },
  {
   "cell_type": "markdown",
   "id": "736ccd1c",
   "metadata": {},
   "source": [
    "The company Alpiq is investing in hydro-electricity. The engineers\n",
    "have identified four potential location to build new dams. For each\n",
    "location, they have assessed the investment costs as well as the\n",
    "long-term expected revenues:"
   ]
  },
  {
   "cell_type": "markdown",
   "id": "07790d77",
   "metadata": {},
   "source": [
    "|               |   Location     | Cost (mCHF)    | Revenues (mCHF)|\n",
    ":--------------:|:--------------:|:--------------:|:--------------:|\n",
    "|      1        |    China       |      50        |       160      |\n",
    "|      2        |     Iran       |      70        |       220      |\n",
    "|      3        |    Brazil      |      40        |       120      |\n",
    "|      4        |    India       |      30        |        80      |"
   ]
  },
  {
   "cell_type": "markdown",
   "id": "e0207998",
   "metadata": {},
   "source": [
    "The company has a budget of 140 mCHF. Where should the company invest\n",
    "in new dams?"
   ]
  },
  {
   "cell_type": "markdown",
   "id": "7ce86c91",
   "metadata": {},
   "source": [
    "## Question 1\n",
    "What type of optimization problem is it?"
   ]
  },
  {
   "cell_type": "markdown",
   "id": "448e5d92",
   "metadata": {},
   "source": [
    "## Question 2\n",
    "Formulate the problem as an integer optimization problem."
   ]
  },
  {
   "cell_type": "markdown",
   "id": "5d17649e",
   "metadata": {},
   "source": [
    "## Question 3\n",
    "Solve the relaxation of the problem, and use the\n",
    "solution of the relaxation to advise the company."
   ]
  },
  {
   "cell_type": "code",
   "execution_count": null,
   "id": "18050638",
   "metadata": {},
   "outputs": [],
   "source": [
    "matrix_a = ...\n",
    "\n",
    "\n",
    "\n",
    "\n",
    "\n",
    "\n",
    "\n",
    "\n"
   ]
  },
  {
   "cell_type": "code",
   "execution_count": null,
   "id": "a3a34b0a",
   "metadata": {},
   "outputs": [],
   "source": [
    "vector_b = ...\n"
   ]
  },
  {
   "cell_type": "code",
   "execution_count": null,
   "id": "bf9dcd31",
   "metadata": {},
   "outputs": [],
   "source": [
    "vector_c = ...\n"
   ]
  },
  {
   "cell_type": "markdown",
   "id": "0557e5e2",
   "metadata": {},
   "source": [
    "We create the algorithm"
   ]
  },
  {
   "cell_type": "code",
   "execution_count": null,
   "id": "662aa52e",
   "metadata": {},
   "outputs": [],
   "source": [
    "the_algorithm = SimplexAlgorithmTableau(\n",
    "    objective=vector_c,\n",
    "    constraint_matrix=matrix_a,\n",
    "    right_hand_side=vector_b,\n",
    ")\n"
   ]
  },
  {
   "cell_type": "markdown",
   "id": "9d8ad476",
   "metadata": {},
   "source": [
    "We solve the problem"
   ]
  },
  {
   "cell_type": "code",
   "execution_count": null,
   "id": "55d6e476",
   "metadata": {},
   "outputs": [],
   "source": [
    "optimal_tableau: SimplexTableau = the_algorithm.solve()\n"
   ]
  },
  {
   "cell_type": "markdown",
   "id": "b3f6fb5b",
   "metadata": {},
   "source": [
    "Check if the problem is feasible"
   ]
  },
  {
   "cell_type": "code",
   "execution_count": null,
   "id": "f7e5f523",
   "metadata": {},
   "outputs": [],
   "source": [
    "if optimal_tableau is None:\n",
    "    warnings.warn(\n",
    "        f'Optimization problem is infeasible. There must be a problem in the formulation.'\n",
    "    )\n",
    "    sys.exit()\n"
   ]
  },
  {
   "cell_type": "markdown",
   "id": "9bc7b1dd",
   "metadata": {},
   "source": [
    "Optimal solution"
   ]
  },
  {
   "cell_type": "code",
   "execution_count": null,
   "id": "48d14820",
   "metadata": {},
   "outputs": [],
   "source": [
    "print(optimal_tableau.feasible_basic_solution)\n",
    "\n"
   ]
  },
  {
   "cell_type": "markdown",
   "id": "6e20fbca",
   "metadata": {},
   "source": [
    "Optimal value"
   ]
  },
  {
   "cell_type": "code",
   "execution_count": null,
   "id": "63c08768",
   "metadata": {},
   "outputs": [],
   "source": [
    "print(f'{optimal_tableau.value_objective_function:.3g}')\n"
   ]
  },
  {
   "cell_type": "markdown",
   "id": "0fb3d5d1",
   "metadata": {},
   "source": [
    "Decision variables."
   ]
  },
  {
   "cell_type": "markdown",
   "id": "167aee77",
   "metadata": {},
   "source": [
    "Decision for China"
   ]
  },
  {
   "cell_type": "code",
   "execution_count": null,
   "id": "e888a9aa",
   "metadata": {},
   "outputs": [],
   "source": [
    "x_china = ...\n",
    "print(f'Decision for China: {x_china:.3g}')\n"
   ]
  },
  {
   "cell_type": "markdown",
   "id": "49441c30",
   "metadata": {},
   "source": [
    "Decision for Iran"
   ]
  },
  {
   "cell_type": "code",
   "execution_count": null,
   "id": "2f179edc",
   "metadata": {},
   "outputs": [],
   "source": [
    "x_iran = ...\n",
    "print(f'Decision for Iran: {x_iran:.3g}')\n"
   ]
  },
  {
   "cell_type": "markdown",
   "id": "bdf487ce",
   "metadata": {},
   "source": [
    "Decision for Brazil"
   ]
  },
  {
   "cell_type": "code",
   "execution_count": null,
   "id": "089a1ebe",
   "metadata": {},
   "outputs": [],
   "source": [
    "x_brazil = ...\n",
    "print(f'Decision for Brazil: {x_brazil:.3g}')\n"
   ]
  },
  {
   "cell_type": "markdown",
   "id": "868f6cc4",
   "metadata": {},
   "source": [
    "Decision for India"
   ]
  },
  {
   "cell_type": "code",
   "execution_count": null,
   "id": "a1851b89",
   "metadata": {},
   "outputs": [],
   "source": [
    "x_india = ...\n",
    "print(f'Decision for India: {x_india:.3g}')\n",
    "\n",
    "\n",
    "\n",
    "\n"
   ]
  },
  {
   "cell_type": "markdown",
   "id": "18db15d0",
   "metadata": {},
   "source": [
    "## Question 4\n",
    "Solve the problem by full enumeration, and use the\n",
    "solution  to advise the company. Compare the two\n",
    "advises."
   ]
  },
  {
   "cell_type": "markdown",
   "id": "99225a3c",
   "metadata": {},
   "source": [
    "We code a function that calculates the revenues."
   ]
  },
  {
   "cell_type": "code",
   "execution_count": null,
   "id": "55b05951",
   "metadata": {},
   "outputs": [],
   "source": [
    "def revenues(x_1: int, x_2: int, x_3: int, x_4: int) -> float:\n",
    "    \"\"\"Calculates the objective function\n",
    "\n",
    "    :param x_1: decision for China\n",
    "    :param x_2: decision for Iran\n",
    "    :param x_3: decision for Brazil\n",
    "    :param x_4: decision for India\n",
    "    :return: total revenues\n",
    "    \"\"\"\n",
    "    return ...\n",
    "\n"
   ]
  },
  {
   "cell_type": "markdown",
   "id": "82f35262",
   "metadata": {},
   "source": [
    "We code a function that calculates the budget."
   ]
  },
  {
   "cell_type": "code",
   "execution_count": null,
   "id": "64b0d3a2",
   "metadata": {},
   "outputs": [],
   "source": [
    "def budget(x_1: int, x_2: int, x_3: int, x_4: int) -> float:\n",
    "    \"\"\"Calculates the budget\n",
    "\n",
    "    :param x_1: decision for China\n",
    "    :param x_2: decision for Iran\n",
    "    :param x_3: decision for Brazil\n",
    "    :param x_4: decision for India\n",
    "    :return: budget\n",
    "    \"\"\"\n",
    "    return ...\n",
    "\n"
   ]
  },
  {
   "cell_type": "markdown",
   "id": "8bc144e2",
   "metadata": {},
   "source": [
    "We code a function that verifies the budget constraint"
   ]
  },
  {
   "cell_type": "code",
   "execution_count": null,
   "id": "3cd2a882",
   "metadata": {},
   "outputs": [],
   "source": [
    "def budget_constraint(x_1: int, x_2: int, x_3: int, x_4: int) -> bool:\n",
    "    \"\"\"Check the budget constraint\n",
    "\n",
    "    :param x_1: decision for China\n",
    "    :param x_2: decision for Iran\n",
    "    :param x_3: decision for Brazil\n",
    "    :param x_4: decision for India\n",
    "    :return: True if the budget constraint is verified, False otherwise.\n",
    "    \"\"\"\n",
    "    the_budget = budget(x_1, x_2, x_3, x_4)\n",
    "    return ...\n",
    "\n"
   ]
  },
  {
   "cell_type": "markdown",
   "id": "460d045d",
   "metadata": {},
   "source": [
    "Now, we perform a complete enumeration to identify the best solution."
   ]
  },
  {
   "cell_type": "code",
   "execution_count": null,
   "id": "8d9058c6",
   "metadata": {},
   "outputs": [],
   "source": [
    "best_solution = None\n",
    "best_value = 0\n"
   ]
  },
  {
   "cell_type": "markdown",
   "id": "de639bb6",
   "metadata": {},
   "source": [
    "Loop over all possible combinations of decisions to identify the best one."
   ]
  },
  {
   "cell_type": "code",
   "execution_count": null,
   "id": "179c42f4",
   "metadata": {},
   "outputs": [],
   "source": [
    "for x_1, x_2, x_3, x_4 in itertools.product([0, 1], repeat=4):\n",
    "    if budget_constraint(x_1, x_2, x_3, x_4):\n",
    "        the_revenues = revenues(x_1, x_2, x_3, x_4)\n",
    "\n",
    "        if the_revenues > best_value:\n",
    "            best_solution = x_1, x_2, x_3, x_4\n",
    "            best_value = the_revenues\n"
   ]
  },
  {
   "cell_type": "markdown",
   "id": "df04fb99",
   "metadata": {},
   "source": [
    "Optimal solution"
   ]
  },
  {
   "cell_type": "code",
   "execution_count": null,
   "id": "ceb7d8f3",
   "metadata": {},
   "outputs": [],
   "source": [
    "print(best_solution)\n"
   ]
  },
  {
   "cell_type": "markdown",
   "id": "12dccf24",
   "metadata": {},
   "source": [
    "Optimal value"
   ]
  },
  {
   "cell_type": "code",
   "execution_count": null,
   "id": "8ed5a9a8",
   "metadata": {},
   "outputs": [],
   "source": [
    "total_revenues = -optimal_tableau.value_objective_function\n",
    "print(f'Total revenues: {total_revenues:.3g}')\n"
   ]
  },
  {
   "cell_type": "markdown",
   "id": "f863f962",
   "metadata": {},
   "source": [
    "Budget"
   ]
  },
  {
   "cell_type": "code",
   "execution_count": null,
   "id": "06afb733",
   "metadata": {},
   "outputs": [],
   "source": [
    "total_budget = budget(*best_solution)\n",
    "print(f'Total budget: {total_budget:.3g}')\n"
   ]
  },
  {
   "cell_type": "markdown",
   "id": "69796327",
   "metadata": {},
   "source": [
    "Check that the budget constraint is verified"
   ]
  },
  {
   "cell_type": "code",
   "execution_count": null,
   "id": "f0d1f5c3",
   "metadata": {},
   "outputs": [],
   "source": [
    "is_budget_constraint_verified = budget_constraint(*best_solution)\n",
    "if is_budget_constraint_verified:\n",
    "    print('Budget constraint is verified')\n",
    "else:\n",
    "    warnings.warn('Budget constraint is violated.')\n",
    "\n",
    "\n",
    "\n",
    "\n",
    "\n",
    "\n",
    "\n"
   ]
  }
 ],
 "metadata": {},
 "nbformat": 4,
 "nbformat_minor": 5
}
