{
 "cells": [
  {
   "cell_type": "markdown",
   "id": "3bace745",
   "metadata": {},
   "source": [
    "# Discrete optimization: relaxation\n",
    "\n",
    "## Introduction to optimization and operations research\n",
    "\n",
    "Michel Bierlaire\n"
   ]
  },
  {
   "cell_type": "code",
   "execution_count": null,
   "id": "53b4d806",
   "metadata": {},
   "outputs": [],
   "source": [
    "\n",
    "import itertools\n",
    "import sys\n",
    "import warnings\n",
    "\n",
    "import numpy as np\n",
    "from teaching_optimization.simplex_tableau import SimplexAlgorithmTableau\n",
    "from teaching_optimization.tableau import SimplexTableau\n"
   ]
  },
  {
   "cell_type": "markdown",
   "id": "39fd1956",
   "metadata": {},
   "source": [
    "In this lab, you will compare an **integer** model with its **linear relaxation** on a small\n",
    "investment decision. You will formulate the binary model, relax it to a linear\n",
    "optimization problem, solve the relaxation with the simplex tableau, and interpret the\n",
    "fractional solution as a **bound** (not a decision). Then you will perform **full enumeration**\n",
    "of the integer solutions to find the true optimum and compare it to the relaxation’s bound.\n",
    "The goal is to understand why relaxations are useful (fast, provide bounds and insight) but\n",
    "sometimes **misleading** for decisions, and how combining bounds with exact search leads to\n",
    "reliable recommendations."
   ]
  },
  {
   "cell_type": "markdown",
   "id": "93d3ce23",
   "metadata": {},
   "source": [
    "The company Alpiq is investing in hydro-electricity. The engineers\n",
    "have identified four potential location to build new dams. For each\n",
    "location, they have assessed the investment costs as well as the\n",
    "long-term expected revenues:"
   ]
  },
  {
   "cell_type": "markdown",
   "id": "cbe4409a",
   "metadata": {},
   "source": [
    "|               |   Location     | Cost (mCHF)    | Revenues (mCHF)|\n",
    ":--------------:|:--------------:|:--------------:|:--------------:|\n",
    "|      1        |    China       |      50        |       160      |\n",
    "|      2        |     Iran       |      70        |       220      |\n",
    "|      3        |    Brazil      |      40        |       120      |\n",
    "|      4        |    India       |      30        |        80      |"
   ]
  },
  {
   "cell_type": "markdown",
   "id": "866e883b",
   "metadata": {},
   "source": [
    "The company has a budget of 140 mCHF. Where should the company invest\n",
    "in new dams?"
   ]
  },
  {
   "cell_type": "markdown",
   "id": "898d3622",
   "metadata": {},
   "source": [
    "## Question 1\n",
    "What type of optimization problem is it?"
   ]
  },
  {
   "cell_type": "markdown",
   "id": "4ceb7a99",
   "metadata": {},
   "source": [
    "This is a knapsack problem."
   ]
  },
  {
   "cell_type": "markdown",
   "id": "c05990b6",
   "metadata": {},
   "source": [
    "## Question 2\n",
    "Formulate the problem as an integer optimization problem."
   ]
  },
  {
   "cell_type": "markdown",
   "id": "0958e8e3",
   "metadata": {},
   "source": [
    "The decision variables are binary variables: $x_i$ is 1 if a dam\n",
    "is built at location $i$, and 0 otherwise."
   ]
  },
  {
   "cell_type": "markdown",
   "id": "63e2151f",
   "metadata": {},
   "source": [
    "The objective is to  maximize the expected revenues:\n",
    "$$\n",
    "\\max_{x\\in\\{0,1\\}^4} 16 x_1 + 22 x_2 + 12 x_3 + 8 x_4.\n",
    "$$"
   ]
  },
  {
   "cell_type": "markdown",
   "id": "accde2b4",
   "metadata": {},
   "source": [
    "Note that we are modeling the problem using 10mCHF as the base unit."
   ]
  },
  {
   "cell_type": "markdown",
   "id": "4e83af3b",
   "metadata": {},
   "source": [
    "The budget constraint is given by\n",
    "$$\n",
    "5 x_1 + 7 x_2 + 4 x_3 + 3 x_4 \\leq 14.\n",
    "$$"
   ]
  },
  {
   "cell_type": "markdown",
   "id": "f6e48cbb",
   "metadata": {},
   "source": [
    "Therefore, the integer optimization problem is:\n",
    "$$\n",
    "\\max_{x\\in\\{0,1\\}^4} 16 x_1 + 22 x_2 + 12 x_3 + 8 x_4,\n",
    "$$\n",
    "subject to\n",
    "\\begin{align*}\n",
    "5 x_1 + 7 x_2 + 4 x_3 + 3 x_4 &\\leq 14, \\\\\n",
    "x_1, x_2, x_3, x_4 & \\in \\{ 0,1 \\}.\n",
    "\\end{align*}"
   ]
  },
  {
   "cell_type": "markdown",
   "id": "71d42ee0",
   "metadata": {},
   "source": [
    "## Question 3\n",
    "Solve the relaxation of the problem, and use the\n",
    "solution of the relaxation to advise the company."
   ]
  },
  {
   "cell_type": "markdown",
   "id": "a654f200",
   "metadata": {},
   "source": [
    "We first write the relaxation.\n",
    "$$\n",
    "\\max_{x\\in\\mathbb{R}^4} 16 x_1 + 22 x_2 + 12 x_3 + 8 x_4,\n",
    "$$\n",
    "subject to\n",
    "\\begin{align*}\n",
    "5 x_1 + 7 x_2 + 4 x_3 + 3 x_4 &\\leq 14, \\\\\n",
    "x_1, x_2, x_3, x_4 & \\leq 1, \\\\\n",
    "x_1, x_2, x_3, x_4 & \\geq 0.\n",
    "\\end{align*}"
   ]
  },
  {
   "cell_type": "markdown",
   "id": "2d144edb",
   "metadata": {},
   "source": [
    "And in standard form...\n",
    "$$\n",
    "\\min_{x\\in\\{0,1\\}^4} -16 x_1 - 22 x_2 - 12 x_3 - 8 x_4,\n",
    "$$\n",
    "subject to\n",
    "\\begin{align*}\n",
    "5 x_1 + 7 x_2 + 4 x_3 + 3 x_4 + e_1 &= 14, \\\\\n",
    "x_1 + e_2  &= 1, \\\\\n",
    "x_2 + e_3  &= 1, \\\\\n",
    "x_3 + e_4  &= 1, \\\\\n",
    "x_4 + e_5  &= 1, \\\\\n",
    "x_1, x_2, x_3, x_4, e_1, e_2, e_3, e_4, e_5 & \\geq 0.\n",
    "\\end{align*}"
   ]
  },
  {
   "cell_type": "code",
   "execution_count": null,
   "id": "e3d8beba",
   "metadata": {},
   "outputs": [],
   "source": [
    "matrix_a = np.array(\n",
    "    [\n",
    "        [5, 7, 4, 3, 1, 0, 0, 0, 0],\n",
    "        [1, 0, 0, 0, 0, 1, 0, 0, 0],\n",
    "        [0, 1, 0, 0, 0, 0, 1, 0, 0],\n",
    "        [0, 0, 1, 0, 0, 0, 0, 1, 0],\n",
    "        [0, 0, 0, 1, 0, 0, 0, 0, 1],\n",
    "    ]\n",
    ")\n"
   ]
  },
  {
   "cell_type": "code",
   "execution_count": null,
   "id": "ec286615",
   "metadata": {},
   "outputs": [],
   "source": [
    "vector_b = np.array([14, 1, 1, 1, 1])\n"
   ]
  },
  {
   "cell_type": "code",
   "execution_count": null,
   "id": "586980e8",
   "metadata": {},
   "outputs": [],
   "source": [
    "vector_c = np.array([-16, -22, -12, -8, 0, 0, 0, 0, 0])\n"
   ]
  },
  {
   "cell_type": "markdown",
   "id": "c1728839",
   "metadata": {},
   "source": [
    "We create the algorithm"
   ]
  },
  {
   "cell_type": "code",
   "execution_count": null,
   "id": "6bb9dbca",
   "metadata": {},
   "outputs": [],
   "source": [
    "the_algorithm = SimplexAlgorithmTableau(\n",
    "    objective=vector_c,\n",
    "    constraint_matrix=matrix_a,\n",
    "    right_hand_side=vector_b,\n",
    ")\n"
   ]
  },
  {
   "cell_type": "markdown",
   "id": "fa80cc36",
   "metadata": {},
   "source": [
    "We solve the problem"
   ]
  },
  {
   "cell_type": "code",
   "execution_count": null,
   "id": "75451fae",
   "metadata": {},
   "outputs": [],
   "source": [
    "optimal_tableau: SimplexTableau = the_algorithm.solve()\n"
   ]
  },
  {
   "cell_type": "markdown",
   "id": "99194709",
   "metadata": {},
   "source": [
    "Check if the problem is feasible"
   ]
  },
  {
   "cell_type": "code",
   "execution_count": null,
   "id": "c2fb4b05",
   "metadata": {},
   "outputs": [],
   "source": [
    "if optimal_tableau is None:\n",
    "    warnings.warn(\n",
    "        f'Optimization problem is infeasible. There must be a problem in the formulation.'\n",
    "    )\n",
    "    sys.exit()\n"
   ]
  },
  {
   "cell_type": "markdown",
   "id": "bcd5d2ae",
   "metadata": {},
   "source": [
    "Optimal solution"
   ]
  },
  {
   "cell_type": "code",
   "execution_count": null,
   "id": "f06ac0f8",
   "metadata": {},
   "outputs": [],
   "source": [
    "print(optimal_tableau.feasible_basic_solution)\n",
    "\n"
   ]
  },
  {
   "cell_type": "markdown",
   "id": "7b7549c2",
   "metadata": {},
   "source": [
    "Optimal value"
   ]
  },
  {
   "cell_type": "code",
   "execution_count": null,
   "id": "048161db",
   "metadata": {},
   "outputs": [],
   "source": [
    "print(f'{optimal_tableau.value_objective_function:.3g}')\n"
   ]
  },
  {
   "cell_type": "markdown",
   "id": "e2069a53",
   "metadata": {},
   "source": [
    "Decision variables."
   ]
  },
  {
   "cell_type": "markdown",
   "id": "f28cc82e",
   "metadata": {},
   "source": [
    "Decision for China"
   ]
  },
  {
   "cell_type": "code",
   "execution_count": null,
   "id": "21cef020",
   "metadata": {},
   "outputs": [],
   "source": [
    "x_china = optimal_tableau.feasible_basic_solution[0]\n",
    "print(f'Decision for China: {x_china:.3g}')\n"
   ]
  },
  {
   "cell_type": "markdown",
   "id": "a8b18ba1",
   "metadata": {},
   "source": [
    "Decision for Iran"
   ]
  },
  {
   "cell_type": "code",
   "execution_count": null,
   "id": "7a699964",
   "metadata": {},
   "outputs": [],
   "source": [
    "x_iran = optimal_tableau.feasible_basic_solution[1]\n",
    "print(f'Decision for Iran: {x_iran:.3g}')\n"
   ]
  },
  {
   "cell_type": "markdown",
   "id": "191a2610",
   "metadata": {},
   "source": [
    "Decision for Brazil"
   ]
  },
  {
   "cell_type": "code",
   "execution_count": null,
   "id": "243451e0",
   "metadata": {},
   "outputs": [],
   "source": [
    "x_brazil = optimal_tableau.feasible_basic_solution[2]\n",
    "print(f'Decision for Brazil: {x_brazil:.3g}')\n"
   ]
  },
  {
   "cell_type": "markdown",
   "id": "485ca766",
   "metadata": {},
   "source": [
    "Decision for India"
   ]
  },
  {
   "cell_type": "code",
   "execution_count": null,
   "id": "cc932835",
   "metadata": {},
   "outputs": [],
   "source": [
    "x_india = optimal_tableau.feasible_basic_solution[3]\n",
    "print(f'Decision for India: {x_india:.3g}')\n"
   ]
  },
  {
   "cell_type": "markdown",
   "id": "6286ce9b",
   "metadata": {},
   "source": [
    "For the company, this suggests to build dams 1 and 2, and not to build dam\n",
    "4. Regarding dam 3, building it would not fit the budget. Building\n",
    "dams 1 and 2 will cost 120 mCHF, and the expected benefit is 380 mCHF."
   ]
  },
  {
   "cell_type": "markdown",
   "id": "6a6837d7",
   "metadata": {},
   "source": [
    "## Question 4\n",
    "Solve the problem by full enumeration, and use the\n",
    "solution  to advise the company. Compare the two\n",
    "advises."
   ]
  },
  {
   "cell_type": "markdown",
   "id": "a371c71c",
   "metadata": {},
   "source": [
    "We code a function that calculates the revenues."
   ]
  },
  {
   "cell_type": "code",
   "execution_count": null,
   "id": "cdbc5cf0",
   "metadata": {},
   "outputs": [],
   "source": [
    "def revenues(x_1: int, x_2: int, x_3: int, x_4: int) -> float:\n",
    "    \"\"\"Calculates the objective function\n",
    "\n",
    "    :param x_1: decision for China\n",
    "    :param x_2: decision for Iran\n",
    "    :param x_3: decision for Brazil\n",
    "    :param x_4: decision for India\n",
    "    :return: total revenues\n",
    "    \"\"\"\n",
    "    return 16 * x_1 + 22 * x_2 + 12 * x_3 + 8 * x_4\n",
    "\n"
   ]
  },
  {
   "cell_type": "markdown",
   "id": "5a89a505",
   "metadata": {},
   "source": [
    "We code a function that calculates the budget."
   ]
  },
  {
   "cell_type": "code",
   "execution_count": null,
   "id": "95cd28b3",
   "metadata": {},
   "outputs": [],
   "source": [
    "def budget(x_1: int, x_2: int, x_3: int, x_4: int) -> float:\n",
    "    \"\"\"Calculates the budget\n",
    "\n",
    "    :param x_1: decision for China\n",
    "    :param x_2: decision for Iran\n",
    "    :param x_3: decision for Brazil\n",
    "    :param x_4: decision for India\n",
    "    :return: budget\n",
    "    \"\"\"\n",
    "    return 5 * x_1 + 7 * x_2 + 4 * x_3 + 3 * x_4\n",
    "\n"
   ]
  },
  {
   "cell_type": "markdown",
   "id": "cccde6b3",
   "metadata": {},
   "source": [
    "We code a function that verifies the budget constraint"
   ]
  },
  {
   "cell_type": "code",
   "execution_count": null,
   "id": "69c384d7",
   "metadata": {},
   "outputs": [],
   "source": [
    "def budget_constraint(x_1: int, x_2: int, x_3: int, x_4: int) -> bool:\n",
    "    \"\"\"Check the budget constraint\n",
    "\n",
    "    :param x_1: decision for China\n",
    "    :param x_2: decision for Iran\n",
    "    :param x_3: decision for Brazil\n",
    "    :param x_4: decision for India\n",
    "    :return: True if the budget constraint is verified, False otherwise.\n",
    "    \"\"\"\n",
    "    the_budget = budget(x_1, x_2, x_3, x_4)\n",
    "    return the_budget <= 14\n",
    "\n"
   ]
  },
  {
   "cell_type": "markdown",
   "id": "a37600b6",
   "metadata": {},
   "source": [
    "Now, we perform a complete enumeration to identify the best solution."
   ]
  },
  {
   "cell_type": "code",
   "execution_count": null,
   "id": "f702fdad",
   "metadata": {},
   "outputs": [],
   "source": [
    "best_solution = None\n",
    "best_value = 0\n"
   ]
  },
  {
   "cell_type": "markdown",
   "id": "75603020",
   "metadata": {},
   "source": [
    "Loop over all possible combinations of decisions to identify the best one."
   ]
  },
  {
   "cell_type": "code",
   "execution_count": null,
   "id": "7f537a21",
   "metadata": {},
   "outputs": [],
   "source": [
    "for x_1, x_2, x_3, x_4 in itertools.product([0, 1], repeat=4):\n",
    "    if budget_constraint(x_1, x_2, x_3, x_4):\n",
    "        the_revenues = revenues(x_1, x_2, x_3, x_4)\n",
    "\n",
    "        if the_revenues > best_value:\n",
    "            best_solution = x_1, x_2, x_3, x_4\n",
    "            best_value = the_revenues\n"
   ]
  },
  {
   "cell_type": "markdown",
   "id": "12996644",
   "metadata": {},
   "source": [
    "Optimal solution"
   ]
  },
  {
   "cell_type": "code",
   "execution_count": null,
   "id": "d3ff9699",
   "metadata": {},
   "outputs": [],
   "source": [
    "print(best_solution)\n"
   ]
  },
  {
   "cell_type": "markdown",
   "id": "71dea5ea",
   "metadata": {},
   "source": [
    "Optimal value"
   ]
  },
  {
   "cell_type": "code",
   "execution_count": null,
   "id": "95a7f043",
   "metadata": {},
   "outputs": [],
   "source": [
    "total_revenues = -optimal_tableau.value_objective_function\n",
    "print(f'Total revenues: {total_revenues:.3g}')\n"
   ]
  },
  {
   "cell_type": "markdown",
   "id": "f28d81a8",
   "metadata": {},
   "source": [
    "Budget"
   ]
  },
  {
   "cell_type": "code",
   "execution_count": null,
   "id": "ceb76657",
   "metadata": {},
   "outputs": [],
   "source": [
    "total_budget = budget(*best_solution)\n",
    "print(f'Total budget: {total_budget:.3g}')\n"
   ]
  },
  {
   "cell_type": "markdown",
   "id": "d9030ae1",
   "metadata": {},
   "source": [
    "Check that the budget constraint is verified"
   ]
  },
  {
   "cell_type": "code",
   "execution_count": null,
   "id": "a89c2f0b",
   "metadata": {},
   "outputs": [],
   "source": [
    "is_budget_constraint_verified = budget_constraint(*best_solution)\n",
    "if is_budget_constraint_verified:\n",
    "    print('Budget constraint is verified')\n",
    "else:\n",
    "    warnings.warn('Budget constraint is violated.')\n"
   ]
  },
  {
   "cell_type": "markdown",
   "id": "c58746ae",
   "metadata": {},
   "source": [
    "The optimal solution is to build dams in Iran ($x_2=1$), Brazil ($x_3=1$) and India ($x_4=1$). The budget is\n",
    "completely invested, and the expected revenues are 420\n",
    "mCHF. Although the dam in China has the highest return, it consumes too\n",
    "much of the budget. It is therefore better not to build it, and invest\n",
    "in the three others. It illustrates the fact that using the relaxed problem\n",
    "to make the decision yields to a sub-optimal\n",
    "solution."
   ]
  }
 ],
 "metadata": {},
 "nbformat": 4,
 "nbformat_minor": 5
}
