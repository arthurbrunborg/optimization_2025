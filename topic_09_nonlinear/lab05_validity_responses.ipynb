{
 "cells": [
  {
   "cell_type": "markdown",
   "id": "5c5d5880",
   "metadata": {},
   "source": [
    "# Non linear optimization: validity of Wolfe conditions\n",
    "\n",
    "## Introduction to optimization and operations research\n",
    "\n",
    "Michel Bierlaire\n"
   ]
  },
  {
   "cell_type": "code",
   "execution_count": null,
   "id": "f4f49cdc",
   "metadata": {},
   "outputs": [],
   "source": [
    "\n",
    "import matplotlib.pyplot as plt\n",
    "import numpy as np\n"
   ]
  },
  {
   "cell_type": "markdown",
   "id": "670b9ddf",
   "metadata": {},
   "source": [
    "In this lab, you will test the **validity of the Wolfe conditions** in an inexact line search.\n",
    "You will work with a univariate function g(α) = f(x + α d), compute g′(α), and check the\n",
    "**first Wolfe condition** (sufficient decrease) and the **second Wolfe condition** (sufficient progress)\n",
    "in the **correct order**. You will diagnose whether a trial step is “too long” or “too short”,\n",
    "and visualize both conditions on the same plot to see how their thresholds delimit acceptable\n",
    "step sizes. The goal is to connect the algebra (derivatives and inequalities) with practical\n",
    "line‑search decisions, so you understand *why* algorithms shrink or accept a step and how to\n",
    "propose α that satisfies **both** conditions."
   ]
  },
  {
   "cell_type": "markdown",
   "id": "9ce31f16",
   "metadata": {},
   "source": [
    "We are performing a line search along a direction $d$ at a point\n",
    "$x$. The function evaluated at $x+\\alpha d$ is defined as\n",
    "$$\n",
    "g(\\alpha) = f(x+\\alpha d) = -1.833 \\alpha^3 + 8.5 \\alpha^2  - 10 \\alpha + 5.\n",
    "$$\n",
    "Consider the step $\\alpha=3$.\n",
    "Consider the first Wolfe condition with $\\beta_1=0.15$ and the second\n",
    "Wolfe condition with $\\beta_2=0.8$."
   ]
  },
  {
   "cell_type": "markdown",
   "id": "ca0bc0b6",
   "metadata": {},
   "source": [
    "# Question 1\n",
    "Is the step $\\alpha=3$ too short, or too long?"
   ]
  },
  {
   "cell_type": "markdown",
   "id": "844d5132",
   "metadata": {},
   "source": [
    "As\n",
    "$$\n",
    "g(\\alpha) = f(x+\\alpha d) = -1.833 \\alpha^3 + 8.5 \\alpha^2  - 10 \\alpha + 5,\n",
    "$$\n",
    "the directional derivative  is\n",
    "$$\n",
    "g'(\\alpha) = -3 \\cdot 1.833 \\alpha^2 + 2 \\cdot 8.5 \\alpha  - 10.\n",
    "$$\n",
    "Therefore, the second Wolfe condition for $\\alpha=3$  is\n",
    "\\begin{align*}\n",
    "\\frac{g'(3)}{g'(0)}& \\stackrel{?}{\\leq} \\beta_2, \\\\\n",
    "-8.5 / -10 = 0.85 &\\stackrel{?}{\\leq} 0.8. \\\\\n",
    "\\end{align*}\n",
    "It is violated. Therefore, it is tempting to conclude that the step is\n",
    "too short.\n",
    "The first Wolfe condition for $\\alpha = 3$ is\n",
    "\\begin{align*}\n",
    "g(3) &\\stackrel{?}{\\leq} g(0) + 3 \\beta_1 g'(0), \\\\\n",
    "2.009 &\\stackrel{?}{\\leq} 5 - 4.5 = 0.5.\n",
    "\\end{align*}\n",
    "It is also violated. Therefore, it is tempting to conclude that the\n",
    "step is too long.\n",
    "\n",
    "However, a step cannot be both too short and too long. The two\n",
    "conditions must be verified in the right order. The\n",
    "first Wolfe condition must be checked first. If it is violated, we\n",
    "conclude that the step is too long, and we do not need to consider the\n",
    "second condition. The second Wolfe condition is checked only when the\n",
    "step is not deemed too long by the first condition.\n",
    "\n",
    "In the case described above, the step is too long, as it violates the\n",
    "first condition. And the algorithm\n",
    "should make it shorter."
   ]
  },
  {
   "cell_type": "markdown",
   "id": "d1d86398",
   "metadata": {},
   "source": [
    "In the  figure below, the value of $g(\\alpha)$ is plotted in blue, the\n",
    "line\n",
    "$$\n",
    "g(0) + 3 \\beta_1 g'(0)\n",
    "$$\n",
    "characterizing the first Wolfe condition is plotted in red, and the\n",
    "ratio\n",
    "$$\n",
    "\\frac{g'(\\alpha)}{g'(0)}\n",
    "$$\n",
    "characterizing the second Wolfe condition is plotted in green, as well\n",
    "as the threshold value $\\beta_2=0.8$. The dotted vertical line\n",
    "corresponds to $\\alpha=3$.\n",
    "Let's draw the function."
   ]
  },
  {
   "cell_type": "markdown",
   "id": "633de67e",
   "metadata": {},
   "source": [
    "Define the functions"
   ]
  },
  {
   "cell_type": "code",
   "execution_count": null,
   "id": "8834fa0d",
   "metadata": {},
   "outputs": [],
   "source": [
    "def function_g(x):\n",
    "    return -1.833 * x**3 + 8.5 * x**2 - 10 * x + 5\n",
    "\n",
    "\n",
    "\n",
    "\n",
    "def wolfe_1(x):\n",
    "    return 5 - 0.15 * 10 * x\n",
    "\n",
    "\n",
    "\n",
    "\n",
    "def ratio_wolfe_2(x):\n",
    "    return (-1.833 * 3 * x**2 + 2 * 8.5 * x - 10) / -10\n",
    "\n",
    "\n",
    "\n"
   ]
  },
  {
   "cell_type": "markdown",
   "id": "1e9c4a10",
   "metadata": {},
   "source": [
    "Prepare the figure."
   ]
  },
  {
   "cell_type": "code",
   "execution_count": null,
   "id": "01799b2c",
   "metadata": {},
   "outputs": [],
   "source": [
    "x = np.linspace(0, 4, 400)\n",
    "\n",
    "plt.figure(figsize=(8, 6))\n",
    "plt.plot(\n",
    "    x,\n",
    "    function_g(x),\n",
    "    color='blue',\n",
    "    linewidth=2,\n",
    "    label=r'$-1.833x^3 + 8.5x^2 - 10x + 5$',\n",
    ")\n",
    "plt.plot(x, wolfe_1(x), color='red', linewidth=2, label=r'$\\beta_1=0.15$')\n",
    "plt.plot(x, ratio_wolfe_2(x), color='green', linewidth=2, label=r'$\\beta_2=0.8$')\n",
    "\n",
    "plt.axvline(x=3, color='black', linestyle=':', linewidth=1)\n",
    "plt.axvline(x=0.1225, color='blue', linestyle='--', linewidth=1)\n",
    "plt.axvline(x=1.45912, color='blue', linestyle='--', linewidth=1)\n",
    "\n",
    "plt.axhline(y=0.8, color='green', linestyle='-', linewidth=1)\n",
    "\n",
    "plt.xlabel(r'$\\alpha$', fontsize=14)\n",
    "plt.ylabel(r'$g(\\alpha)$', fontsize=14)\n",
    "\n",
    "plt.xlim(0, 4)\n",
    "plt.ylim(-1, 5)\n",
    "\n",
    "plt.text(\n",
    "    1.2, wolfe_1(1.2), r'$\\beta_1=0.15$', color='red', fontsize=12, rotation=0\n",
    ")\n",
    "plt.text(2.5, 0.9, r'$\\beta_2=0.8$', color='green', fontsize=12, rotation=0)\n",
    "\n",
    "plt.grid(False)\n",
    "plt.gca().spines['right'].set_color('none')\n",
    "plt.gca().spines['top'].set_color('none')\n",
    "plt.gca().xaxis.set_ticks_position('bottom')\n",
    "plt.gca().yaxis.set_ticks_position('left')\n",
    "plt.gca().spines['bottom'].set_position('zero')\n",
    "plt.gca().spines['left'].set_position('zero')\n",
    "\n",
    "plt.show()\n"
   ]
  },
  {
   "cell_type": "markdown",
   "id": "d3f87568",
   "metadata": {},
   "source": [
    "# Question 2\n",
    "Propose a value of $\\alpha$ that verifies both Wolfe conditions."
   ]
  },
  {
   "cell_type": "markdown",
   "id": "af166a1e",
   "metadata": {},
   "source": [
    "All values of $\\alpha$ such that\n",
    "$$\n",
    "0.12251 \\leq \\alpha \\leq 1.45912,\n",
    "$$\n",
    "verify both conditions. The two thresholds are identified by the two\n",
    "dashed blue vertical lines on the picture above."
   ]
  }
 ],
 "metadata": {},
 "nbformat": 4,
 "nbformat_minor": 5
}
